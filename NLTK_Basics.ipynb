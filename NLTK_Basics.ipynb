{
 "cells": [
  {
   "cell_type": "markdown",
   "metadata": {},
   "source": [
    "# I'm learning  NLTK + Stanford NLP package"
   ]
  },
  {
   "cell_type": "markdown",
   "metadata": {},
   "source": [
    "---"
   ]
  },
  {
   "cell_type": "markdown",
   "metadata": {},
   "source": [
    "## Pattern matching of a sentence:"
   ]
  },
  {
   "cell_type": "markdown",
   "metadata": {},
   "source": [
    "#### Regular Expression"
   ]
  },
  {
   "cell_type": "markdown",
   "metadata": {},
   "source": [
    "e.g. a sentence: \"the cat barked or swam\" can be matched via the Regular Expression:\n",
    "\n",
    "((the|a)(cat|dog|fish))(barked|slept|swam)((and|or)(barked|slept|swam))*"
   ]
  },
  {
   "cell_type": "code",
   "execution_count": 124,
   "metadata": {
    "collapsed": false
   },
   "outputs": [
    {
     "name": "stdout",
     "output_type": "stream",
     "text": [
      "1\n"
     ]
    }
   ],
   "source": [
    "alist=[7,1,3,4,5]\n",
    "print(min(alist))"
   ]
  },
  {
   "cell_type": "code",
   "execution_count": 114,
   "metadata": {
    "collapsed": true
   },
   "outputs": [],
   "source": [
    "import re"
   ]
  },
  {
   "cell_type": "code",
   "execution_count": 122,
   "metadata": {
    "collapsed": false
   },
   "outputs": [
    {
     "name": "stdout",
     "output_type": "stream",
     "text": [
      "False\n"
     ]
    }
   ],
   "source": [
    "string=\"One person found xxx helpful\"\n",
    "if (\"One\" in string):\n",
    "    print(True)\n",
    "else:\n",
    "    print(False)"
   ]
  },
  {
   "cell_type": "code",
   "execution_count": 87,
   "metadata": {
    "collapsed": false
   },
   "outputs": [
    {
     "name": "stdout",
     "output_type": "stream",
     "text": [
      "('the cat', 'the', 'cat', 'barked', 'or swam', 'or', 'swam')\n",
      "the cat barked or swam \n",
      "\n",
      "(0, 22)\n",
      "0\n",
      "22 \n",
      "\n",
      "t \n",
      "m \n",
      "the cat barked or swam\n"
     ]
    }
   ],
   "source": [
    "pattern=\"((the|a) (cat|dog|fish)) (barked|slept|swam) ((and|or) (barked|slept|swam))*\"\n",
    "\n",
    "m=re.match(pattern, \"the cat barked or swam\")\n",
    "\n",
    "print m.groups()\n",
    "print m.group(),\"\\n\"\n",
    "\n",
    "print m.span()\n",
    "print m.start()\n",
    "\n",
    "print m.end(),\"\\n\"\n",
    "print m.group()[0],\"\\n\",m.group()[21],\"\\n\",m.group()[0:22]"
   ]
  },
  {
   "cell_type": "markdown",
   "metadata": {},
   "source": [
    "---"
   ]
  },
  {
   "cell_type": "markdown",
   "metadata": {},
   "source": [
    "Another way to match a sentence is to construct a regular grammar:"
   ]
  },
  {
   "cell_type": "markdown",
   "metadata": {},
   "source": [
    "#### Regular Grammar"
   ]
  },
  {
   "cell_type": "code",
   "execution_count": 40,
   "metadata": {
    "collapsed": false
   },
   "outputs": [
    {
     "name": "stdout",
     "output_type": "stream",
     "text": [
      "(S the (S1 cat (VP barked (VP1 (C or) (VP swam)))))\n"
     ]
    },
    {
     "data": {
      "image/png": "[encoded data removed]",
      "text/plain": [
       "Tree('S', ['the', Tree('S1', ['cat', Tree('VP', ['barked', Tree('VP1', [Tree('C', ['or']), Tree('VP', ['swam'])])])])])"
      ]
     },
     "metadata": {},
     "output_type": "display_data"
    }
   ],
   "source": [
    "from IPython.core.display import display\n",
    "\n",
    "grammar = nltk.CFG.fromstring(\"\"\"\n",
    "S -> 'the' S1\n",
    "S1 -> 'cat' VP\n",
    "VP -> 'barked' VP1\n",
    "VP1 ->  C VP\n",
    "C  -> 'or' | 'and'\n",
    "VP -> 'swam'\n",
    "\"\"\")\n",
    "\n",
    "sent = ['the', 'cat', 'barked', 'or', 'swam']\n",
    "parser = nltk.ChartParser(grammar)\n",
    "for tree in parser.parse(sent):\n",
    "    print tree\n",
    "    display(tree)"
   ]
  },
  {
   "cell_type": "markdown",
   "metadata": {},
   "source": [
    "Now, here is a sentence which shows ambiguity since it can be parsed into two different trees.\n",
    "\n",
    "(http://www.nltk.org/book/ch08.html)"
   ]
  },
  {
   "cell_type": "markdown",
   "metadata": {},
   "source": [
    ">A well-known example of ambiguity is shown in (2), from the Groucho Marx movie, Animal Crackers (1930):\n",
    "\n",
    ">(2)\t\tWhile hunting in Africa, I shot an elephant in my pajamas. How he got into my pajamas, I don't know."
   ]
  },
  {
   "cell_type": "markdown",
   "metadata": {},
   "source": [
    ">This grammar permits the sentence to be analyzed in two ways, depending on whether the prepositional phrase in my pajamas describes the elephant or the shooting event."
   ]
  },
  {
   "cell_type": "code",
   "execution_count": 27,
   "metadata": {
    "collapsed": false
   },
   "outputs": [
    {
     "name": "stdout",
     "output_type": "stream",
     "text": [
      "(S\n",
      "  (NP I)\n",
      "  (VP\n",
      "    (VP (V shot) (NP (Det an) (N elephant)))\n",
      "    (PP (P in) (NP (Det my) (N pajamas)))))\n"
     ]
    },
    {
     "data": {
      "image/png": "[encoded data removed]",
      "text/plain": [
       "Tree('S', [Tree('NP', ['I']), Tree('VP', [Tree('VP', [Tree('V', ['shot']), Tree('NP', [Tree('Det', ['an']), Tree('N', ['elephant'])])]), Tree('PP', [Tree('P', ['in']), Tree('NP', [Tree('Det', ['my']), Tree('N', ['pajamas'])])])])])"
      ]
     },
     "metadata": {},
     "output_type": "display_data"
    },
    {
     "name": "stdout",
     "output_type": "stream",
     "text": [
      "(S\n",
      "  (NP I)\n",
      "  (VP\n",
      "    (V shot)\n",
      "    (NP (Det an) (N elephant) (PP (P in) (NP (Det my) (N pajamas))))))\n"
     ]
    },
    {
     "data": {
      "image/png": "[encoded data removed]",
      "text/plain": [
       "Tree('S', [Tree('NP', ['I']), Tree('VP', [Tree('V', ['shot']), Tree('NP', [Tree('Det', ['an']), Tree('N', ['elephant']), Tree('PP', [Tree('P', ['in']), Tree('NP', [Tree('Det', ['my']), Tree('N', ['pajamas'])])])])])])"
      ]
     },
     "metadata": {},
     "output_type": "display_data"
    }
   ],
   "source": [
    "from IPython.core.display import display\n",
    "\n",
    "groucho_grammar = nltk.CFG.fromstring(\"\"\"\n",
    "S -> NP VP\n",
    "PP -> P NP\n",
    "NP -> Det N | Det N PP | 'I'\n",
    "VP -> V NP | VP PP\n",
    "Det -> 'an' | 'my'\n",
    "N -> 'elephant' | 'pajamas'\n",
    "V -> 'shot'\n",
    "P -> 'in'\n",
    "\"\"\")\n",
    "sent = ['I', 'shot', 'an', 'elephant', 'in', 'my', 'pajamas']\n",
    "parser = nltk.ChartParser(groucho_grammar)\n",
    "for tree in parser.parse(sent):\n",
    "    print tree\n",
    "    display(tree)"
   ]
  },
  {
   "cell_type": "markdown",
   "metadata": {},
   "source": [
    "---"
   ]
  },
  {
   "cell_type": "markdown",
   "metadata": {},
   "source": [
    "## Stanford NLP + Python NLTK"
   ]
  },
  {
   "cell_type": "markdown",
   "metadata": {},
   "source": [
    "Stanford NLP\n",
    "* http://nlp.stanford.edu/software/\n",
    "\n",
    "Installation guides\n",
    "* https://github.com/nltk/nltk/wiki/Installing-Third-Party-Software\n",
    "* http://www.cnblogs.com/baiboy/p/nltk1.html"
   ]
  },
  {
   "cell_type": "markdown",
   "metadata": {},
   "source": [
    "#### I. 分詞"
   ]
  },
  {
   "cell_type": "code",
   "execution_count": 2,
   "metadata": {
    "collapsed": false
   },
   "outputs": [
    {
     "name": "stdout",
     "output_type": "stream",
     "text": [
      "['Good', 'muffins', 'cost', '$', '3.88', 'in', 'New', 'York', '.', 'Please', 'buy', 'me', 'two', 'of', 'them', '.', 'Thanks', '.']\n"
     ]
    }
   ],
   "source": [
    "import nltk\n",
    "import os\n",
    "\n",
    "# 提供環境變數\n",
    "os.environ[\"JAVA_HOME\"] = \"/Library/Java/JavaVirtualMachines/jdk1.8.0_25.jdk/Contents/Home\" \n",
    "os.environ[\"CLASSPATH\"] = \"/Users/chweng/Desktop/StanfordNLP/jars\"\n",
    "os.environ[\"STANFORD_MODELS\"] = \"/Users/chweng/Desktop/StanfordNLP/models\"\n",
    "\n",
    "from nltk.tokenize import StanfordTokenizer\n",
    "\n",
    "tokenizer = StanfordTokenizer()\n",
    "sent = \"Good muffins cost $3.88\\nin New York.  Please buy me\\ntwo of them.\\nThanks.\"\n",
    "print(tokenizer.tokenize(sent))"
   ]
  },
  {
   "cell_type": "markdown",
   "metadata": {},
   "source": [
    "#### II. 命名實體識別"
   ]
  },
  {
   "cell_type": "code",
   "execution_count": 9,
   "metadata": {
    "collapsed": false
   },
   "outputs": [
    {
     "name": "stdout",
     "output_type": "stream",
     "text": [
      "[('New', 'LOCATION')]\n",
      "[('Rami', 'PERSON'), ('Eid', 'PERSON'), ('is', 'O'), ('studying', 'O'), ('at', 'O'), ('Stony', 'ORGANIZATION'), ('Brook', 'ORGANIZATION'), ('University', 'ORGANIZATION'), ('in', 'O'), ('New', 'LOCATION'), ('York', 'LOCATION')]\n"
     ]
    }
   ],
   "source": [
    "import nltk\n",
    "import os\n",
    "\n",
    "os.environ[\"JAVA_HOME\"] = \"/Library/Java/JavaVirtualMachines/jdk1.8.0_25.jdk/Contents/Home\" \n",
    "os.environ[\"CLASSPATH\"] = \"/Users/chweng/Desktop/StanfordNLP/jars\"\n",
    "os.environ[\"STANFORD_MODELS\"] = \"/Users/chweng/Desktop/StanfordNLP/models\"\n",
    "\n",
    "from nltk.tag import StanfordNERTagger\n",
    "eng_tagger = StanfordNERTagger(model_filename=r'english.all.3class.distsim.crf.ser.gz')\n",
    "print(eng_tagger.tag(['New York',]))\n",
    "print(eng_tagger.tag('Rami Eid is studying at Stony Brook University in New York'.split()))"
   ]
  },
  {
   "cell_type": "markdown",
   "metadata": {},
   "source": [
    "#### III. 詞性標註"
   ]
  },
  {
   "cell_type": "code",
   "execution_count": 11,
   "metadata": {
    "collapsed": false
   },
   "outputs": [
    {
     "name": "stdout",
     "output_type": "stream",
     "text": [
      "[('What', 'WP'), ('is', 'VBZ'), ('the', 'DT'), ('airspeed', 'NN'), ('of', 'IN'), ('an', 'DT'), ('unladen', 'JJ'), ('swallow', 'VB'), ('?', '.')]\n"
     ]
    }
   ],
   "source": [
    "from nltk.tag import StanfordPOSTagger\n",
    "\n",
    "os.environ[\"JAVA_HOME\"] = \"/Library/Java/JavaVirtualMachines/jdk1.8.0_25.jdk/Contents/Home\" \n",
    "os.environ[\"CLASSPATH\"] = \"/Users/chweng/Desktop/StanfordNLP/jars\"\n",
    "os.environ[\"STANFORD_MODELS\"] = \"/Users/chweng/Desktop/StanfordNLP/models\"\n",
    "\n",
    "eng_tagger = StanfordPOSTagger(model_filename=r'english-bidirectional-distsim.tagger')\n",
    "print(eng_tagger.tag('What is the airspeed of an unladen swallow ?'.split()))"
   ]
  },
  {
   "cell_type": "markdown",
   "metadata": {},
   "source": [
    "#### IV. 語法解析"
   ]
  },
  {
   "cell_type": "code",
   "execution_count": 16,
   "metadata": {
    "collapsed": false
   },
   "outputs": [
    {
     "name": "stdout",
     "output_type": "stream",
     "text": [
      "(ROOT\n",
      "  (NP\n",
      "    (NP (DT the) (JJ quick) (JJ brown) (NN fox))\n",
      "    (NP\n",
      "      (NP (NNS jumps))\n",
      "      (PP (IN over) (NP (DT the) (JJ lazy) (NN dog))))))\n"
     ]
    },
    {
     "data": {
      "image/png": "[encoded data removed]",
      "text/plain": [
       "Tree('ROOT', [Tree('NP', [Tree('NP', [Tree('DT', ['the']), Tree('JJ', ['quick']), Tree('JJ', ['brown']), Tree('NN', ['fox'])]), Tree('NP', [Tree('NP', [Tree('NNS', ['jumps'])]), Tree('PP', [Tree('IN', ['over']), Tree('NP', [Tree('DT', ['the']), Tree('JJ', ['lazy']), Tree('NN', ['dog'])])])])])])"
      ]
     },
     "metadata": {},
     "output_type": "display_data"
    }
   ],
   "source": [
    "from nltk.parse.stanford import StanfordParser\n",
    "from IPython.core.display import display\n",
    "\n",
    "os.environ[\"JAVA_HOME\"] = \"/Library/Java/JavaVirtualMachines/jdk1.8.0_25.jdk/Contents/Home\" \n",
    "os.environ[\"CLASSPATH\"] = \"/Users/chweng/Desktop/StanfordNLP/jars\"\n",
    "os.environ[\"STANFORD_MODELS\"] = \"/Users/chweng/Desktop/StanfordNLP/models\"\n",
    "\n",
    "eng_parser = StanfordParser()\n",
    "structure=eng_parser.parse(\"the quick brown fox jumps over the lazy dog\".split())\n",
    "\n",
    "for tree in structure:\n",
    "    print(tree)\n",
    "    display(tree)\n",
    "\n",
    "#print(list(eng_parser.parse(\"the quick brown fox jumps over the lazy dog\".split())))"
   ]
  },
  {
   "cell_type": "markdown",
   "metadata": {},
   "source": [
    "#### V. 依存語法解析"
   ]
  },
  {
   "cell_type": "code",
   "execution_count": 17,
   "metadata": {
    "collapsed": false
   },
   "outputs": [
    {
     "name": "stdout",
     "output_type": "stream",
     "text": [
      "(('fox', 'NN'), 'det', ('the', 'DT'))\n",
      "(('fox', 'NN'), 'amod', ('quick', 'JJ'))\n",
      "(('fox', 'NN'), 'amod', ('brown', 'JJ'))\n",
      "(('fox', 'NN'), 'dep', ('jumps', 'NNS'))\n",
      "(('jumps', 'NNS'), 'nmod', ('dog', 'NN'))\n",
      "(('dog', 'NN'), 'case', ('over', 'IN'))\n",
      "(('dog', 'NN'), 'det', ('the', 'DT'))\n",
      "(('dog', 'NN'), 'amod', ('lazy', 'JJ'))\n"
     ]
    }
   ],
   "source": [
    "from nltk.parse.stanford import StanfordDependencyParser\n",
    "\n",
    "os.environ[\"JAVA_HOME\"] = \"/Library/Java/JavaVirtualMachines/jdk1.8.0_25.jdk/Contents/Home\" \n",
    "os.environ[\"CLASSPATH\"] = \"/Users/chweng/Desktop/StanfordNLP/jars\"\n",
    "os.environ[\"STANFORD_MODELS\"] = \"/Users/chweng/Desktop/StanfordNLP/models\"\n",
    "\n",
    "eng_parser = StanfordDependencyParser()\n",
    "res = list(eng_parser.parse(\"the quick brown fox jumps over the lazy dog\".split()))\n",
    "for row in res[0].triples():\n",
    "    print(row)"
   ]
  },
  {
   "cell_type": "markdown",
   "metadata": {},
   "source": [
    "---"
   ]
  },
  {
   "cell_type": "markdown",
   "metadata": {},
   "source": [
    "## 稍微了解一下Stanford NLP套件後，我們再回到Python NLTK："
   ]
  },
  {
   "cell_type": "markdown",
   "metadata": {},
   "source": [
    "http://www.cnblogs.com/baiboy/p/nltk4.html"
   ]
  },
  {
   "cell_type": "code",
   "execution_count": 82,
   "metadata": {
    "collapsed": false
   },
   "outputs": [
    {
     "name": "stdout",
     "output_type": "stream",
     "text": [
      "['austen-emma.txt', 'austen-persuasion.txt', 'austen-sense.txt', 'bible-kjv.txt', 'blake-poems.txt', 'bryant-stories.txt', 'burgess-busterbrown.txt', 'carroll-alice.txt', 'chesterton-ball.txt', 'chesterton-brown.txt', 'chesterton-thursday.txt', 'edgeworth-parents.txt', 'melville-moby_dick.txt', 'milton-paradise.txt', 'shakespeare-caesar.txt', 'shakespeare-hamlet.txt', 'shakespeare-macbeth.txt', 'whitman-leaves.txt']\n"
     ]
    }
   ],
   "source": [
    "import nltk\n",
    "print(nltk.corpus.gutenberg.fileids())"
   ]
  },
  {
   "cell_type": "markdown",
   "metadata": {},
   "source": [
    "#### 先以 gutenberg語料庫中的 Leaves of Grass by Walt Whitman為例。接下來的一些範例可以讓我們了解以下四個方法的意義：\n",
    "* nltk.corpus.gutenberg.fileids()\n",
    "* nltk.corpus.gutenberg.raw()\n",
    "* nltk.corpus.gutenberg.sents()\n",
    "* nltk.corpus.gutenberg.words()"
   ]
  },
  {
   "cell_type": "code",
   "execution_count": 56,
   "metadata": {
    "collapsed": false
   },
   "outputs": [
    {
     "name": "stdout",
     "output_type": "stream",
     "text": [
      "[Leaves of Grass by Walt Whitman 1855]\n",
      "\n",
      "\n",
      "Come, said my soul,\n",
      "Such verses for my Body let us write, (for we are one,)\n",
      "That should I after return,\n",
      "Or, long, long hence, in other spheres,\n",
      "There to some group of mates the chants resuming,\n",
      "(Tallying Earth's soil, trees, winds, tumultuous waves,)\n",
      "Ever with pleas'd smile I may keep on,\n",
      "Ever and ever yet the verses owning--as, first, I here and now\n",
      "Signing for Soul and Body, set to them my name,\n",
      "\n",
      "Walt Whitman\n",
      "\n",
      "\n",
      "\n",
      "[BOOK I.  INSCRIPTIONS]\n",
      "\n",
      "}  One's-Self I \n"
     ]
    }
   ],
   "source": [
    "print(nltk.corpus.gutenberg.raw(\"whitman-leaves.txt\")[:500])"
   ]
  },
  {
   "cell_type": "markdown",
   "metadata": {},
   "source": [
    "#### 印出該文前100字"
   ]
  },
  {
   "cell_type": "code",
   "execution_count": 71,
   "metadata": {
    "collapsed": false
   },
   "outputs": [
    {
     "name": "stdout",
     "output_type": "stream",
     "text": [
      "['[', 'Leaves', 'of', 'Grass', 'by', 'Walt', 'Whitman', '1855', ']', 'Come', ',', 'said', 'my', 'soul', ',', 'Such', 'verses', 'for', 'my', 'Body', 'let', 'us', 'write', ',', '(', 'for', 'we', 'are', 'one', ',)', 'That', 'should', 'I', 'after', 'return', ',', 'Or', ',', 'long', ',', 'long', 'hence', ',', 'in', 'other', 'spheres', ',', 'There', 'to', 'some', 'group', 'of', 'mates', 'the', 'chants', 'resuming', ',', '(', 'Tallying', 'Earth', \"'\", 's', 'soil', ',', 'trees', ',', 'winds', ',', 'tumultuous', 'waves', ',)', 'Ever', 'with', 'pleas', \"'\", 'd', 'smile', 'I', 'may', 'keep', 'on', ',', 'Ever', 'and', 'ever', 'yet', 'the', 'verses', 'owning', '--', 'as', ',', 'first', ',', 'I', 'here', 'and', 'now', 'Signing', 'for']\n"
     ]
    }
   ],
   "source": [
    "print(nltk.corpus.gutenberg.words(\"whitman-leaves.txt\")[:100])"
   ]
  },
  {
   "cell_type": "markdown",
   "metadata": {},
   "source": [
    "#### 印出該文前兩句"
   ]
  },
  {
   "cell_type": "code",
   "execution_count": 67,
   "metadata": {
    "collapsed": false
   },
   "outputs": [
    {
     "name": "stdout",
     "output_type": "stream",
     "text": [
      "['[', 'Leaves', 'of', 'Grass', 'by', 'Walt', 'Whitman', '1855', ']']\n",
      "['Come', ',', 'said', 'my', 'soul', ',', 'Such', 'verses', 'for', 'my', 'Body', 'let', 'us', 'write', ',', '(', 'for', 'we', 'are', 'one', ',)', 'That', 'should', 'I', 'after', 'return', ',', 'Or', ',', 'long', ',', 'long', 'hence', ',', 'in', 'other', 'spheres', ',', 'There', 'to', 'some', 'group', 'of', 'mates', 'the', 'chants', 'resuming', ',', '(', 'Tallying', 'Earth', \"'\", 's', 'soil', ',', 'trees', ',', 'winds', ',', 'tumultuous', 'waves', ',)', 'Ever', 'with', 'pleas', \"'\", 'd', 'smile', 'I', 'may', 'keep', 'on', ',', 'Ever', 'and', 'ever', 'yet', 'the', 'verses', 'owning', '--', 'as', ',', 'first', ',', 'I', 'here', 'and', 'now', 'Signing', 'for', 'Soul', 'and', 'Body', ',', 'set', 'to', 'them', 'my', 'name', ',']\n"
     ]
    }
   ],
   "source": [
    "for j in range(2):\n",
    "    print( nltk.corpus.gutenberg.sents(\"whitman-leaves.txt\")[j])"
   ]
  },
  {
   "cell_type": "markdown",
   "metadata": {},
   "source": [
    "#### 印出文本尺寸，文本總字數，平均詞長，句長等"
   ]
  },
  {
   "cell_type": "code",
   "execution_count": 45,
   "metadata": {
    "collapsed": false
   },
   "outputs": [
    {
     "name": "stdout",
     "output_type": "stream",
     "text": [
      "12452 154883\n",
      "4 36 12 whitman-leaves.txt\n"
     ]
    }
   ],
   "source": [
    "num_char = len(nltk.corpus.gutenberg.raw(\"whitman-leaves.txt\"))    # 原始文本的长度，包括空格、符号等\n",
    "num_words = len(nltk.corpus.gutenberg.words(\"whitman-leaves.txt\")) # 词的数量\n",
    "num_sents = len(nltk.corpus.gutenberg.sents(\"whitman-leaves.txt\")) # 句子的数量\n",
    "num_vocab = len(set([w.lower() for w in nltk.corpus.gutenberg.words(\"whitman-leaves.txt\")])) #文本的尺寸\n",
    "\n",
    "# 印出文本尺寸，以及文本總字數\n",
    "print(len(set([w.lower() for w in nltk.corpus.gutenberg.words(\"whitman-leaves.txt\")])),len([w.lower() for w in nltk.corpus.gutenberg.words(\"whitman-leaves.txt\")]))\n",
    "\n",
    "# 印出平均詞長（包括一个空白符号）、平均句子長度、和文本中每个詞出现的平均次数\n",
    "print(int(num_char/num_words),int(num_words/num_sents),int(num_words/num_vocab),\"whitman-leaves.txt\")"
   ]
  },
  {
   "cell_type": "markdown",
   "metadata": {},
   "source": [
    "#### nltk.FreqDist() can be used to calculate the frequency of words showing in the text."
   ]
  },
  {
   "cell_type": "code",
   "execution_count": 84,
   "metadata": {
    "collapsed": false
   },
   "outputs": [
    {
     "name": "stdout",
     "output_type": "stream",
     "text": [
      "['adventure', 'belles_lettres', 'editorial', 'fiction', 'government', 'hobbies', 'humor', 'learned', 'lore', 'mystery', 'news', 'religion', 'reviews', 'romance', 'science_fiction']\n",
      "\n",
      "\n",
      "\tThe/at Fulton/np-tl County/nn-tl Grand/jj-tl Jury/nn-tl said/vbd Friday/nr an/at investigation/nn of/in Atlanta's/np$ recent/jj primary/nn election/nn produced/vbd ``/`` no/at evidence/nn ''/'' that/cs any/dti irregularities/nns took/vbd place/nn ./.\n",
      "\n",
      "\n",
      "\tThe/at jury/nn further/rbr said/vbd in/in t\n",
      "\n",
      "can: 94\n",
      "could: 87\n",
      "may: 93\n",
      "might: 38\n",
      "must: 53\n",
      "will: 389\n"
     ]
    }
   ],
   "source": [
    "import nltk\n",
    "from nltk.corpus import brown\n",
    "\n",
    "print(brown.categories())\n",
    "\n",
    "new_texts=brown.words(categories='news')\n",
    "print(brown.raw(categories='news')[:300]+\"\\n\")\n",
    "wfreq=nltk.FreqDist([w.lower() for w in new_texts])\n",
    "modals=['can','could','may','might','must','will']\n",
    "for m in modals:\n",
    "    print(m + ':',wfreq[m])"
   ]
  },
  {
   "cell_type": "code",
   "execution_count": 50,
   "metadata": {
    "collapsed": false
   },
   "outputs": [
    {
     "data": {
      "text/plain": [
       "100554"
      ]
     },
     "execution_count": 50,
     "metadata": {},
     "output_type": "execute_result"
    }
   ],
   "source": [
    "len([w.lower() for w in new_texts])"
   ]
  },
  {
   "cell_type": "markdown",
   "metadata": {},
   "source": [
    "#### the method {str}.startswith()"
   ]
  },
  {
   "cell_type": "code",
   "execution_count": 92,
   "metadata": {
    "collapsed": false
   },
   "outputs": [
    {
     "name": "stdout",
     "output_type": "stream",
     "text": [
      "False\n",
      "True\n"
     ]
    }
   ],
   "source": [
    "a='123 as2'\n",
    "print(a.startswith('123 111'))\n",
    "print(a.startswith('123 a'))"
   ]
  },
  {
   "cell_type": "code",
   "execution_count": 95,
   "metadata": {
    "collapsed": false
   },
   "outputs": [
    {
     "name": "stdout",
     "output_type": "stream",
     "text": [
      "['Fellow', 'citizens', ',', 'I', 'am', 'again', 'called', 'upon', 'by', 'the', 'voice', 'of', 'my', 'country', 'to', 'execute', 'the', 'functions', 'of', 'its', 'Chief', 'Magistrate', '.', 'When', 'the', 'occasion', 'proper', 'for', 'it', 'shall', 'arrive', ',', 'I', 'shall', 'endeavor', 'to', 'express', 'the', 'high', 'sense', 'I', 'entertain', 'of', 'this', 'distinguished', 'honor', ',', 'and', 'of', 'the', 'confidence', 'which', 'has', 'been', 'reposed', 'in', 'me', 'by', 'the', 'people', 'of', 'united', 'America', '.', 'Previous', 'to', 'the', 'execution', 'of', 'any', 'official', 'act', 'of', 'the', 'President', 'the', 'Constitution', 'requires', 'an', 'oath', 'of', 'office', '.', 'This', 'oath', 'I', 'am', 'now', 'about', 'to', 'take', ',', 'and', 'in', 'your', 'presence', ':', 'That', 'if', 'it', 'shall', 'be', 'found', 'during', 'my', 'administration', 'of', 'the', 'Government', 'I', 'have', 'in', 'any', 'instance', 'violated', 'willingly', 'or', 'knowingly', 'the', 'injunctions', 'thereof', ',', 'I', 'may', '(', 'besides', 'incurring', 'constitutional', 'punishment', ')', 'be', 'subject', 'to', 'the', 'upbraidings', 'of', 'all', 'who', 'are', 'now', 'witnesses', 'of', 'the', 'present', 'solemn', 'ceremony', '.']\n"
     ]
    }
   ],
   "source": [
    "print(inaugural.words(\"1793-Washington.txt\")[:200])"
   ]
  },
  {
   "cell_type": "markdown",
   "metadata": {},
   "source": [
    "#### use the method nltk.ConditionalFreqDist() to calculate the conditional freq. distribution:"
   ]
  },
  {
   "cell_type": "markdown",
   "metadata": {},
   "source": [
    "here's a built-in corpus which records the inaugural speeches of presidents of the U.S."
   ]
  },
  {
   "cell_type": "code",
   "execution_count": 105,
   "metadata": {
    "collapsed": false
   },
   "outputs": [
    {
     "name": "stdout",
     "output_type": "stream",
     "text": [
      "56\n",
      "['1789-Washington.txt', '1793-Washington.txt', '1797-Adams.txt', '1801-Jefferson.txt', '1805-Jefferson.txt', '1809-Madison.txt', '1813-Madison.txt', '1817-Monroe.txt', '1821-Monroe.txt', '1825-Adams.txt', '1829-Jackson.txt', '1833-Jackson.txt', '1837-VanBuren.txt', '1841-Harrison.txt', '1845-Polk.txt', '1849-Taylor.txt', '1853-Pierce.txt', '1857-Buchanan.txt', '1861-Lincoln.txt', '1865-Lincoln.txt', '1869-Grant.txt', '1873-Grant.txt', '1877-Hayes.txt', '1881-Garfield.txt', '1885-Cleveland.txt', '1889-Harrison.txt', '1893-Cleveland.txt', '1897-McKinley.txt', '1901-McKinley.txt', '1905-Roosevelt.txt', '1909-Taft.txt', '1913-Wilson.txt', '1917-Wilson.txt', '1921-Harding.txt', '1925-Coolidge.txt', '1929-Hoover.txt', '1933-Roosevelt.txt', '1937-Roosevelt.txt', '1941-Roosevelt.txt', '1945-Roosevelt.txt', '1949-Truman.txt', '1953-Eisenhower.txt', '1957-Eisenhower.txt', '1961-Kennedy.txt', '1965-Johnson.txt', '1969-Nixon.txt', '1973-Nixon.txt', '1977-Carter.txt', '1981-Reagan.txt', '1985-Reagan.txt', '1989-Bush.txt', '1993-Clinton.txt', '1997-Clinton.txt', '2001-Bush.txt', '2005-Bush.txt', '2009-Obama.txt']\n"
     ]
    },
    {
     "data": {
      "image/png": "[encoded data removed]",
      "text/plain": [
       "<matplotlib.figure.Figure at 0x10c762198>"
      ]
     },
     "metadata": {},
     "output_type": "display_data"
    },
    {
     "name": "stdout",
     "output_type": "stream",
     "text": [
      "        1789 1793 1797 1801 1805 1809 1813 1817 1821 1825 1829 1833 1837 1841 1845 1849 1853 1857 1861 1865 1869 1873 1877 1881 1885 1889 1893 1897 1901 1905 1909 1917 1921 1925 1929 1933 1937 1941 1945 1949 1953 1957 1961 1965 1969 1973 1977 1981 1985 1989 1993 1997 2001 2005 2009 \n",
      "america    2    1    8    0    1    0    1    1    2    0    0    2    2    7    0    2    2    3    2    1    0    0    1    2    4    6    9    9    7    0   12    4   24   11   12    2    5   12    2    4    6    7    7   10   10   23    5   16   21   11   33   31   20   30   15 \n",
      "citizen    5    1    6    7   10    1    4   14   15    3    2    3    7   38   11    2    4    7    7    0    5    3    9    9   13   12   10   10    2    1    6    3    6    5   12    1    2    1    1    1    7    0    5    4    1    1    0    3    6    3    2   10   11    7    2 \n"
     ]
    }
   ],
   "source": [
    "from nltk.corpus import inaugural\n",
    "\n",
    "print(len(inaugural.fileids()))\n",
    "print([fileid for fileid in inaugural.fileids()])\n",
    "\n",
    "import nltk\n",
    "cfd=nltk.ConditionalFreqDist((target,fileid[:4]) for fileid in inaugural.fileids() for w in inaugural.words(fileid) for target in ['america','citizen'] if w.lower().startswith(target))\n",
    "cfd.plot()\n",
    "cfd.tabulate()"
   ]
  },
  {
   "cell_type": "code",
   "execution_count": 113,
   "metadata": {
    "collapsed": false
   },
   "outputs": [
    {
     "data": {
      "text/plain": [
       "['citizens',\n",
       " 'citizens',\n",
       " 'citizens',\n",
       " 'citizens',\n",
       " 'citizens',\n",
       " 'american',\n",
       " 'american',\n",
       " 'citizens',\n",
       " 'america',\n",
       " 'america',\n",
       " 'america',\n",
       " 'citizens',\n",
       " 'citizens',\n",
       " 'american',\n",
       " 'america',\n",
       " 'citizen',\n",
       " 'citizens',\n",
       " 'america',\n",
       " 'citizens',\n",
       " 'america']"
      ]
     },
     "execution_count": 113,
     "metadata": {},
     "output_type": "execute_result"
    }
   ],
   "source": [
    "[(w.lower()) for fileid in inaugural.fileids() for w in inaugural.words(fileid) for target in ['america','citizen'] if w.lower().startswith(target)][:20]"
   ]
  },
  {
   "cell_type": "markdown",
   "metadata": {},
   "source": [
    "#### yet another example of the use of the method nltk.ConditionalFreqDist()\n",
    "\n",
    "from http://www.nltk.org/_modules/nltk/probability.html"
   ]
  },
  {
   "cell_type": "code",
   "execution_count": 104,
   "metadata": {
    "collapsed": false
   },
   "outputs": [
    {
     "name": "stdout",
     "output_type": "stream",
     "text": [
      "['the', 'the', 'the', 'dog', 'dog', 'some', 'other', 'words', 'that', 'we', 'do', 'not', 'care', 'about']\n"
     ]
    },
    {
     "data": {
      "image/png": "[encoded data removed]",
      "text/plain": [
       "<matplotlib.figure.Figure at 0x10c762160>"
      ]
     },
     "metadata": {},
     "output_type": "display_data"
    },
    {
     "name": "stdout",
     "output_type": "stream",
     "text": [
      "  about  care    do   dog   not other  some  that   the    we words \n",
      "2     0     0     1     0     0     0     0     0     0     1     0 \n",
      "3     0     0     0     2     1     0     0     0     3     0     0 \n",
      "4     0     1     0     0     0     0     1     1     0     0     0 \n",
      "5     1     0     0     0     0     1     0     0     0     0     1 \n",
      "None\n"
     ]
    }
   ],
   "source": [
    "import nltk\n",
    "from nltk.tokenize import word_tokenize\n",
    "\n",
    "sent = \"the the the dog dog some other words that we do not care about\"\n",
    "print(word_tokenize(sent))\n",
    "cfdist = nltk.ConditionalFreqDist((len(word), word) for word in word_tokenize(sent))\n",
    "cfdist.plot()\n",
    "print(cfdist.tabulate())"
   ]
  },
  {
   "cell_type": "markdown",
   "metadata": {},
   "source": [
    "---"
   ]
  }
 ],
 "metadata": {
  "kernelspec": {
   "display_name": "Python 3",
   "language": "python",
   "name": "python3"
  },
  "language_info": {
   "codemirror_mode": {
    "name": "ipython",
    "version": 3
   },
   "file_extension": ".py",
   "mimetype": "text/x-python",
   "name": "python",
   "nbconvert_exporter": "python",
   "pygments_lexer": "ipython3",
   "version": "3.5.2"
  }
 },
 "nbformat": 4,
 "nbformat_minor": 1
}
