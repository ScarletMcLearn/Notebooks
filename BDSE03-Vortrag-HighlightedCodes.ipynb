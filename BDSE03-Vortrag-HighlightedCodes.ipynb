{
 "cells": [
  {
   "cell_type": "markdown",
   "metadata": {},
   "source": [
    "```java\n",
    "public class EnhancedDoLoopTest{\n",
    "    \n",
    "    public static void main(String args[]){\n",
    "        \n",
    "        int array[]={0,1,2,3,4,5,6,7,8,9};\n",
    "    \n",
    "        for(int element:array){\n",
    "            System.out.println(element);\n",
    "        }\n",
    "    }\n",
    "}\n",
    "```"
   ]
  },
  {
   "cell_type": "code",
   "execution_count": 16,
   "metadata": {
    "collapsed": false
   },
   "outputs": [
    {
     "name": "stdout",
     "output_type": "stream",
     "text": [
      "Overwriting EnhancedDoLoopTest.java\n"
     ]
    }
   ],
   "source": [
    "%%file EnhancedDoLoopTest.java\n",
    "public class EnhancedDoLoopTest{\n",
    "    \n",
    "    public static void main(String args[]){\n",
    "        \n",
    "        int array[]={0,1,2,3,4,5,6,7,8,9};\n",
    "    \n",
    "        for(int element:array){\n",
    "            System.out.println(element);\n",
    "        }\n",
    "    }\n",
    "}"
   ]
  },
  {
   "cell_type": "code",
   "execution_count": 17,
   "metadata": {
    "collapsed": false
   },
   "outputs": [
    {
     "name": "stdout",
     "output_type": "stream",
     "text": [
      "0\r\n",
      "1\r\n",
      "2\r\n",
      "3\r\n",
      "4\r\n",
      "5\r\n",
      "6\r\n",
      "7\r\n",
      "8\r\n",
      "9\r\n"
     ]
    }
   ],
   "source": [
    "!javac EnhancedDoLoopTest.java\n",
    "!java EnhancedDoLoopTest"
   ]
  },
  {
   "cell_type": "markdown",
   "metadata": {},
   "source": [
    "```python\n",
    "for element in range(10):\n",
    "    print element\n",
    "```"
   ]
  },
  {
   "cell_type": "code",
   "execution_count": null,
   "metadata": {
    "collapsed": true
   },
   "outputs": [],
   "source": []
  }
 ],
 "metadata": {
  "kernelspec": {
   "display_name": "Python 2",
   "language": "python",
   "name": "python2"
  },
  "language_info": {
   "codemirror_mode": {
    "name": "ipython",
    "version": 2
   },
   "file_extension": ".py",
   "mimetype": "text/x-python",
   "name": "python",
   "nbconvert_exporter": "python",
   "pygments_lexer": "ipython2",
   "version": "2.7.12"
  }
 },
 "nbformat": 4,
 "nbformat_minor": 1
}
