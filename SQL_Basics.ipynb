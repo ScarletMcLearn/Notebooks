{
 "cells": [
  {
   "cell_type": "markdown",
   "metadata": {},
   "source": [
    "# This notebook is about the very basics of Microsoft T-SQL."
   ]
  },
  {
   "cell_type": "markdown",
   "metadata": {},
   "source": [
    "#### e.g. 1: while loop, try& catch"
   ]
  },
  {
   "cell_type": "markdown",
   "metadata": {},
   "source": [
    "```SQL\n",
    "\n",
    "Declare @x int,\n",
    "        @s int\n",
    "\n",
    "\t\tset @x=1\n",
    "\t\tset @s=0\n",
    "\n",
    "\t\twhile(@x<=10)\n",
    "\t\t    begin\n",
    "\t\t\t\tset @s=@s+@x\n",
    "\t\t\t\tset @x=@x+1\n",
    "\t\t\tend\n",
    "\t\tselect 'the answer= '+ convert(varchar(3),@s)  --use varchar to convert a variable to a string\n",
    "\n",
    "begin try\n",
    "\tselect 1/0\n",
    "end try\n",
    "begin catch -- question: which exception to catch? In this way, all kinds of exceptions will be catched?\n",
    "\tselect 'Exception! The denominator is zero!'  \n",
    "end catch\n",
    "```"
   ]
  },
  {
   "cell_type": "markdown",
   "metadata": {},
   "source": [
    "#### e.g.2 login via entrusted windows local account"
   ]
  },
  {
   "cell_type": "markdown",
   "metadata": {},
   "source": [
    "```SQL\n",
    "C:\\Users\\Student>sqlcmd -E -dDB01\n",
    "1> select * from student\n",
    "2> gi\n",
    "3> go\n",
    "id          name                 bdate            tel\n",
    "----------- -------------------- ---------------- --------------------\n",
    "        101 Geisel                     1980-08-08 012355\n",
    "        102 Schlachter                 1980-08-01 012350\n",
    "\n",
    "(2 個受影響的資料列)\n",
    "```"
   ]
  },
  {
   "cell_type": "markdown",
   "metadata": {},
   "source": [
    "#### e.g. 3 login via user name & password"
   ]
  },
  {
   "cell_type": "markdown",
   "metadata": {},
   "source": [
    "```SQL\n",
    "C:\\Users\\Student>sqlcmd -Usa -PP@ssw0rd -dDB01\n",
    "1> select * from student\n",
    "2> go\n",
    "id          name                 bdate            tel\n",
    "----------- -------------------- ---------------- --------------------\n",
    "        101 Geisel                     1980-08-08 012355\n",
    "        102 Schlachter                 1980-08-01 012350\n",
    "\n",
    "(2 個受影響的資料列)\n",
    "```"
   ]
  },
  {
   "cell_type": "markdown",
   "metadata": {},
   "source": [
    "#### e.g. 4 covers\n",
    "\n",
    "#### I) login via user name &password: specify an SQL server\n",
    "\n",
    "#### II) use select  to select specific columns"
   ]
  },
  {
   "cell_type": "markdown",
   "metadata": {},
   "source": [
    "```SQL\n",
    "C:\\Users\\Student>sqlcmd -Usa -PP@ssw0rd -dDB01 -s localhost:12321\n",
    "1> select * from student\n",
    "2> go\n",
    "id         lname                lbdate           ltel\n",
    "-----------l--------------------l----------------l--------------------\n",
    "        101lGeisel              l      1980-08-08l012355\n",
    "        102lSchlachter          l      1980-08-01l012350\n",
    "\n",
    "(2 個受影響的資料列)\n",
    "1>\n",
    "2>\n",
    "3> select [name][id] from student   --this is wrong. I should add a comma between [name] and [id]\n",
    "4> go\n",
    "id\n",
    "--------------------\n",
    "Geisel\n",
    "Schlachter\n",
    "\n",
    "(2 個受影響的資料列)\n",
    "1> select [name],[id]  from student\n",
    "2> go\n",
    "name                lid\n",
    "--------------------l-----------\n",
    "Geisel              l        101\n",
    "Schlachter          l        102\n",
    "\n",
    "(2 個受影響的資料列)\n",
    "```"
   ]
  }
 ],
 "metadata": {
  "anaconda-cloud": {},
  "kernelspec": {
   "display_name": "Python [Root]",
   "language": "python",
   "name": "Python [Root]"
  },
  "language_info": {
   "codemirror_mode": {
    "name": "ipython",
    "version": 2
   },
   "file_extension": ".py",
   "mimetype": "text/x-python",
   "name": "python",
   "nbconvert_exporter": "python",
   "pygments_lexer": "ipython2",
   "version": "2.7.12"
  }
 },
 "nbformat": 4,
 "nbformat_minor": 0
}
