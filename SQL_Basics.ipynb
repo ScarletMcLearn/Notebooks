{
 "cells": [
  {
   "cell_type": "code",
   "execution_count": 2,
   "metadata": {
    "collapsed": false,
    "deletable": true,
    "editable": true
   },
   "outputs": [],
   "source": [
    "import os\n",
    "import pandas as pd"
   ]
  },
  {
   "cell_type": "markdown",
   "metadata": {
    "deletable": true,
    "editable": true
   },
   "source": [
    "# MySQL"
   ]
  },
  {
   "cell_type": "code",
   "execution_count": 3,
   "metadata": {
    "collapsed": true,
    "deletable": true,
    "editable": true
   },
   "outputs": [],
   "source": [
    "os.chdir('/Users/chweng/Desktop/SQLExerciseOnlineMusicPlayer')"
   ]
  },
  {
   "cell_type": "markdown",
   "metadata": {
    "collapsed": true,
    "deletable": true,
    "editable": true
   },
   "source": [
    "### Create an user"
   ]
  },
  {
   "cell_type": "markdown",
   "metadata": {
    "deletable": true,
    "editable": true
   },
   "source": [
    "While creating an user, we'll see if to give user some privileges such as being able to select columns out of some tables:"
   ]
  },
  {
   "cell_type": "code",
   "execution_count": null,
   "metadata": {
    "collapsed": true,
    "deletable": true,
    "editable": true
   },
   "outputs": [],
   "source": [
    "GRANT ALL PRIVILEGES ON *.* TO 'username'@'%' IDENTIFIED BY 'userpasswd' WITH GRANT OPTION;"
   ]
  },
  {
   "cell_type": "markdown",
   "metadata": {
    "deletable": true,
    "editable": true
   },
   "source": [
    "https://www.techonthenet.com/oracle/grant_revoke.php"
   ]
  },
  {
   "cell_type": "markdown",
   "metadata": {
    "deletable": true,
    "editable": true
   },
   "source": [
    "* with grant option: meaning that this user is able to grant privileges for some other people.\n",
    "* \\*.\\* means the user can access to anyDB.anyTable.\n",
    "* @'%' means that the user is came from any IP."
   ]
  },
  {
   "cell_type": "markdown",
   "metadata": {
    "collapsed": true,
    "deletable": true,
    "editable": true
   },
   "source": [
    "### Create DB & tables:\n",
    "\n",
    "commands:\n",
    "\n",
    " * create table mytable\n",
    "\n",
    " * load data infile filepath into table tablename"
   ]
  },
  {
   "cell_type": "markdown",
   "metadata": {
    "deletable": true,
    "editable": true
   },
   "source": [
    "https://www.tutorialspoint.com/mysql/mysql-data-types.htm"
   ]
  },
  {
   "cell_type": "code",
   "execution_count": null,
   "metadata": {
    "collapsed": true,
    "deletable": true,
    "editable": true
   },
   "outputs": [],
   "source": [
    "CREATE DATABASE exercises"
   ]
  },
  {
   "cell_type": "code",
   "execution_count": null,
   "metadata": {
    "collapsed": true,
    "deletable": true,
    "editable": true
   },
   "outputs": [],
   "source": [
    "CREATE TABLE userprofile (\n",
    "    userid VARCHAR(20) NOT NULL,\n",
    "    gender char(1),\n",
    "    age int,\n",
    "    country VARCHAR(20),\n",
    "    registered VARCHAR(20),\n",
    "    PRIMARY KEY (userid)\n",
    ");"
   ]
  },
  {
   "cell_type": "code",
   "execution_count": null,
   "metadata": {
    "collapsed": true,
    "deletable": true,
    "editable": true
   },
   "outputs": [],
   "source": [
    "LOAD DATA INFILE '/users/raemoen/BC3/userprofile.tsv' \n",
    "INTO TABLE userprofile \n",
    "FIELDS TERMINATED BY '\\t' \n",
    "ENCLOSED BY '\"'\n",
    "LINES TERMINATED BY '\\n'\n",
    "--IGNORE 1 ROWS;"
   ]
  },
  {
   "cell_type": "code",
   "execution_count": null,
   "metadata": {
    "collapsed": true,
    "deletable": true,
    "editable": true
   },
   "outputs": [],
   "source": [
    "CREATE TABLE userdemand (\n",
    "    userid VARCHAR(20) NOT NULL,\n",
    "    time VARCHAR(50),\n",
    "    artname VARCHAR(100),\n",
    "    traname VARCHAR(100),\n",
    "    FOREIGN KEY(userid) REFERENCES userprofile(userid)\n",
    ");"
   ]
  },
  {
   "cell_type": "code",
   "execution_count": null,
   "metadata": {
    "collapsed": true,
    "deletable": true,
    "editable": true
   },
   "outputs": [],
   "source": [
    "LOAD DATA INFILE '/users/raemoen/BC3/userdemand.tsv' \n",
    "INTO TABLE userdemand \n",
    "FIELDS TERMINATED BY '\\t' \n",
    "ENCLOSED BY '\"'\n",
    "LINES TERMINATED BY '\\n';\n",
    "--IGNORE 1 ROWS;"
   ]
  },
  {
   "cell_type": "code",
   "execution_count": null,
   "metadata": {
    "collapsed": true,
    "deletable": true,
    "editable": true
   },
   "outputs": [],
   "source": [
    "CREATE TABLE calendar (\n",
    "    yMd VARCHAR(100),\n",
    "    dofw VARCHAR(100),\n",
    "    wnofy VARCHAR(100)\n",
    ");"
   ]
  },
  {
   "cell_type": "code",
   "execution_count": null,
   "metadata": {
    "collapsed": true,
    "deletable": true,
    "editable": true
   },
   "outputs": [],
   "source": [
    "LOAD DATA INFILE '/users/raemoen/BC3/calendar.csv' \n",
    "INTO TABLE calendar \n",
    "FIELDS TERMINATED BY ',' \n",
    "ENCLOSED BY '\"'\n",
    "LINES TERMINATED BY '\\n';\n",
    "#IGNORE 1 ROWS;"
   ]
  },
  {
   "cell_type": "markdown",
   "metadata": {
    "deletable": true,
    "editable": true
   },
   "source": [
    "Now, the tables are created. We are ready to practice. Here are my solutions. \n",
    "\n",
    "#### Q1: 男性與女性的會員數量與總點播次數"
   ]
  },
  {
   "cell_type": "code",
   "execution_count": null,
   "metadata": {
    "collapsed": true,
    "deletable": true,
    "editable": true
   },
   "outputs": [],
   "source": [
    "select userprofile.gender as gender,count(distinct(userprofile.userid)) as numMembers,count(userdemand.time) as totalPlayTimes\n",
    "from userprofile left outer join userdemand\n",
    "on userprofile.userid=userdemand.userid\n",
    "group by gender"
   ]
  },
  {
   "cell_type": "code",
   "execution_count": 4,
   "metadata": {
    "collapsed": false,
    "deletable": true,
    "editable": true
   },
   "outputs": [],
   "source": [
    "df=pd.read_csv('q1.csv')"
   ]
  },
  {
   "cell_type": "code",
   "execution_count": 5,
   "metadata": {
    "collapsed": false
   },
   "outputs": [
    {
     "data": {
      "text/html": [
       "<div>\n",
       "<table border=\"1\" class=\"dataframe\">\n",
       "  <thead>\n",
       "    <tr style=\"text-align: right;\">\n",
       "      <th></th>\n",
       "      <th>gender</th>\n",
       "      <th>numMembers</th>\n",
       "      <th>totalPlayTimes</th>\n",
       "    </tr>\n",
       "  </thead>\n",
       "  <tbody>\n",
       "    <tr>\n",
       "      <th>0</th>\n",
       "      <td>f</td>\n",
       "      <td>110</td>\n",
       "      <td>2808842</td>\n",
       "    </tr>\n",
       "    <tr>\n",
       "      <th>1</th>\n",
       "      <td>m</td>\n",
       "      <td>155</td>\n",
       "      <td>5411224</td>\n",
       "    </tr>\n",
       "  </tbody>\n",
       "</table>\n",
       "</div>"
      ],
      "text/plain": [
       "  gender  numMembers  totalPlayTimes\n",
       "0      f         110         2808842\n",
       "1      m         155         5411224"
      ]
     },
     "execution_count": 5,
     "metadata": {},
     "output_type": "execute_result"
    }
   ],
   "source": [
    "df"
   ]
  },
  {
   "cell_type": "code",
   "execution_count": 8,
   "metadata": {
    "collapsed": false
   },
   "outputs": [
    {
     "data": {
      "text/plain": [
       "8220066"
      ]
     },
     "execution_count": 8,
     "metadata": {},
     "output_type": "execute_result"
    }
   ],
   "source": [
    "sum(df['totalPlayTimes']) # 總點播次數"
   ]
  },
  {
   "cell_type": "markdown",
   "metadata": {},
   "source": [
    "#### Q2: 會員數量排行顯示前五名的國家，和這些國家的總點播次數："
   ]
  },
  {
   "cell_type": "code",
   "execution_count": null,
   "metadata": {
    "collapsed": true
   },
   "outputs": [],
   "source": [
    "select userprofile.country as country,count(distinct(userprofile.userid)) as numMembers,count(userdemand.time) as totalPlayTimes\n",
    "from userprofile left outer join userdemand\n",
    "on userprofile.userid=userdemand.userid\n",
    "group by country\n",
    "order by numMembers desc"
   ]
  },
  {
   "cell_type": "code",
   "execution_count": null,
   "metadata": {
    "collapsed": true
   },
   "outputs": [],
   "source": []
  },
  {
   "cell_type": "code",
   "execution_count": 9,
   "metadata": {
    "collapsed": true
   },
   "outputs": [],
   "source": [
    "df=pd.read_csv('q2.csv')"
   ]
  },
  {
   "cell_type": "code",
   "execution_count": 16,
   "metadata": {
    "collapsed": false
   },
   "outputs": [
    {
     "data": {
      "text/html": [
       "<div>\n",
       "<table border=\"1\" class=\"dataframe\">\n",
       "  <thead>\n",
       "    <tr style=\"text-align: right;\">\n",
       "      <th></th>\n",
       "      <th>country</th>\n",
       "      <th>numMembers</th>\n",
       "      <th>totalPlayTimes</th>\n",
       "    </tr>\n",
       "  </thead>\n",
       "  <tbody>\n",
       "    <tr>\n",
       "      <th>0</th>\n",
       "      <td>United States</td>\n",
       "      <td>60</td>\n",
       "      <td>1956732</td>\n",
       "    </tr>\n",
       "    <tr>\n",
       "      <th>1</th>\n",
       "      <td>United Kingdom</td>\n",
       "      <td>35</td>\n",
       "      <td>768752</td>\n",
       "    </tr>\n",
       "    <tr>\n",
       "      <th>2</th>\n",
       "      <td>Poland</td>\n",
       "      <td>19</td>\n",
       "      <td>508740</td>\n",
       "    </tr>\n",
       "    <tr>\n",
       "      <th>3</th>\n",
       "      <td>Turkey</td>\n",
       "      <td>14</td>\n",
       "      <td>540688</td>\n",
       "    </tr>\n",
       "    <tr>\n",
       "      <th>4</th>\n",
       "      <td>Canada</td>\n",
       "      <td>12</td>\n",
       "      <td>435414</td>\n",
       "    </tr>\n",
       "  </tbody>\n",
       "</table>\n",
       "</div>"
      ],
      "text/plain": [
       "          country  numMembers  totalPlayTimes\n",
       "0   United States          60         1956732\n",
       "1  United Kingdom          35          768752\n",
       "2          Poland          19          508740\n",
       "3          Turkey          14          540688\n",
       "4          Canada          12          435414"
      ]
     },
     "execution_count": 16,
     "metadata": {},
     "output_type": "execute_result"
    }
   ],
   "source": [
    "df.head(5)"
   ]
  },
  {
   "cell_type": "code",
   "execution_count": 18,
   "metadata": {
    "collapsed": false
   },
   "outputs": [
    {
     "data": {
      "text/plain": [
       "8220066"
      ]
     },
     "execution_count": 18,
     "metadata": {},
     "output_type": "execute_result"
    }
   ],
   "source": [
    "sum(df['totalPlayTimes'])  # 目的：驗證各國家點播次數相加是否為總點播次數。"
   ]
  },
  {
   "cell_type": "markdown",
   "metadata": {},
   "source": [
    "正確。各國家點播次數相加為總點播次數。"
   ]
  },
  {
   "cell_type": "markdown",
   "metadata": {},
   "source": [
    "亦可用mysql指令驗證，如下："
   ]
  },
  {
   "cell_type": "code",
   "execution_count": null,
   "metadata": {
    "collapsed": true
   },
   "outputs": [],
   "source": [
    "with temp as (select userprofile.country as country,count(distinct(userprofile.userid)) as numMembers,count(userdemand.time) as totalPlayTimes\n",
    "from userprofile left outer join userdemand\n",
    "on userprofile.userid=userdemand.userid\n",
    "group by country\n",
    "order by numMembers desc\n",
    ")\n",
    "select sum(totalPlayTimes) from temp;"
   ]
  },
  {
   "cell_type": "markdown",
   "metadata": {
    "deletable": true,
    "editable": true
   },
   "source": [
    "#### Q3: 哪一天是會員透過我們的音樂網站聆聽音樂最多的一天？"
   ]
  },
  {
   "cell_type": "markdown",
   "metadata": {},
   "source": [
    "解一："
   ]
  },
  {
   "cell_type": "code",
   "execution_count": null,
   "metadata": {
    "collapsed": true
   },
   "outputs": [],
   "source": [
    "SELECT substring(time,1,10) as date,count(*) as nPlayTimes\n",
    "FROM exercises.userdemand\n",
    "group by date\n",
    "order by nPlayTimes desc;"
   ]
  },
  {
   "cell_type": "markdown",
   "metadata": {},
   "source": [
    "解二(此法不好，因建暫存table是不必要的)："
   ]
  },
  {
   "cell_type": "code",
   "execution_count": null,
   "metadata": {
    "collapsed": true
   },
   "outputs": [],
   "source": [
    "with temp as \n",
    "(select userid,substring(time,1,10) as time \n",
    "from userdemand\n",
    ")\n",
    "select time,count(*) as nPlayTimes from temp\n",
    "group by time\n",
    "order by nPlayTimes desc;"
   ]
  },
  {
   "cell_type": "code",
   "execution_count": 21,
   "metadata": {
    "collapsed": true,
    "deletable": true,
    "editable": true
   },
   "outputs": [],
   "source": [
    "df=pd.read_csv('q3.csv')"
   ]
  },
  {
   "cell_type": "code",
   "execution_count": 23,
   "metadata": {
    "collapsed": false,
    "deletable": true,
    "editable": true
   },
   "outputs": [
    {
     "data": {
      "text/html": [
       "<div>\n",
       "<table border=\"1\" class=\"dataframe\">\n",
       "  <thead>\n",
       "    <tr style=\"text-align: right;\">\n",
       "      <th></th>\n",
       "      <th>date</th>\n",
       "      <th>nPlayTimes</th>\n",
       "    </tr>\n",
       "  </thead>\n",
       "  <tbody>\n",
       "    <tr>\n",
       "      <th>0</th>\n",
       "      <td>2008-09-24</td>\n",
       "      <td>14204</td>\n",
       "    </tr>\n",
       "    <tr>\n",
       "      <th>1</th>\n",
       "      <td>2009-02-08</td>\n",
       "      <td>12616</td>\n",
       "    </tr>\n",
       "    <tr>\n",
       "      <th>2</th>\n",
       "      <td>2009-02-01</td>\n",
       "      <td>12156</td>\n",
       "    </tr>\n",
       "  </tbody>\n",
       "</table>\n",
       "</div>"
      ],
      "text/plain": [
       "         date  nPlayTimes\n",
       "0  2008-09-24       14204\n",
       "1  2009-02-08       12616\n",
       "2  2009-02-01       12156"
      ]
     },
     "execution_count": 23,
     "metadata": {},
     "output_type": "execute_result"
    }
   ],
   "source": [
    "df.head(3)"
   ]
  },
  {
   "cell_type": "markdown",
   "metadata": {
    "deletable": true,
    "editable": true
   },
   "source": [
    "#### Q4: 會員年齡層分布\n",
    "\n",
    "使用select (case when condition then xxx else xxx end)"
   ]
  },
  {
   "cell_type": "markdown",
   "metadata": {},
   "source": [
    "解一 (用with as)："
   ]
  },
  {
   "cell_type": "code",
   "execution_count": null,
   "metadata": {
    "collapsed": true
   },
   "outputs": [],
   "source": [
    "with tmp as (SELECT userid,age,(case\n",
    "when age>=0 and age<20 then '0-19'\n",
    "when age>=20 and age<40 then '20-39'\n",
    "when age>=40 and age<65 then '40-64'\n",
    "when age>=65 then '65-'\n",
    "end) as ageZone\n",
    "FROM exercises.userprofile)\n",
    "select ageZone,count(*) as numMembers from tmp group by ageZone"
   ]
  },
  {
   "cell_type": "markdown",
   "metadata": {},
   "source": [
    "解二 (用subquery)："
   ]
  },
  {
   "cell_type": "code",
   "execution_count": null,
   "metadata": {
    "collapsed": true
   },
   "outputs": [],
   "source": [
    "select  t.ages,count(t.age)\n",
    "from (\n",
    "select age,\n",
    " CASE \n",
    "  WHEN age between 0 and 19 THEN \"0-19\"\n",
    "  WHEN age between 20 and 39 THEN \"20-39\"\n",
    "  WHEN age between 40 and 64 THEN \"40-64\"\n",
    "  else \"65--\"\n",
    "END ages\n",
    "FROM exercises.userprofile) t\n",
    "group by t.ages;"
   ]
  },
  {
   "cell_type": "code",
   "execution_count": 24,
   "metadata": {
    "collapsed": true
   },
   "outputs": [],
   "source": [
    "df=pd.read_csv('q4.csv')"
   ]
  },
  {
   "cell_type": "code",
   "execution_count": 25,
   "metadata": {
    "collapsed": false
   },
   "outputs": [
    {
     "data": {
      "text/html": [
       "<div>\n",
       "<table border=\"1\" class=\"dataframe\">\n",
       "  <thead>\n",
       "    <tr style=\"text-align: right;\">\n",
       "      <th></th>\n",
       "      <th>ageZone</th>\n",
       "      <th>numMembers</th>\n",
       "    </tr>\n",
       "  </thead>\n",
       "  <tbody>\n",
       "    <tr>\n",
       "      <th>0</th>\n",
       "      <td>0-19</td>\n",
       "      <td>35</td>\n",
       "    </tr>\n",
       "    <tr>\n",
       "      <th>1</th>\n",
       "      <td>20-39</td>\n",
       "      <td>223</td>\n",
       "    </tr>\n",
       "    <tr>\n",
       "      <th>2</th>\n",
       "      <td>40-64</td>\n",
       "      <td>6</td>\n",
       "    </tr>\n",
       "    <tr>\n",
       "      <th>3</th>\n",
       "      <td>65-</td>\n",
       "      <td>1</td>\n",
       "    </tr>\n",
       "  </tbody>\n",
       "</table>\n",
       "</div>"
      ],
      "text/plain": [
       "  ageZone  numMembers\n",
       "0    0-19          35\n",
       "1   20-39         223\n",
       "2   40-64           6\n",
       "3     65-           1"
      ]
     },
     "execution_count": 25,
     "metadata": {},
     "output_type": "execute_result"
    }
   ],
   "source": [
    "df"
   ]
  },
  {
   "cell_type": "markdown",
   "metadata": {},
   "source": [
    "#### Q5: 從過去所有資料中，找出會員在假日最常聽的三首歌曲"
   ]
  },
  {
   "cell_type": "code",
   "execution_count": null,
   "metadata": {
    "collapsed": true
   },
   "outputs": [],
   "source": [
    "MariaDB [exercises]> select artname,traname,count(distinct(userid)) as listners\n",
    "    -> from (select date(yMd) as yMd,dofw from calendar where dofw='Sa' or dofw='Su') as cal\n",
    "    -> join \n",
    "    ->      (select userid,substring(time,1,10) as time,artname,traname from userdemand) as usrdemand\n",
    "    -> on cal.yMd= usrdemand.time\n",
    "    -> group by artname,traname\n",
    "    -> order by listners desc, artname asc\n",
    "    -> limit 5;\n",
    "+--------------------+-------------------------+----------+\n",
    "| artname            | traname                 | listners |\n",
    "+--------------------+-------------------------+----------+\n",
    "| Boy Division       | Love Will Tear Us Apart |       55 |\n",
    "| Radiohead          | Creep                   |       51 |\n",
    "| Massive Attack     | Teardrop                |       50 |\n",
    "| The Postal Service | Such Great Heights      |       50 |\n",
    "| Radiohead          | Paranoid Android        |       49 |\n",
    "+--------------------+-------------------------+----------+\n",
    "5 rows in set (20 min 10.04 sec)"
   ]
  },
  {
   "cell_type": "markdown",
   "metadata": {
    "deletable": true,
    "editable": true
   },
   "source": [
    "# T-SQL"
   ]
  },
  {
   "cell_type": "markdown",
   "metadata": {
    "deletable": true,
    "editable": true
   },
   "source": [
    "#### e.g. 1: while loop, try& catch"
   ]
  },
  {
   "cell_type": "markdown",
   "metadata": {
    "deletable": true,
    "editable": true
   },
   "source": [
    "```SQL\n",
    "\n",
    "Declare @x int,\n",
    "        @s int\n",
    "\n",
    "\t\tset @x=1\n",
    "\t\tset @s=0\n",
    "\n",
    "\t\twhile(@x<=10)\n",
    "\t\t    begin\n",
    "\t\t\t\tset @s=@s+@x\n",
    "\t\t\t\tset @x=@x+1\n",
    "\t\t\tend\n",
    "\t\tselect 'the answer= '+ convert(varchar(3),@s)  --use varchar to convert a variable to a string\n",
    "\n",
    "begin try\n",
    "\tselect 1/0\n",
    "end try\n",
    "begin catch -- question: which exception to catch? In this way, all kinds of exceptions will be catched?\n",
    "\tselect 'Exception! The denominator is zero!'  \n",
    "end catch\n",
    "```"
   ]
  },
  {
   "cell_type": "markdown",
   "metadata": {
    "deletable": true,
    "editable": true
   },
   "source": [
    "#### e.g.2 login via entrusted windows local account"
   ]
  },
  {
   "cell_type": "markdown",
   "metadata": {
    "deletable": true,
    "editable": true
   },
   "source": [
    "```SQL\n",
    "C:\\Users\\Student>sqlcmd -E -dDB01\n",
    "1> select * from student\n",
    "2> go\n",
    "id          name                 bdate            tel\n",
    "----------- -------------------- ---------------- --------------------\n",
    "        101 Geisel                     1980-08-08 012355\n",
    "        102 Schlachter                 1980-08-01 012350\n",
    "\n",
    "(2 個受影響的資料列)\n",
    "```"
   ]
  },
  {
   "cell_type": "markdown",
   "metadata": {
    "deletable": true,
    "editable": true
   },
   "source": [
    "#### e.g. 3 login via user name & password"
   ]
  },
  {
   "cell_type": "markdown",
   "metadata": {
    "deletable": true,
    "editable": true
   },
   "source": [
    "```SQL\n",
    "C:\\Users\\Student>sqlcmd -Usa -PP@ssw0rd -dDB01\n",
    "1> select * from student\n",
    "2> go\n",
    "id          name                 bdate            tel\n",
    "----------- -------------------- ---------------- --------------------\n",
    "        101 Geisel                     1980-08-08 012355\n",
    "        102 Schlachter                 1980-08-01 012350\n",
    "\n",
    "(2 個受影響的資料列)\n",
    "```"
   ]
  },
  {
   "cell_type": "markdown",
   "metadata": {
    "deletable": true,
    "editable": true
   },
   "source": [
    "#### e.g. 4 covers\n",
    "\n",
    "#### I) login via user name &password: specify an SQL server\n",
    "\n",
    "#### II) use select  to select specific columns"
   ]
  },
  {
   "cell_type": "markdown",
   "metadata": {
    "deletable": true,
    "editable": true
   },
   "source": [
    "```SQL\n",
    "C:\\Users\\Student>sqlcmd -Usa -PP@ssw0rd -dDB01 -s localhost:12321\n",
    "1> select * from student\n",
    "2> go\n",
    "id         lname                lbdate           ltel\n",
    "-----------l--------------------l----------------l--------------------\n",
    "        101lGeisel              l      1980-08-08l012355\n",
    "        102lSchlachter          l      1980-08-01l012350\n",
    "\n",
    "(2 個受影響的資料列)\n",
    "1>\n",
    "2>\n",
    "3> select [name][id] from student   --this is wrong. I should add a comma between [name] and [id]\n",
    "4> go\n",
    "id\n",
    "--------------------\n",
    "Geisel\n",
    "Schlachter\n",
    "\n",
    "(2 個受影響的資料列)\n",
    "1> select [name],[id]  from student\n",
    "2> go\n",
    "name                lid\n",
    "--------------------l-----------\n",
    "Geisel              l        101\n",
    "Schlachter          l        102\n",
    "\n",
    "(2 個受影響的資料列)\n",
    "```"
   ]
  },
  {
   "cell_type": "markdown",
   "metadata": {
    "collapsed": true,
    "deletable": true,
    "editable": true
   },
   "source": [
    "#### e.g. 5 Here are several ways to join two or more tables:"
   ]
  },
  {
   "cell_type": "markdown",
   "metadata": {
    "deletable": true,
    "editable": true
   },
   "source": [
    "```SQL\n",
    "--join two tables\n",
    "SELECT\n",
    "FROM    A  JOIN  B\n",
    "ON     A.ID =  B.ID\n",
    "--join three tables\n",
    "SELECT\n",
    "FROM    A  JOIN  B\n",
    "ON     A.ID =  B.ID\n",
    "JOIN  C\n",
    "ON   B.LID =  C.LID\n",
    "\n",
    "--another way to join two tables\n",
    "SELECT\n",
    "FROM    A  ,  B\n",
    "WHERE   A.ID =  B.ID\n",
    "\n",
    "--another way to join three tables\n",
    "SELECT\n",
    "FROM    A  ,  B  ,  C\n",
    "WHERE    A.ID =  B.ID AND   B.LID =  C.LID\n",
    "```"
   ]
  },
  {
   "cell_type": "markdown",
   "metadata": {
    "collapsed": true,
    "deletable": true,
    "editable": true
   },
   "source": [
    "#### e.g. 6: some examples in Ch5 (join)"
   ]
  },
  {
   "cell_type": "markdown",
   "metadata": {
    "deletable": true,
    "editable": true
   },
   "source": [
    "```SQL\n",
    "--計算 各部門(department_id) 平均 及 總合 salary,人數\n",
    "\n",
    "  SELECT  d.DEPARTMENT_ID \"department_id\",avg(e.SALARY) \"average\",sum(e.SALARY) \"sum\",count(e.LAST_NAME)\"count\"\n",
    "  FROM    EMPLOYEES e join DEPARTMENTS d\n",
    "  on            e.DEPARTMENT_ID=d.DEPARTMENT_ID\n",
    "  GROUP   BY  d.DEPARTMENT_ID;\n",
    "\n",
    "\n",
    "--查詢 各員工姓名(last_name),薪資(salary),部門編號(department_id) 及所屬部門名稱(department_name)  \n",
    "\n",
    "  SELECT  e.LAST_NAME,e.salary,d.DEPARTMENT_ID,d.DEPARTMENT_NAME\n",
    "  FROM    EMPLOYEES e join DEPARTMENTS d\n",
    "  on            e.DEPARTMENT_ID=d.DEPARTMENT_ID\n",
    "\n",
    " \n",
    "--計算 各部門名稱(department_name) 平均 及 總合 salary ,人數\n",
    "\n",
    "  SELECT  d.DEPARTMENT_ID,avg(e.salary) \"ave\",sum(e.salary)\"sum\",count(*)\"headcount\"\n",
    "  FROM    EMPLOYEES e join DEPARTMENTS d\n",
    "  on            e.DEPARTMENT_ID=d.DEPARTMENT_ID\n",
    "  group by d.DEPARTMENT_ID\n",
    "  \n",
    "\n",
    "--計算 各部門名稱(department_id, department_name) 平均 及 總合 salary ,人數\n",
    "\n",
    "  SELECT  d.DEPARTMENT_ID,   d.department_name,avg(e.salary) \"ave\",sum(e.salary)\"sum\",count(*)\"headcount\"\n",
    "  FROM    EMPLOYEES e join DEPARTMENTS d\n",
    "  on            e.DEPARTMENT_ID=d.DEPARTMENT_ID\n",
    "  group by d.DEPARTMENT_ID,d.department_name\n",
    "```"
   ]
  },
  {
   "cell_type": "markdown",
   "metadata": {
    "collapsed": true,
    "deletable": true,
    "editable": true
   },
   "source": [
    "#### e.g. 7: some keywords: in/all/any/not in"
   ]
  },
  {
   "cell_type": "markdown",
   "metadata": {
    "deletable": true,
    "editable": true
   },
   "source": [
    "```SQL\n",
    "select a.EMPLOYEE_ID,a.LAST_NAME,a.DEPARTMENT_ID, b.DEPARTMENT_ID,b.DEPARTMENT_NAME\n",
    "from EMPLOYEES a right join DEPARTMENTS b\n",
    "on  a.department_id=b.department_id\n",
    "order by EMPLOYEE_ID\n",
    "\n",
    "\n",
    "select e.LAST_NAME,e.SALARY\n",
    "from EMPLOYEES e\n",
    "where e.salary< (select avg(e.SALARY) from EMPLOYEES e)\n",
    "\n",
    "select top 5 with ties e.SALARY, e.LAST_NAME\n",
    " from EMPLOYEES e\n",
    " order by e.SALARY desc\n",
    "\n",
    "select e.LAST_NAME,e.SALARY\n",
    "from EMPLOYEES e\n",
    "where e.salary> any(select top 5 with ties e.SALARY\n",
    "\t\t\t\t\t\t\t\t\tfrom EMPLOYEES e\n",
    "\t\t\t\t\t\t\t\t\torder by e.SALARY desc)\n",
    "\n",
    "select e.LAST_NAME,e.SALARY\n",
    "from EMPLOYEES e\n",
    "where e.salary> all(select top 5 with ties e.SALARY\n",
    "\t\t\t\t\t\t\t\t\tfrom EMPLOYEES e\n",
    "\t\t\t\t\t\t\t\t\torder by e.SALARY desc)\n",
    "\n",
    "select e.LAST_NAME,e.SALARY\n",
    "from EMPLOYEES e\n",
    "where e.salary  in (select top 5 with ties e.SALARY\n",
    "\t\t\t\t\t\t\t\t\tfrom EMPLOYEES e\n",
    "\t\t\t\t\t\t\t\t\torder by e.SALARY desc)\n",
    "\n",
    "select e.LAST_NAME,e.SALARY\n",
    "from EMPLOYEES e\n",
    "where e.salary not in (select top 5 with ties e.SALARY\n",
    "\t\t\t\t\t\t\t\t\tfrom EMPLOYEES e\n",
    "\t\t\t\t\t\t\t\t\torder by e.SALARY desc)\n",
    "```"
   ]
  },
  {
   "cell_type": "markdown",
   "metadata": {
    "collapsed": true,
    "deletable": true,
    "editable": true
   },
   "source": [
    "#### e.g. 8:  some solutions in Ch6 (subquery)"
   ]
  },
  {
   "cell_type": "markdown",
   "metadata": {
    "deletable": true,
    "editable": true
   },
   "source": [
    "```SQL\n",
    "--ch6\n",
    "--查出學員任一科分數大於總平均的有那些 (含學號,個人分數)\n",
    "\n",
    "\n",
    "select *\n",
    "from  course\n",
    "where  score  >  ( select avg(score)\n",
    "                   from course\n",
    "\t\t\t\t  )\n",
    "\n",
    "\n",
    "--依學號(id)分組, 計算學員總分最高者 (含學號,總分)\n",
    "\n",
    "--method 1a\n",
    "select top 1   id,  sum(score)\n",
    "from  course\n",
    "group by id\n",
    "order by sum(score) desc\n",
    "\n",
    "\n",
    "select top 1  sum(score)\n",
    "from  course\n",
    "group by id\n",
    "order by sum(score) desc\n",
    "\n",
    "select   id,  sum(score) sums\n",
    "from  course\n",
    "group by id\n",
    "having sum(score)  = 262\n",
    " \n",
    " --method 1\n",
    "select   id,  sum(score) sums\n",
    "from  course\n",
    "group by id\n",
    "having sum(score)  =  (select top 1  sum(score)\n",
    "                       from  course\n",
    "                       group by id\n",
    "                       order by sum(score) desc) \n",
    "--method 2\n",
    "select   id,  sum(score) sums\n",
    "INTO  totals\n",
    "from  course\n",
    "group by id\n",
    "\n",
    "select * from totals\n",
    "select  max(sums) from totals\n",
    "\n",
    "select * from totals\n",
    "where sums = (select  max(sums) from totals)\n",
    "\n",
    "--method 3\n",
    "select   id,  sum(score) sums\n",
    "from  course\n",
    "group by id\n",
    "having sum(score) =  ( select  max(sums) \n",
    "                       from (select   id,  sum(score) sums\n",
    "                             from  course\n",
    "                             group by id) s\n",
    "                       )\n",
    "\n",
    "with s\n",
    "as (select id, sum(score) sums\n",
    "\t\tfrom course\n",
    "\t\tgroup by id )\n",
    "select * from s\n",
    "```"
   ]
  },
  {
   "cell_type": "markdown",
   "metadata": {
    "collapsed": true,
    "deletable": true,
    "editable": true
   },
   "source": [
    "#### e.x.1:  some basic exercises (query, sub-query)"
   ]
  },
  {
   "cell_type": "markdown",
   "metadata": {
    "deletable": true,
    "editable": true
   },
   "source": [
    "```SQL\n",
    "--ch3\n",
    "--查出分數(score) 大於90分以上的學員(不管那一科)\n",
    "select score,id\n",
    "from course\n",
    "where score>90\n",
    "\n",
    "--查出課程名稱(name) 為 JAVA 且分數(score) 介於85分及90分之間的學員 \n",
    "\n",
    "select id,score,name\n",
    "from course\n",
    "where name='java' and score<=90 and score>=85\n",
    "\n",
    "--列出學員各科分數,從高到低排序(不管那一科)\n",
    "\n",
    "select id,score,name\n",
    "from course\n",
    "order by score desc\n",
    "\n",
    "--列出學員各科分數,先依課程名稱(name)排序, 相同名稱再依分數從高到低排列 \n",
    "\n",
    "select id,score,name\n",
    "from course\n",
    "order by name, score desc\n",
    "\n",
    "--ch4\n",
    "--依各科(name)分組, 列出各科(name)最高 的分數是幾分\n",
    "\n",
    "select name, max(score)\n",
    "from course\n",
    "group by name\n",
    "\n",
    "--依學號(id)分組, 列出各人總分\n",
    "\n",
    "select id, sum(score)\n",
    "from course\n",
    "group by id\n",
    "\n",
    "--依學號(id)分組, 列出各人總分 大於 250 以上者  (列出學號,總分)\n",
    "\n",
    "select id, sum(score)\n",
    "from course\n",
    "group by id\n",
    "having sum(score)>250\n",
    "\n",
    "--ch5\n",
    "--列出學員姓名及各科成績\n",
    "--列出學員姓名及各科成績 (未參加考試的學員也要列出) ????\n",
    "\n",
    "select s.name,c.name, c.score\n",
    "from course c, student s\n",
    "where c.id=s.id\n",
    "order by s.name\n",
    "\n",
    "select s.name,c.name, isnull(c.score,0)\n",
    "from student s  left outer join course c\n",
    "on s.id=c.id\n",
    "order by s.name\n",
    "\n",
    "select id,score from course order by id\n",
    "select id,name from student order by id\n",
    "\n",
    "--ch6\n",
    "--查出學員任一科分數大於總平均的有那些 (含學號,個人分數)\n",
    "select id,score\n",
    "from course\n",
    "where score>(select avg(score)\n",
    "from course )\n",
    "\n",
    "--依學號(id)分組, 計算學員總分最高者 (含學號,總分)\n",
    "\n",
    "select id, sum(score)\n",
    "from course\n",
    "group by id\n",
    "having sum(score)=(select max(sums)\n",
    "from (select id, sum(score) sums\n",
    "from course\n",
    "group by id ) s)\n",
    "\n",
    "--進階\n",
    "--ch45\n",
    "--列出學員姓名及總分\n",
    "select s.name, sum(c.score) \"sum\"\n",
    "from student s join course c\n",
    "on s.id=c.id\n",
    "group by s.name\n",
    "\n",
    "--列出學員學號,姓名及總分\n",
    "\n",
    "select s.id,s.name, sum(c.score) \"sum\"\n",
    "from student s join course c\n",
    "on s.id=c.id\n",
    "group by s.id,s.name\n",
    "\n",
    "--查出學員總分數最高 (含學號,姓名,總分)\n",
    "\n",
    "select s.id,s.name, sum(c.score) \"sum\"\n",
    "from student s join course c\n",
    "on s.id=c.id\n",
    "group by s.id,s.name\n",
    "having sum(c.score)=(select max(sums)\n",
    "from (select id, sum(score) sums\n",
    "from course\n",
    "group by id ) s)\n",
    "\n",
    "--ch456\n",
    "--查出學員任一科分數大於總平均的有那些 (含姓名,個人分數) \n",
    "\n",
    "select s.id,s.name, c.name,c.score\n",
    "from student s join course c\n",
    "on s.id=c.id\n",
    "where c.score> ( select (avg(ave_score))\n",
    "\t\t\t\t\t\t\t  from(select id, avg(score) ave_score\n",
    "\t\t\t\t\t\t\t  from course\n",
    "\t\t\t\t\t\t\t  group by id ) s) \n",
    "order by id\n",
    "\n",
    "--查出學員各科分數大於該科平均的有那些 (含姓名,個人分數) \n",
    "select s.name,c.name,c.score \n",
    "from course c join student s\n",
    "on c.id=s.id\n",
    "where c.score> (select avg(cin.score) \n",
    "\t\t\t\t\t\t\tfrom  course cin\n",
    "\t\t\t\t\t\t\twhere cin.name=c.name) --內部相關欄位=外部相關欄位\n",
    "order by s.name\n",
    "\n",
    "--各科平均：\n",
    "--JAVA                \t82\n",
    "--T-SQL              85\n",
    "--電概                \t83\n",
    "--此結果是以下列query而得：\n",
    "----select c.name,avg(c.score) \n",
    "----from course c join student s\n",
    "----on c.id=s.id\n",
    "----group by c.name\n",
    "\n",
    "--ch8\n",
    "--PIVOT 將學員各科成績轉成 PIVOT欄位 (含學號,科目,各科分數 3個欄位)\n",
    "\n",
    "----select id,name,score\n",
    "----from course\n",
    "\n",
    "select *\n",
    "from course\n",
    "PIVOT ( sum(score) for name in ([JAVA],[電概],[T-SQL]) ) pvt\n",
    "\n",
    "--ch8 adv Subquery\n",
    "--列出學員任一科分數及總平均分數 (含學號,個人分數,平均分數)\n",
    "\n",
    "select c.id,c.score,cnew.avgs\n",
    "from course c join (select c.id, avg(c.score) avgs\n",
    "\t\t\t\t\t\t\t    from course c\n",
    "\t\t\t\t\t\t\t     group by c.id) cnew\n",
    "on c.id=cnew.id\n",
    "\n",
    "--查出學員任一科分數大於總平均的有那些 (含學號,個人分數,平均分數)\n",
    "\n",
    "select c0.id,c0.score\n",
    "from course c0 join (select c.id,c.score,cnew.avgs\n",
    "\t\t\t\t\t from course c join (select c.id, avg(c.score) avgs\n",
    "\t\t\t\t\t\t\t\t\t\t from course c\n",
    "\t\t\t\t\t\t\t\t\t\t group by c.id) cnew\n",
    "\t\t\t\t\t\t\t\t\t\t on c.id=cnew.id) couter\n",
    "on c0.id=couter.id\n",
    "where c0.score>couter.avgs\n",
    "```"
   ]
  },
  {
   "cell_type": "markdown",
   "metadata": {
    "deletable": true,
    "editable": true
   },
   "source": [
    "## In the following we constructs a database that is for practice purpose"
   ]
  },
  {
   "cell_type": "markdown",
   "metadata": {
    "deletable": true,
    "editable": true
   },
   "source": [
    "```SQL\n",
    "--construct the database which is used for the exercise\n",
    "\n",
    "use DB01    --若 定序非 Chinese_Taiwan(damn, does Chinese Taiwan exist?) 則另建 DB\n",
    "\n",
    "go\n",
    "\n",
    "drop table course;\n",
    "drop table student;\n",
    "go\n",
    "\n",
    "create table student\n",
    "( id    int        PRIMARY KEY,   --學號\n",
    "  name  nchar(20),                 --姓名\n",
    "  bdate date,\n",
    "  tel   char(20)\n",
    ");\n",
    "\n",
    "create table course\n",
    "( id    int     ,   --學號\n",
    "  name  char(20),   --課名\n",
    "  score int,        --分數\n",
    "  FOREIGN KEY(id) REFERENCES student(id) \n",
    ");\n",
    "go\n",
    "\n",
    "insert into student values ( 1, '徐上雯','1983-04-21','09205556781');\n",
    "insert into student values ( 2, '曹廷'  ,'1983-09-23','09205556789');\n",
    "insert into student values ( 3, '林玉婕','1983-08-25','09205556785');\n",
    "insert into student values ( 4, '謝長恩','1983-07-27','09205556783');\n",
    "insert into student values ( 5, '彭士軒','1983-05-29','09205556789');\n",
    "insert into student values ( 6, '李思蓓','1983-06-22','09205556789');\n",
    "insert into student values ( 7, '王易新','1983-03-24','09205556786');\n",
    "insert into student values ( 8, '盧芝穎','1983-01-26','09205556789');\n",
    "insert into student values ( 9, '韓奐宇','1983-02-28','09205556789');\n",
    "insert into student values (10, '吳宗翰','1983-11-20','09205556782');\n",
    "insert into student values (11, '胡仁恩','1983-10-21','09205556789');\n",
    "insert into student values (12, '楊敬平','1983-04-23','09205556789');\n",
    "insert into student values (13, '呂紹瑄','1983-05-25','09205556788');\n",
    "insert into student values (14, '劉世勛','1983-07-23','09205556789');\n",
    "insert into student values (15, '陳威宇','1983-02-27','09205556783');\n",
    "insert into student values (16, '黃品真','1983-04-23','09205556789');\n",
    "insert into student values (17, '翁啟閎','1983-06-29','09205556781');\n",
    "insert into student values (18, '彭紀瑋','1983-04-22','09205556780');\n",
    "insert into student values (19, '王臆詞','1983-08-24','09205556789');\n",
    "insert into student values (20, '童麟凱','1983-04-26','09205556787');\n",
    "insert into student values (21, '隋長志','1983-09-28','09205556789');\n",
    "insert into student values (22, '吳子桓','1983-04-20','09205556789');\n",
    "insert into student values (23, '王均'  ,'1983-05-25','09205556788');\n",
    "go\n",
    "\n",
    "insert into course values ( 1,'JAVA',85);\n",
    "insert into course values ( 2,'JAVA',86);\n",
    "insert into course values ( 3,'JAVA',80);\n",
    "insert into course values ( 4,'JAVA',85);\n",
    "insert into course values ( 5,'JAVA',75);\n",
    "insert into course values ( 6,'JAVA',70);\n",
    "insert into course values ( 7,'JAVA',92);\n",
    "insert into course values ( 8,'JAVA',85);\n",
    "insert into course values ( 9,'JAVA',83);\n",
    "\n",
    "insert into course values (11,'JAVA',87);\n",
    "insert into course values (12,'JAVA',85);\n",
    "insert into course values (13,'JAVA',86);\n",
    "insert into course values (14,'JAVA',85);\n",
    "insert into course values (15,'JAVA',84);\n",
    "insert into course values (16,'JAVA',75);\n",
    "insert into course values (17,'JAVA',81);\n",
    "insert into course values (18,'JAVA',85);\n",
    "insert into course values (19,'JAVA',79);\n",
    "insert into course values (20,'JAVA',85);\n",
    "insert into course values (21,'JAVA',78);\n",
    "insert into course values (22,'JAVA',85);\n",
    "\n",
    "go\n",
    "\n",
    "insert into course values ( 1,'電概',81);\n",
    "insert into course values ( 2,'電概',80);\n",
    "insert into course values ( 3,'電概',82);\n",
    "insert into course values ( 4,'電概',84);\n",
    "insert into course values ( 5,'電概',64);\n",
    "insert into course values ( 6,'電概',83);\n",
    "insert into course values ( 7,'電概',85);\n",
    "insert into course values ( 8,'電概',87);\n",
    "insert into course values ( 9,'電概',86);\n",
    "insert into course values (10,'電概',85);\n",
    "insert into course values (11,'電概',82);\n",
    "insert into course values (12,'電概',81);\n",
    "insert into course values (13,'電概',89);\n",
    "insert into course values (14,'電概',85);\n",
    "insert into course values (15,'電概',88);\n",
    "insert into course values (16,'電概',87);\n",
    "insert into course values (17,'電概',86);\n",
    "insert into course values (18,'電概',85);\n",
    "insert into course values (19,'電概',84);\n",
    "insert into course values (20,'電概',82);\n",
    "insert into course values (21,'電概',85);\n",
    "insert into course values (22,'電概',81);\n",
    "go\n",
    "\n",
    "insert into course values ( 1,'T-SQL',85);\n",
    "insert into course values ( 2,'T-SQL',85);\n",
    "insert into course values ( 3,'T-SQL',80);\n",
    "insert into course values ( 4,'T-SQL',85);\n",
    "insert into course values ( 5,'T-SQL',85);\n",
    "insert into course values ( 6,'T-SQL',83);\n",
    "insert into course values ( 7,'T-SQL',85);\n",
    "insert into course values ( 8,'T-SQL',82);\n",
    "insert into course values ( 9,'T-SQL',91);\n",
    "insert into course values (10,'T-SQL',85);\n",
    "insert into course values (11,'T-SQL',85);\n",
    "insert into course values (12,'T-SQL',87);\n",
    "insert into course values (13,'T-SQL',85);\n",
    "insert into course values (14,'T-SQL',85);\n",
    "insert into course values (15,'T-SQL',86);\n",
    "insert into course values (16,'T-SQL',85);\n",
    "insert into course values (17,'T-SQL',85);\n",
    "insert into course values (18,'T-SQL',89);\n",
    "insert into course values (19,'T-SQL',85);\n",
    "insert into course values (20,'T-SQL',88);\n",
    "insert into course values (21,'T-SQL',85);\n",
    "insert into course values (22,'T-SQL',84);\n",
    "go\n",
    "\n",
    "/* Unicode\n",
    "insert into student values (24, N'曾珦煊','1983-06-22','09205556789');\n",
    "insert into student values (25, N'黃頎晧','1983-04-23','09205556789');\n",
    "*/\n",
    "\n",
    "```"
   ]
  }
 ],
 "metadata": {
  "anaconda-cloud": {},
  "kernelspec": {
   "display_name": "Python 3",
   "language": "python",
   "name": "python3"
  },
  "language_info": {
   "codemirror_mode": {
    "name": "ipython",
    "version": 3
   },
   "file_extension": ".py",
   "mimetype": "text/x-python",
   "name": "python",
   "nbconvert_exporter": "python",
   "pygments_lexer": "ipython3",
   "version": "3.6.0"
  }
 },
 "nbformat": 4,
 "nbformat_minor": 0
}
