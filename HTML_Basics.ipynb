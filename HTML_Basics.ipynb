{
 "cells": [
  {
   "cell_type": "code",
   "execution_count": 4,
   "metadata": {
    "collapsed": true
   },
   "outputs": [],
   "source": [
    "import numpy as np\n",
    "import matplotlib.pyplot as plt\n",
    "from random import randint\n",
    "from scipy import integrate\n",
    "import os"
   ]
  },
  {
   "cell_type": "code",
   "execution_count": 2,
   "metadata": {
    "collapsed": true
   },
   "outputs": [],
   "source": [
    "from bs4 import BeautifulSoup # For HTML parsing\n",
    "import urllib2 # Website connections\n",
    "import re # Regular expressions\n",
    "from time import sleep # To prevent overwhelming the server between connections\n",
    "from collections import Counter # Keep track of our term counts\n",
    "from nltk.corpus import stopwords # Filter out stopwords, such as 'the', 'or', 'and'\n",
    "import pandas as pd # For converting results to a dataframe and bar chart plots\n",
    "%matplotlib inline"
   ]
  },
  {
   "cell_type": "code",
   "execution_count": 7,
   "metadata": {
    "collapsed": false
   },
   "outputs": [
    {
     "name": "stdout",
     "output_type": "stream",
     "text": [
      "C:\\Users\\Student\\Desktop\\notebooks\n"
     ]
    }
   ],
   "source": [
    "print os.getcwd()"
   ]
  },
  {
   "cell_type": "markdown",
   "metadata": {},
   "source": [
    "# My purpose in this notebook is to learn HTML basics."
   ]
  },
  {
   "cell_type": "code",
   "execution_count": 7,
   "metadata": {
    "collapsed": false
   },
   "outputs": [
    {
     "name": "stdout",
     "output_type": "stream",
     "text": [
      "Writing test.html\n"
     ]
    }
   ],
   "source": [
    "%%file test.html\n",
    "<img src=\"http://edu.iiiedu.org.tw/moodle/theme/EduMoodle/slideshow/images/1.gif\">"
   ]
  },
  {
   "cell_type": "code",
   "execution_count": 59,
   "metadata": {
    "collapsed": false,
    "scrolled": true
   },
   "outputs": [],
   "source": [
    "f=open(\"test.html\",'r')\n",
    "test=f.read()\n",
    "soup = BeautifulSoup(test,\"html.parser\")"
   ]
  },
  {
   "cell_type": "code",
   "execution_count": 10,
   "metadata": {
    "collapsed": false
   },
   "outputs": [
    {
     "name": "stdout",
     "output_type": "stream",
     "text": [
      "Overwriting listStd.css\n"
     ]
    }
   ],
   "source": [
    "%%file listStd.css\n",
    ".menu1{list-style-type:lower-roman;list-style-position:inside;}"
   ]
  },
  {
   "cell_type": "code",
   "execution_count": 13,
   "metadata": {
    "collapsed": false
   },
   "outputs": [
    {
     "name": "stdout",
     "output_type": "stream",
     "text": [
      "Overwriting test.html\n"
     ]
    }
   ],
   "source": [
    "%%file test.html\n",
    "<!DOCTYPE html>\n",
    "<html lang=\"zh-tw\">\n",
    "    <head>\n",
    "        <meta charset=\"utf-8\">\n",
    "        <meta name=\"generator\" content=\"ipython...\">\n",
    "        <!--meta http-equiv=\"Refresh\" content=\"1;URL=page_second.html\">-->\n",
    "        <title> this is the title of my first website. </title>\n",
    "        <style>\n",
    "            @import url(\"listStd.css\");\n",
    "        </style>\n",
    "    </head>\n",
    "    <body>\n",
    "        <!--<img src=\"http://edu.iiiedu.org.tw/moodle/theme/EduMoodle/slideshow/images/1.gif\">-->\n",
    "        <h2 style=\"color:red;font_size:40px;\"> the font here should be large and in red. </h2>\n",
    "        <h1>h1</h1>\n",
    "        <!--<h2>h2</h2>-->\n",
    "        <!--<h3>h3</h3>-->\n",
    "        <!--<h4>h4</h4>-->\n",
    "        <!--<h5>h5</h5>-->\n",
    "        <h6>h6</h6>\n",
    "        \n",
    "        <ul>\n",
    "            <li>宋詞</li> \n",
    "                <ol class=\"menu1\">\n",
    "                    <li>歐陽修</li>\n",
    "                    <li>李清照</li>\n",
    "                        <ul>\n",
    "                            <li>123菩薩蠻</li>\n",
    "                            <li>123一翦梅</li>\n",
    "                        </ul>\n",
    "                </ol>            \n",
    "            </li>\n",
    "            <li> 元曲</li>\n",
    "            <li> 唐詩</li>\n",
    "        </ul>\n",
    "\n",
    "        <br>\n",
    "        <hr>\n",
    "        <br>\n",
    "        <dl>\n",
    "            <dt>coffee</dt>\n",
    "            <dd>black hot drink</dd>\n",
    "            <dt>milk</dt>\n",
    "            <dd>white cold drink</dd>\n",
    "        </dl>\n",
    "        <p>More than five hours of previously unreleased interviews with \n",
    "            Donald Trump have been released to the New York Times. What do\n",
    "            the tapes tell us?</p>\n",
    "        <p>The interviews, which were carried out by journalist Michael D\n",
    "              'Antonio in 2014, were one of the last extensive conversations\n",
    "               Mr Trump had with anyone in the media before he ran for president. </p>\n",
    "    </body>\n",
    "</html>"
   ]
  },
  {
   "cell_type": "code",
   "execution_count": 89,
   "metadata": {
    "collapsed": false
   },
   "outputs": [
    {
     "name": "stdout",
     "output_type": "stream",
     "text": [
      "Overwriting page_second.html\n"
     ]
    }
   ],
   "source": [
    "%%file page_second.html\n",
    "<!DOCTYPE html>\n",
    "<html lang=\"zh-tw\">\n",
    "    <head>\n",
    "        <meta charset=\"utf-8\">\n",
    "        <meta name=\"generator\" content=\"ipython...\">\n",
    "        <!--<meta http-equiv=\"Refresh\" content=\"1;URL=first_site.html\">-->\n",
    "        <title> this is the title of my second page. </title>\n",
    "    </head>\n",
    "    \n",
    "    <body>\n",
    "        <h2 style=\"color:red;font_size:40px;\"> this is my second page. </h2>\n",
    "    </body>\n",
    "\n",
    "</html>"
   ]
  },
  {
   "cell_type": "code",
   "execution_count": 168,
   "metadata": {
    "collapsed": false
   },
   "outputs": [
    {
     "name": "stdout",
     "output_type": "stream",
     "text": [
      "Overwriting std.css\n"
     ]
    }
   ],
   "source": [
    "%%file std.css\n",
    "h2{text-decoration:underline;color:blue;border:1px solid red;hight:500}\n",
    ".stblue{color:blue;text-transform:capitalize}\n",
    "#stpurple{color:purple;text-transform:capitalize}"
   ]
  },
  {
   "cell_type": "code",
   "execution_count": 30,
   "metadata": {
    "collapsed": false
   },
   "outputs": [
    {
     "name": "stdout",
     "output_type": "stream",
     "text": [
      "Overwriting test.html\n"
     ]
    }
   ],
   "source": [
    "%%file test.html\n",
    "<!DOCTYPE html>\n",
    "<html lang=\"en\">\n",
    "    <head>\n",
    "        <meta charset=\"utf-8\">\n",
    "        <meta name=\"generator\" content=\"ipython...\">\n",
    "        <!--<meta http-equiv=\"Refresh\" content=\"1;URL=first_site.html\">-->\n",
    "        <title>test_site</title>\n",
    "        <style>\n",
    "            @import url(\"std.css\");\n",
    "            h3{text-decoration:underline;color:green;border:1px dashed orange}\n",
    "            a:link{color:yellow;font-size:150%}\n",
    "            a:visited{color:blue;font-size:200%}\n",
    "            a:hover{color:green;font-size:250%}\n",
    "            a:active{color:purple;font-size:300%}\n",
    "            \n",
    "            *{margin:0}\n",
    "            p{clear:both}\n",
    "            img{border:3px solid;margin:20px;padding:5px 10px 15px 20px;float:right}\n",
    "        </style>\n",
    "        \n",
    "    </head>\n",
    "    \n",
    "    <body>\n",
    "        <h2>this line uses the h2 style</h2>\n",
    "        <h3>this line uses the h3 style</h3>\n",
    "        <h4 class=\"stblue\">this line uses the h4 style (style chosen from the class)</h4>\n",
    "        <h4 id=\"stpurple\">this line uses the h4 style (style is chosen from the id)</h4>\n",
    "        <hr>\n",
    "        <a href=\"http://wengscafe.de\" style=\"background-color:yellow;font-size:40px\">my blog </a>\n",
    "        <br>\n",
    "        <a href=\"mailto:chi-hung.weng@gmx.de\"> my email </a>\n",
    "        <br>\n",
    "        <a href=\"#bookmark01\"> a bookmark </a>\n",
    "        <hr>\n",
    "        <img src=\"https://wengscafe.files.wordpress.com/2016/09/ldos-daah-n99-lambda0to4.gif?w=1700&h=1276\" alt=\"animation unavailable\" title=\"animation\" width=300>\n",
    "        <img src=\"https://wengscafe.files.wordpress.com/2016/09/ldos-daah-n99-lambda0to4.gif?w=1700&h=1276\" alt=\"animation unavailable\" title=\"animation\" width=300>\n",
    "        <div>\n",
    "            <p id=\"bookmark01\"><span style=\"color:purple;font-size:200%;font-family: times, serif; font-size:14pt; font-style:italic\">When Mr Trump</span> is pushed on why he is \"always in the present\" he tells the journalist: \"The problem people have with me is that I'm not in the past, I'm a person that thinks to the future.\n",
    "            \"I learn from the past but I don't focus on the past, which I think is a very important lesson,\" he says, before adding that he \"doesn't reflect and he doesn't want anyone else to\". \n",
    "            In another interview he says: \"I don't like to analyse myself because I might not like what I see.\"</p>\n",
    "        </div>\n",
    "        <div>\n",
    "            <p>\"I was a very rebellious kind of person,\" Mr Trump says about his childhood in Queens, New York. \"I don't like to talk about it, actually. But I was a very rebellious person and very set in my ways.\n",
    "            \"I loved to fight. I always loved to fight,\" he says, before adding: \"All types of fights. Any kind of fight, I loved it, including physical.\"</p>        \n",
    "        </div>\n",
    "        \n",
    "        <hr>\n",
    "        <a href=\"http://wengscafe.de\"><img src=\"https://wengscafe.files.wordpress.com/2016/09/ldos-daah-n99-lambda0to4.gif?w=1700&h=1276\" alt=\"animation unavailable\" title=\"animation\" width=300></a>\n",
    "        <hr>\n",
    "        <img src=\"https://wengscafe.files.wordpress.com/2016/09/cropped-234.jpg\" alt=\"animation unavailable\" title=\"a picture\" width=100>\n",
    "        <img src=\"https://wengscafe.files.wordpress.com/2016/09/cropped-234.jpg\" alt=\"animation unavailable\" title=\"a picture\" width=100>\n",
    "        <hr>\n",
    "        <figure>\n",
    "            <img src=\"https://wengscafe.files.wordpress.com/2016/09/cropped-234.jpg\" alt=\"animation unavailable\" title=\"a picture\" width=100>\n",
    "            <img src=\"https://wengscafe.files.wordpress.com/2016/09/cropped-234.jpg\" alt=\"animation unavailable\" title=\"a picture\" width=100>\n",
    "            <figcaption>Taiwan</figcaption>\n",
    "        </figure>\n",
    "        <hr>\n",
    "        <a href=\"http://wengscafe.de\">my blog </a>\n",
    "        <br>\n",
    "        <br>\n",
    "        <a href=\"#bookmark01\"> a bookmark </a>\n",
    "    </body>\n",
    "\n",
    "</html>"
   ]
  },
  {
   "cell_type": "code",
   "execution_count": 86,
   "metadata": {
    "collapsed": true
   },
   "outputs": [],
   "source": [
    "soup = BeautifulSoup(test_html,\"html.parser\")"
   ]
  },
  {
   "cell_type": "code",
   "execution_count": 87,
   "metadata": {
    "collapsed": false
   },
   "outputs": [
    {
     "name": "stdout",
     "output_type": "stream",
     "text": [
      "<!DOCTYPE html>\n",
      "<html lang=\"zh-tw\">\n",
      " <head>\n",
      "  <meta charset=\"utf-8\">\n",
      "   <meta content=\"ipython...\" name=\"generator\">\n",
      "    <meta content=\"1;URL=first_site.html\" http-equiv=\"Refresh\">\n",
      "     <title>\n",
      "      test_hyperlink\n",
      "     </title>\n",
      "    </meta>\n",
      "   </meta>\n",
      "  </meta>\n",
      " </head>\n",
      " <body>\n",
      "  <a href=\"http://wengscafe.de\" style=\"background-color:yellow;font_size:40px\">\n",
      "   my blog\n",
      "  </a>\n",
      "  <br>\n",
      "   <a href=\"mailto:chi-hung.weng@gmx.de\">\n",
      "    my email\n",
      "   </a>\n",
      "   <br>\n",
      "    <a href=\"#bookmark01\">\n",
      "     a bookmark\n",
      "    </a>\n",
      "    <hr>\n",
      "     <div>\n",
      "      <p id=\"bookmark01\">\n",
      "       When Mr Trump is pushed on why he is \"always in the present\" he tells the journalist: \"The problem people have with me is that I'm not in the past, I'm a person that thinks to the future.\n",
      "            \"I learn from the past but I don't focus on the past, which I think is a very important lesson,\" he says, before adding that he \"doesn't reflect and he doesn't want anyone else to\". \n",
      "            In another interview he says: \"I don't like to analyse myself because I might not like what I see.\"\n",
      "      </p>\n",
      "     </div>\n",
      "     <div>\n",
      "      <p>\n",
      "       \"I was a very rebellious kind of person,\" Mr Trump says about his childhood in Queens, New York. \"I don't like to talk about it, actually. But I was a very rebellious person and very set in my ways.\n",
      "            \"I loved to fight. I always loved to fight,\" he says, before adding: \"All types of fights. Any kind of fight, I loved it, including physical.\"\n",
      "      </p>\n",
      "     </div>\n",
      "    </hr>\n",
      "   </br>\n",
      "  </br>\n",
      " </body>\n",
      "</html>\n",
      "\n"
     ]
    }
   ],
   "source": [
    "print soup.prettify()"
   ]
  },
  {
   "cell_type": "code",
   "execution_count": null,
   "metadata": {
    "collapsed": true
   },
   "outputs": [],
   "source": []
  },
  {
   "cell_type": "code",
   "execution_count": 132,
   "metadata": {
    "collapsed": false
   },
   "outputs": [
    {
     "name": "stdout",
     "output_type": "stream",
     "text": [
      "Overwriting testFloat.html\n"
     ]
    }
   ],
   "source": [
    "%%file testFloat.html\n",
    "<!DOCTYPE html>\n",
    "<html lang=\"en\">\n",
    "    <head>\n",
    "        <meta charset=\"utf-8\">\n",
    "        <meta name=\"generator\" content=\"ipython...\">\n",
    "        <title>test_site</title>\n",
    "        <style>\n",
    "            @font-face{font-family:GermanFont;src:url(\"/fonts/FlutedGermanica.ttf\")}\n",
    "            *{margin:0}\n",
    "            <--p{clear:both}-->\n",
    "            h2{text-align: center;font-family:GermanFont}\n",
    "            figure{border:1px solid transparent;padding:0px 0px 10px 0px;float:left;margin:10px}\n",
    "            figcaption{width: 300px;font-size:80%;text-align: center; font-style:italic}\n",
    "            .fistChar{color:purple;font-size:150%;font-family: times, serif; font-style:italic;font-weight:bold}\n",
    "            .styDivBody{margin:20px auto}\n",
    "            .styP{margin:10px}\n",
    "\n",
    "        </style>\n",
    "        \n",
    "    </head>\n",
    "    \n",
    "    <body>\n",
    "        <div class=\"styDivBody\">        \n",
    "            <h2>US election: What Trump interviews with biographer tell us</h2>\n",
    "\n",
    "            <figure>\n",
    "                <img src=\"https://encrypted-tbn2.gstatic.com/images?q=tbn:ANd9GcSR_d47JOgha61YVMKDjPmcdNZglJ-eJKv-AzQIZ4rHVk_-lJn7fQ\" title=\"Mr. Trump\" width=300>\n",
    "                <figcaption>Mr. Trump</figcaption>\n",
    "            </figure>\n",
    "\n",
    "            <p class=\"styP\"><span class=\"fistChar\">When Mr Trump</span> is pushed on why he is \"always in the present\" he tells the journalist: \"The problem people have with me is that I'm not in the past, I'm a person that thinks to the future.\n",
    "            \"I learn from the past but I don't focus on the past, which I think is a very important lesson,\" he says, before adding that he \"doesn't reflect and he doesn't want anyone else to\". \n",
    "            In another interview he says: \"I don't like to analyse myself because I might not like what I see.\"\n",
    "            </p>\n",
    "            <p class=\"styP\">\"I was a very rebellious kind of person,\" Mr Trump says about his childhood in Queens, New York. \"I don't like to talk about it, actually. But I was a very rebellious person and very set in my ways.\n",
    "            \"I loved to fight. I always loved to fight,\" he says, before adding: \"All types of fights. Any kind of fight, I loved it, including physical.\"\n",
    "            </p>\n",
    "            <p class=\"styP\">On seeing his name in print for the first time (when he hit a home run as a promising young baseball player), he says: \"Seeing my name in print felt good, it was very interesting.\"\n",
    "            </p>\n",
    "            </p>\n",
    "            <p class=\"styP\">As part of his research, Mr D'Antonio also spoke to Mr Trump's ex-wife Ivana. She told him a story about a skiing trip they took in Colorado soon after they began dating.\n",
    "            </p>\n",
    "            </p>\n",
    "            <p class=\"styP\">Mr Trump, who was unaware that Ivana was a confident skier, went down a slope and called for his girlfriend to follow him, saying: \"Come on, baby. Come on, baby.\"\n",
    "            </p>\n",
    "        </div>\n",
    "    </body>\n",
    "\n",
    "</html>"
   ]
  },
  {
   "cell_type": "code",
   "execution_count": 243,
   "metadata": {
    "collapsed": false
   },
   "outputs": [
    {
     "name": "stdout",
     "output_type": "stream",
     "text": [
      "Overwriting testTable.html\n"
     ]
    }
   ],
   "source": [
    "%%file testTable.html\n",
    "<!DOCTYPE html>\n",
    "<html lang=\"en\">\n",
    "    <head>\n",
    "        <meta charset=\"utf-8\">\n",
    "        <meta name=\"generator\" content=\"ipython...\">\n",
    "        <title>test_site</title>\n",
    "        <style>\n",
    "            @font-face{font-family:GermanFont;src:url(\"fonts/FlutedGermanica.ttf\")}\n",
    "            <--*{margin:0}-->\n",
    "            <--p{clear:both}-->\n",
    "            h2{text-align: center;font-family:GermanFont}\n",
    "            figure{border:1px solid transparent;padding:0px 0px 10px 0px;float:left;margin:10px}\n",
    "            figcaption{width: 300px;font-size:80%;text-align: center; font-style:italic}\n",
    "            .fistChar{color:purple;font-size:150%;font-family: times, serif; font-style:italic;font-weight:bold}\n",
    "            .styDivBody{margin:20px auto}\n",
    "            .styP{margin:10px}\n",
    "            table{border-collapse:collapse;width:500px;border:3px solid gray}\n",
    "            tr,td{border-collapse:collapse;border:2px solid gray}\n",
    "            thead{background-color:yellow;text-align:center;font-family:GermanFont;}\n",
    "            tbody{background-color:#E0F8F1;text-align:center}\n",
    "            tbody td:nth-child(2n){background-color:#00CACA}\n",
    "            tbody td:nth-child(2n+1){background-color:#81DAF5}\n",
    "                                     \n",
    "            .styDiv{width:500px;padding-bottom:10px;margin:5x}\n",
    "            .styButton{width:500px;text-align:center;}\n",
    "            .styLabel{font-family:GermanFont;width:100px;float:left;text-align:right;padding-right:3px}\n",
    "            fieldset{width:500px;margin:15px;border-radius:15px;border:1px dashed #A5DF00}\n",
    "        </style>\n",
    "        \n",
    "    </head>\n",
    "    \n",
    "    <body>\n",
    "        <table>\n",
    "            <caption><h3>A Wierd Calendar</h3></caption>\n",
    "            <thead>\n",
    "                <tr>\n",
    "                    <th>Mon</th>\n",
    "                    <th>Tue</th>\n",
    "                    <th>Wed</th>\n",
    "                    <th>Thu</th>\n",
    "                    <th>Fri</th>\n",
    "                    <th>Sat</th>\n",
    "                    <th>Sun</th>\n",
    "                </tr>\n",
    "            </thead>\n",
    "\n",
    "            <tbody>\n",
    "                <tr>\n",
    "                    <td>1</td>\n",
    "                    <td>2</td>\n",
    "                    <td>3</td>\n",
    "                    <td>4</td>\n",
    "                    <td>5</td>\n",
    "                    <td>6</td>\n",
    "                    <td>7</td>\n",
    "                </tr>\n",
    "                <tr>\n",
    "                    <td>8</td>\n",
    "                    <td>9</td>\n",
    "                    <td>10</td>\n",
    "                    <td>11</td>\n",
    "                    <td>12</td>\n",
    "                    <td>13</td>\n",
    "                    <td>14</td>\n",
    "                </tr>\n",
    "                <tr>\n",
    "                    <td>15</td>\n",
    "                    <td>16</td>\n",
    "                    <td>17</td>\n",
    "                    <td>18</td>\n",
    "                    <td>19</td>\n",
    "                    <td>20</td>\n",
    "                    <td>21</td>\n",
    "                </tr>\n",
    "                <tr>\n",
    "                    <td>22</td>\n",
    "                    <td>23</td>\n",
    "                    <td>24</td>\n",
    "                    <td>25</td>\n",
    "                    <td>26</td>\n",
    "                    <td>27</td>\n",
    "                    <td>28</td>\n",
    "                </tr>\n",
    "                <tr>\n",
    "                    <td>29</td>\n",
    "                    <td>30</td>\n",
    "                    <td colspan='5'>31</td>\n",
    "                </tr>\n",
    "                \n",
    "            </tbody>\n",
    "        </table>\n",
    "                                     \n",
    "        <h3>how to put a word in the center of the box?</h3>\n",
    "        <div style=\"width:300px;height:200px;border:1px solid red;text-align:center;line-height:200px\"> text here </div>\n",
    "        <br>                       \n",
    "        <div style=\"width:500px;height:300px;border:1px solid red;padding-bottom:30px;padding-top:30px\"> text here </div>\n",
    "        <hr>\n",
    "\n",
    "        <form action=# method=\"post\">\n",
    "        <fieldset>\n",
    "            <legend style=\"font-family:GermanFont\"> fill out this form <em>(important!)</em></legend>\n",
    "            <div class=\"styDiv\">\n",
    "                <label for=\"Name\" class=\"styLabel\">name:</label>\n",
    "                <input type=\"text\" id=\"Name\" name=\"account\" value=\"guest\">\n",
    "            </div>\n",
    "            <div class=\"styDiv\">\n",
    "                <label for=\"Kenntwort\" class=\"styLabel\">password:</label>\n",
    "                <input type=\"password\" id=\"Kenntwort\" name=\"passwd\" maxlength=\"8\">\n",
    "            </div>\n",
    "        </fieldset>\n",
    "       <fieldset>\n",
    "            <legend style=\"font-family:GermanFont\">optional</legend>\n",
    "            <div class=\"styDiv\">\n",
    "\n",
    "                <input type=\"radio\" name=\"gender\" value=\"male\" id=\"male\">\n",
    "                <label for=\"male\" Style=\"font-family:GermanFont\">male</label>\n",
    "\n",
    "                <input type=\"radio\" name=\"gender\" value=\"female\" id=\"female\">\n",
    "                <label for=\"female\" Style=\"font-family:GermanFont\">female</label>\n",
    "\n",
    "                <input type=\"radio\" name=\"gender\" value=\"neutral\" id=\"neutral\">\n",
    "                <label for=\"neutral\" Style=\"font-family:GermanFont\">neutral</label>\n",
    "            </div>\n",
    "                     \n",
    "            <div class=\"styDiv\">\n",
    "                <label for=\"memo\" class=\"styLabel\">suggestions:</label>\n",
    "                <textarea cols=\"40\" rows=\"5\" id=\"memo\" name=\"memo\"></textarea>\n",
    "            <div class=\"styButton\">\n",
    "                <input type=\"submit\" value=\"sent out\">\n",
    "                <input type=\"reset\" value=\"clear\">\n",
    "            </div>\n",
    "       </fieldset>\n",
    "\n",
    "    </body>\n",
    "</html>"
   ]
  },
  {
   "cell_type": "code",
   "execution_count": null,
   "metadata": {
    "collapsed": true
   },
   "outputs": [],
   "source": []
  }
 ],
 "metadata": {
  "anaconda-cloud": {},
  "kernelspec": {
   "display_name": "Python [Root]",
   "language": "python",
   "name": "Python [Root]"
  },
  "language_info": {
   "codemirror_mode": {
    "name": "ipython",
    "version": 2
   },
   "file_extension": ".py",
   "mimetype": "text/x-python",
   "name": "python",
   "nbconvert_exporter": "python",
   "pygments_lexer": "ipython2",
   "version": "2.7.12"
  }
 },
 "nbformat": 4,
 "nbformat_minor": 0
}
