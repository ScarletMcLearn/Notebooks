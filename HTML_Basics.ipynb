{
 "cells": [
  {
   "cell_type": "code",
   "execution_count": 103,
   "metadata": {
    "collapsed": true
   },
   "outputs": [],
   "source": [
    "import numpy as np\n",
    "import matplotlib.pyplot as plt\n",
    "from random import randint\n",
    "from scipy import integrate"
   ]
  },
  {
   "cell_type": "code",
   "execution_count": 104,
   "metadata": {
    "collapsed": true
   },
   "outputs": [],
   "source": [
    "from bs4 import BeautifulSoup # For HTML parsing\n",
    "import urllib2 # Website connections\n",
    "import re # Regular expressions\n",
    "from time import sleep # To prevent overwhelming the server between connections\n",
    "from collections import Counter # Keep track of our term counts\n",
    "from nltk.corpus import stopwords # Filter out stopwords, such as 'the', 'or', 'and'\n",
    "import pandas as pd # For converting results to a dataframe and bar chart plots\n",
    "%matplotlib inline"
   ]
  },
  {
   "cell_type": "markdown",
   "metadata": {},
   "source": [
    "# My purpose in this notebook is to learn HTML basics."
   ]
  },
  {
   "cell_type": "code",
   "execution_count": 7,
   "metadata": {
    "collapsed": false
   },
   "outputs": [
    {
     "name": "stdout",
     "output_type": "stream",
     "text": [
      "Writing test.html\n"
     ]
    }
   ],
   "source": [
    "%%file test.html\n",
    "<img src=\"http://edu.iiiedu.org.tw/moodle/theme/EduMoodle/slideshow/images/1.gif\">"
   ]
  },
  {
   "cell_type": "code",
   "execution_count": 59,
   "metadata": {
    "collapsed": false,
    "scrolled": true
   },
   "outputs": [],
   "source": [
    "f=open(\"test.html\",'r')\n",
    "test=f.read()\n",
    "soup = BeautifulSoup(test,\"html.parser\")"
   ]
  },
  {
   "cell_type": "code",
   "execution_count": 88,
   "metadata": {
    "collapsed": false
   },
   "outputs": [
    {
     "data": {
      "text/html": [
       "<!DOCTYPE html>\n",
       "<html lang=\"zh-tw\">\n",
       "    <head>\n",
       "        <meta charset=\"utf-8\">\n",
       "        <meta name=\"generator\" content=\"ipython...\">\n",
       "        <!--meta http-equiv=\"Refresh\" content=\"1;URL=page_second.html\">-->\n",
       "        <title> this is the title of my first website. </title>\n",
       "    </head>\n",
       "    <body>\n",
       "        <!--<img src=\"http://edu.iiiedu.org.tw/moodle/theme/EduMoodle/slideshow/images/1.gif\">-->\n",
       "        <h2 style=\"color:red;font_size:40px;\"> the font here should be large and in red. </h2>\n",
       "        <h1>h1</h1>\n",
       "        <!--<h2>h2</h2>-->\n",
       "        <!--<h3>h3</h3>-->\n",
       "        <!--<h4>h4</h4>-->\n",
       "        <!--<h5>h5</h5>-->\n",
       "        <h6>h6</h6>\n",
       "        \n",
       "        <ul>\n",
       "            <li> 宋詞 </li> \n",
       "                <ol>\n",
       "                    <li> 歐陽修</li>\n",
       "                    <li> 李清照</li>\n",
       "                        <ul>\n",
       "                            <li> 菩薩蠻</li>\n",
       "                            <li> 一翦梅</li>\n",
       "                        </ul>\n",
       "                </ol>            \n",
       "            </li>\n",
       "            <li> 元曲</li>\n",
       "            <li> 唐詩</li>\n",
       "        </ul>\n",
       "\n",
       "        <br>\n",
       "        <hr>\n",
       "        <br>\n",
       "        <dl>\n",
       "            <dt>coffee</dt>\n",
       "            <dd>black hot drink</dd>\n",
       "            <dt>milk</dt>\n",
       "            <dd>white cold drink</dd>\n",
       "        </dl>\n",
       "        <p>More than five hours of previously unreleased interviews with \n",
       "            Donald Trump have been released to the New York Times. What do\n",
       "            the tapes tell us?</p>\n",
       "        <p>The interviews, which were carried out by journalist Michael D\n",
       "              'Antonio in 2014, were one of the last extensive conversations\n",
       "               Mr Trump had with anyone in the media before he ran for president. </p>\n",
       "    </body>\n",
       "</html>"
      ],
      "text/plain": [
       "<IPython.core.display.HTML object>"
      ]
     },
     "metadata": {},
     "output_type": "display_data"
    }
   ],
   "source": [
    "%%html\n",
    "<!DOCTYPE html>\n",
    "<html lang=\"zh-tw\">\n",
    "    <head>\n",
    "        <meta charset=\"utf-8\">\n",
    "        <meta name=\"generator\" content=\"ipython...\">\n",
    "        <!--meta http-equiv=\"Refresh\" content=\"1;URL=page_second.html\">-->\n",
    "        <title> this is the title of my first website. </title>\n",
    "    </head>\n",
    "    <body>\n",
    "        <!--<img src=\"http://edu.iiiedu.org.tw/moodle/theme/EduMoodle/slideshow/images/1.gif\">-->\n",
    "        <h2 style=\"color:red;font_size:40px;\"> the font here should be large and in red. </h2>\n",
    "        <h1>h1</h1>\n",
    "        <!--<h2>h2</h2>-->\n",
    "        <!--<h3>h3</h3>-->\n",
    "        <!--<h4>h4</h4>-->\n",
    "        <!--<h5>h5</h5>-->\n",
    "        <h6>h6</h6>\n",
    "        \n",
    "        <ul>\n",
    "            <li> 宋詞 </li> \n",
    "                <ol>\n",
    "                    <li> 歐陽修</li>\n",
    "                    <li> 李清照</li>\n",
    "                        <ul>\n",
    "                            <li> 菩薩蠻</li>\n",
    "                            <li> 一翦梅</li>\n",
    "                        </ul>\n",
    "                </ol>            \n",
    "            </li>\n",
    "            <li> 元曲</li>\n",
    "            <li> 唐詩</li>\n",
    "        </ul>\n",
    "\n",
    "        <br>\n",
    "        <hr>\n",
    "        <br>\n",
    "        <dl>\n",
    "            <dt>coffee</dt>\n",
    "            <dd>black hot drink</dd>\n",
    "            <dt>milk</dt>\n",
    "            <dd>white cold drink</dd>\n",
    "        </dl>\n",
    "        <p>More than five hours of previously unreleased interviews with \n",
    "            Donald Trump have been released to the New York Times. What do\n",
    "            the tapes tell us?</p>\n",
    "        <p>The interviews, which were carried out by journalist Michael D\n",
    "              'Antonio in 2014, were one of the last extensive conversations\n",
    "               Mr Trump had with anyone in the media before he ran for president. </p>\n",
    "    </body>\n",
    "</html>"
   ]
  },
  {
   "cell_type": "code",
   "execution_count": 89,
   "metadata": {
    "collapsed": false
   },
   "outputs": [
    {
     "name": "stdout",
     "output_type": "stream",
     "text": [
      "Overwriting page_second.html\n"
     ]
    }
   ],
   "source": [
    "%%file page_second.html\n",
    "<!DOCTYPE html>\n",
    "<html lang=\"zh-tw\">\n",
    "    <head>\n",
    "        <meta charset=\"utf-8\">\n",
    "        <meta name=\"generator\" content=\"ipython...\">\n",
    "        <!--<meta http-equiv=\"Refresh\" content=\"1;URL=first_site.html\">-->\n",
    "        <title> this is the title of my second page. </title>\n",
    "    </head>\n",
    "    \n",
    "    <body>\n",
    "        <h2 style=\"color:red;font_size:40px;\"> this is my second page. </h2>\n",
    "    </body>\n",
    "\n",
    "</html>"
   ]
  },
  {
   "cell_type": "code",
   "execution_count": 168,
   "metadata": {
    "collapsed": false
   },
   "outputs": [
    {
     "name": "stdout",
     "output_type": "stream",
     "text": [
      "Overwriting std.css\n"
     ]
    }
   ],
   "source": [
    "%%file std.css\n",
    "h2{text-decoration:underline;color:blue;border:1px solid red;hight:500}\n",
    ".stblue{color:blue;text-transform:capitalize}\n",
    "#stpurple{color:purple;text-transform:capitalize}"
   ]
  },
  {
   "cell_type": "code",
   "execution_count": 177,
   "metadata": {
    "collapsed": false
   },
   "outputs": [
    {
     "data": {
      "text/html": [
       "<!DOCTYPE html>\n",
       "<html lang=\"en\">\n",
       "    <head>\n",
       "        <meta charset=\"utf-8\">\n",
       "        <meta name=\"generator\" content=\"ipython...\">\n",
       "        <!--<meta http-equiv=\"Refresh\" content=\"1;URL=first_site.html\">-->\n",
       "        <title>test_site</title>\n",
       "        <style>\n",
       "            @import url(\"std.css\");\n",
       "            h3{text-decoration:underline;color:green;border:1px dashed orange}\n",
       "            a:link{color:yellow;font-size:150%}\n",
       "            a:visited{color:blue;font-size:200%}\n",
       "            a:hover{color:green;font-size:250%}\n",
       "            a:active{color:purple;font-size:300%}\n",
       "        </style>\n",
       "        \n",
       "    </head>\n",
       "    \n",
       "    <body>\n",
       "        <h2>this line uses the h2 style</h2>\n",
       "        <h3>this line uses the h3 style</h3>\n",
       "        <h4 class=\"stblue\">this line uses the h4 style (style chosen from the class)</h4>\n",
       "        <h4 id=\"stpurple\">this line uses the h4 style (style is chosen from the id)</h4>\n",
       "        <hr>\n",
       "        <a href=\"http://wengscafe.de\" style=\"background-color:yellow;font-size:40px\">my blog </a>\n",
       "        <br>\n",
       "        <a href=\"mailto:chi-hung.weng@gmx.de\"> my email </a>\n",
       "        <br>\n",
       "        <a href=\"#bookmark01\"> a bookmark </a>\n",
       "        <hr>\n",
       "        <div>\n",
       "            <p id=\"bookmark01\"><span style=\"color:purple;font-size:200%;font-family: times, serif; font-size:14pt; font-style:italic\">When Mr Trump</span> is pushed on why he is \"always in the present\" he tells the journalist: \"The problem people have with me is that I'm not in the past, I'm a person that thinks to the future.\n",
       "            \"I learn from the past but I don't focus on the past, which I think is a very important lesson,\" he says, before adding that he \"doesn't reflect and he doesn't want anyone else to\". \n",
       "            In another interview he says: \"I don't like to analyse myself because I might not like what I see.\"</p>\n",
       "        </div>\n",
       "        <div>\n",
       "            <p>\"I was a very rebellious kind of person,\" Mr Trump says about his childhood in Queens, New York. \"I don't like to talk about it, actually. But I was a very rebellious person and very set in my ways.\n",
       "            \"I loved to fight. I always loved to fight,\" he says, before adding: \"All types of fights. Any kind of fight, I loved it, including physical.\"</p>        \n",
       "        </div>\n",
       "        \n",
       "        <hr>\n",
       "        <a href=\"http://wengscafe.de\"><img src=\"https://wengscafe.files.wordpress.com/2016/09/ldos-daah-n99-lambda0to4.gif?w=1700&h=1276\" alt=\"animation unavailable\" title=\"animation\" width=300></a>\n",
       "        <hr>\n",
       "        <img src=\"https://wengscafe.files.wordpress.com/2016/09/cropped-234.jpg\" alt=\"animation unavailable\" title=\"a picture\" width=100>\n",
       "        <img src=\"https://wengscafe.files.wordpress.com/2016/09/cropped-234.jpg\" alt=\"animation unavailable\" title=\"a picture\" width=100>\n",
       "        <hr>\n",
       "        <figure>\n",
       "            <img src=\"https://wengscafe.files.wordpress.com/2016/09/cropped-234.jpg\" alt=\"animation unavailable\" title=\"a picture\" width=100>\n",
       "            <img src=\"https://wengscafe.files.wordpress.com/2016/09/cropped-234.jpg\" alt=\"animation unavailable\" title=\"a picture\" width=100>\n",
       "            <figcaption>Taiwan</figcaption>\n",
       "        </figure>\n",
       "        <hr>\n",
       "        <a href=\"http://wengscafe.de\">my blog </a>\n",
       "        <br>\n",
       "        <br>\n",
       "        <a href=\"#bookmark01\"> a bookmark </a>\n",
       "    </body>\n",
       "\n",
       "</html>"
      ],
      "text/plain": [
       "<IPython.core.display.HTML object>"
      ]
     },
     "metadata": {},
     "output_type": "display_data"
    }
   ],
   "source": [
    "%%html\n",
    "<!DOCTYPE html>\n",
    "<html lang=\"en\">\n",
    "    <head>\n",
    "        <meta charset=\"utf-8\">\n",
    "        <meta name=\"generator\" content=\"ipython...\">\n",
    "        <!--<meta http-equiv=\"Refresh\" content=\"1;URL=first_site.html\">-->\n",
    "        <title>test_site</title>\n",
    "        <style>\n",
    "            @import url(\"std.css\");\n",
    "            h3{text-decoration:underline;color:green;border:1px dashed orange}\n",
    "            a:link{color:yellow;font-size:150%}\n",
    "            a:visited{color:blue;font-size:200%}\n",
    "            a:hover{color:green;font-size:250%}\n",
    "            a:active{color:purple;font-size:300%}\n",
    "        </style>\n",
    "        \n",
    "    </head>\n",
    "    \n",
    "    <body>\n",
    "        <h2>this line uses the h2 style</h2>\n",
    "        <h3>this line uses the h3 style</h3>\n",
    "        <h4 class=\"stblue\">this line uses the h4 style (style chosen from the class)</h4>\n",
    "        <h4 id=\"stpurple\">this line uses the h4 style (style is chosen from the id)</h4>\n",
    "        <hr>\n",
    "        <a href=\"http://wengscafe.de\" style=\"background-color:yellow;font-size:40px\">my blog </a>\n",
    "        <br>\n",
    "        <a href=\"mailto:chi-hung.weng@gmx.de\"> my email </a>\n",
    "        <br>\n",
    "        <a href=\"#bookmark01\"> a bookmark </a>\n",
    "        <hr>\n",
    "        <div>\n",
    "            <p id=\"bookmark01\"><span style=\"color:purple;font-size:200%;font-family: times, serif; font-size:14pt; font-style:italic\">When Mr Trump</span> is pushed on why he is \"always in the present\" he tells the journalist: \"The problem people have with me is that I'm not in the past, I'm a person that thinks to the future.\n",
    "            \"I learn from the past but I don't focus on the past, which I think is a very important lesson,\" he says, before adding that he \"doesn't reflect and he doesn't want anyone else to\". \n",
    "            In another interview he says: \"I don't like to analyse myself because I might not like what I see.\"</p>\n",
    "        </div>\n",
    "        <div>\n",
    "            <p>\"I was a very rebellious kind of person,\" Mr Trump says about his childhood in Queens, New York. \"I don't like to talk about it, actually. But I was a very rebellious person and very set in my ways.\n",
    "            \"I loved to fight. I always loved to fight,\" he says, before adding: \"All types of fights. Any kind of fight, I loved it, including physical.\"</p>        \n",
    "        </div>\n",
    "        \n",
    "        <hr>\n",
    "        <a href=\"http://wengscafe.de\"><img src=\"https://wengscafe.files.wordpress.com/2016/09/ldos-daah-n99-lambda0to4.gif?w=1700&h=1276\" alt=\"animation unavailable\" title=\"animation\" width=300></a>\n",
    "        <hr>\n",
    "        <img src=\"https://wengscafe.files.wordpress.com/2016/09/cropped-234.jpg\" alt=\"animation unavailable\" title=\"a picture\" width=100>\n",
    "        <img src=\"https://wengscafe.files.wordpress.com/2016/09/cropped-234.jpg\" alt=\"animation unavailable\" title=\"a picture\" width=100>\n",
    "        <hr>\n",
    "        <figure>\n",
    "            <img src=\"https://wengscafe.files.wordpress.com/2016/09/cropped-234.jpg\" alt=\"animation unavailable\" title=\"a picture\" width=100>\n",
    "            <img src=\"https://wengscafe.files.wordpress.com/2016/09/cropped-234.jpg\" alt=\"animation unavailable\" title=\"a picture\" width=100>\n",
    "            <figcaption>Taiwan</figcaption>\n",
    "        </figure>\n",
    "        <hr>\n",
    "        <a href=\"http://wengscafe.de\">my blog </a>\n",
    "        <br>\n",
    "        <br>\n",
    "        <a href=\"#bookmark01\"> a bookmark </a>\n",
    "    </body>\n",
    "\n",
    "</html>"
   ]
  },
  {
   "cell_type": "code",
   "execution_count": 86,
   "metadata": {
    "collapsed": true
   },
   "outputs": [],
   "source": [
    "soup = BeautifulSoup(test_html,\"html.parser\")"
   ]
  },
  {
   "cell_type": "code",
   "execution_count": 87,
   "metadata": {
    "collapsed": false
   },
   "outputs": [
    {
     "name": "stdout",
     "output_type": "stream",
     "text": [
      "<!DOCTYPE html>\n",
      "<html lang=\"zh-tw\">\n",
      " <head>\n",
      "  <meta charset=\"utf-8\">\n",
      "   <meta content=\"ipython...\" name=\"generator\">\n",
      "    <meta content=\"1;URL=first_site.html\" http-equiv=\"Refresh\">\n",
      "     <title>\n",
      "      test_hyperlink\n",
      "     </title>\n",
      "    </meta>\n",
      "   </meta>\n",
      "  </meta>\n",
      " </head>\n",
      " <body>\n",
      "  <a href=\"http://wengscafe.de\" style=\"background-color:yellow;font_size:40px\">\n",
      "   my blog\n",
      "  </a>\n",
      "  <br>\n",
      "   <a href=\"mailto:chi-hung.weng@gmx.de\">\n",
      "    my email\n",
      "   </a>\n",
      "   <br>\n",
      "    <a href=\"#bookmark01\">\n",
      "     a bookmark\n",
      "    </a>\n",
      "    <hr>\n",
      "     <div>\n",
      "      <p id=\"bookmark01\">\n",
      "       When Mr Trump is pushed on why he is \"always in the present\" he tells the journalist: \"The problem people have with me is that I'm not in the past, I'm a person that thinks to the future.\n",
      "            \"I learn from the past but I don't focus on the past, which I think is a very important lesson,\" he says, before adding that he \"doesn't reflect and he doesn't want anyone else to\". \n",
      "            In another interview he says: \"I don't like to analyse myself because I might not like what I see.\"\n",
      "      </p>\n",
      "     </div>\n",
      "     <div>\n",
      "      <p>\n",
      "       \"I was a very rebellious kind of person,\" Mr Trump says about his childhood in Queens, New York. \"I don't like to talk about it, actually. But I was a very rebellious person and very set in my ways.\n",
      "            \"I loved to fight. I always loved to fight,\" he says, before adding: \"All types of fights. Any kind of fight, I loved it, including physical.\"\n",
      "      </p>\n",
      "     </div>\n",
      "    </hr>\n",
      "   </br>\n",
      "  </br>\n",
      " </body>\n",
      "</html>\n",
      "\n"
     ]
    }
   ],
   "source": [
    "print soup.prettify()"
   ]
  },
  {
   "cell_type": "code",
   "execution_count": null,
   "metadata": {
    "collapsed": true
   },
   "outputs": [],
   "source": []
  }
 ],
 "metadata": {
  "anaconda-cloud": {},
  "kernelspec": {
   "display_name": "Python [Root]",
   "language": "python",
   "name": "Python [Root]"
  },
  "language_info": {
   "codemirror_mode": {
    "name": "ipython",
    "version": 2
   },
   "file_extension": ".py",
   "mimetype": "text/x-python",
   "name": "python",
   "nbconvert_exporter": "python",
   "pygments_lexer": "ipython2",
   "version": "2.7.12"
  }
 },
 "nbformat": 4,
 "nbformat_minor": 0
}
