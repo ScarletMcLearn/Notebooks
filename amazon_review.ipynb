{
 "cells": [
  {
   "cell_type": "code",
   "execution_count": 1,
   "metadata": {
    "collapsed": true
   },
   "outputs": [],
   "source": [
    "import numpy as np\n",
    "import matplotlib.pyplot as plt\n",
    "from random import randint\n",
    "from scipy import integrate"
   ]
  },
  {
   "cell_type": "code",
   "execution_count": 2,
   "metadata": {
    "collapsed": true
   },
   "outputs": [],
   "source": [
    "from bs4 import BeautifulSoup # For HTML parsing\n",
    "import requests\n",
    "import urlparse\n",
    "import re # Regular expressions\n",
    "from time import sleep # To prevent overwhelming the server between connections\n",
    "from collections import Counter # Keep track of our term counts\n",
    "#from nltk.corpus import stopwords # Filter out stopwords, such as 'the', 'or', 'and'\n",
    "import nltk\n",
    "import pandas as pd # For converting results to a dataframe and bar chart plots\n",
    "%matplotlib inline"
   ]
  },
  {
   "cell_type": "code",
   "execution_count": 3,
   "metadata": {
    "collapsed": true
   },
   "outputs": [],
   "source": [
    "import datetime\n",
    "import seaborn as sns\n",
    "sns.set_context(\"poster\")\n",
    "sns.set(palette='Set2')"
   ]
  },
  {
   "cell_type": "code",
   "execution_count": 4,
   "metadata": {
    "collapsed": true
   },
   "outputs": [],
   "source": [
    "base_url = \"http://www.amazon.com/\""
   ]
  },
  {
   "cell_type": "code",
   "execution_count": 50,
   "metadata": {
    "collapsed": false,
    "scrolled": false
   },
   "outputs": [
    {
     "name": "stdout",
     "output_type": "stream",
     "text": [
      "http://www.amazon.com/BLACK-DECKER-CHV1410L-Lithium-Cordless/product-reviews/B006LXOJC0/ref=cm_cr_getr_d_paging_btm_2?ie=UTF8&pageNumber=2&reviewerType=all_reviews&pageSize=10\n",
      "http://www.amazon.com/BLACK-DECKER-CHV1410L-Lithium-Cordless/product-reviews/B006LXOJC0/ref=cm_cr_getr_d_paging_btm_3?ie=UTF8&pageNumber=3&reviewerType=all_reviews&pageSize=10\n",
      "Loved this Dustbuster for months.  Best I've owned.  BUT, it quit working.  I suspected the charger had failed.  First noticed the blue charging light no longer shined.  Tested the charging station terminals for voltage and found variable 1-3 volts DC, not 23 volts as marked.  Contacted Black & Decker, their telephone customer service offered a free replacement charger and it arrived in less than a week.  New charger appears to charge the vacuum and light now comes on.  Back in business.  This hand vac works really well, but first charger was short lived.UPDATE: Replacement charger has worked perfectly for maybe 2 years...just hope it keeps working.  This hand-vac is definitely the best I've owned and I've gone through a bunch of different ones over many years. \n",
      "\n",
      "The suction on this item is quite poor, and I cannot do anything productive with it.  I really just wanted to clean the car and do some light household cleaning; however, it cannot seem to do either.  Also, as other people have mentioned, the nozzle is quite annoying.  Do not buy this item. \n",
      "\n",
      "I ordered this vacuum after reading a lot of positive reviews. It came in the mail from Amazon. We charged it but after 20 minutes it needed to be charged again. So we plugged it in, however, it would not charge the battery. We sent it back and exchanged it for another. Same problem. It was really frustrating but at least Amazon refunded our money. Don't waste your time with this vacuum! \n",
      "\n",
      "I was so excited to get this when it arrived, but it doesn't work. At all. No charge, no light when you put it in the cradle, nothing. I called the number on the box and they told me they'd send another charger/stand, that that was most likely the issue.  It will take a week to ten days, then I can see if it works. If it still doesn't work, they told me to return it. We'll see. I'm not happy. Not happy at all. \n",
      "\n",
      "Do I love this thing!  GREAT suction.  Best I've ever had in a hand vac.  I put it right to the test on my [hardwood] staircase, and it worked like a charm.  Dust bunnies and sand were gone! Several reviewers have said (and the picture implies) that it sits at a marked angle when attached to the charger.  I haven't found this to be so.  It's almost upright.  See my pic.No trouble with holding a charge.  This is a cordless vac, folks, and you shouldn't expect more than 15-20 minutes' charge!When I took apart the filter, I discovered it's a little tricky to get the right parts lined up, so I marked the three \"ears\" and the slots where they slip.  See 2 pix.Great product.  Don't hesitate.  You won't be disappointed.mb \n",
      "\n",
      "Good for $42 but wish it was a smidge stronger.Edit: CHARGER POSSIBLE FIRE HAZARDThe protective outer on the wire slides off over time, exposing the wires underneath. Movement of the wire causes crazy green sparks to ignite and crackle. I even took a video but Amazon doesn't allow that I guess. I was lucky I caught this problem instead of finding out the hard way. My pillow falls to the ground quite often and could have jostled the charger even slightly.  Also I have a dog that comes in my room time to time that could have been hurt.  It's not as if I was rough with the charger, as I only plug it in for brief periods at a time and don't have pets or children messing with them. \n",
      "\n",
      "WOW....9 months of mild use and it just STOPS WORKING.......the only thing being picked up is dog hair and not a lot of it,  just around her cage. I can not return it because of using it for 9 months BUT it does not last. \n",
      "\n",
      "This vac has lots of power. Better than any I've had before. The reason I did not give it a 5 is for two reasons: (1) I do not like the stand-up base, it' s awkward and easy to knock over, plus I keep it on a counter in my laundry room that has cabinets above the counter and because of the height standing up I have to tilt the unit to put it on the stand. I prefer a model that lays down, (2) if you are not careful about pushing the filter in far enough the canister will blow dust out the sides. \n",
      "\n",
      "Vacuum stopped in the middle of cleaning (after 1 minute after took off base, and fully charged).  Won't turn on now.  The blue light indicated it was charging, and tried multiple times after this, and still won't turn on at all.When a lithium battery dies, it's worthless, and costs too much to replace.  Very disappointed. \n",
      "\n",
      "Not as powerfull as my older 14.4-volt Dustbuster but does work as a light duty vacuum. The best feature of course is the no memory effect battery. One thing that is unusual with this unit compared with other Dustbusters, is that the unit does not hang on the wall but is charged by placing vacuum cleaner on a flat plate charger sitting on a table or counter. A rather stupid idea in my opinion. I still recommend unit due to the lithium battery and expecting to use as a light duty vacuum.UPDATE:  after 2 months of use vacuum just quit!!! Apparently Lithium technology is not quite as robust as NiCd or NiMH technology. So BE AWARE that this type of cleaner is NOT repairable under warranty (not cost effective), instead they replace with another one. I'm sorta lucky as there is a repair center I could take unit to (it's about a 60 mile one-way trip tho!). However was informed that they would send in unit to B&D; and B&D; would then send me another unit. This would take 6 to 8 weeks!!! Not sure if they knew what they were talking about, as the new cleaner arrived at my house 8 days later! RECOMMEND that you keep all accessories, receipt and box til warranty runs out, as they must send in all that (or you will if no repair center close to your home) in order to exchange old unit for new unit. Will update again if neccessary. Still recommend cleaner as of this update. \n",
      "\n",
      "http://www.amazon.com/BLACK-DECKER-CHV1410L-Lithium-Cordless/product-reviews/B006LXOJC0/ref=cm_cr_getr_d_paging_btm_4?ie=UTF8&pageNumber=4&reviewerType=all_reviews&pageSize=10\n",
      "http://www.amazon.com/BLACK-DECKER-CHV1410L-Lithium-Cordless/product-reviews/B006LXOJC0/ref=cm_cr_getr_d_paging_btm_5?ie=UTF8&pageNumber=5&reviewerType=all_reviews&pageSize=10\n",
      "This model sucks up a lot of space and is not as versatile as the PHV1210.  I have an old one, doesn't hold the charge as well as it used to but it was only a 12 volt and I got my money's worth (paid $25 with no shipping on an E-bay special).  This model doesn't break down for cleaning as easily as the swivel vac and you cannot get inside the canister to wipe out the dust.  The pet hair carries an electric charge and sticks to the motor inlets, yuchh.  I don't like having to use my canister type vacuum to suck it out.  Not happy with it and it cannot be returned once it is opened.  What a waste of money.  I will be obtaining another swivel vac (1800 not the 1810 with not so glowing reviews or maybe even go back to the 1210). \n",
      "\n",
      "I'm very disappointed in this unit. I would return it if I still had the packaging. Black + Decker always makes such good stuff, it makes this particular experience all the less frustrating. So, here is why I say not to buy it...1.It comes apart all the time, even if it tips over from the floor charger (see uploaded photo).2.The charger sits on the floor, the vacuum sits on it at an angle and the whole thing takes up a ton of floor space.3.It's loud. It has a high pitch, whining sound for a motor. Very loud.4.The suction tube is very narrow and it plugs easily.5.It is difficult to clear plugs, since there is a one-way trap on the tube that keeps you from clearing it each way.6.The battery's charge seems limited, so you have to constantly charge it when you're not using it.See how it falls apart in the photo I've uploaded? This is at the slightest jarring. And yes... I do know how to properly assemble the unit. It's just a bad design.In fairness, the suction seems about average with other hand-held units I've used, and emptying it is simple. I also like that the filter comes apart for cleaning.But overall, avoid this unit. I'm a stay-at-home Dad of 6. I've had a chance to thoroughly test this thing... and I'm likely going to give it to the local Boys Town thrift store as a donation. \n",
      "\n",
      "Vacuum worked as expected for almost a year, then quit.  This was not cheap - I bought it because of my aversion to Ni-Cad batteries and was willing to pay more for a battery that would behave better.  I do not think the battery is bad, it sounds more like the motor.  We use it a few minutes every day to clean up after scooping litter boxes, then return it to the charger.  It was never abused or run flat.I have a cheap (~$15) red one (Ni-Cad) from Target that I bought as a stopgap since this one took weeks to get; I still use it, when I scoop the upstairs litter box.  The cheap red one still works, this expensive Li-ion one does not.Looking into warranty - have to find paperwork - and if they fix it I will revise this review.  In the meantime I'll kick myself for thinking that paying a lot more for \"new technology\" was in any way wise.Update 03/14/13.  My wife called Black and Decker for information about warranty repair and the women there told her to forget sending it in for repair, she would send a new one.  She did, it works, so Black and Decker gets 5 stars for customer service.  I up-rated the vacuum to three stars from one because the manufacturer stood behind it, but can't honestly give the vacuum itself 5 stars because it did quit after less than a year.Since it was already broken, I had nothing to loose by taking it apart.  I think the battery and motor are good, problem seems to be in the switch.  Fooling with it I was able to make it run sporadically - it is not fixed, but sometimes, if I wiggle the switch just right, it runs.  \"In the old days\" things like this had owner's manuals with exploded diagrams and parts lists, and one could order replacement parts - but nobody fixes anything these days, it is cheaper to swap it out for a new one.  Sorry, just being old and grumpy... the \"good old days\" probably weren't, really. \n",
      "\n",
      "I've owned various Dust Busters since the original square tan model came out decades ago.  This Lithium Ion model is by far and away the best I've used.  The motor is very powerful, and the Lithium Ion battery lasts a very long time.  The built-in, hinged brush attachment is a nice design innovation over previous models (the snap-in brush attachments were always getting lost).  The extendable nozzle is also very convenient (and again is an improvement over having to attach a separate extension tool).  The balance of the unit is quite good.Emptying the bin and cleaning the filter don't feel quite as easy to me as on earlier models, but I've gotten used to it.  The rotating nozzle seemed interesting but turned out to be a low-value gimmick (it's easier just to turn the whole unit 90 degrees when cleaning in vertical spaces).The unit produces a rather loud and high-pitched whine in use.  Louder than earlier models.  I guess this is the price of the extra power.  I can live with it.Two things keep this model from receiving five stars.  First is the charging base.  It's a circular base, and the unit sits on top of the base to charge.  I preferred the design of earlier Dust Busters with their wall-mount chargers.  I don't like losing floor space to the charging plate.  If I'm missing a wall-mount option, maybe somebody can fill in that detail with a comment on this review.  Second, the unit has an intensely bright blue LED that shines whenever the Dust Buster is sitting on its charging base, and blinks when the battery is actively charging.  It's surprisingly bright in a dark room, and thoroughly unnecessary.  Nothing a bit of electrical tape can't solve, but another example of an annoying trend among electronics and appliances designers, many of whom have jumped on the bright blue LED indicator light bandwagon.Overall:  Excellent design; powerful suction; long battery life; would prefer wall-mount charger. \n",
      "\n",
      "I have the product for a week now, and I used it everyday. I run 3 test on the battery, so far it takes 3 hours to have the dust buster to be fully charge. On a full charge you can vacuum continuously for about 8-9 minutes, after 9 minutes it will went dead, you will need to charge for another 3 hours before you can use it for another 9 minutes.The According to the product instruction the lithium battery has the life of 18 months and it come with 2 years warranty. It come with charging base and not wall-mount.Suction is pretty good for the size and weight 2.7lb, it can easily pick up the hair or particles on the floor. There is 2 built-in attachments, a flip-up brush and extendable crevice tool(attached to the nozzle). The brush is pretty handy but the crevice tool will not stay on firmly, it keep shrinking back into the nozzle, B&D; should add a lock mechanism to lock it into the position. You will need to bend down to use the vacuum even with the extension.It is bagless , cleaning is pretty easy, I am using my big vacuum cleaner to clean the small dust buster to avoid to deal with the dusty bagless issue. I am a neat freak. The dust bowl is translucent, easy to see when the dirt built-up. The filters and dust bowl can be easily taken apart and are all washable.The rotating nozzle is pretty neat. Vacuum nozzle is about 1.6 in length x .5 in width, the dust buster definitely not for wide area cleaning but for convenient use. \n",
      "\n",
      "I was so disappointed with the suction that I had to return it. It's slick, beautiful, and has the world's coolest charger. Considering that everyone else seems to love it, maybe my expectations were unrealistic.I tried so hard to love it. I even said \"well, it's not any good for the office, but if it will just clean the car it will be worth keeping.\" It sucked up hair nicely, but left in it's wake: loose pebbles; large pieces of sand; ice cream sprinkles; and things so tiny I'm not sure what they were.It's also uncomfortably loud. \n",
      "\n",
      " I don’t know if everyone else had low expectations or what?  The battery life is nothing to write home about.  This was listed as a top essential for back to school, maybe college kids are buying or receiving these and for all they know it is a good vac.  College kids aren’t cleaning, let’s be real.I charged it the first time overnight and I was lucky to get 10-15 mins of continual use time out of that charge, it was terrible.  Not to mention if you leave it off the charger for a day, again you will maybe get 5-10 minutes, if you’re lucky.  I find this ridiculous and totally uncalled for, what’s the ion battery doing?!?!?!  This thing was such a pain, a corded vac would have been better.  As I stated in my video, I wanted one I could clean the filter myself, this was a hassle to get the filter in and out.  The cleaning aspect was a pain because there is two pieces and you have to get them back in just right.  Lastly the design of the vac was not thought out very well.  There is a smaller hole in the top, which is stupid because inevitably there will be something you vacuumed up and you need to wipe off the inside, so its not all smeared around.  If this happens you better have a baby hands or a baby bottle brush to get in there.  The suction power is abysmal, it was struggling to get up cat food, crumbs, and litter.  I had to tilt it and scoop it in to get it to suck it up.  What a waste of time and money.  I can’t stand this thing.  I will say too, its LOUD.  I decided to step up and get the Black+Decker BDH2000PL MAX Lithium Pivot Vacuum, 20-volt, do yourself a favor and spend the extra money, you will be happy you did.I gave it two stars because I have experienced worse, if that makes this thing any more appealing. \n",
      "\n",
      "Loving the vacuum so far, except I can't hang it on the wall where I always kept my old one. Not in the description: It sits on top of a base with nozzle pointed up.  I'll have to put in a shelf or something for it, as I don't want it taking up counter space. \n",
      "\n",
      "I purchased this same thing last year for around this time, have only used it a handful of times and it will not hold a charge.  I called Amazon about it because it was not even a year old, they will not do anything about it since it has been over 90 days. \n",
      "\n",
      "I usually wait longer before writing a review but there were so many confusing reviews that I thought I would write this early review. I would also recommend going to B&D; website, which confirmed many of my own results. First, the continuous run time for me was 10 mins. The recharge time was 3 ½ hours from being totally drained-it would be less depending how it was used. These values are similar to what is on the B&D; website FAQ's. I liked the new stand for charging. The light on the unit is a bright blue but did not bother me. A big issue for me was when I first got it and put it on the charger. It seemed to flash fast, which can indicate a bad battery. However, the manual's idea of fast and my idea are different. When the unit is totally discharged and you turn it onit flashes really fast-so I am hoping that it is okay and is working great. This is not an real powerful vacuum cleaner-just used for picking up light dirt and debris and the pull out attachment is helpful. I talked to a battery specialist and he claims that lithium batteries will actually increase their run time-we will see. I posted this early so someone will not be misled by some of the other reviews.Late comment- went from 5stars to 2 because it failed at just over 2 years- just past the warranty \n",
      "\n",
      "http://www.amazon.com/BLACK-DECKER-CHV1410L-Lithium-Cordless/product-reviews/B006LXOJC0/ref=cm_cr_getr_d_paging_btm_6?ie=UTF8&pageNumber=6&reviewerType=all_reviews&pageSize=10\n",
      "http://www.amazon.com/BLACK-DECKER-CHV1410L-Lithium-Cordless/product-reviews/B006LXOJC0/ref=cm_cr_getr_d_paging_btm_7?ie=UTF8&pageNumber=7&reviewerType=all_reviews&pageSize=10\n",
      "This is a huge improvement to my old Black and Decker hand vacuum cleaner which had stopped holding a charge after several years. I was looking for a powerful hand vacuum cleaner with a narrow nozzle and that's what I got with this. The lithium rechargeable battery offers a strong suction, picking up every crumb, pet hair and dust in my home every time. Being cordless as well as light weight enables me to bring it out to my car to clean. \n",
      "\n",
      "have it for couple months and I would say it is a good vacuum. enough for me to finish the 3 bedrooms apartment. battery is good but you can keep it on charging station and not worrying about the charge.only thing is to clean the filter. You have to clean it once every 2-3 usage, at least to me.I got this during new year at good price so i would recommend this to other if they have good price but at $70? that is little too much.Updated:This device broke after 10 months. I emailed couple time to Black + Decker but no response from them. don't waste your money. Manufacture won't do anything good but ignoring your request. go for a best vacuum with cheaper price, as most vacuum don't last long anyway. so why pay high price for it? especially for Black and Desker.I am changing this to 1 star. \n",
      "\n",
      "I'd second all the other reviews, which I used to consider buying this unit recently.  B&D; Dustbusters have been a disappointment since the original one in the 1980s, mainly due to poor battery life; the suction was never cord quality but was acceptable given what it was designed for.  After a week of use, and 2 particularly heavy uses cleaning 2 cars.  In summary:ProLithium has 8+ minute usable burn time, and faster charging.  The power is consistent for 5 minutes. On the NiCd models, you'd be lucky to get 5 minutes of gradually weakening vacuum, usually 2-3 minutes is 'useable'.The charging light is very clear as to the status, its so bright, I use it as a night light.Integrated accessories: no losing them like loose accessories, even if they mount to the Dustbuster.  I have not found the crevice wand to be loose or not hold its position.  Maybe folks push down too hard, causing its to telescope back into the nozzle.  The design though has a small locking nub made of plastic and has the potential to wear out over time, so I suggest users press down on the lock mechanism on the base of the nozzle during locking and unlocking to prevent it from wearing out.table top charger: is a better design.  I don't like the wall-mounted charger because its not always near a socket, and it still leaves the charging wire visible.  Since prior dustbusters don't last 3+ years, if not shorter, I had to remove the old base, leading to added work for wall repairs and mount the new base.  By my 3rd Dustbuster, I just left the charger on a table and it took 2 hands to take it off the base.  When that died in less than a year, I just used a corded hand vac.Cyclonic action makes cleaning the dust bowl less often, and the dirt 'balls' up for easy dumping.Vacuum: people are saying its 'weak' but I find the unit I have about 1/2 as strong as my Scorpion.Dirt Devil SD20005RED Scorpion Quick Flip 7 AMP Hand Vac - RED That's very good, because the Scorpion is a superb and powerful corded hand vac.  However, for light clean ups, it does start to get tiring to lay out and wind up the cord.ConsCommon consumer Li batteries are Li Ion chemistry: they only have a 4 year lifespan, whether used or not.  So, fresh batteries is the key.  If you have a laptop or cellphone, reflect on how long those batteries last.  In general, it dies slowly each day, reduced to a high of ~ 20%/year.Brush: isn't big enough for deep brushing and cleaning.  Its more like a long toothbrush than a vacuum brush.  Its mostly for pet hair like dirtCost: this is one of the most expensive Dustbusters out there.  If the unit is still useable in 4+ years, I hope a spare battery pack can be purchased. \n",
      "\n",
      "I purchased this dust buster via Amazon in Dec 2012, by Oct 2013 it would no longer function. It showed a full charge, but simply would no longer run when the switch was turned on. It was never dropped or used to clean up wet messes- given the positive reviews, I'm guessing its possible I had a faulty product. I'm extremely disappointed this product didn't even last a year, given how expensive it was and the fact that I primarily used it to clean up crumbs from under the kitchen table. I loved this dust buster while it worked, and never had an issue with charge time or suction. I only wished it had a wall attachment, instead of having to keep it on a countertop charging unit. \n",
      "\n",
      "This DustBuster worked very well between September, when I purchased it, and January. Now, nothing. Won't work. It's fully charged and absolutely nothing happens when you turn it on. Do not buy this unless you want to waste $59.99. \n",
      "\n",
      "Its stylish powerful and looks like it works perfect. But i am disappointed by its work. Its very hard to pickup dirt from my car. I paid for expensive one thinking that i wont have to worry abut spending 1 hour to my car but looking at how it works i was better off buying any other cheap one. Anyways build quality and looks is awsome. It will be perfect for collecting light dirt once in a while but not heavy ones inside car \n",
      "\n",
      "After seeing all of the great reviews on this product, I was hoping that it would be good.Sadly, it turned out to be a very weak vacuum. I guess that I shouldn't have expected so much from a small, portable, battery-powered vacuum, but it's barely powerful enough to clean anything. It's also very noisy and leaves my ears ringing after just 20-30 minutes of cleaning. \n",
      "\n",
      "I have owned this hand vac for a while now and I have always liked it, but now that we have replaced all our carpet with hardwood flooring, I now love it.  It's definitely worth the $50 price.  It has always worked well with an occasional spot clean-up, but we really use it in conjunction with a floor dusting mop on our new flooring.  We use a microfiber dusting mop to quickly sweep up all the dust, pet hair, etc and once the dusting mop starts accumulating too much, we use this hand vac to vacuum up the collected junk off the microfiber cloth and proceed with the floor sweeping.  This method makes quick work of it.  By the way, the dusting mop we use is the O' Cedar Dual Action Microfiber Flip Mop (the blue tentacle looking side works great for dust and pet hair) and we love that too.  The hand vac will last about 20 minutes of continuous use and that is plenty for our usage.  In fact, the reason I am writing this review is because we are purchasing a second one for our upstairs.  The only thing better would be for a manufacturer to integrate this vac onto the bottom of our microfiber mop so that our clean-up method would be in one hand-held device.  That would be sweeeeeet! \n",
      "\n",
      "I must say, I'm on my \"second dust-buster\", compliments of Black-and-Decker, and what I can say is that I live within 2-miles of the authorized dealer, so it was easy to take-the-original-back, and get a replacement sent-through-the-mail.Here's what I find un-acceptable about these units, at least my particular unit.  I leave mine constantly on the charger, so it will have a fresh-charge every time I'm ready to use it.  I don't even use it that much, just to supplement the cleaning of my vehicle.  Out-of-the-box, it seems to work fine enough and hold a charge long-enough;  But the problem for me has been how rapidly the battery had deteriorated, such that on my replacement unit, just x3-months into a brand-new unit, same thing, battery won't hold a charge, and it only last for about 30-seconds now.  I'm going to try and take-it-back one more time, and I was wondering if I'd read on this review board, if this is a common problem or \"just my back luck\"?  I can't imagine that it's widespread, b/c this wouldn't have any 3-4-or-5 stars if that's the case.  It must be \"dud units/battery packs\" I've gotten, b/c honestly, they have lost power so fast that there's not way B&D; could put their name on such debacle performance.Anybody else have this problem? \n",
      "\n",
      "I can live with the wonky stand, maybe.But my main issue is that this Dustbuster is VERY weak, doesn't really suck up anything unless you go over the area multiple times. And the brush keeps on flopping back and forth. You really need to hold the brush in place with one hand while you use it, same with the telescopic extension which just gets pushed back in when you touch something with it, unless you hold it.Meh.  I had high hopes for this vacuum, but it is rather useless in my car for which I bought it. \n",
      "\n",
      "http://www.amazon.com/BLACK-DECKER-CHV1410L-Lithium-Cordless/product-reviews/B006LXOJC0/ref=cm_cr_getr_d_paging_btm_8?ie=UTF8&pageNumber=8&reviewerType=all_reviews&pageSize=10\n",
      "http://www.amazon.com/BLACK-DECKER-CHV1410L-Lithium-Cordless/product-reviews/B006LXOJC0/ref=cm_cr_getr_d_paging_btm_9?ie=UTF8&pageNumber=9&reviewerType=all_reviews&pageSize=10\n",
      "http://www.amazon.com/BLACK-DECKER-CHV1410L-Lithium-Cordless/product-reviews/B006LXOJC0/ref=cm_cr_getr_d_paging_btm_10?ie=UTF8&pageNumber=10&reviewerType=all_reviews&pageSize=10\n",
      "I purchased this vacuum as a quick clean tool around the house.  What I discovered is that it is a dirt distribution tool.  The filtration is so poor that dirt and dust sucked into the unit is blown out the back right through the cheap filter.  The filter is a cone of porous cloth that stops only the largest bits of dirt, most dust simply passes right through.  I have looked to try and find a more appropriate and effective dust filter but the construction of the unit makes the use of any alternative filter impossible.  How ironic that a unit called a \"Dust Buster\" will not catch dust! \n",
      "\n",
      "I was looking at the Dyson dust buster and after reading several not great reviews decided to check out the Black & Decker Lithium Ion Dust Buster.  The reviews indicated that it was better than the Dyson and it was a lot less money.  The lithium battery was an important factor for me since I wanted something with a long battery life and quick recharging ability.  I also needed the cyclonic suction otherwise I knew that all I would be doing was moving crumbs from one place to another.  With two dogs eating dog treats after every walk, we have lots of biscuit crumbs.I ordered online through my Amazon Prime account and had the dust buster in a few days.  Some people don't care for the charging base and that you cannot mount the dust buster to the wall but we put ours in our back hall out of the way but accessible.  The charging base serves as a night light for us so we do not mind either the charging base or that it can't be mounted.It's heavier than most dust busters but not so heavy that it's burdensome.  If you are using it so long that its weight is an issue then the job probably called for the vacuum cleaner not a dust buster.Some people also commented on how loud it is.  It's a dust buster - no one said they were quiet and besides why does it have to be quiet? My Dyson vacuum cleaner isn't quiet either and it requires a lot more effort to use it.  This machine is for quick cleaning not whole house cleaning although I have used it to vacuum the path from my living room to my neighbor's condo when we moved a tree out of our unit into hers and the tree shed 30% of its leaves in the process.  Oh, and did I mention that it sucks?  There were so many leaves that I emptied the cannister twice but even when the cannister was pretty full of leaves the dust buster was still keeping its suction.Great little unit.  I highly recommend it.  Skip the Dyson and save some money.  http://www.amazon.com/gp/product/B006LXOJC0/ref=cm_cr_rev_prod_title \n",
      "\n",
      "Picks up nicely and good battery life. I haven't owned a \"dust buster\" in 20 years mostly because they sucked, and I don't mean dirt. Apparently these have improved greatly as this specific model picks up very nicely. This is not a replacement for a vacuum of course, but should be used for picking up in the kitchen, bathroom etc. worth the price. \n",
      "\n",
      "I am a contractor and I am always using cordless tools and various vacuums.  I have zero complaints about this little gem.  I would highly recommend this one due to the Lithium Ion battery because you need not worry about it sitting on the charger all the time - Its OK to do that, where as a NiCad or NiMh will ultimately fail due to overcharging.  Easy tooling, easy cleanout, powerful for its size, quiet, looks nice, does its job that it was designed for. I do own the Dyson cordless too (for work) and I honestly would recommend this one over it.  The Dyson would win if it was built like a tank as the cost would suggest, but its not at all.  I'd buy this B&D; again in a heartbeat.... \n",
      "\n",
      "We have a 3 level home. We currently own the older version of this vaccum and keep it in the basement. However I wanted another one on the main floor so I wouldn't have to climb up and down all the stairs to get the small handheld. I found this newer version. I really like it. I was actually surprised at how much I like it. I had purchased a Dyson handheld from Costco for almost 3x as much and wound up returning it for this because this one, if you can believe it, was so much better. I love the base that it sits on and unlike my older version of this, it does not require wall mounting. It just sits on the floor and looks great. The suction is really great and the battery life, I have found, is fantastic. I was familiar with the clean up from our older version and it is easy. I really, really like it and think it is worth it for any home. \n",
      "\n",
      "I originally bought this item to get into the cracks and crevices of my car, the corners of our staircase and our cat tower.  The sucking power is miserable.  The battery was fully charged so that was not the issue.  Very disappointed. \n",
      "\n",
      "After 9 months of fooling with this I'm at my wit's end.  It will only pick up a few dust kitties before it clogs up and has to be opened and the obstruction removed.  That's a project in itself.  I wrongly assumed that a more powerful battery=more power.  At first, its roar like a jet engine makes you hopeful . . .but then you start to use it.  And in the unlikely event it ever picks up dust, don't count on it ever picking up anything else, I bet bread crumbs would never be in danger for their lives.  In short, go with the much cheaper models.  I'm giving this an extra star because the charger seems well made and gives off a nice light indicating charging status.  But you can't use it enough to have it discharge much, so what's the point?  A fool and his money . . . \n",
      "\n",
      "Excellent dustbuster. Does wonders on doing stairs. It's not too loud that it scares the dogs.Attractive with a high build quality.Note: There's a bright blue light on the charging stand that can really brighten up a dark room at night. I don't know why but this might be an issue for someone out there. (Maybe if you had a studio apartment?) \n",
      "\n",
      "Does not pick up dog hair from carpet or upholstery, poor suction for other dirt as well.  Only runs for about 15 minutes before needs recharge.  I bought to try and keep my car clean, but it is not worth the effort it takes for the small amount it picks up.  I can only do about a 1/4 of my vehicle before it cuts out - and that is with lots of hair and some dirt left over on the areas I have vacuumed. \n",
      "\n",
      "I have a 2-year load and a 4-year old who seem to spend their time thinking of new ways to get crumbs into every nook and cranny in the house.  We have been using this DustBuster for the past year and it has truly been great.  It lasts maybe 20 minutes of continuous running on a single charge, but normally we only use it a few seconds here and there, then back on the cradle it goes.  After a year of daily use in the futile battle to keep the living room and couch clean (did I mention we have a dog, too?), this little vacuum works just as well as it did when it came out of the box.  I bought an extra filter for it so if I need to I can swap filters in the middle of a cleaning session without having to stop and rinse out the filter and wait for it to dry. The lithium battery does a great job of maintaining the vacuum's power at the same level through the duration of the charge. In other words, as the battery gets lower, the vacuum doesn't slow to a crawl like the older models used to do. Now when it doesn't have enough charge to provide the right amount of suction, it shuts off requiring a recharge.The only downside to this is the charging base. I would have preferred something that mounted on the wall, freeing up valuable counter space in the kitchen of our small house. Also, the unit just sits on the base and is easy to knock over, so you will want to make sure to keep it away from the edges of the countertops, so it doesn't accidentally get knocked onto the floor.To sum up, this is a great vacuum. Never once in the past year did I say to myself that I needed more power or I wished the battery lasted longer. 14.4 V is plenty of power for the needs of a family of five with a dog. \n",
      "\n"
     ]
    }
   ],
   "source": [
    "for pageNum in range(2,11):\n",
    "\n",
    "    url=\"BLACK-DECKER-CHV1410L-Lithium-Cordless/product-reviews/B006LXOJC0/ref=cm_cr_getr_d_paging_btm_\"+str(pageNum)+\"?ie=UTF8&pageNumber=\"+str(pageNum)+\"&reviewerType=all_reviews&pageSize=10\"\n",
    "    uri=base_url+url\n",
    "    print uri\n",
    "\n",
    "    try:\n",
    "        session = requests.Session()\n",
    "        soup = BeautifulSoup(session.get(uri).content,\"html.parser\")\n",
    "        #soup = BeautifulSoup(session.get(uri).content,\"lxml\")\n",
    "    except:\n",
    "        print \"Connection error or something wrong. URL=\",uri\n",
    "\n",
    "    for elem in soup.select(\".review-text\"):\n",
    "        print elem.text,'\\n'"
   ]
  },
  {
   "cell_type": "code",
   "execution_count": null,
   "metadata": {
    "collapsed": true
   },
   "outputs": [],
   "source": []
  }
 ],
 "metadata": {
  "kernelspec": {
   "display_name": "Python 2",
   "language": "python",
   "name": "python2"
  },
  "language_info": {
   "codemirror_mode": {
    "name": "ipython",
    "version": 2
   },
   "file_extension": ".py",
   "mimetype": "text/x-python",
   "name": "python",
   "nbconvert_exporter": "python",
   "pygments_lexer": "ipython2",
   "version": "2.7.12"
  }
 },
 "nbformat": 4,
 "nbformat_minor": 1
}
