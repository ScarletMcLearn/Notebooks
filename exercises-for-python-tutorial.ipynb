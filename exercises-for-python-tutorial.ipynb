{
 "cells": [
  {
   "cell_type": "markdown",
   "metadata": {},
   "source": [
    "## 練習：迴圈，函數，清單，numpy數值套件"
   ]
  },
  {
   "cell_type": "code",
   "execution_count": 2,
   "metadata": {
    "collapsed": true
   },
   "outputs": [],
   "source": [
    "grades = [100, 100, 90, 40, 80, 100, 85, 70, 90, 65, 90, 85, 50.5]"
   ]
  },
  {
   "cell_type": "markdown",
   "metadata": {},
   "source": [
    "1. 寫一個函數，輸入是清單grades，輸出是分數的平均。\n",
    "2. 寫一個函數，輸入是清單grades，輸出是分數的標準差。\n",
    "3. 寫一個函數，輸入是清單grades，輸出兩個數值，一是分數的平均，二是分數的標準差。將清單轉換成numpy array後，利用numpy數值套件內的函數計算分數的平均與標準差。\n",
    "4. 用matplotlib.pyplot畫長條圖，計算0-20, 20-40, 40-60, 60-80,80-100這五個分數區間內各有幾個人。"
   ]
  },
  {
   "cell_type": "code",
   "execution_count": null,
   "metadata": {
    "collapsed": true
   },
   "outputs": [],
   "source": []
  }
 ],
 "metadata": {
  "kernelspec": {
   "display_name": "Python 2",
   "language": "python",
   "name": "python2"
  },
  "language_info": {
   "codemirror_mode": {
    "name": "ipython",
    "version": 2
   },
   "file_extension": ".py",
   "mimetype": "text/x-python",
   "name": "python",
   "nbconvert_exporter": "python",
   "pygments_lexer": "ipython2",
   "version": "2.7.12"
  }
 },
 "nbformat": 4,
 "nbformat_minor": 1
}
