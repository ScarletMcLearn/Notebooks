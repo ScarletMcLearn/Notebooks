{
 "cells": [
  {
   "cell_type": "code",
   "execution_count": 44,
   "metadata": {
    "collapsed": false
   },
   "outputs": [
    {
     "name": "stderr",
     "output_type": "stream",
     "text": [
      "# Version: 0.2-1\n",
      "Loading required package: NLP\n",
      "# tmcn Version: 0.1-4\n",
      "Loading required package: RColorBrewer\n"
     ]
    }
   ],
   "source": [
    "# some of the following libraries are obtained from the repository at: repos=\"http://R-Forge.R-project.org\"\n",
    "library(\"rJava\")\n",
    "library(\"Rwordseg\")\n",
    "library(\"tm\")\n",
    "library(\"tmcn\")\n",
    "library(\"wordcloud\")"
   ]
  },
  {
   "cell_type": "markdown",
   "metadata": {},
   "source": [
    "#### array and matrix:"
   ]
  },
  {
   "cell_type": "code",
   "execution_count": 18,
   "metadata": {
    "collapsed": true
   },
   "outputs": [],
   "source": [
    "vec=1:9 # construct an array 1,2,...,9"
   ]
  },
  {
   "cell_type": "code",
   "execution_count": 19,
   "metadata": {
    "collapsed": false
   },
   "outputs": [
    {
     "data": {
      "text/html": [
       "<ol class=list-inline>\n",
       "\t<li>1</li>\n",
       "\t<li>2</li>\n",
       "\t<li>3</li>\n",
       "\t<li>4</li>\n",
       "\t<li>5</li>\n",
       "\t<li>6</li>\n",
       "\t<li>7</li>\n",
       "\t<li>8</li>\n",
       "\t<li>9</li>\n",
       "</ol>\n"
      ],
      "text/latex": [
       "\\begin{enumerate*}\n",
       "\\item 1\n",
       "\\item 2\n",
       "\\item 3\n",
       "\\item 4\n",
       "\\item 5\n",
       "\\item 6\n",
       "\\item 7\n",
       "\\item 8\n",
       "\\item 9\n",
       "\\end{enumerate*}\n"
      ],
      "text/markdown": [
       "1. 1\n",
       "2. 2\n",
       "3. 3\n",
       "4. 4\n",
       "5. 5\n",
       "6. 6\n",
       "7. 7\n",
       "8. 8\n",
       "9. 9\n",
       "\n",
       "\n"
      ],
      "text/plain": [
       "[1] 1 2 3 4 5 6 7 8 9"
      ]
     },
     "metadata": {},
     "output_type": "display_data"
    }
   ],
   "source": [
    "vec"
   ]
  },
  {
   "cell_type": "code",
   "execution_count": 20,
   "metadata": {
    "collapsed": false
   },
   "outputs": [
    {
     "data": {
      "text/html": [
       "<ol class=list-inline>\n",
       "\t<li>1</li>\n",
       "\t<li>2</li>\n",
       "\t<li>3</li>\n",
       "\t<li>4</li>\n",
       "\t<li>5</li>\n",
       "\t<li>6</li>\n",
       "\t<li>7</li>\n",
       "\t<li>8</li>\n",
       "\t<li>9</li>\n",
       "\t<li>NA</li>\n",
       "</ol>\n"
      ],
      "text/latex": [
       "\\begin{enumerate*}\n",
       "\\item 1\n",
       "\\item 2\n",
       "\\item 3\n",
       "\\item 4\n",
       "\\item 5\n",
       "\\item 6\n",
       "\\item 7\n",
       "\\item 8\n",
       "\\item 9\n",
       "\\item NA\n",
       "\\end{enumerate*}\n"
      ],
      "text/markdown": [
       "1. 1\n",
       "2. 2\n",
       "3. 3\n",
       "4. 4\n",
       "5. 5\n",
       "6. 6\n",
       "7. 7\n",
       "8. 8\n",
       "9. 9\n",
       "10. NA\n",
       "\n",
       "\n"
      ],
      "text/plain": [
       " [1]  1  2  3  4  5  6  7  8  9 NA"
      ]
     },
     "metadata": {},
     "output_type": "display_data"
    }
   ],
   "source": [
    "vec[1:10]"
   ]
  },
  {
   "cell_type": "code",
   "execution_count": 28,
   "metadata": {
    "collapsed": false
   },
   "outputs": [
    {
     "data": {
      "text/html": [
       "9"
      ],
      "text/latex": [
       "9"
      ],
      "text/markdown": [
       "9"
      ],
      "text/plain": [
       "[1] 9"
      ]
     },
     "metadata": {},
     "output_type": "display_data"
    },
    {
     "data": {
      "text/html": [
       "'matrix'"
      ],
      "text/latex": [
       "'matrix'"
      ],
      "text/markdown": [
       "'matrix'"
      ],
      "text/plain": [
       "[1] \"matrix\""
      ]
     },
     "metadata": {},
     "output_type": "display_data"
    }
   ],
   "source": [
    "length(vec)\n",
    "class(vec)"
   ]
  },
  {
   "cell_type": "code",
   "execution_count": 39,
   "metadata": {
    "collapsed": false
   },
   "outputs": [
    {
     "data": {
      "text/html": [
       "<table>\n",
       "<tbody>\n",
       "\t<tr><td>1</td><td>4</td><td>7</td></tr>\n",
       "\t<tr><td>2</td><td>5</td><td>8</td></tr>\n",
       "\t<tr><td>3</td><td>6</td><td>9</td></tr>\n",
       "</tbody>\n",
       "</table>\n"
      ],
      "text/latex": [
       "\\begin{tabular}{lll}\n",
       "\t 1 & 4 & 7\\\\\n",
       "\t 2 & 5 & 8\\\\\n",
       "\t 3 & 6 & 9\\\\\n",
       "\\end{tabular}\n"
      ],
      "text/markdown": [
       "1. 1\n",
       "2. 2\n",
       "3. 3\n",
       "4. 4\n",
       "5. 5\n",
       "6. 6\n",
       "7. 7\n",
       "8. 8\n",
       "9. 9\n",
       "\n",
       "\n"
      ],
      "text/plain": [
       "     [,1] [,2] [,3]\n",
       "[1,] 1    4    7   \n",
       "[2,] 2    5    8   \n",
       "[3,] 3    6    9   "
      ]
     },
     "metadata": {},
     "output_type": "display_data"
    },
    {
     "data": {
      "text/html": [
       "<ol class=list-inline>\n",
       "\t<li>7</li>\n",
       "\t<li>8</li>\n",
       "\t<li>9</li>\n",
       "</ol>\n"
      ],
      "text/latex": [
       "\\begin{enumerate*}\n",
       "\\item 7\n",
       "\\item 8\n",
       "\\item 9\n",
       "\\end{enumerate*}\n"
      ],
      "text/markdown": [
       "1. 7\n",
       "2. 8\n",
       "3. 9\n",
       "\n",
       "\n"
      ],
      "text/plain": [
       "[1] 7 8 9"
      ]
     },
     "metadata": {},
     "output_type": "display_data"
    },
    {
     "data": {
      "text/html": [
       "<ol class=list-inline>\n",
       "\t<li>3</li>\n",
       "\t<li>6</li>\n",
       "\t<li>9</li>\n",
       "</ol>\n"
      ],
      "text/latex": [
       "\\begin{enumerate*}\n",
       "\\item 3\n",
       "\\item 6\n",
       "\\item 9\n",
       "\\end{enumerate*}\n"
      ],
      "text/markdown": [
       "1. 3\n",
       "2. 6\n",
       "3. 9\n",
       "\n",
       "\n"
      ],
      "text/plain": [
       "[1] 3 6 9"
      ]
     },
     "metadata": {},
     "output_type": "display_data"
    },
    {
     "data": {
      "text/html": [
       "<table>\n",
       "<tbody>\n",
       "\t<tr><td>1</td><td>2</td><td>3</td></tr>\n",
       "\t<tr><td>4</td><td>5</td><td>6</td></tr>\n",
       "\t<tr><td>7</td><td>8</td><td>9</td></tr>\n",
       "</tbody>\n",
       "</table>\n"
      ],
      "text/latex": [
       "\\begin{tabular}{lll}\n",
       "\t 1 & 2 & 3\\\\\n",
       "\t 4 & 5 & 6\\\\\n",
       "\t 7 & 8 & 9\\\\\n",
       "\\end{tabular}\n"
      ],
      "text/markdown": [
       "1. 1\n",
       "2. 4\n",
       "3. 7\n",
       "4. 2\n",
       "5. 5\n",
       "6. 8\n",
       "7. 3\n",
       "8. 6\n",
       "9. 9\n",
       "\n",
       "\n"
      ],
      "text/plain": [
       "     [,1] [,2] [,3]\n",
       "[1,] 1    2    3   \n",
       "[2,] 4    5    6   \n",
       "[3,] 7    8    9   "
      ]
     },
     "metadata": {},
     "output_type": "display_data"
    },
    {
     "data": {
      "text/html": [
       "'integer'"
      ],
      "text/latex": [
       "'integer'"
      ],
      "text/markdown": [
       "'integer'"
      ],
      "text/plain": [
       "[1] \"integer\""
      ]
     },
     "metadata": {},
     "output_type": "display_data"
    },
    {
     "data": {
      "text/html": [
       "'matrix'"
      ],
      "text/latex": [
       "'matrix'"
      ],
      "text/markdown": [
       "'matrix'"
      ],
      "text/plain": [
       "[1] \"matrix\""
      ]
     },
     "metadata": {},
     "output_type": "display_data"
    },
    {
     "data": {
      "text/html": [
       "<ol class=list-inline>\n",
       "\t<li>3</li>\n",
       "\t<li>3</li>\n",
       "</ol>\n"
      ],
      "text/latex": [
       "\\begin{enumerate*}\n",
       "\\item 3\n",
       "\\item 3\n",
       "\\end{enumerate*}\n"
      ],
      "text/markdown": [
       "1. 3\n",
       "2. 3\n",
       "\n",
       "\n"
      ],
      "text/plain": [
       "[1] 3 3"
      ]
     },
     "metadata": {},
     "output_type": "display_data"
    },
    {
     "data": {
      "text/html": [
       "<table>\n",
       "<tbody>\n",
       "\t<tr><td>66 </td><td> 78</td><td> 90</td></tr>\n",
       "\t<tr><td>78 </td><td> 93</td><td>108</td></tr>\n",
       "\t<tr><td>90 </td><td>108</td><td>126</td></tr>\n",
       "</tbody>\n",
       "</table>\n"
      ],
      "text/latex": [
       "\\begin{tabular}{lll}\n",
       "\t 66  &  78 &  90\\\\\n",
       "\t 78  &  93 & 108\\\\\n",
       "\t 90  & 108 & 126\\\\\n",
       "\\end{tabular}\n"
      ],
      "text/markdown": [
       "1. 66\n",
       "2. 78\n",
       "3. 90\n",
       "4. 78\n",
       "5. 93\n",
       "6. 108\n",
       "7. 90\n",
       "8. 108\n",
       "9. 126\n",
       "\n",
       "\n"
      ],
      "text/plain": [
       "     [,1] [,2] [,3]\n",
       "[1,] 66    78   90 \n",
       "[2,] 78    93  108 \n",
       "[3,] 90   108  126 "
      ]
     },
     "metadata": {},
     "output_type": "display_data"
    }
   ],
   "source": [
    "dim(vec)=c(3,3)\n",
    "vec\n",
    "vec[,3] # third column\n",
    "vec[3,] # third row\n",
    "t(vec)  # transpose of the matrix\n",
    "typeof(vec)\n",
    "class(vec)\n",
    "dim(vec)\n",
    "\n",
    "x=vec\n",
    "xt=t(vec)\n",
    "x%*%xt # multiplication of two matrices"
   ]
  },
  {
   "cell_type": "markdown",
   "metadata": {},
   "source": [
    "#### data frame:"
   ]
  },
  {
   "cell_type": "code",
   "execution_count": 54,
   "metadata": {
    "collapsed": false
   },
   "outputs": [
    {
     "data": {
      "text/html": [
       "<table>\n",
       "<thead><tr><th scope=col>id</th><th scope=col>age</th><th scope=col>gender</th><th scope=col>pay</th></tr></thead>\n",
       "<tbody>\n",
       "\t<tr><td>1     </td><td>25    </td><td>Male  </td><td>30000 </td></tr>\n",
       "\t<tr><td>2     </td><td>30    </td><td>Male  </td><td>40000 </td></tr>\n",
       "\t<tr><td>3     </td><td>35    </td><td>Female</td><td>45000 </td></tr>\n",
       "\t<tr><td>4     </td><td>40    </td><td>Female</td><td>50000 </td></tr>\n",
       "</tbody>\n",
       "</table>\n"
      ],
      "text/latex": [
       "\\begin{tabular}{r|llll}\n",
       " id & age & gender & pay\\\\\n",
       "\\hline\n",
       "\t 1      & 25     & Male   & 30000 \\\\\n",
       "\t 2      & 30     & Male   & 40000 \\\\\n",
       "\t 3      & 35     & Female & 45000 \\\\\n",
       "\t 4      & 40     & Female & 50000 \\\\\n",
       "\\end{tabular}\n"
      ],
      "text/plain": [
       "  id age gender pay  \n",
       "1 1  25  Male   30000\n",
       "2 2  30  Male   40000\n",
       "3 3  35  Female 45000\n",
       "4 4  40  Female 50000"
      ]
     },
     "metadata": {},
     "output_type": "display_data"
    },
    {
     "data": {
      "text/html": [
       "'data.frame'"
      ],
      "text/latex": [
       "'data.frame'"
      ],
      "text/markdown": [
       "'data.frame'"
      ],
      "text/plain": [
       "[1] \"data.frame\""
      ]
     },
     "metadata": {},
     "output_type": "display_data"
    },
    {
     "data": {
      "text/html": [
       "'list'"
      ],
      "text/latex": [
       "'list'"
      ],
      "text/markdown": [
       "'list'"
      ],
      "text/plain": [
       "[1] \"list\""
      ]
     },
     "metadata": {},
     "output_type": "display_data"
    }
   ],
   "source": [
    "id=  c(1, 2, 3, 4)\n",
    "age= c(25, 30, 35, 40)\n",
    "gender= c(\"Male\", \"Male\", \"Female\", \"Female\")\n",
    "pay= c (30000, 40000, 45000, 50000)\n",
    "df = data.frame(id, age, gender, pay)\n",
    "df\n",
    "\n",
    "class(df)\n",
    "mode(df)"
   ]
  },
  {
   "cell_type": "markdown",
   "metadata": {},
   "source": [
    "#### list"
   ]
  },
  {
   "cell_type": "code",
   "execution_count": 55,
   "metadata": {
    "collapsed": false
   },
   "outputs": [],
   "source": [
    "mylist= list(123,name=\"Paul\", wife=\"Iris\", no.kids=3,\n",
    "kids.age=c(25,28,30), df)"
   ]
  },
  {
   "cell_type": "code",
   "execution_count": 56,
   "metadata": {
    "collapsed": false
   },
   "outputs": [
    {
     "data": {
      "text/plain": [
       "[[1]]\n",
       "[1] 123\n",
       "\n",
       "$name\n",
       "[1] \"Paul\"\n",
       "\n",
       "$wife\n",
       "[1] \"Iris\"\n",
       "\n",
       "$no.kids\n",
       "[1] 3\n",
       "\n",
       "$kids.age\n",
       "[1] 25 28 30\n",
       "\n",
       "[[6]]\n",
       "  id age gender   pay\n",
       "1  1  25   Male 30000\n",
       "2  2  30   Male 40000\n",
       "3  3  35 Female 45000\n",
       "4  4  40 Female 50000\n"
      ]
     },
     "metadata": {},
     "output_type": "display_data"
    }
   ],
   "source": [
    "mylist"
   ]
  },
  {
   "cell_type": "code",
   "execution_count": null,
   "metadata": {
    "collapsed": true
   },
   "outputs": [],
   "source": [
    "#### "
   ]
  },
  {
   "cell_type": "code",
   "execution_count": 64,
   "metadata": {
    "collapsed": false
   },
   "outputs": [
    {
     "data": {
      "text/html": [
       "28"
      ],
      "text/latex": [
       "28"
      ],
      "text/markdown": [
       "28"
      ],
      "text/plain": [
       "[1] 28"
      ]
     },
     "metadata": {},
     "output_type": "display_data"
    }
   ],
   "source": [
    "mylist$kids.age[2]"
   ]
  },
  {
   "cell_type": "code",
   "execution_count": 68,
   "metadata": {
    "collapsed": false
   },
   "outputs": [
    {
     "data": {
      "text/html": [
       "28"
      ],
      "text/latex": [
       "28"
      ],
      "text/markdown": [
       "28"
      ],
      "text/plain": [
       "[1] 28"
      ]
     },
     "metadata": {},
     "output_type": "display_data"
    }
   ],
   "source": [
    "mylist[[5]][2]"
   ]
  },
  {
   "cell_type": "code",
   "execution_count": 2,
   "metadata": {
    "collapsed": false
   },
   "outputs": [],
   "source": [
    "#dat = read.csv(\"cnyes_news_01102016_to_30112016.csv\",header = TRUE)"
   ]
  },
  {
   "cell_type": "code",
   "execution_count": 3,
   "metadata": {
    "collapsed": false
   },
   "outputs": [],
   "source": [
    "dat = read.csv(\"BLACK-DECKER-CHV1410L-Lithium-Cordless-19122016.csv\",header = FALSE)"
   ]
  },
  {
   "cell_type": "code",
   "execution_count": 4,
   "metadata": {
    "collapsed": false,
    "scrolled": true
   },
   "outputs": [],
   "source": [
    "dat=dat$V3\n",
    "df=data.frame(dat)"
   ]
  },
  {
   "cell_type": "code",
   "execution_count": 5,
   "metadata": {
    "collapsed": false
   },
   "outputs": [
    {
     "data": {
      "text/html": [
       "'factor'"
      ],
      "text/latex": [
       "'factor'"
      ],
      "text/markdown": [
       "'factor'"
      ],
      "text/plain": [
       "[1] \"factor\""
      ]
     },
     "metadata": {},
     "output_type": "display_data"
    }
   ],
   "source": [
    "class(dat)"
   ]
  },
  {
   "cell_type": "code",
   "execution_count": 6,
   "metadata": {
    "collapsed": false
   },
   "outputs": [
    {
     "data": {
      "text/html": [
       "'data.frame'"
      ],
      "text/latex": [
       "'data.frame'"
      ],
      "text/markdown": [
       "'data.frame'"
      ],
      "text/plain": [
       "[1] \"data.frame\""
      ]
     },
     "metadata": {},
     "output_type": "display_data"
    }
   ],
   "source": [
    "class(df)"
   ]
  },
  {
   "cell_type": "code",
   "execution_count": 7,
   "metadata": {
    "collapsed": false,
    "scrolled": true
   },
   "outputs": [
    {
     "name": "stdout",
     "output_type": "stream",
     "text": [
      "[1] I've owned some type of Dustbuster/handvac for the last twenty years and I don't think I've ever ever had one that I didn't hate.  Too little suction power, not enough charge time, the suction nozzle is awkward to use, and the batteries are always dead after a couple minutes. I can keep them plugged into the wall all the time, but that kills the battery and wastes electricity.  I have found it much more effective to just use the suction hose on my upright, even though that means lugging my vacuum around. So I decided to see what is new in handvac technology and if they have improved at all over the last ten years.  Fortunately, I can say that they have.The Black and Decker 14.4v Lithium Ion DustBuster is the same handvac as the Black & Decker CHV1410 Dustbuster 14.4-Volt Cordless Cyclonic Hand Vac except it contains a Lithium-Ion (LIB) battery, whereas the standard CHV1410 contains a nickel-cadmium (Ni-Cd) battery.  If you're trying to decide between the two devices, I would recommend this Lithium-Ion model due to the advantages of the battery:1. Higher energy density - this means that the LIB battery can hold more energy per volume. In this case the CHV1410L holds about twice the amount of energy as the CHV1410.2. Greater power density -  this refers to bursts of power the battery is capable.  It works well when combined with the higher energy density mentioned above.3. No memory effect - this is something you might have noticed with a Ni-Cd battery.  These batteries work best when you fully discharge the battery and then recharge it.  With a Dustbuster, you're almost never going to do this.  You'll use it for a few minutes then put it back on the mount to charge. This can sometimes product a memory effect, where the cadmium inside the battery forms crystals and the battery will hold less of a charge.  A LIB battery does not experience a memory effect.4. Non-toxic - Ni-Cd batteries are toxic and classified as hazardous.  LiB aren't, so disposal is much better for the environment.LiB do have a couple small disadvantages, but in this application and with the frequent recharging the Dustbuster will see, I feel that it is definitely the right choice.  Not to mention the toxicity factor alone makes me feel better about using this type of battery.USE AND OPERATION - I evaluated both the CHV1410L and the standard CHV1410 at the same time to see what the real difference was between the devices and how the battery affected them.  The main thing I like about the CHV1410L does have to do with the battery.  It will supposedly hold a charge for up to 18 months. I can't confirm if this is true, but the first time I had it, I gave it a full charge and then removed it from the power source and let it sit uncharged for 30 days. When I tried it out, it seemed to be completely charged and worked great.  With my previous Dustbuster, it would have been dead after two days. I did the same 30 day test with the CHV1410.  Although it did still have a powerful charge in it and seemed to work fine, I did notice it was less powerful than the CHV1410L.  I tested this by putting two small Styrofoam balls in front of the Dustbusters at a specific distance, and then gradually moved the Dustbusters closer to the peanuts until they sucked them up.  In repeated tests, the CHV1410L grabbed the ball slightly before the CHV1410, demonstrating more power.  For the remainder of my use and testing, the two units performed the same.The main thing I noticed about using the Dustbuster is how powerful it is.  I was not expecting much out of it, but it performed almost as well as my upright.  It has a narrow opening on the front of it to concentrate more of the power.  That little green piece on the end pulls out and extends the dustbuster so you can get in hard to reach places. This worked great for cobwebs and getting dust from under furniture like sofas and dressers.  The crevice tool also has a small brush attached to it.  I tried it out on a sofa covered in dog hair, but did not find that the brush helped much at all.  It was just as easy to use it without the brush.  The only way I see that the brush might be handy is for my ceiling fans, which allows me to press down on the crevice tool without pressing into the blade.  Otherwise it's not very useful.CLEANING - The CHV1410L is very easy to clean. It's bagless, and uses a plastic filter.  You just press in the tabs and it unlocks and you can shake it out into a trash can.  One problem I did have with it is that dog hair seemed to collect in the filter holes and I had to pull these out by hand. But I've used a lot of bagless vacuums like this with these types of filters and I would say this is one of the easier ones to clean.Overall, I'm very happy with the CHV1410L and plan to use it for almost everything I was using my upright for, which will save me a lot of time not having to drag it out of the closet and plug it in. The only real negative I have with it is that it's fairly loud, which I guess is to be expected for something so powerful.UPDATE December 2013 - It's been almost two years and the battery on this Dust Buster is still going strong. I use it maybe twice a week for a total of about 30 minutes.\n",
      "[2] Awesome power.  At first I did not like the fact that it could not be hung up on the wall with the charger plugging into it like my previous dustbusters.  I didn't have extra tabletop space to store it flat.  But once I found a spot for it, it is nice to just rest it on its base and not deal with wires and decisions -- to connect to charger or not.  It just is always fully charged.  I have not yet experienced it running out of power during a pickup session -- altho I do tend to just use it for quickie pickups.  I plan to push its limits in the future to see just how long it can run on a full charge.  The fact that it is Lithium Ion is great that it should last longer and perform better than previous nicad batteries.  After a few years, the old style dustbusters just don't take a charge well.FYI, I used two fat J-shaped hooks mounted a few inches apart on the wall to create a platform for the vac.  I'll post a picture if I don't see a similar pic.                                                                                                                                                                                                                                                                                                                                                                                                                                                                                                                                                                                                                                                                                                                                                                                                                                                                                                                                                                                                                                                                                                                                                                                                                                                                                                                                                                                                                                                                                                                                                                                                                                                                                                                                                                                                                                                                                                                                                                                                                                                                                                                                                                                                                                                                                                                                                                                                                                                                                                                                                                                                                                                                                                                                                                                                                                                                                                                                                                                                                                                                                                                                                                                                                                                                                                                                                                                                                                                                                                                                                                                                                                                                                                                                                                                                                                                                                                                                                                                                                                                                                                                                                                                                                                                                                                                                                                                                                               \n",
      "9033 Levels:  I don’t know if everyone else had low expectations or what?  The battery life is nothing to write home about.  This was listed as a top essential for back to school, maybe college kids are buying or receiving these and for all they know it is a good vac.  College kids aren’t cleaning, let’s be real.I charged it the first time overnight and I was lucky to get 10-15 mins of continual use time out of that charge, it was terrible.  Not to mention if you leave it off the charger for a day, again you will maybe get 5-10 minutes, if you’re lucky.  I find this ridiculous and totally uncalled for, what’s the ion battery doing?!?!?!  This thing was such a pain, a corded vac would have been better.  As I stated in my video, I wanted one I could clean the filter myself, this was a hassle to get the filter in and out.  The cleaning aspect was a pain because there is two pieces and you have to get them back in just right.  Lastly the design of the vac was not thought out very well.  There is a smaller hole in the top, which is stupid because inevitably there will be something you vacuumed up and you need to wipe off the inside, so its not all smeared around.  If this happens you better have a baby hands or a baby bottle brush to get in there.  The suction power is abysmal, it was struggling to get up cat food, crumbs, and litter.  I had to tilt it and scoop it in to get it to suck it up.  What a waste of time and money.  I can’t stand this thing.  I will say too, its LOUD.  I decided to step up and get the Black+Decker BDH2000PL MAX Lithium Pivot Vacuum, 20-volt, do yourself a favor and spend the extra money, you will be happy you did.I gave it two stars because I have experienced worse, if that makes this thing any more appealing. ...\n"
     ]
    }
   ],
   "source": [
    "print(head(dat,2))"
   ]
  },
  {
   "cell_type": "code",
   "execution_count": null,
   "metadata": {
    "collapsed": false
   },
   "outputs": [
    {
     "name": "stdout",
     "output_type": "stream",
     "text": [
      "<<VCorpus>>\n",
      "Metadata:  corpus specific: 0, document level (indexed): 0\n",
      "Content:  documents: 9362\n"
     ]
    }
   ],
   "source": [
    "dfs <- DataframeSource(df)\n",
    "\n",
    "corpus = Corpus(dfs)\n",
    "print(corpus)\n",
    "\n",
    "tdm=TermDocumentMatrix(corpus)\n",
    "#inspect(tdm)     # this matrix is too big. Don't inspect it.\n",
    "#typeof(corpus)\n",
    "#class(corpus)\n",
    "#inspect(corpus)\n",
    "#dtm = DocumentTermMatrix(corpus, \n",
    "#                         control = list(weighting = weightTfIdf, stopwords = TRUE, \n",
    "#                                        removePunctuation = TRUE, stemming = TRUE)) \n",
    "\n",
    "#m <- as.matrix(dtm)   \n",
    "#dim(m)   \n",
    "#write.csv(m, file=\"a.csv\")"
   ]
  },
  {
   "cell_type": "code",
   "execution_count": 14,
   "metadata": {
    "collapsed": false
   },
   "outputs": [
    {
     "data": {
      "text/plain": [
       "<<TermDocumentMatrix (terms: 18958, documents: 9362)>>\n",
       "Non-/sparse entries: 241309/177243487\n",
       "Sparsity           : 100%\n",
       "Maximal term length: 166\n",
       "Weighting          : term frequency (tf)"
      ]
     },
     "metadata": {},
     "output_type": "display_data"
    }
   ],
   "source": []
  },
  {
   "cell_type": "code",
   "execution_count": 7,
   "metadata": {
    "collapsed": true
   },
   "outputs": [],
   "source": [
    "b <- as.data.frame(dat)\n",
    "docs <- data.frame(b)"
   ]
  },
  {
   "cell_type": "code",
   "execution_count": 8,
   "metadata": {
    "collapsed": false
   },
   "outputs": [
    {
     "data": {
      "text/html": [
       "'list'"
      ],
      "text/latex": [
       "'list'"
      ],
      "text/markdown": [
       "'list'"
      ],
      "text/plain": [
       "[1] \"list\""
      ]
     },
     "metadata": {},
     "output_type": "display_data"
    },
    {
     "data": {
      "text/html": [
       "'list'"
      ],
      "text/latex": [
       "'list'"
      ],
      "text/markdown": [
       "'list'"
      ],
      "text/plain": [
       "[1] \"list\""
      ]
     },
     "metadata": {},
     "output_type": "display_data"
    }
   ],
   "source": [
    "typeof(b)\n",
    "typeof(docs)"
   ]
  },
  {
   "cell_type": "code",
   "execution_count": 46,
   "metadata": {
    "collapsed": true
   },
   "outputs": [],
   "source": [
    "n= c(2,3,5)\n",
    "s=c(\"aa\",\"bb\",\"cc\")\n",
    "df=data.frame(n,s)"
   ]
  },
  {
   "cell_type": "code",
   "execution_count": 47,
   "metadata": {
    "collapsed": false
   },
   "outputs": [
    {
     "data": {
      "text/html": [
       "<table>\n",
       "<thead><tr><th scope=col>n</th><th scope=col>s</th></tr></thead>\n",
       "<tbody>\n",
       "\t<tr><td>2 </td><td>aa</td></tr>\n",
       "\t<tr><td>3 </td><td>bb</td></tr>\n",
       "\t<tr><td>5 </td><td>cc</td></tr>\n",
       "</tbody>\n",
       "</table>\n"
      ],
      "text/latex": [
       "\\begin{tabular}{r|ll}\n",
       " n & s\\\\\n",
       "\\hline\n",
       "\t 2  & aa\\\\\n",
       "\t 3  & bb\\\\\n",
       "\t 5  & cc\\\\\n",
       "\\end{tabular}\n"
      ],
      "text/plain": [
       "  n s \n",
       "1 2 aa\n",
       "2 3 bb\n",
       "3 5 cc"
      ]
     },
     "metadata": {},
     "output_type": "display_data"
    },
    {
     "data": {
      "text/html": [
       "'list'"
      ],
      "text/latex": [
       "'list'"
      ],
      "text/markdown": [
       "'list'"
      ],
      "text/plain": [
       "[1] \"list\""
      ]
     },
     "metadata": {},
     "output_type": "display_data"
    }
   ],
   "source": [
    "df\n",
    "typeof(df)"
   ]
  },
  {
   "cell_type": "code",
   "execution_count": 36,
   "metadata": {
    "collapsed": false
   },
   "outputs": [
    {
     "data": {
      "text/html": [
       "'list'"
      ],
      "text/latex": [
       "'list'"
      ],
      "text/markdown": [
       "'list'"
      ],
      "text/plain": [
       "[1] \"list\""
      ]
     },
     "metadata": {},
     "output_type": "display_data"
    }
   ],
   "source": [
    "df=data.frame(dat[1],dat[2],dat[3])\n",
    "typeof(df)"
   ]
  },
  {
   "cell_type": "code",
   "execution_count": 35,
   "metadata": {
    "collapsed": false,
    "scrolled": true
   },
   "outputs": [
    {
     "data": {
      "text/html": [
       "<table>\n",
       "<thead><tr><th scope=col>date</th><th scope=col>title</th><th scope=col>news.content</th></tr></thead>\n",
       "<tbody>\n",
       "\t<tr><td>2016/11/30 19:40                                                                                                                                                                                                                                                                                                                                                                                                                                                                                                                                                                                                                                                                                                                                                                                                                                                                                                                                                                                                                                                                                                                                                                                                                                                                                                                                                                                                                                                                                                                                                                                     </td><td>單月落跑150億！德銀：明年亞洲恐面臨美元荒                                                                                                                                                                                                                                                                                                                                                                                                                                                                                                                                                                                                                                                                                                                                                                                                                                                                                                                                                                                                                                                                                                                                                                                                                                                                                                                                                                                                                                                                                                                                                            </td><td>德意志銀行 (Deutsche Bank) 警告，在總體經濟與市場雙重力量醞釀的「完美風暴」下，明年亞洲市場恐將面臨美元短缺窘境。主要由於川普 (Donald Trump) 當選美國總統後，美國利率及經濟看升，牽動美元投資資金大量撤出亞洲，而美國貿易部位也預期縮小，此外美國企業可能將海外資金匯回國內。德銀策略師 Mallika Sachdeva 的團隊周一 (28 日) 發布報告指出，受到月初川普勝選刺激，本月份已有 150 億美元資金撤出亞洲股債市，接近今年流入該區資金的 30%。因美元強升，加上川普的保護主義政策主張，使得新興市場經濟成長展望蒙上陰影。德銀並預警，未來幾年，美國與亞洲間的貿易部位恐將更緊縮，導致漂流海外的美元資金池縮小，造成新興市場國家進行跨境貿易結算及償還強勢貨幣債務時，困難度更高。Sachdeva 等人寫道，無論是貿易、投資組合及收購債券等亞洲國家美元來源，在川普當選後都面臨縮減的風險。亞洲出口恐怕將因美國保護主義政策而受傷，造成貿易出超縮減。儘管反映亞洲取得美元成本的交叉貨幣基準交換價差 (cross-currency basis swap spread)，今年大致持穩，因亞洲國家經常帳盈餘已大增，且外資積極流入，加上亞洲保險商將海外發行債券的收益換為當地貨幣，使得亞洲的美元供應充沛。但德銀警告，明年情況可能無法如此安逸，尤其是過去一個月，在菲律賓、南韓、馬來西亞及特別是印度的融資市場，已冒出美元籌資承壓的證據。亞洲美元荒的另一個可能原因，是如果川普遵守競選承諾，改革美國企業稅規，美國企業或許會將放在亞洲市場的龐大獲利移回國內。德銀算出，這類資金單單在新加坡就有 1000 億美元，凸顯星國身為全球資金存放庫的地位。總體而言，從數個技術性指標來看──包括企業及銀行業短期融資價差、交叉貨幣基準交換價差及即將到期的境內遠期貨幣市場，明年亞洲美元流動性將面臨更艱難的挑戰，即使外國市場仍對來自亞洲的債券發行抱持歡迎。</td></tr>\n",
       "\t<tr><td>2016/11/30 16:04                                                                                                                                                                                                                                                                                                                                                                                                                                                                                                                                                                                                                                                                                                                                                                                                                                                                                                                                                                                                                                                                                                                                                                                                                                                                                                                                                                                                                                                                                                                                                                                     </td><td>新台幣兌美元周三(30日)收盤報31.890元 貶值7.2分                                                                                                                                                                                                                                                                                                                                                                                                                                                                                                                                                                                                                                                                                                                                                                                                                                                                                                                                                                                                                                                                                                                                                                                                                                                                                                                                                                                                                                                                                                                                                       </td><td>新台幣兌美元周三 (30 日) 收盤報 31.890 元，貶值 7.2 分，成交量 9.59 億美元。開盤價為 31.820 元，最高 31.788 元，最低 31.909 元。                                                                                                                                                                                                                                                                                                                                                                                                                                                                                                                                                                                                                                                                                                                                                                                                                                                                                                                                                                                                                                                                                                                                                                                                                                                                                                                                                                                                                                                                     </td></tr>\n",
       "\t<tr><td>2016/11/30 14:35                                                                                                                                                                                                                                                                                                                                                                                                                                                                                                                                                                                                                                                                                                                                                                                                                                                                                                                                                                                                                                                                                                                                                                                                                                                                                                                                                                                                                                                                                                                                                                                     </td><td>英國央行新版5鎊鈔票 素食者不敢使用？                                                                                                                                                                                                                                                                                                                                                                                                                                                                                                                                                                                                                                                                                                                                                                                                                                                                                                                                                                                                                                                                                                                                                                                                                                                                                                                                                                                                                                                                                                                                                                 </td><td>據《衛報》報導，英國近日為新發行 5 英鎊鈔票爭吵不休，由於鈔票製作過程使用動物脂肪，當地素食者因此呼籲變更該塑料鈔票的生產過程。要求鈔票停止使用牛脂的請願活動已展開，目前為止已吸引超過 7 萬名支持者響應，該請願書將送達至英國央行 (Bank of England) 。請願書內提到，「新版 5 英鎊鈔票含有動物脂肪，這對英國數百萬純素及素食者來說是不容接受的。我們要求您停止在我們必須使用的貨幣生產過程中使用動物製品。」英國央行拒絕對請願進行回應，一位發言人表示，問題在於 5 英鎊鈔票上印的有機聚合物含有牛脂。英國央行生產鈔票的聚合物基底，是向外部公司 Innovia Security 購買，該公司主要供應 24 個國家 80 種不同鈔票的基底材質。此事於推特上引發熱議，許多網友為素食者及一些宗教團體發聲。新版 5 英鎊鈔票於今年 9 月開始流通，且材質較紙鈔更為堅硬 ── 即使遭紅酒浸濕或在洗衣機運轉仍能存活。不過，新版鈔票會在超過攝氏 120 度情況下縮小融化，因此熨斗可能使之受損。新版 5 英鎊鈔票很難被撕毀，但若上頭有刻痕則容易被撕裂。繼在推特上證實新版鈔票的確含有牛脂，英國央行同時承認全新塑料鈔票有時容易黏在一塊兒。事實上，塑膠鈔票被使用於其他許多國家，有些國家甚至已將流通鈔票全轉換為塑料鈔票，例如澳洲、加拿大、羅馬尼亞及越南。                                                                                                                                                                                                                                                                                                                                                                                                                                                                            </td></tr>\n",
       "</tbody>\n",
       "</table>\n"
      ],
      "text/latex": [
       "\\begin{tabular}{r|lll}\n",
       " date & title & news.content\\\\\n",
       "\\hline\n",
       "\t 2016/11/30 19:40                                                                                                                                                                                                                                                                                                                                                                                                                                                                                                                                                                                                                                                                                                                                                                                                                                                                                                                                                                                                                                                                                                                                                                                                                                                                                                                                                                                                                                                                                                                                                                                        & 單月落跑150億！德銀：明年亞洲恐面臨美元荒                                                                                                                                                                                                                                                                                                                                                                                                                                                                                                                                                                                                                                                                                                                                                                                                                                                                                                                                                                                                                                                                                                                                                                                                                                                                                                                                                                                                                                                                                                                                                               & 德意志銀行 (Deutsche Bank) 警告，在總體經濟與市場雙重力量醞釀的「完美風暴」下，明年亞洲市場恐將面臨美元短缺窘境。主要由於川普 (Donald Trump) 當選美國總統後，美國利率及經濟看升，牽動美元投資資金大量撤出亞洲，而美國貿易部位也預期縮小，此外美國企業可能將海外資金匯回國內。德銀策略師 Mallika Sachdeva 的團隊周一 (28 日) 發布報告指出，受到月初川普勝選刺激，本月份已有 150 億美元資金撤出亞洲股債市，接近今年流入該區資金的 30\\%。因美元強升，加上川普的保護主義政策主張，使得新興市場經濟成長展望蒙上陰影。德銀並預警，未來幾年，美國與亞洲間的貿易部位恐將更緊縮，導致漂流海外的美元資金池縮小，造成新興市場國家進行跨境貿易結算及償還強勢貨幣債務時，困難度更高。Sachdeva 等人寫道，無論是貿易、投資組合及收購債券等亞洲國家美元來源，在川普當選後都面臨縮減的風險。亞洲出口恐怕將因美國保護主義政策而受傷，造成貿易出超縮減。儘管反映亞洲取得美元成本的交叉貨幣基準交換價差 (cross-currency basis swap spread)，今年大致持穩，因亞洲國家經常帳盈餘已大增，且外資積極流入，加上亞洲保險商將海外發行債券的收益換為當地貨幣，使得亞洲的美元供應充沛。但德銀警告，明年情況可能無法如此安逸，尤其是過去一個月，在菲律賓、南韓、馬來西亞及特別是印度的融資市場，已冒出美元籌資承壓的證據。亞洲美元荒的另一個可能原因，是如果川普遵守競選承諾，改革美國企業稅規，美國企業或許會將放在亞洲市場的龐大獲利移回國內。德銀算出，這類資金單單在新加坡就有 1000 億美元，凸顯星國身為全球資金存放庫的地位。總體而言，從數個技術性指標來看──包括企業及銀行業短期融資價差、交叉貨幣基準交換價差及即將到期的境內遠期貨幣市場，明年亞洲美元流動性將面臨更艱難的挑戰，即使外國市場仍對來自亞洲的債券發行抱持歡迎。\\\\\n",
       "\t 2016/11/30 16:04                                                                                                                                                                                                                                                                                                                                                                                                                                                                                                                                                                                                                                                                                                                                                                                                                                                                                                                                                                                                                                                                                                                                                                                                                                                                                                                                                                                                                                                                                                                                                                                      & 新台幣兌美元周三(30日)收盤報31.890元 貶值7.2分                                                                                                                                                                                                                                                                                                                                                                                                                                                                                                                                                                                                                                                                                                                                                                                                                                                                                                                                                                                                                                                                                                                                                                                                                                                                                                                                                                                                                                                                                                                                                        & 新台幣兌美元周三 (30 日) 收盤報 31.890 元，貶值 7.2 分，成交量 9.59 億美元。開盤價為 31.820 元，最高 31.788 元，最低 31.909 元。                                                                                                                                                                                                                                                                                                                                                                                                                                                                                                                                                                                                                                                                                                                                                                                                                                                                                                                                                                                                                                                                                                                                                                                                                                                                                                                                                                                                                                                                     \\\\\n",
       "\t 2016/11/30 14:35                                                                                                                                                                                                                                                                                                                                                                                                                                                                                                                                                                                                                                                                                                                                                                                                                                                                                                                                                                                                                                                                                                                                                                                                                                                                                                                                                                                                                                                                                                                                                                                      & 英國央行新版5鎊鈔票 素食者不敢使用？                                                                                                                                                                                                                                                                                                                                                                                                                                                                                                                                                                                                                                                                                                                                                                                                                                                                                                                                                                                                                                                                                                                                                                                                                                                                                                                                                                                                                                                                                                                                                                  & 據《衛報》報導，英國近日為新發行 5 英鎊鈔票爭吵不休，由於鈔票製作過程使用動物脂肪，當地素食者因此呼籲變更該塑料鈔票的生產過程。要求鈔票停止使用牛脂的請願活動已展開，目前為止已吸引超過 7 萬名支持者響應，該請願書將送達至英國央行 (Bank of England) 。請願書內提到，「新版 5 英鎊鈔票含有動物脂肪，這對英國數百萬純素及素食者來說是不容接受的。我們要求您停止在我們必須使用的貨幣生產過程中使用動物製品。」英國央行拒絕對請願進行回應，一位發言人表示，問題在於 5 英鎊鈔票上印的有機聚合物含有牛脂。英國央行生產鈔票的聚合物基底，是向外部公司 Innovia Security 購買，該公司主要供應 24 個國家 80 種不同鈔票的基底材質。此事於推特上引發熱議，許多網友為素食者及一些宗教團體發聲。新版 5 英鎊鈔票於今年 9 月開始流通，且材質較紙鈔更為堅硬 ── 即使遭紅酒浸濕或在洗衣機運轉仍能存活。不過，新版鈔票會在超過攝氏 120 度情況下縮小融化，因此熨斗可能使之受損。新版 5 英鎊鈔票很難被撕毀，但若上頭有刻痕則容易被撕裂。繼在推特上證實新版鈔票的確含有牛脂，英國央行同時承認全新塑料鈔票有時容易黏在一塊兒。事實上，塑膠鈔票被使用於其他許多國家，有些國家甚至已將流通鈔票全轉換為塑料鈔票，例如澳洲、加拿大、羅馬尼亞及越南。                                                                                                                                                                                                                                                                                                                                                                                                                                                                            \\\\\n",
       "\\end{tabular}\n"
      ],
      "text/plain": [
       "  date             title                                         \n",
       "1 2016/11/30 19:40 單月落跑150億！德銀：明年亞洲恐面臨美元荒     \n",
       "2 2016/11/30 16:04 新台幣兌美元周三(30日)收盤報31.890元 貶值7.2分\n",
       "3 2016/11/30 14:35 英國央行新版5鎊鈔票 素食者不敢使用？          \n",
       "  news.content                                                                                                                                                                                                                                                                                                                                                                                                                                                                                                                                                                                                                                                                                                                                                                                                                                                                                                                                                                                                                                                                                                                                                                                                                                                                                                                                                                                                                                                                                                                                                                                         \n",
       "1 德意志銀行 (Deutsche Bank) 警告，在總體經濟與市場雙重力量醞釀的「完美風暴」下，明年亞洲市場恐將面臨美元短缺窘境。主要由於川普 (Donald Trump) 當選美國總統後，美國利率及經濟看升，牽動美元投資資金大量撤出亞洲，而美國貿易部位也預期縮小，此外美國企業可能將海外資金匯回國內。德銀策略師 Mallika Sachdeva 的團隊周一 (28 日) 發布報告指出，受到月初川普勝選刺激，本月份已有 150 億美元資金撤出亞洲股債市，接近今年流入該區資金的 30%。因美元強升，加上川普的保護主義政策主張，使得新興市場經濟成長展望蒙上陰影。德銀並預警，未來幾年，美國與亞洲間的貿易部位恐將更緊縮，導致漂流海外的美元資金池縮小，造成新興市場國家進行跨境貿易結算及償還強勢貨幣債務時，困難度更高。Sachdeva 等人寫道，無論是貿易、投資組合及收購債券等亞洲國家美元來源，在川普當選後都面臨縮減的風險。亞洲出口恐怕將因美國保護主義政策而受傷，造成貿易出超縮減。儘管反映亞洲取得美元成本的交叉貨幣基準交換價差 (cross-currency basis swap spread)，今年大致持穩，因亞洲國家經常帳盈餘已大增，且外資積極流入，加上亞洲保險商將海外發行債券的收益換為當地貨幣，使得亞洲的美元供應充沛。但德銀警告，明年情況可能無法如此安逸，尤其是過去一個月，在菲律賓、南韓、馬來西亞及特別是印度的融資市場，已冒出美元籌資承壓的證據。亞洲美元荒的另一個可能原因，是如果川普遵守競選承諾，改革美國企業稅規，美國企業或許會將放在亞洲市場的龐大獲利移回國內。德銀算出，這類資金單單在新加坡就有 1000 億美元，凸顯星國身為全球資金存放庫的地位。總體而言，從數個技術性指標來看──包括企業及銀行業短期融資價差、交叉貨幣基準交換價差及即將到期的境內遠期貨幣市場，明年亞洲美元流動性將面臨更艱難的挑戰，即使外國市場仍對來自亞洲的債券發行抱持歡迎。\n",
       "2 新台幣兌美元周三 (30 日) 收盤報 31.890 元，貶值 7.2 分，成交量 9.59 億美元。開盤價為 31.820 元，最高 31.788 元，最低 31.909 元。                                                                                                                                                                                                                                                                                                                                                                                                                                                                                                                                                                                                                                                                                                                                                                                                                                                                                                                                                                                                                                                                                                                                                                                                                                                                                                                                                                                                                                                                     \n",
       "3 據《衛報》報導，英國近日為新發行 5 英鎊鈔票爭吵不休，由於鈔票製作過程使用動物脂肪，當地素食者因此呼籲變更該塑料鈔票的生產過程。要求鈔票停止使用牛脂的請願活動已展開，目前為止已吸引超過 7 萬名支持者響應，該請願書將送達至英國央行 (Bank of England) 。請願書內提到，「新版 5 英鎊鈔票含有動物脂肪，這對英國數百萬純素及素食者來說是不容接受的。我們要求您停止在我們必須使用的貨幣生產過程中使用動物製品。」英國央行拒絕對請願進行回應，一位發言人表示，問題在於 5 英鎊鈔票上印的有機聚合物含有牛脂。英國央行生產鈔票的聚合物基底，是向外部公司 Innovia Security 購買，該公司主要供應 24 個國家 80 種不同鈔票的基底材質。此事於推特上引發熱議，許多網友為素食者及一些宗教團體發聲。新版 5 英鎊鈔票於今年 9 月開始流通，且材質較紙鈔更為堅硬 ── 即使遭紅酒浸濕或在洗衣機運轉仍能存活。不過，新版鈔票會在超過攝氏 120 度情況下縮小融化，因此熨斗可能使之受損。新版 5 英鎊鈔票很難被撕毀，但若上頭有刻痕則容易被撕裂。繼在推特上證實新版鈔票的確含有牛脂，英國央行同時承認全新塑料鈔票有時容易黏在一塊兒。事實上，塑膠鈔票被使用於其他許多國家，有些國家甚至已將流通鈔票全轉換為塑料鈔票，例如澳洲、加拿大、羅馬尼亞及越南。                                                                                                                                                                                                                                                                                                                                                                                                                                                                            "
      ]
     },
     "metadata": {},
     "output_type": "display_data"
    }
   ],
   "source": [
    "head(df,3)"
   ]
  },
  {
   "cell_type": "code",
   "execution_count": 9,
   "metadata": {
    "collapsed": false,
    "scrolled": true
   },
   "outputs": [
    {
     "name": "stdout",
     "output_type": "stream",
     "text": [
      " [1] 單月落跑150億！德銀：明年亞洲恐面臨美元荒        \n",
      " [2] 新台幣兌美元周三(30日)收盤報31.890元 貶值7.2分   \n",
      " [3] 英國央行新版5鎊鈔票 素食者不敢使用？             \n",
      " [4] 德銀：人民幣將再貶17%！因中國經濟靠房市泡沫      \n",
      " [5] 資金外逃勢難擋！川普若挑釁 人民幣明年自由浮動？  \n",
      " [6] 新台幣兌美元周三(30日)午盤報31.897元 貶7.9分     \n",
      " [7] 《人幣匯率》中間價30日報6.8865元 升值24基點      \n",
      " [8] 人民幣中間價報6.8865 升值24點 連漲三日           \n",
      " [9] 紐約匯市─美元上漲至接近數年高點後 回檔走低       \n",
      "[10] 委內瑞拉貨幣 又成了自由落體 單單11月 再大跌55%   \n",
      "[11] 委內瑞拉幣單月暴貶60%！竊賊改帶信用卡機盜刷      \n",
      "[12] 誰該閉嘴？伯南克：Fed官員應避免公開預測央行行動  \n",
      "[13] 新台幣由升轉貶，收31.818元、貶值1.6分            \n",
      "[14] 日元大貶的背景主因：「美、日利差」快速擴大       \n",
      "[15] 日元低不久！瑞銀：「川普泡沫」一旦破裂 日元飆回98\n",
      "[16] 新台幣兌美元周二(29日)收盤報31.818元 貶1.6分     \n",
      "[17] 澳元「極度高估」？德銀：3大理由繼續看貶澳元！    \n",
      "[18] 新台幣兌美元匯價中午暫收31.791元，升值1.1分      \n",
      "[19] 《人幣匯率》中間價29日報6.8889元 升值153基點     \n",
      "[20] 人民幣中間價大幅上調153點 報6.8889               \n",
      "1913 Levels: [賽事速遞] 前三甲差距甚微 最後一周究竟鹿死誰手？ ...\n"
     ]
    }
   ],
   "source": [
    "print(head(dat$title,20))"
   ]
  },
  {
   "cell_type": "code",
   "execution_count": 5,
   "metadata": {
    "collapsed": false
   },
   "outputs": [
    {
     "data": {
      "text/html": [
       "'list'"
      ],
      "text/latex": [
       "'list'"
      ],
      "text/markdown": [
       "'list'"
      ],
      "text/plain": [
       "[1] \"list\""
      ]
     },
     "metadata": {},
     "output_type": "display_data"
    }
   ],
   "source": [
    "typeof(dat)"
   ]
  },
  {
   "cell_type": "code",
   "execution_count": 6,
   "metadata": {
    "collapsed": false
   },
   "outputs": [
    {
     "ename": "ERROR",
     "evalue": "Error in parse(text = x, srcfile = src): <text>:1:20: Unerwartete(s) INCOMPLETE_STRING\n2: words <- toTrad(words)\n3: insertWords(words)\n                      ^\n",
     "output_type": "error",
     "traceback": [
      "Error in parse(text = x, srcfile = src): <text>:1:20: Unerwartete(s) INCOMPLETE_STRING\n2: words <- toTrad(words)\n3: insertWords(words)\n                      ^\nTraceback:\n"
     ]
    }
   ],
   "source": [
    "words <- readLines(\"dat$title)\n",
    "words <- toTrad(words)\n",
    "insertWords(words)"
   ]
  },
  {
   "cell_type": "code",
   "execution_count": 12,
   "metadata": {
    "collapsed": false,
    "scrolled": true
   },
   "outputs": [
    {
     "name": "stdout",
     "output_type": "stream",
     "text": [
      "[1] I've owned some type of Dustbuster/handvac for the last twenty years and I don't think I've ever ever had one that I didn't hate.  Too little suction power, not enough charge time, the suction nozzle is awkward to use, and the batteries are always dead after a couple minutes. I can keep them plugged into the wall all the time, but that kills the battery and wastes electricity.  I have found it much more effective to just use the suction hose on my upright, even though that means lugging my vacuum around. So I decided to see what is new in handvac technology and if they have improved at all over the last ten years.  Fortunately, I can say that they have.The Black and Decker 14.4v Lithium Ion DustBuster is the same handvac as the Black & Decker CHV1410 Dustbuster 14.4-Volt Cordless Cyclonic Hand Vac except it contains a Lithium-Ion (LIB) battery, whereas the standard CHV1410 contains a nickel-cadmium (Ni-Cd) battery.  If you're trying to decide between the two devices, I would recommend this Lithium-Ion model due to the advantages of the battery:1. Higher energy density - this means that the LIB battery can hold more energy per volume. In this case the CHV1410L holds about twice the amount of energy as the CHV1410.2. Greater power density -  this refers to bursts of power the battery is capable.  It works well when combined with the higher energy density mentioned above.3. No memory effect - this is something you might have noticed with a Ni-Cd battery.  These batteries work best when you fully discharge the battery and then recharge it.  With a Dustbuster, you're almost never going to do this.  You'll use it for a few minutes then put it back on the mount to charge. This can sometimes product a memory effect, where the cadmium inside the battery forms crystals and the battery will hold less of a charge.  A LIB battery does not experience a memory effect.4. Non-toxic - Ni-Cd batteries are toxic and classified as hazardous.  LiB aren't, so disposal is much better for the environment.LiB do have a couple small disadvantages, but in this application and with the frequent recharging the Dustbuster will see, I feel that it is definitely the right choice.  Not to mention the toxicity factor alone makes me feel better about using this type of battery.USE AND OPERATION - I evaluated both the CHV1410L and the standard CHV1410 at the same time to see what the real difference was between the devices and how the battery affected them.  The main thing I like about the CHV1410L does have to do with the battery.  It will supposedly hold a charge for up to 18 months. I can't confirm if this is true, but the first time I had it, I gave it a full charge and then removed it from the power source and let it sit uncharged for 30 days. When I tried it out, it seemed to be completely charged and worked great.  With my previous Dustbuster, it would have been dead after two days. I did the same 30 day test with the CHV1410.  Although it did still have a powerful charge in it and seemed to work fine, I did notice it was less powerful than the CHV1410L.  I tested this by putting two small Styrofoam balls in front of the Dustbusters at a specific distance, and then gradually moved the Dustbusters closer to the peanuts until they sucked them up.  In repeated tests, the CHV1410L grabbed the ball slightly before the CHV1410, demonstrating more power.  For the remainder of my use and testing, the two units performed the same.The main thing I noticed about using the Dustbuster is how powerful it is.  I was not expecting much out of it, but it performed almost as well as my upright.  It has a narrow opening on the front of it to concentrate more of the power.  That little green piece on the end pulls out and extends the dustbuster so you can get in hard to reach places. This worked great for cobwebs and getting dust from under furniture like sofas and dressers.  The crevice tool also has a small brush attached to it.  I tried it out on a sofa covered in dog hair, but did not find that the brush helped much at all.  It was just as easy to use it without the brush.  The only way I see that the brush might be handy is for my ceiling fans, which allows me to press down on the crevice tool without pressing into the blade.  Otherwise it's not very useful.CLEANING - The CHV1410L is very easy to clean. It's bagless, and uses a plastic filter.  You just press in the tabs and it unlocks and you can shake it out into a trash can.  One problem I did have with it is that dog hair seemed to collect in the filter holes and I had to pull these out by hand. But I've used a lot of bagless vacuums like this with these types of filters and I would say this is one of the easier ones to clean.Overall, I'm very happy with the CHV1410L and plan to use it for almost everything I was using my upright for, which will save me a lot of time not having to drag it out of the closet and plug it in. The only real negative I have with it is that it's fairly loud, which I guess is to be expected for something so powerful.UPDATE December 2013 - It's been almost two years and the battery on this Dust Buster is still going strong. I use it maybe twice a week for a total of about 30 minutes.\n",
      "[2] Awesome power.  At first I did not like the fact that it could not be hung up on the wall with the charger plugging into it like my previous dustbusters.  I didn't have extra tabletop space to store it flat.  But once I found a spot for it, it is nice to just rest it on its base and not deal with wires and decisions -- to connect to charger or not.  It just is always fully charged.  I have not yet experienced it running out of power during a pickup session -- altho I do tend to just use it for quickie pickups.  I plan to push its limits in the future to see just how long it can run on a full charge.  The fact that it is Lithium Ion is great that it should last longer and perform better than previous nicad batteries.  After a few years, the old style dustbusters just don't take a charge well.FYI, I used two fat J-shaped hooks mounted a few inches apart on the wall to create a platform for the vac.  I'll post a picture if I don't see a similar pic.                                                                                                                                                                                                                                                                                                                                                                                                                                                                                                                                                                                                                                                                                                                                                                                                                                                                                                                                                                                                                                                                                                                                                                                                                                                                                                                                                                                                                                                                                                                                                                                                                                                                                                                                                                                                                                                                                                                                                                                                                                                                                                                                                                                                                                                                                                                                                                                                                                                                                                                                                                                                                                                                                                                                                                                                                                                                                                                                                                                                                                                                                                                                                                                                                                                                                                                                                                                                                                                                                                                                                                                                                                                                                                                                                                                                                                                                                                                                                                                                                                                                                                                                                                                                                                                                                                                                                                                                                               \n",
      "[3] I have had several hand-held vacuum cleaners and Dustbusters over the years. They all had one glaring problem - the battery. Battery life is not very long on these devices, and that is to be expected, but once the battery is completely depleted (which if it is a NiCad, it should always be depleted), it takes many hours (sometimes an entire day) to recharge. And since you shouldn't recharge the battery unless it is completely depleted, you most often have a device that is never fully charged, and thus will only run for a few minutes at a time. This new Dustbuster eliminates that problem by using a Lithium-Ion battery. Not only does it hold a charge much longer, it recharges VERY quickly. Best of all, you can leave it in the charger all the time, so your Dustbuster is always fully charged and ready to go. And you don't have to wait until the battery is completely depleted either. Besides that great feature, virtually everything else (the extending nozzle, brush  attachment, rotating nozzle) work perfectly.PROS:1.Great battery (long lasting, no memory issue, quick recharge, leave in the charger so you always have a full charge).2.Powerful suction3.Very easy to empty and clean the dust bowl and filters - something other vacuums don't do well. The dust bowl is visible due to the clear plastic covering that area.4.Good accessories - extending nozzle, flip-up brush, rotating nozzle work exactly as they shouldCONS:None at all. Black&Decker has finally made the perfect hand-held vacuum! Even the price is great - I bought it on sale at Home Depot for $67.                                                                                                                                                                                                                                                                                                                                                                                                                                                                                                                                                                                                                                                                                                                                                                                                                                                                                                                                                                                                                                                                                                                                                                                                                                                                                                                                                                                                                                                                                                                                                                                                                                                                                                                                                                                                                                                                                                                                                                                                                                                                                                                                                                                                                                                                                                                                                                                                                                                                                                                                                                                                                                                                                                                                                                                                                                                                                                                                                                                                                                                                                                                                                                                                                                                                                                                                                                                                                                                                                                                                                                                                                                                                                                                                                                                            \n",
      "[4] Once I received my \"new\" Lithium Ion Dust Buster, I have to agree with the majority of the reviews.  This dust buster was well designed, easy to operate, great suction, easy to clean and most of all, the battery life is fantastic.  I've had Nicad dust busters in the past and they just don't last very long and our most recent one the charger burned out.  Right now, the only negative (and this has been pointed out by other reviewers) is the bright blue LED charging light.  This light is flashing while in charge mode and steady when fully charged.  It's best to keep this charger in a room where you won't see it if you're trying to sleep, eat or watch TV - a bit obnoxious. This light is too bright.  A non-LED light would have made more sense.  We can deal with the light issue so this product gets a full 5 stars.  I would also recommend that Amazon make available the filter that goes with this hand vac.  the one's shown do not fit this unit.  From what I've seen so far, you can only get another filter through Black & Decker and there is no filter part number in the manual.                                                                                                                                                                                                                                                                                                                                                                                                                                                                                                                                                                                                                                                                                                                                                                                                                                                                                                                                                                                                                                                                                                                                                                                                                                                                                                                                                                                                                                                                                                                                                                                                                                                                                                                                                                                                                                                                                                                                                                                                                                                                                                                                                                                                                                                                                                                                                                                                                                                                                                                                                                                                                                                                                                                                                                                                                                                                                                                                                                                                                                                                                                                                                                                                                                                                                                                                                                                                                                                                                                                                                                                                                                                                                                                                                                                                                                                                                                                                                                                                                                                                                                                                                                                                                                                                                                   \n",
      "[5] I've owned and used several older generation Dustbuters. This one is a totally new design. Since I was tired of weak vacuums with weak batteries, I splurged and went for the top-of-the-line model. Here are my key findings:1. Suction is good for a battery powered vacuum; certainly better than older models.2. The charging light is very bright. I hadn't anticipated getting a new nightlight, but that's what it is.3. The front end of the vacuum often pops off in use. I make sure the two latches on the sides are engaged, but when you press the nozzle into something, like carpet, to suck up dirt, sometimes the nozzle just pops off and then the dirt dumps out!4. The extendable nozzle is a joke. You pull it out and snap it in place and the moment it contacts something, it pushes right back in. Useless feature.5. Battery life for a cleaning job seems fine. I've never yet had the vacuum lose power or even slow down. I only use it for tasks that run it a few minutes at a time, but that was the outer limit for the older units.All in all, a mixed bag. Fundamentally good suction and battery life, but quirky \"features.\"                                                                                                                                                                                                                                                                                                                                                                                                                                                                                                                                                                                                                                                                                                                                                                                                                                                                                                                                                                                                                                                                                                                                                                                                                                                                                                                                                                                                                                                                                                                                                                                                                                                                                                                                                                                                                                                                                                                                                                                                                                                                                                                                                                                                                                                                                                                                                                                                                                                                                                                                                                                                                                                                                                                                                                                                                                                                                                                                                                                                                                                                                                                                                                                                                                                                                                                                                                                                                                                                                                                                                                                                                                                                                                                                                                                                                                                                                                                                                                                                                                                                                                                                                                                                                                                              \n",
      "[6] (Purchased in August 2015)It's been 10 years since I last had bought a B&D and I am not disappointed with this design and functionality. There was a $10 off manufacturer's rebate and I got this for $40 which I think was a great deal.I've only used this device to clean the inside of my car. This handheld vacuum has strong power to pickup dirt, small leaves, and cereal crumbs.  The crevice tool helps to get to the side areas that I can't reach with just the front nozzle.  The brush is attached to the machine for easy no fuss storage and the bristles are short and sturdy to brush out the lint from the car carpets. However, I don't suggest to use this B&D in your home on thick long fibered carpets. Use a heavy duty vacuum for larger cleanups.  A great buy and would definitely recommend to purchase for students who dorm.Battery life is long enough lasting about 1 1/2 - 2 hours.  When charging, there is a illuminated blue light at the base which tells you when the charge is full. Approximate length to charge (1-1/2 hours).  Otherwise, (Blinking light=charging, Solid light=charged up).Attached is a photo of the filter disassembled.  The gray cylinder domed cup twist off to reveal the filter underneath.  Not sure whether there is a replacement filter that consumers can buy when the filter gets too grimy to clean, but so far, it's just a rinse with some effort to clean any small hairs or debris.Noise level is a notch lower than a regular heavy duty vacuum, but it shows the strength of the unit. Time will tell how long the mechanics will keep going.  I would say clean the filter often so the airflow is good and does not overwork the mechanism.                                                                                                                                                                                                                                                                                                                                                                                                                                                                                                                                                                                                                                                                                                                                                                                                                                                                                                                                                                                                                                                                                                                                                                                                                                                                                                                                                                                                                                                                                                                                                                                                                                                                                                                                                                                                                                                                                                                                                                                                                                                                                                                                                                                                                                                                                                                                                                                                                                                                                                                                                                                                                                                                                                                                                                                                                                                                                                                                                                                                                                                                                                                                                                                                                                                                                                                                                                                                                                                                                                                                                                                                                                                                                                  \n",
      "9033 Levels:  I don’t know if everyone else had low expectations or what?  The battery life is nothing to write home about.  This was listed as a top essential for back to school, maybe college kids are buying or receiving these and for all they know it is a good vac.  College kids aren’t cleaning, let’s be real.I charged it the first time overnight and I was lucky to get 10-15 mins of continual use time out of that charge, it was terrible.  Not to mention if you leave it off the charger for a day, again you will maybe get 5-10 minutes, if you’re lucky.  I find this ridiculous and totally uncalled for, what’s the ion battery doing?!?!?!  This thing was such a pain, a corded vac would have been better.  As I stated in my video, I wanted one I could clean the filter myself, this was a hassle to get the filter in and out.  The cleaning aspect was a pain because there is two pieces and you have to get them back in just right.  Lastly the design of the vac was not thought out very well.  There is a smaller hole in the top, which is stupid because inevitably there will be something you vacuumed up and you need to wipe off the inside, so its not all smeared around.  If this happens you better have a baby hands or a baby bottle brush to get in there.  The suction power is abysmal, it was struggling to get up cat food, crumbs, and litter.  I had to tilt it and scoop it in to get it to suck it up.  What a waste of time and money.  I can’t stand this thing.  I will say too, its LOUD.  I decided to step up and get the Black+Decker BDH2000PL MAX Lithium Pivot Vacuum, 20-volt, do yourself a favor and spend the extra money, you will be happy you did.I gave it two stars because I have experienced worse, if that makes this thing any more appealing. ...\n"
     ]
    }
   ],
   "source": [
    "print(head(dat$V3))"
   ]
  },
  {
   "cell_type": "code",
   "execution_count": null,
   "metadata": {
    "collapsed": true
   },
   "outputs": [],
   "source": []
  },
  {
   "cell_type": "code",
   "execution_count": null,
   "metadata": {
    "collapsed": true
   },
   "outputs": [],
   "source": []
  }
 ],
 "metadata": {
  "kernelspec": {
   "display_name": "R",
   "language": "R",
   "name": "ir"
  },
  "language_info": {
   "codemirror_mode": "r",
   "file_extension": ".r",
   "mimetype": "text/x-r-source",
   "name": "R",
   "pygments_lexer": "r",
   "version": "3.3.1"
  }
 },
 "nbformat": 4,
 "nbformat_minor": 1
}
