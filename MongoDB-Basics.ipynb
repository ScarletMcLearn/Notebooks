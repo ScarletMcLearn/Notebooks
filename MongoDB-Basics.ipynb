{
 "cells": [
  {
   "cell_type": "markdown",
   "metadata": {},
   "source": [
    "## 22.12.2016"
   ]
  },
  {
   "cell_type": "markdown",
   "metadata": {},
   "source": [
    "# In this notebook I learn basic commands for querying data from the MongoDB."
   ]
  },
  {
   "cell_type": "markdown",
   "metadata": {},
   "source": [
    "----"
   ]
  },
  {
   "cell_type": "markdown",
   "metadata": {},
   "source": [
    "#### insert"
   ]
  },
  {
   "cell_type": "markdown",
   "metadata": {},
   "source": [
    "_id is given automatically:"
   ]
  },
  {
   "cell_type": "markdown",
   "metadata": {},
   "source": [
    "```JSON\n",
    "> db.publishers.insert({publisherId:\"chweng\",publisherName:\"OREILLY\"})\n",
    "WriteResult({ \"nInserted\" : 1 })\n",
    "> db.publishers.insert({publisherId:\"WOLF\",publisherName:\"WOLFRAM\"})\n",
    "WriteResult({ \"nInserted\" : 1 })\n",
    "> db.publishers.find()\n",
    "{ \"_id\" : ObjectId(\"585a3f9c138f0a966cf3031e\"), \"publisherId\" : \"chweng\", \"publisherName\" : \"OREILLY\" }\n",
    "{ \"_id\" : ObjectId(\"585a3fb5138f0a966cf3031f\"), \"publisherId\" : \"WOLF\", \"publisherName\" : \"WOLFRAM\" }\n",
    "```"
   ]
  },
  {
   "cell_type": "markdown",
   "metadata": {},
   "source": [
    "_id is given by the user:"
   ]
  },
  {
   "cell_type": "markdown",
   "metadata": {},
   "source": [
    "```JSON\n",
    ">     db.publishers.insert({_id: \"PH\", publisherName: \"Prentice Hall PTR\"})\n",
    "WriteResult({ \"nInserted\" : 1 })\n",
    ">     db.publishers.insert({_id: \"OA\", publisherName: \"O’Reilly & Associates\"})\n",
    "WriteResult({ \"nInserted\" : 1 })\n",
    "\n",
    ">     db.publishers.find()\n",
    "{ \"_id\" : ObjectId(\"585a3f9c138f0a966cf3031e\"), \"publisherId\" : \"chweng\", \"publisherName\" : \"OREILLY\" }\n",
    "{ \"_id\" : ObjectId(\"585a3fb5138f0a966cf3031f\"), \"publisherId\" : \"WOLF\", \"publisherName\" : \"WOLFRAM\" }\n",
    "{ \"_id\" : \"PH\", \"publisherName\" : \"Prentice Hall PTR\" }\n",
    "{ \"_id\" : \"OA\", \"publisherName\" : \"O’Reilly & Associates\" }\n",
    "```"
   ]
  },
  {
   "cell_type": "markdown",
   "metadata": {},
   "source": [
    "#### remove"
   ]
  },
  {
   "cell_type": "markdown",
   "metadata": {},
   "source": [
    "```JSON\n",
    "> db.publishers.remove({publisherId:{$exists:true}})\n",
    "WriteResult({ \"nRemoved\" : 2 })\n",
    "\n",
    "> db.publishers.remove({publisherName:{$exists:true}})\n",
    "WriteResult({ \"nRemoved\" : 2 })\n",
    "> db.publishers.find()\n",
    "> \n",
    "```"
   ]
  },
  {
   "cell_type": "markdown",
   "metadata": {
    "collapsed": true
   },
   "source": [
    "## example: a collection of books:"
   ]
  },
  {
   "cell_type": "markdown",
   "metadata": {},
   "source": [
    "```JSON\n",
    "db.books.insert({_id: 1, isbn: \"0131002872\", title: \"Thinking in Java\", releaseDate: \"2002-12-01\", listPrice: 54.99, pubId: \"PH\"})\n",
    "db.books.insert({_id: 2, isbn: \"059600530X\", title: \"Enterprise JavaBeans\", releaseDate: \"2004-06-02\", listPrice: 44.95, pubId: \"OA\"})\n",
    "db.books.insert({_id: 3, isbn: \"0596005717\", title: \"Head First EJB\", releaseDate: \"2003-10-03\", listPrice: 44.95, pubId: \"OA\"})\n",
    "db.books.insert({_id: 4, isbn: \"0596004656\", title: \"Head First Java\", releaseDate: \"2003-05-04\", listPrice: 39.95, pubId: \"OA\"})\n",
    "db.books.find()\n",
    "```"
   ]
  },
  {
   "cell_type": "markdown",
   "metadata": {},
   "source": [
    "#### find books which its price is more than 45 dollars"
   ]
  },
  {
   "cell_type": "markdown",
   "metadata": {},
   "source": [
    "```JSON\n",
    "> db.books.find({listPrice:{$gt:45}})\n",
    "{ \"_id\" : 1, \"isbn\" : \"0131002872\", \"title\" : \"Thinking in Java\", \"releaseDate\" : \"2002-12-01\", \"listPrice\" : 54.99, \"pubId\" : \"PH\" }\n",
    "```"
   ]
  },
  {
   "cell_type": "markdown",
   "metadata": {},
   "source": [
    "#### use regular expression to filter out the book title"
   ]
  },
  {
   "cell_type": "markdown",
   "metadata": {},
   "source": [
    "```JSON\n",
    "> db.books.find({title:/.*in.*/g,listPrice:{$gt:50}})\n",
    "{ \"_id\" : 1, \"isbn\" : \"0131002872\", \"title\" : \"Thinking in Java\", \"releaseDate\" : \"2002-12-01\", \"listPrice\" : 54.99, \"pubId\" : \"PH\" }\n",
    "```"
   ]
  },
  {
   "cell_type": "markdown",
   "metadata": {},
   "source": [
    "#### see only specific columns"
   ]
  },
  {
   "cell_type": "markdown",
   "metadata": {},
   "source": [
    "```JSON\n",
    "> db.books.find(null,{title:1, listPrice: 1, _id: 0})\n",
    "{ \"title\" : \"Thinking in Java\", \"listPrice\" : 54.99 }\n",
    "{ \"title\" : \"Enterprise JavaBeans\", \"listPrice\" : 44.95 }\n",
    "{ \"title\" : \"Head First EJB\", \"listPrice\" : 44.95 }\n",
    "{ \"title\" : \"Head First Java\", \"listPrice\" : 39.95 }\n",
    "```"
   ]
  },
  {
   "cell_type": "markdown",
   "metadata": {},
   "source": [
    "#### sort the books according to their prices"
   ]
  },
  {
   "cell_type": "markdown",
   "metadata": {},
   "source": [
    "```JSON\n",
    ">     db.books.find(null, {title:1, listPrice: 1, _id: 0}).sort({listPrice: 1})\n",
    "{ \"title\" : \"Head First Java\", \"listPrice\" : 39.95 }\n",
    "{ \"title\" : \"Enterprise JavaBeans\", \"listPrice\" : 44.95 }\n",
    "{ \"title\" : \"Head First EJB\", \"listPrice\" : 44.95 }\n",
    "{ \"title\" : \"Thinking in Java\", \"listPrice\" : 54.99 }\n",
    ">     db.books.find(null, {title:1, listPrice: 1, _id: 0}).sort({listPrice: -1})\n",
    "{ \"title\" : \"Thinking in Java\", \"listPrice\" : 54.99 }\n",
    "{ \"title\" : \"Enterprise JavaBeans\", \"listPrice\" : 44.95 }\n",
    "{ \"title\" : \"Head First EJB\", \"listPrice\" : 44.95 }\n",
    "{ \"title\" : \"Head First Java\", \"listPrice\" : 39.95 }\n",
    "```"
   ]
  },
  {
   "cell_type": "markdown",
   "metadata": {},
   "source": [
    "#### update the price of a book"
   ]
  },
  {
   "cell_type": "markdown",
   "metadata": {},
   "source": [
    "```JSON\n",
    "> db.books.update({title: \"Thinking in Java\"}, {$set: {listPrice: 55.99}})\n",
    "WriteResult({ \"nMatched\" : 1, \"nUpserted\" : 0, \"nModified\" : 1 })\n",
    "> db.books.find(null,{title:1, listPrice: 1, _id: 0})\n",
    "{ \"title\" : \"Thinking in Java\", \"listPrice\" : 55.99 }\n",
    "{ \"title\" : \"Enterprise JavaBeans\", \"listPrice\" : 44.95 }\n",
    "{ \"title\" : \"Head First EJB\", \"listPrice\" : 44.95 }\n",
    "{ \"title\" : \"Head First Java\", \"listPrice\" : 39.95 }\n",
    "```"
   ]
  },
  {
   "cell_type": "markdown",
   "metadata": {},
   "source": [
    "## example: cities and populations"
   ]
  },
  {
   "cell_type": "markdown",
   "metadata": {},
   "source": [
    "#### use mongoimport (from the terminal) to import the JSON file into the database:"
   ]
  },
  {
   "cell_type": "markdown",
   "metadata": {},
   "source": [
    "```BASH\n",
    "Last login: Thu Dec 22 10:52:03 on ttys006\n",
    "Wengs-MacBook-Air:~ chweng$ mongoimport --db test --collection zips --drop --file /Volumes/Transcend/mongodblab/samples/zips.json\n",
    "2016-12-22T10:53:20.324+0800\tconnected to: localhost\n",
    "2016-12-22T10:53:20.326+0800\tdropping: test.zips\n",
    "2016-12-22T10:53:21.077+0800\timported 29353 documents\n",
    "```"
   ]
  },
  {
   "cell_type": "markdown",
   "metadata": {},
   "source": [
    "```JSON\n",
    "> db.zips.find({city: \"BEVERLY HILLS\"})\n",
    "{ \"_id\" : \"76711\", \"city\" : \"BEVERLY HILLS\", \"loc\" : [ -97.150254, 31.519863 ], \"pop\" : 8736, \"state\" : \"TX\" }\n",
    "{ \"_id\" : \"90210\", \"city\" : \"BEVERLY HILLS\", \"loc\" : [ -118.406477, 34.090107 ], \"pop\" : 20700, \"state\" : \"CA\" }\n",
    "{ \"_id\" : \"90211\", \"city\" : \"BEVERLY HILLS\", \"loc\" : [ -118.383007, 34.065217 ], \"pop\" : 7746, \"state\" : \"CA\" }\n",
    "{ \"_id\" : \"90212\", \"city\" : \"BEVERLY HILLS\", \"loc\" : [ -118.399544, 34.061855 ], \"pop\" : 10725, \"state\" : \"CA\" }\n",
    "```"
   ]
  },
  {
   "cell_type": "markdown",
   "metadata": {},
   "source": [
    "create the index for the geo location of the cities:"
   ]
  },
  {
   "cell_type": "markdown",
   "metadata": {},
   "source": [
    "```JSON\n",
    "> db.zips.ensureIndex({loc: \"2d\"})\n",
    "{\n",
    "\t\"createdCollectionAutomatically\" : false,\n",
    "\t\"numIndexesBefore\" : 1,\n",
    "\t\"numIndexesAfter\" : 2,\n",
    "\t\"ok\" : 1\n",
    "}\n",
    "```"
   ]
  },
  {
   "cell_type": "markdown",
   "metadata": {},
   "source": [
    "choose a location of a city (beverlyhills.loc)"
   ]
  },
  {
   "cell_type": "markdown",
   "metadata": {},
   "source": [
    "```JSON\n",
    "> db.zips.findOne({ city: \"BEVERLY HILLS\", _id: \"90210\" })\n",
    "{\n",
    "\t\"_id\" : \"90210\",\n",
    "\t\"city\" : \"BEVERLY HILLS\",\n",
    "\t\"loc\" : [\n",
    "\t\t-118.406477,\n",
    "\t\t34.090107\n",
    "\t],\n",
    "\t\"pop\" : 20700,\n",
    "\t\"state\" : \"CA\"\n",
    "}\n",
    "> var beverlyhills= db.zips.findOne({ city: \"BEVERLY HILLS\", _id: \"90210\" })\n",
    "\n",
    "> beverlyhills.loc\n",
    "[ -118.406477, 34.090107 ]\n",
    "```"
   ]
  },
  {
   "cell_type": "markdown",
   "metadata": {},
   "source": [
    "#### find places which are near to the chosen location (beverlyhills.loc)"
   ]
  },
  {
   "cell_type": "markdown",
   "metadata": {},
   "source": [
    "```JSON\n",
    ">     db.zips.find({\n",
    "...         loc: {\n",
    "...             $near: beverlyhills.loc, \n",
    "...             $maxDistance: 0.03\n",
    "...         }\n",
    "...     })\n",
    "{ \"_id\" : \"90210\", \"city\" : \"BEVERLY HILLS\", \"loc\" : [ -118.406477, 34.090107 ], \"pop\" : 20700, \"state\" : \"CA\" }\n",
    "{ \"_id\" : \"90069\", \"city\" : \"WEST HOLLYWOOD\", \"loc\" : [ -118.378753, 34.090573 ], \"pop\" : 20587, \"state\" : \"CA\" }\n",
    "{ \"_id\" : \"90212\", \"city\" : \"BEVERLY HILLS\", \"loc\" : [ -118.399544, 34.061855 ], \"pop\" : 10725, \"state\" : \"CA\" }\n",
    "```"
   ]
  },
  {
   "cell_type": "markdown",
   "metadata": {},
   "source": [
    "#### group by: calculate the total population of a state, by adding all the populations of the cities within that state:"
   ]
  },
  {
   "cell_type": "markdown",
   "metadata": {},
   "source": [
    "```SQL\n",
    "> db.zips.aggregate({  $group:{_id:\"$state\",totalpop:{$sum:\"$pop\"} }  })\n",
    "{ \"_id\" : \"NV\", \"totalpop\" : 1201833 }\n",
    "{ \"_id\" : \"ID\", \"totalpop\" : 1006749 }\n",
    "{ \"_id\" : \"CO\", \"totalpop\" : 3293755 }\n",
    "{ \"_id\" : \"NC\", \"totalpop\" : 6628637 }\n",
    "{ \"_id\" : \"TX\", \"totalpop\" : 16984601 }\n",
    "{ \"_id\" : \"NH\", \"totalpop\" : 1109252 }\n",
    "{ \"_id\" : \"OK\", \"totalpop\" : 3145585 }\n",
    "{ \"_id\" : \"LA\", \"totalpop\" : 4217595 }\n",
    "{ \"_id\" : \"KS\", \"totalpop\" : 2475285 }\n",
    "{ \"_id\" : \"MO\", \"totalpop\" : 5110648 }\n",
    "{ \"_id\" : \"IL\", \"totalpop\" : 11427576 }\n",
    "{ \"_id\" : \"IN\", \"totalpop\" : 5544136 }\n",
    "{ \"_id\" : \"VA\", \"totalpop\" : 6181479 }\n",
    "{ \"_id\" : \"SD\", \"totalpop\" : 695397 }\n",
    "{ \"_id\" : \"WI\", \"totalpop\" : 4891769 }\n",
    "{ \"_id\" : \"AK\", \"totalpop\" : 544698 }\n",
    "{ \"_id\" : \"WV\", \"totalpop\" : 1793146 }\n",
    "{ \"_id\" : \"IA\", \"totalpop\" : 2776420 }\n",
    "{ \"_id\" : \"HI\", \"totalpop\" : 1108229 }\n",
    "{ \"_id\" : \"MI\", \"totalpop\" : 9295297 }\n",
    "Type \"it\" for more\n",
    "```"
   ]
  },
  {
   "cell_type": "markdown",
   "metadata": {},
   "source": [
    "#### group by + where"
   ]
  },
  {
   "cell_type": "markdown",
   "metadata": {},
   "source": [
    "```SQL\n",
    "> db.zips.aggregate(   [  { $group:{_id:\"$state\",totalpop:{$sum:\"$pop\"} }  } , {$match:{totalpop:{$gt:100000}}}  ] )\n",
    "\n",
    "{ \"_id\" : \"NV\", \"totalpop\" : 1201833 }\n",
    "{ \"_id\" : \"ID\", \"totalpop\" : 1006749 }\n",
    "{ \"_id\" : \"CO\", \"totalpop\" : 3293755 }\n",
    "{ \"_id\" : \"NC\", \"totalpop\" : 6628637 }\n",
    "{ \"_id\" : \"TX\", \"totalpop\" : 16984601 }\n",
    "{ \"_id\" : \"NH\", \"totalpop\" : 1109252 }\n",
    "{ \"_id\" : \"OK\", \"totalpop\" : 3145585 }\n",
    "{ \"_id\" : \"LA\", \"totalpop\" : 4217595 }\n",
    "{ \"_id\" : \"KS\", \"totalpop\" : 2475285 }\n",
    "{ \"_id\" : \"MO\", \"totalpop\" : 5110648 }\n",
    "{ \"_id\" : \"IL\", \"totalpop\" : 11427576 }\n",
    "{ \"_id\" : \"IN\", \"totalpop\" : 5544136 }\n",
    "{ \"_id\" : \"VA\", \"totalpop\" : 6181479 }\n",
    "{ \"_id\" : \"SD\", \"totalpop\" : 695397 }\n",
    "{ \"_id\" : \"WI\", \"totalpop\" : 4891769 }\n",
    "{ \"_id\" : \"AK\", \"totalpop\" : 544698 }\n",
    "{ \"_id\" : \"WV\", \"totalpop\" : 1793146 }\n",
    "{ \"_id\" : \"IA\", \"totalpop\" : 2776420 }\n",
    "{ \"_id\" : \"HI\", \"totalpop\" : 1108229 }\n",
    "{ \"_id\" : \"MI\", \"totalpop\" : 9295297 }\n",
    "Type \"it\" for more\n",
    "```"
   ]
  },
  {
   "cell_type": "markdown",
   "metadata": {},
   "source": [
    "#### group by + where + order by"
   ]
  },
  {
   "cell_type": "markdown",
   "metadata": {},
   "source": [
    "```SQL\n",
    "> db.zips.aggregate(   [  { $group:{_id:\"$state\",totalpop:{$sum:\"$pop\"} }  } , {$match:{totalpop:{$gt:100000}}} , {$sort:{totalpop:-1}} ] )\n",
    "\n",
    "{ \"_id\" : \"CA\", \"totalpop\" : 29754890 }\n",
    "{ \"_id\" : \"NY\", \"totalpop\" : 17990402 }\n",
    "{ \"_id\" : \"TX\", \"totalpop\" : 16984601 }\n",
    "{ \"_id\" : \"FL\", \"totalpop\" : 12686644 }\n",
    "{ \"_id\" : \"PA\", \"totalpop\" : 11881643 }\n",
    "{ \"_id\" : \"IL\", \"totalpop\" : 11427576 }\n",
    "{ \"_id\" : \"OH\", \"totalpop\" : 10846517 }\n",
    "{ \"_id\" : \"MI\", \"totalpop\" : 9295297 }\n",
    "{ \"_id\" : \"NJ\", \"totalpop\" : 7730188 }\n",
    "{ \"_id\" : \"NC\", \"totalpop\" : 6628637 }\n",
    "{ \"_id\" : \"GA\", \"totalpop\" : 6478216 }\n",
    "{ \"_id\" : \"VA\", \"totalpop\" : 6181479 }\n",
    "{ \"_id\" : \"MA\", \"totalpop\" : 6016425 }\n",
    "{ \"_id\" : \"IN\", \"totalpop\" : 5544136 }\n",
    "{ \"_id\" : \"MO\", \"totalpop\" : 5110648 }\n",
    "{ \"_id\" : \"WI\", \"totalpop\" : 4891769 }\n",
    "{ \"_id\" : \"TN\", \"totalpop\" : 4876457 }\n",
    "{ \"_id\" : \"WA\", \"totalpop\" : 4866692 }\n",
    "{ \"_id\" : \"MD\", \"totalpop\" : 4781379 }\n",
    "{ \"_id\" : \"MN\", \"totalpop\" : 4372982 }\n",
    "Type \"it\" for more\n",
    "```"
   ]
  },
  {
   "cell_type": "markdown",
   "metadata": {},
   "source": [
    "#### exercises (group by)"
   ]
  },
  {
   "cell_type": "markdown",
   "metadata": {},
   "source": [
    "We have the following table:"
   ]
  },
  {
   "cell_type": "markdown",
   "metadata": {},
   "source": [
    "```SQL\n",
    "\n",
    "> db.zips.find()\n",
    "{ \"_id\" : \"01001\", \"city\" : \"AGAWAM\", \"loc\" : [ -72.622739, 42.070206 ], \"pop\" : 15338, \"state\" : \"MA\" }\n",
    "{ \"_id\" : \"01002\", \"city\" : \"CUSHMAN\", \"loc\" : [ -72.51565, 42.377017 ], \"pop\" : 36963, \"state\" : \"MA\" }\n",
    "{ \"_id\" : \"01005\", \"city\" : \"BARRE\", \"loc\" : [ -72.108354, 42.409698 ], \"pop\" : 4546, \"state\" : \"MA\" }\n",
    "{ \"_id\" : \"01007\", \"city\" : \"BELCHERTOWN\", \"loc\" : [ -72.410953, 42.275103 ], \"pop\" : 10579, \"state\" : \"MA\" }\n",
    "{ \"_id\" : \"01008\", \"city\" : \"BLANDFORD\", \"loc\" : [ -72.936114, 42.182949 ], \"pop\" : 1240, \"state\" : \"MA\" }\n",
    "{ \"_id\" : \"01010\", \"city\" : \"BRIMFIELD\", \"loc\" : [ -72.188455, 42.116543 ], \"pop\" : 3706, \"state\" : \"MA\" }\n",
    "{ \"_id\" : \"01011\", \"city\" : \"CHESTER\", \"loc\" : [ -72.988761, 42.279421 ], \"pop\" : 1688, \"state\" : \"MA\" }\n",
    "{ \"_id\" : \"01012\", \"city\" : \"CHESTERFIELD\", \"loc\" : [ -72.833309, 42.38167 ], \"pop\" : 177, \"state\" : \"MA\" }\n",
    "{ \"_id\" : \"01013\", \"city\" : \"CHICOPEE\", \"loc\" : [ -72.607962, 42.162046 ], \"pop\" : 23396, \"state\" : \"MA\" }\n",
    "{ \"_id\" : \"01020\", \"city\" : \"CHICOPEE\", \"loc\" : [ -72.576142, 42.176443 ], \"pop\" : 31495, \"state\" : \"MA\" }\n",
    "{ \"_id\" : \"01022\", \"city\" : \"WESTOVER AFB\", \"loc\" : [ -72.558657, 42.196672 ], \"pop\" : 1764, \"state\" : \"MA\" }\n",
    "{ \"_id\" : \"01026\", \"city\" : \"CUMMINGTON\", \"loc\" : [ -72.905767, 42.435296 ], \"pop\" : 1484, \"state\" : \"MA\" }\n",
    "{ \"_id\" : \"01027\", \"city\" : \"MOUNT TOM\", \"loc\" : [ -72.679921, 42.264319 ], \"pop\" : 16864, \"state\" : \"MA\" }\n",
    "{ \"_id\" : \"01028\", \"city\" : \"EAST LONGMEADOW\", \"loc\" : [ -72.505565, 42.067203 ], \"pop\" : 13367, \"state\" : \"MA\" }\n",
    "{ \"_id\" : \"01030\", \"city\" : \"FEEDING HILLS\", \"loc\" : [ -72.675077, 42.07182 ], \"pop\" : 11985, \"state\" : \"MA\" }\n",
    "{ \"_id\" : \"01031\", \"city\" : \"GILBERTVILLE\", \"loc\" : [ -72.198585, 42.332194 ], \"pop\" : 2385, \"state\" : \"MA\" }\n",
    "{ \"_id\" : \"01032\", \"city\" : \"GOSHEN\", \"loc\" : [ -72.844092, 42.466234 ], \"pop\" : 122, \"state\" : \"MA\" }\n",
    "{ \"_id\" : \"01033\", \"city\" : \"GRANBY\", \"loc\" : [ -72.520001, 42.255704 ], \"pop\" : 5526, \"state\" : \"MA\" }\n",
    "{ \"_id\" : \"01034\", \"city\" : \"TOLLAND\", \"loc\" : [ -72.908793, 42.070234 ], \"pop\" : 1652, \"state\" : \"MA\" }\n",
    "{ \"_id\" : \"01035\", \"city\" : \"HADLEY\", \"loc\" : [ -72.571499, 42.36062 ], \"pop\" : 4231, \"state\" : \"MA\" }\n",
    "Type \"it\" for more\n",
    "```"
   ]
  },
  {
   "cell_type": "markdown",
   "metadata": {},
   "source": [
    "#### Now, here's the task:\n",
    "\n",
    "1. obtain the population of every cities. \n",
    "2. calculate the averaged city population for every states."
   ]
  },
  {
   "cell_type": "markdown",
   "metadata": {},
   "source": [
    "```SQL\n",
    "> db.zips.aggregate({  $group:{_id:{city:\"$city\", state:\"$state\"} ,totalpop:{$sum:\"$pop\"} }  })\n",
    "\n",
    "{ \"_id\" : { \"city\" : \"WRANGELL\", \"state\" : \"AK\" }, \"totalpop\" : 2573 }\n",
    "{ \"_id\" : { \"city\" : \"POINT BAKER\", \"state\" : \"AK\" }, \"totalpop\" : 426 }\n",
    "{ \"_id\" : { \"city\" : \"KLAWOCK\", \"state\" : \"AK\" }, \"totalpop\" : 851 }\n",
    "{ \"_id\" : { \"city\" : \"CRAIG\", \"state\" : \"AK\" }, \"totalpop\" : 1398 }\n",
    "{ \"_id\" : { \"city\" : \"HOONAH\", \"state\" : \"AK\" }, \"totalpop\" : 1670 }\n",
    "{ \"_id\" : { \"city\" : \"NUIQSUT\", \"state\" : \"AK\" }, \"totalpop\" : 354 }\n",
    "{ \"_id\" : { \"city\" : \"AMBLER\", \"state\" : \"AK\" }, \"totalpop\" : 8 }\n",
    "{ \"_id\" : { \"city\" : \"WHITE MOUNTAIN\", \"state\" : \"AK\" }, \"totalpop\" : 194 }\n",
    "{ \"_id\" : { \"city\" : \"VENETIE\", \"state\" : \"AK\" }, \"totalpop\" : 184 }\n",
    "{ \"_id\" : { \"city\" : \"BORDER\", \"state\" : \"AK\" }, \"totalpop\" : 1805 }\n",
    "{ \"_id\" : { \"city\" : \"STEVENS VILLAGE\", \"state\" : \"AK\" }, \"totalpop\" : 110 }\n",
    "{ \"_id\" : { \"city\" : \"SHUNGNAK\", \"state\" : \"AK\" }, \"totalpop\" : 0 }\n",
    "{ \"_id\" : { \"city\" : \"SHAKTOOLIK\", \"state\" : \"AK\" }, \"totalpop\" : 183 }\n",
    "{ \"_id\" : { \"city\" : \"POINT HOPE\", \"state\" : \"AK\" }, \"totalpop\" : 640 }\n",
    "{ \"_id\" : { \"city\" : \"NOORVIK\", \"state\" : \"AK\" }, \"totalpop\" : 534 }\n",
    "{ \"_id\" : { \"city\" : \"NENANA\", \"state\" : \"AK\" }, \"totalpop\" : 393 }\n",
    "{ \"_id\" : { \"city\" : \"POINT LAY\", \"state\" : \"AK\" }, \"totalpop\" : 139 }\n",
    "{ \"_id\" : { \"city\" : \"KOYUK\", \"state\" : \"AK\" }, \"totalpop\" : 231 }\n",
    "{ \"_id\" : { \"city\" : \"KIVALINA\", \"state\" : \"AK\" }, \"totalpop\" : 689 }\n",
    "{ \"_id\" : { \"city\" : \"KAKTOVIK\", \"state\" : \"AK\" }, \"totalpop\" : 245 }\n",
    "```"
   ]
  },
  {
   "cell_type": "markdown",
   "metadata": {},
   "source": [
    "```SQL\n",
    "> db.zips.aggregate([\n",
    "...     {$group:{_id:{city:\"$city\", state:\"$state\"} ,totalpop:{$sum:\"$pop\"} }  },\n",
    "...     {$group:{_id:\"$_id.state\" ,avg:{$avg:\"$totalpop\"} } }\n",
    "...     ])\n",
    "\n",
    "{ \"_id\" : \"DC\", \"avg\" : 303450 }\n",
    "{ \"_id\" : \"RI\", \"avg\" : 19292.653846153848 }\n",
    "{ \"_id\" : \"DE\", \"avg\" : 14481.91304347826 }\n",
    "{ \"_id\" : \"VT\", \"avg\" : 2315.8765432098767 }\n",
    "{ \"_id\" : \"CT\", \"avg\" : 14674.625 }\n",
    "{ \"_id\" : \"GA\", \"avg\" : 11547.62210338681 }\n",
    "{ \"_id\" : \"ME\", \"avg\" : 3006.4901960784314 }\n",
    "{ \"_id\" : \"WA\", \"avg\" : 12258.670025188916 }\n",
    "{ \"_id\" : \"SC\", \"avg\" : 11139.626198083068 }\n",
    "{ \"_id\" : \"OK\", \"avg\" : 6155.743639921722 }\n",
    "{ \"_id\" : \"NH\", \"avg\" : 5232.320754716981 }\n",
    "{ \"_id\" : \"PA\", \"avg\" : 8679.067202337472 }\n",
    "{ \"_id\" : \"MS\", \"avg\" : 7524.023391812865 }\n",
    "{ \"_id\" : \"IN\", \"avg\" : 9271.130434782608 }\n",
    "{ \"_id\" : \"SD\", \"avg\" : 1839.6746031746031 }\n",
    "{ \"_id\" : \"VA\", \"avg\" : 8526.177931034483 }\n",
    "{ \"_id\" : \"TN\", \"avg\" : 9656.350495049504 }\n",
    "{ \"_id\" : \"HI\", \"avg\" : 15831.842857142858 }\n",
    "{ \"_id\" : \"MI\", \"avg\" : 12087.512353706112 }\n",
    "{ \"_id\" : \"AK\", \"avg\" : 2976.4918032786886 }\n",
    "Type \"it\" for more\n",
    "```"
   ]
  }
 ],
 "metadata": {
  "kernelspec": {
   "display_name": "Python 2",
   "language": "python",
   "name": "python2"
  },
  "language_info": {
   "codemirror_mode": {
    "name": "ipython",
    "version": 2
   },
   "file_extension": ".py",
   "mimetype": "text/x-python",
   "name": "python",
   "nbconvert_exporter": "python",
   "pygments_lexer": "ipython2",
   "version": "2.7.12"
  }
 },
 "nbformat": 4,
 "nbformat_minor": 1
}
