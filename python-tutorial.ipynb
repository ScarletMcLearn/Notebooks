{
 "cells": [
  {
   "cell_type": "markdown",
   "metadata": {},
   "source": [
    "## 1. 函數：將計算結果直接於函數內印出或回傳出函數外"
   ]
  },
  {
   "cell_type": "code",
   "execution_count": 1,
   "metadata": {
    "collapsed": false
   },
   "outputs": [],
   "source": [
    "def square(x):\n",
    "    print x*x"
   ]
  },
  {
   "cell_type": "code",
   "execution_count": 2,
   "metadata": {
    "collapsed": true
   },
   "outputs": [],
   "source": [
    "def square_return(x):\n",
    "    return x**2"
   ]
  },
  {
   "cell_type": "code",
   "execution_count": 3,
   "metadata": {
    "collapsed": false
   },
   "outputs": [
    {
     "name": "stdout",
     "output_type": "stream",
     "text": [
      "4\n"
     ]
    }
   ],
   "source": [
    "square(2)"
   ]
  },
  {
   "cell_type": "code",
   "execution_count": 4,
   "metadata": {
    "collapsed": false
   },
   "outputs": [
    {
     "name": "stdout",
     "output_type": "stream",
     "text": [
      "4\n"
     ]
    }
   ],
   "source": [
    "result=square(2)"
   ]
  },
  {
   "cell_type": "code",
   "execution_count": 5,
   "metadata": {
    "collapsed": false
   },
   "outputs": [
    {
     "name": "stdout",
     "output_type": "stream",
     "text": [
      "None\n"
     ]
    }
   ],
   "source": [
    "print result"
   ]
  },
  {
   "cell_type": "code",
   "execution_count": 6,
   "metadata": {
    "collapsed": false
   },
   "outputs": [],
   "source": [
    "result=square_return(2)"
   ]
  },
  {
   "cell_type": "code",
   "execution_count": 7,
   "metadata": {
    "collapsed": false
   },
   "outputs": [
    {
     "name": "stdout",
     "output_type": "stream",
     "text": [
      "4\n"
     ]
    }
   ],
   "source": [
    "print result"
   ]
  },
  {
   "cell_type": "markdown",
   "metadata": {},
   "source": [
    "複習：Java函數寫法(輸入x，回傳x平方)"
   ]
  },
  {
   "cell_type": "code",
   "execution_count": 8,
   "metadata": {
    "collapsed": false
   },
   "outputs": [
    {
     "name": "stdout",
     "output_type": "stream",
     "text": [
      "Overwriting testSquare.java\n"
     ]
    }
   ],
   "source": [
    "%%file testSquare.java\n",
    "public class testSquare{\n",
    "    public static void main(String args[]){\n",
    "        int y=square(2);\n",
    "        System.out.println(y);\n",
    "    }\n",
    "    \n",
    "    static int square(int x){\n",
    "        return x*x;\n",
    "    }\n",
    "}"
   ]
  },
  {
   "cell_type": "code",
   "execution_count": 9,
   "metadata": {
    "collapsed": false
   },
   "outputs": [
    {
     "name": "stdout",
     "output_type": "stream",
     "text": [
      "4\r\n"
     ]
    }
   ],
   "source": [
    "!javac testSquare.java\n",
    "!java testSquare"
   ]
  },
  {
   "cell_type": "markdown",
   "metadata": {},
   "source": [
    "練習：寫一個函數。目的為：\n",
    "\n",
    "輸入：兩個變數，輸出：兩個變數的相加"
   ]
  },
  {
   "cell_type": "code",
   "execution_count": 10,
   "metadata": {
    "collapsed": false
   },
   "outputs": [
    {
     "name": "stdout",
     "output_type": "stream",
     "text": [
      "7\n"
     ]
    }
   ],
   "source": [
    "def add(x,y):\n",
    "    return x+y\n",
    "print add(3,4)"
   ]
  },
  {
   "cell_type": "markdown",
   "metadata": {},
   "source": [
    "## 2. 匿名函數"
   ]
  },
  {
   "cell_type": "markdown",
   "metadata": {},
   "source": [
    "#### 2.1. 一般函數寫法"
   ]
  },
  {
   "cell_type": "code",
   "execution_count": 11,
   "metadata": {
    "collapsed": false
   },
   "outputs": [
    {
     "name": "stdout",
     "output_type": "stream",
     "text": [
      "3\n"
     ]
    }
   ],
   "source": [
    "def f(x,y):\n",
    "    return x+y\n",
    "print f(1,2)"
   ]
  },
  {
   "cell_type": "markdown",
   "metadata": {},
   "source": [
    "#### 2.2. 使用匿名函數，並將匿名函數給予名稱f。此方法得到的函數等同於上述使用一般函數寫法的結果。"
   ]
  },
  {
   "cell_type": "code",
   "execution_count": 12,
   "metadata": {
    "collapsed": false
   },
   "outputs": [
    {
     "name": "stdout",
     "output_type": "stream",
     "text": [
      "3\n"
     ]
    }
   ],
   "source": [
    "f=lambda x,y:x+y\n",
    "print f(1,2)"
   ]
  },
  {
   "cell_type": "markdown",
   "metadata": {},
   "source": [
    "#### 2.3. 將匿名函數直接拿來使用，不給名稱，用完就丟。"
   ]
  },
  {
   "cell_type": "code",
   "execution_count": 13,
   "metadata": {
    "collapsed": false
   },
   "outputs": [
    {
     "name": "stdout",
     "output_type": "stream",
     "text": [
      "3\n"
     ]
    }
   ],
   "source": [
    "print (lambda x,y:x+y)(1,2)"
   ]
  },
  {
   "cell_type": "markdown",
   "metadata": {},
   "source": [
    "## 3. 使用內建函數type()查看變數的型別"
   ]
  },
  {
   "cell_type": "markdown",
   "metadata": {},
   "source": [
    "整數："
   ]
  },
  {
   "cell_type": "code",
   "execution_count": 14,
   "metadata": {
    "collapsed": true
   },
   "outputs": [],
   "source": [
    "a=1"
   ]
  },
  {
   "cell_type": "code",
   "execution_count": 15,
   "metadata": {
    "collapsed": false
   },
   "outputs": [
    {
     "data": {
      "text/plain": [
       "int"
      ]
     },
     "execution_count": 15,
     "metadata": {},
     "output_type": "execute_result"
    }
   ],
   "source": [
    "type(a)"
   ]
  },
  {
   "cell_type": "markdown",
   "metadata": {},
   "source": [
    "實數："
   ]
  },
  {
   "cell_type": "code",
   "execution_count": 16,
   "metadata": {
    "collapsed": true
   },
   "outputs": [],
   "source": [
    "b=1."
   ]
  },
  {
   "cell_type": "code",
   "execution_count": 17,
   "metadata": {
    "collapsed": false
   },
   "outputs": [
    {
     "data": {
      "text/plain": [
       "float"
      ]
     },
     "execution_count": 17,
     "metadata": {},
     "output_type": "execute_result"
    }
   ],
   "source": [
    "type(b)"
   ]
  },
  {
   "cell_type": "markdown",
   "metadata": {},
   "source": [
    "字串："
   ]
  },
  {
   "cell_type": "code",
   "execution_count": 18,
   "metadata": {
    "collapsed": true
   },
   "outputs": [],
   "source": [
    "c=\"123\""
   ]
  },
  {
   "cell_type": "code",
   "execution_count": 19,
   "metadata": {
    "collapsed": false
   },
   "outputs": [
    {
     "data": {
      "text/plain": [
       "str"
      ]
     },
     "execution_count": 19,
     "metadata": {},
     "output_type": "execute_result"
    }
   ],
   "source": [
    "type(c)"
   ]
  },
  {
   "cell_type": "markdown",
   "metadata": {},
   "source": [
    "清單："
   ]
  },
  {
   "cell_type": "code",
   "execution_count": 20,
   "metadata": {
    "collapsed": true
   },
   "outputs": [],
   "source": [
    "mylist=[a,b,c]"
   ]
  },
  {
   "cell_type": "code",
   "execution_count": 21,
   "metadata": {
    "collapsed": false
   },
   "outputs": [
    {
     "data": {
      "text/plain": [
       "[1, 1.0, '123']"
      ]
     },
     "execution_count": 21,
     "metadata": {},
     "output_type": "execute_result"
    }
   ],
   "source": [
    "mylist"
   ]
  },
  {
   "cell_type": "code",
   "execution_count": 22,
   "metadata": {
    "collapsed": false
   },
   "outputs": [
    {
     "data": {
      "text/plain": [
       "list"
      ]
     },
     "execution_count": 22,
     "metadata": {},
     "output_type": "execute_result"
    }
   ],
   "source": [
    "type(mylist)"
   ]
  },
  {
   "cell_type": "code",
   "execution_count": 23,
   "metadata": {
    "collapsed": false
   },
   "outputs": [
    {
     "data": {
      "text/plain": [
       "'123'"
      ]
     },
     "execution_count": 23,
     "metadata": {},
     "output_type": "execute_result"
    }
   ],
   "source": [
    "mylist[2]"
   ]
  },
  {
   "cell_type": "markdown",
   "metadata": {},
   "source": [
    "## 4. 清單和迴圈"
   ]
  },
  {
   "cell_type": "markdown",
   "metadata": {},
   "source": [
    "#### 4.1. 清單內有清單。以下範例為只有兩層的清單結構，因此只要兩個迴圈即可將清單內最裡面的元素提取出來。"
   ]
  },
  {
   "cell_type": "code",
   "execution_count": 24,
   "metadata": {
    "collapsed": true
   },
   "outputs": [],
   "source": [
    "mylist=[[1,2,3],[4,5,6],[7,8,9]]"
   ]
  },
  {
   "cell_type": "code",
   "execution_count": 25,
   "metadata": {
    "collapsed": false
   },
   "outputs": [
    {
     "name": "stdout",
     "output_type": "stream",
     "text": [
      "1\n",
      "2\n",
      "3\n",
      "4\n",
      "5\n",
      "6\n",
      "7\n",
      "8\n",
      "9\n"
     ]
    }
   ],
   "source": [
    "for innerlist in mylist:\n",
    "    for elem in innerlist:\n",
    "        print elem"
   ]
  },
  {
   "cell_type": "markdown",
   "metadata": {},
   "source": [
    "#### 4.2.  將上述mylist內部結構之所有元素放到另一個清單list內。(用Python的特殊寫法一行搞定)"
   ]
  },
  {
   "cell_type": "code",
   "execution_count": 26,
   "metadata": {
    "collapsed": false
   },
   "outputs": [
    {
     "name": "stdout",
     "output_type": "stream",
     "text": [
      "[1, 2, 3, 4, 5, 6, 7, 8, 9]\n"
     ]
    }
   ],
   "source": [
    "list=[elem for innerlist in mylist for elem in innerlist ]\n",
    "print list"
   ]
  },
  {
   "cell_type": "markdown",
   "metadata": {},
   "source": [
    "#### 4.3 以下兩個範例得到相同結果。第一個範例為使用Python的特殊寫法，第二個範例是使用Python的一般寫法"
   ]
  },
  {
   "cell_type": "code",
   "execution_count": 27,
   "metadata": {
    "collapsed": true
   },
   "outputs": [],
   "source": [
    "simplelist=[1,2,3,4,5]"
   ]
  },
  {
   "cell_type": "code",
   "execution_count": 28,
   "metadata": {
    "collapsed": false
   },
   "outputs": [
    {
     "name": "stdout",
     "output_type": "stream",
     "text": [
      "[1, 2, 3, 4, 5]\n"
     ]
    }
   ],
   "source": [
    "list=[elem for elem in simplelist]\n",
    "print list"
   ]
  },
  {
   "cell_type": "code",
   "execution_count": 29,
   "metadata": {
    "collapsed": false
   },
   "outputs": [
    {
     "name": "stdout",
     "output_type": "stream",
     "text": [
      "[1, 2, 3, 4, 5]\n"
     ]
    }
   ],
   "source": [
    "list=[]\n",
    "for elem in simplelist:\n",
    "    list.append(elem)\n",
    "print list"
   ]
  },
  {
   "cell_type": "markdown",
   "metadata": {},
   "source": [
    "the above two ways of writing yield the same result!"
   ]
  },
  {
   "cell_type": "markdown",
   "metadata": {},
   "source": [
    "練習：提取simplelist內的偶數元素並放至於一個名為list的清單"
   ]
  },
  {
   "cell_type": "code",
   "execution_count": 30,
   "metadata": {
    "collapsed": false
   },
   "outputs": [
    {
     "name": "stdout",
     "output_type": "stream",
     "text": [
      "[2, 4]\n"
     ]
    }
   ],
   "source": [
    "list=[elem for elem in simplelist if elem%2==0]\n",
    "print list"
   ]
  },
  {
   "cell_type": "markdown",
   "metadata": {},
   "source": [
    "範例：Java也有此for each 的迴圈寫法，範例如下："
   ]
  },
  {
   "cell_type": "code",
   "execution_count": 31,
   "metadata": {
    "collapsed": false
   },
   "outputs": [
    {
     "name": "stdout",
     "output_type": "stream",
     "text": [
      "Overwriting testEnhancedForLoop.java\n"
     ]
    }
   ],
   "source": [
    "%%file testEnhancedForLoop.java\n",
    "public class testEnhancedForLoop{\n",
    "    public static void main(String args[]){\n",
    "        int array[]={1,2,3,4,5};\n",
    "        for(int A:array){\n",
    "            System.out.println(A);\n",
    "        }\n",
    "        \n",
    "    }\n",
    "}"
   ]
  },
  {
   "cell_type": "code",
   "execution_count": 32,
   "metadata": {
    "collapsed": false
   },
   "outputs": [
    {
     "name": "stdout",
     "output_type": "stream",
     "text": [
      "1\r\n",
      "2\r\n",
      "3\r\n",
      "4\r\n",
      "5\r\n"
     ]
    }
   ],
   "source": [
    "!javac testEnhancedForLoop.java\n",
    "!java testEnhancedForLoop"
   ]
  },
  {
   "cell_type": "markdown",
   "metadata": {},
   "source": [
    "## 5. 再談清單：清單內可放置各種不同型別的變數"
   ]
  },
  {
   "cell_type": "code",
   "execution_count": 33,
   "metadata": {
    "collapsed": true
   },
   "outputs": [],
   "source": [
    "import numpy as np"
   ]
  },
  {
   "cell_type": "code",
   "execution_count": 34,
   "metadata": {
    "collapsed": false
   },
   "outputs": [],
   "source": [
    "A=[\"a\", \"b\",1,2,3,np.pi]"
   ]
  },
  {
   "cell_type": "code",
   "execution_count": 35,
   "metadata": {
    "collapsed": false
   },
   "outputs": [
    {
     "name": "stdout",
     "output_type": "stream",
     "text": [
      "a 's type is  <type 'str'>\n",
      "b 's type is  <type 'str'>\n",
      "1 's type is  <type 'int'>\n",
      "2 's type is  <type 'int'>\n",
      "3 's type is  <type 'int'>\n",
      "3.14159265359 's type is  <type 'float'>\n"
     ]
    }
   ],
   "source": [
    "for a in A:\n",
    "    #print a\n",
    "    #print type(aa for a in A)      #????什麼邏輯????\n",
    "    print a,\"'s type is \",type(a)"
   ]
  },
  {
   "cell_type": "markdown",
   "metadata": {},
   "source": [
    "## 6. numpy (numerical Python套件，見：https://docs.scipy.org/doc/numpy/reference/index.html)"
   ]
  },
  {
   "cell_type": "code",
   "execution_count": 36,
   "metadata": {
    "collapsed": true
   },
   "outputs": [],
   "source": [
    "import numpy as np"
   ]
  },
  {
   "cell_type": "markdown",
   "metadata": {},
   "source": [
    "6.1.範例：常數$\\pi$"
   ]
  },
  {
   "cell_type": "code",
   "execution_count": 37,
   "metadata": {
    "collapsed": false
   },
   "outputs": [
    {
     "data": {
      "text/plain": [
       "3.141592653589793"
      ]
     },
     "execution_count": 37,
     "metadata": {},
     "output_type": "execute_result"
    }
   ],
   "source": [
    "np.pi"
   ]
  },
  {
   "cell_type": "markdown",
   "metadata": {},
   "source": [
    "6.2.範例：用np.arange(n)建立一陣列內容為[0 1 2 .....n-1]"
   ]
  },
  {
   "cell_type": "code",
   "execution_count": 38,
   "metadata": {
    "collapsed": false
   },
   "outputs": [
    {
     "name": "stdout",
     "output_type": "stream",
     "text": [
      "[ 0  1  2  3  4  5  6  7  8  9 10 11 12 13 14 15 16 17 18 19 20 21 22 23 24\n",
      " 25 26 27 28 29 30 31 32 33 34 35 36 37 38 39 40 41 42 43 44 45 46 47 48 49\n",
      " 50 51 52 53 54 55 56 57 58 59 60 61 62 63 64 65 66 67 68 69 70 71 72 73 74\n",
      " 75 76 77 78 79 80 81 82 83 84 85 86 87 88 89 90 91 92 93 94 95 96 97 98 99]\n"
     ]
    }
   ],
   "source": [
    "print np.arange(100)"
   ]
  },
  {
   "cell_type": "markdown",
   "metadata": {},
   "source": [
    "6.3.範例：建立一個一維線性空間。起始為0，終點為$\\pi$，長度為100"
   ]
  },
  {
   "cell_type": "code",
   "execution_count": 39,
   "metadata": {
    "collapsed": false
   },
   "outputs": [],
   "source": [
    "x=np.linspace(0,2.*np.pi,100)"
   ]
  },
  {
   "cell_type": "code",
   "execution_count": 40,
   "metadata": {
    "collapsed": false
   },
   "outputs": [
    {
     "data": {
      "text/plain": [
       "array([ 0.        ,  0.06346652,  0.12693304,  0.19039955,  0.25386607,\n",
       "        0.31733259,  0.38079911,  0.44426563,  0.50773215,  0.57119866,\n",
       "        0.63466518,  0.6981317 ,  0.76159822,  0.82506474,  0.88853126,\n",
       "        0.95199777,  1.01546429,  1.07893081,  1.14239733,  1.20586385,\n",
       "        1.26933037,  1.33279688,  1.3962634 ,  1.45972992,  1.52319644,\n",
       "        1.58666296,  1.65012947,  1.71359599,  1.77706251,  1.84052903,\n",
       "        1.90399555,  1.96746207,  2.03092858,  2.0943951 ,  2.15786162,\n",
       "        2.22132814,  2.28479466,  2.34826118,  2.41172769,  2.47519421,\n",
       "        2.53866073,  2.60212725,  2.66559377,  2.72906028,  2.7925268 ,\n",
       "        2.85599332,  2.91945984,  2.98292636,  3.04639288,  3.10985939,\n",
       "        3.17332591,  3.23679243,  3.30025895,  3.36372547,  3.42719199,\n",
       "        3.4906585 ,  3.55412502,  3.61759154,  3.68105806,  3.74452458,\n",
       "        3.8079911 ,  3.87145761,  3.93492413,  3.99839065,  4.06185717,\n",
       "        4.12532369,  4.1887902 ,  4.25225672,  4.31572324,  4.37918976,\n",
       "        4.44265628,  4.5061228 ,  4.56958931,  4.63305583,  4.69652235,\n",
       "        4.75998887,  4.82345539,  4.88692191,  4.95038842,  5.01385494,\n",
       "        5.07732146,  5.14078798,  5.2042545 ,  5.26772102,  5.33118753,\n",
       "        5.39465405,  5.45812057,  5.52158709,  5.58505361,  5.64852012,\n",
       "        5.71198664,  5.77545316,  5.83891968,  5.9023862 ,  5.96585272,\n",
       "        6.02931923,  6.09278575,  6.15625227,  6.21971879,  6.28318531])"
      ]
     },
     "execution_count": 40,
     "metadata": {},
     "output_type": "execute_result"
    }
   ],
   "source": [
    "x"
   ]
  },
  {
   "cell_type": "markdown",
   "metadata": {},
   "source": [
    "6.4. 範例：建立 sin(x), x值為上述剛建立之從零到$\\pi$的均勻離散線性空間"
   ]
  },
  {
   "cell_type": "code",
   "execution_count": 41,
   "metadata": {
    "collapsed": false
   },
   "outputs": [],
   "source": [
    "y=np.sin(x)"
   ]
  },
  {
   "cell_type": "markdown",
   "metadata": {},
   "source": [
    "#### 6.5. 範例：將上述y=sin(x)結果使用matplotlib.pyplot()繪出 (matplotlib.pyplot()的使用方式可參考：http://matplotlib.org/api/pyplot_api.html)"
   ]
  },
  {
   "cell_type": "code",
   "execution_count": 42,
   "metadata": {
    "collapsed": true
   },
   "outputs": [],
   "source": [
    "import matplotlib.pyplot as plt   #匯入繪圖套件\n",
    "%matplotlib inline"
   ]
  },
  {
   "cell_type": "code",
   "execution_count": 43,
   "metadata": {
    "collapsed": false
   },
   "outputs": [
    {
     "data": {
      "text/plain": [
       "<matplotlib.text.Text at 0x105608f10>"
      ]
     },
     "execution_count": 43,
     "metadata": {},
     "output_type": "execute_result"
    },
    {
     "data": {
      "image/png": "[encoded data removed]",
      "text/plain": [
       "<matplotlib.figure.Figure at 0x10553bb50>"
      ]
     },
     "metadata": {},
     "output_type": "display_data"
    }
   ],
   "source": [
    "plt.xlim((0,2.*np.pi))\n",
    "plt.ylim((-2,2))\n",
    "plt.axhline(y=0)\n",
    "plt.axvline(x=np.pi)\n",
    "plt.plot(x,y,'r^',ls=\"solid\",ms=10)\n",
    "plt.xlabel(\"$x$\")\n",
    "plt.ylabel(r\"$sin(x)$\")"
   ]
  },
  {
   "cell_type": "markdown",
   "metadata": {},
   "source": [
    "小複習：我們先前將套件更名，目的是方便記憶："
   ]
  },
  {
   "cell_type": "markdown",
   "metadata": {},
   "source": [
    "* numpy -> np\n",
    "\n",
    "* matplotlib.pyplot ->plt"
   ]
  },
  {
   "cell_type": "markdown",
   "metadata": {},
   "source": [
    "#### 6.7. 疑問：numpy array和list的差異為何？"
   ]
  },
  {
   "cell_type": "code",
   "execution_count": 44,
   "metadata": {
    "collapsed": false
   },
   "outputs": [
    {
     "name": "stdout",
     "output_type": "stream",
     "text": [
      "<type 'list'>\n",
      "[1, 2, 3]\n"
     ]
    }
   ],
   "source": [
    "a=[1,2,3]\n",
    "print type(a)\n",
    "print a"
   ]
  },
  {
   "cell_type": "code",
   "execution_count": 45,
   "metadata": {
    "collapsed": false
   },
   "outputs": [
    {
     "name": "stdout",
     "output_type": "stream",
     "text": [
      "[1 2 3]\n",
      "<type 'numpy.ndarray'>\n"
     ]
    }
   ],
   "source": [
    "b=[1,2,3]\n",
    "b=np.asarray(b)\n",
    "print b\n",
    "print type(b)"
   ]
  },
  {
   "cell_type": "code",
   "execution_count": 46,
   "metadata": {
    "collapsed": false
   },
   "outputs": [
    {
     "name": "stdout",
     "output_type": "stream",
     "text": [
      "[1, 2, 3]\n"
     ]
    }
   ],
   "source": [
    "print a"
   ]
  },
  {
   "cell_type": "code",
   "execution_count": 47,
   "metadata": {
    "collapsed": false
   },
   "outputs": [
    {
     "name": "stdout",
     "output_type": "stream",
     "text": [
      "[1 2 3]\n"
     ]
    }
   ],
   "source": [
    "print b"
   ]
  },
  {
   "cell_type": "markdown",
   "metadata": {},
   "source": [
    "#### numpy array可以直接進行所有元素平方"
   ]
  },
  {
   "cell_type": "code",
   "execution_count": 48,
   "metadata": {
    "collapsed": false
   },
   "outputs": [
    {
     "data": {
      "text/plain": [
       "array([1, 4, 9])"
      ]
     },
     "execution_count": 48,
     "metadata": {},
     "output_type": "execute_result"
    }
   ],
   "source": [
    "b**2"
   ]
  },
  {
   "cell_type": "markdown",
   "metadata": {},
   "source": [
    "#### 清單要進行所有元素平方的話有以下幾種方法："
   ]
  },
  {
   "cell_type": "markdown",
   "metadata": {},
   "source": [
    "方法一："
   ]
  },
  {
   "cell_type": "code",
   "execution_count": 49,
   "metadata": {
    "collapsed": false
   },
   "outputs": [],
   "source": [
    "a=[elem**2 for elem in a]"
   ]
  },
  {
   "cell_type": "code",
   "execution_count": 50,
   "metadata": {
    "collapsed": false
   },
   "outputs": [
    {
     "name": "stdout",
     "output_type": "stream",
     "text": [
      "[1, 4, 9]\n"
     ]
    }
   ],
   "source": [
    "print a"
   ]
  },
  {
   "cell_type": "markdown",
   "metadata": {},
   "source": [
    "方法二："
   ]
  },
  {
   "cell_type": "code",
   "execution_count": 51,
   "metadata": {
    "collapsed": false
   },
   "outputs": [
    {
     "data": {
      "text/plain": [
       "[1, 16, 81]"
      ]
     },
     "execution_count": 51,
     "metadata": {},
     "output_type": "execute_result"
    }
   ],
   "source": [
    "map(lambda x:x**2,a)"
   ]
  },
  {
   "cell_type": "markdown",
   "metadata": {},
   "source": [
    "#### 練習：畫sin(x), x=0,1,2,3,4,5"
   ]
  },
  {
   "cell_type": "code",
   "execution_count": 52,
   "metadata": {
    "collapsed": false
   },
   "outputs": [],
   "source": [
    "list=range(6)"
   ]
  },
  {
   "cell_type": "code",
   "execution_count": 53,
   "metadata": {
    "collapsed": false
   },
   "outputs": [
    {
     "name": "stdout",
     "output_type": "stream",
     "text": [
      "[0, 1, 2, 3, 4, 5]\n",
      "<type 'list'>\n"
     ]
    }
   ],
   "source": [
    "print list\n",
    "print type(list)"
   ]
  },
  {
   "cell_type": "code",
   "execution_count": 54,
   "metadata": {
    "collapsed": false
   },
   "outputs": [],
   "source": [
    "y=map(lambda x:np.sin(x),list)"
   ]
  },
  {
   "cell_type": "code",
   "execution_count": 55,
   "metadata": {
    "collapsed": false
   },
   "outputs": [
    {
     "data": {
      "text/plain": [
       "[<matplotlib.lines.Line2D at 0x1058f1450>]"
      ]
     },
     "execution_count": 55,
     "metadata": {},
     "output_type": "execute_result"
    },
    {
     "data": {
      "image/png": "[encoded data removed]",
      "text/plain": [
       "<matplotlib.figure.Figure at 0x10553b1d0>"
      ]
     },
     "metadata": {},
     "output_type": "display_data"
    }
   ],
   "source": [
    "plt.plot(list,np.sin(list))"
   ]
  },
  {
   "cell_type": "markdown",
   "metadata": {},
   "source": [
    "## 7. 建立高斯分佈的隨機樣本，並畫直方圖觀察其是否接近高斯分佈。"
   ]
  },
  {
   "cell_type": "markdown",
   "metadata": {},
   "source": [
    "https://docs.scipy.org/doc/numpy/reference/generated/numpy.random.normal.html#numpy.random.normal\n",
    "    \n",
    "    "
   ]
  },
  {
   "cell_type": "markdown",
   "metadata": {},
   "source": [
    "http://matplotlib.org/api/pyplot_api.html"
   ]
  },
  {
   "cell_type": "code",
   "execution_count": 56,
   "metadata": {
    "collapsed": true
   },
   "outputs": [],
   "source": [
    "s=np.random.normal(0,1,100000)"
   ]
  },
  {
   "cell_type": "code",
   "execution_count": 57,
   "metadata": {
    "collapsed": false
   },
   "outputs": [
    {
     "data": {
      "text/plain": [
       "[<matplotlib.lines.Line2D at 0x105a43a90>]"
      ]
     },
     "execution_count": 57,
     "metadata": {},
     "output_type": "execute_result"
    },
    {
     "data": {
      "image/png": "[encoded data removed]",
      "text/plain": [
       "<matplotlib.figure.Figure at 0x1058b5490>"
      ]
     },
     "metadata": {},
     "output_type": "display_data"
    }
   ],
   "source": [
    "plt.plot(s)"
   ]
  },
  {
   "cell_type": "code",
   "execution_count": 58,
   "metadata": {
    "collapsed": true
   },
   "outputs": [],
   "source": [
    "tmp=np.array([0,1,2,3])"
   ]
  },
  {
   "cell_type": "code",
   "execution_count": 59,
   "metadata": {
    "collapsed": false
   },
   "outputs": [
    {
     "data": {
      "text/plain": [
       "array([0])"
      ]
     },
     "execution_count": 59,
     "metadata": {},
     "output_type": "execute_result"
    }
   ],
   "source": [
    "tmp[0:-3]"
   ]
  },
  {
   "cell_type": "code",
   "execution_count": 60,
   "metadata": {
    "collapsed": false
   },
   "outputs": [
    {
     "data": {
      "text/plain": [
       "<Container object of 500 artists>"
      ]
     },
     "execution_count": 60,
     "metadata": {},
     "output_type": "execute_result"
    },
    {
     "data": {
      "image/png": "[encoded data removed]",
      "text/plain": [
       "<matplotlib.figure.Figure at 0x105a07410>"
      ]
     },
     "metadata": {},
     "output_type": "display_data"
    }
   ],
   "source": [
    "hist, bins =np.histogram(s,bins=500)\n",
    "plt.bar(bins[:-1], hist, width=(bins[1]-bins[0])*1.,align='center')"
   ]
  },
  {
   "cell_type": "code",
   "execution_count": 61,
   "metadata": {
    "collapsed": false
   },
   "outputs": [
    {
     "name": "stdout",
     "output_type": "stream",
     "text": [
      "[ -4.30273116e+00  -4.28580258e+00  -4.26887400e+00  -4.25194542e+00\n",
      "  -4.23501684e+00  -4.21808825e+00  -4.20115967e+00  -4.18423109e+00\n",
      "  -4.16730251e+00  -4.15037393e+00  -4.13344534e+00  -4.11651676e+00\n",
      "  -4.09958818e+00  -4.08265960e+00  -4.06573102e+00  -4.04880243e+00\n",
      "  -4.03187385e+00  -4.01494527e+00  -3.99801669e+00  -3.98108811e+00\n",
      "  -3.96415952e+00  -3.94723094e+00  -3.93030236e+00  -3.91337378e+00\n",
      "  -3.89644520e+00  -3.87951661e+00  -3.86258803e+00  -3.84565945e+00\n",
      "  -3.82873087e+00  -3.81180228e+00  -3.79487370e+00  -3.77794512e+00\n",
      "  -3.76101654e+00  -3.74408796e+00  -3.72715937e+00  -3.71023079e+00\n",
      "  -3.69330221e+00  -3.67637363e+00  -3.65944505e+00  -3.64251646e+00\n",
      "  -3.62558788e+00  -3.60865930e+00  -3.59173072e+00  -3.57480214e+00\n",
      "  -3.55787355e+00  -3.54094497e+00  -3.52401639e+00  -3.50708781e+00\n",
      "  -3.49015923e+00  -3.47323064e+00  -3.45630206e+00  -3.43937348e+00\n",
      "  -3.42244490e+00  -3.40551632e+00  -3.38858773e+00  -3.37165915e+00\n",
      "  -3.35473057e+00  -3.33780199e+00  -3.32087340e+00  -3.30394482e+00\n",
      "  -3.28701624e+00  -3.27008766e+00  -3.25315908e+00  -3.23623049e+00\n",
      "  -3.21930191e+00  -3.20237333e+00  -3.18544475e+00  -3.16851617e+00\n",
      "  -3.15158758e+00  -3.13465900e+00  -3.11773042e+00  -3.10080184e+00\n",
      "  -3.08387326e+00  -3.06694467e+00  -3.05001609e+00  -3.03308751e+00\n",
      "  -3.01615893e+00  -2.99923035e+00  -2.98230176e+00  -2.96537318e+00\n",
      "  -2.94844460e+00  -2.93151602e+00  -2.91458744e+00  -2.89765885e+00\n",
      "  -2.88073027e+00  -2.86380169e+00  -2.84687311e+00  -2.82994453e+00\n",
      "  -2.81301594e+00  -2.79608736e+00  -2.77915878e+00  -2.76223020e+00\n",
      "  -2.74530161e+00  -2.72837303e+00  -2.71144445e+00  -2.69451587e+00\n",
      "  -2.67758729e+00  -2.66065870e+00  -2.64373012e+00  -2.62680154e+00\n",
      "  -2.60987296e+00  -2.59294438e+00  -2.57601579e+00  -2.55908721e+00\n",
      "  -2.54215863e+00  -2.52523005e+00  -2.50830147e+00  -2.49137288e+00\n",
      "  -2.47444430e+00  -2.45751572e+00  -2.44058714e+00  -2.42365856e+00\n",
      "  -2.40672997e+00  -2.38980139e+00  -2.37287281e+00  -2.35594423e+00\n",
      "  -2.33901565e+00  -2.32208706e+00  -2.30515848e+00  -2.28822990e+00\n",
      "  -2.27130132e+00  -2.25437274e+00  -2.23744415e+00  -2.22051557e+00\n",
      "  -2.20358699e+00  -2.18665841e+00  -2.16972982e+00  -2.15280124e+00\n",
      "  -2.13587266e+00  -2.11894408e+00  -2.10201550e+00  -2.08508691e+00\n",
      "  -2.06815833e+00  -2.05122975e+00  -2.03430117e+00  -2.01737259e+00\n",
      "  -2.00044400e+00  -1.98351542e+00  -1.96658684e+00  -1.94965826e+00\n",
      "  -1.93272968e+00  -1.91580109e+00  -1.89887251e+00  -1.88194393e+00\n",
      "  -1.86501535e+00  -1.84808677e+00  -1.83115818e+00  -1.81422960e+00\n",
      "  -1.79730102e+00  -1.78037244e+00  -1.76344386e+00  -1.74651527e+00\n",
      "  -1.72958669e+00  -1.71265811e+00  -1.69572953e+00  -1.67880095e+00\n",
      "  -1.66187236e+00  -1.64494378e+00  -1.62801520e+00  -1.61108662e+00\n",
      "  -1.59415803e+00  -1.57722945e+00  -1.56030087e+00  -1.54337229e+00\n",
      "  -1.52644371e+00  -1.50951512e+00  -1.49258654e+00  -1.47565796e+00\n",
      "  -1.45872938e+00  -1.44180080e+00  -1.42487221e+00  -1.40794363e+00\n",
      "  -1.39101505e+00  -1.37408647e+00  -1.35715789e+00  -1.34022930e+00\n",
      "  -1.32330072e+00  -1.30637214e+00  -1.28944356e+00  -1.27251498e+00\n",
      "  -1.25558639e+00  -1.23865781e+00  -1.22172923e+00  -1.20480065e+00\n",
      "  -1.18787207e+00  -1.17094348e+00  -1.15401490e+00  -1.13708632e+00\n",
      "  -1.12015774e+00  -1.10322916e+00  -1.08630057e+00  -1.06937199e+00\n",
      "  -1.05244341e+00  -1.03551483e+00  -1.01858624e+00  -1.00165766e+00\n",
      "  -9.84729081e-01  -9.67800499e-01  -9.50871917e-01  -9.33943335e-01\n",
      "  -9.17014753e-01  -9.00086171e-01  -8.83157588e-01  -8.66229006e-01\n",
      "  -8.49300424e-01  -8.32371842e-01  -8.15443260e-01  -7.98514678e-01\n",
      "  -7.81586096e-01  -7.64657514e-01  -7.47728932e-01  -7.30800350e-01\n",
      "  -7.13871768e-01  -6.96943186e-01  -6.80014604e-01  -6.63086022e-01\n",
      "  -6.46157440e-01  -6.29228858e-01  -6.12300276e-01  -5.95371693e-01\n",
      "  -5.78443111e-01  -5.61514529e-01  -5.44585947e-01  -5.27657365e-01\n",
      "  -5.10728783e-01  -4.93800201e-01  -4.76871619e-01  -4.59943037e-01\n",
      "  -4.43014455e-01  -4.26085873e-01  -4.09157291e-01  -3.92228709e-01\n",
      "  -3.75300127e-01  -3.58371545e-01  -3.41442963e-01  -3.24514381e-01\n",
      "  -3.07585798e-01  -2.90657216e-01  -2.73728634e-01  -2.56800052e-01\n",
      "  -2.39871470e-01  -2.22942888e-01  -2.06014306e-01  -1.89085724e-01\n",
      "  -1.72157142e-01  -1.55228560e-01  -1.38299978e-01  -1.21371396e-01\n",
      "  -1.04442814e-01  -8.75142317e-02  -7.05856497e-02  -5.36570676e-02\n",
      "  -3.67284855e-02  -1.97999035e-02  -2.87132143e-03   1.40572606e-02\n",
      "   3.09858427e-02   4.79144247e-02   6.48430068e-02   8.17715889e-02\n",
      "   9.87001709e-02   1.15628753e-01   1.32557335e-01   1.49485917e-01\n",
      "   1.66414499e-01   1.83343081e-01   2.00271663e-01   2.17200245e-01\n",
      "   2.34128827e-01   2.51057409e-01   2.67985992e-01   2.84914574e-01\n",
      "   3.01843156e-01   3.18771738e-01   3.35700320e-01   3.52628902e-01\n",
      "   3.69557484e-01   3.86486066e-01   4.03414648e-01   4.20343230e-01\n",
      "   4.37271812e-01   4.54200394e-01   4.71128976e-01   4.88057558e-01\n",
      "   5.04986140e-01   5.21914722e-01   5.38843304e-01   5.55771887e-01\n",
      "   5.72700469e-01   5.89629051e-01   6.06557633e-01   6.23486215e-01\n",
      "   6.40414797e-01   6.57343379e-01   6.74271961e-01   6.91200543e-01\n",
      "   7.08129125e-01   7.25057707e-01   7.41986289e-01   7.58914871e-01\n",
      "   7.75843453e-01   7.92772035e-01   8.09700617e-01   8.26629199e-01\n",
      "   8.43557782e-01   8.60486364e-01   8.77414946e-01   8.94343528e-01\n",
      "   9.11272110e-01   9.28200692e-01   9.45129274e-01   9.62057856e-01\n",
      "   9.78986438e-01   9.95915020e-01   1.01284360e+00   1.02977218e+00\n",
      "   1.04670077e+00   1.06362935e+00   1.08055793e+00   1.09748651e+00\n",
      "   1.11441509e+00   1.13134368e+00   1.14827226e+00   1.16520084e+00\n",
      "   1.18212942e+00   1.19905800e+00   1.21598659e+00   1.23291517e+00\n",
      "   1.24984375e+00   1.26677233e+00   1.28370092e+00   1.30062950e+00\n",
      "   1.31755808e+00   1.33448666e+00   1.35141524e+00   1.36834383e+00\n",
      "   1.38527241e+00   1.40220099e+00   1.41912957e+00   1.43605815e+00\n",
      "   1.45298674e+00   1.46991532e+00   1.48684390e+00   1.50377248e+00\n",
      "   1.52070106e+00   1.53762965e+00   1.55455823e+00   1.57148681e+00\n",
      "   1.58841539e+00   1.60534397e+00   1.62227256e+00   1.63920114e+00\n",
      "   1.65612972e+00   1.67305830e+00   1.68998688e+00   1.70691547e+00\n",
      "   1.72384405e+00   1.74077263e+00   1.75770121e+00   1.77462979e+00\n",
      "   1.79155838e+00   1.80848696e+00   1.82541554e+00   1.84234412e+00\n",
      "   1.85927271e+00   1.87620129e+00   1.89312987e+00   1.91005845e+00\n",
      "   1.92698703e+00   1.94391562e+00   1.96084420e+00   1.97777278e+00\n",
      "   1.99470136e+00   2.01162994e+00   2.02855853e+00   2.04548711e+00\n",
      "   2.06241569e+00   2.07934427e+00   2.09627285e+00   2.11320144e+00\n",
      "   2.13013002e+00   2.14705860e+00   2.16398718e+00   2.18091576e+00\n",
      "   2.19784435e+00   2.21477293e+00   2.23170151e+00   2.24863009e+00\n",
      "   2.26555867e+00   2.28248726e+00   2.29941584e+00   2.31634442e+00\n",
      "   2.33327300e+00   2.35020158e+00   2.36713017e+00   2.38405875e+00\n",
      "   2.40098733e+00   2.41791591e+00   2.43484450e+00   2.45177308e+00\n",
      "   2.46870166e+00   2.48563024e+00   2.50255882e+00   2.51948741e+00\n",
      "   2.53641599e+00   2.55334457e+00   2.57027315e+00   2.58720173e+00\n",
      "   2.60413032e+00   2.62105890e+00   2.63798748e+00   2.65491606e+00\n",
      "   2.67184464e+00   2.68877323e+00   2.70570181e+00   2.72263039e+00\n",
      "   2.73955897e+00   2.75648755e+00   2.77341614e+00   2.79034472e+00\n",
      "   2.80727330e+00   2.82420188e+00   2.84113046e+00   2.85805905e+00\n",
      "   2.87498763e+00   2.89191621e+00   2.90884479e+00   2.92577337e+00\n",
      "   2.94270196e+00   2.95963054e+00   2.97655912e+00   2.99348770e+00\n",
      "   3.01041629e+00   3.02734487e+00   3.04427345e+00   3.06120203e+00\n",
      "   3.07813061e+00   3.09505920e+00   3.11198778e+00   3.12891636e+00\n",
      "   3.14584494e+00   3.16277352e+00   3.17970211e+00   3.19663069e+00\n",
      "   3.21355927e+00   3.23048785e+00   3.24741643e+00   3.26434502e+00\n",
      "   3.28127360e+00   3.29820218e+00   3.31513076e+00   3.33205934e+00\n",
      "   3.34898793e+00   3.36591651e+00   3.38284509e+00   3.39977367e+00\n",
      "   3.41670225e+00   3.43363084e+00   3.45055942e+00   3.46748800e+00\n",
      "   3.48441658e+00   3.50134516e+00   3.51827375e+00   3.53520233e+00\n",
      "   3.55213091e+00   3.56905949e+00   3.58598808e+00   3.60291666e+00\n",
      "   3.61984524e+00   3.63677382e+00   3.65370240e+00   3.67063099e+00\n",
      "   3.68755957e+00   3.70448815e+00   3.72141673e+00   3.73834531e+00\n",
      "   3.75527390e+00   3.77220248e+00   3.78913106e+00   3.80605964e+00\n",
      "   3.82298822e+00   3.83991681e+00   3.85684539e+00   3.87377397e+00\n",
      "   3.89070255e+00   3.90763113e+00   3.92455972e+00   3.94148830e+00\n",
      "   3.95841688e+00   3.97534546e+00   3.99227404e+00   4.00920263e+00\n",
      "   4.02613121e+00   4.04305979e+00   4.05998837e+00   4.07691695e+00\n",
      "   4.09384554e+00   4.11077412e+00   4.12770270e+00   4.14463128e+00\n",
      "   4.16155987e+00]\n",
      "501\n"
     ]
    }
   ],
   "source": [
    "print bins\n",
    "print len(bins)"
   ]
  },
  {
   "cell_type": "code",
   "execution_count": 62,
   "metadata": {
    "collapsed": false,
    "scrolled": true
   },
   "outputs": [
    {
     "data": {
      "text/plain": [
       "array([ -4.30273116e+00,  -4.28580258e+00,  -4.26887400e+00,\n",
       "        -4.25194542e+00,  -4.23501684e+00,  -4.21808825e+00,\n",
       "        -4.20115967e+00,  -4.18423109e+00,  -4.16730251e+00,\n",
       "        -4.15037393e+00,  -4.13344534e+00,  -4.11651676e+00,\n",
       "        -4.09958818e+00,  -4.08265960e+00,  -4.06573102e+00,\n",
       "        -4.04880243e+00,  -4.03187385e+00,  -4.01494527e+00,\n",
       "        -3.99801669e+00,  -3.98108811e+00,  -3.96415952e+00,\n",
       "        -3.94723094e+00,  -3.93030236e+00,  -3.91337378e+00,\n",
       "        -3.89644520e+00,  -3.87951661e+00,  -3.86258803e+00,\n",
       "        -3.84565945e+00,  -3.82873087e+00,  -3.81180228e+00,\n",
       "        -3.79487370e+00,  -3.77794512e+00,  -3.76101654e+00,\n",
       "        -3.74408796e+00,  -3.72715937e+00,  -3.71023079e+00,\n",
       "        -3.69330221e+00,  -3.67637363e+00,  -3.65944505e+00,\n",
       "        -3.64251646e+00,  -3.62558788e+00,  -3.60865930e+00,\n",
       "        -3.59173072e+00,  -3.57480214e+00,  -3.55787355e+00,\n",
       "        -3.54094497e+00,  -3.52401639e+00,  -3.50708781e+00,\n",
       "        -3.49015923e+00,  -3.47323064e+00,  -3.45630206e+00,\n",
       "        -3.43937348e+00,  -3.42244490e+00,  -3.40551632e+00,\n",
       "        -3.38858773e+00,  -3.37165915e+00,  -3.35473057e+00,\n",
       "        -3.33780199e+00,  -3.32087340e+00,  -3.30394482e+00,\n",
       "        -3.28701624e+00,  -3.27008766e+00,  -3.25315908e+00,\n",
       "        -3.23623049e+00,  -3.21930191e+00,  -3.20237333e+00,\n",
       "        -3.18544475e+00,  -3.16851617e+00,  -3.15158758e+00,\n",
       "        -3.13465900e+00,  -3.11773042e+00,  -3.10080184e+00,\n",
       "        -3.08387326e+00,  -3.06694467e+00,  -3.05001609e+00,\n",
       "        -3.03308751e+00,  -3.01615893e+00,  -2.99923035e+00,\n",
       "        -2.98230176e+00,  -2.96537318e+00,  -2.94844460e+00,\n",
       "        -2.93151602e+00,  -2.91458744e+00,  -2.89765885e+00,\n",
       "        -2.88073027e+00,  -2.86380169e+00,  -2.84687311e+00,\n",
       "        -2.82994453e+00,  -2.81301594e+00,  -2.79608736e+00,\n",
       "        -2.77915878e+00,  -2.76223020e+00,  -2.74530161e+00,\n",
       "        -2.72837303e+00,  -2.71144445e+00,  -2.69451587e+00,\n",
       "        -2.67758729e+00,  -2.66065870e+00,  -2.64373012e+00,\n",
       "        -2.62680154e+00,  -2.60987296e+00,  -2.59294438e+00,\n",
       "        -2.57601579e+00,  -2.55908721e+00,  -2.54215863e+00,\n",
       "        -2.52523005e+00,  -2.50830147e+00,  -2.49137288e+00,\n",
       "        -2.47444430e+00,  -2.45751572e+00,  -2.44058714e+00,\n",
       "        -2.42365856e+00,  -2.40672997e+00,  -2.38980139e+00,\n",
       "        -2.37287281e+00,  -2.35594423e+00,  -2.33901565e+00,\n",
       "        -2.32208706e+00,  -2.30515848e+00,  -2.28822990e+00,\n",
       "        -2.27130132e+00,  -2.25437274e+00,  -2.23744415e+00,\n",
       "        -2.22051557e+00,  -2.20358699e+00,  -2.18665841e+00,\n",
       "        -2.16972982e+00,  -2.15280124e+00,  -2.13587266e+00,\n",
       "        -2.11894408e+00,  -2.10201550e+00,  -2.08508691e+00,\n",
       "        -2.06815833e+00,  -2.05122975e+00,  -2.03430117e+00,\n",
       "        -2.01737259e+00,  -2.00044400e+00,  -1.98351542e+00,\n",
       "        -1.96658684e+00,  -1.94965826e+00,  -1.93272968e+00,\n",
       "        -1.91580109e+00,  -1.89887251e+00,  -1.88194393e+00,\n",
       "        -1.86501535e+00,  -1.84808677e+00,  -1.83115818e+00,\n",
       "        -1.81422960e+00,  -1.79730102e+00,  -1.78037244e+00,\n",
       "        -1.76344386e+00,  -1.74651527e+00,  -1.72958669e+00,\n",
       "        -1.71265811e+00,  -1.69572953e+00,  -1.67880095e+00,\n",
       "        -1.66187236e+00,  -1.64494378e+00,  -1.62801520e+00,\n",
       "        -1.61108662e+00,  -1.59415803e+00,  -1.57722945e+00,\n",
       "        -1.56030087e+00,  -1.54337229e+00,  -1.52644371e+00,\n",
       "        -1.50951512e+00,  -1.49258654e+00,  -1.47565796e+00,\n",
       "        -1.45872938e+00,  -1.44180080e+00,  -1.42487221e+00,\n",
       "        -1.40794363e+00,  -1.39101505e+00,  -1.37408647e+00,\n",
       "        -1.35715789e+00,  -1.34022930e+00,  -1.32330072e+00,\n",
       "        -1.30637214e+00,  -1.28944356e+00,  -1.27251498e+00,\n",
       "        -1.25558639e+00,  -1.23865781e+00,  -1.22172923e+00,\n",
       "        -1.20480065e+00,  -1.18787207e+00,  -1.17094348e+00,\n",
       "        -1.15401490e+00,  -1.13708632e+00,  -1.12015774e+00,\n",
       "        -1.10322916e+00,  -1.08630057e+00,  -1.06937199e+00,\n",
       "        -1.05244341e+00,  -1.03551483e+00,  -1.01858624e+00,\n",
       "        -1.00165766e+00,  -9.84729081e-01,  -9.67800499e-01,\n",
       "        -9.50871917e-01,  -9.33943335e-01,  -9.17014753e-01,\n",
       "        -9.00086171e-01,  -8.83157588e-01,  -8.66229006e-01,\n",
       "        -8.49300424e-01,  -8.32371842e-01,  -8.15443260e-01,\n",
       "        -7.98514678e-01,  -7.81586096e-01,  -7.64657514e-01,\n",
       "        -7.47728932e-01,  -7.30800350e-01,  -7.13871768e-01,\n",
       "        -6.96943186e-01,  -6.80014604e-01,  -6.63086022e-01,\n",
       "        -6.46157440e-01,  -6.29228858e-01,  -6.12300276e-01,\n",
       "        -5.95371693e-01,  -5.78443111e-01,  -5.61514529e-01,\n",
       "        -5.44585947e-01,  -5.27657365e-01,  -5.10728783e-01,\n",
       "        -4.93800201e-01,  -4.76871619e-01,  -4.59943037e-01,\n",
       "        -4.43014455e-01,  -4.26085873e-01,  -4.09157291e-01,\n",
       "        -3.92228709e-01,  -3.75300127e-01,  -3.58371545e-01,\n",
       "        -3.41442963e-01,  -3.24514381e-01,  -3.07585798e-01,\n",
       "        -2.90657216e-01,  -2.73728634e-01,  -2.56800052e-01,\n",
       "        -2.39871470e-01,  -2.22942888e-01,  -2.06014306e-01,\n",
       "        -1.89085724e-01,  -1.72157142e-01,  -1.55228560e-01,\n",
       "        -1.38299978e-01,  -1.21371396e-01,  -1.04442814e-01,\n",
       "        -8.75142317e-02,  -7.05856497e-02,  -5.36570676e-02,\n",
       "        -3.67284855e-02,  -1.97999035e-02,  -2.87132143e-03,\n",
       "         1.40572606e-02,   3.09858427e-02,   4.79144247e-02,\n",
       "         6.48430068e-02,   8.17715889e-02,   9.87001709e-02,\n",
       "         1.15628753e-01,   1.32557335e-01,   1.49485917e-01,\n",
       "         1.66414499e-01,   1.83343081e-01,   2.00271663e-01,\n",
       "         2.17200245e-01,   2.34128827e-01,   2.51057409e-01,\n",
       "         2.67985992e-01,   2.84914574e-01,   3.01843156e-01,\n",
       "         3.18771738e-01,   3.35700320e-01,   3.52628902e-01,\n",
       "         3.69557484e-01,   3.86486066e-01,   4.03414648e-01,\n",
       "         4.20343230e-01,   4.37271812e-01,   4.54200394e-01,\n",
       "         4.71128976e-01,   4.88057558e-01,   5.04986140e-01,\n",
       "         5.21914722e-01,   5.38843304e-01,   5.55771887e-01,\n",
       "         5.72700469e-01,   5.89629051e-01,   6.06557633e-01,\n",
       "         6.23486215e-01,   6.40414797e-01,   6.57343379e-01,\n",
       "         6.74271961e-01,   6.91200543e-01,   7.08129125e-01,\n",
       "         7.25057707e-01,   7.41986289e-01,   7.58914871e-01,\n",
       "         7.75843453e-01,   7.92772035e-01,   8.09700617e-01,\n",
       "         8.26629199e-01,   8.43557782e-01,   8.60486364e-01,\n",
       "         8.77414946e-01,   8.94343528e-01,   9.11272110e-01,\n",
       "         9.28200692e-01,   9.45129274e-01,   9.62057856e-01,\n",
       "         9.78986438e-01,   9.95915020e-01,   1.01284360e+00,\n",
       "         1.02977218e+00,   1.04670077e+00,   1.06362935e+00,\n",
       "         1.08055793e+00,   1.09748651e+00,   1.11441509e+00,\n",
       "         1.13134368e+00,   1.14827226e+00,   1.16520084e+00,\n",
       "         1.18212942e+00,   1.19905800e+00,   1.21598659e+00,\n",
       "         1.23291517e+00,   1.24984375e+00,   1.26677233e+00,\n",
       "         1.28370092e+00,   1.30062950e+00,   1.31755808e+00,\n",
       "         1.33448666e+00,   1.35141524e+00,   1.36834383e+00,\n",
       "         1.38527241e+00,   1.40220099e+00,   1.41912957e+00,\n",
       "         1.43605815e+00,   1.45298674e+00,   1.46991532e+00,\n",
       "         1.48684390e+00,   1.50377248e+00,   1.52070106e+00,\n",
       "         1.53762965e+00,   1.55455823e+00,   1.57148681e+00,\n",
       "         1.58841539e+00,   1.60534397e+00,   1.62227256e+00,\n",
       "         1.63920114e+00,   1.65612972e+00,   1.67305830e+00,\n",
       "         1.68998688e+00,   1.70691547e+00,   1.72384405e+00,\n",
       "         1.74077263e+00,   1.75770121e+00,   1.77462979e+00,\n",
       "         1.79155838e+00,   1.80848696e+00,   1.82541554e+00,\n",
       "         1.84234412e+00,   1.85927271e+00,   1.87620129e+00,\n",
       "         1.89312987e+00,   1.91005845e+00,   1.92698703e+00,\n",
       "         1.94391562e+00,   1.96084420e+00,   1.97777278e+00,\n",
       "         1.99470136e+00,   2.01162994e+00,   2.02855853e+00,\n",
       "         2.04548711e+00,   2.06241569e+00,   2.07934427e+00,\n",
       "         2.09627285e+00,   2.11320144e+00,   2.13013002e+00,\n",
       "         2.14705860e+00,   2.16398718e+00,   2.18091576e+00,\n",
       "         2.19784435e+00,   2.21477293e+00,   2.23170151e+00,\n",
       "         2.24863009e+00,   2.26555867e+00,   2.28248726e+00,\n",
       "         2.29941584e+00,   2.31634442e+00,   2.33327300e+00,\n",
       "         2.35020158e+00,   2.36713017e+00,   2.38405875e+00,\n",
       "         2.40098733e+00,   2.41791591e+00,   2.43484450e+00,\n",
       "         2.45177308e+00,   2.46870166e+00,   2.48563024e+00,\n",
       "         2.50255882e+00,   2.51948741e+00,   2.53641599e+00,\n",
       "         2.55334457e+00,   2.57027315e+00,   2.58720173e+00,\n",
       "         2.60413032e+00,   2.62105890e+00,   2.63798748e+00,\n",
       "         2.65491606e+00,   2.67184464e+00,   2.68877323e+00,\n",
       "         2.70570181e+00,   2.72263039e+00,   2.73955897e+00,\n",
       "         2.75648755e+00,   2.77341614e+00,   2.79034472e+00,\n",
       "         2.80727330e+00,   2.82420188e+00,   2.84113046e+00,\n",
       "         2.85805905e+00,   2.87498763e+00,   2.89191621e+00,\n",
       "         2.90884479e+00,   2.92577337e+00,   2.94270196e+00,\n",
       "         2.95963054e+00,   2.97655912e+00,   2.99348770e+00,\n",
       "         3.01041629e+00,   3.02734487e+00,   3.04427345e+00,\n",
       "         3.06120203e+00,   3.07813061e+00,   3.09505920e+00,\n",
       "         3.11198778e+00,   3.12891636e+00,   3.14584494e+00,\n",
       "         3.16277352e+00,   3.17970211e+00,   3.19663069e+00,\n",
       "         3.21355927e+00,   3.23048785e+00,   3.24741643e+00,\n",
       "         3.26434502e+00,   3.28127360e+00,   3.29820218e+00,\n",
       "         3.31513076e+00,   3.33205934e+00,   3.34898793e+00,\n",
       "         3.36591651e+00,   3.38284509e+00,   3.39977367e+00,\n",
       "         3.41670225e+00,   3.43363084e+00,   3.45055942e+00,\n",
       "         3.46748800e+00,   3.48441658e+00,   3.50134516e+00,\n",
       "         3.51827375e+00,   3.53520233e+00,   3.55213091e+00,\n",
       "         3.56905949e+00,   3.58598808e+00,   3.60291666e+00,\n",
       "         3.61984524e+00,   3.63677382e+00,   3.65370240e+00,\n",
       "         3.67063099e+00,   3.68755957e+00,   3.70448815e+00,\n",
       "         3.72141673e+00,   3.73834531e+00,   3.75527390e+00,\n",
       "         3.77220248e+00,   3.78913106e+00,   3.80605964e+00,\n",
       "         3.82298822e+00,   3.83991681e+00,   3.85684539e+00,\n",
       "         3.87377397e+00,   3.89070255e+00,   3.90763113e+00,\n",
       "         3.92455972e+00,   3.94148830e+00,   3.95841688e+00,\n",
       "         3.97534546e+00,   3.99227404e+00,   4.00920263e+00,\n",
       "         4.02613121e+00,   4.04305979e+00,   4.05998837e+00,\n",
       "         4.07691695e+00,   4.09384554e+00,   4.11077412e+00,\n",
       "         4.12770270e+00,   4.14463128e+00])"
      ]
     },
     "execution_count": 62,
     "metadata": {},
     "output_type": "execute_result"
    }
   ],
   "source": [
    "bins[:-1]"
   ]
  },
  {
   "cell_type": "code",
   "execution_count": 63,
   "metadata": {
    "collapsed": false,
    "scrolled": true
   },
   "outputs": [
    {
     "data": {
      "text/plain": [
       "array([  2,   0,   0,   0,   0,   1,   0,   0,   0,   1,   0,   0,   0,\n",
       "         0,   0,   0,   0,   2,   0,   0,   0,   0,   0,   1,   1,   0,\n",
       "         0,   0,   0,   1,   0,   0,   0,   0,   1,   0,   0,   1,   0,\n",
       "         0,   0,   3,   0,   0,   2,   0,   1,   0,   2,   0,   2,   0,\n",
       "         7,   1,   1,   3,   5,   1,   3,   2,   3,   4,   4,   4,   7,\n",
       "         3,   4,   4,   3,   1,   7,   5,   6,   6,  11,   3,   5,   3,\n",
       "        10,   8,  10,   3,   8,  11,  11,  12,  15,   7,  15,  10,  13,\n",
       "        19,  14,  19,  15,  24,  23,  27,  19,  23,  18,  27,  16,  21,\n",
       "        30,  29,  27,  35,  26,  33,  24,  33,  35,  48,  37,  56,  35,\n",
       "        29,  44,  51,  50,  53,  61,  48,  55,  60,  49,  74,  71,  72,\n",
       "        83,  83,  82,  79,  87,  81, 109,  92, 109,  98, 106, 113, 124,\n",
       "       111, 107, 116, 116, 142, 128, 160, 150, 138, 169, 155, 157, 178,\n",
       "       173, 210, 182, 175, 183, 219, 209, 197, 192, 197, 214, 213, 245,\n",
       "       244, 250, 258, 254, 276, 280, 284, 288, 287, 326, 286, 285, 300,\n",
       "       321, 350, 316, 356, 341, 379, 335, 408, 385, 379, 416, 408, 388,\n",
       "       423, 393, 414, 420, 415, 466, 449, 455, 441, 479, 468, 484, 488,\n",
       "       472, 502, 526, 480, 485, 529, 544, 574, 542, 537, 568, 576, 569,\n",
       "       557, 609, 598, 595, 606, 602, 591, 575, 600, 644, 593, 645, 662,\n",
       "       643, 618, 657, 678, 637, 649, 648, 663, 662, 689, 695, 629, 723,\n",
       "       681, 653, 684, 737, 715, 687, 666, 693, 701, 646, 695, 681, 636,\n",
       "       685, 742, 664, 661, 643, 618, 674, 698, 702, 617, 623, 656, 607,\n",
       "       620, 682, 637, 654, 653, 630, 606, 564, 615, 614, 609, 590, 572,\n",
       "       582, 568, 554, 545, 538, 538, 568, 522, 549, 548, 540, 525, 503,\n",
       "       522, 540, 511, 462, 471, 510, 465, 473, 435, 462, 426, 442, 447,\n",
       "       408, 409, 433, 368, 346, 352, 375, 366, 374, 369, 340, 337, 284,\n",
       "       346, 311, 288, 306, 327, 306, 288, 237, 264, 249, 266, 283, 280,\n",
       "       243, 244, 239, 231, 206, 210, 235, 212, 203, 177, 177, 181, 173,\n",
       "       176, 175, 184, 177, 141, 149, 141, 139, 136, 133, 116, 125, 115,\n",
       "       123, 122, 101, 116,  96,  93,  87,  99,  87,  87,  77,  81,  83,\n",
       "        74,  78,  68,  64,  72,  51,  58,  61,  48,  57,  55,  48,  55,\n",
       "        48,  40,  48,  43,  38,  33,  39,  26,  43,  28,  50,  36,  40,\n",
       "        31,  21,  20,  23,  23,  35,  26,  28,  21,  19,  22,  14,  17,\n",
       "         8,  18,  15,   7,  11,  11,  15,  13,  10,  13,   4,   9,   6,\n",
       "         7,   6,   4,   5,  11,   4,   8,  10,   9,   5,   5,   8,   5,\n",
       "         6,   1,   4,   3,   3,   3,   3,   5,   6,   3,   5,   2,   1,\n",
       "         2,   1,   3,   1,   1,   2,   0,   2,   4,   1,   2,   0,   1,\n",
       "         2,   0,   0,   1,   0,   0,   0,   0,   0,   0,   0,   0,   0,\n",
       "         1,   0,   0,   0,   0,   0,   0,   0,   2,   1,   0,   0,   0,\n",
       "         0,   0,   0,   0,   0,   2])"
      ]
     },
     "execution_count": 63,
     "metadata": {},
     "output_type": "execute_result"
    }
   ],
   "source": [
    "hist"
   ]
  }
 ],
 "metadata": {
  "kernelspec": {
   "display_name": "Python 2",
   "language": "python",
   "name": "python2"
  },
  "language_info": {
   "codemirror_mode": {
    "name": "ipython",
    "version": 2
   },
   "file_extension": ".py",
   "mimetype": "text/x-python",
   "name": "python",
   "nbconvert_exporter": "python",
   "pygments_lexer": "ipython2",
   "version": "2.7.12"
  }
 },
 "nbformat": 4,
 "nbformat_minor": 1
}
