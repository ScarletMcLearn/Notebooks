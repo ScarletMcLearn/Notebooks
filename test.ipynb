{
 "cells": [
  {
   "cell_type": "code",
   "execution_count": 6,
   "metadata": {
    "collapsed": true
   },
   "outputs": [],
   "source": [
    "msg=['semantic01:',\n",
    " '10146 QuorumPeerMain',\n",
    " '11107 DataNode',\n",
    " '11269 JournalNode',\n",
    " '14281 Jps',\n",
    " '11455 DFSZKFailoverController',\n",
    " '====================',\n",
    " 'semantic02:',\n",
    " '11430 Jps',\n",
    " '10015 DataNode',\n",
    " '====================',\n",
    " 'semantic03:',\n",
    " '10802 QuorumPeerMain',\n",
    " '12423 DFSZKFailoverController',\n",
    " '11897 NameNode',\n",
    " '12187 JournalNode',\n",
    " '13804 Jps',\n",
    " '====================',\n",
    " 'semantic04:',\n",
    " '9499 Jps',\n",
    " '8366 DataNode',\n",
    " '====================',\n",
    " 'semantic05:',\n",
    " '9728 DataNode',\n",
    " '9890 JournalNode',\n",
    " '8920 QuorumPeerMain',\n",
    " '11214 Jps',\n",
    " '====================',\n",
    " 'semantic06:',\n",
    " '9302 Jps',\n",
    " '8190 DataNode',\n",
    " '====================',\n",
    " 'semantic07:',\n",
    " '9408 Jps',\n",
    " '8282 DataNode',\n",
    " '====================',\n",
    " 'semantic08:',\n",
    " '8340 DataNode',\n",
    " '9578 Jps',\n",
    " '====================',\n",
    " 'semantic09:',\n",
    " '9637 Jps',\n",
    " '8524 DataNode',\n",
    " '====================',\n",
    " 'semantic10:',\n",
    " '9317 Jps',\n",
    " '8028 DataNode',\n",
    " '====================',\n",
    " 'semantic11:',\n",
    " '8661 DataNode',\n",
    " '9848 Jps',\n",
    " '====================',\n",
    " 'semantic12:',\n",
    " '10115 Jps',\n",
    " '9003 DataNode',\n",
    " '====================']"
   ]
  },
  {
   "cell_type": "code",
   "execution_count": 7,
   "metadata": {
    "collapsed": false
   },
   "outputs": [
    {
     "data": {
      "text/plain": [
       "['semantic01:',\n",
       " '10146 QuorumPeerMain',\n",
       " '11107 DataNode',\n",
       " '11269 JournalNode',\n",
       " '14281 Jps',\n",
       " '11455 DFSZKFailoverController',\n",
       " '====================',\n",
       " 'semantic02:',\n",
       " '11430 Jps',\n",
       " '10015 DataNode',\n",
       " '====================',\n",
       " 'semantic03:',\n",
       " '10802 QuorumPeerMain',\n",
       " '12423 DFSZKFailoverController',\n",
       " '11897 NameNode',\n",
       " '12187 JournalNode',\n",
       " '13804 Jps',\n",
       " '====================',\n",
       " 'semantic04:',\n",
       " '9499 Jps',\n",
       " '8366 DataNode',\n",
       " '====================',\n",
       " 'semantic05:',\n",
       " '9728 DataNode',\n",
       " '9890 JournalNode',\n",
       " '8920 QuorumPeerMain',\n",
       " '11214 Jps',\n",
       " '====================',\n",
       " 'semantic06:',\n",
       " '9302 Jps',\n",
       " '8190 DataNode',\n",
       " '====================',\n",
       " 'semantic07:',\n",
       " '9408 Jps',\n",
       " '8282 DataNode',\n",
       " '====================',\n",
       " 'semantic08:',\n",
       " '8340 DataNode',\n",
       " '9578 Jps',\n",
       " '====================',\n",
       " 'semantic09:',\n",
       " '9637 Jps',\n",
       " '8524 DataNode',\n",
       " '====================',\n",
       " 'semantic10:',\n",
       " '9317 Jps',\n",
       " '8028 DataNode',\n",
       " '====================',\n",
       " 'semantic11:',\n",
       " '8661 DataNode',\n",
       " '9848 Jps',\n",
       " '====================',\n",
       " 'semantic12:',\n",
       " '10115 Jps',\n",
       " '9003 DataNode',\n",
       " '====================']"
      ]
     },
     "execution_count": 7,
     "metadata": {},
     "output_type": "execute_result"
    }
   ],
   "source": [
    "msg"
   ]
  },
  {
   "cell_type": "code",
   "execution_count": 42,
   "metadata": {
    "collapsed": false
   },
   "outputs": [],
   "source": [
    "msg=['semantic01:',\n",
    " '10146 QuorumPeerMain',\n",
    " '11107 DataNode',\n",
    " '14965 NodeManager',\n",
    " '11269 JournalNode',\n",
    " '20182 NameNode',\n",
    " '4091 Jps',\n",
    " '11455 DFSZKFailoverController',\n",
    " '====================',\n",
    " 'semantic02:',\n",
    " '14032 ResourceManager',\n",
    " '12289 NodeManager',\n",
    " '29069 Jps',\n",
    " '10015 DataNode',\n",
    " '====================',\n",
    " 'semantic03:',\n",
    " '10802 QuorumPeerMain',\n",
    " '12423 DFSZKFailoverController',\n",
    " '11897 NameNode',\n",
    " '12187 JournalNode',\n",
    " '20527 Jps',\n",
    " '====================',\n",
    " 'semantic04:',\n",
    " '30274 Jps',\n",
    " '10156 NodeManager',\n",
    " '8366 DataNode',\n",
    " '====================',\n",
    " 'semantic05:',\n",
    " '9728 DataNode',\n",
    " '30801 Jps',\n",
    " '9890 JournalNode',\n",
    " '11894 NodeManager',\n",
    " '8920 QuorumPeerMain',\n",
    " '12313 ResourceManager',\n",
    " '====================',\n",
    " 'semantic06:',\n",
    " '9955 NodeManager',\n",
    " '8190 DataNode',\n",
    " '27231 Jps',\n",
    " '====================',\n",
    " 'semantic07:',\n",
    " '10628 NodeManager',\n",
    " '27781 Jps',\n",
    " '8282 DataNode',\n",
    " '====================',\n",
    " 'semantic08:',\n",
    " '8340 DataNode',\n",
    " '27737 Jps',\n",
    " '10799 NodeManager',\n",
    " '====================',\n",
    " 'semantic09:',\n",
    " '10856 NodeManager',\n",
    " '8524 DataNode',\n",
    " '26988 Jps',\n",
    " '====================',\n",
    " 'semantic10:',\n",
    " '26145 RunJar',\n",
    " '10532 NodeManager',\n",
    " '25401 NetworkServerControl',\n",
    " '28234 Jps',\n",
    " '8028 DataNode',\n",
    " '====================',\n",
    " 'semantic11:',\n",
    " '8661 DataNode',\n",
    " '733 Jps',\n",
    " '30766 NetworkServerControl',\n",
    " '11103 NodeManager',\n",
    " '====================',\n",
    " 'semantic12:',\n",
    " '11937 JobHistoryServer',\n",
    " '11362 NodeManager',\n",
    " '27531 Jps',\n",
    " '9003 DataNode',\n",
    " '====================']\n"
   ]
  },
  {
   "cell_type": "code",
   "execution_count": 66,
   "metadata": {
    "collapsed": true
   },
   "outputs": [],
   "source": [
    "def serviceCheck(serviceName,file):\n",
    "    print serviceName+\" enabled at:\"\n",
    "    for line in file:\n",
    "        if serviceName in line:\n",
    "            #print \"\\t\"+line\n",
    "            #print \"\\t\"+line[:11]\n",
    "            cutL=line.index(serviceName)-6\n",
    "            cutR=cutL+6\n",
    "            print \"\\t\"+line[:11],line[cutL:cutR]\n",
    "            #print \"\\t\"+line[:11],line[cutL:cutR]\n",
    "            #print \"\\t\"+line"
   ]
  },
  {
   "cell_type": "code",
   "execution_count": 67,
   "metadata": {
    "collapsed": false
   },
   "outputs": [
    {
     "name": "stdout",
     "output_type": "stream",
     "text": [
      "[' semantic01: 10146 QuorumPeerMain 11107 DataNode 14965 NodeManager 11269 JournalNode 20182 NameNode 4091 Jps 11455 DFSZKFailoverController ', ' semantic02: 14032 ResourceManager 12289 NodeManager 29069 Jps 10015 DataNode ', ' semantic03: 10802 QuorumPeerMain 12423 DFSZKFailoverController 11897 NameNode 12187 JournalNode 20527 Jps ', ' semantic04: 30274 Jps 10156 NodeManager 8366 DataNode ', ' semantic05: 9728 DataNode 30801 Jps 9890 JournalNode 11894 NodeManager 8920 QuorumPeerMain 12313 ResourceManager ', ' semantic06: 9955 NodeManager 8190 DataNode 27231 Jps ', ' semantic07: 10628 NodeManager 27781 Jps 8282 DataNode ', ' semantic08: 8340 DataNode 27737 Jps 10799 NodeManager ', ' semantic09: 10856 NodeManager 8524 DataNode 26988 Jps ', ' semantic10: 26145 RunJar 10532 NodeManager 25401 NetworkServerControl 28234 Jps 8028 DataNode ', ' semantic11: 8661 DataNode 733 Jps 30766 NetworkServerControl 11103 NodeManager ', ' semantic12: 11937 JobHistoryServer 11362 NodeManager 27531 Jps 9003 DataNode ', ' ']\n",
      "\n",
      "\n",
      "NameNode enabled at:\n",
      "\t semantic01 20182 \n",
      "\t semantic03 11897 \n",
      "DataNode enabled at:\n",
      "\t semantic01 11107 \n",
      "\t semantic02 10015 \n",
      "\t semantic04  8366 \n",
      "\t semantic05  9728 \n",
      "\t semantic06  8190 \n",
      "\t semantic07  8282 \n",
      "\t semantic08  8340 \n",
      "\t semantic09  8524 \n",
      "\t semantic10  8028 \n",
      "\t semantic11  8661 \n",
      "\t semantic12  9003 \n",
      "NodeManager enabled at:\n",
      "\t semantic01 14965 \n",
      "\t semantic02 12289 \n",
      "\t semantic04 10156 \n",
      "\t semantic05 11894 \n",
      "\t semantic06  9955 \n",
      "\t semantic07 10628 \n",
      "\t semantic08 10799 \n",
      "\t semantic09 10856 \n",
      "\t semantic10 10532 \n",
      "\t semantic11 11103 \n",
      "\t semantic12 11362 \n",
      "ResourceManager enabled at:\n",
      "\t semantic02 14032 \n",
      "\t semantic05 12313 \n",
      "DFSZKFailoverController enabled at:\n",
      "\t semantic01 11455 \n",
      "\t semantic03 12423 \n",
      "QuorumPeerMain enabled at:\n",
      "\t semantic01 10146 \n",
      "\t semantic03 10802 \n",
      "\t semantic05  8920 \n",
      "JournalNode enabled at:\n",
      "\t semantic01 11269 \n",
      "\t semantic03 12187 \n",
      "\t semantic05  9890 \n"
     ]
    }
   ],
   "source": [
    "msg_all=\" \"\n",
    "for line in msg:\n",
    "    msg_all+=line+\" \"\n",
    "#print msg_all\n",
    "\n",
    "info=msg_all.split(\"====================\")\n",
    "print info\n",
    "print \"\\n\"\n",
    "serviceCheck(\"NameNode\",info)\n",
    "serviceCheck(\"DataNode\",info)\n",
    "serviceCheck(\"NodeManager\",info)\n",
    "serviceCheck(\"ResourceManager\",info)\n",
    "serviceCheck(\"DFSZKFailoverController\",info)\n",
    "serviceCheck(\"QuorumPeerMain\",info)\n",
    "serviceCheck(\"JournalNode\",info)"
   ]
  },
  {
   "cell_type": "code",
   "execution_count": 38,
   "metadata": {
    "collapsed": false
   },
   "outputs": [
    {
     "name": "stdout",
     "output_type": "stream",
     "text": [
      "NameNode enabled at:\n",
      "DFSZKFailoverController enabled at:\n",
      "DataNode enabled at:\n",
      "QuorumPeerMain enabled at:\n",
      "JournalNode enabled at:\n",
      "NodeManager enabled at:\n"
     ]
    }
   ],
   "source": [
    "#!/usr/bin/python\n",
    "\n",
    "def serviceCheck(serviceName,file):\n",
    "    print serviceName+\" enabled at:\"\n",
    "    for line in file:\n",
    "        if serviceName in line:\n",
    "            cutL=len(serviceName)+line.index(serviceName)+1\n",
    "            cutR=cutL+5\n",
    "            print \"\\t\"+line[:11],line[cutL:cutR]\n",
    "\n",
    "msg=!  for j in 01 02 03 04 05 06 07 08 09 10 11 12; do   echo \"semantic${j}:\";   ssh hadoop@semantic$j jps;   echo ====================; done\n",
    "\n",
    "msg_all=\"\"\n",
    "for line in msg:\n",
    "    msg_all+=line+\" \"\n",
    "#print msg_all\n",
    "\n",
    "info=msg_all.split(\"====================\")\n",
    "serviceCheck(\"NameNode\",info)\n",
    "serviceCheck(\"DFSZKFailoverController\",info)\n",
    "serviceCheck(\"DataNode\",info)\n",
    "serviceCheck(\"QuorumPeerMain\",info)\n",
    "serviceCheck(\"JournalNode\",info)\n",
    "serviceCheck(\"NodeManager\",info)"
   ]
  },
  {
   "cell_type": "code",
   "execution_count": 41,
   "metadata": {
    "collapsed": false
   },
   "outputs": [
    {
     "name": "stdout",
     "output_type": "stream",
     "text": [
      "semantic01:10146 QuorumPeerMain11107 DataNode11269 JournalNode14281 Jps11455 DFSZKFailoverController\n"
     ]
    }
   ],
   "source": [
    "if \"DataNode\" in info[0]:\n",
    "    print info[0]"
   ]
  },
  {
   "cell_type": "code",
   "execution_count": 13,
   "metadata": {
    "collapsed": true
   },
   "outputs": [],
   "source": [
    "import re"
   ]
  },
  {
   "cell_type": "code",
   "execution_count": 36,
   "metadata": {
    "collapsed": false
   },
   "outputs": [
    {
     "ename": "TypeError",
     "evalue": "expected string or buffer",
     "output_type": "error",
     "traceback": [
      "\u001b[1;31m\u001b[0m",
      "\u001b[1;31mTypeError\u001b[0mTraceback (most recent call last)",
      "\u001b[1;32m<ipython-input-36-1b7541747645>\u001b[0m in \u001b[0;36m<module>\u001b[1;34m()\u001b[0m\n\u001b[1;32m----> 1\u001b[1;33m \u001b[0mm\u001b[0m\u001b[1;33m=\u001b[0m\u001b[0mre\u001b[0m\u001b[1;33m.\u001b[0m\u001b[0mmatch\u001b[0m\u001b[1;33m(\u001b[0m\u001b[1;34mr'DataNode'\u001b[0m\u001b[1;33m,\u001b[0m\u001b[0minfo\u001b[0m\u001b[1;33m)\u001b[0m\u001b[1;33m\u001b[0m\u001b[0m\n\u001b[0m\u001b[0;32m      2\u001b[0m \u001b[1;33m\u001b[0m\u001b[0m\n\u001b[0;32m      3\u001b[0m \u001b[1;32mif\u001b[0m \u001b[0mm\u001b[0m \u001b[1;32mis\u001b[0m \u001b[1;32mnot\u001b[0m \u001b[0mNone\u001b[0m\u001b[1;33m:\u001b[0m\u001b[1;33m\u001b[0m\u001b[0m\n\u001b[0;32m      4\u001b[0m     \u001b[1;32mprint\u001b[0m \u001b[1;34m\"matched\"\u001b[0m\u001b[1;33m\u001b[0m\u001b[0m\n\u001b[0;32m      5\u001b[0m     \u001b[1;32mprint\u001b[0m \u001b[0mm\u001b[0m\u001b[1;33m.\u001b[0m\u001b[0mgroup\u001b[0m\u001b[1;33m(\u001b[0m\u001b[1;33m)\u001b[0m\u001b[1;33m\u001b[0m\u001b[0m\n",
      "\u001b[1;32mC:\\Users\\Student\\Anaconda2\\lib\\re.pyc\u001b[0m in \u001b[0;36mmatch\u001b[1;34m(pattern, string, flags)\u001b[0m\n\u001b[0;32m    139\u001b[0m     \"\"\"Try to apply the pattern at the start of the string, returning\n\u001b[0;32m    140\u001b[0m     a match object, or None if no match was found.\"\"\"\n\u001b[1;32m--> 141\u001b[1;33m     \u001b[1;32mreturn\u001b[0m \u001b[0m_compile\u001b[0m\u001b[1;33m(\u001b[0m\u001b[0mpattern\u001b[0m\u001b[1;33m,\u001b[0m \u001b[0mflags\u001b[0m\u001b[1;33m)\u001b[0m\u001b[1;33m.\u001b[0m\u001b[0mmatch\u001b[0m\u001b[1;33m(\u001b[0m\u001b[0mstring\u001b[0m\u001b[1;33m)\u001b[0m\u001b[1;33m\u001b[0m\u001b[0m\n\u001b[0m\u001b[0;32m    142\u001b[0m \u001b[1;33m\u001b[0m\u001b[0m\n\u001b[0;32m    143\u001b[0m \u001b[1;32mdef\u001b[0m \u001b[0msearch\u001b[0m\u001b[1;33m(\u001b[0m\u001b[0mpattern\u001b[0m\u001b[1;33m,\u001b[0m \u001b[0mstring\u001b[0m\u001b[1;33m,\u001b[0m \u001b[0mflags\u001b[0m\u001b[1;33m=\u001b[0m\u001b[1;36m0\u001b[0m\u001b[1;33m)\u001b[0m\u001b[1;33m:\u001b[0m\u001b[1;33m\u001b[0m\u001b[0m\n",
      "\u001b[1;31mTypeError\u001b[0m: expected string or buffer"
     ]
    }
   ],
   "source": [
    "m=re.match(r'DataNode',info)\n",
    "\n",
    "if m is not None:\n",
    "    print \"matched\"\n",
    "    print m.group()\n",
    "else:\n",
    "    print \"not matched\""
   ]
  },
  {
   "cell_type": "code",
   "execution_count": 30,
   "metadata": {
    "collapsed": false
   },
   "outputs": [
    {
     "name": "stdout",
     "output_type": "stream",
     "text": [
      "not matched\n"
     ]
    }
   ],
   "source": [
    "m=re.match(r'(bcd){5}',\"bcdbcd\")\n",
    "\n",
    "if m is not None:\n",
    "    print \"matched\"\n",
    "    print m.group()\n",
    "else:\n",
    "    print \"not matched\""
   ]
  },
  {
   "cell_type": "code",
   "execution_count": 31,
   "metadata": {
    "collapsed": false
   },
   "outputs": [
    {
     "name": "stdout",
     "output_type": "stream",
     "text": [
      "matched\n",
      "bcdbcd\n"
     ]
    }
   ],
   "source": [
    "m=re.match(r'(bcd){2}',\"bcdbcd\")\n",
    "\n",
    "if m is not None:\n",
    "    print \"matched\"\n",
    "    print m.group()\n",
    "else:\n",
    "    print \"not matched\""
   ]
  },
  {
   "cell_type": "code",
   "execution_count": null,
   "metadata": {
    "collapsed": true
   },
   "outputs": [],
   "source": [
    "re.match()"
   ]
  },
  {
   "cell_type": "code",
   "execution_count": 8,
   "metadata": {
    "collapsed": false
   },
   "outputs": [
    {
     "name": "stdout",
     "output_type": "stream",
     "text": [
      "6 ====================\n",
      "10 ====================\n",
      "17 ====================\n",
      "21 ====================\n",
      "27 ====================\n",
      "31 ====================\n",
      "35 ====================\n",
      "39 ====================\n",
      "43 ====================\n",
      "47 ====================\n",
      "51 ====================\n",
      "55 ====================\n"
     ]
    }
   ],
   "source": [
    "\n",
    "for idx,line in enumerate(msg):\n",
    "    if(line==\"====================\"):\n",
    "        print idx,line"
   ]
  },
  {
   "cell_type": "code",
   "execution_count": 32,
   "metadata": {
    "collapsed": false
   },
   "outputs": [
    {
     "name": "stdout",
     "output_type": "stream",
     "text": [
      "123\n"
     ]
    }
   ],
   "source": [
    "print \"123\""
   ]
  },
  {
   "cell_type": "code",
   "execution_count": 33,
   "metadata": {
    "collapsed": false
   },
   "outputs": [
    {
     "name": "stdout",
     "output_type": "stream",
     "text": [
      "123\n"
     ]
    }
   ],
   "source": [
    "print \"123\""
   ]
  },
  {
   "cell_type": "code",
   "execution_count": null,
   "metadata": {
    "collapsed": true
   },
   "outputs": [],
   "source": []
  }
 ],
 "metadata": {
  "anaconda-cloud": {},
  "kernelspec": {
   "display_name": "Python 2",
   "language": "python",
   "name": "python2"
  },
  "language_info": {
   "codemirror_mode": {
    "name": "ipython",
    "version": 2
   },
   "file_extension": ".py",
   "mimetype": "text/x-python",
   "name": "python",
   "nbconvert_exporter": "python",
   "pygments_lexer": "ipython2",
   "version": "2.7.12"
  }
 },
 "nbformat": 4,
 "nbformat_minor": 0
}
