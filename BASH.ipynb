{
 "cells": [
  {
   "cell_type": "code",
   "execution_count": 1,
   "metadata": {
    "collapsed": true
   },
   "outputs": [],
   "source": [
    "import os"
   ]
  },
  {
   "cell_type": "markdown",
   "metadata": {},
   "source": [
    "## Let's play iPython and BASH a bit"
   ]
  },
  {
   "cell_type": "markdown",
   "metadata": {},
   "source": [
    "#### count number of paths in $PATH:"
   ]
  },
  {
   "cell_type": "code",
   "execution_count": 2,
   "metadata": {
    "collapsed": true
   },
   "outputs": [],
   "source": [
    "path=!echo $PATH"
   ]
  },
  {
   "cell_type": "code",
   "execution_count": 3,
   "metadata": {
    "collapsed": false
   },
   "outputs": [
    {
     "name": "stdout",
     "output_type": "stream",
     "text": [
      "['/home/chweng/.local/bin:/home/chweng/bin:/home/chweng/.local/bin:/usr/local/sbin:/usr/local/bin:/usr/sbin:/usr/bin:/sbin:/bin:/usr/games:/usr/local/games:/snap/bin']\n"
     ]
    }
   ],
   "source": [
    "print path"
   ]
  },
  {
   "cell_type": "code",
   "execution_count": 7,
   "metadata": {
    "collapsed": false
   },
   "outputs": [
    {
     "data": {
      "text/plain": [
       "['/home/chweng/.local/bin',\n",
       " '/home/chweng/bin',\n",
       " '/home/chweng/.local/bin',\n",
       " '/usr/local/sbin',\n",
       " '/usr/local/bin',\n",
       " '/usr/sbin',\n",
       " '/usr/bin',\n",
       " '/sbin',\n",
       " '/bin',\n",
       " '/usr/games',\n",
       " '/usr/local/games',\n",
       " '/snap/bin']"
      ]
     },
     "execution_count": 7,
     "metadata": {},
     "output_type": "execute_result"
    }
   ],
   "source": [
    "path[0].split(\":\")"
   ]
  },
  {
   "cell_type": "code",
   "execution_count": 8,
   "metadata": {
    "collapsed": false
   },
   "outputs": [
    {
     "name": "stdout",
     "output_type": "stream",
     "text": [
      "12\n"
     ]
    }
   ],
   "source": [
    "print len(path[0].split(\":\"))"
   ]
  },
  {
   "cell_type": "markdown",
   "metadata": {},
   "source": [
    "which is the same as the following command in BASH shell:"
   ]
  },
  {
   "cell_type": "code",
   "execution_count": 9,
   "metadata": {
    "collapsed": false
   },
   "outputs": [
    {
     "name": "stdout",
     "output_type": "stream",
     "text": [
      "12\r\n"
     ]
    }
   ],
   "source": [
    "!echo $PATH|tr \":\" \" \"|wc -w"
   ]
  },
  {
   "cell_type": "markdown",
   "metadata": {},
   "source": [
    "#### change the language environment"
   ]
  },
  {
   "cell_type": "code",
   "execution_count": 13,
   "metadata": {
    "collapsed": false
   },
   "outputs": [
    {
     "name": "stdout",
     "output_type": "stream",
     "text": [
      "LANG=en_US.UTF-8\r\n",
      "LANGUAGE=en_US\r\n",
      "LC_CTYPE=\"en_US.UTF-8\"\r\n",
      "LC_NUMERIC=lzh_TW\r\n",
      "LC_TIME=lzh_TW\r\n",
      "LC_COLLATE=\"en_US.UTF-8\"\r\n",
      "LC_MONETARY=lzh_TW\r\n",
      "LC_MESSAGES=\"en_US.UTF-8\"\r\n",
      "LC_PAPER=lzh_TW\r\n",
      "LC_NAME=lzh_TW\r\n",
      "LC_ADDRESS=lzh_TW\r\n",
      "LC_TELEPHONE=lzh_TW\r\n",
      "LC_MEASUREMENT=lzh_TW\r\n",
      "LC_IDENTIFICATION=lzh_TW\r\n",
      "LC_ALL=\r\n"
     ]
    }
   ],
   "source": [
    "!locale"
   ]
  },
  {
   "cell_type": "code",
   "execution_count": 30,
   "metadata": {
    "collapsed": false
   },
   "outputs": [],
   "source": [
    "!export LANG='en_US.UTF-8'"
   ]
  },
  {
   "cell_type": "code",
   "execution_count": 34,
   "metadata": {
    "collapsed": false
   },
   "outputs": [
    {
     "name": "stdout",
     "output_type": "stream",
     "text": [
      "LANG=en_US.UTF-8\r\n",
      "LANGUAGE=en_US\r\n",
      "LC_CTYPE=\"en_US.UTF-8\"\r\n",
      "LC_NUMERIC=lzh_TW\r\n",
      "LC_TIME=lzh_TW\r\n",
      "LC_COLLATE=\"en_US.UTF-8\"\r\n",
      "LC_MONETARY=lzh_TW\r\n",
      "LC_MESSAGES=\"en_US.UTF-8\"\r\n",
      "LC_PAPER=lzh_TW\r\n",
      "LC_NAME=lzh_TW\r\n",
      "LC_ADDRESS=lzh_TW\r\n",
      "LC_TELEPHONE=lzh_TW\r\n",
      "LC_MEASUREMENT=lzh_TW\r\n",
      "LC_IDENTIFICATION=lzh_TW\r\n",
      "LC_ALL=\r\n"
     ]
    }
   ],
   "source": [
    "!locale"
   ]
  },
  {
   "cell_type": "markdown",
   "metadata": {},
   "source": [
    "#### look for files:"
   ]
  },
  {
   "cell_type": "markdown",
   "metadata": {},
   "source": [
    "the flag -ld of \"ls\" means \"list directory\".\n"
   ]
  },
  {
   "cell_type": "code",
   "execution_count": 35,
   "metadata": {
    "collapsed": false
   },
   "outputs": [
    {
     "name": "stdout",
     "output_type": "stream",
     "text": [
      "-rw-r--r-- 1 root root  552  三  17  2016 /etc/pam.conf\r\n",
      "drwxr-xr-x 2 root root 4096 十一 10 11:34 /etc/pam.d\r\n",
      "-rw-rw-r-- 1 root root    3 十一 10 10:47 /etc/papersize\r\n",
      "-rw-r--r-- 1 root root 2288 十一 10 13:17 /etc/passwd\r\n",
      "-rw------- 1 root root 2243 十一 10 10:46 /etc/passwd-\r\n",
      "drwxr-xr-x 2 root root 4096  七  20 04:49 /etc/pcmcia\r\n",
      "drwxr-xr-x 4 root root 4096  七  20 04:45 /etc/perl\r\n",
      "drwxr-xr-x 4 root root 4096  七  20 04:46 /etc/pki\r\n",
      "drwxr-xr-x 5 root root 4096  七  20 04:47 /etc/pm\r\n",
      "-rw-r--r-- 1 root root 7649  七  20 04:50 /etc/pnm2ppa.conf\r\n",
      "drwxr-xr-x 5 root root 4096  七  20 04:46 /etc/polkit-1\r\n",
      "-rw-rw-r-- 1 root root  350 十一 10 10:47 /etc/popularity-contest.conf\r\n",
      "drwxr-xr-x 8 root root 4096  七  20 04:50 /etc/ppp\r\n",
      "-rw-r--r-- 1 root root 5877  二   7  2016 /etc/presage.xml\r\n",
      "-rw-r--r-- 1 root root  575  十  23  2015 /etc/profile\r\n",
      "drwxr-xr-x 2 root root 4096 十一 10 11:32 /etc/profile.d\r\n",
      "-rw-r--r-- 1 root root 2932  十  25  2014 /etc/protocols\r\n",
      "drwxr-xr-x 2 root root 4096  七  20 04:49 /etc/pulse\r\n",
      "drwxr-xr-x 2 root root 4096  七  20 04:48 /etc/python\r\n",
      "drwxr-xr-x 2 root root 4096  七  20 04:45 /etc/python2.7\r\n",
      "drwxr-xr-x 2 root root 4096  七  20 04:42 /etc/python3\r\n",
      "drwxr-xr-x 2 root root 4096 十一 10 11:32 /etc/python3.5\r\n"
     ]
    }
   ],
   "source": [
    "!ls -ld /etc/p*"
   ]
  },
  {
   "cell_type": "code",
   "execution_count": 36,
   "metadata": {
    "collapsed": false
   },
   "outputs": [
    {
     "name": "stdout",
     "output_type": "stream",
     "text": [
      "22\r\n"
     ]
    }
   ],
   "source": [
    "!ls -ld /etc/p* | wc -l"
   ]
  },
  {
   "cell_type": "code",
   "execution_count": 37,
   "metadata": {
    "collapsed": false
   },
   "outputs": [
    {
     "name": "stdout",
     "output_type": "stream",
     "text": [
      "drwxr-xr-x 2 root root 4096 十一 10 11:34 /etc/pam.d\r\n",
      "drwxr-xr-x 2 root root 4096  七  20 04:49 /etc/pulse\r\n"
     ]
    }
   ],
   "source": [
    "!ls -ld /etc/p????"
   ]
  },
  {
   "cell_type": "code",
   "execution_count": 39,
   "metadata": {
    "collapsed": false
   },
   "outputs": [
    {
     "name": "stdout",
     "output_type": "stream",
     "text": [
      "2\r\n"
     ]
    }
   ],
   "source": [
    "!ls -ld /etc/p???? | wc -l"
   ]
  },
  {
   "cell_type": "code",
   "execution_count": 41,
   "metadata": {
    "collapsed": false
   },
   "outputs": [
    {
     "name": "stdout",
     "output_type": "stream",
     "text": [
      "-rw-r--r-- 1 root root  552  三  17  2016 /etc/pam.conf\r\n",
      "drwxr-xr-x 2 root root 4096 十一 10 11:34 /etc/pam.d\r\n",
      "-rw-rw-r-- 1 root root    3 十一 10 10:47 /etc/papersize\r\n",
      "-rw-r--r-- 1 root root 2288 十一 10 13:17 /etc/passwd\r\n",
      "-rw------- 1 root root 2243 十一 10 10:46 /etc/passwd-\r\n",
      "drwxr-xr-x 4 root root 4096  七  20 04:45 /etc/perl\r\n",
      "drwxr-xr-x 5 root root 4096  七  20 04:46 /etc/polkit-1\r\n",
      "-rw-rw-r-- 1 root root  350 十一 10 10:47 /etc/popularity-contest.conf\r\n",
      "drwxr-xr-x 2 root root 4096  七  20 04:49 /etc/pulse\r\n"
     ]
    }
   ],
   "source": [
    "!ls -ld /etc/p[aeiou]*"
   ]
  },
  {
   "cell_type": "code",
   "execution_count": 42,
   "metadata": {
    "collapsed": false
   },
   "outputs": [
    {
     "name": "stdout",
     "output_type": "stream",
     "text": [
      "9\r\n"
     ]
    }
   ],
   "source": [
    "!ls -ld /etc/p[aeiou]* | wc -l"
   ]
  },
  {
   "cell_type": "code",
   "execution_count": 45,
   "metadata": {
    "collapsed": false
   },
   "outputs": [
    {
     "name": "stdout",
     "output_type": "stream",
     "text": [
      "drwxr-xr-x 2 root root 4096  七  20 04:49 /etc/pcmcia\r\n",
      "drwxr-xr-x 4 root root 4096  七  20 04:46 /etc/pki\r\n",
      "drwxr-xr-x 5 root root 4096  七  20 04:47 /etc/pm\r\n",
      "-rw-r--r-- 1 root root 7649  七  20 04:50 /etc/pnm2ppa.conf\r\n",
      "drwxr-xr-x 8 root root 4096  七  20 04:50 /etc/ppp\r\n",
      "-rw-r--r-- 1 root root 5877  二   7  2016 /etc/presage.xml\r\n",
      "-rw-r--r-- 1 root root  575  十  23  2015 /etc/profile\r\n",
      "drwxr-xr-x 2 root root 4096 十一 10 11:32 /etc/profile.d\r\n",
      "-rw-r--r-- 1 root root 2932  十  25  2014 /etc/protocols\r\n",
      "drwxr-xr-x 2 root root 4096  七  20 04:48 /etc/python\r\n",
      "drwxr-xr-x 2 root root 4096  七  20 04:45 /etc/python2.7\r\n",
      "drwxr-xr-x 2 root root 4096  七  20 04:42 /etc/python3\r\n",
      "drwxr-xr-x 2 root root 4096 十一 10 11:32 /etc/python3.5\r\n"
     ]
    }
   ],
   "source": [
    "!ls -ld /etc/p[!aeiou]*"
   ]
  },
  {
   "cell_type": "code",
   "execution_count": 87,
   "metadata": {
    "collapsed": false
   },
   "outputs": [
    {
     "name": "stdout",
     "output_type": "stream",
     "text": [
      "drwxr-xr-x 2 root root 4096  七  20 04:49 /etc/pcmcia\r\n",
      "drwxr-xr-x 4 root root 4096  七  20 04:46 /etc/pki\r\n",
      "drwxr-xr-x 5 root root 4096  七  20 04:47 /etc/pm\r\n",
      "-rw-r--r-- 1 root root 7649  七  20 04:50 /etc/pnm2ppa.conf\r\n",
      "drwxr-xr-x 8 root root 4096  七  20 04:50 /etc/ppp\r\n",
      "-rw-r--r-- 1 root root 5877  二   7  2016 /etc/presage.xml\r\n",
      "-rw-r--r-- 1 root root  575  十  23  2015 /etc/profile\r\n",
      "drwxr-xr-x 2 root root 4096 十一 10 14:26 /etc/profile.d\r\n",
      "-rw-r--r-- 1 root root 2932  十  25  2014 /etc/protocols\r\n",
      "drwxr-xr-x 2 root root 4096  七  20 04:48 /etc/python\r\n",
      "drwxr-xr-x 2 root root 4096  七  20 04:45 /etc/python2.7\r\n",
      "drwxr-xr-x 2 root root 4096  七  20 04:42 /etc/python3\r\n",
      "drwxr-xr-x 2 root root 4096 十一 10 11:32 /etc/python3.5\r\n"
     ]
    }
   ],
   "source": [
    "!ls -ld /etc/p[^aeiou]*"
   ]
  },
  {
   "cell_type": "markdown",
   "metadata": {},
   "source": [
    "where [!aeiou] means: not a or e or i or u.\n",
    "\n",
    "Indeed,in this case, regular expressoin  [^aeiou] also works."
   ]
  },
  {
   "cell_type": "code",
   "execution_count": 47,
   "metadata": {
    "collapsed": false
   },
   "outputs": [],
   "source": [
    "!touch d{m,n,o}t"
   ]
  },
  {
   "cell_type": "code",
   "execution_count": 49,
   "metadata": {
    "collapsed": false
   },
   "outputs": [
    {
     "name": "stdout",
     "output_type": "stream",
     "text": [
      "BASH.ipynb  d{m,n,o}t\r\n"
     ]
    }
   ],
   "source": [
    "!ls"
   ]
  },
  {
   "cell_type": "markdown",
   "metadata": {},
   "source": [
    "#### regular expression"
   ]
  },
  {
   "cell_type": "code",
   "execution_count": 59,
   "metadata": {
    "collapsed": true
   },
   "outputs": [],
   "source": [
    "import re"
   ]
  },
  {
   "cell_type": "code",
   "execution_count": 52,
   "metadata": {
    "collapsed": false
   },
   "outputs": [
    {
     "name": "stdout",
     "output_type": "stream",
     "text": [
      "--2016-11-10 14:27:34--  http://linux.vbird.org/linux_basic/0330regularex/regular_express.txt\r\n",
      "Resolving linux.vbird.org (linux.vbird.org)... 140.116.44.180\r\n",
      "Connecting to linux.vbird.org (linux.vbird.org)|140.116.44.180|:80... connected.\r\n",
      "HTTP request sent, awaiting response... 200 OK\r\n",
      "Length: 650 [text/plain]\r\n",
      "Saving to: ‘regular_express.txt’\r\n",
      "\r\n",
      "\r",
      "regular_express.txt   0%[                    ]       0  --.-KB/s               \r",
      "regular_express.txt 100%[===================>]     650  --.-KB/s    in 0s      \r\n",
      "\r\n",
      "2016-11-10 14:27:34 (239 MB/s) - ‘regular_express.txt’ saved [650/650]\r\n",
      "\r\n"
     ]
    }
   ],
   "source": [
    "!wget http://linux.vbird.org/linux_basic/0330regularex/regular_express.txt"
   ]
  },
  {
   "cell_type": "code",
   "execution_count": 57,
   "metadata": {
    "collapsed": false
   },
   "outputs": [
    {
     "name": "stdout",
     "output_type": "stream",
     "text": [
      "     1\t\"Open Source\" is a good mechanism to develop programs.\r\n",
      "     2\tapple is my favorite food.\r\n",
      "     3\tFootball game is not use feet only.\r\n",
      "     4\tthis dress doesn't fit me.\r\n",
      "     5\tHowever, this dress is about $ 3183 dollars.\r",
      "\r\n",
      "     6\tGNU is free air not free beer.\r",
      "\r\n",
      "     7\tHer hair is very beauty.\r",
      "\r\n",
      "     8\tI can't finish the test.\r",
      "\r\n",
      "     9\tOh! The soup taste good.\r",
      "\r\n",
      "    10\tmotorcycle is cheap than car.\r\n",
      "    11\tThis window is clear.\r\n",
      "    12\tthe symbol '*' is represented as start.\r\n",
      "    13\tOh!\tMy god!\r\n",
      "    14\tThe gd software is a library for drafting programs.\r",
      "\r\n",
      "    15\tYou are the best is mean you are the no. 1.\r\n",
      "    16\tThe world <Happy> is the same with \"glad\".\r\n",
      "    17\tI like dog.\r\n",
      "    18\tgoogle is the best tools for search keyword.\r\n",
      "    19\tgoooooogle yes!\r\n",
      "    20\tgo! go! Let's go.\r\n",
      "    21\t# I am VBird\r\n",
      "    22\t\r\n"
     ]
    }
   ],
   "source": [
    "!cat -n regular_express.txt"
   ]
  },
  {
   "cell_type": "code",
   "execution_count": 56,
   "metadata": {
    "collapsed": false
   },
   "outputs": [
    {
     "name": "stdout",
     "output_type": "stream",
     "text": [
      "22\r\n"
     ]
    }
   ],
   "source": [
    "!cat regular_express.txt |wc -l"
   ]
  },
  {
   "cell_type": "code",
   "execution_count": 58,
   "metadata": {
    "collapsed": false
   },
   "outputs": [
    {
     "name": "stdout",
     "output_type": "stream",
     "text": [
      "8:I can't finish the test.\r",
      "\r\n",
      "12:the symbol '*' is represented as start.\r\n",
      "15:You are the best is mean you are the no. 1.\r\n",
      "16:The world <Happy> is the same with \"glad\".\r\n",
      "18:google is the best tools for search keyword.\r\n"
     ]
    }
   ],
   "source": [
    "!grep -n 'the' regular_express.txt"
   ]
  },
  {
   "cell_type": "markdown",
   "metadata": {},
   "source": [
    "the above BASH command is the same as the following code in Python:"
   ]
  },
  {
   "cell_type": "code",
   "execution_count": 102,
   "metadata": {
    "collapsed": false
   },
   "outputs": [
    {
     "name": "stdout",
     "output_type": "stream",
     "text": [
      "I can't finish the test.\r\n",
      "\n",
      "the symbol '*' is represented as start.\n",
      "\n",
      "You are the best is mean you are the no. 1.\n",
      "\n",
      "The world <Happy> is the same with \"glad\".\n",
      "\n",
      "google is the best tools for search keyword.\n",
      "\n"
     ]
    }
   ],
   "source": [
    "pattern = re.compile('the')\n",
    "\n",
    "for line in open(\"regular_express.txt\", \"r\"):\n",
    "    if pattern.search(line) is not None:\n",
    "        print line"
   ]
  },
  {
   "cell_type": "code",
   "execution_count": 66,
   "metadata": {
    "collapsed": false
   },
   "outputs": [
    {
     "name": "stdout",
     "output_type": "stream",
     "text": [
      "1:\"Open Source\" is a good mechanism to develop programs.\r\n",
      "2:apple is my favorite food.\r\n",
      "3:Football game is not use feet only.\r\n",
      "4:this dress doesn't fit me.\r\n",
      "5:However, this dress is about $ 3183 dollars.\r",
      "\r\n",
      "6:GNU is free air not free beer.\r",
      "\r\n",
      "7:Her hair is very beauty.\r",
      "\r\n",
      "9:Oh! The soup taste good.\r",
      "\r\n",
      "10:motorcycle is cheap than car.\r\n",
      "11:This window is clear.\r\n",
      "13:Oh!\tMy god!\r\n",
      "14:The gd software is a library for drafting programs.\r",
      "\r\n",
      "17:I like dog.\r\n",
      "19:goooooogle yes!\r\n",
      "20:go! go! Let's go.\r\n",
      "21:# I am VBird\r\n",
      "22:\r\n"
     ]
    }
   ],
   "source": [
    "!grep -nv 'the' regular_express.txt"
   ]
  },
  {
   "cell_type": "code",
   "execution_count": 67,
   "metadata": {
    "collapsed": false
   },
   "outputs": [
    {
     "name": "stdout",
     "output_type": "stream",
     "text": [
      "8:I can't finish the test.\r",
      "\r\n",
      "9:Oh! The soup taste good.\r",
      "\r\n",
      "12:the symbol '*' is represented as start.\r\n",
      "14:The gd software is a library for drafting programs.\r",
      "\r\n",
      "15:You are the best is mean you are the no. 1.\r\n",
      "16:The world <Happy> is the same with \"glad\".\r\n",
      "18:google is the best tools for search keyword.\r\n"
     ]
    }
   ],
   "source": [
    "!grep -ni 'the' regular_express.txt"
   ]
  },
  {
   "cell_type": "code",
   "execution_count": 68,
   "metadata": {
    "collapsed": false
   },
   "outputs": [
    {
     "name": "stdout",
     "output_type": "stream",
     "text": [
      "6:GNU is free air not free beer.\r",
      "\r\n",
      "7:Her hair is very beauty.\r",
      "\r\n"
     ]
    }
   ],
   "source": [
    "!grep -n 'air' regular_express.txt"
   ]
  },
  {
   "cell_type": "code",
   "execution_count": 86,
   "metadata": {
    "collapsed": false
   },
   "outputs": [
    {
     "name": "stdout",
     "output_type": "stream",
     "text": [
      "8:I can't finish the test.\r",
      "\r\n",
      "9:Oh! The soup taste good.\r",
      "\r\n"
     ]
    }
   ],
   "source": [
    "!grep -ni 't[ae]st' regular_express.txt"
   ]
  },
  {
   "cell_type": "code",
   "execution_count": 90,
   "metadata": {
    "collapsed": false
   },
   "outputs": [
    {
     "name": "stdout",
     "output_type": "stream",
     "text": [
      "8:I can't finish the test.\r",
      "\r\n",
      "9:Oh! The soup taste good.\r",
      "\r\n"
     ]
    }
   ],
   "source": [
    "!grep -n 't[ae]st' regular_express.txt"
   ]
  },
  {
   "cell_type": "code",
   "execution_count": 94,
   "metadata": {
    "collapsed": false
   },
   "outputs": [
    {
     "name": "stdout",
     "output_type": "stream",
     "text": [
      "2:apple is my favorite food.\r\n",
      "3:Football game is not use feet only.\r\n",
      "18:google is the best tools for search keyword.\r\n",
      "19:goooooogle yes!\r\n"
     ]
    }
   ],
   "source": [
    "!grep -n '[^g]oo' regular_express.txt"
   ]
  },
  {
   "cell_type": "code",
   "execution_count": 106,
   "metadata": {
    "collapsed": false
   },
   "outputs": [
    {
     "name": "stdout",
     "output_type": "stream",
     "text": [
      "5:However, this dress is about $ 3183 dollars.\r",
      "\r\n",
      "15:You are the best is mean you are the no. 1.\r\n"
     ]
    }
   ],
   "source": [
    "!grep -n '[[:digit:]]' regular_express.txt"
   ]
  },
  {
   "cell_type": "code",
   "execution_count": 105,
   "metadata": {
    "collapsed": false
   },
   "outputs": [
    {
     "name": "stdout",
     "output_type": "stream",
     "text": [
      "1:\"Open Source\" is a good mechanism to develop programs.\r\n",
      "2:apple is my favorite food.\r\n",
      "3:Football game is not use feet only.\r\n",
      "4:this dress doesn't fit me.\r\n",
      "5:However, this dress is about $ 3183 dollars.\r",
      "\r\n",
      "6:GNU is free air not free beer.\r",
      "\r\n",
      "7:Her hair is very beauty.\r",
      "\r\n",
      "8:I can't finish the test.\r",
      "\r\n",
      "9:Oh! The soup taste good.\r",
      "\r\n",
      "10:motorcycle is cheap than car.\r\n",
      "11:This window is clear.\r\n",
      "12:the symbol '*' is represented as start.\r\n",
      "13:Oh!\tMy god!\r\n",
      "14:The gd software is a library for drafting programs.\r",
      "\r\n",
      "15:You are the best is mean you are the no. 1.\r\n",
      "16:The world <Happy> is the same with \"glad\".\r\n",
      "17:I like dog.\r\n",
      "18:google is the best tools for search keyword.\r\n",
      "19:goooooogle yes!\r\n",
      "20:go! go! Let's go.\r\n",
      "21:# I am VBird\r\n"
     ]
    }
   ],
   "source": [
    "!grep -n '[[:lower:]]' regular_express.txt"
   ]
  },
  {
   "cell_type": "markdown",
   "metadata": {},
   "source": [
    "#### get the line which is not started by any capital or lower-case alphabets:"
   ]
  },
  {
   "cell_type": "code",
   "execution_count": 107,
   "metadata": {
    "collapsed": false
   },
   "outputs": [
    {
     "name": "stdout",
     "output_type": "stream",
     "text": [
      "1:\"Open Source\" is a good mechanism to develop programs.\r\n",
      "21:# I am VBird\r\n"
     ]
    }
   ],
   "source": [
    "!grep -n '^[^A-Za-z]' regular_express.txt"
   ]
  },
  {
   "cell_type": "markdown",
   "metadata": {},
   "source": [
    "#### get the line which is ended by '!':"
   ]
  },
  {
   "cell_type": "code",
   "execution_count": 108,
   "metadata": {
    "collapsed": false
   },
   "outputs": [
    {
     "name": "stdout",
     "output_type": "stream",
     "text": [
      "13:Oh!\tMy god!\r\n",
      "19:goooooogle yes!\r\n"
     ]
    }
   ],
   "source": [
    "!grep -n '!$' regular_express.txt"
   ]
  },
  {
   "cell_type": "markdown",
   "metadata": {},
   "source": [
    "#### get the line which is ended by '.'   :"
   ]
  },
  {
   "cell_type": "code",
   "execution_count": 109,
   "metadata": {
    "collapsed": false
   },
   "outputs": [
    {
     "name": "stdout",
     "output_type": "stream",
     "text": [
      "1:\"Open Source\" is a good mechanism to develop programs.\r\n",
      "2:apple is my favorite food.\r\n",
      "3:Football game is not use feet only.\r\n",
      "4:this dress doesn't fit me.\r\n",
      "5:However, this dress is about $ 3183 dollars.\r",
      "\r\n",
      "6:GNU is free air not free beer.\r",
      "\r\n",
      "7:Her hair is very beauty.\r",
      "\r\n",
      "8:I can't finish the test.\r",
      "\r\n",
      "9:Oh! The soup taste good.\r",
      "\r\n",
      "10:motorcycle is cheap than car.\r\n",
      "11:This window is clear.\r\n",
      "12:the symbol '*' is represented as start.\r\n",
      "13:Oh!\tMy god!\r\n",
      "14:The gd software is a library for drafting programs.\r",
      "\r\n",
      "15:You are the best is mean you are the no. 1.\r\n",
      "16:The world <Happy> is the same with \"glad\".\r\n",
      "17:I like dog.\r\n",
      "18:google is the best tools for search keyword.\r\n",
      "19:goooooogle yes!\r\n",
      "20:go! go! Let's go.\r\n",
      "21:# I am VBird\r\n"
     ]
    }
   ],
   "source": [
    "!grep -n '.$' regular_express.txt"
   ]
  },
  {
   "cell_type": "code",
   "execution_count": 110,
   "metadata": {
    "collapsed": false
   },
   "outputs": [
    {
     "name": "stdout",
     "output_type": "stream",
     "text": [
      "10:motorcycle is cheap than car.\r\n",
      "11:This window is clear.\r\n"
     ]
    }
   ],
   "source": [
    "!grep -n 's.c' regular_express.txt"
   ]
  },
  {
   "cell_type": "code",
   "execution_count": 111,
   "metadata": {
    "collapsed": true
   },
   "outputs": [],
   "source": [
    "!grep -n 's[a-zA-Z]c' regular_express.txt"
   ]
  },
  {
   "cell_type": "code",
   "execution_count": 112,
   "metadata": {
    "collapsed": false
   },
   "outputs": [
    {
     "name": "stdout",
     "output_type": "stream",
     "text": [
      "1:\"Open Source\" is a good mechanism to develop programs.\r\n",
      "2:apple is my favorite food.\r\n",
      "3:Football game is not use feet only.\r\n",
      "9:Oh! The soup taste good.\r",
      "\r\n",
      "18:google is the best tools for search keyword.\r\n",
      "19:goooooogle yes!\r\n"
     ]
    }
   ],
   "source": [
    "!grep -n 'oo' regular_express.txt"
   ]
  },
  {
   "cell_type": "code",
   "execution_count": 113,
   "metadata": {
    "collapsed": false
   },
   "outputs": [
    {
     "name": "stdout",
     "output_type": "stream",
     "text": [
      "1:\"Open Source\" is a good mechanism to develop programs.\r\n",
      "2:apple is my favorite food.\r\n",
      "3:Football game is not use feet only.\r\n",
      "9:Oh! The soup taste good.\r",
      "\r\n",
      "18:google is the best tools for search keyword.\r\n",
      "19:goooooogle yes!\r\n"
     ]
    }
   ],
   "source": [
    "!grep -n 'ooo*' regular_express.txt"
   ]
  },
  {
   "cell_type": "code",
   "execution_count": null,
   "metadata": {
    "collapsed": true
   },
   "outputs": [],
   "source": [
    "!grep -n 'g*g' regular_express.txt"
   ]
  },
  {
   "cell_type": "markdown",
   "metadata": {},
   "source": [
    "using 'ooo*' will lead to the same result as using 'oo'"
   ]
  },
  {
   "cell_type": "code",
   "execution_count": 115,
   "metadata": {
    "collapsed": false
   },
   "outputs": [
    {
     "name": "stdout",
     "output_type": "stream",
     "text": [
      "18:google is the best tools for search keyword.\r\n",
      "19:goooooogle yes!\r\n"
     ]
    }
   ],
   "source": [
    "!grep -nE 'goo+g' regular_express.txt"
   ]
  },
  {
   "cell_type": "markdown",
   "metadata": {},
   "source": [
    "-E flag has to be added if one want to use expressions such as + or |."
   ]
  },
  {
   "cell_type": "code",
   "execution_count": 119,
   "metadata": {
    "collapsed": false
   },
   "outputs": [
    {
     "name": "stdout",
     "output_type": "stream",
     "text": [
      "/sbin\r\n",
      "/sbin/rtacct\r\n",
      "/sbin/rtmon\r\n",
      "/sbin/tc\r\n",
      "/sbin/tipc\r\n",
      "/sbin/bridge\r\n",
      "/bin\r\n",
      "/bin/ss\r\n",
      "/bin/ip\r\n",
      "/usr/sbin\r\n",
      "/usr/sbin/arpd\r\n",
      "/usr/sbin/genl\r\n",
      "/usr/bin\r\n",
      "/usr/bin/routel\r\n",
      "/usr/bin/nstat\r\n",
      "/usr/bin/routef\r\n",
      "/usr/bin/lnstat\r\n",
      "/sbin/ip\r\n",
      "/usr/bin/rtstat\r\n",
      "/usr/bin/ctstat\r\n"
     ]
    }
   ],
   "source": [
    "!dpkg -L iproute2 | grep -E '/bin|/sbin'"
   ]
  },
  {
   "cell_type": "code",
   "execution_count": 120,
   "metadata": {
    "collapsed": false
   },
   "outputs": [
    {
     "name": "stdout",
     "output_type": "stream",
     "text": [
      "20\r\n"
     ]
    }
   ],
   "source": [
    "!dpkg -L iproute2 | grep -E '/bin|/sbin' | wc -l"
   ]
  },
  {
   "cell_type": "code",
   "execution_count": 121,
   "metadata": {
    "collapsed": false
   },
   "outputs": [
    {
     "name": "stdout",
     "output_type": "stream",
     "text": [
      "20\r\n"
     ]
    }
   ],
   "source": [
    "!dpkg -L iproute2 | grep -E '/s?bin' | wc -l"
   ]
  },
  {
   "cell_type": "markdown",
   "metadata": {},
   "source": [
    "#### Remark\n",
    "\n",
    "?: showing once or 0 times\n",
    "\n",
    "*: showing any times (including 0 times)\n",
    "\n",
    "+: showing at least once"
   ]
  },
  {
   "cell_type": "markdown",
   "metadata": {},
   "source": [
    "#### Remark:\n",
    "\n",
    "-i, --ignore-case\n",
    "\n",
    "-v  --invert-match\n",
    "\n",
    "-n, --line-number\n",
    "\n",
    "-E: extended"
   ]
  },
  {
   "cell_type": "code",
   "execution_count": 77,
   "metadata": {
    "collapsed": true
   },
   "outputs": [],
   "source": [
    "f=open(\"regular_express.txt\", \"r\")\n",
    "file=f.read()"
   ]
  },
  {
   "cell_type": "code",
   "execution_count": 81,
   "metadata": {
    "collapsed": false
   },
   "outputs": [
    {
     "name": "stdout",
     "output_type": "stream",
     "text": [
      "'\"Open Source\" is a good mechanism to develop programs.\\napple is my favorite food.\\nFootball game is not use feet only.\\nthis dress doesn\\'t fit me.\\nHowever, this dress is about $ 3183 dollars.\\r\\nGNU is free air not free beer.\\r\\nHer hair is very beauty.\\r\\nI can\\'t finish the test.\\r\\nOh! The soup taste good.\\r\\nmotorcycle is cheap than car.\\nThis window is clear.\\nthe symbol \\'*\\' is represented as start.\\nOh!\\tMy god!\\nThe gd software is a library for drafting programs.\\r\\nYou are the best is mean you are the no. 1.\\nThe world <Happy> is the same with \"glad\".\\nI like dog.\\ngoogle is the best tools for search keyword.\\ngoooooogle yes!\\ngo! go! Let\\'s go.\\n# I am VBird\\n\\n'\n"
     ]
    }
   ],
   "source": [
    "print repr(file)"
   ]
  },
  {
   "cell_type": "code",
   "execution_count": 83,
   "metadata": {
    "collapsed": false
   },
   "outputs": [
    {
     "name": "stdout",
     "output_type": "stream",
     "text": [
      "\"Open Source\" is a good mechanism to develop programs.\n",
      "\n",
      "apple is my favorite food.\n",
      "\n",
      "Football game is not use feet only.\n",
      "\n",
      "this dress doesn't fit me.\n",
      "\n",
      "However, this dress is about $ 3183 dollars.\r\n",
      "\n",
      "GNU is free air not free beer.\r\n",
      "\n",
      "Her hair is very beauty.\r\n",
      "\n",
      "I can't finish the test.\r\n",
      "\n",
      "Oh! The soup taste good.\r\n",
      "\n",
      "motorcycle is cheap than car.\n",
      "\n",
      "This window is clear.\n",
      "\n",
      "the symbol '*' is represented as start.\n",
      "\n",
      "Oh!\tMy god!\n",
      "\n",
      "The gd software is a library for drafting programs.\r\n",
      "\n",
      "You are the best is mean you are the no. 1.\n",
      "\n",
      "The world <Happy> is the same with \"glad\".\n",
      "\n",
      "I like dog.\n",
      "\n",
      "google is the best tools for search keyword.\n",
      "\n",
      "goooooogle yes!\n",
      "\n",
      "go! go! Let's go.\n",
      "\n",
      "# I am VBird\n",
      "\n",
      "\n",
      "\n"
     ]
    }
   ],
   "source": [
    "for line in open(\"regular_express.txt\", \"r\"):\n",
    "    print line"
   ]
  },
  {
   "cell_type": "code",
   "execution_count": 142,
   "metadata": {
    "collapsed": true
   },
   "outputs": [],
   "source": [
    "os.mkdir(\"tmp\")"
   ]
  },
  {
   "cell_type": "code",
   "execution_count": 144,
   "metadata": {
    "collapsed": false
   },
   "outputs": [
    {
     "data": {
      "text/plain": [
       "['.ipynb_checkpoints',\n",
       " 'regular_express.txt',\n",
       " 'BASH.ipynb',\n",
       " 'tmp',\n",
       " '02.txt',\n",
       " '01.txt']"
      ]
     },
     "execution_count": 144,
     "metadata": {},
     "output_type": "execute_result"
    }
   ],
   "source": [
    "os.listdir(os.getcwd())"
   ]
  },
  {
   "cell_type": "code",
   "execution_count": 145,
   "metadata": {
    "collapsed": false
   },
   "outputs": [
    {
     "name": "stdout",
     "output_type": "stream",
     "text": [
      "01.txt  02.txt  BASH.ipynb  regular_express.txt  \u001b[0m\u001b[01;34mtmp\u001b[0m/\r\n"
     ]
    }
   ],
   "source": [
    "ls"
   ]
  },
  {
   "cell_type": "code",
   "execution_count": 147,
   "metadata": {
    "collapsed": false
   },
   "outputs": [],
   "source": [
    "os.removedirs(\"tmp\")"
   ]
  },
  {
   "cell_type": "code",
   "execution_count": 148,
   "metadata": {
    "collapsed": false
   },
   "outputs": [
    {
     "data": {
      "text/plain": [
       "['.ipynb_checkpoints', 'regular_express.txt', 'BASH.ipynb', '02.txt', '01.txt']"
      ]
     },
     "execution_count": 148,
     "metadata": {},
     "output_type": "execute_result"
    }
   ],
   "source": [
    "os.listdir(\".\")"
   ]
  },
  {
   "cell_type": "markdown",
   "metadata": {},
   "source": [
    "#### learn a bit of os.walk():"
   ]
  },
  {
   "cell_type": "code",
   "execution_count": 141,
   "metadata": {
    "collapsed": false
   },
   "outputs": [
    {
     "name": "stdout",
     "output_type": "stream",
     "text": [
      "/home/chweng/Desktop ['.ipynb_checkpoints'] ['regular_express.txt', 'BASH.ipynb', '02.txt', '01.txt']\n",
      "\n",
      "/home/chweng/Desktop/.ipynb_checkpoints [] ['BASH-checkpoint.ipynb']\n",
      "\n"
     ]
    }
   ],
   "source": [
    "for root,dirs,files in os.walk(os.getcwd()):\n",
    "    print root,dirs,files\n",
    "    print"
   ]
  },
  {
   "cell_type": "code",
   "execution_count": 139,
   "metadata": {
    "collapsed": false
   },
   "outputs": [
    {
     "name": "stdout",
     "output_type": "stream",
     "text": [
      "/home/chweng/Desktop/regular_express.txt\n",
      "/home/chweng/Desktop/BASH.ipynb\n",
      "/home/chweng/Desktop/02.txt\n",
      "/home/chweng/Desktop/01.txt\n",
      "/home/chweng/Desktop/.ipynb_checkpoints/BASH-checkpoint.ipynb\n"
     ]
    }
   ],
   "source": [
    "for root, dirs, files in os.walk(os.getcwd()):\n",
    "    for file in files:\n",
    "        print os.path.join(root,file)"
   ]
  },
  {
   "cell_type": "code",
   "execution_count": 140,
   "metadata": {
    "collapsed": false
   },
   "outputs": [
    {
     "name": "stdout",
     "output_type": "stream",
     "text": [
      "regular_express.txt\n",
      "02.txt\n",
      "01.txt\n"
     ]
    }
   ],
   "source": [
    "for root, dirs, files in os.walk(os.getcwd()):\n",
    "    for file in files:\n",
    "        if file.endswith('.txt'):\n",
    "            print file"
   ]
  },
  {
   "cell_type": "code",
   "execution_count": 129,
   "metadata": {
    "collapsed": false
   },
   "outputs": [
    {
     "name": "stdout",
     "output_type": "stream",
     "text": [
      "regex: /usr/include/regex.h /usr/share/man/man7/regex.7.gz /usr/share/man/man3/regex.3.gz\r\n"
     ]
    }
   ],
   "source": [
    "!whereis regex"
   ]
  },
  {
   "cell_type": "code",
   "execution_count": 134,
   "metadata": {
    "collapsed": false,
    "scrolled": true
   },
   "outputs": [
    {
     "name": "stdout",
     "output_type": "stream",
     "text": [
      "/sbin/ifconfig\n",
      "find: ‘/var/log/speech-dispatcher’: Permission denied\n",
      "find: ‘/var/spool/cron/crontabs’: Permission denied\n",
      "find: ‘/var/spool/rsyslog’: Permission denied\n",
      "find: ‘/var/spool/cups’: Permission denied\n",
      "find: ‘/var/tmp/systemd-private-afc138ceb54243c3a5716b4d8461193b-rtkit-daemon.service-D41G1R’: Permission denied\n",
      "find: ‘/var/tmp/systemd-private-afc138ceb54243c3a5716b4d8461193b-colord.service-xwcQ6G’: Permission denied\n",
      "find: ‘/var/cache/apt/archives/partial’: Permission denied\n",
      "find: ‘/var/cache/ldconfig’: Permission denied\n",
      "find: ‘/var/cache/cups’: Permission denied\n",
      "find: ‘/var/cache/lightdm/dmrc’: Permission denied\n",
      "find: ‘/var/lib/lightdm-data/lightdm’: Permission denied\n",
      "find: ‘/var/lib/udisks2’: Permission denied\n",
      "find: ‘/var/lib/colord/.cache’: Permission denied\n",
      "find: ‘/var/lib/polkit-1’: Permission denied\n",
      "find: ‘/var/lib/apt/lists/partial’: Permission denied\n",
      "find: ‘/var/lib/lightdm’: Permission denied\n",
      "find: ‘/run/udisks2’: Permission denied\n",
      "find: ‘/run/lightdm’: Permission denied\n",
      "find: ‘/run/cups/certs’: Permission denied\n",
      "find: ‘/run/sudo’: Permission denied\n",
      "find: ‘/run/lvm’: Permission denied\n",
      "find: ‘/run/systemd/ask-password-block’: Permission denied\n",
      "find: ‘/run/systemd/inaccessible’: Permission denied\n",
      "find: ‘/run/lock/lvm’: Permission denied\n",
      "find: ‘/root’: Permission denied\n",
      "find: ‘/etc/polkit-1/localauthority’: Permission denied\n",
      "find: ‘/etc/lvm/archive’: Permission denied\n",
      "find: ‘/etc/lvm/backup’: Permission denied\n",
      "find: ‘/etc/cups/ssl’: Permission denied\n",
      "find: ‘/etc/ssl/private’: Permission denied\n",
      "find: ‘/proc/tty/driver’: Permission denied\n",
      "find: ‘/proc/1/task/1/fd’: Permission denied\n",
      "find: ‘/proc/1/task/1/fdinfo’: Permission denied\n",
      "find: ‘/proc/1/task/1/ns’: Permission denied\n",
      "find: ‘/proc/1/fd’: Permission denied\n",
      "find: ‘/proc/1/map_files’: Permission denied\n",
      "find: ‘/proc/1/fdinfo’: Permission denied\n",
      "find: ‘/proc/1/ns’: Permission denied\n",
      "find: ‘/proc/2/task/2/fd’: Permission denied\n",
      "find: ‘/proc/2/task/2/fdinfo’: Permission denied\n",
      "find: ‘/proc/2/task/2/ns’: Permission denied\n",
      "find: ‘/proc/2/fd’: Permission denied\n",
      "find: ‘/proc/2/map_files’: Permission denied\n",
      "find: ‘/proc/2/fdinfo’: Permission denied\n",
      "find: ‘/proc/2/ns’: Permission denied\n",
      "find: ‘/proc/3/task/3/fd’: Permission denied\n",
      "find: ‘/proc/3/task/3/fdinfo’: Permission denied\n",
      "find: ‘/proc/3/task/3/ns’: Permission denied\n",
      "find: ‘/proc/3/fd’: Permission denied\n",
      "find: ‘/proc/3/map_files’: Permission denied\n",
      "find: ‘/proc/3/fdinfo’: Permission denied\n",
      "find: ‘/proc/3/ns’: Permission denied\n",
      "find: ‘/proc/5/task/5/fd’: Permission denied\n",
      "find: ‘/proc/5/task/5/fdinfo’: Permission denied\n",
      "find: ‘/proc/5/task/5/ns’: Permission denied\n",
      "find: ‘/proc/5/fd’: Permission denied\n",
      "find: ‘/proc/5/map_files’: Permission denied\n",
      "find: ‘/proc/5/fdinfo’: Permission denied\n",
      "find: ‘/proc/5/ns’: Permission denied\n",
      "find: ‘/proc/7/task/7/fd’: Permission denied\n",
      "find: ‘/proc/7/task/7/fdinfo’: Permission denied\n",
      "find: ‘/proc/7/task/7/ns’: Permission denied\n",
      "find: ‘/proc/7/fd’: Permission denied\n",
      "find: ‘/proc/7/map_files’: Permission denied\n",
      "find: ‘/proc/7/fdinfo’: Permission denied\n",
      "find: ‘/proc/7/ns’: Permission denied\n",
      "find: ‘/proc/8/task/8/fd’: Permission denied\n",
      "find: ‘/proc/8/task/8/fdinfo’: Permission denied\n",
      "find: ‘/proc/8/task/8/ns’: Permission denied\n",
      "find: ‘/proc/8/fd’: Permission denied\n",
      "find: ‘/proc/8/map_files’: Permission denied\n",
      "find: ‘/proc/8/fdinfo’: Permission denied\n",
      "find: ‘/proc/8/ns’: Permission denied\n",
      "find: ‘/proc/9/task/9/fd’: Permission denied\n",
      "find: ‘/proc/9/task/9/fdinfo’: Permission denied\n",
      "find: ‘/proc/9/task/9/ns’: Permission denied\n",
      "find: ‘/proc/9/fd’: Permission denied\n",
      "find: ‘/proc/9/map_files’: Permission denied\n",
      "find: ‘/proc/9/fdinfo’: Permission denied\n",
      "find: ‘/proc/9/ns’: Permission denied\n",
      "find: ‘/proc/10/task/10/fd’: Permission denied\n",
      "find: ‘/proc/10/task/10/fdinfo’: Permission denied\n",
      "find: ‘/proc/10/task/10/ns’: Permission denied\n",
      "find: ‘/proc/10/fd’: Permission denied\n",
      "find: ‘/proc/10/map_files’: Permission denied\n",
      "find: ‘/proc/10/fdinfo’: Permission denied\n",
      "find: ‘/proc/10/ns’: Permission denied\n",
      "find: ‘/proc/11/task/11/fd’: Permission denied\n",
      "find: ‘/proc/11/task/11/fdinfo’: Permission denied\n",
      "find: ‘/proc/11/task/11/ns’: Permission denied\n",
      "find: ‘/proc/11/fd’: Permission denied\n",
      "find: ‘/proc/11/map_files’: Permission denied\n",
      "find: ‘/proc/11/fdinfo’: Permission denied\n",
      "find: ‘/proc/11/ns’: Permission denied\n",
      "find: ‘/proc/12/task/12/fd’: Permission denied\n",
      "find: ‘/proc/12/task/12/fdinfo’: Permission denied\n",
      "find: ‘/proc/12/task/12/ns’: Permission denied\n",
      "find: ‘/proc/12/fd’: Permission denied\n",
      "find: ‘/proc/12/map_files’: Permission denied\n",
      "find: ‘/proc/12/fdinfo’: Permission denied\n",
      "find: ‘/proc/12/ns’: Permission denied\n",
      "find: ‘/proc/13/task/13/fd’: Permission denied\n",
      "find: ‘/proc/13/task/13/fdinfo’: Permission denied\n",
      "find: ‘/proc/13/task/13/ns’: Permission denied\n",
      "find: ‘/proc/13/fd’: Permission denied\n",
      "find: ‘/proc/13/map_files’: Permission denied\n",
      "find: ‘/proc/13/fdinfo’: Permission denied\n",
      "find: ‘/proc/13/ns’: Permission denied\n",
      "find: ‘/proc/15/task/15/fd’: Permission denied\n",
      "find: ‘/proc/15/task/15/fdinfo’: Permission denied\n",
      "find: ‘/proc/15/task/15/ns’: Permission denied\n",
      "find: ‘/proc/15/fd’: Permission denied\n",
      "find: ‘/proc/15/map_files’: Permission denied\n",
      "find: ‘/proc/15/fdinfo’: Permission denied\n",
      "find: ‘/proc/15/ns’: Permission denied\n",
      "find: ‘/proc/16/task/16/fd’: Permission denied\n",
      "find: ‘/proc/16/task/16/fdinfo’: Permission denied\n",
      "find: ‘/proc/16/task/16/ns’: Permission denied\n",
      "find: ‘/proc/16/fd’: Permission denied\n",
      "find: ‘/proc/16/map_files’: Permission denied\n",
      "find: ‘/proc/16/fdinfo’: Permission denied\n",
      "find: ‘/proc/16/ns’: Permission denied\n",
      "find: ‘/proc/17/task/17/fd’: Permission denied\n",
      "find: ‘/proc/17/task/17/fdinfo’: Permission denied\n",
      "find: ‘/proc/17/task/17/ns’: Permission denied\n",
      "find: ‘/proc/17/fd’: Permission denied\n",
      "find: ‘/proc/17/map_files’: Permission denied\n",
      "find: ‘/proc/17/fdinfo’: Permission denied\n",
      "find: ‘/proc/17/ns’: Permission denied\n",
      "find: ‘/proc/18/task/18/fd’: Permission denied\n",
      "find: ‘/proc/18/task/18/fdinfo’: Permission denied\n",
      "find: ‘/proc/18/task/18/ns’: Permission denied\n",
      "find: ‘/proc/18/fd’: Permission denied\n",
      "find: ‘/proc/18/map_files’: Permission denied\n",
      "find: ‘/proc/18/fdinfo’: Permission denied\n",
      "find: ‘/proc/18/ns’: Permission denied\n",
      "find: ‘/proc/19/task/19/fd’: Permission denied\n",
      "find: ‘/proc/19/task/19/fdinfo’: Permission denied\n",
      "find: ‘/proc/19/task/19/ns’: Permission denied\n",
      "find: ‘/proc/19/fd’: Permission denied\n",
      "find: ‘/proc/19/map_files’: Permission denied\n",
      "find: ‘/proc/19/fdinfo’: Permission denied\n",
      "find: ‘/proc/19/ns’: Permission denied\n",
      "find: ‘/proc/20/task/20/fd’: Permission denied\n",
      "find: ‘/proc/20/task/20/fdinfo’: Permission denied\n",
      "find: ‘/proc/20/task/20/ns’: Permission denied\n",
      "find: ‘/proc/20/fd’: Permission denied\n",
      "find: ‘/proc/20/map_files’: Permission denied\n",
      "find: ‘/proc/20/fdinfo’: Permission denied\n",
      "find: ‘/proc/20/ns’: Permission denied\n",
      "find: ‘/proc/21/task/21/fd’: Permission denied\n",
      "find: ‘/proc/21/task/21/fdinfo’: Permission denied\n",
      "find: ‘/proc/21/task/21/ns’: Permission denied\n",
      "find: ‘/proc/21/fd’: Permission denied\n",
      "find: ‘/proc/21/map_files’: Permission denied\n",
      "find: ‘/proc/21/fdinfo’: Permission denied\n",
      "find: ‘/proc/21/ns’: Permission denied\n",
      "find: ‘/proc/22/task/22/fd’: Permission denied\n",
      "find: ‘/proc/22/task/22/fdinfo’: Permission denied\n",
      "find: ‘/proc/22/task/22/ns’: Permission denied\n",
      "find: ‘/proc/22/fd’: Permission denied\n",
      "find: ‘/proc/22/map_files’: Permission denied\n",
      "find: ‘/proc/22/fdinfo’: Permission denied\n",
      "find: ‘/proc/22/ns’: Permission denied\n",
      "find: ‘/proc/23/task/23/fd’: Permission denied\n",
      "find: ‘/proc/23/task/23/fdinfo’: Permission denied\n",
      "find: ‘/proc/23/task/23/ns’: Permission denied\n",
      "find: ‘/proc/23/fd’: Permission denied\n",
      "find: ‘/proc/23/map_files’: Permission denied\n",
      "find: ‘/proc/23/fdinfo’: Permission denied\n",
      "find: ‘/proc/23/ns’: Permission denied\n",
      "find: ‘/proc/24/task/24/fd’: Permission denied\n",
      "find: ‘/proc/24/task/24/fdinfo’: Permission denied\n",
      "find: ‘/proc/24/task/24/ns’: Permission denied\n",
      "find: ‘/proc/24/fd’: Permission denied\n",
      "find: ‘/proc/24/map_files’: Permission denied\n",
      "find: ‘/proc/24/fdinfo’: Permission denied\n",
      "find: ‘/proc/24/ns’: Permission denied\n",
      "find: ‘/proc/25/task/25/fd’: Permission denied\n",
      "find: ‘/proc/25/task/25/fdinfo’: Permission denied\n",
      "find: ‘/proc/25/task/25/ns’: Permission denied\n",
      "find: ‘/proc/25/fd’: Permission denied\n",
      "find: ‘/proc/25/map_files’: Permission denied\n",
      "find: ‘/proc/25/fdinfo’: Permission denied\n",
      "find: ‘/proc/25/ns’: Permission denied\n",
      "find: ‘/proc/26/task/26/fd’: Permission denied\n",
      "find: ‘/proc/26/task/26/fdinfo’: Permission denied\n",
      "find: ‘/proc/26/task/26/ns’: Permission denied\n",
      "find: ‘/proc/26/fd’: Permission denied\n",
      "find: ‘/proc/26/map_files’: Permission denied\n",
      "find: ‘/proc/26/fdinfo’: Permission denied\n",
      "find: ‘/proc/26/ns’: Permission denied\n",
      "find: ‘/proc/27/task/27/fd’: Permission denied\n",
      "find: ‘/proc/27/task/27/fdinfo’: Permission denied\n",
      "find: ‘/proc/27/task/27/ns’: Permission denied\n",
      "find: ‘/proc/27/fd’: Permission denied\n",
      "find: ‘/proc/27/map_files’: Permission denied\n",
      "find: ‘/proc/27/fdinfo’: Permission denied\n",
      "find: ‘/proc/27/ns’: Permission denied\n",
      "find: ‘/proc/28/task/28/fd’: Permission denied\n",
      "find: ‘/proc/28/task/28/fdinfo’: Permission denied\n",
      "find: ‘/proc/28/task/28/ns’: Permission denied\n",
      "find: ‘/proc/28/fd’: Permission denied\n",
      "find: ‘/proc/28/map_files’: Permission denied\n",
      "find: ‘/proc/28/fdinfo’: Permission denied\n",
      "find: ‘/proc/28/ns’: Permission denied\n",
      "find: ‘/proc/29/task/29/fd’: Permission denied\n",
      "find: ‘/proc/29/task/29/fdinfo’: Permission denied\n",
      "find: ‘/proc/29/task/29/ns’: Permission denied\n",
      "find: ‘/proc/29/fd’: Permission denied\n",
      "find: ‘/proc/29/map_files’: Permission denied\n",
      "find: ‘/proc/29/fdinfo’: Permission denied\n",
      "find: ‘/proc/29/ns’: Permission denied\n",
      "find: ‘/proc/34/task/34/fd’: Permission denied\n",
      "find: ‘/proc/34/task/34/fdinfo’: Permission denied\n",
      "find: ‘/proc/34/task/34/ns’: Permission denied\n",
      "find: ‘/proc/34/fd’: Permission denied\n",
      "find: ‘/proc/34/map_files’: Permission denied\n",
      "find: ‘/proc/34/fdinfo’: Permission denied\n",
      "find: ‘/proc/34/ns’: Permission denied\n",
      "find: ‘/proc/35/task/35/fd’: Permission denied\n",
      "find: ‘/proc/35/task/35/fdinfo’: Permission denied\n",
      "find: ‘/proc/35/task/35/ns’: Permission denied\n",
      "find: ‘/proc/35/fd’: Permission denied\n",
      "find: ‘/proc/35/map_files’: Permission denied\n",
      "find: ‘/proc/35/fdinfo’: Permission denied\n",
      "find: ‘/proc/35/ns’: Permission denied\n",
      "find: ‘/proc/36/task/36/fd’: Permission denied\n",
      "find: ‘/proc/36/task/36/fdinfo’: Permission denied\n",
      "find: ‘/proc/36/task/36/ns’: Permission denied\n",
      "find: ‘/proc/36/fd’: Permission denied\n",
      "find: ‘/proc/36/map_files’: Permission denied\n",
      "find: ‘/proc/36/fdinfo’: Permission denied\n",
      "find: ‘/proc/36/ns’: Permission denied\n",
      "find: ‘/proc/37/task/37/fd’: Permission denied\n",
      "find: ‘/proc/37/task/37/fdinfo’: Permission denied\n",
      "find: ‘/proc/37/task/37/ns’: Permission denied\n",
      "find: ‘/proc/37/fd’: Permission denied\n",
      "find: ‘/proc/37/map_files’: Permission denied\n",
      "find: ‘/proc/37/fdinfo’: Permission denied\n",
      "find: ‘/proc/37/ns’: Permission denied\n",
      "find: ‘/proc/53/task/53/fd’: Permission denied\n",
      "find: ‘/proc/53/task/53/fdinfo’: Permission denied\n",
      "find: ‘/proc/53/task/53/ns’: Permission denied\n",
      "find: ‘/proc/53/fd’: Permission denied\n",
      "find: ‘/proc/53/map_files’: Permission denied\n",
      "find: ‘/proc/53/fdinfo’: Permission denied\n",
      "find: ‘/proc/53/ns’: Permission denied\n",
      "find: ‘/proc/54/task/54/fd’: Permission denied\n",
      "find: ‘/proc/54/task/54/fdinfo’: Permission denied\n",
      "find: ‘/proc/54/task/54/ns’: Permission denied\n",
      "find: ‘/proc/54/fd’: Permission denied\n",
      "find: ‘/proc/54/map_files’: Permission denied\n",
      "find: ‘/proc/54/fdinfo’: Permission denied\n",
      "find: ‘/proc/54/ns’: Permission denied\n",
      "find: ‘/proc/55/task/55/fd’: Permission denied\n",
      "find: ‘/proc/55/task/55/fdinfo’: Permission denied\n",
      "find: ‘/proc/55/task/55/ns’: Permission denied\n",
      "find: ‘/proc/55/fd’: Permission denied\n",
      "find: ‘/proc/55/map_files’: Permission denied\n",
      "find: ‘/proc/55/fdinfo’: Permission denied\n",
      "find: ‘/proc/55/ns’: Permission denied\n",
      "find: ‘/proc/56/task/56/fd’: Permission denied\n",
      "find: ‘/proc/56/task/56/fdinfo’: Permission denied\n",
      "find: ‘/proc/56/task/56/ns’: Permission denied\n",
      "find: ‘/proc/56/fd’: Permission denied\n",
      "find: ‘/proc/56/map_files’: Permission denied\n",
      "find: ‘/proc/56/fdinfo’: Permission denied\n",
      "find: ‘/proc/56/ns’: Permission denied\n",
      "find: ‘/proc/57/task/57/fd’: Permission denied\n",
      "find: ‘/proc/57/task/57/fdinfo’: Permission denied\n",
      "find: ‘/proc/57/task/57/ns’: Permission denied\n",
      "find: ‘/proc/57/fd’: Permission denied\n",
      "find: ‘/proc/57/map_files’: Permission denied\n",
      "find: ‘/proc/57/fdinfo’: Permission denied\n",
      "find: ‘/proc/57/ns’: Permission denied\n",
      "find: ‘/proc/58/task/58/fd’: Permission denied\n",
      "find: ‘/proc/58/task/58/fdinfo’: Permission denied\n",
      "find: ‘/proc/58/task/58/ns’: Permission denied\n",
      "find: ‘/proc/58/fd’: Permission denied\n",
      "find: ‘/proc/58/map_files’: Permission denied\n",
      "find: ‘/proc/58/fdinfo’: Permission denied\n",
      "find: ‘/proc/58/ns’: Permission denied\n",
      "find: ‘/proc/59/task/59/fd’: Permission denied\n",
      "find: ‘/proc/59/task/59/fdinfo’: Permission denied\n",
      "find: ‘/proc/59/task/59/ns’: Permission denied\n",
      "find: ‘/proc/59/fd’: Permission denied\n",
      "find: ‘/proc/59/map_files’: Permission denied\n",
      "find: ‘/proc/59/fdinfo’: Permission denied\n",
      "find: ‘/proc/59/ns’: Permission denied\n",
      "find: ‘/proc/60/task/60/fd’: Permission denied\n",
      "find: ‘/proc/60/task/60/fdinfo’: Permission denied\n",
      "find: ‘/proc/60/task/60/ns’: Permission denied\n",
      "find: ‘/proc/60/fd’: Permission denied\n",
      "find: ‘/proc/60/map_files’: Permission denied\n",
      "find: ‘/proc/60/fdinfo’: Permission denied\n",
      "find: ‘/proc/60/ns’: Permission denied\n",
      "find: ‘/proc/61/task/61/fd’: Permission denied\n",
      "find: ‘/proc/61/task/61/fdinfo’: Permission denied\n",
      "find: ‘/proc/61/task/61/ns’: Permission denied\n",
      "find: ‘/proc/61/fd’: Permission denied\n",
      "find: ‘/proc/61/map_files’: Permission denied\n",
      "find: ‘/proc/61/fdinfo’: Permission denied\n",
      "find: ‘/proc/61/ns’: Permission denied\n",
      "find: ‘/proc/62/task/62/fd’: Permission denied\n",
      "find: ‘/proc/62/task/62/fdinfo’: Permission denied\n",
      "find: ‘/proc/62/task/62/ns’: Permission denied\n",
      "find: ‘/proc/62/fd’: Permission denied\n",
      "find: ‘/proc/62/map_files’: Permission denied\n",
      "find: ‘/proc/62/fdinfo’: Permission denied\n",
      "find: ‘/proc/62/ns’: Permission denied\n",
      "find: ‘/proc/63/task/63/fd’: Permission denied\n",
      "find: ‘/proc/63/task/63/fdinfo’: Permission denied\n",
      "find: ‘/proc/63/task/63/ns’: Permission denied\n",
      "find: ‘/proc/63/fd’: Permission denied\n",
      "find: ‘/proc/63/map_files’: Permission denied\n",
      "find: ‘/proc/63/fdinfo’: Permission denied\n",
      "find: ‘/proc/63/ns’: Permission denied\n",
      "find: ‘/proc/64/task/64/fd’: Permission denied\n",
      "find: ‘/proc/64/task/64/fdinfo’: Permission denied\n",
      "find: ‘/proc/64/task/64/ns’: Permission denied\n",
      "find: ‘/proc/64/fd’: Permission denied\n",
      "find: ‘/proc/64/map_files’: Permission denied\n",
      "find: ‘/proc/64/fdinfo’: Permission denied\n",
      "find: ‘/proc/64/ns’: Permission denied\n",
      "find: ‘/proc/65/task/65/fd’: Permission denied\n",
      "find: ‘/proc/65/task/65/fdinfo’: Permission denied\n",
      "find: ‘/proc/65/task/65/ns’: Permission denied\n",
      "find: ‘/proc/65/fd’: Permission denied\n",
      "find: ‘/proc/65/map_files’: Permission denied\n",
      "find: ‘/proc/65/fdinfo’: Permission denied\n",
      "find: ‘/proc/65/ns’: Permission denied\n",
      "find: ‘/proc/66/task/66/fd’: Permission denied\n",
      "find: ‘/proc/66/task/66/fdinfo’: Permission denied\n",
      "find: ‘/proc/66/task/66/ns’: Permission denied\n",
      "find: ‘/proc/66/fd’: Permission denied\n",
      "find: ‘/proc/66/map_files’: Permission denied\n",
      "find: ‘/proc/66/fdinfo’: Permission denied\n",
      "find: ‘/proc/66/ns’: Permission denied\n",
      "find: ‘/proc/67/task/67/fd’: Permission denied\n",
      "find: ‘/proc/67/task/67/fdinfo’: Permission denied\n",
      "find: ‘/proc/67/task/67/ns’: Permission denied\n",
      "find: ‘/proc/67/fd’: Permission denied\n",
      "find: ‘/proc/67/map_files’: Permission denied\n",
      "find: ‘/proc/67/fdinfo’: Permission denied\n",
      "find: ‘/proc/67/ns’: Permission denied\n",
      "find: ‘/proc/68/task/68/fd’: Permission denied\n",
      "find: ‘/proc/68/task/68/fdinfo’: Permission denied\n",
      "find: ‘/proc/68/task/68/ns’: Permission denied\n",
      "find: ‘/proc/68/fd’: Permission denied\n",
      "find: ‘/proc/68/map_files’: Permission denied\n",
      "find: ‘/proc/68/fdinfo’: Permission denied\n",
      "find: ‘/proc/68/ns’: Permission denied\n",
      "find: ‘/proc/69/task/69/fd’: Permission denied\n",
      "find: ‘/proc/69/task/69/fdinfo’: Permission denied\n",
      "find: ‘/proc/69/task/69/ns’: Permission denied\n",
      "find: ‘/proc/69/fd’: Permission denied\n",
      "find: ‘/proc/69/map_files’: Permission denied\n",
      "find: ‘/proc/69/fdinfo’: Permission denied\n",
      "find: ‘/proc/69/ns’: Permission denied\n",
      "find: ‘/proc/70/task/70/fd’: Permission denied\n",
      "find: ‘/proc/70/task/70/fdinfo’: Permission denied\n",
      "find: ‘/proc/70/task/70/ns’: Permission denied\n",
      "find: ‘/proc/70/fd’: Permission denied\n",
      "find: ‘/proc/70/map_files’: Permission denied\n",
      "find: ‘/proc/70/fdinfo’: Permission denied\n",
      "find: ‘/proc/70/ns’: Permission denied\n",
      "find: ‘/proc/71/task/71/fd’: Permission denied\n",
      "find: ‘/proc/71/task/71/fdinfo’: Permission denied\n",
      "find: ‘/proc/71/task/71/ns’: Permission denied\n",
      "find: ‘/proc/71/fd’: Permission denied\n",
      "find: ‘/proc/71/map_files’: Permission denied\n",
      "find: ‘/proc/71/fdinfo’: Permission denied\n",
      "find: ‘/proc/71/ns’: Permission denied\n",
      "find: ‘/proc/72/task/72/fd’: Permission denied\n",
      "find: ‘/proc/72/task/72/fdinfo’: Permission denied\n",
      "find: ‘/proc/72/task/72/ns’: Permission denied\n",
      "find: ‘/proc/72/fd’: Permission denied\n",
      "find: ‘/proc/72/map_files’: Permission denied\n",
      "find: ‘/proc/72/fdinfo’: Permission denied\n",
      "find: ‘/proc/72/ns’: Permission denied\n",
      "find: ‘/proc/73/task/73/fd’: Permission denied\n",
      "find: ‘/proc/73/task/73/fdinfo’: Permission denied\n",
      "find: ‘/proc/73/task/73/ns’: Permission denied\n",
      "find: ‘/proc/73/fd’: Permission denied\n",
      "find: ‘/proc/73/map_files’: Permission denied\n",
      "find: ‘/proc/73/fdinfo’: Permission denied\n",
      "find: ‘/proc/73/ns’: Permission denied\n",
      "find: ‘/proc/74/task/74/fd’: Permission denied\n",
      "find: ‘/proc/74/task/74/fdinfo’: Permission denied\n",
      "find: ‘/proc/74/task/74/ns’: Permission denied\n",
      "find: ‘/proc/74/fd’: Permission denied\n",
      "find: ‘/proc/74/map_files’: Permission denied\n",
      "find: ‘/proc/74/fdinfo’: Permission denied\n",
      "find: ‘/proc/74/ns’: Permission denied\n",
      "find: ‘/proc/75/task/75/fd’: Permission denied\n",
      "find: ‘/proc/75/task/75/fdinfo’: Permission denied\n",
      "find: ‘/proc/75/task/75/ns’: Permission denied\n",
      "find: ‘/proc/75/fd’: Permission denied\n",
      "find: ‘/proc/75/map_files’: Permission denied\n",
      "find: ‘/proc/75/fdinfo’: Permission denied\n",
      "find: ‘/proc/75/ns’: Permission denied\n",
      "find: ‘/proc/76/task/76/fd’: Permission denied\n",
      "find: ‘/proc/76/task/76/fdinfo’: Permission denied\n",
      "find: ‘/proc/76/task/76/ns’: Permission denied\n",
      "find: ‘/proc/76/fd’: Permission denied\n",
      "find: ‘/proc/76/map_files’: Permission denied\n",
      "find: ‘/proc/76/fdinfo’: Permission denied\n",
      "find: ‘/proc/76/ns’: Permission denied\n",
      "find: ‘/proc/77/task/77/fd’: Permission denied\n",
      "find: ‘/proc/77/task/77/fdinfo’: Permission denied\n",
      "find: ‘/proc/77/task/77/ns’: Permission denied\n",
      "find: ‘/proc/77/fd’: Permission denied\n",
      "find: ‘/proc/77/map_files’: Permission denied\n",
      "find: ‘/proc/77/fdinfo’: Permission denied\n",
      "find: ‘/proc/77/ns’: Permission denied\n",
      "find: ‘/proc/78/task/78/fd’: Permission denied\n",
      "find: ‘/proc/78/task/78/fdinfo’: Permission denied\n",
      "find: ‘/proc/78/task/78/ns’: Permission denied\n",
      "find: ‘/proc/78/fd’: Permission denied\n",
      "find: ‘/proc/78/map_files’: Permission denied\n",
      "find: ‘/proc/78/fdinfo’: Permission denied\n",
      "find: ‘/proc/78/ns’: Permission denied\n",
      "find: ‘/proc/79/task/79/fd’: Permission denied\n",
      "find: ‘/proc/79/task/79/fdinfo’: Permission denied\n",
      "find: ‘/proc/79/task/79/ns’: Permission denied\n",
      "find: ‘/proc/79/fd’: Permission denied\n",
      "find: ‘/proc/79/map_files’: Permission denied\n",
      "find: ‘/proc/79/fdinfo’: Permission denied\n",
      "find: ‘/proc/79/ns’: Permission denied\n",
      "find: ‘/proc/80/task/80/fd’: Permission denied\n",
      "find: ‘/proc/80/task/80/fdinfo’: Permission denied\n",
      "find: ‘/proc/80/task/80/ns’: Permission denied\n",
      "find: ‘/proc/80/fd’: Permission denied\n",
      "find: ‘/proc/80/map_files’: Permission denied\n",
      "find: ‘/proc/80/fdinfo’: Permission denied\n",
      "find: ‘/proc/80/ns’: Permission denied\n",
      "find: ‘/proc/81/task/81/fd’: Permission denied\n",
      "find: ‘/proc/81/task/81/fdinfo’: Permission denied\n",
      "find: ‘/proc/81/task/81/ns’: Permission denied\n",
      "find: ‘/proc/81/fd’: Permission denied\n",
      "find: ‘/proc/81/map_files’: Permission denied\n",
      "find: ‘/proc/81/fdinfo’: Permission denied\n",
      "find: ‘/proc/81/ns’: Permission denied\n",
      "find: ‘/proc/82/task/82/fd’: Permission denied\n",
      "find: ‘/proc/82/task/82/fdinfo’: Permission denied\n",
      "find: ‘/proc/82/task/82/ns’: Permission denied\n",
      "find: ‘/proc/82/fd’: Permission denied\n",
      "find: ‘/proc/82/map_files’: Permission denied\n",
      "find: ‘/proc/82/fdinfo’: Permission denied\n",
      "find: ‘/proc/82/ns’: Permission denied\n",
      "find: ‘/proc/88/task/88/fd’: Permission denied\n",
      "find: ‘/proc/88/task/88/fdinfo’: Permission denied\n",
      "find: ‘/proc/88/task/88/ns’: Permission denied\n",
      "find: ‘/proc/88/fd’: Permission denied\n",
      "find: ‘/proc/88/map_files’: Permission denied\n",
      "find: ‘/proc/88/fdinfo’: Permission denied\n",
      "find: ‘/proc/88/ns’: Permission denied\n",
      "find: ‘/proc/101/task/101/fd’: Permission denied\n",
      "find: ‘/proc/101/task/101/fdinfo’: Permission denied\n",
      "find: ‘/proc/101/task/101/ns’: Permission denied\n",
      "find: ‘/proc/101/fd’: Permission denied\n",
      "find: ‘/proc/101/map_files’: Permission denied\n",
      "find: ‘/proc/101/fdinfo’: Permission denied\n",
      "find: ‘/proc/101/ns’: Permission denied\n",
      "find: ‘/proc/102/task/102/fd’: Permission denied\n",
      "find: ‘/proc/102/task/102/fdinfo’: Permission denied\n",
      "find: ‘/proc/102/task/102/ns’: Permission denied\n",
      "find: ‘/proc/102/fd’: Permission denied\n",
      "find: ‘/proc/102/map_files’: Permission denied\n",
      "find: ‘/proc/102/fdinfo’: Permission denied\n",
      "find: ‘/proc/102/ns’: Permission denied\n",
      "find: ‘/proc/103/task/103/fd’: Permission denied\n",
      "find: ‘/proc/103/task/103/fdinfo’: Permission denied\n",
      "find: ‘/proc/103/task/103/ns’: Permission denied\n",
      "find: ‘/proc/103/fd’: Permission denied\n",
      "find: ‘/proc/103/map_files’: Permission denied\n",
      "find: ‘/proc/103/fdinfo’: Permission denied\n",
      "find: ‘/proc/103/ns’: Permission denied\n",
      "find: ‘/proc/142/task/142/fd’: Permission denied\n",
      "find: ‘/proc/142/task/142/fdinfo’: Permission denied\n",
      "find: ‘/proc/142/task/142/ns’: Permission denied\n",
      "find: ‘/proc/142/fd’: Permission denied\n",
      "find: ‘/proc/142/map_files’: Permission denied\n",
      "find: ‘/proc/142/fdinfo’: Permission denied\n",
      "find: ‘/proc/142/ns’: Permission denied\n",
      "find: ‘/proc/151/task/151/fd’: Permission denied\n",
      "find: ‘/proc/151/task/151/fdinfo’: Permission denied\n",
      "find: ‘/proc/151/task/151/ns’: Permission denied\n",
      "find: ‘/proc/151/fd’: Permission denied\n",
      "find: ‘/proc/151/map_files’: Permission denied\n",
      "find: ‘/proc/151/fdinfo’: Permission denied\n",
      "find: ‘/proc/151/ns’: Permission denied\n",
      "find: ‘/proc/152/task/152/fd’: Permission denied\n",
      "find: ‘/proc/152/task/152/fdinfo’: Permission denied\n",
      "find: ‘/proc/152/task/152/ns’: Permission denied\n",
      "find: ‘/proc/152/fd’: Permission denied\n",
      "find: ‘/proc/152/map_files’: Permission denied\n",
      "find: ‘/proc/152/fdinfo’: Permission denied\n",
      "find: ‘/proc/152/ns’: Permission denied\n",
      "find: ‘/proc/153/task/153/fd’: Permission denied\n",
      "find: ‘/proc/153/task/153/fdinfo’: Permission denied\n",
      "find: ‘/proc/153/task/153/ns’: Permission denied\n",
      "find: ‘/proc/153/fd’: Permission denied\n",
      "find: ‘/proc/153/map_files’: Permission denied\n",
      "find: ‘/proc/153/fdinfo’: Permission denied\n",
      "find: ‘/proc/153/ns’: Permission denied\n",
      "find: ‘/proc/168/task/168/fd’: Permission denied\n",
      "find: ‘/proc/168/task/168/fdinfo’: Permission denied\n",
      "find: ‘/proc/168/task/168/ns’: Permission denied\n",
      "find: ‘/proc/168/fd’: Permission denied\n",
      "find: ‘/proc/168/map_files’: Permission denied\n",
      "find: ‘/proc/168/fdinfo’: Permission denied\n",
      "find: ‘/proc/168/ns’: Permission denied\n",
      "find: ‘/proc/171/task/171/fd’: Permission denied\n",
      "find: ‘/proc/171/task/171/fdinfo’: Permission denied\n",
      "find: ‘/proc/171/task/171/ns’: Permission denied\n",
      "find: ‘/proc/171/fd’: Permission denied\n",
      "find: ‘/proc/171/map_files’: Permission denied\n",
      "find: ‘/proc/171/fdinfo’: Permission denied\n",
      "find: ‘/proc/171/ns’: Permission denied\n",
      "find: ‘/proc/194/task/194/fd’: Permission denied\n",
      "find: ‘/proc/194/task/194/fdinfo’: Permission denied\n",
      "find: ‘/proc/194/task/194/ns’: Permission denied\n",
      "find: ‘/proc/194/fd’: Permission denied\n",
      "find: ‘/proc/194/map_files’: Permission denied\n",
      "find: ‘/proc/194/fdinfo’: Permission denied\n",
      "find: ‘/proc/194/ns’: Permission denied\n",
      "find: ‘/proc/198/task/198/fd’: Permission denied\n",
      "find: ‘/proc/198/task/198/fdinfo’: Permission denied\n",
      "find: ‘/proc/198/task/198/ns’: Permission denied\n",
      "find: ‘/proc/198/fd’: Permission denied\n",
      "find: ‘/proc/198/map_files’: Permission denied\n",
      "find: ‘/proc/198/fdinfo’: Permission denied\n",
      "find: ‘/proc/198/ns’: Permission denied\n",
      "find: ‘/proc/199/task/199/fd’: Permission denied\n",
      "find: ‘/proc/199/task/199/fdinfo’: Permission denied\n",
      "find: ‘/proc/199/task/199/ns’: Permission denied\n",
      "find: ‘/proc/199/fd’: Permission denied\n",
      "find: ‘/proc/199/map_files’: Permission denied\n",
      "find: ‘/proc/199/fdinfo’: Permission denied\n",
      "find: ‘/proc/199/ns’: Permission denied\n",
      "find: ‘/proc/228/task/228/fd’: Permission denied\n",
      "find: ‘/proc/228/task/228/fdinfo’: Permission denied\n",
      "find: ‘/proc/228/task/228/ns’: Permission denied\n",
      "find: ‘/proc/228/fd’: Permission denied\n",
      "find: ‘/proc/228/map_files’: Permission denied\n",
      "find: ‘/proc/228/fdinfo’: Permission denied\n",
      "find: ‘/proc/228/ns’: Permission denied\n",
      "find: ‘/proc/251/task/251/fd’: Permission denied\n",
      "find: ‘/proc/251/task/251/fdinfo’: Permission denied\n",
      "find: ‘/proc/251/task/251/ns’: Permission denied\n",
      "find: ‘/proc/251/fd’: Permission denied\n",
      "find: ‘/proc/251/map_files’: Permission denied\n",
      "find: ‘/proc/251/fdinfo’: Permission denied\n",
      "find: ‘/proc/251/ns’: Permission denied\n",
      "find: ‘/proc/265/task/265/fd’: Permission denied\n",
      "find: ‘/proc/265/task/265/fdinfo’: Permission denied\n",
      "find: ‘/proc/265/task/265/ns’: Permission denied\n",
      "find: ‘/proc/265/fd’: Permission denied\n",
      "find: ‘/proc/265/map_files’: Permission denied\n",
      "find: ‘/proc/265/fdinfo’: Permission denied\n",
      "find: ‘/proc/265/ns’: Permission denied\n",
      "find: ‘/proc/279/task/279/fd’: Permission denied\n",
      "find: ‘/proc/279/task/279/fdinfo’: Permission denied\n",
      "find: ‘/proc/279/task/279/ns’: Permission denied\n",
      "find: ‘/proc/279/fd’: Permission denied\n",
      "find: ‘/proc/279/map_files’: Permission denied\n",
      "find: ‘/proc/279/fdinfo’: Permission denied\n",
      "find: ‘/proc/279/ns’: Permission denied\n",
      "find: ‘/proc/330/task/330/fd’: Permission denied\n",
      "find: ‘/proc/330/task/330/fdinfo’: Permission denied\n",
      "find: ‘/proc/330/task/330/ns’: Permission denied\n",
      "find: ‘/proc/330/fd’: Permission denied\n",
      "find: ‘/proc/330/map_files’: Permission denied\n",
      "find: ‘/proc/330/fdinfo’: Permission denied\n",
      "find: ‘/proc/330/ns’: Permission denied\n",
      "find: ‘/proc/335/task/335/fd’: Permission denied\n",
      "find: ‘/proc/335/task/335/fdinfo’: Permission denied\n",
      "find: ‘/proc/335/task/335/ns’: Permission denied\n",
      "find: ‘/proc/335/fd’: Permission denied\n",
      "find: ‘/proc/335/map_files’: Permission denied\n",
      "find: ‘/proc/335/fdinfo’: Permission denied\n",
      "find: ‘/proc/335/ns’: Permission denied\n",
      "find: ‘/proc/356/task/356/fd’: Permission denied\n",
      "find: ‘/proc/356/task/356/fdinfo’: Permission denied\n",
      "find: ‘/proc/356/task/356/ns’: Permission denied\n",
      "find: ‘/proc/356/fd’: Permission denied\n",
      "find: ‘/proc/356/map_files’: Permission denied\n",
      "find: ‘/proc/356/fdinfo’: Permission denied\n",
      "find: ‘/proc/356/ns’: Permission denied\n",
      "find: ‘/proc/457/task/457/fd’: Permission denied\n",
      "find: ‘/proc/457/task/457/fdinfo’: Permission denied\n",
      "find: ‘/proc/457/task/457/ns’: Permission denied\n",
      "find: ‘/proc/457/fd’: Permission denied\n",
      "find: ‘/proc/457/map_files’: Permission denied\n",
      "find: ‘/proc/457/fdinfo’: Permission denied\n",
      "find: ‘/proc/457/ns’: Permission denied\n",
      "find: ‘/proc/458/task/458/fd’: Permission denied\n",
      "find: ‘/proc/458/task/458/fdinfo’: Permission denied\n",
      "find: ‘/proc/458/task/458/ns’: Permission denied\n",
      "find: ‘/proc/458/fd’: Permission denied\n",
      "find: ‘/proc/458/map_files’: Permission denied\n",
      "find: ‘/proc/458/fdinfo’: Permission denied\n",
      "find: ‘/proc/458/ns’: Permission denied\n",
      "find: ‘/proc/472/task/472/fd’: Permission denied\n",
      "find: ‘/proc/472/task/472/fdinfo’: Permission denied\n",
      "find: ‘/proc/472/task/472/ns’: Permission denied\n",
      "find: ‘/proc/472/fd’: Permission denied\n",
      "find: ‘/proc/472/map_files’: Permission denied\n",
      "find: ‘/proc/472/fdinfo’: Permission denied\n",
      "find: ‘/proc/472/ns’: Permission denied\n",
      "find: ‘/proc/643/task/643/fd’: Permission denied\n",
      "find: ‘/proc/643/task/643/fdinfo’: Permission denied\n",
      "find: ‘/proc/643/task/643/ns’: Permission denied\n",
      "find: ‘/proc/643/fd’: Permission denied\n",
      "find: ‘/proc/643/map_files’: Permission denied\n",
      "find: ‘/proc/643/fdinfo’: Permission denied\n",
      "find: ‘/proc/643/ns’: Permission denied\n",
      "find: ‘/proc/653/task/653/fd’: Permission denied\n",
      "find: ‘/proc/653/task/653/fdinfo’: Permission denied\n",
      "find: ‘/proc/653/task/653/ns’: Permission denied\n",
      "find: ‘/proc/653/task/676/fd’: Permission denied\n",
      "find: ‘/proc/653/task/676/fdinfo’: Permission denied\n",
      "find: ‘/proc/653/task/676/ns’: Permission denied\n",
      "find: ‘/proc/653/task/677/fd’: Permission denied\n",
      "find: ‘/proc/653/task/677/fdinfo’: Permission denied\n",
      "find: ‘/proc/653/task/677/ns’: Permission denied\n",
      "find: ‘/proc/653/task/678/fd’: Permission denied\n",
      "find: ‘/proc/653/task/678/fdinfo’: Permission denied\n",
      "find: ‘/proc/653/task/678/ns’: Permission denied\n",
      "find: ‘/proc/653/fd’: Permission denied\n",
      "find: ‘/proc/653/map_files’: Permission denied\n",
      "find: ‘/proc/653/fdinfo’: Permission denied\n",
      "find: ‘/proc/653/ns’: Permission denied\n",
      "find: ‘/proc/654/task/654/fd’: Permission denied\n",
      "find: ‘/proc/654/task/654/fdinfo’: Permission denied\n",
      "find: ‘/proc/654/task/654/ns’: Permission denied\n",
      "find: ‘/proc/654/fd’: Permission denied\n",
      "find: ‘/proc/654/map_files’: Permission denied\n",
      "find: ‘/proc/654/fdinfo’: Permission denied\n",
      "find: ‘/proc/654/ns’: Permission denied\n",
      "find: ‘/proc/671/task/671/fd’: Permission denied\n",
      "find: ‘/proc/671/task/671/fdinfo’: Permission denied\n",
      "find: ‘/proc/671/task/671/ns’: Permission denied\n",
      "find: ‘/proc/671/fd’: Permission denied\n",
      "find: ‘/proc/671/map_files’: Permission denied\n",
      "find: ‘/proc/671/fdinfo’: Permission denied\n",
      "find: ‘/proc/671/ns’: Permission denied\n",
      "find: ‘/proc/691/task/691/fd’: Permission denied\n",
      "find: ‘/proc/691/task/691/fdinfo’: Permission denied\n",
      "find: ‘/proc/691/task/691/ns’: Permission denied\n",
      "find: ‘/proc/691/task/880/fd’: Permission denied\n",
      "find: ‘/proc/691/task/880/fdinfo’: Permission denied\n",
      "find: ‘/proc/691/task/880/ns’: Permission denied\n",
      "find: ‘/proc/691/task/882/fd’: Permission denied\n",
      "find: ‘/proc/691/task/882/fdinfo’: Permission denied\n",
      "find: ‘/proc/691/task/882/ns’: Permission denied\n",
      "find: ‘/proc/691/fd’: Permission denied\n",
      "find: ‘/proc/691/map_files’: Permission denied\n",
      "find: ‘/proc/691/fdinfo’: Permission denied\n",
      "find: ‘/proc/691/ns’: Permission denied\n",
      "find: ‘/proc/705/task/705/fd’: Permission denied\n",
      "find: ‘/proc/705/task/705/fdinfo’: Permission denied\n",
      "find: ‘/proc/705/task/705/ns’: Permission denied\n",
      "find: ‘/proc/705/task/970/fd’: Permission denied\n",
      "find: ‘/proc/705/task/970/fdinfo’: Permission denied\n",
      "find: ‘/proc/705/task/970/ns’: Permission denied\n",
      "find: ‘/proc/705/task/971/fd’: Permission denied\n",
      "find: ‘/proc/705/task/971/fdinfo’: Permission denied\n",
      "find: ‘/proc/705/task/971/ns’: Permission denied\n",
      "find: ‘/proc/705/fd’: Permission denied\n",
      "find: ‘/proc/705/map_files’: Permission denied\n",
      "find: ‘/proc/705/fdinfo’: Permission denied\n",
      "find: ‘/proc/705/ns’: Permission denied\n",
      "find: ‘/proc/708/task/708/fd’: Permission denied\n",
      "find: ‘/proc/708/task/708/fdinfo’: Permission denied\n",
      "find: ‘/proc/708/task/708/ns’: Permission denied\n",
      "find: ‘/proc/708/task/834/fd’: Permission denied\n",
      "find: ‘/proc/708/task/834/fdinfo’: Permission denied\n",
      "find: ‘/proc/708/task/834/ns’: Permission denied\n",
      "find: ‘/proc/708/task/838/fd’: Permission denied\n",
      "find: ‘/proc/708/task/838/fdinfo’: Permission denied\n",
      "find: ‘/proc/708/task/838/ns’: Permission denied\n",
      "find: ‘/proc/708/fd’: Permission denied\n",
      "find: ‘/proc/708/map_files’: Permission denied\n",
      "find: ‘/proc/708/fdinfo’: Permission denied\n",
      "find: ‘/proc/708/ns’: Permission denied\n",
      "find: ‘/proc/730/task/730/fd’: Permission denied\n",
      "find: ‘/proc/730/task/730/fdinfo’: Permission denied\n",
      "find: ‘/proc/730/task/730/ns’: Permission denied\n",
      "find: ‘/proc/730/fd’: Permission denied\n",
      "find: ‘/proc/730/map_files’: Permission denied\n",
      "find: ‘/proc/730/fdinfo’: Permission denied\n",
      "find: ‘/proc/730/ns’: Permission denied\n",
      "find: ‘/proc/732/task/732/fd’: Permission denied\n",
      "find: ‘/proc/732/task/732/fdinfo’: Permission denied\n",
      "find: ‘/proc/732/task/732/ns’: Permission denied\n",
      "find: ‘/proc/732/task/947/fd’: Permission denied\n",
      "find: ‘/proc/732/task/947/fdinfo’: Permission denied\n",
      "find: ‘/proc/732/task/947/ns’: Permission denied\n",
      "find: ‘/proc/732/task/953/fd’: Permission denied\n",
      "find: ‘/proc/732/task/953/fdinfo’: Permission denied\n",
      "find: ‘/proc/732/task/953/ns’: Permission denied\n",
      "find: ‘/proc/732/fd’: Permission denied\n",
      "find: ‘/proc/732/map_files’: Permission denied\n",
      "find: ‘/proc/732/fdinfo’: Permission denied\n",
      "find: ‘/proc/732/ns’: Permission denied\n",
      "find: ‘/proc/735/task/735/fd’: Permission denied\n",
      "find: ‘/proc/735/task/735/fdinfo’: Permission denied\n",
      "find: ‘/proc/735/task/735/ns’: Permission denied\n",
      "find: ‘/proc/735/task/959/fd’: Permission denied\n",
      "find: ‘/proc/735/task/959/fdinfo’: Permission denied\n",
      "find: ‘/proc/735/task/959/ns’: Permission denied\n",
      "find: ‘/proc/735/task/962/fd’: Permission denied\n",
      "find: ‘/proc/735/task/962/fdinfo’: Permission denied\n",
      "find: ‘/proc/735/task/962/ns’: Permission denied\n",
      "find: ‘/proc/735/fd’: Permission denied\n",
      "find: ‘/proc/735/map_files’: Permission denied\n",
      "find: ‘/proc/735/fdinfo’: Permission denied\n",
      "find: ‘/proc/735/ns’: Permission denied\n",
      "find: ‘/proc/737/task/737/fd’: Permission denied\n",
      "find: ‘/proc/737/task/737/fdinfo’: Permission denied\n",
      "find: ‘/proc/737/task/737/ns’: Permission denied\n",
      "find: ‘/proc/737/fd’: Permission denied\n",
      "find: ‘/proc/737/map_files’: Permission denied\n",
      "find: ‘/proc/737/fdinfo’: Permission denied\n",
      "find: ‘/proc/737/ns’: Permission denied\n",
      "find: ‘/proc/746/task/746/fd’: Permission denied\n",
      "find: ‘/proc/746/task/746/fdinfo’: Permission denied\n",
      "find: ‘/proc/746/task/746/ns’: Permission denied\n",
      "find: ‘/proc/746/fd’: Permission denied\n",
      "find: ‘/proc/746/map_files’: Permission denied\n",
      "find: ‘/proc/746/fdinfo’: Permission denied\n",
      "find: ‘/proc/746/ns’: Permission denied\n",
      "find: ‘/proc/833/task/833/fd’: Permission denied\n",
      "find: ‘/proc/833/task/833/fdinfo’: Permission denied\n",
      "find: ‘/proc/833/task/833/ns’: Permission denied\n",
      "find: ‘/proc/833/fd’: Permission denied\n",
      "find: ‘/proc/833/map_files’: Permission denied\n",
      "find: ‘/proc/833/fdinfo’: Permission denied\n",
      "find: ‘/proc/833/ns’: Permission denied\n",
      "find: ‘/proc/852/task/852/fd’: Permission denied\n",
      "find: ‘/proc/852/task/852/fdinfo’: Permission denied\n",
      "find: ‘/proc/852/task/852/ns’: Permission denied\n",
      "find: ‘/proc/852/task/925/fd’: Permission denied\n",
      "find: ‘/proc/852/task/925/fdinfo’: Permission denied\n",
      "find: ‘/proc/852/task/925/ns’: Permission denied\n",
      "find: ‘/proc/852/task/927/fd’: Permission denied\n",
      "find: ‘/proc/852/task/927/fdinfo’: Permission denied\n",
      "find: ‘/proc/852/task/927/ns’: Permission denied\n",
      "find: ‘/proc/852/fd’: Permission denied\n",
      "find: ‘/proc/852/map_files’: Permission denied\n",
      "find: ‘/proc/852/fdinfo’: Permission denied\n",
      "find: ‘/proc/852/ns’: Permission denied\n",
      "find: ‘/proc/909/task/909/fd’: Permission denied\n",
      "find: ‘/proc/909/task/909/fdinfo’: Permission denied\n",
      "find: ‘/proc/909/task/909/ns’: Permission denied\n",
      "find: ‘/proc/909/task/920/fd’: Permission denied\n",
      "find: ‘/proc/909/task/920/fdinfo’: Permission denied\n",
      "find: ‘/proc/909/task/920/ns’: Permission denied\n",
      "find: ‘/proc/909/task/922/fd’: Permission denied\n",
      "find: ‘/proc/909/task/922/fdinfo’: Permission denied\n",
      "find: ‘/proc/909/task/922/ns’: Permission denied\n",
      "find: ‘/proc/909/fd’: Permission denied\n",
      "find: ‘/proc/909/map_files’: Permission denied\n",
      "find: ‘/proc/909/fdinfo’: Permission denied\n",
      "find: ‘/proc/909/ns’: Permission denied\n",
      "find: ‘/proc/942/task/942/fd’: Permission denied\n",
      "find: ‘/proc/942/task/942/fdinfo’: Permission denied\n",
      "find: ‘/proc/942/task/942/ns’: Permission denied\n",
      "find: ‘/proc/942/task/1102/fd’: Permission denied\n",
      "find: ‘/proc/942/task/1102/fdinfo’: Permission denied\n",
      "find: ‘/proc/942/task/1102/ns’: Permission denied\n",
      "find: ‘/proc/942/task/1103/fd’: Permission denied\n",
      "find: ‘/proc/942/task/1103/fdinfo’: Permission denied\n",
      "find: ‘/proc/942/task/1103/ns’: Permission denied\n",
      "find: ‘/proc/942/fd’: Permission denied\n",
      "find: ‘/proc/942/map_files’: Permission denied\n",
      "find: ‘/proc/942/fdinfo’: Permission denied\n",
      "find: ‘/proc/942/ns’: Permission denied\n",
      "find: ‘/proc/965/task/965/fd’: Permission denied\n",
      "find: ‘/proc/965/task/965/fdinfo’: Permission denied\n",
      "find: ‘/proc/965/task/965/ns’: Permission denied\n",
      "find: ‘/proc/965/fd’: Permission denied\n",
      "find: ‘/proc/965/map_files’: Permission denied\n",
      "find: ‘/proc/965/fdinfo’: Permission denied\n",
      "find: ‘/proc/965/ns’: Permission denied\n",
      "find: ‘/proc/993/task/993/fd’: Permission denied\n",
      "find: ‘/proc/993/task/993/fdinfo’: Permission denied\n",
      "find: ‘/proc/993/task/993/ns’: Permission denied\n",
      "find: ‘/proc/993/fd’: Permission denied\n",
      "find: ‘/proc/993/map_files’: Permission denied\n",
      "find: ‘/proc/993/fdinfo’: Permission denied\n",
      "find: ‘/proc/993/ns’: Permission denied\n",
      "find: ‘/proc/1016/task/1016/fd’: Permission denied\n",
      "find: ‘/proc/1016/task/1016/fdinfo’: Permission denied\n",
      "find: ‘/proc/1016/task/1016/ns’: Permission denied\n",
      "find: ‘/proc/1016/task/1018/fd’: Permission denied\n",
      "find: ‘/proc/1016/task/1018/fdinfo’: Permission denied\n",
      "find: ‘/proc/1016/task/1018/ns’: Permission denied\n",
      "find: ‘/proc/1016/task/1019/fd’: Permission denied\n",
      "find: ‘/proc/1016/task/1019/fdinfo’: Permission denied\n",
      "find: ‘/proc/1016/task/1019/ns’: Permission denied\n",
      "find: ‘/proc/1016/task/1020/fd’: Permission denied\n",
      "find: ‘/proc/1016/task/1020/fdinfo’: Permission denied\n",
      "find: ‘/proc/1016/task/1020/ns’: Permission denied\n",
      "find: ‘/proc/1016/task/1021/fd’: Permission denied\n",
      "find: ‘/proc/1016/task/1021/fdinfo’: Permission denied\n",
      "find: ‘/proc/1016/task/1021/ns’: Permission denied\n",
      "find: ‘/proc/1016/task/1022/fd’: Permission denied\n",
      "find: ‘/proc/1016/task/1022/fdinfo’: Permission denied\n",
      "find: ‘/proc/1016/task/1022/ns’: Permission denied\n",
      "find: ‘/proc/1016/task/1024/fd’: Permission denied\n",
      "find: ‘/proc/1016/task/1024/fdinfo’: Permission denied\n",
      "find: ‘/proc/1016/task/1024/ns’: Permission denied\n",
      "find: ‘/proc/1016/task/1025/fd’: Permission denied\n",
      "find: ‘/proc/1016/task/1025/fdinfo’: Permission denied\n",
      "find: ‘/proc/1016/task/1025/ns’: Permission denied\n",
      "find: ‘/proc/1016/fd’: Permission denied\n",
      "find: ‘/proc/1016/map_files’: Permission denied\n",
      "find: ‘/proc/1016/fdinfo’: Permission denied\n",
      "find: ‘/proc/1016/ns’: Permission denied\n",
      "find: ‘/proc/1029/task/1029/fd’: Permission denied\n",
      "find: ‘/proc/1029/task/1029/fdinfo’: Permission denied\n",
      "find: ‘/proc/1029/task/1029/ns’: Permission denied\n",
      "find: ‘/proc/1029/fd’: Permission denied\n",
      "find: ‘/proc/1029/map_files’: Permission denied\n",
      "find: ‘/proc/1029/fdinfo’: Permission denied\n",
      "find: ‘/proc/1029/ns’: Permission denied\n",
      "find: ‘/proc/1164/task/1164/fd’: Permission denied\n",
      "find: ‘/proc/1164/task/1164/fdinfo’: Permission denied\n",
      "find: ‘/proc/1164/task/1164/ns’: Permission denied\n",
      "find: ‘/proc/1164/task/1350/fd’: Permission denied\n",
      "find: ‘/proc/1164/task/1350/fdinfo’: Permission denied\n",
      "find: ‘/proc/1164/task/1350/ns’: Permission denied\n",
      "find: ‘/proc/1164/task/1351/fd’: Permission denied\n",
      "find: ‘/proc/1164/task/1351/fdinfo’: Permission denied\n",
      "find: ‘/proc/1164/task/1351/ns’: Permission denied\n",
      "find: ‘/proc/1164/fd’: Permission denied\n",
      "find: ‘/proc/1164/map_files’: Permission denied\n",
      "find: ‘/proc/1164/fdinfo’: Permission denied\n",
      "find: ‘/proc/1164/ns’: Permission denied\n",
      "find: ‘/proc/1225/task/1225/fd’: Permission denied\n",
      "find: ‘/proc/1225/task/1225/fdinfo’: Permission denied\n",
      "find: ‘/proc/1225/task/1225/ns’: Permission denied\n",
      "find: ‘/proc/1225/task/1231/fd’: Permission denied\n",
      "find: ‘/proc/1225/task/1231/fdinfo’: Permission denied\n",
      "find: ‘/proc/1225/task/1231/ns’: Permission denied\n",
      "find: ‘/proc/1225/task/1232/fd’: Permission denied\n",
      "find: ‘/proc/1225/task/1232/fdinfo’: Permission denied\n",
      "find: ‘/proc/1225/task/1232/ns’: Permission denied\n",
      "find: ‘/proc/1225/fd’: Permission denied\n",
      "find: ‘/proc/1225/map_files’: Permission denied\n",
      "find: ‘/proc/1225/fdinfo’: Permission denied\n",
      "find: ‘/proc/1225/ns’: Permission denied\n",
      "find: ‘/proc/1244/task/1244/fd’: Permission denied\n",
      "find: ‘/proc/1244/task/1244/fdinfo’: Permission denied\n",
      "find: ‘/proc/1244/task/1244/ns’: Permission denied\n",
      "find: ‘/proc/1244/task/1248/fd’: Permission denied\n",
      "find: ‘/proc/1244/task/1248/fdinfo’: Permission denied\n",
      "find: ‘/proc/1244/task/1248/ns’: Permission denied\n",
      "find: ‘/proc/1244/task/1249/fd’: Permission denied\n",
      "find: ‘/proc/1244/task/1249/fdinfo’: Permission denied\n",
      "find: ‘/proc/1244/task/1249/ns’: Permission denied\n",
      "find: ‘/proc/1244/fd’: Permission denied\n",
      "find: ‘/proc/1244/map_files’: Permission denied\n",
      "find: ‘/proc/1244/fdinfo’: Permission denied\n",
      "find: ‘/proc/1244/ns’: Permission denied\n",
      "find: ‘/proc/1259/task/1259/fd’: Permission denied\n",
      "find: ‘/proc/1259/task/1259/fdinfo’: Permission denied\n",
      "find: ‘/proc/1259/task/1259/ns’: Permission denied\n",
      "find: ‘/proc/1259/task/1261/fd’: Permission denied\n",
      "find: ‘/proc/1259/task/1261/fdinfo’: Permission denied\n",
      "find: ‘/proc/1259/task/1261/ns’: Permission denied\n",
      "find: ‘/proc/1259/task/1263/fd’: Permission denied\n",
      "find: ‘/proc/1259/task/1263/fdinfo’: Permission denied\n",
      "find: ‘/proc/1259/task/1263/ns’: Permission denied\n",
      "find: ‘/proc/1259/fd’: Permission denied\n",
      "find: ‘/proc/1259/map_files’: Permission denied\n",
      "find: ‘/proc/1259/fdinfo’: Permission denied\n",
      "find: ‘/proc/1259/ns’: Permission denied\n",
      "find: ‘/proc/1425/task/1425/fd’: Permission denied\n",
      "find: ‘/proc/1425/task/1425/fdinfo’: Permission denied\n",
      "find: ‘/proc/1425/task/1425/ns’: Permission denied\n",
      "find: ‘/proc/1425/fd’: Permission denied\n",
      "find: ‘/proc/1425/map_files’: Permission denied\n",
      "find: ‘/proc/1425/fdinfo’: Permission denied\n",
      "find: ‘/proc/1425/ns’: Permission denied\n",
      "find: ‘/proc/1469/task/1469/fd’: Permission denied\n",
      "find: ‘/proc/1469/task/1469/fdinfo’: Permission denied\n",
      "find: ‘/proc/1469/task/1469/ns’: Permission denied\n",
      "find: ‘/proc/1469/task/1471/fd’: Permission denied\n",
      "find: ‘/proc/1469/task/1471/fdinfo’: Permission denied\n",
      "find: ‘/proc/1469/task/1471/ns’: Permission denied\n",
      "find: ‘/proc/1469/task/1658/fd’: Permission denied\n",
      "find: ‘/proc/1469/task/1658/fdinfo’: Permission denied\n",
      "find: ‘/proc/1469/task/1658/ns’: Permission denied\n",
      "find: ‘/proc/1469/task/1659/fd’: Permission denied\n",
      "find: ‘/proc/1469/task/1659/fdinfo’: Permission denied\n",
      "find: ‘/proc/1469/task/1659/ns’: Permission denied\n",
      "find: ‘/proc/1469/fd’: Permission denied\n",
      "find: ‘/proc/1469/map_files’: Permission denied\n",
      "find: ‘/proc/1469/fdinfo’: Permission denied\n",
      "find: ‘/proc/1469/ns’: Permission denied\n",
      "find: ‘/proc/1692/task/1692/fd’: Permission denied\n",
      "find: ‘/proc/1692/task/1692/fdinfo’: Permission denied\n",
      "find: ‘/proc/1692/task/1692/ns’: Permission denied\n",
      "find: ‘/proc/1692/fd’: Permission denied\n",
      "find: ‘/proc/1692/map_files’: Permission denied\n",
      "find: ‘/proc/1692/fdinfo’: Permission denied\n",
      "find: ‘/proc/1692/ns’: Permission denied\n",
      "find: ‘/proc/2407/task/2407/fd’: Permission denied\n",
      "find: ‘/proc/2407/task/2407/fdinfo’: Permission denied\n",
      "find: ‘/proc/2407/task/2407/ns’: Permission denied\n",
      "find: ‘/proc/2407/task/2412/fd’: Permission denied\n",
      "find: ‘/proc/2407/task/2412/fdinfo’: Permission denied\n",
      "find: ‘/proc/2407/task/2412/ns’: Permission denied\n",
      "find: ‘/proc/2407/task/2414/fd’: Permission denied\n",
      "find: ‘/proc/2407/task/2414/fdinfo’: Permission denied\n",
      "find: ‘/proc/2407/task/2414/ns’: Permission denied\n",
      "find: ‘/proc/2407/task/2415/fd’: Permission denied\n",
      "find: ‘/proc/2407/task/2415/fdinfo’: Permission denied\n",
      "find: ‘/proc/2407/task/2415/ns’: Permission denied\n",
      "find: ‘/proc/2407/task/2420/fd’: Permission denied\n",
      "find: ‘/proc/2407/task/2420/fdinfo’: Permission denied\n",
      "find: ‘/proc/2407/task/2420/ns’: Permission denied\n",
      "find: ‘/proc/2407/fd’: Permission denied\n",
      "find: ‘/proc/2407/map_files’: Permission denied\n",
      "find: ‘/proc/2407/fdinfo’: Permission denied\n",
      "find: ‘/proc/2407/ns’: Permission denied\n",
      "find: ‘/proc/2463/task/2463/fd’: Permission denied\n",
      "find: ‘/proc/2463/task/2463/fdinfo’: Permission denied\n",
      "find: ‘/proc/2463/task/2463/ns’: Permission denied\n",
      "find: ‘/proc/2463/task/2464/fd’: Permission denied\n",
      "find: ‘/proc/2463/task/2464/fdinfo’: Permission denied\n",
      "find: ‘/proc/2463/task/2464/ns’: Permission denied\n",
      "find: ‘/proc/2463/task/2473/fd’: Permission denied\n",
      "find: ‘/proc/2463/task/2473/fdinfo’: Permission denied\n",
      "find: ‘/proc/2463/task/2473/ns’: Permission denied\n",
      "find: ‘/proc/2463/task/2474/fd’: Permission denied\n",
      "find: ‘/proc/2463/task/2474/fdinfo’: Permission denied\n",
      "find: ‘/proc/2463/task/2474/ns’: Permission denied\n",
      "find: ‘/proc/2463/task/2476/fd’: Permission denied\n",
      "find: ‘/proc/2463/task/2476/fdinfo’: Permission denied\n",
      "find: ‘/proc/2463/task/2476/ns’: Permission denied\n",
      "find: ‘/proc/2463/task/2477/fd’: Permission denied\n",
      "find: ‘/proc/2463/task/2477/fdinfo’: Permission denied\n",
      "find: ‘/proc/2463/task/2477/ns’: Permission denied\n",
      "find: ‘/proc/2463/task/2478/fd’: Permission denied\n",
      "find: ‘/proc/2463/task/2478/fdinfo’: Permission denied\n",
      "find: ‘/proc/2463/task/2478/ns’: Permission denied\n",
      "find: ‘/proc/2463/fd’: Permission denied\n",
      "find: ‘/proc/2463/map_files’: Permission denied\n",
      "find: ‘/proc/2463/fdinfo’: Permission denied\n",
      "find: ‘/proc/2463/ns’: Permission denied\n",
      "find: ‘/proc/4696/task/4696/fd’: Permission denied\n",
      "find: ‘/proc/4696/task/4696/fdinfo’: Permission denied\n",
      "find: ‘/proc/4696/task/4696/ns’: Permission denied\n",
      "find: ‘/proc/4696/fd’: Permission denied\n",
      "find: ‘/proc/4696/map_files’: Permission denied\n",
      "find: ‘/proc/4696/fdinfo’: Permission denied\n",
      "find: ‘/proc/4696/ns’: Permission denied\n",
      "find: ‘/proc/6063/task/6063/fd’: Permission denied\n",
      "find: ‘/proc/6063/task/6063/fdinfo’: Permission denied\n",
      "find: ‘/proc/6063/task/6063/ns’: Permission denied\n",
      "find: ‘/proc/6063/fd’: Permission denied\n",
      "find: ‘/proc/6063/map_files’: Permission denied\n",
      "find: ‘/proc/6063/fdinfo’: Permission denied\n",
      "find: ‘/proc/6063/ns’: Permission denied\n",
      "find: ‘/proc/6292/task/6292/fd’: Permission denied\n",
      "find: ‘/proc/6292/task/6292/fdinfo’: Permission denied\n",
      "find: ‘/proc/6292/task/6292/ns’: Permission denied\n",
      "find: ‘/proc/6292/fd’: Permission denied\n",
      "find: ‘/proc/6292/map_files’: Permission denied\n",
      "find: ‘/proc/6292/fdinfo’: Permission denied\n",
      "find: ‘/proc/6292/ns’: Permission denied\n",
      "find: ‘/proc/16168/task/16168/fd’: Permission denied\n",
      "find: ‘/proc/16168/task/16168/fdinfo’: Permission denied\n",
      "find: ‘/proc/16168/task/16168/ns’: Permission denied\n",
      "find: ‘/proc/16168/fd’: Permission denied\n",
      "find: ‘/proc/16168/map_files’: Permission denied\n",
      "find: ‘/proc/16168/fdinfo’: Permission denied\n",
      "find: ‘/proc/16168/ns’: Permission denied\n",
      "find: ‘/proc/16169/task/16169/fd’: Permission denied\n",
      "find: ‘/proc/16169/task/16169/fdinfo’: Permission denied\n",
      "find: ‘/proc/16169/task/16169/ns’: Permission denied\n",
      "find: ‘/proc/16169/fd’: Permission denied\n",
      "find: ‘/proc/16169/map_files’: Permission denied\n",
      "find: ‘/proc/16169/fdinfo’: Permission denied\n",
      "find: ‘/proc/16169/ns’: Permission denied\n",
      "find: ‘/proc/16178/task/16178/fd’: Permission denied\n",
      "find: ‘/proc/16178/task/16178/fdinfo’: Permission denied\n",
      "find: ‘/proc/16178/task/16178/ns’: Permission denied\n",
      "find: ‘/proc/16178/fd’: Permission denied\n",
      "find: ‘/proc/16178/map_files’: Permission denied\n",
      "find: ‘/proc/16178/fdinfo’: Permission denied\n",
      "find: ‘/proc/16178/ns’: Permission denied\n",
      "find: ‘/proc/16179/task/16179/fd’: Permission denied\n",
      "find: ‘/proc/16179/task/16179/fdinfo’: Permission denied\n",
      "find: ‘/proc/16179/task/16179/ns’: Permission denied\n",
      "find: ‘/proc/16179/fd’: Permission denied\n",
      "find: ‘/proc/16179/map_files’: Permission denied\n",
      "find: ‘/proc/16179/fdinfo’: Permission denied\n",
      "find: ‘/proc/16179/ns’: Permission denied\n",
      "find: ‘/proc/16180/task/16180/fd’: Permission denied\n",
      "find: ‘/proc/16180/task/16180/fdinfo’: Permission denied\n",
      "find: ‘/proc/16180/task/16180/ns’: Permission denied\n",
      "find: ‘/proc/16180/fd’: Permission denied\n",
      "find: ‘/proc/16180/map_files’: Permission denied\n",
      "find: ‘/proc/16180/fdinfo’: Permission denied\n",
      "find: ‘/proc/16180/ns’: Permission denied\n",
      "find: ‘/proc/16181/task/16181/fd’: Permission denied\n",
      "find: ‘/proc/16181/task/16181/fdinfo’: Permission denied\n",
      "find: ‘/proc/16181/task/16181/ns’: Permission denied\n",
      "find: ‘/proc/16181/fd’: Permission denied\n",
      "find: ‘/proc/16181/map_files’: Permission denied\n",
      "find: ‘/proc/16181/fdinfo’: Permission denied\n",
      "find: ‘/proc/16181/ns’: Permission denied\n",
      "find: ‘/proc/16216/task/16216/fd’: Permission denied\n",
      "find: ‘/proc/16216/task/16216/fdinfo’: Permission denied\n",
      "find: ‘/proc/16216/task/16216/ns’: Permission denied\n",
      "find: ‘/proc/16216/fd’: Permission denied\n",
      "find: ‘/proc/16216/map_files’: Permission denied\n",
      "find: ‘/proc/16216/fdinfo’: Permission denied\n",
      "find: ‘/proc/16216/ns’: Permission denied\n",
      "find: ‘/proc/23333/task/23333/fd’: Permission denied\n",
      "find: ‘/proc/23333/task/23333/fdinfo’: Permission denied\n",
      "find: ‘/proc/23333/task/23333/ns’: Permission denied\n",
      "find: ‘/proc/23333/task/23335/fd’: Permission denied\n",
      "find: ‘/proc/23333/task/23335/fdinfo’: Permission denied\n",
      "find: ‘/proc/23333/task/23335/ns’: Permission denied\n",
      "find: ‘/proc/23333/task/23336/fd’: Permission denied\n",
      "find: ‘/proc/23333/task/23336/fdinfo’: Permission denied\n",
      "find: ‘/proc/23333/task/23336/ns’: Permission denied\n",
      "find: ‘/proc/23333/task/23337/fd’: Permission denied\n",
      "find: ‘/proc/23333/task/23337/fdinfo’: Permission denied\n",
      "find: ‘/proc/23333/task/23337/ns’: Permission denied\n",
      "find: ‘/proc/23333/task/23338/fd’: Permission denied\n",
      "find: ‘/proc/23333/task/23338/fdinfo’: Permission denied\n",
      "find: ‘/proc/23333/task/23338/ns’: Permission denied\n",
      "find: ‘/proc/23333/task/23339/fd’: Permission denied\n",
      "find: ‘/proc/23333/task/23339/fdinfo’: Permission denied\n",
      "find: ‘/proc/23333/task/23339/ns’: Permission denied\n",
      "find: ‘/proc/23333/task/23340/fd’: Permission denied\n",
      "find: ‘/proc/23333/task/23340/fdinfo’: Permission denied\n",
      "find: ‘/proc/23333/task/23340/ns’: Permission denied\n",
      "find: ‘/proc/23333/task/23341/fd’: Permission denied\n",
      "find: ‘/proc/23333/task/23341/fdinfo’: Permission denied\n",
      "find: ‘/proc/23333/task/23341/ns’: Permission denied\n",
      "find: ‘/proc/23333/fd’: Permission denied\n",
      "find: ‘/proc/23333/map_files’: Permission denied\n",
      "find: ‘/proc/23333/fdinfo’: Permission denied\n",
      "find: ‘/proc/23333/ns’: Permission denied\n",
      "find: ‘/proc/23849/task/23849/fd’: Permission denied\n",
      "find: ‘/proc/23849/task/23849/fdinfo’: Permission denied\n",
      "find: ‘/proc/23849/task/23849/ns’: Permission denied\n",
      "find: ‘/proc/23849/fd’: Permission denied\n",
      "find: ‘/proc/23849/map_files’: Permission denied\n",
      "find: ‘/proc/23849/fdinfo’: Permission denied\n",
      "find: ‘/proc/23849/ns’: Permission denied\n",
      "find: ‘/proc/23870/task/23870/fd’: Permission denied\n",
      "find: ‘/proc/23870/task/23870/fdinfo’: Permission denied\n",
      "find: ‘/proc/23870/task/23870/ns’: Permission denied\n",
      "find: ‘/proc/23870/fd’: Permission denied\n",
      "find: ‘/proc/23870/map_files’: Permission denied\n",
      "find: ‘/proc/23870/fdinfo’: Permission denied\n",
      "find: ‘/proc/23870/ns’: Permission denied\n",
      "find: ‘/proc/24324/task/24324/fd’: Permission denied\n",
      "find: ‘/proc/24324/task/24324/fdinfo’: Permission denied\n",
      "find: ‘/proc/24324/task/24324/ns’: Permission denied\n",
      "find: ‘/proc/24324/fd’: Permission denied\n",
      "find: ‘/proc/24324/map_files’: Permission denied\n",
      "find: ‘/proc/24324/fdinfo’: Permission denied\n",
      "find: ‘/proc/24324/ns’: Permission denied\n",
      "find: ‘/proc/24368/task/24368/fd’: Permission denied\n",
      "find: ‘/proc/24368/task/24368/fdinfo’: Permission denied\n",
      "find: ‘/proc/24368/task/24368/ns’: Permission denied\n",
      "find: ‘/proc/24368/fd’: Permission denied\n",
      "find: ‘/proc/24368/map_files’: Permission denied\n",
      "find: ‘/proc/24368/fdinfo’: Permission denied\n",
      "find: ‘/proc/24368/ns’: Permission denied\n",
      "find: ‘/lost+found’: Permission denied\n",
      "find: ‘/tmp/systemd-private-afc138ceb54243c3a5716b4d8461193b-rtkit-daemon.service-zlc610’: Permission denied\n",
      "find: ‘/tmp/systemd-private-afc138ceb54243c3a5716b4d8461193b-colord.service-S2lgzM’: Permission denied\n",
      "find: ‘/boot/lost+found’: Permission denied\n",
      "find: ‘/sys/kernel/debug’: Permission denied\n"
     ]
    }
   ],
   "source": [
    "!find / -name 'ifconfig'"
   ]
  },
  {
   "cell_type": "code",
   "execution_count": 151,
   "metadata": {
    "collapsed": false
   },
   "outputs": [
    {
     "name": "stdout",
     "output_type": "stream",
     "text": [
      "./regular_express.txt\r\n",
      "./02.txt\r\n",
      "./01.txt\r\n"
     ]
    }
   ],
   "source": [
    "!find -type f -user chweng -name '*.txt'"
   ]
  },
  {
   "cell_type": "code",
   "execution_count": 158,
   "metadata": {
    "collapsed": false
   },
   "outputs": [
    {
     "name": "stdout",
     "output_type": "stream",
     "text": [
      "./03\r\n",
      "./01\r\n",
      "./02\r\n"
     ]
    }
   ],
   "source": [
    "!find -type d -user chweng -name '0*'"
   ]
  },
  {
   "cell_type": "code",
   "execution_count": 162,
   "metadata": {
    "collapsed": false
   },
   "outputs": [
    {
     "name": "stdout",
     "output_type": "stream",
     "text": [
      "[sudo] password for chweng: \n"
     ]
    }
   ],
   "source": [
    "!sudo fdisk -l | grep -nE \"^Disk /dev/[hs]d\""
   ]
  },
  {
   "cell_type": "code",
   "execution_count": null,
   "metadata": {
    "collapsed": true
   },
   "outputs": [],
   "source": [
    "sudo find /etc -type f | wc -l"
   ]
  },
  {
   "cell_type": "code",
   "execution_count": null,
   "metadata": {
    "collapsed": true
   },
   "outputs": [],
   "source": [
    "du -hl /etc/"
   ]
  },
  {
   "cell_type": "markdown",
   "metadata": {},
   "source": [
    "```bash\n",
    "chweng@chweng-VirtualBox:~$ jobs\n",
    "[1]+  Running                 sleep 100 &\n",
    "chweng@chweng-VirtualBox:~$ fg 1  # move process 1 to the foreground\n",
    "sleep 100\n",
    "```"
   ]
  },
  {
   "cell_type": "markdown",
   "metadata": {},
   "source": [
    "then, we can press ctrl+z, which will move the process to the background and pause it."
   ]
  },
  {
   "cell_type": "markdown",
   "metadata": {},
   "source": [
    "then, type \"bg 1\" in order to start it again in the background"
   ]
  },
  {
   "cell_type": "code",
   "execution_count": null,
   "metadata": {
    "collapsed": true
   },
   "outputs": [],
   "source": []
  }
 ],
 "metadata": {
  "kernelspec": {
   "display_name": "Python 2",
   "language": "python",
   "name": "python2"
  },
  "language_info": {
   "codemirror_mode": {
    "name": "ipython",
    "version": 2
   },
   "file_extension": ".py",
   "mimetype": "text/x-python",
   "name": "python",
   "nbconvert_exporter": "python",
   "pygments_lexer": "ipython2",
   "version": "2.7.12"
  }
 },
 "nbformat": 4,
 "nbformat_minor": 1
}
