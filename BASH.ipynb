{
 "cells": [
  {
   "cell_type": "code",
   "execution_count": 1,
   "metadata": {
    "collapsed": true
   },
   "outputs": [],
   "source": [
    "import os"
   ]
  },
  {
   "cell_type": "markdown",
   "metadata": {},
   "source": [
    "## Let's play iPython and BASH a bit"
   ]
  },
  {
   "cell_type": "markdown",
   "metadata": {},
   "source": [
    "#### count number of paths in $PATH:"
   ]
  },
  {
   "cell_type": "code",
   "execution_count": 2,
   "metadata": {
    "collapsed": true
   },
   "outputs": [],
   "source": [
    "path=!echo $PATH"
   ]
  },
  {
   "cell_type": "code",
   "execution_count": 3,
   "metadata": {
    "collapsed": false
   },
   "outputs": [
    {
     "name": "stdout",
     "output_type": "stream",
     "text": [
      "['/home/chweng/.local/bin:/home/chweng/bin:/home/chweng/.local/bin:/usr/local/sbin:/usr/local/bin:/usr/sbin:/usr/bin:/sbin:/bin:/usr/games:/usr/local/games:/snap/bin']\n"
     ]
    }
   ],
   "source": [
    "print path"
   ]
  },
  {
   "cell_type": "code",
   "execution_count": 7,
   "metadata": {
    "collapsed": false
   },
   "outputs": [
    {
     "data": {
      "text/plain": [
       "['/home/chweng/.local/bin',\n",
       " '/home/chweng/bin',\n",
       " '/home/chweng/.local/bin',\n",
       " '/usr/local/sbin',\n",
       " '/usr/local/bin',\n",
       " '/usr/sbin',\n",
       " '/usr/bin',\n",
       " '/sbin',\n",
       " '/bin',\n",
       " '/usr/games',\n",
       " '/usr/local/games',\n",
       " '/snap/bin']"
      ]
     },
     "execution_count": 7,
     "metadata": {},
     "output_type": "execute_result"
    }
   ],
   "source": [
    "path[0].split(\":\")"
   ]
  },
  {
   "cell_type": "code",
   "execution_count": 8,
   "metadata": {
    "collapsed": false
   },
   "outputs": [
    {
     "name": "stdout",
     "output_type": "stream",
     "text": [
      "12\n"
     ]
    }
   ],
   "source": [
    "print len(path[0].split(\":\"))"
   ]
  },
  {
   "cell_type": "markdown",
   "metadata": {},
   "source": [
    "which is the same as the following command in BASH shell:"
   ]
  },
  {
   "cell_type": "code",
   "execution_count": 9,
   "metadata": {
    "collapsed": false
   },
   "outputs": [
    {
     "name": "stdout",
     "output_type": "stream",
     "text": [
      "12\r\n"
     ]
    }
   ],
   "source": [
    "!echo $PATH|tr \":\" \" \"|wc -w"
   ]
  },
  {
   "cell_type": "markdown",
   "metadata": {},
   "source": [
    "#### change the language environment"
   ]
  },
  {
   "cell_type": "code",
   "execution_count": 13,
   "metadata": {
    "collapsed": false
   },
   "outputs": [
    {
     "name": "stdout",
     "output_type": "stream",
     "text": [
      "LANG=en_US.UTF-8\r\n",
      "LANGUAGE=en_US\r\n",
      "LC_CTYPE=\"en_US.UTF-8\"\r\n",
      "LC_NUMERIC=lzh_TW\r\n",
      "LC_TIME=lzh_TW\r\n",
      "LC_COLLATE=\"en_US.UTF-8\"\r\n",
      "LC_MONETARY=lzh_TW\r\n",
      "LC_MESSAGES=\"en_US.UTF-8\"\r\n",
      "LC_PAPER=lzh_TW\r\n",
      "LC_NAME=lzh_TW\r\n",
      "LC_ADDRESS=lzh_TW\r\n",
      "LC_TELEPHONE=lzh_TW\r\n",
      "LC_MEASUREMENT=lzh_TW\r\n",
      "LC_IDENTIFICATION=lzh_TW\r\n",
      "LC_ALL=\r\n"
     ]
    }
   ],
   "source": [
    "!locale"
   ]
  },
  {
   "cell_type": "code",
   "execution_count": 30,
   "metadata": {
    "collapsed": false
   },
   "outputs": [],
   "source": [
    "!export LANG='en_US.UTF-8'"
   ]
  },
  {
   "cell_type": "code",
   "execution_count": 34,
   "metadata": {
    "collapsed": false
   },
   "outputs": [
    {
     "name": "stdout",
     "output_type": "stream",
     "text": [
      "LANG=en_US.UTF-8\r\n",
      "LANGUAGE=en_US\r\n",
      "LC_CTYPE=\"en_US.UTF-8\"\r\n",
      "LC_NUMERIC=lzh_TW\r\n",
      "LC_TIME=lzh_TW\r\n",
      "LC_COLLATE=\"en_US.UTF-8\"\r\n",
      "LC_MONETARY=lzh_TW\r\n",
      "LC_MESSAGES=\"en_US.UTF-8\"\r\n",
      "LC_PAPER=lzh_TW\r\n",
      "LC_NAME=lzh_TW\r\n",
      "LC_ADDRESS=lzh_TW\r\n",
      "LC_TELEPHONE=lzh_TW\r\n",
      "LC_MEASUREMENT=lzh_TW\r\n",
      "LC_IDENTIFICATION=lzh_TW\r\n",
      "LC_ALL=\r\n"
     ]
    }
   ],
   "source": [
    "!locale"
   ]
  },
  {
   "cell_type": "markdown",
   "metadata": {},
   "source": [
    "#### look for files:"
   ]
  },
  {
   "cell_type": "markdown",
   "metadata": {},
   "source": [
    "the flag -ld of \"ls\" means \"list directory\".\n"
   ]
  },
  {
   "cell_type": "code",
   "execution_count": 35,
   "metadata": {
    "collapsed": false
   },
   "outputs": [
    {
     "name": "stdout",
     "output_type": "stream",
     "text": [
      "-rw-r--r-- 1 root root  552  三  17  2016 /etc/pam.conf\r\n",
      "drwxr-xr-x 2 root root 4096 十一 10 11:34 /etc/pam.d\r\n",
      "-rw-rw-r-- 1 root root    3 十一 10 10:47 /etc/papersize\r\n",
      "-rw-r--r-- 1 root root 2288 十一 10 13:17 /etc/passwd\r\n",
      "-rw------- 1 root root 2243 十一 10 10:46 /etc/passwd-\r\n",
      "drwxr-xr-x 2 root root 4096  七  20 04:49 /etc/pcmcia\r\n",
      "drwxr-xr-x 4 root root 4096  七  20 04:45 /etc/perl\r\n",
      "drwxr-xr-x 4 root root 4096  七  20 04:46 /etc/pki\r\n",
      "drwxr-xr-x 5 root root 4096  七  20 04:47 /etc/pm\r\n",
      "-rw-r--r-- 1 root root 7649  七  20 04:50 /etc/pnm2ppa.conf\r\n",
      "drwxr-xr-x 5 root root 4096  七  20 04:46 /etc/polkit-1\r\n",
      "-rw-rw-r-- 1 root root  350 十一 10 10:47 /etc/popularity-contest.conf\r\n",
      "drwxr-xr-x 8 root root 4096  七  20 04:50 /etc/ppp\r\n",
      "-rw-r--r-- 1 root root 5877  二   7  2016 /etc/presage.xml\r\n",
      "-rw-r--r-- 1 root root  575  十  23  2015 /etc/profile\r\n",
      "drwxr-xr-x 2 root root 4096 十一 10 11:32 /etc/profile.d\r\n",
      "-rw-r--r-- 1 root root 2932  十  25  2014 /etc/protocols\r\n",
      "drwxr-xr-x 2 root root 4096  七  20 04:49 /etc/pulse\r\n",
      "drwxr-xr-x 2 root root 4096  七  20 04:48 /etc/python\r\n",
      "drwxr-xr-x 2 root root 4096  七  20 04:45 /etc/python2.7\r\n",
      "drwxr-xr-x 2 root root 4096  七  20 04:42 /etc/python3\r\n",
      "drwxr-xr-x 2 root root 4096 十一 10 11:32 /etc/python3.5\r\n"
     ]
    }
   ],
   "source": [
    "!ls -ld /etc/p*"
   ]
  },
  {
   "cell_type": "code",
   "execution_count": 36,
   "metadata": {
    "collapsed": false
   },
   "outputs": [
    {
     "name": "stdout",
     "output_type": "stream",
     "text": [
      "22\r\n"
     ]
    }
   ],
   "source": [
    "!ls -ld /etc/p* | wc -l"
   ]
  },
  {
   "cell_type": "code",
   "execution_count": 37,
   "metadata": {
    "collapsed": false
   },
   "outputs": [
    {
     "name": "stdout",
     "output_type": "stream",
     "text": [
      "drwxr-xr-x 2 root root 4096 十一 10 11:34 /etc/pam.d\r\n",
      "drwxr-xr-x 2 root root 4096  七  20 04:49 /etc/pulse\r\n"
     ]
    }
   ],
   "source": [
    "!ls -ld /etc/p????"
   ]
  },
  {
   "cell_type": "code",
   "execution_count": 39,
   "metadata": {
    "collapsed": false
   },
   "outputs": [
    {
     "name": "stdout",
     "output_type": "stream",
     "text": [
      "2\r\n"
     ]
    }
   ],
   "source": [
    "!ls -ld /etc/p???? | wc -l"
   ]
  },
  {
   "cell_type": "code",
   "execution_count": 41,
   "metadata": {
    "collapsed": false
   },
   "outputs": [
    {
     "name": "stdout",
     "output_type": "stream",
     "text": [
      "-rw-r--r-- 1 root root  552  三  17  2016 /etc/pam.conf\r\n",
      "drwxr-xr-x 2 root root 4096 十一 10 11:34 /etc/pam.d\r\n",
      "-rw-rw-r-- 1 root root    3 十一 10 10:47 /etc/papersize\r\n",
      "-rw-r--r-- 1 root root 2288 十一 10 13:17 /etc/passwd\r\n",
      "-rw------- 1 root root 2243 十一 10 10:46 /etc/passwd-\r\n",
      "drwxr-xr-x 4 root root 4096  七  20 04:45 /etc/perl\r\n",
      "drwxr-xr-x 5 root root 4096  七  20 04:46 /etc/polkit-1\r\n",
      "-rw-rw-r-- 1 root root  350 十一 10 10:47 /etc/popularity-contest.conf\r\n",
      "drwxr-xr-x 2 root root 4096  七  20 04:49 /etc/pulse\r\n"
     ]
    }
   ],
   "source": [
    "!ls -ld /etc/p[aeiou]*"
   ]
  },
  {
   "cell_type": "code",
   "execution_count": 42,
   "metadata": {
    "collapsed": false
   },
   "outputs": [
    {
     "name": "stdout",
     "output_type": "stream",
     "text": [
      "9\r\n"
     ]
    }
   ],
   "source": [
    "!ls -ld /etc/p[aeiou]* | wc -l"
   ]
  },
  {
   "cell_type": "code",
   "execution_count": 45,
   "metadata": {
    "collapsed": false
   },
   "outputs": [
    {
     "name": "stdout",
     "output_type": "stream",
     "text": [
      "drwxr-xr-x 2 root root 4096  七  20 04:49 /etc/pcmcia\r\n",
      "drwxr-xr-x 4 root root 4096  七  20 04:46 /etc/pki\r\n",
      "drwxr-xr-x 5 root root 4096  七  20 04:47 /etc/pm\r\n",
      "-rw-r--r-- 1 root root 7649  七  20 04:50 /etc/pnm2ppa.conf\r\n",
      "drwxr-xr-x 8 root root 4096  七  20 04:50 /etc/ppp\r\n",
      "-rw-r--r-- 1 root root 5877  二   7  2016 /etc/presage.xml\r\n",
      "-rw-r--r-- 1 root root  575  十  23  2015 /etc/profile\r\n",
      "drwxr-xr-x 2 root root 4096 十一 10 11:32 /etc/profile.d\r\n",
      "-rw-r--r-- 1 root root 2932  十  25  2014 /etc/protocols\r\n",
      "drwxr-xr-x 2 root root 4096  七  20 04:48 /etc/python\r\n",
      "drwxr-xr-x 2 root root 4096  七  20 04:45 /etc/python2.7\r\n",
      "drwxr-xr-x 2 root root 4096  七  20 04:42 /etc/python3\r\n",
      "drwxr-xr-x 2 root root 4096 十一 10 11:32 /etc/python3.5\r\n"
     ]
    }
   ],
   "source": [
    "!ls -ld /etc/p[!aeiou]*"
   ]
  },
  {
   "cell_type": "code",
   "execution_count": 87,
   "metadata": {
    "collapsed": false
   },
   "outputs": [
    {
     "name": "stdout",
     "output_type": "stream",
     "text": [
      "drwxr-xr-x 2 root root 4096  七  20 04:49 /etc/pcmcia\r\n",
      "drwxr-xr-x 4 root root 4096  七  20 04:46 /etc/pki\r\n",
      "drwxr-xr-x 5 root root 4096  七  20 04:47 /etc/pm\r\n",
      "-rw-r--r-- 1 root root 7649  七  20 04:50 /etc/pnm2ppa.conf\r\n",
      "drwxr-xr-x 8 root root 4096  七  20 04:50 /etc/ppp\r\n",
      "-rw-r--r-- 1 root root 5877  二   7  2016 /etc/presage.xml\r\n",
      "-rw-r--r-- 1 root root  575  十  23  2015 /etc/profile\r\n",
      "drwxr-xr-x 2 root root 4096 十一 10 14:26 /etc/profile.d\r\n",
      "-rw-r--r-- 1 root root 2932  十  25  2014 /etc/protocols\r\n",
      "drwxr-xr-x 2 root root 4096  七  20 04:48 /etc/python\r\n",
      "drwxr-xr-x 2 root root 4096  七  20 04:45 /etc/python2.7\r\n",
      "drwxr-xr-x 2 root root 4096  七  20 04:42 /etc/python3\r\n",
      "drwxr-xr-x 2 root root 4096 十一 10 11:32 /etc/python3.5\r\n"
     ]
    }
   ],
   "source": [
    "!ls -ld /etc/p[^aeiou]*"
   ]
  },
  {
   "cell_type": "markdown",
   "metadata": {},
   "source": [
    "where [!aeiou] means: not a or e or i or u.\n",
    "\n",
    "Indeed,in this case, regular expressoin  [^aeiou] also works."
   ]
  },
  {
   "cell_type": "code",
   "execution_count": 47,
   "metadata": {
    "collapsed": false
   },
   "outputs": [],
   "source": [
    "!touch d{m,n,o}t"
   ]
  },
  {
   "cell_type": "code",
   "execution_count": 49,
   "metadata": {
    "collapsed": false
   },
   "outputs": [
    {
     "name": "stdout",
     "output_type": "stream",
     "text": [
      "BASH.ipynb  d{m,n,o}t\r\n"
     ]
    }
   ],
   "source": [
    "!ls"
   ]
  },
  {
   "cell_type": "markdown",
   "metadata": {},
   "source": [
    "#### regular expression"
   ]
  },
  {
   "cell_type": "code",
   "execution_count": 59,
   "metadata": {
    "collapsed": true
   },
   "outputs": [],
   "source": [
    "import re"
   ]
  },
  {
   "cell_type": "code",
   "execution_count": 52,
   "metadata": {
    "collapsed": false
   },
   "outputs": [
    {
     "name": "stdout",
     "output_type": "stream",
     "text": [
      "--2016-11-10 14:27:34--  http://linux.vbird.org/linux_basic/0330regularex/regular_express.txt\r\n",
      "Resolving linux.vbird.org (linux.vbird.org)... 140.116.44.180\r\n",
      "Connecting to linux.vbird.org (linux.vbird.org)|140.116.44.180|:80... connected.\r\n",
      "HTTP request sent, awaiting response... 200 OK\r\n",
      "Length: 650 [text/plain]\r\n",
      "Saving to: ‘regular_express.txt’\r\n",
      "\r\n",
      "\r",
      "regular_express.txt   0%[                    ]       0  --.-KB/s               \r",
      "regular_express.txt 100%[===================>]     650  --.-KB/s    in 0s      \r\n",
      "\r\n",
      "2016-11-10 14:27:34 (239 MB/s) - ‘regular_express.txt’ saved [650/650]\r\n",
      "\r\n"
     ]
    }
   ],
   "source": [
    "!wget http://linux.vbird.org/linux_basic/0330regularex/regular_express.txt"
   ]
  },
  {
   "cell_type": "code",
   "execution_count": 57,
   "metadata": {
    "collapsed": false
   },
   "outputs": [
    {
     "name": "stdout",
     "output_type": "stream",
     "text": [
      "     1\t\"Open Source\" is a good mechanism to develop programs.\r\n",
      "     2\tapple is my favorite food.\r\n",
      "     3\tFootball game is not use feet only.\r\n",
      "     4\tthis dress doesn't fit me.\r\n",
      "     5\tHowever, this dress is about $ 3183 dollars.\r",
      "\r\n",
      "     6\tGNU is free air not free beer.\r",
      "\r\n",
      "     7\tHer hair is very beauty.\r",
      "\r\n",
      "     8\tI can't finish the test.\r",
      "\r\n",
      "     9\tOh! The soup taste good.\r",
      "\r\n",
      "    10\tmotorcycle is cheap than car.\r\n",
      "    11\tThis window is clear.\r\n",
      "    12\tthe symbol '*' is represented as start.\r\n",
      "    13\tOh!\tMy god!\r\n",
      "    14\tThe gd software is a library for drafting programs.\r",
      "\r\n",
      "    15\tYou are the best is mean you are the no. 1.\r\n",
      "    16\tThe world <Happy> is the same with \"glad\".\r\n",
      "    17\tI like dog.\r\n",
      "    18\tgoogle is the best tools for search keyword.\r\n",
      "    19\tgoooooogle yes!\r\n",
      "    20\tgo! go! Let's go.\r\n",
      "    21\t# I am VBird\r\n",
      "    22\t\r\n"
     ]
    }
   ],
   "source": [
    "!cat -n regular_express.txt"
   ]
  },
  {
   "cell_type": "code",
   "execution_count": 56,
   "metadata": {
    "collapsed": false
   },
   "outputs": [
    {
     "name": "stdout",
     "output_type": "stream",
     "text": [
      "22\r\n"
     ]
    }
   ],
   "source": [
    "!cat regular_express.txt |wc -l"
   ]
  },
  {
   "cell_type": "code",
   "execution_count": 58,
   "metadata": {
    "collapsed": false
   },
   "outputs": [
    {
     "name": "stdout",
     "output_type": "stream",
     "text": [
      "8:I can't finish the test.\r",
      "\r\n",
      "12:the symbol '*' is represented as start.\r\n",
      "15:You are the best is mean you are the no. 1.\r\n",
      "16:The world <Happy> is the same with \"glad\".\r\n",
      "18:google is the best tools for search keyword.\r\n"
     ]
    }
   ],
   "source": [
    "!grep -n 'the' regular_express.txt"
   ]
  },
  {
   "cell_type": "markdown",
   "metadata": {},
   "source": [
    "the above BASH command is the same as the following code in Python:"
   ]
  },
  {
   "cell_type": "code",
   "execution_count": 102,
   "metadata": {
    "collapsed": false
   },
   "outputs": [
    {
     "name": "stdout",
     "output_type": "stream",
     "text": [
      "I can't finish the test.\r\n",
      "\n",
      "the symbol '*' is represented as start.\n",
      "\n",
      "You are the best is mean you are the no. 1.\n",
      "\n",
      "The world <Happy> is the same with \"glad\".\n",
      "\n",
      "google is the best tools for search keyword.\n",
      "\n"
     ]
    }
   ],
   "source": [
    "pattern = re.compile('the')\n",
    "\n",
    "for line in open(\"regular_express.txt\", \"r\"):\n",
    "    if pattern.search(line) is not None:\n",
    "        print line"
   ]
  },
  {
   "cell_type": "code",
   "execution_count": 66,
   "metadata": {
    "collapsed": false
   },
   "outputs": [
    {
     "name": "stdout",
     "output_type": "stream",
     "text": [
      "1:\"Open Source\" is a good mechanism to develop programs.\r\n",
      "2:apple is my favorite food.\r\n",
      "3:Football game is not use feet only.\r\n",
      "4:this dress doesn't fit me.\r\n",
      "5:However, this dress is about $ 3183 dollars.\r",
      "\r\n",
      "6:GNU is free air not free beer.\r",
      "\r\n",
      "7:Her hair is very beauty.\r",
      "\r\n",
      "9:Oh! The soup taste good.\r",
      "\r\n",
      "10:motorcycle is cheap than car.\r\n",
      "11:This window is clear.\r\n",
      "13:Oh!\tMy god!\r\n",
      "14:The gd software is a library for drafting programs.\r",
      "\r\n",
      "17:I like dog.\r\n",
      "19:goooooogle yes!\r\n",
      "20:go! go! Let's go.\r\n",
      "21:# I am VBird\r\n",
      "22:\r\n"
     ]
    }
   ],
   "source": [
    "!grep -nv 'the' regular_express.txt"
   ]
  },
  {
   "cell_type": "code",
   "execution_count": 67,
   "metadata": {
    "collapsed": false
   },
   "outputs": [
    {
     "name": "stdout",
     "output_type": "stream",
     "text": [
      "8:I can't finish the test.\r",
      "\r\n",
      "9:Oh! The soup taste good.\r",
      "\r\n",
      "12:the symbol '*' is represented as start.\r\n",
      "14:The gd software is a library for drafting programs.\r",
      "\r\n",
      "15:You are the best is mean you are the no. 1.\r\n",
      "16:The world <Happy> is the same with \"glad\".\r\n",
      "18:google is the best tools for search keyword.\r\n"
     ]
    }
   ],
   "source": [
    "!grep -ni 'the' regular_express.txt"
   ]
  },
  {
   "cell_type": "code",
   "execution_count": 68,
   "metadata": {
    "collapsed": false
   },
   "outputs": [
    {
     "name": "stdout",
     "output_type": "stream",
     "text": [
      "6:GNU is free air not free beer.\r",
      "\r\n",
      "7:Her hair is very beauty.\r",
      "\r\n"
     ]
    }
   ],
   "source": [
    "!grep -n 'air' regular_express.txt"
   ]
  },
  {
   "cell_type": "code",
   "execution_count": 86,
   "metadata": {
    "collapsed": false
   },
   "outputs": [
    {
     "name": "stdout",
     "output_type": "stream",
     "text": [
      "8:I can't finish the test.\r",
      "\r\n",
      "9:Oh! The soup taste good.\r",
      "\r\n"
     ]
    }
   ],
   "source": [
    "!grep -ni 't[ae]st' regular_express.txt"
   ]
  },
  {
   "cell_type": "code",
   "execution_count": 90,
   "metadata": {
    "collapsed": false
   },
   "outputs": [
    {
     "name": "stdout",
     "output_type": "stream",
     "text": [
      "8:I can't finish the test.\r",
      "\r\n",
      "9:Oh! The soup taste good.\r",
      "\r\n"
     ]
    }
   ],
   "source": [
    "!grep -n 't[ae]st' regular_express.txt"
   ]
  },
  {
   "cell_type": "code",
   "execution_count": 94,
   "metadata": {
    "collapsed": false
   },
   "outputs": [
    {
     "name": "stdout",
     "output_type": "stream",
     "text": [
      "2:apple is my favorite food.\r\n",
      "3:Football game is not use feet only.\r\n",
      "18:google is the best tools for search keyword.\r\n",
      "19:goooooogle yes!\r\n"
     ]
    }
   ],
   "source": [
    "!grep -n '[^g]oo' regular_express.txt"
   ]
  },
  {
   "cell_type": "code",
   "execution_count": 106,
   "metadata": {
    "collapsed": false
   },
   "outputs": [
    {
     "name": "stdout",
     "output_type": "stream",
     "text": [
      "5:However, this dress is about $ 3183 dollars.\r",
      "\r\n",
      "15:You are the best is mean you are the no. 1.\r\n"
     ]
    }
   ],
   "source": [
    "!grep -n '[[:digit:]]' regular_express.txt"
   ]
  },
  {
   "cell_type": "code",
   "execution_count": 105,
   "metadata": {
    "collapsed": false
   },
   "outputs": [
    {
     "name": "stdout",
     "output_type": "stream",
     "text": [
      "1:\"Open Source\" is a good mechanism to develop programs.\r\n",
      "2:apple is my favorite food.\r\n",
      "3:Football game is not use feet only.\r\n",
      "4:this dress doesn't fit me.\r\n",
      "5:However, this dress is about $ 3183 dollars.\r",
      "\r\n",
      "6:GNU is free air not free beer.\r",
      "\r\n",
      "7:Her hair is very beauty.\r",
      "\r\n",
      "8:I can't finish the test.\r",
      "\r\n",
      "9:Oh! The soup taste good.\r",
      "\r\n",
      "10:motorcycle is cheap than car.\r\n",
      "11:This window is clear.\r\n",
      "12:the symbol '*' is represented as start.\r\n",
      "13:Oh!\tMy god!\r\n",
      "14:The gd software is a library for drafting programs.\r",
      "\r\n",
      "15:You are the best is mean you are the no. 1.\r\n",
      "16:The world <Happy> is the same with \"glad\".\r\n",
      "17:I like dog.\r\n",
      "18:google is the best tools for search keyword.\r\n",
      "19:goooooogle yes!\r\n",
      "20:go! go! Let's go.\r\n",
      "21:# I am VBird\r\n"
     ]
    }
   ],
   "source": [
    "!grep -n '[[:lower:]]' regular_express.txt"
   ]
  },
  {
   "cell_type": "markdown",
   "metadata": {},
   "source": [
    "#### get the line which is not started by any capital or lower-case alphabets:"
   ]
  },
  {
   "cell_type": "code",
   "execution_count": 107,
   "metadata": {
    "collapsed": false
   },
   "outputs": [
    {
     "name": "stdout",
     "output_type": "stream",
     "text": [
      "1:\"Open Source\" is a good mechanism to develop programs.\r\n",
      "21:# I am VBird\r\n"
     ]
    }
   ],
   "source": [
    "!grep -n '^[^A-Za-z]' regular_express.txt"
   ]
  },
  {
   "cell_type": "markdown",
   "metadata": {},
   "source": [
    "#### get the line which is ended by '!':"
   ]
  },
  {
   "cell_type": "code",
   "execution_count": 108,
   "metadata": {
    "collapsed": false
   },
   "outputs": [
    {
     "name": "stdout",
     "output_type": "stream",
     "text": [
      "13:Oh!\tMy god!\r\n",
      "19:goooooogle yes!\r\n"
     ]
    }
   ],
   "source": [
    "!grep -n '!$' regular_express.txt"
   ]
  },
  {
   "cell_type": "markdown",
   "metadata": {},
   "source": [
    "#### get the line which is ended by '.'   :"
   ]
  },
  {
   "cell_type": "code",
   "execution_count": 109,
   "metadata": {
    "collapsed": false
   },
   "outputs": [
    {
     "name": "stdout",
     "output_type": "stream",
     "text": [
      "1:\"Open Source\" is a good mechanism to develop programs.\r\n",
      "2:apple is my favorite food.\r\n",
      "3:Football game is not use feet only.\r\n",
      "4:this dress doesn't fit me.\r\n",
      "5:However, this dress is about $ 3183 dollars.\r",
      "\r\n",
      "6:GNU is free air not free beer.\r",
      "\r\n",
      "7:Her hair is very beauty.\r",
      "\r\n",
      "8:I can't finish the test.\r",
      "\r\n",
      "9:Oh! The soup taste good.\r",
      "\r\n",
      "10:motorcycle is cheap than car.\r\n",
      "11:This window is clear.\r\n",
      "12:the symbol '*' is represented as start.\r\n",
      "13:Oh!\tMy god!\r\n",
      "14:The gd software is a library for drafting programs.\r",
      "\r\n",
      "15:You are the best is mean you are the no. 1.\r\n",
      "16:The world <Happy> is the same with \"glad\".\r\n",
      "17:I like dog.\r\n",
      "18:google is the best tools for search keyword.\r\n",
      "19:goooooogle yes!\r\n",
      "20:go! go! Let's go.\r\n",
      "21:# I am VBird\r\n"
     ]
    }
   ],
   "source": [
    "!grep -n '.$' regular_express.txt"
   ]
  },
  {
   "cell_type": "code",
   "execution_count": 110,
   "metadata": {
    "collapsed": false
   },
   "outputs": [
    {
     "name": "stdout",
     "output_type": "stream",
     "text": [
      "10:motorcycle is cheap than car.\r\n",
      "11:This window is clear.\r\n"
     ]
    }
   ],
   "source": [
    "!grep -n 's.c' regular_express.txt"
   ]
  },
  {
   "cell_type": "code",
   "execution_count": 111,
   "metadata": {
    "collapsed": true
   },
   "outputs": [],
   "source": [
    "!grep -n 's[a-zA-Z]c' regular_express.txt"
   ]
  },
  {
   "cell_type": "code",
   "execution_count": 112,
   "metadata": {
    "collapsed": false
   },
   "outputs": [
    {
     "name": "stdout",
     "output_type": "stream",
     "text": [
      "1:\"Open Source\" is a good mechanism to develop programs.\r\n",
      "2:apple is my favorite food.\r\n",
      "3:Football game is not use feet only.\r\n",
      "9:Oh! The soup taste good.\r",
      "\r\n",
      "18:google is the best tools for search keyword.\r\n",
      "19:goooooogle yes!\r\n"
     ]
    }
   ],
   "source": [
    "!grep -n 'oo' regular_express.txt"
   ]
  },
  {
   "cell_type": "code",
   "execution_count": 113,
   "metadata": {
    "collapsed": false
   },
   "outputs": [
    {
     "name": "stdout",
     "output_type": "stream",
     "text": [
      "1:\"Open Source\" is a good mechanism to develop programs.\r\n",
      "2:apple is my favorite food.\r\n",
      "3:Football game is not use feet only.\r\n",
      "9:Oh! The soup taste good.\r",
      "\r\n",
      "18:google is the best tools for search keyword.\r\n",
      "19:goooooogle yes!\r\n"
     ]
    }
   ],
   "source": [
    "!grep -n 'ooo*' regular_express.txt"
   ]
  },
  {
   "cell_type": "code",
   "execution_count": null,
   "metadata": {
    "collapsed": true
   },
   "outputs": [],
   "source": [
    "!grep -n 'g*g' regular_express.txt"
   ]
  },
  {
   "cell_type": "markdown",
   "metadata": {},
   "source": [
    "using 'ooo*' will lead to the same result as using 'oo'"
   ]
  },
  {
   "cell_type": "code",
   "execution_count": 115,
   "metadata": {
    "collapsed": false
   },
   "outputs": [
    {
     "name": "stdout",
     "output_type": "stream",
     "text": [
      "18:google is the best tools for search keyword.\r\n",
      "19:goooooogle yes!\r\n"
     ]
    }
   ],
   "source": [
    "!grep -nE 'goo+g' regular_express.txt"
   ]
  },
  {
   "cell_type": "code",
   "execution_count": 4,
   "metadata": {
    "collapsed": false
   },
   "outputs": [
    {
     "name": "stdout",
     "output_type": "stream",
     "text": [
      "0 R  1000  3234  1627  8  80   0 - 313080 -     ?        00:01:25 firefox\r\n",
      "0 R  1000  4102  4101  0  80   0 -  7379 -      pts/19   00:00:00 ps\r\n"
     ]
    }
   ],
   "source": [
    "!ps -el |grep -E '^[0-9]+ R'"
   ]
  },
  {
   "cell_type": "markdown",
   "metadata": {},
   "source": [
    "-E flag has to be added if one want to use expressions such as + or |."
   ]
  },
  {
   "cell_type": "code",
   "execution_count": 119,
   "metadata": {
    "collapsed": false
   },
   "outputs": [
    {
     "name": "stdout",
     "output_type": "stream",
     "text": [
      "/sbin\r\n",
      "/sbin/rtacct\r\n",
      "/sbin/rtmon\r\n",
      "/sbin/tc\r\n",
      "/sbin/tipc\r\n",
      "/sbin/bridge\r\n",
      "/bin\r\n",
      "/bin/ss\r\n",
      "/bin/ip\r\n",
      "/usr/sbin\r\n",
      "/usr/sbin/arpd\r\n",
      "/usr/sbin/genl\r\n",
      "/usr/bin\r\n",
      "/usr/bin/routel\r\n",
      "/usr/bin/nstat\r\n",
      "/usr/bin/routef\r\n",
      "/usr/bin/lnstat\r\n",
      "/sbin/ip\r\n",
      "/usr/bin/rtstat\r\n",
      "/usr/bin/ctstat\r\n"
     ]
    }
   ],
   "source": [
    "!dpkg -L iproute2 | grep -E '/bin|/sbin'"
   ]
  },
  {
   "cell_type": "code",
   "execution_count": 120,
   "metadata": {
    "collapsed": false
   },
   "outputs": [
    {
     "name": "stdout",
     "output_type": "stream",
     "text": [
      "20\r\n"
     ]
    }
   ],
   "source": [
    "!dpkg -L iproute2 | grep -E '/bin|/sbin' | wc -l"
   ]
  },
  {
   "cell_type": "code",
   "execution_count": 121,
   "metadata": {
    "collapsed": false
   },
   "outputs": [
    {
     "name": "stdout",
     "output_type": "stream",
     "text": [
      "20\r\n"
     ]
    }
   ],
   "source": [
    "!dpkg -L iproute2 | grep -E '/s?bin' | wc -l"
   ]
  },
  {
   "cell_type": "markdown",
   "metadata": {},
   "source": [
    "#### Remark\n",
    "\n",
    "?: showing once or 0 times\n",
    "\n",
    "*: showing any times (including 0 times)\n",
    "\n",
    "+: showing at least once"
   ]
  },
  {
   "cell_type": "markdown",
   "metadata": {},
   "source": [
    "#### Remark:\n",
    "\n",
    "-i, --ignore-case\n",
    "\n",
    "-v  --invert-match\n",
    "\n",
    "-n, --line-number\n",
    "\n",
    "-E: extended"
   ]
  },
  {
   "cell_type": "code",
   "execution_count": 77,
   "metadata": {
    "collapsed": true
   },
   "outputs": [],
   "source": [
    "f=open(\"regular_express.txt\", \"r\")\n",
    "file=f.read()"
   ]
  },
  {
   "cell_type": "code",
   "execution_count": 81,
   "metadata": {
    "collapsed": false
   },
   "outputs": [
    {
     "name": "stdout",
     "output_type": "stream",
     "text": [
      "'\"Open Source\" is a good mechanism to develop programs.\\napple is my favorite food.\\nFootball game is not use feet only.\\nthis dress doesn\\'t fit me.\\nHowever, this dress is about $ 3183 dollars.\\r\\nGNU is free air not free beer.\\r\\nHer hair is very beauty.\\r\\nI can\\'t finish the test.\\r\\nOh! The soup taste good.\\r\\nmotorcycle is cheap than car.\\nThis window is clear.\\nthe symbol \\'*\\' is represented as start.\\nOh!\\tMy god!\\nThe gd software is a library for drafting programs.\\r\\nYou are the best is mean you are the no. 1.\\nThe world <Happy> is the same with \"glad\".\\nI like dog.\\ngoogle is the best tools for search keyword.\\ngoooooogle yes!\\ngo! go! Let\\'s go.\\n# I am VBird\\n\\n'\n"
     ]
    }
   ],
   "source": [
    "print repr(file)"
   ]
  },
  {
   "cell_type": "code",
   "execution_count": 83,
   "metadata": {
    "collapsed": false
   },
   "outputs": [
    {
     "name": "stdout",
     "output_type": "stream",
     "text": [
      "\"Open Source\" is a good mechanism to develop programs.\n",
      "\n",
      "apple is my favorite food.\n",
      "\n",
      "Football game is not use feet only.\n",
      "\n",
      "this dress doesn't fit me.\n",
      "\n",
      "However, this dress is about $ 3183 dollars.\r\n",
      "\n",
      "GNU is free air not free beer.\r\n",
      "\n",
      "Her hair is very beauty.\r\n",
      "\n",
      "I can't finish the test.\r\n",
      "\n",
      "Oh! The soup taste good.\r\n",
      "\n",
      "motorcycle is cheap than car.\n",
      "\n",
      "This window is clear.\n",
      "\n",
      "the symbol '*' is represented as start.\n",
      "\n",
      "Oh!\tMy god!\n",
      "\n",
      "The gd software is a library for drafting programs.\r\n",
      "\n",
      "You are the best is mean you are the no. 1.\n",
      "\n",
      "The world <Happy> is the same with \"glad\".\n",
      "\n",
      "I like dog.\n",
      "\n",
      "google is the best tools for search keyword.\n",
      "\n",
      "goooooogle yes!\n",
      "\n",
      "go! go! Let's go.\n",
      "\n",
      "# I am VBird\n",
      "\n",
      "\n",
      "\n"
     ]
    }
   ],
   "source": [
    "for line in open(\"regular_express.txt\", \"r\"):\n",
    "    print line"
   ]
  },
  {
   "cell_type": "code",
   "execution_count": 142,
   "metadata": {
    "collapsed": true
   },
   "outputs": [],
   "source": [
    "os.mkdir(\"tmp\")"
   ]
  },
  {
   "cell_type": "code",
   "execution_count": 144,
   "metadata": {
    "collapsed": false
   },
   "outputs": [
    {
     "data": {
      "text/plain": [
       "['.ipynb_checkpoints',\n",
       " 'regular_express.txt',\n",
       " 'BASH.ipynb',\n",
       " 'tmp',\n",
       " '02.txt',\n",
       " '01.txt']"
      ]
     },
     "execution_count": 144,
     "metadata": {},
     "output_type": "execute_result"
    }
   ],
   "source": [
    "os.listdir(os.getcwd())"
   ]
  },
  {
   "cell_type": "code",
   "execution_count": 145,
   "metadata": {
    "collapsed": false
   },
   "outputs": [
    {
     "name": "stdout",
     "output_type": "stream",
     "text": [
      "01.txt  02.txt  BASH.ipynb  regular_express.txt  \u001b[0m\u001b[01;34mtmp\u001b[0m/\r\n"
     ]
    }
   ],
   "source": [
    "ls"
   ]
  },
  {
   "cell_type": "code",
   "execution_count": 147,
   "metadata": {
    "collapsed": false
   },
   "outputs": [],
   "source": [
    "os.removedirs(\"tmp\")"
   ]
  },
  {
   "cell_type": "code",
   "execution_count": 148,
   "metadata": {
    "collapsed": false
   },
   "outputs": [
    {
     "data": {
      "text/plain": [
       "['.ipynb_checkpoints', 'regular_express.txt', 'BASH.ipynb', '02.txt', '01.txt']"
      ]
     },
     "execution_count": 148,
     "metadata": {},
     "output_type": "execute_result"
    }
   ],
   "source": [
    "os.listdir(\".\")"
   ]
  },
  {
   "cell_type": "markdown",
   "metadata": {},
   "source": [
    "#### learn a bit of os.walk():"
   ]
  },
  {
   "cell_type": "code",
   "execution_count": 141,
   "metadata": {
    "collapsed": false
   },
   "outputs": [
    {
     "name": "stdout",
     "output_type": "stream",
     "text": [
      "/home/chweng/Desktop ['.ipynb_checkpoints'] ['regular_express.txt', 'BASH.ipynb', '02.txt', '01.txt']\n",
      "\n",
      "/home/chweng/Desktop/.ipynb_checkpoints [] ['BASH-checkpoint.ipynb']\n",
      "\n"
     ]
    }
   ],
   "source": [
    "for root,dirs,files in os.walk(os.getcwd()):\n",
    "    print root,dirs,files\n",
    "    print"
   ]
  },
  {
   "cell_type": "code",
   "execution_count": 139,
   "metadata": {
    "collapsed": false
   },
   "outputs": [
    {
     "name": "stdout",
     "output_type": "stream",
     "text": [
      "/home/chweng/Desktop/regular_express.txt\n",
      "/home/chweng/Desktop/BASH.ipynb\n",
      "/home/chweng/Desktop/02.txt\n",
      "/home/chweng/Desktop/01.txt\n",
      "/home/chweng/Desktop/.ipynb_checkpoints/BASH-checkpoint.ipynb\n"
     ]
    }
   ],
   "source": [
    "for root, dirs, files in os.walk(os.getcwd()):\n",
    "    for file in files:\n",
    "        print os.path.join(root,file)"
   ]
  },
  {
   "cell_type": "code",
   "execution_count": 140,
   "metadata": {
    "collapsed": false
   },
   "outputs": [
    {
     "name": "stdout",
     "output_type": "stream",
     "text": [
      "regular_express.txt\n",
      "02.txt\n",
      "01.txt\n"
     ]
    }
   ],
   "source": [
    "for root, dirs, files in os.walk(os.getcwd()):\n",
    "    for file in files:\n",
    "        if file.endswith('.txt'):\n",
    "            print file"
   ]
  },
  {
   "cell_type": "code",
   "execution_count": 129,
   "metadata": {
    "collapsed": false
   },
   "outputs": [
    {
     "name": "stdout",
     "output_type": "stream",
     "text": [
      "regex: /usr/include/regex.h /usr/share/man/man7/regex.7.gz /usr/share/man/man3/regex.3.gz\r\n"
     ]
    }
   ],
   "source": [
    "!whereis regex"
   ]
  },
  {
   "cell_type": "code",
   "execution_count": 134,
   "metadata": {
    "collapsed": false,
    "scrolled": true
   },
   "outputs": [
    {
     "name": "stdout",
     "output_type": "stream",
     "text": [
      "/sbin/ifconfig\n",
      "find: ‘/var/log/speech-dispatcher’: Permission denied\n",
      "find: ‘/var/spool/cron/crontabs’: Permission denied\n",
      "find: ‘/var/spool/rsyslog’: Permission denied\n",
      "find: ‘/var/spool/cups’: Permission denied\n",
      "find: ‘/var/tmp/systemd-private-afc138ceb54243c3a5716b4d8461193b-rtkit-daemon.service-D41G1R’: Permission denied\n",
      "find: ‘/var/tmp/systemd-private-afc138ceb54243c3a5716b4d8461193b-colord.service-xwcQ6G’: Permission denied\n",
      "find: ‘/var/cache/apt/archives/partial’: Permission denied\n",
      "find: ‘/var/cache/ldconfig’: Permission denied\n",
      "find: ‘/var/cache/cups’: Permission denied\n",
      "find: ‘/var/cache/lightdm/dmrc’: Permission denied\n",
      "find: ‘/var/lib/lightdm-data/lightdm’: Permission denied\n",
      "find: ‘/var/lib/udisks2’: Permission denied\n",
      "find: ‘/var/lib/colord/.cache’: Permission denied\n",
      "find: ‘/var/lib/polkit-1’: Permission denied\n",
      "find: ‘/var/lib/apt/lists/partial’: Permission denied\n",
      "find: ‘/var/lib/lightdm’: Permission denied\n",
      "find: ‘/run/udisks2’: Permission denied\n",
      "find: ‘/run/lightdm’: Permission denied\n",
      "find: ‘/run/cups/certs’: Permission denied\n",
      "find: ‘/run/sudo’: Permission denied\n",
      "find: ‘/run/lvm’: Permission denied\n",
      "find: ‘/run/systemd/ask-password-block’: Permission denied\n",
      "find: ‘/run/systemd/inaccessible’: Permission denied\n",
      "find: ‘/run/lock/lvm’: Permission denied\n",
      "find: ‘/root’: Permission denied\n",
      "find: ‘/etc/polkit-1/localauthority’: Permission denied\n",
      "find: ‘/etc/lvm/archive’: Permission denied\n",
      "find: ‘/etc/lvm/backup’: Permission denied\n",
      "find: ‘/etc/cups/ssl’: Permission denied\n",
      "find: ‘/etc/ssl/private’: Permission denied\n",
      "find: ‘/proc/tty/driver’: Permission denied\n",
      "find: ‘/proc/1/task/1/fd’: Permission denied\n",
      "find: ‘/proc/1/task/1/fdinfo’: Permission denied\n",
      "find: ‘/proc/1/task/1/ns’: Permission denied\n",
      "find: ‘/proc/1/fd’: Permission denied\n",
      "find: ‘/proc/1/map_files’: Permission denied\n",
      "find: ‘/proc/1/fdinfo’: Permission denied\n",
      "find: ‘/proc/1/ns’: Permission denied\n",
      "find: ‘/proc/2/task/2/fd’: Permission denied\n",
      "find: ‘/proc/2/task/2/fdinfo’: Permission denied\n",
      "find: ‘/proc/2/task/2/ns’: Permission denied\n",
      "find: ‘/proc/2/fd’: Permission denied\n",
      "find: ‘/proc/2/map_files’: Permission denied\n",
      "find: ‘/proc/2/fdinfo’: Permission denied\n",
      "find: ‘/proc/2/ns’: Permission denied\n",
      "find: ‘/proc/3/task/3/fd’: Permission denied\n",
      "find: ‘/proc/3/task/3/fdinfo’: Permission denied\n",
      "find: ‘/proc/3/task/3/ns’: Permission denied\n",
      "find: ‘/proc/3/fd’: Permission denied\n",
      "find: ‘/proc/3/map_files’: Permission denied\n",
      "find: ‘/proc/3/fdinfo’: Permission denied\n",
      "find: ‘/proc/3/ns’: Permission denied\n",
      "find: ‘/proc/5/task/5/fd’: Permission denied\n",
      "find: ‘/proc/5/task/5/fdinfo’: Permission denied\n",
      "find: ‘/proc/5/task/5/ns’: Permission denied\n",
      "find: ‘/proc/5/fd’: Permission denied\n",
      "find: ‘/proc/5/map_files’: Permission denied\n",
      "find: ‘/proc/5/fdinfo’: Permission denied\n",
      "find: ‘/proc/5/ns’: Permission denied\n",
      "find: ‘/proc/7/task/7/fd’: Permission denied\n",
      "find: ‘/proc/7/task/7/fdinfo’: Permission denied\n",
      "find: ‘/proc/7/task/7/ns’: Permission denied\n",
      "find: ‘/proc/7/fd’: Permission denied\n",
      "find: ‘/proc/7/map_files’: Permission denied\n",
      "find: ‘/proc/7/fdinfo’: Permission denied\n",
      "find: ‘/proc/7/ns’: Permission denied\n",
      "find: ‘/proc/8/task/8/fd’: Permission denied\n",
      "find: ‘/proc/8/task/8/fdinfo’: Permission denied\n",
      "find: ‘/proc/8/task/8/ns’: Permission denied\n",
      "find: ‘/proc/8/fd’: Permission denied\n",
      "find: ‘/proc/8/map_files’: Permission denied\n",
      "find: ‘/proc/8/fdinfo’: Permission denied\n",
      "find: ‘/proc/8/ns’: Permission denied\n",
      "find: ‘/proc/9/task/9/fd’: Permission denied\n",
      "find: ‘/proc/9/task/9/fdinfo’: Permission denied\n",
      "find: ‘/proc/9/task/9/ns’: Permission denied\n",
      "find: ‘/proc/9/fd’: Permission denied\n",
      "find: ‘/proc/9/map_files’: Permission denied\n",
      "find: ‘/proc/9/fdinfo’: Permission denied\n",
      "find: ‘/proc/9/ns’: Permission denied\n",
      "find: ‘/proc/10/task/10/fd’: Permission denied\n",
      "find: ‘/proc/10/task/10/fdinfo’: Permission denied\n",
      "find: ‘/proc/10/task/10/ns’: Permission denied\n",
      "find: ‘/proc/10/fd’: Permission denied\n",
      "find: ‘/proc/10/map_files’: Permission denied\n",
      "find: ‘/proc/10/fdinfo’: Permission denied\n",
      "find: ‘/proc/10/ns’: Permission denied\n",
      "find: ‘/proc/11/task/11/fd’: Permission denied\n",
      "find: ‘/proc/11/task/11/fdinfo’: Permission denied\n",
      "find: ‘/proc/11/task/11/ns’: Permission denied\n",
      "find: ‘/proc/11/fd’: Permission denied\n",
      "find: ‘/proc/11/map_files’: Permission denied\n",
      "find: ‘/proc/11/fdinfo’: Permission denied\n",
      "find: ‘/proc/11/ns’: Permission denied\n",
      "find: ‘/proc/12/task/12/fd’: Permission denied\n",
      "find: ‘/proc/12/task/12/fdinfo’: Permission denied\n",
      "find: ‘/proc/12/task/12/ns’: Permission denied\n",
      "find: ‘/proc/12/fd’: Permission denied\n",
      "find: ‘/proc/12/map_files’: Permission denied\n",
      "find: ‘/proc/12/fdinfo’: Permission denied\n",
      "find: ‘/proc/12/ns’: Permission denied\n",
      "find: ‘/proc/13/task/13/fd’: Permission denied\n",
      "find: ‘/proc/13/task/13/fdinfo’: Permission denied\n",
      "find: ‘/proc/13/task/13/ns’: Permission denied\n",
      "find: ‘/proc/13/fd’: Permission denied\n",
      "find: ‘/proc/13/map_files’: Permission denied\n",
      "find: ‘/proc/13/fdinfo’: Permission denied\n",
      "find: ‘/proc/13/ns’: Permission denied\n",
      "find: ‘/proc/15/task/15/fd’: Permission denied\n",
      "find: ‘/proc/15/task/15/fdinfo’: Permission denied\n",
      "find: ‘/proc/15/task/15/ns’: Permission denied\n",
      "find: ‘/proc/15/fd’: Permission denied\n",
      "find: ‘/proc/15/map_files’: Permission denied\n",
      "find: ‘/proc/15/fdinfo’: Permission denied\n",
      "find: ‘/proc/15/ns’: Permission denied\n",
      "find: ‘/proc/16/task/16/fd’: Permission denied\n",
      "find: ‘/proc/16/task/16/fdinfo’: Permission denied\n",
      "find: ‘/proc/16/task/16/ns’: Permission denied\n",
      "find: ‘/proc/16/fd’: Permission denied\n",
      "find: ‘/proc/16/map_files’: Permission denied\n",
      "find: ‘/proc/16/fdinfo’: Permission denied\n",
      "find: ‘/proc/16/ns’: Permission denied\n",
      "find: ‘/proc/17/task/17/fd’: Permission denied\n",
      "find: ‘/proc/17/task/17/fdinfo’: Permission denied\n",
      "find: ‘/proc/17/task/17/ns’: Permission denied\n",
      "find: ‘/proc/17/fd’: Permission denied\n",
      "find: ‘/proc/17/map_files’: Permission denied\n",
      "find: ‘/proc/17/fdinfo’: Permission denied\n",
      "find: ‘/proc/17/ns’: Permission denied\n",
      "find: ‘/proc/18/task/18/fd’: Permission denied\n",
      "find: ‘/proc/18/task/18/fdinfo’: Permission denied\n",
      "find: ‘/proc/18/task/18/ns’: Permission denied\n",
      "find: ‘/proc/18/fd’: Permission denied\n",
      "find: ‘/proc/18/map_files’: Permission denied\n",
      "find: ‘/proc/18/fdinfo’: Permission denied\n",
      "find: ‘/proc/18/ns’: Permission denied\n",
      "find: ‘/proc/19/task/19/fd’: Permission denied\n",
      "find: ‘/proc/19/task/19/fdinfo’: Permission denied\n",
      "find: ‘/proc/19/task/19/ns’: Permission denied\n",
      "find: ‘/proc/19/fd’: Permission denied\n",
      "find: ‘/proc/19/map_files’: Permission denied\n",
      "find: ‘/proc/19/fdinfo’: Permission denied\n",
      "find: ‘/proc/19/ns’: Permission denied\n",
      "find: ‘/proc/20/task/20/fd’: Permission denied\n",
      "find: ‘/proc/20/task/20/fdinfo’: Permission denied\n",
      "find: ‘/proc/20/task/20/ns’: Permission denied\n",
      "find: ‘/proc/20/fd’: Permission denied\n",
      "find: ‘/proc/20/map_files’: Permission denied\n",
      "find: ‘/proc/20/fdinfo’: Permission denied\n",
      "find: ‘/proc/20/ns’: Permission denied\n",
      "find: ‘/proc/21/task/21/fd’: Permission denied\n",
      "find: ‘/proc/21/task/21/fdinfo’: Permission denied\n",
      "find: ‘/proc/21/task/21/ns’: Permission denied\n",
      "find: ‘/proc/21/fd’: Permission denied\n",
      "find: ‘/proc/21/map_files’: Permission denied\n",
      "find: ‘/proc/21/fdinfo’: Permission denied\n",
      "find: ‘/proc/21/ns’: Permission denied\n",
      "find: ‘/proc/22/task/22/fd’: Permission denied\n",
      "find: ‘/proc/22/task/22/fdinfo’: Permission denied\n",
      "find: ‘/proc/22/task/22/ns’: Permission denied\n",
      "find: ‘/proc/22/fd’: Permission denied\n",
      "find: ‘/proc/22/map_files’: Permission denied\n",
      "find: ‘/proc/22/fdinfo’: Permission denied\n",
      "find: ‘/proc/22/ns’: Permission denied\n",
      "find: ‘/proc/23/task/23/fd’: Permission denied\n",
      "find: ‘/proc/23/task/23/fdinfo’: Permission denied\n",
      "find: ‘/proc/23/task/23/ns’: Permission denied\n",
      "find: ‘/proc/23/fd’: Permission denied\n",
      "find: ‘/proc/23/map_files’: Permission denied\n",
      "find: ‘/proc/23/fdinfo’: Permission denied\n",
      "find: ‘/proc/23/ns’: Permission denied\n",
      "find: ‘/proc/24/task/24/fd’: Permission denied\n",
      "find: ‘/proc/24/task/24/fdinfo’: Permission denied\n",
      "find: ‘/proc/24/task/24/ns’: Permission denied\n",
      "find: ‘/proc/24/fd’: Permission denied\n",
      "find: ‘/proc/24/map_files’: Permission denied\n",
      "find: ‘/proc/24/fdinfo’: Permission denied\n",
      "find: ‘/proc/24/ns’: Permission denied\n",
      "find: ‘/proc/25/task/25/fd’: Permission denied\n",
      "find: ‘/proc/25/task/25/fdinfo’: Permission denied\n",
      "find: ‘/proc/25/task/25/ns’: Permission denied\n",
      "find: ‘/proc/25/fd’: Permission denied\n",
      "find: ‘/proc/25/map_files’: Permission denied\n",
      "find: ‘/proc/25/fdinfo’: Permission denied\n",
      "find: ‘/proc/25/ns’: Permission denied\n",
      "find: ‘/proc/26/task/26/fd’: Permission denied\n",
      "find: ‘/proc/26/task/26/fdinfo’: Permission denied\n",
      "find: ‘/proc/26/task/26/ns’: Permission denied\n",
      "find: ‘/proc/26/fd’: Permission denied\n",
      "find: ‘/proc/26/map_files’: Permission denied\n",
      "find: ‘/proc/26/fdinfo’: Permission denied\n",
      "find: ‘/proc/26/ns’: Permission denied\n",
      "find: ‘/proc/27/task/27/fd’: Permission denied\n",
      "find: ‘/proc/27/task/27/fdinfo’: Permission denied\n",
      "find: ‘/proc/27/task/27/ns’: Permission denied\n",
      "find: ‘/proc/27/fd’: Permission denied\n",
      "find: ‘/proc/27/map_files’: Permission denied\n",
      "find: ‘/proc/27/fdinfo’: Permission denied\n",
      "find: ‘/proc/27/ns’: Permission denied\n",
      "find: ‘/proc/28/task/28/fd’: Permission denied\n",
      "find: ‘/proc/28/task/28/fdinfo’: Permission denied\n",
      "find: ‘/proc/28/task/28/ns’: Permission denied\n",
      "find: ‘/proc/28/fd’: Permission denied\n",
      "find: ‘/proc/28/map_files’: Permission denied\n",
      "find: ‘/proc/28/fdinfo’: Permission denied\n",
      "find: ‘/proc/28/ns’: Permission denied\n",
      "find: ‘/proc/29/task/29/fd’: Permission denied\n",
      "find: ‘/proc/29/task/29/fdinfo’: Permission denied\n",
      "find: ‘/proc/29/task/29/ns’: Permission denied\n",
      "find: ‘/proc/29/fd’: Permission denied\n",
      "find: ‘/proc/29/map_files’: Permission denied\n",
      "find: ‘/proc/29/fdinfo’: Permission denied\n",
      "find: ‘/proc/29/ns’: Permission denied\n",
      "find: ‘/proc/34/task/34/fd’: Permission denied\n",
      "find: ‘/proc/34/task/34/fdinfo’: Permission denied\n",
      "find: ‘/proc/34/task/34/ns’: Permission denied\n",
      "find: ‘/proc/34/fd’: Permission denied\n",
      "find: ‘/proc/34/map_files’: Permission denied\n",
      "find: ‘/proc/34/fdinfo’: Permission denied\n",
      "find: ‘/proc/34/ns’: Permission denied\n",
      "find: ‘/proc/35/task/35/fd’: Permission denied\n",
      "find: ‘/proc/35/task/35/fdinfo’: Permission denied\n",
      "find: ‘/proc/35/task/35/ns’: Permission denied\n",
      "find: ‘/proc/35/fd’: Permission denied\n",
      "find: ‘/proc/35/map_files’: Permission denied\n",
      "find: ‘/proc/35/fdinfo’: Permission denied\n",
      "find: ‘/proc/35/ns’: Permission denied\n",
      "find: ‘/proc/36/task/36/fd’: Permission denied\n",
      "find: ‘/proc/36/task/36/fdinfo’: Permission denied\n",
      "find: ‘/proc/36/task/36/ns’: Permission denied\n",
      "find: ‘/proc/36/fd’: Permission denied\n",
      "find: ‘/proc/36/map_files’: Permission denied\n",
      "find: ‘/proc/36/fdinfo’: Permission denied\n",
      "find: ‘/proc/36/ns’: Permission denied\n",
      "find: ‘/proc/37/task/37/fd’: Permission denied\n",
      "find: ‘/proc/37/task/37/fdinfo’: Permission denied\n",
      "find: ‘/proc/37/task/37/ns’: Permission denied\n",
      "find: ‘/proc/37/fd’: Permission denied\n",
      "find: ‘/proc/37/map_files’: Permission denied\n",
      "find: ‘/proc/37/fdinfo’: Permission denied\n",
      "find: ‘/proc/37/ns’: Permission denied\n",
      "find: ‘/proc/53/task/53/fd’: Permission denied\n",
      "find: ‘/proc/53/task/53/fdinfo’: Permission denied\n",
      "find: ‘/proc/53/task/53/ns’: Permission denied\n",
      "find: ‘/proc/53/fd’: Permission denied\n",
      "find: ‘/proc/53/map_files’: Permission denied\n",
      "find: ‘/proc/53/fdinfo’: Permission denied\n",
      "find: ‘/proc/53/ns’: Permission denied\n",
      "find: ‘/proc/54/task/54/fd’: Permission denied\n",
      "find: ‘/proc/54/task/54/fdinfo’: Permission denied\n",
      "find: ‘/proc/54/task/54/ns’: Permission denied\n",
      "find: ‘/proc/54/fd’: Permission denied\n",
      "find: ‘/proc/54/map_files’: Permission denied\n",
      "find: ‘/proc/54/fdinfo’: Permission denied\n",
      "find: ‘/proc/54/ns’: Permission denied\n",
      "find: ‘/proc/55/task/55/fd’: Permission denied\n",
      "find: ‘/proc/55/task/55/fdinfo’: Permission denied\n",
      "find: ‘/proc/55/task/55/ns’: Permission denied\n",
      "find: ‘/proc/55/fd’: Permission denied\n",
      "find: ‘/proc/55/map_files’: Permission denied\n",
      "find: ‘/proc/55/fdinfo’: Permission denied\n",
      "find: ‘/proc/55/ns’: Permission denied\n",
      "find: ‘/proc/56/task/56/fd’: Permission denied\n",
      "find: ‘/proc/56/task/56/fdinfo’: Permission denied\n",
      "find: ‘/proc/56/task/56/ns’: Permission denied\n",
      "find: ‘/proc/56/fd’: Permission denied\n",
      "find: ‘/proc/56/map_files’: Permission denied\n",
      "find: ‘/proc/56/fdinfo’: Permission denied\n",
      "find: ‘/proc/56/ns’: Permission denied\n",
      "find: ‘/proc/57/task/57/fd’: Permission denied\n",
      "find: ‘/proc/57/task/57/fdinfo’: Permission denied\n",
      "find: ‘/proc/57/task/57/ns’: Permission denied\n",
      "find: ‘/proc/57/fd’: Permission denied\n",
      "find: ‘/proc/57/map_files’: Permission denied\n",
      "find: ‘/proc/57/fdinfo’: Permission denied\n",
      "find: ‘/proc/57/ns’: Permission denied\n",
      "find: ‘/proc/58/task/58/fd’: Permission denied\n",
      "find: ‘/proc/58/task/58/fdinfo’: Permission denied\n",
      "find: ‘/proc/58/task/58/ns’: Permission denied\n",
      "find: ‘/proc/58/fd’: Permission denied\n",
      "find: ‘/proc/58/map_files’: Permission denied\n",
      "find: ‘/proc/58/fdinfo’: Permission denied\n",
      "find: ‘/proc/58/ns’: Permission denied\n",
      "find: ‘/proc/59/task/59/fd’: Permission denied\n",
      "find: ‘/proc/59/task/59/fdinfo’: Permission denied\n",
      "find: ‘/proc/59/task/59/ns’: Permission denied\n",
      "find: ‘/proc/59/fd’: Permission denied\n",
      "find: ‘/proc/59/map_files’: Permission denied\n",
      "find: ‘/proc/59/fdinfo’: Permission denied\n",
      "find: ‘/proc/59/ns’: Permission denied\n",
      "find: ‘/proc/60/task/60/fd’: Permission denied\n",
      "find: ‘/proc/60/task/60/fdinfo’: Permission denied\n",
      "find: ‘/proc/60/task/60/ns’: Permission denied\n",
      "find: ‘/proc/60/fd’: Permission denied\n",
      "find: ‘/proc/60/map_files’: Permission denied\n",
      "find: ‘/proc/60/fdinfo’: Permission denied\n",
      "find: ‘/proc/60/ns’: Permission denied\n",
      "find: ‘/proc/61/task/61/fd’: Permission denied\n",
      "find: ‘/proc/61/task/61/fdinfo’: Permission denied\n",
      "find: ‘/proc/61/task/61/ns’: Permission denied\n",
      "find: ‘/proc/61/fd’: Permission denied\n",
      "find: ‘/proc/61/map_files’: Permission denied\n",
      "find: ‘/proc/61/fdinfo’: Permission denied\n",
      "find: ‘/proc/61/ns’: Permission denied\n",
      "find: ‘/proc/62/task/62/fd’: Permission denied\n",
      "find: ‘/proc/62/task/62/fdinfo’: Permission denied\n",
      "find: ‘/proc/62/task/62/ns’: Permission denied\n",
      "find: ‘/proc/62/fd’: Permission denied\n",
      "find: ‘/proc/62/map_files’: Permission denied\n",
      "find: ‘/proc/62/fdinfo’: Permission denied\n",
      "find: ‘/proc/62/ns’: Permission denied\n",
      "find: ‘/proc/63/task/63/fd’: Permission denied\n",
      "find: ‘/proc/63/task/63/fdinfo’: Permission denied\n",
      "find: ‘/proc/63/task/63/ns’: Permission denied\n",
      "find: ‘/proc/63/fd’: Permission denied\n",
      "find: ‘/proc/63/map_files’: Permission denied\n",
      "find: ‘/proc/63/fdinfo’: Permission denied\n",
      "find: ‘/proc/63/ns’: Permission denied\n",
      "find: ‘/proc/64/task/64/fd’: Permission denied\n",
      "find: ‘/proc/64/task/64/fdinfo’: Permission denied\n",
      "find: ‘/proc/64/task/64/ns’: Permission denied\n",
      "find: ‘/proc/64/fd’: Permission denied\n",
      "find: ‘/proc/64/map_files’: Permission denied\n",
      "find: ‘/proc/64/fdinfo’: Permission denied\n",
      "find: ‘/proc/64/ns’: Permission denied\n",
      "find: ‘/proc/65/task/65/fd’: Permission denied\n",
      "find: ‘/proc/65/task/65/fdinfo’: Permission denied\n",
      "find: ‘/proc/65/task/65/ns’: Permission denied\n",
      "find: ‘/proc/65/fd’: Permission denied\n",
      "find: ‘/proc/65/map_files’: Permission denied\n",
      "find: ‘/proc/65/fdinfo’: Permission denied\n",
      "find: ‘/proc/65/ns’: Permission denied\n",
      "find: ‘/proc/66/task/66/fd’: Permission denied\n",
      "find: ‘/proc/66/task/66/fdinfo’: Permission denied\n",
      "find: ‘/proc/66/task/66/ns’: Permission denied\n",
      "find: ‘/proc/66/fd’: Permission denied\n",
      "find: ‘/proc/66/map_files’: Permission denied\n",
      "find: ‘/proc/66/fdinfo’: Permission denied\n",
      "find: ‘/proc/66/ns’: Permission denied\n",
      "find: ‘/proc/67/task/67/fd’: Permission denied\n",
      "find: ‘/proc/67/task/67/fdinfo’: Permission denied\n",
      "find: ‘/proc/67/task/67/ns’: Permission denied\n",
      "find: ‘/proc/67/fd’: Permission denied\n",
      "find: ‘/proc/67/map_files’: Permission denied\n",
      "find: ‘/proc/67/fdinfo’: Permission denied\n",
      "find: ‘/proc/67/ns’: Permission denied\n",
      "find: ‘/proc/68/task/68/fd’: Permission denied\n",
      "find: ‘/proc/68/task/68/fdinfo’: Permission denied\n",
      "find: ‘/proc/68/task/68/ns’: Permission denied\n",
      "find: ‘/proc/68/fd’: Permission denied\n",
      "find: ‘/proc/68/map_files’: Permission denied\n",
      "find: ‘/proc/68/fdinfo’: Permission denied\n",
      "find: ‘/proc/68/ns’: Permission denied\n",
      "find: ‘/proc/69/task/69/fd’: Permission denied\n",
      "find: ‘/proc/69/task/69/fdinfo’: Permission denied\n",
      "find: ‘/proc/69/task/69/ns’: Permission denied\n",
      "find: ‘/proc/69/fd’: Permission denied\n",
      "find: ‘/proc/69/map_files’: Permission denied\n",
      "find: ‘/proc/69/fdinfo’: Permission denied\n",
      "find: ‘/proc/69/ns’: Permission denied\n",
      "find: ‘/proc/70/task/70/fd’: Permission denied\n",
      "find: ‘/proc/70/task/70/fdinfo’: Permission denied\n",
      "find: ‘/proc/70/task/70/ns’: Permission denied\n",
      "find: ‘/proc/70/fd’: Permission denied\n",
      "find: ‘/proc/70/map_files’: Permission denied\n",
      "find: ‘/proc/70/fdinfo’: Permission denied\n",
      "find: ‘/proc/70/ns’: Permission denied\n",
      "find: ‘/proc/71/task/71/fd’: Permission denied\n",
      "find: ‘/proc/71/task/71/fdinfo’: Permission denied\n",
      "find: ‘/proc/71/task/71/ns’: Permission denied\n",
      "find: ‘/proc/71/fd’: Permission denied\n",
      "find: ‘/proc/71/map_files’: Permission denied\n",
      "find: ‘/proc/71/fdinfo’: Permission denied\n",
      "find: ‘/proc/71/ns’: Permission denied\n",
      "find: ‘/proc/72/task/72/fd’: Permission denied\n",
      "find: ‘/proc/72/task/72/fdinfo’: Permission denied\n",
      "find: ‘/proc/72/task/72/ns’: Permission denied\n",
      "find: ‘/proc/72/fd’: Permission denied\n",
      "find: ‘/proc/72/map_files’: Permission denied\n",
      "find: ‘/proc/72/fdinfo’: Permission denied\n",
      "find: ‘/proc/72/ns’: Permission denied\n",
      "find: ‘/proc/73/task/73/fd’: Permission denied\n",
      "find: ‘/proc/73/task/73/fdinfo’: Permission denied\n",
      "find: ‘/proc/73/task/73/ns’: Permission denied\n",
      "find: ‘/proc/73/fd’: Permission denied\n",
      "find: ‘/proc/73/map_files’: Permission denied\n",
      "find: ‘/proc/73/fdinfo’: Permission denied\n",
      "find: ‘/proc/73/ns’: Permission denied\n",
      "find: ‘/proc/74/task/74/fd’: Permission denied\n",
      "find: ‘/proc/74/task/74/fdinfo’: Permission denied\n",
      "find: ‘/proc/74/task/74/ns’: Permission denied\n",
      "find: ‘/proc/74/fd’: Permission denied\n",
      "find: ‘/proc/74/map_files’: Permission denied\n",
      "find: ‘/proc/74/fdinfo’: Permission denied\n",
      "find: ‘/proc/74/ns’: Permission denied\n",
      "find: ‘/proc/75/task/75/fd’: Permission denied\n",
      "find: ‘/proc/75/task/75/fdinfo’: Permission denied\n",
      "find: ‘/proc/75/task/75/ns’: Permission denied\n",
      "find: ‘/proc/75/fd’: Permission denied\n",
      "find: ‘/proc/75/map_files’: Permission denied\n",
      "find: ‘/proc/75/fdinfo’: Permission denied\n",
      "find: ‘/proc/75/ns’: Permission denied\n",
      "find: ‘/proc/76/task/76/fd’: Permission denied\n",
      "find: ‘/proc/76/task/76/fdinfo’: Permission denied\n",
      "find: ‘/proc/76/task/76/ns’: Permission denied\n",
      "find: ‘/proc/76/fd’: Permission denied\n",
      "find: ‘/proc/76/map_files’: Permission denied\n",
      "find: ‘/proc/76/fdinfo’: Permission denied\n",
      "find: ‘/proc/76/ns’: Permission denied\n",
      "find: ‘/proc/77/task/77/fd’: Permission denied\n",
      "find: ‘/proc/77/task/77/fdinfo’: Permission denied\n",
      "find: ‘/proc/77/task/77/ns’: Permission denied\n",
      "find: ‘/proc/77/fd’: Permission denied\n",
      "find: ‘/proc/77/map_files’: Permission denied\n",
      "find: ‘/proc/77/fdinfo’: Permission denied\n",
      "find: ‘/proc/77/ns’: Permission denied\n",
      "find: ‘/proc/78/task/78/fd’: Permission denied\n",
      "find: ‘/proc/78/task/78/fdinfo’: Permission denied\n",
      "find: ‘/proc/78/task/78/ns’: Permission denied\n",
      "find: ‘/proc/78/fd’: Permission denied\n",
      "find: ‘/proc/78/map_files’: Permission denied\n",
      "find: ‘/proc/78/fdinfo’: Permission denied\n",
      "find: ‘/proc/78/ns’: Permission denied\n",
      "find: ‘/proc/79/task/79/fd’: Permission denied\n",
      "find: ‘/proc/79/task/79/fdinfo’: Permission denied\n",
      "find: ‘/proc/79/task/79/ns’: Permission denied\n",
      "find: ‘/proc/79/fd’: Permission denied\n",
      "find: ‘/proc/79/map_files’: Permission denied\n",
      "find: ‘/proc/79/fdinfo’: Permission denied\n",
      "find: ‘/proc/79/ns’: Permission denied\n",
      "find: ‘/proc/80/task/80/fd’: Permission denied\n",
      "find: ‘/proc/80/task/80/fdinfo’: Permission denied\n",
      "find: ‘/proc/80/task/80/ns’: Permission denied\n",
      "find: ‘/proc/80/fd’: Permission denied\n",
      "find: ‘/proc/80/map_files’: Permission denied\n",
      "find: ‘/proc/80/fdinfo’: Permission denied\n",
      "find: ‘/proc/80/ns’: Permission denied\n",
      "find: ‘/proc/81/task/81/fd’: Permission denied\n",
      "find: ‘/proc/81/task/81/fdinfo’: Permission denied\n",
      "find: ‘/proc/81/task/81/ns’: Permission denied\n",
      "find: ‘/proc/81/fd’: Permission denied\n",
      "find: ‘/proc/81/map_files’: Permission denied\n",
      "find: ‘/proc/81/fdinfo’: Permission denied\n",
      "find: ‘/proc/81/ns’: Permission denied\n",
      "find: ‘/proc/82/task/82/fd’: Permission denied\n",
      "find: ‘/proc/82/task/82/fdinfo’: Permission denied\n",
      "find: ‘/proc/82/task/82/ns’: Permission denied\n",
      "find: ‘/proc/82/fd’: Permission denied\n",
      "find: ‘/proc/82/map_files’: Permission denied\n",
      "find: ‘/proc/82/fdinfo’: Permission denied\n",
      "find: ‘/proc/82/ns’: Permission denied\n",
      "find: ‘/proc/88/task/88/fd’: Permission denied\n",
      "find: ‘/proc/88/task/88/fdinfo’: Permission denied\n",
      "find: ‘/proc/88/task/88/ns’: Permission denied\n",
      "find: ‘/proc/88/fd’: Permission denied\n",
      "find: ‘/proc/88/map_files’: Permission denied\n",
      "find: ‘/proc/88/fdinfo’: Permission denied\n",
      "find: ‘/proc/88/ns’: Permission denied\n",
      "find: ‘/proc/101/task/101/fd’: Permission denied\n",
      "find: ‘/proc/101/task/101/fdinfo’: Permission denied\n",
      "find: ‘/proc/101/task/101/ns’: Permission denied\n",
      "find: ‘/proc/101/fd’: Permission denied\n",
      "find: ‘/proc/101/map_files’: Permission denied\n",
      "find: ‘/proc/101/fdinfo’: Permission denied\n",
      "find: ‘/proc/101/ns’: Permission denied\n",
      "find: ‘/proc/102/task/102/fd’: Permission denied\n",
      "find: ‘/proc/102/task/102/fdinfo’: Permission denied\n",
      "find: ‘/proc/102/task/102/ns’: Permission denied\n",
      "find: ‘/proc/102/fd’: Permission denied\n",
      "find: ‘/proc/102/map_files’: Permission denied\n",
      "find: ‘/proc/102/fdinfo’: Permission denied\n",
      "find: ‘/proc/102/ns’: Permission denied\n",
      "find: ‘/proc/103/task/103/fd’: Permission denied\n",
      "find: ‘/proc/103/task/103/fdinfo’: Permission denied\n",
      "find: ‘/proc/103/task/103/ns’: Permission denied\n",
      "find: ‘/proc/103/fd’: Permission denied\n",
      "find: ‘/proc/103/map_files’: Permission denied\n",
      "find: ‘/proc/103/fdinfo’: Permission denied\n",
      "find: ‘/proc/103/ns’: Permission denied\n",
      "find: ‘/proc/142/task/142/fd’: Permission denied\n",
      "find: ‘/proc/142/task/142/fdinfo’: Permission denied\n",
      "find: ‘/proc/142/task/142/ns’: Permission denied\n",
      "find: ‘/proc/142/fd’: Permission denied\n",
      "find: ‘/proc/142/map_files’: Permission denied\n",
      "find: ‘/proc/142/fdinfo’: Permission denied\n",
      "find: ‘/proc/142/ns’: Permission denied\n",
      "find: ‘/proc/151/task/151/fd’: Permission denied\n",
      "find: ‘/proc/151/task/151/fdinfo’: Permission denied\n",
      "find: ‘/proc/151/task/151/ns’: Permission denied\n",
      "find: ‘/proc/151/fd’: Permission denied\n",
      "find: ‘/proc/151/map_files’: Permission denied\n",
      "find: ‘/proc/151/fdinfo’: Permission denied\n",
      "find: ‘/proc/151/ns’: Permission denied\n",
      "find: ‘/proc/152/task/152/fd’: Permission denied\n",
      "find: ‘/proc/152/task/152/fdinfo’: Permission denied\n",
      "find: ‘/proc/152/task/152/ns’: Permission denied\n",
      "find: ‘/proc/152/fd’: Permission denied\n",
      "find: ‘/proc/152/map_files’: Permission denied\n",
      "find: ‘/proc/152/fdinfo’: Permission denied\n",
      "find: ‘/proc/152/ns’: Permission denied\n",
      "find: ‘/proc/153/task/153/fd’: Permission denied\n",
      "find: ‘/proc/153/task/153/fdinfo’: Permission denied\n",
      "find: ‘/proc/153/task/153/ns’: Permission denied\n",
      "find: ‘/proc/153/fd’: Permission denied\n",
      "find: ‘/proc/153/map_files’: Permission denied\n",
      "find: ‘/proc/153/fdinfo’: Permission denied\n",
      "find: ‘/proc/153/ns’: Permission denied\n",
      "find: ‘/proc/168/task/168/fd’: Permission denied\n",
      "find: ‘/proc/168/task/168/fdinfo’: Permission denied\n",
      "find: ‘/proc/168/task/168/ns’: Permission denied\n",
      "find: ‘/proc/168/fd’: Permission denied\n",
      "find: ‘/proc/168/map_files’: Permission denied\n",
      "find: ‘/proc/168/fdinfo’: Permission denied\n",
      "find: ‘/proc/168/ns’: Permission denied\n",
      "find: ‘/proc/171/task/171/fd’: Permission denied\n",
      "find: ‘/proc/171/task/171/fdinfo’: Permission denied\n",
      "find: ‘/proc/171/task/171/ns’: Permission denied\n",
      "find: ‘/proc/171/fd’: Permission denied\n",
      "find: ‘/proc/171/map_files’: Permission denied\n",
      "find: ‘/proc/171/fdinfo’: Permission denied\n",
      "find: ‘/proc/171/ns’: Permission denied\n",
      "find: ‘/proc/194/task/194/fd’: Permission denied\n",
      "find: ‘/proc/194/task/194/fdinfo’: Permission denied\n",
      "find: ‘/proc/194/task/194/ns’: Permission denied\n",
      "find: ‘/proc/194/fd’: Permission denied\n",
      "find: ‘/proc/194/map_files’: Permission denied\n",
      "find: ‘/proc/194/fdinfo’: Permission denied\n",
      "find: ‘/proc/194/ns’: Permission denied\n",
      "find: ‘/proc/198/task/198/fd’: Permission denied\n",
      "find: ‘/proc/198/task/198/fdinfo’: Permission denied\n",
      "find: ‘/proc/198/task/198/ns’: Permission denied\n",
      "find: ‘/proc/198/fd’: Permission denied\n",
      "find: ‘/proc/198/map_files’: Permission denied\n",
      "find: ‘/proc/198/fdinfo’: Permission denied\n",
      "find: ‘/proc/198/ns’: Permission denied\n",
      "find: ‘/proc/199/task/199/fd’: Permission denied\n",
      "find: ‘/proc/199/task/199/fdinfo’: Permission denied\n",
      "find: ‘/proc/199/task/199/ns’: Permission denied\n",
      "find: ‘/proc/199/fd’: Permission denied\n",
      "find: ‘/proc/199/map_files’: Permission denied\n",
      "find: ‘/proc/199/fdinfo’: Permission denied\n",
      "find: ‘/proc/199/ns’: Permission denied\n",
      "find: ‘/proc/228/task/228/fd’: Permission denied\n",
      "find: ‘/proc/228/task/228/fdinfo’: Permission denied\n",
      "find: ‘/proc/228/task/228/ns’: Permission denied\n",
      "find: ‘/proc/228/fd’: Permission denied\n",
      "find: ‘/proc/228/map_files’: Permission denied\n",
      "find: ‘/proc/228/fdinfo’: Permission denied\n",
      "find: ‘/proc/228/ns’: Permission denied\n",
      "find: ‘/proc/251/task/251/fd’: Permission denied\n",
      "find: ‘/proc/251/task/251/fdinfo’: Permission denied\n",
      "find: ‘/proc/251/task/251/ns’: Permission denied\n",
      "find: ‘/proc/251/fd’: Permission denied\n",
      "find: ‘/proc/251/map_files’: Permission denied\n",
      "find: ‘/proc/251/fdinfo’: Permission denied\n",
      "find: ‘/proc/251/ns’: Permission denied\n",
      "find: ‘/proc/265/task/265/fd’: Permission denied\n",
      "find: ‘/proc/265/task/265/fdinfo’: Permission denied\n",
      "find: ‘/proc/265/task/265/ns’: Permission denied\n",
      "find: ‘/proc/265/fd’: Permission denied\n",
      "find: ‘/proc/265/map_files’: Permission denied\n",
      "find: ‘/proc/265/fdinfo’: Permission denied\n",
      "find: ‘/proc/265/ns’: Permission denied\n",
      "find: ‘/proc/279/task/279/fd’: Permission denied\n",
      "find: ‘/proc/279/task/279/fdinfo’: Permission denied\n",
      "find: ‘/proc/279/task/279/ns’: Permission denied\n",
      "find: ‘/proc/279/fd’: Permission denied\n",
      "find: ‘/proc/279/map_files’: Permission denied\n",
      "find: ‘/proc/279/fdinfo’: Permission denied\n",
      "find: ‘/proc/279/ns’: Permission denied\n",
      "find: ‘/proc/330/task/330/fd’: Permission denied\n",
      "find: ‘/proc/330/task/330/fdinfo’: Permission denied\n",
      "find: ‘/proc/330/task/330/ns’: Permission denied\n",
      "find: ‘/proc/330/fd’: Permission denied\n",
      "find: ‘/proc/330/map_files’: Permission denied\n",
      "find: ‘/proc/330/fdinfo’: Permission denied\n",
      "find: ‘/proc/330/ns’: Permission denied\n",
      "find: ‘/proc/335/task/335/fd’: Permission denied\n",
      "find: ‘/proc/335/task/335/fdinfo’: Permission denied\n",
      "find: ‘/proc/335/task/335/ns’: Permission denied\n",
      "find: ‘/proc/335/fd’: Permission denied\n",
      "find: ‘/proc/335/map_files’: Permission denied\n",
      "find: ‘/proc/335/fdinfo’: Permission denied\n",
      "find: ‘/proc/335/ns’: Permission denied\n",
      "find: ‘/proc/356/task/356/fd’: Permission denied\n",
      "find: ‘/proc/356/task/356/fdinfo’: Permission denied\n",
      "find: ‘/proc/356/task/356/ns’: Permission denied\n",
      "find: ‘/proc/356/fd’: Permission denied\n",
      "find: ‘/proc/356/map_files’: Permission denied\n",
      "find: ‘/proc/356/fdinfo’: Permission denied\n",
      "find: ‘/proc/356/ns’: Permission denied\n",
      "find: ‘/proc/457/task/457/fd’: Permission denied\n",
      "find: ‘/proc/457/task/457/fdinfo’: Permission denied\n",
      "find: ‘/proc/457/task/457/ns’: Permission denied\n",
      "find: ‘/proc/457/fd’: Permission denied\n",
      "find: ‘/proc/457/map_files’: Permission denied\n",
      "find: ‘/proc/457/fdinfo’: Permission denied\n",
      "find: ‘/proc/457/ns’: Permission denied\n",
      "find: ‘/proc/458/task/458/fd’: Permission denied\n",
      "find: ‘/proc/458/task/458/fdinfo’: Permission denied\n",
      "find: ‘/proc/458/task/458/ns’: Permission denied\n",
      "find: ‘/proc/458/fd’: Permission denied\n",
      "find: ‘/proc/458/map_files’: Permission denied\n",
      "find: ‘/proc/458/fdinfo’: Permission denied\n",
      "find: ‘/proc/458/ns’: Permission denied\n",
      "find: ‘/proc/472/task/472/fd’: Permission denied\n",
      "find: ‘/proc/472/task/472/fdinfo’: Permission denied\n",
      "find: ‘/proc/472/task/472/ns’: Permission denied\n",
      "find: ‘/proc/472/fd’: Permission denied\n",
      "find: ‘/proc/472/map_files’: Permission denied\n",
      "find: ‘/proc/472/fdinfo’: Permission denied\n",
      "find: ‘/proc/472/ns’: Permission denied\n",
      "find: ‘/proc/643/task/643/fd’: Permission denied\n",
      "find: ‘/proc/643/task/643/fdinfo’: Permission denied\n",
      "find: ‘/proc/643/task/643/ns’: Permission denied\n",
      "find: ‘/proc/643/fd’: Permission denied\n",
      "find: ‘/proc/643/map_files’: Permission denied\n",
      "find: ‘/proc/643/fdinfo’: Permission denied\n",
      "find: ‘/proc/643/ns’: Permission denied\n",
      "find: ‘/proc/653/task/653/fd’: Permission denied\n",
      "find: ‘/proc/653/task/653/fdinfo’: Permission denied\n",
      "find: ‘/proc/653/task/653/ns’: Permission denied\n",
      "find: ‘/proc/653/task/676/fd’: Permission denied\n",
      "find: ‘/proc/653/task/676/fdinfo’: Permission denied\n",
      "find: ‘/proc/653/task/676/ns’: Permission denied\n",
      "find: ‘/proc/653/task/677/fd’: Permission denied\n",
      "find: ‘/proc/653/task/677/fdinfo’: Permission denied\n",
      "find: ‘/proc/653/task/677/ns’: Permission denied\n",
      "find: ‘/proc/653/task/678/fd’: Permission denied\n",
      "find: ‘/proc/653/task/678/fdinfo’: Permission denied\n",
      "find: ‘/proc/653/task/678/ns’: Permission denied\n",
      "find: ‘/proc/653/fd’: Permission denied\n",
      "find: ‘/proc/653/map_files’: Permission denied\n",
      "find: ‘/proc/653/fdinfo’: Permission denied\n",
      "find: ‘/proc/653/ns’: Permission denied\n",
      "find: ‘/proc/654/task/654/fd’: Permission denied\n",
      "find: ‘/proc/654/task/654/fdinfo’: Permission denied\n",
      "find: ‘/proc/654/task/654/ns’: Permission denied\n",
      "find: ‘/proc/654/fd’: Permission denied\n",
      "find: ‘/proc/654/map_files’: Permission denied\n",
      "find: ‘/proc/654/fdinfo’: Permission denied\n",
      "find: ‘/proc/654/ns’: Permission denied\n",
      "find: ‘/proc/671/task/671/fd’: Permission denied\n",
      "find: ‘/proc/671/task/671/fdinfo’: Permission denied\n",
      "find: ‘/proc/671/task/671/ns’: Permission denied\n",
      "find: ‘/proc/671/fd’: Permission denied\n",
      "find: ‘/proc/671/map_files’: Permission denied\n",
      "find: ‘/proc/671/fdinfo’: Permission denied\n",
      "find: ‘/proc/671/ns’: Permission denied\n",
      "find: ‘/proc/691/task/691/fd’: Permission denied\n",
      "find: ‘/proc/691/task/691/fdinfo’: Permission denied\n",
      "find: ‘/proc/691/task/691/ns’: Permission denied\n",
      "find: ‘/proc/691/task/880/fd’: Permission denied\n",
      "find: ‘/proc/691/task/880/fdinfo’: Permission denied\n",
      "find: ‘/proc/691/task/880/ns’: Permission denied\n",
      "find: ‘/proc/691/task/882/fd’: Permission denied\n",
      "find: ‘/proc/691/task/882/fdinfo’: Permission denied\n",
      "find: ‘/proc/691/task/882/ns’: Permission denied\n",
      "find: ‘/proc/691/fd’: Permission denied\n",
      "find: ‘/proc/691/map_files’: Permission denied\n",
      "find: ‘/proc/691/fdinfo’: Permission denied\n",
      "find: ‘/proc/691/ns’: Permission denied\n",
      "find: ‘/proc/705/task/705/fd’: Permission denied\n",
      "find: ‘/proc/705/task/705/fdinfo’: Permission denied\n",
      "find: ‘/proc/705/task/705/ns’: Permission denied\n",
      "find: ‘/proc/705/task/970/fd’: Permission denied\n",
      "find: ‘/proc/705/task/970/fdinfo’: Permission denied\n",
      "find: ‘/proc/705/task/970/ns’: Permission denied\n",
      "find: ‘/proc/705/task/971/fd’: Permission denied\n",
      "find: ‘/proc/705/task/971/fdinfo’: Permission denied\n",
      "find: ‘/proc/705/task/971/ns’: Permission denied\n",
      "find: ‘/proc/705/fd’: Permission denied\n",
      "find: ‘/proc/705/map_files’: Permission denied\n",
      "find: ‘/proc/705/fdinfo’: Permission denied\n",
      "find: ‘/proc/705/ns’: Permission denied\n",
      "find: ‘/proc/708/task/708/fd’: Permission denied\n",
      "find: ‘/proc/708/task/708/fdinfo’: Permission denied\n",
      "find: ‘/proc/708/task/708/ns’: Permission denied\n",
      "find: ‘/proc/708/task/834/fd’: Permission denied\n",
      "find: ‘/proc/708/task/834/fdinfo’: Permission denied\n",
      "find: ‘/proc/708/task/834/ns’: Permission denied\n",
      "find: ‘/proc/708/task/838/fd’: Permission denied\n",
      "find: ‘/proc/708/task/838/fdinfo’: Permission denied\n",
      "find: ‘/proc/708/task/838/ns’: Permission denied\n",
      "find: ‘/proc/708/fd’: Permission denied\n",
      "find: ‘/proc/708/map_files’: Permission denied\n",
      "find: ‘/proc/708/fdinfo’: Permission denied\n",
      "find: ‘/proc/708/ns’: Permission denied\n",
      "find: ‘/proc/730/task/730/fd’: Permission denied\n",
      "find: ‘/proc/730/task/730/fdinfo’: Permission denied\n",
      "find: ‘/proc/730/task/730/ns’: Permission denied\n",
      "find: ‘/proc/730/fd’: Permission denied\n",
      "find: ‘/proc/730/map_files’: Permission denied\n",
      "find: ‘/proc/730/fdinfo’: Permission denied\n",
      "find: ‘/proc/730/ns’: Permission denied\n",
      "find: ‘/proc/732/task/732/fd’: Permission denied\n",
      "find: ‘/proc/732/task/732/fdinfo’: Permission denied\n",
      "find: ‘/proc/732/task/732/ns’: Permission denied\n",
      "find: ‘/proc/732/task/947/fd’: Permission denied\n",
      "find: ‘/proc/732/task/947/fdinfo’: Permission denied\n",
      "find: ‘/proc/732/task/947/ns’: Permission denied\n",
      "find: ‘/proc/732/task/953/fd’: Permission denied\n",
      "find: ‘/proc/732/task/953/fdinfo’: Permission denied\n",
      "find: ‘/proc/732/task/953/ns’: Permission denied\n",
      "find: ‘/proc/732/fd’: Permission denied\n",
      "find: ‘/proc/732/map_files’: Permission denied\n",
      "find: ‘/proc/732/fdinfo’: Permission denied\n",
      "find: ‘/proc/732/ns’: Permission denied\n",
      "find: ‘/proc/735/task/735/fd’: Permission denied\n",
      "find: ‘/proc/735/task/735/fdinfo’: Permission denied\n",
      "find: ‘/proc/735/task/735/ns’: Permission denied\n",
      "find: ‘/proc/735/task/959/fd’: Permission denied\n",
      "find: ‘/proc/735/task/959/fdinfo’: Permission denied\n",
      "find: ‘/proc/735/task/959/ns’: Permission denied\n",
      "find: ‘/proc/735/task/962/fd’: Permission denied\n",
      "find: ‘/proc/735/task/962/fdinfo’: Permission denied\n",
      "find: ‘/proc/735/task/962/ns’: Permission denied\n",
      "find: ‘/proc/735/fd’: Permission denied\n",
      "find: ‘/proc/735/map_files’: Permission denied\n",
      "find: ‘/proc/735/fdinfo’: Permission denied\n",
      "find: ‘/proc/735/ns’: Permission denied\n",
      "find: ‘/proc/737/task/737/fd’: Permission denied\n",
      "find: ‘/proc/737/task/737/fdinfo’: Permission denied\n",
      "find: ‘/proc/737/task/737/ns’: Permission denied\n",
      "find: ‘/proc/737/fd’: Permission denied\n",
      "find: ‘/proc/737/map_files’: Permission denied\n",
      "find: ‘/proc/737/fdinfo’: Permission denied\n",
      "find: ‘/proc/737/ns’: Permission denied\n",
      "find: ‘/proc/746/task/746/fd’: Permission denied\n",
      "find: ‘/proc/746/task/746/fdinfo’: Permission denied\n",
      "find: ‘/proc/746/task/746/ns’: Permission denied\n",
      "find: ‘/proc/746/fd’: Permission denied\n",
      "find: ‘/proc/746/map_files’: Permission denied\n",
      "find: ‘/proc/746/fdinfo’: Permission denied\n",
      "find: ‘/proc/746/ns’: Permission denied\n",
      "find: ‘/proc/833/task/833/fd’: Permission denied\n",
      "find: ‘/proc/833/task/833/fdinfo’: Permission denied\n",
      "find: ‘/proc/833/task/833/ns’: Permission denied\n",
      "find: ‘/proc/833/fd’: Permission denied\n",
      "find: ‘/proc/833/map_files’: Permission denied\n",
      "find: ‘/proc/833/fdinfo’: Permission denied\n",
      "find: ‘/proc/833/ns’: Permission denied\n",
      "find: ‘/proc/852/task/852/fd’: Permission denied\n",
      "find: ‘/proc/852/task/852/fdinfo’: Permission denied\n",
      "find: ‘/proc/852/task/852/ns’: Permission denied\n",
      "find: ‘/proc/852/task/925/fd’: Permission denied\n",
      "find: ‘/proc/852/task/925/fdinfo’: Permission denied\n",
      "find: ‘/proc/852/task/925/ns’: Permission denied\n",
      "find: ‘/proc/852/task/927/fd’: Permission denied\n",
      "find: ‘/proc/852/task/927/fdinfo’: Permission denied\n",
      "find: ‘/proc/852/task/927/ns’: Permission denied\n",
      "find: ‘/proc/852/fd’: Permission denied\n",
      "find: ‘/proc/852/map_files’: Permission denied\n",
      "find: ‘/proc/852/fdinfo’: Permission denied\n",
      "find: ‘/proc/852/ns’: Permission denied\n",
      "find: ‘/proc/909/task/909/fd’: Permission denied\n",
      "find: ‘/proc/909/task/909/fdinfo’: Permission denied\n",
      "find: ‘/proc/909/task/909/ns’: Permission denied\n",
      "find: ‘/proc/909/task/920/fd’: Permission denied\n",
      "find: ‘/proc/909/task/920/fdinfo’: Permission denied\n",
      "find: ‘/proc/909/task/920/ns’: Permission denied\n",
      "find: ‘/proc/909/task/922/fd’: Permission denied\n",
      "find: ‘/proc/909/task/922/fdinfo’: Permission denied\n",
      "find: ‘/proc/909/task/922/ns’: Permission denied\n",
      "find: ‘/proc/909/fd’: Permission denied\n",
      "find: ‘/proc/909/map_files’: Permission denied\n",
      "find: ‘/proc/909/fdinfo’: Permission denied\n",
      "find: ‘/proc/909/ns’: Permission denied\n",
      "find: ‘/proc/942/task/942/fd’: Permission denied\n",
      "find: ‘/proc/942/task/942/fdinfo’: Permission denied\n",
      "find: ‘/proc/942/task/942/ns’: Permission denied\n",
      "find: ‘/proc/942/task/1102/fd’: Permission denied\n",
      "find: ‘/proc/942/task/1102/fdinfo’: Permission denied\n",
      "find: ‘/proc/942/task/1102/ns’: Permission denied\n",
      "find: ‘/proc/942/task/1103/fd’: Permission denied\n",
      "find: ‘/proc/942/task/1103/fdinfo’: Permission denied\n",
      "find: ‘/proc/942/task/1103/ns’: Permission denied\n",
      "find: ‘/proc/942/fd’: Permission denied\n",
      "find: ‘/proc/942/map_files’: Permission denied\n",
      "find: ‘/proc/942/fdinfo’: Permission denied\n",
      "find: ‘/proc/942/ns’: Permission denied\n",
      "find: ‘/proc/965/task/965/fd’: Permission denied\n",
      "find: ‘/proc/965/task/965/fdinfo’: Permission denied\n",
      "find: ‘/proc/965/task/965/ns’: Permission denied\n",
      "find: ‘/proc/965/fd’: Permission denied\n",
      "find: ‘/proc/965/map_files’: Permission denied\n",
      "find: ‘/proc/965/fdinfo’: Permission denied\n",
      "find: ‘/proc/965/ns’: Permission denied\n",
      "find: ‘/proc/993/task/993/fd’: Permission denied\n",
      "find: ‘/proc/993/task/993/fdinfo’: Permission denied\n",
      "find: ‘/proc/993/task/993/ns’: Permission denied\n",
      "find: ‘/proc/993/fd’: Permission denied\n",
      "find: ‘/proc/993/map_files’: Permission denied\n",
      "find: ‘/proc/993/fdinfo’: Permission denied\n",
      "find: ‘/proc/993/ns’: Permission denied\n",
      "find: ‘/proc/1016/task/1016/fd’: Permission denied\n",
      "find: ‘/proc/1016/task/1016/fdinfo’: Permission denied\n",
      "find: ‘/proc/1016/task/1016/ns’: Permission denied\n",
      "find: ‘/proc/1016/task/1018/fd’: Permission denied\n",
      "find: ‘/proc/1016/task/1018/fdinfo’: Permission denied\n",
      "find: ‘/proc/1016/task/1018/ns’: Permission denied\n",
      "find: ‘/proc/1016/task/1019/fd’: Permission denied\n",
      "find: ‘/proc/1016/task/1019/fdinfo’: Permission denied\n",
      "find: ‘/proc/1016/task/1019/ns’: Permission denied\n",
      "find: ‘/proc/1016/task/1020/fd’: Permission denied\n",
      "find: ‘/proc/1016/task/1020/fdinfo’: Permission denied\n",
      "find: ‘/proc/1016/task/1020/ns’: Permission denied\n",
      "find: ‘/proc/1016/task/1021/fd’: Permission denied\n",
      "find: ‘/proc/1016/task/1021/fdinfo’: Permission denied\n",
      "find: ‘/proc/1016/task/1021/ns’: Permission denied\n",
      "find: ‘/proc/1016/task/1022/fd’: Permission denied\n",
      "find: ‘/proc/1016/task/1022/fdinfo’: Permission denied\n",
      "find: ‘/proc/1016/task/1022/ns’: Permission denied\n",
      "find: ‘/proc/1016/task/1024/fd’: Permission denied\n",
      "find: ‘/proc/1016/task/1024/fdinfo’: Permission denied\n",
      "find: ‘/proc/1016/task/1024/ns’: Permission denied\n",
      "find: ‘/proc/1016/task/1025/fd’: Permission denied\n",
      "find: ‘/proc/1016/task/1025/fdinfo’: Permission denied\n",
      "find: ‘/proc/1016/task/1025/ns’: Permission denied\n",
      "find: ‘/proc/1016/fd’: Permission denied\n",
      "find: ‘/proc/1016/map_files’: Permission denied\n",
      "find: ‘/proc/1016/fdinfo’: Permission denied\n",
      "find: ‘/proc/1016/ns’: Permission denied\n",
      "find: ‘/proc/1029/task/1029/fd’: Permission denied\n",
      "find: ‘/proc/1029/task/1029/fdinfo’: Permission denied\n",
      "find: ‘/proc/1029/task/1029/ns’: Permission denied\n",
      "find: ‘/proc/1029/fd’: Permission denied\n",
      "find: ‘/proc/1029/map_files’: Permission denied\n",
      "find: ‘/proc/1029/fdinfo’: Permission denied\n",
      "find: ‘/proc/1029/ns’: Permission denied\n",
      "find: ‘/proc/1164/task/1164/fd’: Permission denied\n",
      "find: ‘/proc/1164/task/1164/fdinfo’: Permission denied\n",
      "find: ‘/proc/1164/task/1164/ns’: Permission denied\n",
      "find: ‘/proc/1164/task/1350/fd’: Permission denied\n",
      "find: ‘/proc/1164/task/1350/fdinfo’: Permission denied\n",
      "find: ‘/proc/1164/task/1350/ns’: Permission denied\n",
      "find: ‘/proc/1164/task/1351/fd’: Permission denied\n",
      "find: ‘/proc/1164/task/1351/fdinfo’: Permission denied\n",
      "find: ‘/proc/1164/task/1351/ns’: Permission denied\n",
      "find: ‘/proc/1164/fd’: Permission denied\n",
      "find: ‘/proc/1164/map_files’: Permission denied\n",
      "find: ‘/proc/1164/fdinfo’: Permission denied\n",
      "find: ‘/proc/1164/ns’: Permission denied\n",
      "find: ‘/proc/1225/task/1225/fd’: Permission denied\n",
      "find: ‘/proc/1225/task/1225/fdinfo’: Permission denied\n",
      "find: ‘/proc/1225/task/1225/ns’: Permission denied\n",
      "find: ‘/proc/1225/task/1231/fd’: Permission denied\n",
      "find: ‘/proc/1225/task/1231/fdinfo’: Permission denied\n",
      "find: ‘/proc/1225/task/1231/ns’: Permission denied\n",
      "find: ‘/proc/1225/task/1232/fd’: Permission denied\n",
      "find: ‘/proc/1225/task/1232/fdinfo’: Permission denied\n",
      "find: ‘/proc/1225/task/1232/ns’: Permission denied\n",
      "find: ‘/proc/1225/fd’: Permission denied\n",
      "find: ‘/proc/1225/map_files’: Permission denied\n",
      "find: ‘/proc/1225/fdinfo’: Permission denied\n",
      "find: ‘/proc/1225/ns’: Permission denied\n",
      "find: ‘/proc/1244/task/1244/fd’: Permission denied\n",
      "find: ‘/proc/1244/task/1244/fdinfo’: Permission denied\n",
      "find: ‘/proc/1244/task/1244/ns’: Permission denied\n",
      "find: ‘/proc/1244/task/1248/fd’: Permission denied\n",
      "find: ‘/proc/1244/task/1248/fdinfo’: Permission denied\n",
      "find: ‘/proc/1244/task/1248/ns’: Permission denied\n",
      "find: ‘/proc/1244/task/1249/fd’: Permission denied\n",
      "find: ‘/proc/1244/task/1249/fdinfo’: Permission denied\n",
      "find: ‘/proc/1244/task/1249/ns’: Permission denied\n",
      "find: ‘/proc/1244/fd’: Permission denied\n",
      "find: ‘/proc/1244/map_files’: Permission denied\n",
      "find: ‘/proc/1244/fdinfo’: Permission denied\n",
      "find: ‘/proc/1244/ns’: Permission denied\n",
      "find: ‘/proc/1259/task/1259/fd’: Permission denied\n",
      "find: ‘/proc/1259/task/1259/fdinfo’: Permission denied\n",
      "find: ‘/proc/1259/task/1259/ns’: Permission denied\n",
      "find: ‘/proc/1259/task/1261/fd’: Permission denied\n",
      "find: ‘/proc/1259/task/1261/fdinfo’: Permission denied\n",
      "find: ‘/proc/1259/task/1261/ns’: Permission denied\n",
      "find: ‘/proc/1259/task/1263/fd’: Permission denied\n",
      "find: ‘/proc/1259/task/1263/fdinfo’: Permission denied\n",
      "find: ‘/proc/1259/task/1263/ns’: Permission denied\n",
      "find: ‘/proc/1259/fd’: Permission denied\n",
      "find: ‘/proc/1259/map_files’: Permission denied\n",
      "find: ‘/proc/1259/fdinfo’: Permission denied\n",
      "find: ‘/proc/1259/ns’: Permission denied\n",
      "find: ‘/proc/1425/task/1425/fd’: Permission denied\n",
      "find: ‘/proc/1425/task/1425/fdinfo’: Permission denied\n",
      "find: ‘/proc/1425/task/1425/ns’: Permission denied\n",
      "find: ‘/proc/1425/fd’: Permission denied\n",
      "find: ‘/proc/1425/map_files’: Permission denied\n",
      "find: ‘/proc/1425/fdinfo’: Permission denied\n",
      "find: ‘/proc/1425/ns’: Permission denied\n",
      "find: ‘/proc/1469/task/1469/fd’: Permission denied\n",
      "find: ‘/proc/1469/task/1469/fdinfo’: Permission denied\n",
      "find: ‘/proc/1469/task/1469/ns’: Permission denied\n",
      "find: ‘/proc/1469/task/1471/fd’: Permission denied\n",
      "find: ‘/proc/1469/task/1471/fdinfo’: Permission denied\n",
      "find: ‘/proc/1469/task/1471/ns’: Permission denied\n",
      "find: ‘/proc/1469/task/1658/fd’: Permission denied\n",
      "find: ‘/proc/1469/task/1658/fdinfo’: Permission denied\n",
      "find: ‘/proc/1469/task/1658/ns’: Permission denied\n",
      "find: ‘/proc/1469/task/1659/fd’: Permission denied\n",
      "find: ‘/proc/1469/task/1659/fdinfo’: Permission denied\n",
      "find: ‘/proc/1469/task/1659/ns’: Permission denied\n",
      "find: ‘/proc/1469/fd’: Permission denied\n",
      "find: ‘/proc/1469/map_files’: Permission denied\n",
      "find: ‘/proc/1469/fdinfo’: Permission denied\n",
      "find: ‘/proc/1469/ns’: Permission denied\n",
      "find: ‘/proc/1692/task/1692/fd’: Permission denied\n",
      "find: ‘/proc/1692/task/1692/fdinfo’: Permission denied\n",
      "find: ‘/proc/1692/task/1692/ns’: Permission denied\n",
      "find: ‘/proc/1692/fd’: Permission denied\n",
      "find: ‘/proc/1692/map_files’: Permission denied\n",
      "find: ‘/proc/1692/fdinfo’: Permission denied\n",
      "find: ‘/proc/1692/ns’: Permission denied\n",
      "find: ‘/proc/2407/task/2407/fd’: Permission denied\n",
      "find: ‘/proc/2407/task/2407/fdinfo’: Permission denied\n",
      "find: ‘/proc/2407/task/2407/ns’: Permission denied\n",
      "find: ‘/proc/2407/task/2412/fd’: Permission denied\n",
      "find: ‘/proc/2407/task/2412/fdinfo’: Permission denied\n",
      "find: ‘/proc/2407/task/2412/ns’: Permission denied\n",
      "find: ‘/proc/2407/task/2414/fd’: Permission denied\n",
      "find: ‘/proc/2407/task/2414/fdinfo’: Permission denied\n",
      "find: ‘/proc/2407/task/2414/ns’: Permission denied\n",
      "find: ‘/proc/2407/task/2415/fd’: Permission denied\n",
      "find: ‘/proc/2407/task/2415/fdinfo’: Permission denied\n",
      "find: ‘/proc/2407/task/2415/ns’: Permission denied\n",
      "find: ‘/proc/2407/task/2420/fd’: Permission denied\n",
      "find: ‘/proc/2407/task/2420/fdinfo’: Permission denied\n",
      "find: ‘/proc/2407/task/2420/ns’: Permission denied\n",
      "find: ‘/proc/2407/fd’: Permission denied\n",
      "find: ‘/proc/2407/map_files’: Permission denied\n",
      "find: ‘/proc/2407/fdinfo’: Permission denied\n",
      "find: ‘/proc/2407/ns’: Permission denied\n",
      "find: ‘/proc/2463/task/2463/fd’: Permission denied\n",
      "find: ‘/proc/2463/task/2463/fdinfo’: Permission denied\n",
      "find: ‘/proc/2463/task/2463/ns’: Permission denied\n",
      "find: ‘/proc/2463/task/2464/fd’: Permission denied\n",
      "find: ‘/proc/2463/task/2464/fdinfo’: Permission denied\n",
      "find: ‘/proc/2463/task/2464/ns’: Permission denied\n",
      "find: ‘/proc/2463/task/2473/fd’: Permission denied\n",
      "find: ‘/proc/2463/task/2473/fdinfo’: Permission denied\n",
      "find: ‘/proc/2463/task/2473/ns’: Permission denied\n",
      "find: ‘/proc/2463/task/2474/fd’: Permission denied\n",
      "find: ‘/proc/2463/task/2474/fdinfo’: Permission denied\n",
      "find: ‘/proc/2463/task/2474/ns’: Permission denied\n",
      "find: ‘/proc/2463/task/2476/fd’: Permission denied\n",
      "find: ‘/proc/2463/task/2476/fdinfo’: Permission denied\n",
      "find: ‘/proc/2463/task/2476/ns’: Permission denied\n",
      "find: ‘/proc/2463/task/2477/fd’: Permission denied\n",
      "find: ‘/proc/2463/task/2477/fdinfo’: Permission denied\n",
      "find: ‘/proc/2463/task/2477/ns’: Permission denied\n",
      "find: ‘/proc/2463/task/2478/fd’: Permission denied\n",
      "find: ‘/proc/2463/task/2478/fdinfo’: Permission denied\n",
      "find: ‘/proc/2463/task/2478/ns’: Permission denied\n",
      "find: ‘/proc/2463/fd’: Permission denied\n",
      "find: ‘/proc/2463/map_files’: Permission denied\n",
      "find: ‘/proc/2463/fdinfo’: Permission denied\n",
      "find: ‘/proc/2463/ns’: Permission denied\n",
      "find: ‘/proc/4696/task/4696/fd’: Permission denied\n",
      "find: ‘/proc/4696/task/4696/fdinfo’: Permission denied\n",
      "find: ‘/proc/4696/task/4696/ns’: Permission denied\n",
      "find: ‘/proc/4696/fd’: Permission denied\n",
      "find: ‘/proc/4696/map_files’: Permission denied\n",
      "find: ‘/proc/4696/fdinfo’: Permission denied\n",
      "find: ‘/proc/4696/ns’: Permission denied\n",
      "find: ‘/proc/6063/task/6063/fd’: Permission denied\n",
      "find: ‘/proc/6063/task/6063/fdinfo’: Permission denied\n",
      "find: ‘/proc/6063/task/6063/ns’: Permission denied\n",
      "find: ‘/proc/6063/fd’: Permission denied\n",
      "find: ‘/proc/6063/map_files’: Permission denied\n",
      "find: ‘/proc/6063/fdinfo’: Permission denied\n",
      "find: ‘/proc/6063/ns’: Permission denied\n",
      "find: ‘/proc/6292/task/6292/fd’: Permission denied\n",
      "find: ‘/proc/6292/task/6292/fdinfo’: Permission denied\n",
      "find: ‘/proc/6292/task/6292/ns’: Permission denied\n",
      "find: ‘/proc/6292/fd’: Permission denied\n",
      "find: ‘/proc/6292/map_files’: Permission denied\n",
      "find: ‘/proc/6292/fdinfo’: Permission denied\n",
      "find: ‘/proc/6292/ns’: Permission denied\n",
      "find: ‘/proc/16168/task/16168/fd’: Permission denied\n",
      "find: ‘/proc/16168/task/16168/fdinfo’: Permission denied\n",
      "find: ‘/proc/16168/task/16168/ns’: Permission denied\n",
      "find: ‘/proc/16168/fd’: Permission denied\n",
      "find: ‘/proc/16168/map_files’: Permission denied\n",
      "find: ‘/proc/16168/fdinfo’: Permission denied\n",
      "find: ‘/proc/16168/ns’: Permission denied\n",
      "find: ‘/proc/16169/task/16169/fd’: Permission denied\n",
      "find: ‘/proc/16169/task/16169/fdinfo’: Permission denied\n",
      "find: ‘/proc/16169/task/16169/ns’: Permission denied\n",
      "find: ‘/proc/16169/fd’: Permission denied\n",
      "find: ‘/proc/16169/map_files’: Permission denied\n",
      "find: ‘/proc/16169/fdinfo’: Permission denied\n",
      "find: ‘/proc/16169/ns’: Permission denied\n",
      "find: ‘/proc/16178/task/16178/fd’: Permission denied\n",
      "find: ‘/proc/16178/task/16178/fdinfo’: Permission denied\n",
      "find: ‘/proc/16178/task/16178/ns’: Permission denied\n",
      "find: ‘/proc/16178/fd’: Permission denied\n",
      "find: ‘/proc/16178/map_files’: Permission denied\n",
      "find: ‘/proc/16178/fdinfo’: Permission denied\n",
      "find: ‘/proc/16178/ns’: Permission denied\n",
      "find: ‘/proc/16179/task/16179/fd’: Permission denied\n",
      "find: ‘/proc/16179/task/16179/fdinfo’: Permission denied\n",
      "find: ‘/proc/16179/task/16179/ns’: Permission denied\n",
      "find: ‘/proc/16179/fd’: Permission denied\n",
      "find: ‘/proc/16179/map_files’: Permission denied\n",
      "find: ‘/proc/16179/fdinfo’: Permission denied\n",
      "find: ‘/proc/16179/ns’: Permission denied\n",
      "find: ‘/proc/16180/task/16180/fd’: Permission denied\n",
      "find: ‘/proc/16180/task/16180/fdinfo’: Permission denied\n",
      "find: ‘/proc/16180/task/16180/ns’: Permission denied\n",
      "find: ‘/proc/16180/fd’: Permission denied\n",
      "find: ‘/proc/16180/map_files’: Permission denied\n",
      "find: ‘/proc/16180/fdinfo’: Permission denied\n",
      "find: ‘/proc/16180/ns’: Permission denied\n",
      "find: ‘/proc/16181/task/16181/fd’: Permission denied\n",
      "find: ‘/proc/16181/task/16181/fdinfo’: Permission denied\n",
      "find: ‘/proc/16181/task/16181/ns’: Permission denied\n",
      "find: ‘/proc/16181/fd’: Permission denied\n",
      "find: ‘/proc/16181/map_files’: Permission denied\n",
      "find: ‘/proc/16181/fdinfo’: Permission denied\n",
      "find: ‘/proc/16181/ns’: Permission denied\n",
      "find: ‘/proc/16216/task/16216/fd’: Permission denied\n",
      "find: ‘/proc/16216/task/16216/fdinfo’: Permission denied\n",
      "find: ‘/proc/16216/task/16216/ns’: Permission denied\n",
      "find: ‘/proc/16216/fd’: Permission denied\n",
      "find: ‘/proc/16216/map_files’: Permission denied\n",
      "find: ‘/proc/16216/fdinfo’: Permission denied\n",
      "find: ‘/proc/16216/ns’: Permission denied\n",
      "find: ‘/proc/23333/task/23333/fd’: Permission denied\n",
      "find: ‘/proc/23333/task/23333/fdinfo’: Permission denied\n",
      "find: ‘/proc/23333/task/23333/ns’: Permission denied\n",
      "find: ‘/proc/23333/task/23335/fd’: Permission denied\n",
      "find: ‘/proc/23333/task/23335/fdinfo’: Permission denied\n",
      "find: ‘/proc/23333/task/23335/ns’: Permission denied\n",
      "find: ‘/proc/23333/task/23336/fd’: Permission denied\n",
      "find: ‘/proc/23333/task/23336/fdinfo’: Permission denied\n",
      "find: ‘/proc/23333/task/23336/ns’: Permission denied\n",
      "find: ‘/proc/23333/task/23337/fd’: Permission denied\n",
      "find: ‘/proc/23333/task/23337/fdinfo’: Permission denied\n",
      "find: ‘/proc/23333/task/23337/ns’: Permission denied\n",
      "find: ‘/proc/23333/task/23338/fd’: Permission denied\n",
      "find: ‘/proc/23333/task/23338/fdinfo’: Permission denied\n",
      "find: ‘/proc/23333/task/23338/ns’: Permission denied\n",
      "find: ‘/proc/23333/task/23339/fd’: Permission denied\n",
      "find: ‘/proc/23333/task/23339/fdinfo’: Permission denied\n",
      "find: ‘/proc/23333/task/23339/ns’: Permission denied\n",
      "find: ‘/proc/23333/task/23340/fd’: Permission denied\n",
      "find: ‘/proc/23333/task/23340/fdinfo’: Permission denied\n",
      "find: ‘/proc/23333/task/23340/ns’: Permission denied\n",
      "find: ‘/proc/23333/task/23341/fd’: Permission denied\n",
      "find: ‘/proc/23333/task/23341/fdinfo’: Permission denied\n",
      "find: ‘/proc/23333/task/23341/ns’: Permission denied\n",
      "find: ‘/proc/23333/fd’: Permission denied\n",
      "find: ‘/proc/23333/map_files’: Permission denied\n",
      "find: ‘/proc/23333/fdinfo’: Permission denied\n",
      "find: ‘/proc/23333/ns’: Permission denied\n",
      "find: ‘/proc/23849/task/23849/fd’: Permission denied\n",
      "find: ‘/proc/23849/task/23849/fdinfo’: Permission denied\n",
      "find: ‘/proc/23849/task/23849/ns’: Permission denied\n",
      "find: ‘/proc/23849/fd’: Permission denied\n",
      "find: ‘/proc/23849/map_files’: Permission denied\n",
      "find: ‘/proc/23849/fdinfo’: Permission denied\n",
      "find: ‘/proc/23849/ns’: Permission denied\n",
      "find: ‘/proc/23870/task/23870/fd’: Permission denied\n",
      "find: ‘/proc/23870/task/23870/fdinfo’: Permission denied\n",
      "find: ‘/proc/23870/task/23870/ns’: Permission denied\n",
      "find: ‘/proc/23870/fd’: Permission denied\n",
      "find: ‘/proc/23870/map_files’: Permission denied\n",
      "find: ‘/proc/23870/fdinfo’: Permission denied\n",
      "find: ‘/proc/23870/ns’: Permission denied\n",
      "find: ‘/proc/24324/task/24324/fd’: Permission denied\n",
      "find: ‘/proc/24324/task/24324/fdinfo’: Permission denied\n",
      "find: ‘/proc/24324/task/24324/ns’: Permission denied\n",
      "find: ‘/proc/24324/fd’: Permission denied\n",
      "find: ‘/proc/24324/map_files’: Permission denied\n",
      "find: ‘/proc/24324/fdinfo’: Permission denied\n",
      "find: ‘/proc/24324/ns’: Permission denied\n",
      "find: ‘/proc/24368/task/24368/fd’: Permission denied\n",
      "find: ‘/proc/24368/task/24368/fdinfo’: Permission denied\n",
      "find: ‘/proc/24368/task/24368/ns’: Permission denied\n",
      "find: ‘/proc/24368/fd’: Permission denied\n",
      "find: ‘/proc/24368/map_files’: Permission denied\n",
      "find: ‘/proc/24368/fdinfo’: Permission denied\n",
      "find: ‘/proc/24368/ns’: Permission denied\n",
      "find: ‘/lost+found’: Permission denied\n",
      "find: ‘/tmp/systemd-private-afc138ceb54243c3a5716b4d8461193b-rtkit-daemon.service-zlc610’: Permission denied\n",
      "find: ‘/tmp/systemd-private-afc138ceb54243c3a5716b4d8461193b-colord.service-S2lgzM’: Permission denied\n",
      "find: ‘/boot/lost+found’: Permission denied\n",
      "find: ‘/sys/kernel/debug’: Permission denied\n"
     ]
    }
   ],
   "source": [
    "!find / -name 'ifconfig'"
   ]
  },
  {
   "cell_type": "code",
   "execution_count": 151,
   "metadata": {
    "collapsed": false
   },
   "outputs": [
    {
     "name": "stdout",
     "output_type": "stream",
     "text": [
      "./regular_express.txt\r\n",
      "./02.txt\r\n",
      "./01.txt\r\n"
     ]
    }
   ],
   "source": [
    "!find -type f -user chweng -name '*.txt'"
   ]
  },
  {
   "cell_type": "code",
   "execution_count": 158,
   "metadata": {
    "collapsed": false
   },
   "outputs": [
    {
     "name": "stdout",
     "output_type": "stream",
     "text": [
      "./03\r\n",
      "./01\r\n",
      "./02\r\n"
     ]
    }
   ],
   "source": [
    "!find -type d -user chweng -name '0*'"
   ]
  },
  {
   "cell_type": "code",
   "execution_count": 162,
   "metadata": {
    "collapsed": false
   },
   "outputs": [
    {
     "name": "stdout",
     "output_type": "stream",
     "text": [
      "[sudo] password for chweng: \n"
     ]
    }
   ],
   "source": [
    "!sudo fdisk -l | grep -nE \"^Disk /dev/[hs]d\""
   ]
  },
  {
   "cell_type": "code",
   "execution_count": null,
   "metadata": {
    "collapsed": true
   },
   "outputs": [],
   "source": [
    "sudo find /etc -type f | wc -l"
   ]
  },
  {
   "cell_type": "code",
   "execution_count": null,
   "metadata": {
    "collapsed": true
   },
   "outputs": [],
   "source": [
    "du -hl /etc/"
   ]
  },
  {
   "cell_type": "markdown",
   "metadata": {},
   "source": [
    "```bash\n",
    "chweng@chweng-VirtualBox:~$ jobs\n",
    "[1]+  Running                 sleep 100 &\n",
    "chweng@chweng-VirtualBox:~$ fg 1  # move process 1 to the foreground\n",
    "sleep 100\n",
    "```"
   ]
  },
  {
   "cell_type": "markdown",
   "metadata": {},
   "source": [
    "then, we can press ctrl+z, which will move the process to the background and pause it."
   ]
  },
  {
   "cell_type": "markdown",
   "metadata": {},
   "source": [
    "then, type \"bg 1\" in order to start it again in the background"
   ]
  },
  {
   "cell_type": "markdown",
   "metadata": {},
   "source": [
    "#### process"
   ]
  },
  {
   "cell_type": "markdown",
   "metadata": {},
   "source": [
    "flags: \n",
    "\n",
    "-e:all processes\n",
    "\n",
    "-l:state\n",
    "\n",
    "-f: also print UID(user ID) and PPID(parent process ID)"
   ]
  },
  {
   "cell_type": "code",
   "execution_count": 3,
   "metadata": {
    "collapsed": false,
    "scrolled": true
   },
   "outputs": [
    {
     "name": "stdout",
     "output_type": "stream",
     "text": [
      "F S   UID   PID  PPID  C PRI  NI ADDR SZ WCHAN  TTY          TIME CMD\r\n",
      "4 S     0     1     0  0  80   0 - 29990 -      ?        00:00:01 systemd\r\n",
      "1 S     0     2     0  0  80   0 -     0 -      ?        00:00:00 kthreadd\r\n",
      "1 S     0     3     2  0  80   0 -     0 -      ?        00:00:00 ksoftirqd/0\r\n",
      "1 S     0     4     2  0  80   0 -     0 -      ?        00:00:00 kworker/0:0\r\n",
      "1 S     0     5     2  0  60 -20 -     0 -      ?        00:00:00 kworker/0:0H\r\n",
      "1 S     0     6     2  0  80   0 -     0 -      ?        00:00:00 kworker/u4:0\r\n",
      "1 S     0     7     2  0  80   0 -     0 -      ?        00:00:00 rcu_sched\r\n",
      "1 S     0     8     2  0  80   0 -     0 -      ?        00:00:00 rcu_bh\r\n",
      "1 S     0     9     2  0 -40   - -     0 -      ?        00:00:00 migration/0\r\n",
      "5 S     0    10     2  0 -40   - -     0 -      ?        00:00:00 watchdog/0\r\n",
      "5 S     0    11     2  0 -40   - -     0 -      ?        00:00:00 watchdog/1\r\n",
      "1 S     0    12     2  0 -40   - -     0 -      ?        00:00:00 migration/1\r\n",
      "1 S     0    13     2  0  80   0 -     0 -      ?        00:00:00 ksoftirqd/1\r\n",
      "1 S     0    14     2  0  80   0 -     0 -      ?        00:00:00 kworker/1:0\r\n",
      "1 S     0    15     2  0  60 -20 -     0 -      ?        00:00:00 kworker/1:0H\r\n",
      "5 S     0    16     2  0  80   0 -     0 -      ?        00:00:00 kdevtmpfs\r\n",
      "1 S     0    17     2  0  60 -20 -     0 -      ?        00:00:00 netns\r\n",
      "1 S     0    18     2  0  60 -20 -     0 -      ?        00:00:00 perf\r\n",
      "1 S     0    19     2  0  80   0 -     0 -      ?        00:00:00 khungtaskd\r\n",
      "1 S     0    20     2  0  60 -20 -     0 -      ?        00:00:00 writeback\r\n",
      "1 S     0    21     2  0  85   5 -     0 -      ?        00:00:00 ksmd\r\n",
      "1 S     0    22     2  0  99  19 -     0 -      ?        00:00:00 khugepaged\r\n",
      "1 S     0    23     2  0  60 -20 -     0 -      ?        00:00:00 crypto\r\n",
      "1 S     0    24     2  0  60 -20 -     0 -      ?        00:00:00 kintegrityd\r\n",
      "1 S     0    25     2  0  60 -20 -     0 -      ?        00:00:00 bioset\r\n",
      "1 S     0    26     2  0  60 -20 -     0 -      ?        00:00:00 kblockd\r\n",
      "1 S     0    27     2  0  60 -20 -     0 -      ?        00:00:00 ata_sff\r\n",
      "1 S     0    28     2  0  60 -20 -     0 -      ?        00:00:00 md\r\n",
      "1 S     0    29     2  0  60 -20 -     0 -      ?        00:00:00 devfreq_wq\r\n",
      "1 R     0    30     2  0  80   0 -     0 -      ?        00:00:00 kworker/u4:1\r\n",
      "1 S     0    31     2  0  80   0 -     0 -      ?        00:00:00 kworker/0:1\r\n",
      "1 S     0    32     2  0  80   0 -     0 -      ?        00:00:00 kworker/1:1\r\n",
      "1 S     0    34     2  0  80   0 -     0 -      ?        00:00:00 kswapd0\r\n",
      "1 S     0    35     2  0  60 -20 -     0 -      ?        00:00:00 vmstat\r\n",
      "1 S     0    36     2  0  80   0 -     0 -      ?        00:00:00 fsnotify_mark\r\n",
      "1 S     0    37     2  0  80   0 -     0 -      ?        00:00:00 ecryptfs-kthre\r\n",
      "1 S     0    53     2  0  60 -20 -     0 -      ?        00:00:00 kthrotld\r\n",
      "1 S     0    54     2  0  60 -20 -     0 -      ?        00:00:00 acpi_thermal_p\r\n",
      "1 S     0    55     2  0  60 -20 -     0 -      ?        00:00:00 bioset\r\n",
      "1 S     0    56     2  0  60 -20 -     0 -      ?        00:00:00 bioset\r\n",
      "1 S     0    57     2  0  60 -20 -     0 -      ?        00:00:00 bioset\r\n",
      "1 S     0    58     2  0  60 -20 -     0 -      ?        00:00:00 bioset\r\n",
      "1 S     0    59     2  0  60 -20 -     0 -      ?        00:00:00 bioset\r\n",
      "1 S     0    60     2  0  60 -20 -     0 -      ?        00:00:00 bioset\r\n",
      "1 S     0    61     2  0  60 -20 -     0 -      ?        00:00:00 bioset\r\n",
      "1 S     0    62     2  0  60 -20 -     0 -      ?        00:00:00 bioset\r\n",
      "1 S     0    63     2  0  60 -20 -     0 -      ?        00:00:00 bioset\r\n",
      "1 S     0    64     2  0  60 -20 -     0 -      ?        00:00:00 bioset\r\n",
      "1 S     0    65     2  0  60 -20 -     0 -      ?        00:00:00 bioset\r\n",
      "1 S     0    66     2  0  60 -20 -     0 -      ?        00:00:00 bioset\r\n",
      "1 S     0    67     2  0  60 -20 -     0 -      ?        00:00:00 bioset\r\n",
      "1 S     0    68     2  0  60 -20 -     0 -      ?        00:00:00 bioset\r\n",
      "1 S     0    69     2  0  60 -20 -     0 -      ?        00:00:00 bioset\r\n",
      "1 S     0    70     2  0  60 -20 -     0 -      ?        00:00:00 bioset\r\n",
      "1 S     0    71     2  0  60 -20 -     0 -      ?        00:00:00 bioset\r\n",
      "1 S     0    72     2  0  60 -20 -     0 -      ?        00:00:00 bioset\r\n",
      "1 S     0    73     2  0  60 -20 -     0 -      ?        00:00:00 bioset\r\n",
      "1 S     0    74     2  0  60 -20 -     0 -      ?        00:00:00 bioset\r\n",
      "1 S     0    75     2  0  60 -20 -     0 -      ?        00:00:00 bioset\r\n",
      "1 S     0    76     2  0  60 -20 -     0 -      ?        00:00:00 bioset\r\n",
      "1 S     0    77     2  0  60 -20 -     0 -      ?        00:00:00 bioset\r\n",
      "1 S     0    78     2  0  60 -20 -     0 -      ?        00:00:00 bioset\r\n",
      "1 S     0    79     2  0  80   0 -     0 -      ?        00:00:00 scsi_eh_0\r\n",
      "1 S     0    80     2  0  60 -20 -     0 -      ?        00:00:00 scsi_tmf_0\r\n",
      "1 S     0    81     2  0  80   0 -     0 -      ?        00:00:00 scsi_eh_1\r\n",
      "1 S     0    82     2  0  60 -20 -     0 -      ?        00:00:00 scsi_tmf_1\r\n",
      "1 S     0    83     2  0  80   0 -     0 -      ?        00:00:00 kworker/u4:2\r\n",
      "1 S     0    84     2  0  80   0 -     0 -      ?        00:00:00 kworker/u4:3\r\n",
      "1 S     0    88     2  0  60 -20 -     0 -      ?        00:00:00 ipv6_addrconf\r\n",
      "1 S     0   101     2  0  60 -20 -     0 -      ?        00:00:00 deferwq\r\n",
      "1 S     0   102     2  0  60 -20 -     0 -      ?        00:00:00 charger_manage\r\n",
      "1 S     0   103     2  0  60 -20 -     0 -      ?        00:00:00 bioset\r\n",
      "1 S     0   147     2  0  60 -20 -     0 -      ?        00:00:00 kpsmoused\r\n",
      "1 S     0   148     2  0  80   0 -     0 -      ?        00:00:00 kworker/0:2\r\n",
      "1 S     0   149     2  0  80   0 -     0 -      ?        00:00:00 kworker/0:3\r\n",
      "1 S     0   150     2  0  80   0 -     0 -      ?        00:00:00 scsi_eh_2\r\n",
      "1 S     0   151     2  0  60 -20 -     0 -      ?        00:00:00 scsi_tmf_2\r\n",
      "1 S     0   153     2  0  60 -20 -     0 -      ?        00:00:00 bioset\r\n",
      "1 S     0   170     2  0  60 -20 -     0 -      ?        00:00:00 kdmflush\r\n",
      "1 S     0   171     2  0  60 -20 -     0 -      ?        00:00:00 bioset\r\n",
      "1 S     0   181     2  0  60 -20 -     0 -      ?        00:00:00 kworker/0:1H\r\n",
      "1 S     0   198     2  0  80   0 -     0 -      ?        00:00:00 jbd2/dm-0-8\r\n",
      "1 S     0   199     2  0  60 -20 -     0 -      ?        00:00:00 ext4-rsv-conve\r\n",
      "1 S     0   234     2  0  80   0 -     0 -      ?        00:00:00 kauditd\r\n",
      "1 S     0   235     2  0  80   0 -     0 -      ?        00:00:00 kworker/0:4\r\n",
      "4 S     0   237     1  0  80   0 -  8847 -      ?        00:00:00 systemd-journa\r\n",
      "1 S     0   251     2  0  80   0 -     0 -      ?        00:00:00 kworker/1:2\r\n",
      "1 S     0   255     2  0  60 -20 -     0 -      ?        00:00:00 kworker/1:1H\r\n",
      "4 S     0   270     1  0  80   0 - 25742 -      ?        00:00:00 lvmetad\r\n",
      "4 S     0   276     1  0  80   0 - 11538 -      ?        00:00:00 systemd-udevd\r\n",
      "1 S     0   332     2  0  60 -20 -     0 -      ?        00:00:00 iprt-VBoxWQueu\r\n",
      "1 S     0   380     2  0  60 -20 -     0 -      ?        00:00:00 ttm_swap\r\n",
      "1 S     0   456     2  0  60 -20 -     0 -      ?        00:00:00 kdmflush\r\n",
      "1 S     0   457     2  0  60 -20 -     0 -      ?        00:00:00 bioset\r\n",
      "1 S     0   470     2  0  60 -20 -     0 -      ?        00:00:00 ext4-rsv-conve\r\n",
      "4 S     0   664     1  0  80   0 -  7156 -      ?        00:00:00 systemd-logind\r\n",
      "1 S     0   676     2  0  80   0 -     0 -      ?        00:00:00 kworker/1:3\r\n",
      "4 S     0   679     1  0  80   0 - 23459 -      ?        00:00:00 cupsd\r\n",
      "4 S   106   686     1  0  80   0 - 11068 -      ?        00:00:01 dbus-daemon\r\n",
      "1 S     0   694     2  0  80   0 -     0 -      ?        00:00:00 kworker/0:5\r\n",
      "4 S   104   824     1  0  80   0 - 64099 -      ?        00:00:00 rsyslogd\r\n",
      "0 S     0   827     1  0  80   0 -  1100 -      ?        00:00:00 acpid\r\n",
      "4 S     0   828     1  0  80   0 - 73003 -      ?        00:00:00 accounts-daemo\r\n",
      "4 S   111   831     1  0  80   0 - 11197 -      ?        00:00:00 avahi-daemon\r\n",
      "4 S     0   837     1  0  80   0 - 84340 -      ?        00:00:00 ModemManager\r\n",
      "4 S     0   841     1  0  80   0 -  1974 -      ?        00:00:00 anacron\r\n",
      "1 S     0   842     2  0  80   0 -     0 -      ?        00:00:00 kworker/1:4\r\n",
      "1 S     0   845     2  0  80   0 -     0 -      ?        00:00:00 kworker/1:5\r\n",
      "4 S     0   849     1  0  80   0 - 114013 -     ?        00:00:00 NetworkManager\r\n",
      "4 S   109   851     1  0  80   0 - 96653 -      ?        00:00:00 whoopsie\r\n",
      "4 S     0   858     1  0  80   0 -  7402 -      ?        00:00:00 cron\r\n",
      "4 S     0   865     1  0  80   0 - 18587 -      ?        00:00:00 snapd\r\n",
      "4 S     0   928     1  0  80   0 - 73050 -      ?        00:00:00 lightdm\r\n",
      "1 S   111   934   831  0  80   0 - 11197 -      ?        00:00:00 avahi-daemon\r\n",
      "4 S     0   936     1  0  80   0 - 68705 -      ?        00:00:00 cups-browsed\r\n",
      "4 S     7   941   679  0  80   0 - 20311 -      ?        00:00:00 dbus\r\n",
      "4 S     7   942   679  0  80   0 - 20311 -      ?        00:00:00 dbus\r\n",
      "4 S     7   943   679  0  80   0 - 20311 -      ?        00:00:00 dbus\r\n",
      "5 S     0   945     1  0  80   0 -  4868 -      ?        00:00:00 irqbalance\r\n",
      "4 S     0   978     1  0  80   0 - 73583 -      ?        00:00:00 polkitd\r\n",
      "4 S     0  1009   928  3  80   0 - 110738 -     tty7     00:00:08 Xorg\r\n",
      "4 S     0  1026     1  0  80   0 -  4135 -      tty1     00:00:00 agetty\r\n",
      "1 S     0  1053     1  0  80   0 - 62225 -      ?        00:00:00 VBoxService\r\n",
      "4 S     0  1076   849  0  80   0 -  4030 -      ?        00:00:00 dhclient\r\n",
      "4 S 65534  1086   849  0  80   0 - 13367 -      ?        00:00:00 dnsmasq\r\n",
      "4 S   118  1278     1  0  81   1 - 45886 -      ?        00:00:00 rtkit-daemon\r\n",
      "4 S     0  1343     1  0  80   0 - 86935 -      ?        00:00:00 upowerd\r\n",
      "4 S   113  1358     1  0  80   0 - 78548 -      ?        00:00:00 colord\r\n",
      "4 S     0  1447   928  0  80   0 - 57576 -      ?        00:00:00 lightdm\r\n",
      "4 S     0  1578     1  0  80   0 -  4135 -      tty2     00:00:00 agetty\r\n",
      "4 S     0  1591     1  0  80   0 -  4135 -      tty3     00:00:00 agetty\r\n",
      "4 S     0  1595     1  0  80   0 -  4135 -      tty5     00:00:00 agetty\r\n",
      "4 S     0  1602     1  0  80   0 -  4135 -      tty6     00:00:00 agetty\r\n",
      "4 S  1000  1618     1  0  80   0 - 11342 ep_pol ?        00:00:00 systemd\r\n",
      "5 S  1000  1619  1618  0  80   0 - 36376 -      ?        00:00:00 (sd-pam)\r\n",
      "1 S  1000  1625     1  0  80   0 - 51454 -      ?        00:00:00 gnome-keyring-\r\n",
      "4 S  1000  1627  1447  0  80   0 - 11769 poll_s ?        00:00:00 upstart\r\n",
      "1 S  1000  1641     1  0  80   0 - 12526 wait   ?        00:00:00 VBoxClient\r\n",
      "1 S  1000  1642  1641  0  80   0 - 29622 rtR0Se ?        00:00:00 VBoxClient\r\n",
      "1 S  1000  1651     1  0  80   0 - 12526 wait   ?        00:00:00 VBoxClient\r\n",
      "1 S  1000  1652  1651  0  80   0 - 12559 poll_s ?        00:00:00 VBoxClient\r\n",
      "1 S  1000  1658     1  0  80   0 - 12526 wait   ?        00:00:00 VBoxClient\r\n",
      "1 S  1000  1659  1658  0  80   0 - 29072 rtR0Se ?        00:00:00 VBoxClient\r\n",
      "1 S  1000  1664     1  0  80   0 - 12526 wait   ?        00:00:00 VBoxClient\r\n",
      "1 S  1000  1665  1664  0  80   0 - 29201 futex_ ?        00:00:00 VBoxClient\r\n",
      "1 S  1000  1765  1627  0  80   0 -  8365 poll_s ?        00:00:00 upstart-udev-b\r\n",
      "1 S  1000  1769  1627  0  80   0 - 10942 ep_pol ?        00:00:00 dbus-daemon\r\n",
      "0 S  1000  1781  1627  0  80   0 - 21738 poll_s ?        00:00:00 window-stack-b\r\n",
      "1 S  1000  1802  1627  0  80   0 - 89735 poll_s ?        00:00:00 ibus-daemon\r\n",
      "1 S  1000  1806  1627  0  80   0 - 10472 poll_s ?        00:00:00 upstart-file-b\r\n",
      "1 S  1000  1808  1627  0  80   0 -  8349 poll_s ?        00:00:00 upstart-dbus-b\r\n",
      "1 S  1000  1811  1627  0  80   0 -  8349 poll_s ?        00:00:00 upstart-dbus-b\r\n",
      "0 S  1000  1817  1627  0  80   0 - 68782 poll_s ?        00:00:00 gvfsd\r\n",
      "0 S  1000  1822  1627  0  80   0 - 104990 futex_ ?       00:00:00 gvfsd-fuse\r\n",
      "0 S  1000  1844  1802  0  80   0 - 69538 poll_s ?        00:00:00 ibus-dconf\r\n",
      "0 S  1000  1845  1802  0  80   0 - 118258 poll_s ?       00:00:00 ibus-ui-gtk3\r\n",
      "1 S  1000  1846  1627  0  80   0 - 41785 -      ?        00:00:00 gpg-agent\r\n",
      "0 S  1000  1848  1627  0  80   0 - 105858 poll_s ?       00:00:00 ibus-x11\r\n",
      "0 S  1000  1859  1627  0  80   0 - 88451 poll_s ?        00:00:00 at-spi-bus-lau\r\n",
      "0 S  1000  1867  1859  0  80   0 - 10725 ep_pol ?        00:00:00 dbus-daemon\r\n",
      "0 S  1000  1869  1627  0  80   0 - 51743 poll_s ?        00:00:00 at-spi2-regist\r\n",
      "0 S  1000  1876  1627  0  80   0 - 129525 poll_s ?       00:00:00 bamfdaemon\r\n",
      "0 S  1000  1877  1802  0  80   0 - 50572 poll_s ?        00:00:00 ibus-engine-si\r\n",
      "0 S  1000  1893  1627  0  80   0 - 156932 poll_s ?       00:00:00 hud-service\r\n",
      "0 S  1000  1895  1627  0  80   0 - 230911 poll_s ?       00:00:00 unity-settings\r\n",
      "0 S  1000  1923  1627  0  80   0 - 138340 poll_s ?       00:00:00 gnome-session-\r\n",
      "0 S  1000  1926  1627  0  80   0 - 158369 poll_s ?       00:00:00 unity-panel-se\r\n",
      "0 S  1000  2129  1627  0  80   0 - 92670 poll_s ?        00:00:00 indicator-mess\r\n",
      "0 S  1000  2130  1627  0  80   0 - 87446 poll_s ?        00:00:00 indicator-blue\r\n",
      "0 S  1000  2131  1627  0  80   0 - 90336 poll_s ?        00:00:00 indicator-powe\r\n",
      "0 S  1000  2142  1627  0  80   0 - 310075 poll_s ?       00:00:00 indicator-date\r\n",
      "0 S  1000  2146  1627  0  80   0 - 163177 poll_s ?       00:00:00 indicator-keyb\r\n",
      "0 S  1000  2167  1627  0  80   0 - 169113 poll_s ?       00:00:00 indicator-soun\r\n",
      "0 S  1000  2173  1627  0  80   0 - 135793 poll_s ?       00:00:00 indicator-prin\r\n",
      "0 S  1000  2175  1627  0  80   0 - 175615 poll_s ?       00:00:00 indicator-sess\r\n",
      "1 S  1000  2207  1627  0  69 -11 - 108886 poll_s ?       00:00:00 pulseaudio\r\n",
      "0 S  1000  2211  1627  0  80   0 - 98985 poll_s ?        00:00:00 indicator-appl\r\n",
      "0 S  1000  2261  1627  0  80   0 - 156033 poll_s ?       00:00:00 evolution-sour\r\n",
      "0 S  1000  2607  1627  0  80   0 - 44666 poll_s ?        00:00:00 dconf-service\r\n",
      "0 S  1000  2794  1923  0  80   0 - 106241 poll_s ?       00:00:00 polkit-gnome-a\r\n",
      "0 S  1000  2824  1923  0  80   0 - 142577 poll_s ?       00:00:00 unity-fallback\r\n",
      "0 S  1000  2828  1923  0  80   0 - 325817 poll_s ?       00:00:02 gnome-software\r\n",
      "0 S  1000  2829  1627  3  80   0 - 262652 poll_s ?       00:00:08 compiz\r\n",
      "0 S  1000  2833  1923  0  80   0 - 282756 poll_s ?       00:00:00 nautilus\r\n",
      "0 S  1000  2839  1627  0  80   0 - 215727 poll_s ?       00:00:00 evolution-cale\r\n",
      "0 S  1000  2842  1923  0  80   0 - 146142 poll_s ?       00:00:00 nm-applet\r\n",
      "0 S  1000  2846  1627  0  80   0 - 92677 poll_s ?        00:00:00 gvfs-udisks2-v\r\n",
      "4 S     0  2856     1  0  80   0 - 95807 -      ?        00:00:00 udisksd\r\n",
      "0 S  1000  2872  1627  0  80   0 - 68081 poll_s ?        00:00:00 gvfs-gphoto2-v\r\n",
      "0 S  1000  2877  1627  0  80   0 - 65032 poll_s ?        00:00:00 gvfs-mtp-volum\r\n",
      "0 S  1000  2882  1627  0  80   0 - 101052 poll_s ?       00:00:00 gvfs-afc-volum\r\n",
      "0 S  1000  2891  1627  0  80   0 - 64534 poll_s ?        00:00:00 gvfs-goa-volum\r\n",
      "4 S     0  2903     1  0  80   0 - 158816 -     ?        00:00:00 fwupd\r\n",
      "0 S  1000  2910  1627  0  80   0 - 91062 poll_s ?        00:00:00 gvfsd-trash\r\n",
      "0 S  1000  2929  1627  0  80   0 - 46645 poll_s ?        00:00:00 gvfsd-metadata\r\n",
      "0 S  1000  2937  2839  0  80   0 - 205767 poll_s ?       00:00:00 evolution-cale\r\n",
      "0 S  1000  2947  2839  0  80   0 - 234598 poll_s ?       00:00:00 evolution-cale\r\n",
      "0 S  1000  2949  1627  0  80   0 - 174483 poll_s ?       00:00:00 evolution-addr\r\n",
      "0 S  1000  2958  2949  0  80   0 - 228179 poll_s ?       00:00:00 evolution-addr\r\n",
      "0 S  1000  3026  1627  0  80   0 -  1127 wait   ?        00:00:00 sh\r\n",
      "0 S  1000  3030  3026  0  80   0 - 105856 poll_s ?       00:00:00 zeitgeist-daem\r\n",
      "0 S  1000  3037  1627  0  80   0 - 80361 poll_s ?        00:00:00 zeitgeist-fts\r\n",
      "0 S  1000  3039  1627  0  80   0 - 124762 poll_s ?       00:00:00 zeitgeist-data\r\n",
      "0 S  1000  3069  1627  0  80   0 - 164216 poll_s ?       00:00:01 gnome-terminal\r\n",
      "0 S  1000  3076  3069  0  80   0 -  5768 wait   pts/17   00:00:00 bash\r\n",
      "4 S     0  3092  3076  0  80   0 - 13908 -      pts/17   00:00:00 sudo\r\n",
      "4 S     0  3093  3092  0  80   0 -  5757 -      pts/17   00:00:00 bash\r\n",
      "0 S  1000  3130  1923  0  80   0 - 129610 poll_s ?       00:00:00 update-notifie\r\n",
      "4 S     0  3141     1  0  85   5 - 71014 -      ?        00:00:00 aptd\r\n",
      "4 S   105  3152  3141  0  85   5 - 11921 -      ?        00:00:00 http\r\n",
      "4 S   105  3153  3141  0  85   5 - 11921 -      ?        00:00:00 http\r\n",
      "4 S   105  3157  3141  0  85   5 - 10829 -      ?        00:00:00 gpgv\r\n",
      "4 S   105  3194  3141  0  85   5 - 10852 -      ?        00:00:00 store\r\n",
      "0 S  1000  3202  3069  0  80   0 -  5762 wait   pts/2    00:00:00 bash\r\n",
      "0 S  1000  3215  3202  0  80   0 - 71321 poll_s pts/2    00:00:01 jupyter-notebo\r\n",
      "0 S  1000  3229  1627  0  80   0 - 81694 poll_s ?        00:00:00 gvfsd-http\r\n",
      "0 R  1000  3234  1627 12  80   0 - 281527 -     ?        00:00:17 firefox\r\n",
      "0 S  1000  3263  1627  0  80   0 - 15443 poll_s ?        00:00:00 gconfd-2\r\n",
      "0 S  1000  3319  3215  0  80   0 - 147080 poll_s ?       00:00:00 python\r\n",
      "0 S  1000  3337  1923  0  80   0 - 110476 poll_s ?       00:00:00 deja-dup-monit\r\n",
      "0 S  1000  3377  3319  0  80   0 -  1127 wait   pts/18   00:00:00 sh\r\n",
      "0 R  1000  3378  3377  0  80   0 -  7379 -      pts/18   00:00:00 ps\r\n"
     ]
    }
   ],
   "source": [
    "!ps -el"
   ]
  },
  {
   "cell_type": "markdown",
   "metadata": {},
   "source": [
    "#### the \"top\" command\n",
    "\n",
    "http://mugurel.sumanariu.ro/linux/the-difference-among-virt-res-and-shr-in-top-output/"
   ]
  },
  {
   "cell_type": "markdown",
   "metadata": {},
   "source": [
    ">RES stands for the resident size, which is an accurate representation of how much actual physical memory a process is consuming. (This also corresponds directly to the %MEM column.) This will virtually always be less than the VIRT size, since most programs depend on the C library.\n",
    "\n",
    ">SHR indicates how much of the VIRT size is actually sharable (memory or libraries). In the case of libraries, it does not necessarily mean that the entire library is resident. For example, if a program only uses a few functions in a library, the whole library is mapped and will be counted in VIRT and SHR, but only the parts of the library file containing the functions being used will actually be loaded in and be counted under RES."
   ]
  },
  {
   "cell_type": "markdown",
   "metadata": {},
   "source": [
    "use \"top -o RES\" to sort by resident size(RES)"
   ]
  },
  {
   "cell_type": "markdown",
   "metadata": {},
   "source": [
    "#### 16112016"
   ]
  },
  {
   "cell_type": "markdown",
   "metadata": {},
   "source": [
    "The following cell is the content of the script testPS.sh:"
   ]
  },
  {
   "cell_type": "markdown",
   "metadata": {},
   "source": [
    "```BASH\n",
    "#!/bin/bash\n",
    "ps -f\n",
    "#read\n",
    "```"
   ]
  },
  {
   "cell_type": "markdown",
   "metadata": {},
   "source": [
    "Now, we execute it:"
   ]
  },
  {
   "cell_type": "markdown",
   "metadata": {},
   "source": [
    "```BASH\n",
    "chweng@chweng-VirtualBox:~/code/exercises$ ./testPS.sh \n",
    "UID        PID  PPID  C STIME TTY          TIME CMD\n",
    "chweng    9960  2374  0 16:26 pts/31   00:00:00 bash\n",
    "chweng    9974  9960  0 16:26 pts/31   00:00:00 /bin/bash ./testPS.sh\n",
    "chweng    9975  9974  0 16:26 pts/31   00:00:00 ps -f\n",
    "\n",
    "chweng@chweng-VirtualBox:~/code/exercises$ source testPS.sh \n",
    "UID        PID  PPID  C STIME TTY          TIME CMD\n",
    "chweng    9960  2374  0 16:26 pts/31   00:00:00 bash\n",
    "chweng    9980  9960  0 16:26 pts/31   00:00:00 ps -f\n",
    "\n",
    "```"
   ]
  },
  {
   "cell_type": "markdown",
   "metadata": {},
   "source": [
    "```BASH\n",
    "chweng@chweng-VirtualBox:~$ var1=1111\n",
    "chweng@chweng-VirtualBox:~$ var2=3333\n",
    "\n",
    "chweng@chweng-VirtualBox:~$ echo \"${var1}222\"\n",
    "1111222\n",
    "\n",
    "chweng@chweng-VirtualBox:~$ set | grep \"var1\"\n",
    "var1=1111\n",
    "chweng@chweng-VirtualBox:~$ set | grep \"var2\"\n",
    "var2=3333\n",
    "```"
   ]
  },
  {
   "cell_type": "markdown",
   "metadata": {},
   "source": [
    "```BASH\n",
    "chweng@chweng-VirtualBox:~$ bash\n",
    "chweng@chweng-VirtualBox:~$ echo $var1\n",
    "111\n",
    "chweng@chweng-VirtualBox:~$ echo $var2\n",
    "```"
   ]
  },
  {
   "cell_type": "markdown",
   "metadata": {},
   "source": [
    "```bash\n",
    "chweng@chweng-VirtualBox:~$ set |grep \"var1\"\n",
    "var1=1111\n",
    "chweng@chweng-VirtualBox:~$ set |grep \"var2\"\n",
    "var2=3333\n",
    "\n",
    "chweng@chweng-VirtualBox:~$ env |grep \"var1\"\n",
    "chweng@chweng-VirtualBox:~$ env |grep \"var2\"\n",
    "var2=3333\n",
    "```"
   ]
  },
  {
   "cell_type": "markdown",
   "metadata": {},
   "source": [
    "#### Some examples that uses BASH variables:"
   ]
  },
  {
   "cell_type": "code",
   "execution_count": 11,
   "metadata": {
    "collapsed": false
   },
   "outputs": [
    {
     "name": "stdout",
     "output_type": "stream",
     "text": [
      "The length of var1=12345 is 5.\n"
     ]
    }
   ],
   "source": [
    "%%bash\n",
    "var=12345\n",
    "echo \"The length of var1=$var is ${#var}.\""
   ]
  },
  {
   "cell_type": "code",
   "execution_count": 24,
   "metadata": {
    "collapsed": false
   },
   "outputs": [
    {
     "name": "stdout",
     "output_type": "stream",
     "text": [
      "328M,/home/chweng\n",
      "328M\n",
      "\n",
      "/dev/mapper/ubuntu--vg-root,992G\n",
      "992G\n"
     ]
    }
   ],
   "source": [
    "%%bash\n",
    "\n",
    "set $(eval du -sh ~$user);dir_sz=$1\n",
    "echo \"$1,$2\"\n",
    "echo \"${dir_sz}\"\n",
    "\n",
    "echo \"\"\n",
    "\n",
    "set $(eval df -h|grep \" /$\");fs_sz=$2\n",
    "echo \"$1,$2\"\n",
    "echo \"${fs_sz}\""
   ]
  },
  {
   "cell_type": "code",
   "execution_count": 21,
   "metadata": {
    "collapsed": false
   },
   "outputs": [
    {
     "name": "stdout",
     "output_type": "stream",
     "text": [
      "size of my home directory is 328M.\n",
      "size of my file system size is 992G.\n"
     ]
    }
   ],
   "source": [
    "%%bash\n",
    "\n",
    "set $(eval du -sh ~$user);dir_sz=$1\n",
    "set $(eval df -h|grep \" /$\");fs_sz=$2\n",
    "echo \"Size of my home directory is ${dir_sz}.\"\n",
    "echo \"Size of my file system size is ${fs_sz}.\""
   ]
  },
  {
   "cell_type": "markdown",
   "metadata": {},
   "source": [
    "#### In BASH, a line is excuted successfully if the exit status is 0."
   ]
  },
  {
   "cell_type": "code",
   "execution_count": 27,
   "metadata": {
    "collapsed": false
   },
   "outputs": [
    {
     "name": "stdout",
     "output_type": "stream",
     "text": [
      "exit status=0\n"
     ]
    }
   ],
   "source": [
    "%%bash\n",
    "\n",
    ":\n",
    "echo \"exit status=$?\""
   ]
  },
  {
   "cell_type": "code",
   "execution_count": 28,
   "metadata": {
    "collapsed": false
   },
   "outputs": [
    {
     "name": "stdout",
     "output_type": "stream",
     "text": [
      "exit status=2\n"
     ]
    },
    {
     "name": "stderr",
     "output_type": "stream",
     "text": [
      "ls: cannot access '/dhuoewyr242q': No such file or directory\n"
     ]
    }
   ],
   "source": [
    "%%bash\n",
    "\n",
    "ls /dhuoewyr242q\n",
    "echo \"exit status=$?\""
   ]
  },
  {
   "cell_type": "code",
   "execution_count": 29,
   "metadata": {
    "collapsed": false
   },
   "outputs": [
    {
     "name": "stdout",
     "output_type": "stream",
     "text": [
      "exit status=0\n"
     ]
    }
   ],
   "source": [
    "%%bash\n",
    "\n",
    "true\n",
    "echo \"exit status=$?\""
   ]
  },
  {
   "cell_type": "code",
   "execution_count": 30,
   "metadata": {
    "collapsed": false
   },
   "outputs": [
    {
     "name": "stdout",
     "output_type": "stream",
     "text": [
      "exit status=1\n"
     ]
    }
   ],
   "source": [
    "%%bash\n",
    "\n",
    "false\n",
    "echo \"exit status=$?\""
   ]
  },
  {
   "cell_type": "code",
   "execution_count": 34,
   "metadata": {
    "collapsed": false
   },
   "outputs": [
    {
     "name": "stdout",
     "output_type": "stream",
     "text": [
      "exit status=0\n",
      "\n",
      "exit status=0\n"
     ]
    }
   ],
   "source": [
    "%%bash\n",
    "\n",
    "value=123\n",
    "test $value==\"123\"\n",
    "echo \"exit status=$?\"\n",
    "echo\"\"\n",
    "test $value==\"456\"\n",
    "echo \"exit status=$?\""
   ]
  },
  {
   "cell_type": "markdown",
   "metadata": {},
   "source": [
    "The above result is wrong. it's necessary to wrap == with SPACES, as the follows:"
   ]
  },
  {
   "cell_type": "code",
   "execution_count": 37,
   "metadata": {
    "collapsed": false
   },
   "outputs": [
    {
     "name": "stdout",
     "output_type": "stream",
     "text": [
      "exit status=0\n",
      "\n",
      "exit status=1\n"
     ]
    }
   ],
   "source": [
    "%%bash\n",
    "\n",
    "value=123\n",
    "test $value == \"123\"\n",
    "echo \"exit status=$?\"\n",
    "echo\"\"\n",
    "test $value == \"456\"\n",
    "echo \"exit status=$?\""
   ]
  },
  {
   "cell_type": "markdown",
   "metadata": {},
   "source": [
    "#### the command test can be replaced by its synonym [ ]:"
   ]
  },
  {
   "cell_type": "code",
   "execution_count": 40,
   "metadata": {
    "collapsed": false
   },
   "outputs": [
    {
     "name": "stdout",
     "output_type": "stream",
     "text": [
      "[: [ arg... ]\n",
      "    Evaluate conditional expression.\n",
      "    \n",
      "    This is a synonym for the \"test\" builtin, but the last argument must\n",
      "    be a literal `]', to match the opening `['.\n"
     ]
    }
   ],
   "source": [
    "%%bash\n",
    "help ["
   ]
  },
  {
   "cell_type": "code",
   "execution_count": 41,
   "metadata": {
    "collapsed": false
   },
   "outputs": [
    {
     "name": "stdout",
     "output_type": "stream",
     "text": [
      "exit status=0\n",
      "\n",
      "exit status=1\n"
     ]
    }
   ],
   "source": [
    "%%bash\n",
    "\n",
    "value=123\n",
    "[ $value == \"123\" ]\n",
    "echo \"exit status=$?\"\n",
    "echo\"\"\n",
    "[ $value == \"456\" ]\n",
    "echo \"exit status=$?\""
   ]
  },
  {
   "cell_type": "code",
   "execution_count": 46,
   "metadata": {
    "collapsed": false
   },
   "outputs": [
    {
     "name": "stdout",
     "output_type": "stream",
     "text": [
      "exit status=1\n"
     ]
    }
   ],
   "source": [
    "%%bash\n",
    "\n",
    "/usr/bin/[ 0 == 1 ]\n",
    "echo \"exit status=$?\""
   ]
  },
  {
   "cell_type": "markdown",
   "metadata": {},
   "source": [
    "#### example: ex4-4.sh:"
   ]
  },
  {
   "cell_type": "code",
   "execution_count": 47,
   "metadata": {
    "collapsed": false
   },
   "outputs": [
    {
     "name": "stdout",
     "output_type": "stream",
     "text": [
      "Password file exists.\n",
      "15 is not equal to 017\n",
      "15 equals 017\n",
      "15 equals 0x0f\n"
     ]
    }
   ],
   "source": [
    "%%bash\n",
    "\n",
    "#!/bin/bash\n",
    "# using [ and [[\n",
    "\n",
    "file=/etc/passwd\n",
    "\n",
    "if [[ -e $file ]]\n",
    "then\n",
    "        echo \"Password file exists.\"\n",
    "fi\n",
    "\n",
    "# [[ Octal and hexadecimal evaluation ]]\n",
    "# Thank you, Moritz Gronbach, for pointing this out.\n",
    "\n",
    "decimal=15\n",
    "octal=017       # = 15 (decimal)\n",
    "hex=0x0f        # = 15 (decimal)\n",
    "\n",
    "if [ \"$decimal\" -eq \"$octal\" ]\n",
    "then\n",
    "        echo \"$decimal equals $octal\"\n",
    "else\n",
    "        echo \"$decimal is not equal to $octal\" # 15 is not equal to 017\n",
    "fi      # Doesn't evaluate within [ single brackets ]!\n",
    "\n",
    "if [[ \"$decimal\" -eq \"$octal\" ]]\n",
    "then\n",
    "        echo \"$decimal equals $octal\" # 15 equals 017\n",
    "else\n",
    "        echo \"$decimal is not equal to $octal\"\n",
    "fi      # Evaluates within [[ double brackets ]]!\n",
    "\n",
    "if [[ \"$decimal\" -eq \"$hex\" ]]\n",
    "then\n",
    "        echo \"$decimal equals $hex\" # 15 equals 0x0f\n",
    "else\n",
    "        echo \"$decimal is not equal to $hex\"\n",
    "fi      # [[ $hexadecimal ]] also evaluates!"
   ]
  },
  {
   "cell_type": "markdown",
   "metadata": {},
   "source": [
    "#### example: ex4-4.sh:"
   ]
  },
  {
   "cell_type": "code",
   "execution_count": 48,
   "metadata": {
    "collapsed": true
   },
   "outputs": [],
   "source": [
    "!mkdir /home/chweng/a"
   ]
  },
  {
   "cell_type": "code",
   "execution_count": 49,
   "metadata": {
    "collapsed": true
   },
   "outputs": [],
   "source": [
    "!touch /home/chweng/a/123.txt"
   ]
  },
  {
   "cell_type": "code",
   "execution_count": 58,
   "metadata": {
    "collapsed": false
   },
   "outputs": [
    {
     "name": "stdout",
     "output_type": "stream",
     "text": [
      "Backup directory ~/b...\n",
      "Source directory ~/a...\n",
      "Backup done!\n"
     ]
    }
   ],
   "source": [
    "%%bash\n",
    "#!/bin/bash\n",
    "# using file test operator\n",
    "\n",
    "DEST=\"~/b\"\n",
    "SRC=\"~/a\"\n",
    "\n",
    "# Make sure backup dir exits\n",
    "if [ ! -d $DEST ]\n",
    "then\n",
    "        mkdir -p $DEST\n",
    "fi\n",
    "\n",
    "# If source directory does not exits, die...\n",
    "if [ ! -d $SRC ]\n",
    "then\n",
    "        echo \"$SRC directory not found. Cannot make backup to $DEST\"\n",
    "        exit 1\n",
    "fi\n",
    "\n",
    "# Okay, dump backup using tar\n",
    "echo \"Backup directory $DEST...\"\n",
    "echo \"Source directory $SRC...\"\n",
    "/bin/tar -Jcf $DEST/backup.tar.xz $SRC 2>/dev/null\n",
    "\n",
    "# Find out if backup failed or not\n",
    "if [ $? -eq 0 ] \n",
    "then\n",
    "        echo \"Backup done!\"\n",
    "else\n",
    "        echo \"Backup failed\"\n",
    "fi"
   ]
  },
  {
   "cell_type": "markdown",
   "metadata": {},
   "source": [
    "#### See if an integer A is greater equal than another integer B:"
   ]
  },
  {
   "cell_type": "code",
   "execution_count": 81,
   "metadata": {
    "collapsed": false
   },
   "outputs": [
    {
     "name": "stdout",
     "output_type": "stream",
     "text": [
      "5 >= 0\n"
     ]
    }
   ],
   "source": [
    "%%bash\n",
    "i=5\n",
    "if [ $i -ge 0 ];then echo \"$i >= 0\";fi"
   ]
  },
  {
   "cell_type": "markdown",
   "metadata": {},
   "source": [
    "alternatively, one can write it like this (with the help of )"
   ]
  },
  {
   "cell_type": "code",
   "execution_count": 83,
   "metadata": {
    "collapsed": false
   },
   "outputs": [
    {
     "name": "stdout",
     "output_type": "stream",
     "text": [
      "5 >= 0\n"
     ]
    }
   ],
   "source": [
    "%%bash\n",
    "i=5\n",
    "if (($i >= 0));then echo \"$i >= 0\";fi"
   ]
  },
  {
   "cell_type": "code",
   "execution_count": 77,
   "metadata": {
    "collapsed": false
   },
   "outputs": [
    {
     "name": "stderr",
     "output_type": "stream",
     "text": [
      "bash: line 2: [: 05: unary operator expected\n"
     ]
    }
   ],
   "source": [
    "%%bash\n",
    "i=5\n",
    "if [ $i >= 0 ];then echo \"$i >= 0\";fi"
   ]
  },
  {
   "cell_type": "code",
   "execution_count": 76,
   "metadata": {
    "collapsed": false
   },
   "outputs": [
    {
     "name": "stdout",
     "output_type": "stream",
     "text": [
      "05 >= 0\n"
     ]
    }
   ],
   "source": [
    "%%bash\n",
    "i=05\n",
    "if [ $i > 0 ];then echo \"$i >= 0\";fi"
   ]
  },
  {
   "cell_type": "markdown",
   "metadata": {},
   "source": [
    "I'm not sure what's the difference between > and ge in BASH."
   ]
  },
  {
   "cell_type": "markdown",
   "metadata": {},
   "source": [
    "#### arithmatic calculations are enclosed by (()):"
   ]
  },
  {
   "cell_type": "code",
   "execution_count": 74,
   "metadata": {
    "collapsed": false
   },
   "outputs": [
    {
     "name": "stdout",
     "output_type": "stream",
     "text": [
      "49\n"
     ]
    }
   ],
   "source": [
    "%%bash\n",
    "echo $((7**2))"
   ]
  },
  {
   "cell_type": "code",
   "execution_count": 75,
   "metadata": {
    "collapsed": false
   },
   "outputs": [
    {
     "name": "stdout",
     "output_type": "stream",
     "text": [
      "1\n"
     ]
    }
   ],
   "source": [
    "%%bash\n",
    "echo $((7%3))"
   ]
  },
  {
   "cell_type": "code",
   "execution_count": 86,
   "metadata": {
    "collapsed": false
   },
   "outputs": [
    {
     "name": "stdout",
     "output_type": "stream",
     "text": [
      "Current Mount Points:\n",
      "/\n",
      "/boot\n",
      "There is 94.34% available in /home\n"
     ]
    }
   ],
   "source": [
    "%%bash\n",
    "#!/bin/bash\n",
    "# calculate the available % of disk space\n",
    "\n",
    "echo \"Current Mount Points:\"\n",
    "mount | grep -E 'ext[234]|xfs' | cut -f 3 -d ' ' \n",
    "\n",
    "#read -p \"Enter a Mount Point: \" mntpnt\n",
    "mntpnt=\"/home\"\n",
    "\n",
    "sizekb=$(df $mntpnt | tail -1 | tr -s ' ' | cut -f 2 -d ' ')\n",
    "availkb=$(df $mntpnt | tail -1 | tr -s ' ' | cut -f 4 -d ' ')\n",
    "\n",
    "availpct=$(echo \"scale=4; $availkb/$sizekb * 100\" | bc)\n",
    "\n",
    "printf \"There is %5.2f%% available in %s\\n\" $availpct $mntpnt\n",
    "\n",
    "exit 0"
   ]
  },
  {
   "cell_type": "markdown",
   "metadata": {},
   "source": [
    "Another code which do exactly the same thing:"
   ]
  },
  {
   "cell_type": "code",
   "execution_count": 87,
   "metadata": {
    "collapsed": false
   },
   "outputs": [
    {
     "name": "stdout",
     "output_type": "stream",
     "text": [
      "Current Mount Points:\n",
      "/\n",
      "/boot\n",
      "There is 94.34% available in /home\n"
     ]
    }
   ],
   "source": [
    "%%bash\n",
    "#!/bin/bash\n",
    "# calculate the available % of disk space\n",
    "\n",
    "echo \"Current Mount Points:\"\n",
    "mount | egrep 'ext[234]|xfs' | cut -f 3 -d ' ' \n",
    "\n",
    "#read -p \"Enter a Mount Point: \" mntpnt\n",
    "mntpnt=\"/home\"\n",
    "\n",
    "df_out=\"$(df $mntpnt | tail -1)\"\n",
    "\n",
    "set $df_out\n",
    "\n",
    "availpct=$(echo \"scale=4; ${4}/${2} * 100\" | bc)\n",
    "\n",
    "printf \"There is %5.2f%% available in %s\\n\" $availpct $mntpnt\n",
    "\n",
    "exit 0"
   ]
  },
  {
   "cell_type": "code",
   "execution_count": 93,
   "metadata": {
    "collapsed": false
   },
   "outputs": [
    {
     "name": "stdout",
     "output_type": "stream",
     "text": [
      " Double -4 is: -8\n",
      " Half of -4 is: -2\n"
     ]
    }
   ],
   "source": [
    "%%bash\n",
    "\n",
    "#!/bin/bash\n",
    "# shift left is double, shift right is half\n",
    "\n",
    "declare -i number\n",
    "\n",
    "#read -p \"Enter a number: \" number\n",
    "number=-4\n",
    "\n",
    "echo \" Double $number is: $((number << 1))\"\n",
    "echo \" Half of $number is: $((number >> 1))\"\n",
    "\n",
    "exit 0"
   ]
  },
  {
   "cell_type": "markdown",
   "metadata": {},
   "source": [
    "therefore, it is arithmatic shift in the above script."
   ]
  },
  {
   "cell_type": "markdown",
   "metadata": {},
   "source": [
    "#### 17112016"
   ]
  },
  {
   "cell_type": "markdown",
   "metadata": {},
   "source": [
    "local variables can be declared as readonly"
   ]
  },
  {
   "cell_type": "code",
   "execution_count": 1,
   "metadata": {
    "collapsed": false
   },
   "outputs": [
    {
     "name": "stdout",
     "output_type": "stream",
     "text": [
      "/home/sales/data/feb09.dat\n",
      "\n",
      "/home/sales/data/feb09.dat\n"
     ]
    },
    {
     "name": "stderr",
     "output_type": "stream",
     "text": [
      "bash: line 9: DATA: readonly variable\n"
     ]
    }
   ],
   "source": [
    "%%bash\n",
    "\n",
    "#!/bin/bash\n",
    "# declare constants variables\n",
    "\n",
    "readonly DATA=/home/sales/data/feb09.dat\n",
    "echo $DATA\n",
    "echo\n",
    "\n",
    "DATA=/tmp/foo\n",
    "# Error ... readonly variable\n",
    "\n",
    "echo $DATA\n",
    "\n",
    "exit 0"
   ]
  },
  {
   "cell_type": "code",
   "execution_count": null,
   "metadata": {
    "collapsed": true
   },
   "outputs": [],
   "source": []
  },
  {
   "cell_type": "code",
   "execution_count": 5,
   "metadata": {
    "collapsed": false
   },
   "outputs": [
    {
     "name": "stdout",
     "output_type": "stream",
     "text": [
      "Digit\n"
     ]
    }
   ],
   "source": [
    "%%bash\n",
    "#!/bin/bash\n",
    "# Testing ranges of characters.\n",
    "\n",
    "Keypress=5\n",
    "\n",
    "#echo; echo \"Hit a key, then hit return.\"\n",
    "#read Keypress\n",
    "\n",
    "case \"$Keypress\" in\n",
    "        [[:lower:]]     ) echo \"Lowercase letter\";;\n",
    "        [[:upper:]]     ) echo \"Uppercase letter\";;\n",
    "        [0-9]           ) echo \"Digit\";;\n",
    "        *                       ) echo \"Punctuation, whitespace, or other\";;\n",
    "esac    # Allows ranges of characters in [square brackets],\n",
    "                #+ or POSIX ranges in [[double square brackets."
   ]
  },
  {
   "cell_type": "code",
   "execution_count": 7,
   "metadata": {
    "collapsed": false
   },
   "outputs": [
    {
     "name": "stdout",
     "output_type": "stream",
     "text": [
      "\n",
      "\n",
      "        Menu of available commands: \n",
      "        =================================\n",
      "        1. full directory listing\n",
      "        2. display current directory name\n",
      "        3. display the date\n",
      "                  \n",
      "                   q. quit                 \n",
      "        =================================\n",
      "        Select a number from the list:  The name of the current directory is /home/chweng/Desktop/notebooks\n"
     ]
    }
   ],
   "source": [
    "%%bash\n",
    "#!/bin/bash\n",
    "# menu case\n",
    "\n",
    "echo -n \"\n",
    "\n",
    "        Menu of available commands: \n",
    "        =================================\n",
    "        1. full directory listing\n",
    "        2. display current directory name\n",
    "        3. display the date\n",
    "                  \n",
    "                   q. quit                 \n",
    "        =================================\n",
    "        Select a number from the list:  \"\n",
    "        #read  answer\n",
    "        answer=2\n",
    "\n",
    "case \"$answer\" in\n",
    "        q*|exit|bye ) echo \"Quitting!\" ; exit ;;\n",
    "        1) echo \"The contents of the current directory:\"\n",
    "                ls -al ;;\n",
    "        2) echo \"The name of the current directory is $(pwd)\" ;;\n",
    "        3) echo -n \"The current date is: \" \n",
    "                date +%m/%d/%Y ;;\n",
    "        *) echo \"Only choices 1, 2, 3 or q are valid\" ;;\n",
    "esac\n",
    "\n",
    "exit\n"
   ]
  },
  {
   "cell_type": "markdown",
   "metadata": {},
   "source": [
    "in the above example, \\$(pwd) can be replaced by $PWD if the env variable PWD exists"
   ]
  },
  {
   "cell_type": "code",
   "execution_count": null,
   "metadata": {
    "collapsed": true
   },
   "outputs": [],
   "source": [
    "for planet in \"Mercury 36\" \"Venus 67\" \"Earth 93\" \"Mars 142\" \"Jupiter 483\""
   ]
  },
  {
   "cell_type": "code",
   "execution_count": 12,
   "metadata": {
    "collapsed": false
   },
   "outputs": [
    {
     "name": "stdout",
     "output_type": "stream",
     "text": [
      "Mercury                36,000,000 miles from the sun\n",
      "Venus                67,000,000 miles from the sun\n",
      "Earth                93,000,000 miles from the sun\n",
      "Mars                142,000,000 miles from the sun\n",
      "Jupiter                483,000,000 miles from the sun\n"
     ]
    }
   ],
   "source": [
    "%%bash\n",
    "#!/bin/bash\n",
    "# Planets revisited.\n",
    "# Associate the name of each planet with its distance from the sun.\n",
    "\n",
    "for planet in \"Mercury 36\" \"Venus 67\" \"Earth 93\" \"Mars 142\" \"Jupiter 483\"\n",
    "do\n",
    "        set -- $planet  # Parses variable \"planet\"\n",
    "                                        #+ and sets positional parameters.\n",
    "        # The \"--\" prevents nasty surprises if $planet is null or\n",
    "        #+ begins with a dash.\n",
    "\n",
    "# May need to save original positional parameters,\n",
    "#+ since they get overwritten.\n",
    "# One way of doing this is to use an array,\n",
    "# original_params=(\"$@\")\n",
    "\n",
    "        echo \"$1                $2,000,000 miles from the sun\"\n",
    "        #-------two tabs---concatenate zeroes onto parameter $2\n",
    "done\n",
    "\n",
    "# (Thanks, S.C., for additional clarification.)\n",
    "\n",
    "exit 0"
   ]
  },
  {
   "cell_type": "markdown",
   "metadata": {},
   "source": [
    "#### another way to create a loop, as what people normally use in Java:"
   ]
  },
  {
   "cell_type": "code",
   "execution_count": 19,
   "metadata": {
    "collapsed": false
   },
   "outputs": [
    {
     "name": "stdout",
     "output_type": "stream",
     "text": [
      "the file hello.sh exists\n",
      "1, Hello World\n",
      "2, Hello World\n",
      "3, Hello World\n",
      "4, Hello World\n",
      "5, Hello World\n"
     ]
    }
   ],
   "source": [
    "%%bash\n",
    "#!/bin/bash\n",
    "\n",
    "#echo $1\n",
    "#file=$1\n",
    "\n",
    "cd /home/chweng/code/exercises/\n",
    "file=\"hello.sh\"\n",
    " \n",
    "if [ -f $file ]\n",
    "then\n",
    "  echo \"the file $file exists\"\n",
    "fi \n",
    "\n",
    "for((j=1;j<=5;j++))\n",
    "do\n",
    "  echo $j, \"Hello World\"\n",
    "done"
   ]
  },
  {
   "cell_type": "markdown",
   "metadata": {},
   "source": [
    "review: when to use the enhanced-test [[ ]]? \n",
    "\n",
    "#### when && or || operator is used"
   ]
  },
  {
   "cell_type": "code",
   "execution_count": 31,
   "metadata": {
    "collapsed": false
   },
   "outputs": [
    {
     "name": "stdout",
     "output_type": "stream",
     "text": [
      "the file hello.sh exists\n",
      "1, Hello World\n",
      "2, Hello World\n",
      "3, Hello World\n",
      "4, Hello World\n",
      "5, Hello World\n"
     ]
    }
   ],
   "source": [
    "%%bash\n",
    "#!/bin/bash\n",
    "\n",
    "#echo $1\n",
    "#file=$1\n",
    "\n",
    "cd /home/chweng/code/exercises/\n",
    "file=\"hello.sh\"\n",
    " \n",
    "if [[ -f $file && true ]]\n",
    "then\n",
    "  echo \"the file $file exists\"\n",
    "fi \n",
    "\n",
    "for((j=1;j<=5;j++))\n",
    "do\n",
    "  echo $j, \"Hello World\"\n",
    "done"
   ]
  },
  {
   "cell_type": "code",
   "execution_count": null,
   "metadata": {
    "collapsed": true
   },
   "outputs": [],
   "source": []
  },
  {
   "cell_type": "code",
   "execution_count": 23,
   "metadata": {
    "collapsed": false
   },
   "outputs": [
    {
     "name": "stdout",
     "output_type": "stream",
     "text": [
      "Welcome 1 times.\n",
      "Welcome 2 times.\n",
      "Welcome 3 times.\n",
      "Welcome 4 times.\n",
      "Welcome 5 times.\n"
     ]
    }
   ],
   "source": [
    "%%bash\n",
    "\n",
    "#!/bin/bash\n",
    "# increment number\n",
    "\n",
    "# set n to 1\n",
    "n=1\n",
    "\n",
    "# continue until $n equals 5\n",
    "while [ $n -le 5 ] \n",
    "do\n",
    "        echo \"Welcome $n times.\"\n",
    "        n=$(( n+1 )) # increments $n\n",
    "done\n"
   ]
  },
  {
   "cell_type": "code",
   "execution_count": 32,
   "metadata": {
    "collapsed": false
   },
   "outputs": [
    {
     "name": "stdout",
     "output_type": "stream",
     "text": [
      "Welcome 1 times.\n",
      "Welcome 2 times.\n",
      "Welcome 3 times.\n",
      "Welcome 4 times.\n",
      "Welcome 5 times.\n"
     ]
    }
   ],
   "source": [
    "%%bash\n",
    "\n",
    "#!/bin/bash\n",
    "# increment number\n",
    "\n",
    "# set n to 1\n",
    "n=1\n",
    "\n",
    "# continue until $n equals 5\n",
    "while (( n <= 5 )) \n",
    "do\n",
    "        echo \"Welcome $n times.\"\n",
    "        (( n++ )) # increments $n\n",
    "done"
   ]
  },
  {
   "cell_type": "code",
   "execution_count": 40,
   "metadata": {
    "collapsed": false
   },
   "outputs": [
    {
     "name": "stdout",
     "output_type": "stream",
     "text": [
      "~       4096\n",
      ".       4096\n",
      "..       4096\n",
      "BASH.html       419919\n",
      "BASH.ipynb       155054\n",
      "BDSE03-Vortrag-HighlightedCodes.ipynb       2281\n",
      "BDSE03_Vortrag.ipynb       301455\n",
      ".git       4096\n",
      "HTML_Basics.ipynb       63380\n",
      ".ipynb_checkpoints       4096\n",
      "Java_Basics.ipynb       1808894\n",
      "LICENSE       1065\n",
      "Python_basics.ipynb       57328\n",
      "README.md       108\n",
      "SQL_Basics.ipynb       24349\n",
      "Web_Crawling_Basics.ipynb       285539\n"
     ]
    }
   ],
   "source": [
    "%%bash\n",
    "#!/bin/bash\n",
    "# while can read data\n",
    "\n",
    "ls -al | while read perms links owner group size mon day time file\n",
    "do\n",
    "        [[ \"$perms\" != \"total\" && $size -gt 100 ]] && echo \"$file       $size\"\n",
    "done\n",
    "\n",
    "exit"
   ]
  },
  {
   "cell_type": "markdown",
   "metadata": {},
   "source": [
    "#### break & continue:"
   ]
  },
  {
   "cell_type": "code",
   "execution_count": 42,
   "metadata": {
    "collapsed": false
   },
   "outputs": [
    {
     "name": "stdout",
     "output_type": "stream",
     "text": [
      "\n",
      "Printing Numbers 1 through 20 (but not 3 and 11).\n",
      "1 2 4 5 6 7 8 9 10 12 13 14 15 16 17 18 19 20 \n",
      "\n",
      "Printing Numbers 1 through 20, but something happens after 2.\n",
      "1 2 "
     ]
    }
   ],
   "source": [
    "%%bash\n",
    "#!/bin/bash\n",
    "# break, continue usage\n",
    "\n",
    "LIMIT=19        # Upper limit\n",
    "\n",
    "echo\n",
    "echo \"Printing Numbers 1 through 20 (but not 3 and 11).\"\n",
    "\n",
    "a=0\n",
    "\n",
    "while (( a <= LIMIT))\n",
    "do\n",
    "        ((a++))\n",
    "   \n",
    "        if [[ \"$a\" -eq 3  ||  \"$a\" -eq 11 ]] # Excludes 3 and 11.\n",
    "        then\n",
    "                continue        # Skip rest of this particular loop iteration.\n",
    "        fi\n",
    "\n",
    "        echo -n \"$a \" # This will not execute for 3 and 11.\n",
    "done\n",
    "\n",
    "# Exercise:\n",
    "# Why does the loop print up to 20?\n",
    "\n",
    "echo; echo\n",
    "\n",
    "echo Printing Numbers 1 through 20, but something happens after 2.\n",
    "\n",
    "##################################################################\n",
    "# Same loop, but substituting 'break' for 'continue'.\n",
    "\n",
    "a=0\n",
    "\n",
    "while [ \"$a\" -le \"$LIMIT\" ]\n",
    "do\n",
    "        a=$(($a+1))\n",
    "\n",
    "        if [ \"$a\" -gt 2 ] \n",
    "        then\n",
    "                break # Skip entire rest of loop.\n",
    "        fi\n",
    "\n",
    "        echo -n \"$a \"\n",
    "done\n",
    "exit 0"
   ]
  },
  {
   "cell_type": "code",
   "execution_count": null,
   "metadata": {
    "collapsed": true
   },
   "outputs": [],
   "source": []
  },
  {
   "cell_type": "code",
   "execution_count": 43,
   "metadata": {
    "collapsed": false
   },
   "outputs": [
    {
     "name": "stdout",
     "output_type": "stream",
     "text": [
      "\n",
      "Group I: 1 2 3 4 5 6 7 8 9 10 \n",
      "Group II: 1 2 3 4 5 6 7 8 9 10 \n",
      "Group III: 1 2 3 4 5 6 \n",
      "Group IV: 1 2 3 4 5 6 7 8 9 10 \n",
      "Group V: 1 2 3 4 5 6 7 8 9 10 \n",
      "\n"
     ]
    }
   ],
   "source": [
    "%%bash\n",
    "#!/bin/bash\n",
    "# The \"continue N\" command, continuing at the Nth level loop.\n",
    "\n",
    "for outer in I II III IV V # outer loop\n",
    "do\n",
    "        echo; echo -n \"Group $outer: \"\n",
    "   \n",
    "        # --------------------------------------------------------------------\n",
    "        for inner in 1 2 3 4 5 6 7 8 9 10 # inner loop\n",
    "        do\n",
    "                if [[ \"$inner\" -eq 7 && \"$outer\" = \"III\" ]]\n",
    "                then\n",
    "                        continue 2      # Continue at loop on 2nd level, that is \"outer loop\".\n",
    "                                                # Replace above line with a simple \"continue\"\n",
    "                                                # to see normal loop behavior.\n",
    "                fi\n",
    "\n",
    "                echo -n \"$inner \" # 7 8 9 10 will not echo on \"Group III.\"\n",
    "        done\n",
    "        # --------------------------------------------------------------------\n",
    "done\n",
    "\n",
    "echo; echo\n",
    "\n",
    "exit 0\n"
   ]
  },
  {
   "cell_type": "code",
   "execution_count": 19,
   "metadata": {
    "collapsed": false
   },
   "outputs": [
    {
     "name": "stdout",
     "output_type": "stream",
     "text": [
      "\n",
      "Group I: 1 2 3 4 5 6 7 8 9 10 \n",
      "Group II: 1 2 3 4 5 6 7 8 9 10 \n",
      "Group III: 1 2 3 4 5 6 \n",
      "\n"
     ]
    }
   ],
   "source": [
    "%%bash\n",
    "#!/bin/bash\n",
    "# The \"continue N\" command, continuing at the Nth level loop.\n",
    "\n",
    "for outer in I II III IV V # outer loop\n",
    "do\n",
    "        echo; echo -n \"Group $outer: \"\n",
    "   \n",
    "        # --------------------------------------------------------------------\n",
    "        for inner in 1 2 3 4 5 6 7 8 9 10 # inner loop\n",
    "        do\n",
    "                if [[ \"$inner\" -eq 7 && \"$outer\" = \"III\" ]]\n",
    "                then\n",
    "                        break 2      # Continue at loop on 2nd level, that is \"outer loop\".\n",
    "                                                # Replace above line with a simple \"continue\"\n",
    "                                                # to see normal loop behavior.\n",
    "                fi\n",
    "\n",
    "                echo -n \"$inner \" # 7 8 9 10 will not echo on \"Group III.\"\n",
    "        done\n",
    "        # --------------------------------------------------------------------\n",
    "done\n",
    "\n",
    "echo; echo\n",
    "\n",
    "exit 0\n"
   ]
  },
  {
   "cell_type": "markdown",
   "metadata": {},
   "source": [
    "#### function"
   ]
  },
  {
   "cell_type": "code",
   "execution_count": 47,
   "metadata": {
    "collapsed": false
   },
   "outputs": [
    {
     "name": "stdout",
     "output_type": "stream",
     "text": [
      "This is a funky function.\n",
      "Now exiting funky function.\n",
      "\n",
      "And now the fun really begins.\n",
      "\n",
      "----------FUNCTIONS---------->\n",
      "<------------ARE-------------\n",
      "<------------FUN------------>\n",
      "\n",
      "----------FUNCTIONS---------->\n",
      "<------------ARE-------------\n",
      "<------------FUN------------>\n",
      "\n",
      "----------FUNCTIONS---------->\n",
      "<------------ARE-------------\n",
      "<------------FUN------------>\n",
      "\n",
      "----------FUNCTIONS---------->\n",
      "<------------ARE-------------\n",
      "<------------FUN------------>\n",
      "\n",
      "----------FUNCTIONS---------->\n",
      "<------------ARE-------------\n",
      "<------------FUN------------>\n",
      "\n"
     ]
    }
   ],
   "source": [
    "%%bash\n",
    "#!/bin/bash\n",
    "# Exercising functions (simple).\n",
    "\n",
    "JUST_A_SECOND=1\n",
    "\n",
    "funky ()\n",
    "{ # This is about as simple as functions get.\n",
    "        echo \"This is a funky function.\"\n",
    "        echo \"Now exiting funky function.\"\n",
    "} # Function declaration must precede call.\n",
    "\n",
    "\n",
    "fun ()\n",
    "{ # A somewhat more complex function.\n",
    "        i=0\n",
    "        REPEATS=5\n",
    "\n",
    "        echo\n",
    "        echo \"And now the fun really begins.\"\n",
    "        echo\n",
    "\n",
    "        sleep $JUST_A_SECOND    # Hey, wait a second!\n",
    "        while [ $i -lt $REPEATS ]\n",
    "        do\n",
    "                echo \"----------FUNCTIONS---------->\"\n",
    "                echo \"<------------ARE-------------\"\n",
    "                echo \"<------------FUN------------>\"\n",
    "                echo\n",
    "                ((i++))\n",
    "        done\n",
    "}\n",
    "\n",
    "# Now, call the functions.\n",
    "\n",
    "funky\n",
    "fun\n",
    "\n",
    "exit $?\n"
   ]
  },
  {
   "cell_type": "markdown",
   "metadata": {},
   "source": [
    "```bash\n",
    "chweng@chweng-VirtualBox:~$ env |grep \"PWD\"\n",
    "PWD=/home/chweng\n",
    "chweng@chweng-VirtualBox:~$ \n",
    "chweng@chweng-VirtualBox:~$ cd Desktop/\n",
    "chweng@chweng-VirtualBox:~/Desktop$ env |grep \"PWD\"\n",
    "PWD=/home/chweng/Desktop\n",
    "OLDPWD=/home/chweng\n",
    "```"
   ]
  },
  {
   "cell_type": "code",
   "execution_count": null,
   "metadata": {
    "collapsed": true
   },
   "outputs": [],
   "source": []
  },
  {
   "cell_type": "code",
   "execution_count": 48,
   "metadata": {
    "collapsed": false
   },
   "outputs": [
    {
     "name": "stdout",
     "output_type": "stream",
     "text": [
      "\n",
      "\"loc_var\" in function = 23\n",
      "\"global_var\" in function = 999\n",
      "\n",
      "\"loc_var\" outside function = \n",
      "\"global_var\" outside function = 999\n",
      "\n"
     ]
    }
   ],
   "source": [
    "%%bash\n",
    "#!/bin/bash\n",
    "# Global and local variables inside a function.\n",
    "\n",
    "func ()\n",
    "{\n",
    "        local loc_var=23                # Declared as local variable.\n",
    "        echo                                    # Uses the 'local' builtin.\n",
    "        echo \"\\\"loc_var\\\" in function = $loc_var\"\n",
    "        global_var=999                  # Not declared as local.\n",
    "                                                        # Therefore, defaults to global. \n",
    "        echo \"\\\"global_var\\\" in function = $global_var\"\n",
    "}  \n",
    "\n",
    "func\n",
    "\n",
    "# Now, to see if local variable \"loc_var\" exists outside the function.\n",
    "\n",
    "echo\n",
    "echo \"\\\"loc_var\\\" outside function = $loc_var\"\n",
    "                                      # $loc_var outside function = \n",
    "                                      # No, $loc_var not visible globally.\n",
    "echo \"\\\"global_var\\\" outside function = $global_var\"\n",
    "                                      # $global_var outside function = 999\n",
    "                                      # $global_var is visible globally.\n",
    "echo                                  \n",
    "\n",
    "exit 0\n",
    "#  In contrast to C, a Bash variable declared inside a function\n",
    "#+ is local ONLY if declared as such.\n"
   ]
  },
  {
   "cell_type": "code",
   "execution_count": 51,
   "metadata": {
    "collapsed": false
   },
   "outputs": [
    {
     "name": "stdout",
     "output_type": "stream",
     "text": [
      "5 parameters passed to bash\n",
      "i my me mine myself\n",
      "my me mine myself\n",
      "me mine myself\n",
      "mine myself\n",
      "myself\n",
      "5 parameters in the parent \n",
      "Parameters: i my me mine myself\n"
     ]
    }
   ],
   "source": [
    "%%bash\n",
    "#!/bin/bash\n",
    "# passing data to function\n",
    "\n",
    "# DECLARE FUNCTIONS\n",
    "shifter()       # function to demonstrate parameter \n",
    "                        # list management in a function\n",
    "{\n",
    "        echo \"$# parameters passed to $0\"\n",
    "        while (( $# > 0 ))\n",
    "        do\n",
    "                echo \"$*\"\n",
    "                shift \n",
    "        done\n",
    "}\n",
    "\n",
    "# MAIN \n",
    "#read -p \"Please type a list of five words (then press Return): \" varlist\n",
    "varlist=\"i my me mine myself\"\n",
    "\n",
    "set $varlist    # this creates positional parameters in the parent\n",
    "\n",
    "shifter $*              # call the function and pass argument list\n",
    "\n",
    "echo \"$# parameters in the parent \"\n",
    "echo \"Parameters: $*\"\n",
    "\n",
    "exit"
   ]
  },
  {
   "cell_type": "code",
   "execution_count": null,
   "metadata": {
    "collapsed": true
   },
   "outputs": [],
   "source": []
  },
  {
   "cell_type": "code",
   "execution_count": 53,
   "metadata": {
    "collapsed": false
   },
   "outputs": [
    {
     "name": "stdout",
     "output_type": "stream",
     "text": [
      "\n",
      "Nothing passed.\n",
      "-Parameter #1 is zero length.-\n",
      "variable = default\n",
      "\n",
      "Zero-length parameter passed.\n",
      "-Parameter #1 is zero length.-\n",
      "variable = \n",
      "\n",
      "Null parameter passed.\n",
      "-Parameter #1 is zero length.-\n",
      "variable = \n",
      "\n",
      "One parameter passed.\n",
      "-Parameter #1 is \"first\".-\n",
      "variable = first\n",
      "\n",
      "Two parameters passed.\n",
      "-Parameter #1 is \"first\".-\n",
      "variable = first\n",
      "-Parameter #2 is \"second\".-\n",
      "\n",
      "\"\" \"second\" passed.\n",
      "-Parameter #1 is zero length.-\n",
      "variable = \n",
      "-Parameter #2 is \"second\".-\n",
      "\n"
     ]
    }
   ],
   "source": [
    "%%bash\n",
    "#!/bin/bash\n",
    "# Functions and parameters\n",
    "\n",
    "DEFAULT=default # Default param value.\n",
    "\n",
    "func2 () {\n",
    "        if [ -z \"$1\" ] # Is parameter #1 zero length?\n",
    "        then\n",
    "                echo \"-Parameter #1 is zero length.-\" # Or no parameter passed.\n",
    "        else\n",
    "                echo \"-Parameter #1 is \\\"$1\\\".-\"\n",
    "        fi\n",
    "\n",
    "        variable=${1-$DEFAULT} # What does\n",
    "\n",
    "        echo \"variable = $variable\"     #+ parameter substitution show?\n",
    "                                                                # ---------------------------\n",
    "                                                                # It distinguishes between\n",
    "                                                                #+ no param and a null param.\n",
    "        if [ \"$2\" ]\n",
    "        then\n",
    "                echo \"-Parameter #2 is \\\"$2\\\".-\"\n",
    "        fi\n",
    "\n",
    "        return 0\n",
    "}\n",
    "\n",
    "echo\n",
    "\n",
    "echo \"Nothing passed.\"\n",
    "func2                                           # Called with no params\n",
    "echo\n",
    "\n",
    "echo \"Zero-length parameter passed.\"\n",
    "func2 \"\"                                        # Called with zero-length param\n",
    "echo\n",
    "\n",
    "echo \"Null parameter passed.\"\n",
    "func2 \"$uninitialized_param\" # Called with uninitialized param\n",
    "echo\n",
    "\n",
    "echo \"One parameter passed.\"\n",
    "func2 first                     # Called with one param\n",
    "echo\n",
    "\n",
    "echo \"Two parameters passed.\"\n",
    "func2 first second      # Called with two params\n",
    "echo\n",
    "\n",
    "echo \"\\\"\\\" \\\"second\\\" passed.\"\n",
    "func2 \"\" second         # Called with zero-length first parameter\n",
    "echo                            # and ASCII string as a second one.\n",
    "\n",
    "exit 0"
   ]
  },
  {
   "cell_type": "code",
   "execution_count": 4,
   "metadata": {
    "collapsed": false
   },
   "outputs": [
    {
     "name": "stdout",
     "output_type": "stream",
     "text": [
      "\u001b[H\u001b[2J\n",
      "\n",
      "100 + 100 = 200\n"
     ]
    }
   ],
   "source": [
    "%%bash\n",
    "\n",
    "#!/bin/bash\n",
    "# using stdout passing data\n",
    "\n",
    "# Declare function\n",
    "addup() # function to add the number to itself\n",
    "{\n",
    "        echo \"$((numvar + numvar))\"\n",
    "}\n",
    "\n",
    "# MAIN \n",
    "while : # start infinite loop\n",
    "do\n",
    "        clear # clear the screen\n",
    "        declare -i numvar=0 # declare integer variable\n",
    "   \n",
    "        # read user input into variable(s)\n",
    "        echo; echo\n",
    "        #read -p \"Please enter a number (0 = quit the script): \" numvar otherwords\n",
    "        numvar=100\n",
    "        \n",
    "        if (( numvar == 0 )) # test the user input\n",
    "        then\n",
    "                exit $numvar\n",
    "        else\n",
    "                result=$(addup) # call the function addup \n",
    "                                                # and get data from function\n",
    "                echo \"$numvar + $numvar = $result\"\n",
    "                #read -p \"Press any key to continue...\"\n",
    "        fi\n",
    "        break  # this is added by myself because I'd like to print the output in the notebook\n",
    "done\n"
   ]
  },
  {
   "cell_type": "markdown",
   "metadata": {},
   "source": [
    "#### list open files:"
   ]
  },
  {
   "cell_type": "code",
   "execution_count": 8,
   "metadata": {
    "collapsed": false
   },
   "outputs": [
    {
     "name": "stdout",
     "output_type": "stream",
     "text": [
      "python    16788 chweng   44u   REG  252,0   173056 65012285 /home/chweng/.ipython/profile_default/history.sqlite\r\n",
      "python    16788 chweng   45u   REG  252,0   173056 65012285 /home/chweng/.ipython/profile_default/history.sqlite\r\n"
     ]
    }
   ],
   "source": [
    "!lsof / |grep \"/home/chweng/.ipython\""
   ]
  },
  {
   "cell_type": "markdown",
   "metadata": {},
   "source": [
    "queried"
   ]
  },
  {
   "cell_type": "code",
   "execution_count": 11,
   "metadata": {
    "collapsed": false
   },
   "outputs": [
    {
     "name": "stdout",
     "output_type": "stream",
     "text": [
      "/etc/python2.7\n",
      "/etc/python3.5\n",
      "find: ‘/etc/polkit-1/localauthority’: Permission denied\n",
      "find: ‘/etc/lvm/archive’: Permission denied\n",
      "find: ‘/etc/lvm/backup’: Permission denied\n",
      "/etc/python3\n",
      "find: ‘/etc/cups/ssl’: Permission denied\n",
      "/etc/apparmor.d/abstractions/python\n",
      "find: ‘/etc/ssl/private’: Permission denied\n",
      "/etc/python\n",
      "% time     seconds  usecs/call     calls    errors syscall\n",
      "------ ----------- ----------- --------- --------- ----------------\n",
      "100.00    0.000005           0       658           getdents\n",
      "  0.00    0.000000           0        10           read\n",
      "  0.00    0.000000           0        25           write\n",
      "  0.00    0.000000           0        21         9 open\n",
      "  0.00    0.000000           0      1277           close\n",
      "  0.00    0.000000           0       341           fstat\n",
      "  0.00    0.000000           0        23           mmap\n",
      "  0.00    0.000000           0        14           mprotect\n",
      "  0.00    0.000000           0         1           munmap\n",
      "  0.00    0.000000           0         7           brk\n",
      "  0.00    0.000000           0         2           rt_sigaction\n",
      "  0.00    0.000000           0         1           rt_sigprocmask\n",
      "  0.00    0.000000           0         2           ioctl\n",
      "  0.00    0.000000           0         8         8 access\n",
      "  0.00    0.000000           0         1           execve\n",
      "  0.00    0.000000           0         1           uname\n",
      "  0.00    0.000000           0      2910           fcntl\n",
      "  0.00    0.000000           0         1           fchdir\n",
      "  0.00    0.000000           0         1           getrlimit\n",
      "  0.00    0.000000           0         2         2 statfs\n",
      "  0.00    0.000000           0         1           arch_prctl\n",
      "  0.00    0.000000           0         1           futex\n",
      "  0.00    0.000000           0         1           set_tid_address\n",
      "  0.00    0.000000           0       334         5 openat\n",
      "  0.00    0.000000           0       663           newfstatat\n",
      "  0.00    0.000000           0         1           set_robust_list\n",
      "------ ----------- ----------- --------- --------- ----------------\n",
      "100.00    0.000005                  6307        24 total\n"
     ]
    }
   ],
   "source": [
    "!strace -c find /etc -name \"python*\""
   ]
  },
  {
   "cell_type": "markdown",
   "metadata": {},
   "source": [
    "#### library trace: trace library calls demanded by the specified process."
   ]
  },
  {
   "cell_type": "code",
   "execution_count": 17,
   "metadata": {
    "collapsed": false
   },
   "outputs": [
    {
     "name": "stdout",
     "output_type": "stream",
     "text": [
      "/etc/python2.7\n",
      "/etc/python3.5\n",
      "find: ‘/etc/polkit-1/localauthority’: Permission denied\n",
      "find: ‘/etc/lvm/archive’: Permission denied\n",
      "find: ‘/etc/lvm/backup’: Permission denied\n",
      "/etc/python3\n",
      "find: ‘/etc/cups/ssl’: Permission denied\n",
      "/etc/apparmor.d/abstractions/python\n",
      "find: ‘/etc/ssl/private’: Permission denied\n",
      "/etc/python\n",
      "% time     seconds  usecs/call     calls      function\n",
      "------ ----------- ----------- --------- --------------------\n",
      " 64.61    0.309016          45      6749 free\n",
      " 35.38    0.169201          45      3714 malloc\n",
      "  0.01    0.000032          32         1 realloc\n",
      "------ ----------- ----------- --------- --------------------\n",
      "100.00    0.478249                 10464 total\n"
     ]
    }
   ],
   "source": [
    "!ltrace -c find /etc -name \"python*\""
   ]
  },
  {
   "cell_type": "code",
   "execution_count": null,
   "metadata": {
    "collapsed": true
   },
   "outputs": [],
   "source": []
  },
  {
   "cell_type": "code",
   "execution_count": null,
   "metadata": {
    "collapsed": true
   },
   "outputs": [],
   "source": []
  },
  {
   "cell_type": "code",
   "execution_count": 31,
   "metadata": {
    "collapsed": false
   },
   "outputs": [
    {
     "name": "stdout",
     "output_type": "stream",
     "text": [
      "field one:\t127.0.0.1\n",
      "field one:\t127.0.1.1\n",
      "field one:\t\n",
      "field one:\t\n",
      "field one:\t\n",
      "field one:\t192.168.33.231\n",
      "field one:\t192.168.33.221\n",
      "field one:\t\n",
      "field one:\t#\n",
      "field one:\t::1\n",
      "field one:\tfe00::0\n",
      "field one:\tff00::0\n",
      "field one:\tff02::1\n",
      "field one:\tff02::2\n"
     ]
    }
   ],
   "source": [
    "%%bash\n",
    "\n",
    "#Example 1: Printing the First Field of the /etc/hosts File to stdout\n",
    "\n",
    "#cat /etc/hosts | awk '{print $1}'\n",
    "\n",
    "#Pipes data to awk\n",
    "\n",
    "awk '{print \"field one:\\t\" $1}' /etc/hosts\n",
    "#Uses /etc/hosts as an input file\n",
    "\n",
    "#'{print}'                               #Prints the current record\n",
    "#'{print $0}'                            #Prints the current record (more specific)\n",
    "#'{print $1}'                            #Prints the first field in the current record\n",
    "#'{print \"field one:\" $1}'               #Prints some text before field 1\n",
    "#'{print \"field one:\\t\" $1}'             #Prints some text, a tab, then field 1\n",
    "#'{print \"field three:\" $3; print $1}'   #Prints fields on two lines in\n",
    " "
   ]
  },
  {
   "cell_type": "code",
   "execution_count": 33,
   "metadata": {
    "collapsed": false
   },
   "outputs": [
    {
     "name": "stdout",
     "output_type": "stream",
     "text": [
      "awk: cannot open /home/chweng/code/module08 (No such file or directory)\r\n"
     ]
    }
   ],
   "source": [
    "!awk ' { print \"\" ; print $0 }' ~/code/module08"
   ]
  },
  {
   "cell_type": "code",
   "execution_count": null,
   "metadata": {
    "collapsed": true
   },
   "outputs": [],
   "source": [
    "                                                                                #which semicolons separate actions\n",
    "\n",
    "Example 2: Combine with other command\n",
    "\n",
    "ls -l | awk '{ print $1 , $9 }'\n",
    "\n",
    "df | awk '{print $1,\"-->\",$6}'\n",
    "\n",
    "ps | awk '{print \"PID: \" $1, $4}'\n",
    "\n",
    "\n",
    "Example 3:\n",
    "\n",
    "awk ' { print \"\" ; print $0 }' lastfile\n",
    "#two lines\n",
    "\n",
    "awk ' { print $1 $3 }' lastfile\n",
    "#continuous output\n",
    "\n",
    "awk ' { print $1 , $3 }' lastfile\n",
    "#separate by one space\n",
    "\n",
    "awk ' { print $1 \"\\t\\t\" $3 }' lastfile\n",
    "#separate by two [TAB]s\n",
    "\n",
    "awk '{print $1,\"logged in:\",$5,$4,\"on\",$2,\"(user\",$1\")\"}' lastfile\n",
    "#reorder fields\n",
    "\n",
    "~                 "
   ]
  },
  {
   "cell_type": "code",
   "execution_count": 36,
   "metadata": {
    "collapsed": false
   },
   "outputs": [
    {
     "name": "stdout",
     "output_type": "stream",
     "text": [
      "total 176\r\n",
      "drwxr-xr-x 23 chweng chweng  4096 十一 17 11:44 .\r\n",
      "drwxr-xr-x  3 root   root    4096 十一 10 10:46 ..\r\n",
      "drwxrwxr-x  3 chweng chweng  4096 十一 16 19:56 a\r\n",
      "drwx------  3 chweng chweng  4096 十一 11 10:01 .adobe\r\n",
      "-rw-------  1 chweng chweng 11416 十一 17 14:04 .bash_history\r\n",
      "-rw-r--r--  1 chweng chweng   220 十一 10 10:46 .bash_logout\r\n",
      "-rw-r--r--  1 chweng chweng  3773 十一 11 13:31 .bashrc\r\n",
      "drwx------ 16 chweng chweng  4096 十一 11 14:50 .cache\r\n",
      "drwxrwxr-x  3 chweng chweng  4096 十一 16 13:54 code\r\n",
      "drwx------  3 chweng chweng  4096 十一 10 17:25 .compiz\r\n",
      "drwx------ 19 chweng chweng  4096 十一 17 09:08 .config\r\n",
      "drwxr-xr-x  4 chweng chweng  4096 十一 17 09:08 Desktop\r\n",
      "-rw-r--r--  1 chweng chweng    25 十一 10 11:12 .dmrc\r\n",
      "drwxr-xr-x  2 chweng chweng  4096 十一 11 14:38 Downloads\r\n",
      "drwx------  2 chweng chweng  4096 十一 17 09:09 .gconf\r\n",
      "-rw-rw-r--  1 chweng chweng    54 十一 16 15:52 .gitconfig\r\n",
      "drwx------  3 chweng chweng  4096 十一 11 09:47 .gnome\r\n",
      "drwx------  3 chweng chweng  4096 十一 17 09:08 .gnupg\r\n",
      "-rw-------  1 chweng chweng  2534 十一 17 09:08 .ICEauthority\r\n",
      "drwxr-xr-x  5 chweng chweng  4096 十一 10 13:29 .ipython\r\n",
      "drwxr-xr-x  2 chweng chweng  4096 十一 10 14:01 .jupyter\r\n",
      "-rw-------  1 chweng chweng    84 十一 17 11:44 .lesshst\r\n",
      "drwx------  5 chweng chweng  4096 十一 10 11:39 .local\r\n",
      "drwx------  3 chweng chweng  4096 十一 11 10:01 .macromedia\r\n",
      "drwx------  4 chweng chweng  4096 十一 10 11:39 .mozilla\r\n",
      "drwxrwxr-x  2 chweng chweng  4096 十一 16 15:52 .nano\r\n",
      "drwx------  3 chweng chweng  4096 十一 11 09:46 .pki\r\n",
      "-rw-r--r--  1 chweng chweng   655 十一 10 10:46 .profile\r\n",
      "drwxr-xr-x  2 chweng chweng  4096 十一 10 11:12 Public\r\n",
      "drwx------  2 chweng chweng  4096 十一 11 11:11 .ssh\r\n",
      "-rw-r--r--  1 chweng chweng     0 十一 10 11:28 .sudo_as_admin_successful\r\n",
      "-rw-r-----  1 chweng chweng     5 十一 17 09:08 .vboxclient-clipboard.pid\r\n",
      "-rw-r-----  1 chweng chweng     5 十一 17 09:08 .vboxclient-display.pid\r\n",
      "-rw-r-----  1 chweng chweng     5 十一 17 09:08 .vboxclient-draganddrop.pid\r\n",
      "-rw-r-----  1 chweng chweng     5 十一 17 09:08 .vboxclient-seamless.pid\r\n",
      "drwxr-xr-x  2 chweng chweng  4096 十一 11 13:32 .vim\r\n",
      "-rw-------  1 chweng chweng  5276 十一 17 09:58 .viminfo\r\n",
      "-rw-rw-r--  1 chweng chweng    12 十一 11 13:32 .vimrc\r\n",
      "-rw-------  1 chweng chweng    62 十一 17 09:08 .Xauthority\r\n",
      "-rw-rw-r--  1 chweng chweng   131 十一 10 11:53 .xinputrc\r\n",
      "-rw-------  1 chweng chweng   589 十一 17 09:09 .xsession-errors\r\n",
      "-rw-------  1 chweng chweng  1801 十一 16 21:25 .xsession-errors.old\r\n"
     ]
    }
   ],
   "source": [
    "!ls -al /home/chweng"
   ]
  },
  {
   "cell_type": "code",
   "execution_count": 35,
   "metadata": {
    "collapsed": false
   },
   "outputs": [
    {
     "name": "stdout",
     "output_type": "stream",
     "text": [
      "dir:  .\r\n",
      "dir:  ..\r\n",
      "dir:  a\r\n",
      "dir:  .adobe\r\n",
      "dir:  .cache\r\n",
      "dir:  code\r\n",
      "dir:  .compiz\r\n",
      "dir:  .config\r\n",
      "dir:  Desktop\r\n",
      "dir:  Downloads\r\n",
      "dir:  .gconf\r\n",
      "dir:  .gnome\r\n",
      "dir:  .gnupg\r\n",
      "dir:  .ipython\r\n",
      "dir:  .jupyter\r\n",
      "dir:  .local\r\n",
      "dir:  .macromedia\r\n",
      "dir:  .mozilla\r\n",
      "dir:  .nano\r\n",
      "dir:  .pki\r\n",
      "dir:  Public\r\n",
      "dir:  .ssh\r\n",
      "dir:  .vim\r\n"
     ]
    }
   ],
   "source": [
    "!ls -al /home/chweng/ | awk '/^d/ {print \"dir: \",$9}'"
   ]
  },
  {
   "cell_type": "code",
   "execution_count": 38,
   "metadata": {
    "collapsed": false
   },
   "outputs": [
    {
     "name": "stdout",
     "output_type": "stream",
     "text": [
      "/dev/mapper/ubuntu--vg-root on / type ext4 (rw,relatime,errors=remount-ro,data=ordered)\r\n",
      "/dev/sda1 on /boot type ext2 (rw,relatime,block_validity,barrier,user_xattr,acl)\r\n"
     ]
    }
   ],
   "source": [
    "!mount |grep \"ext\""
   ]
  },
  {
   "cell_type": "code",
   "execution_count": 39,
   "metadata": {
    "collapsed": false
   },
   "outputs": [
    {
     "name": "stdout",
     "output_type": "stream",
     "text": [
      "device:  /dev/mapper/ubuntu--vg-root \tmount point: /\r\n",
      "device:  /dev/sda1 \tmount point: /boot\r\n"
     ]
    }
   ],
   "source": [
    "!mount | awk '/ ext[234] / {print \"device: \",$1,\"\\tmount point: \" $3}'"
   ]
  },
  {
   "cell_type": "code",
   "execution_count": 42,
   "metadata": {
    "collapsed": false
   },
   "outputs": [
    {
     "name": "stdout",
     "output_type": "stream",
     "text": [
      "device: %s \tmount point: %5s /dev/mapper/ubuntu--vg-root /\r\n",
      "device: %s \tmount point: %5s /dev/sda1 /boot\r\n"
     ]
    }
   ],
   "source": [
    "!mount | awk '/ ext[234] / {print \"device: %5s \\tmount point: %5s\",$1, $3}'"
   ]
  },
  {
   "cell_type": "code",
   "execution_count": 45,
   "metadata": {
    "collapsed": false
   },
   "outputs": [
    {
     "name": "stdout",
     "output_type": "stream",
     "text": [
      "1: lo: <LOOPBACK,UP,LOWER_UP> mtu 65536 qdisc noqueue state UNKNOWN group default qlen 1\r\n",
      "    link/loopback 00:00:00:00:00:00 brd 00:00:00:00:00:00\r\n",
      "    inet 127.0.0.1/8 scope host lo\r\n",
      "       valid_lft forever preferred_lft forever\r\n",
      "    inet6 ::1/128 scope host \r\n",
      "       valid_lft forever preferred_lft forever\r\n",
      "2: enp0s3: <BROADCAST,MULTICAST,UP,LOWER_UP> mtu 1500 qdisc pfifo_fast state UP group default qlen 1000\r\n",
      "    link/ether 08:00:27:4b:88:78 brd ff:ff:ff:ff:ff:ff\r\n",
      "    inet 10.0.2.15/24 brd 10.0.2.255 scope global dynamic enp0s3\r\n",
      "       valid_lft 83820sec preferred_lft 83820sec\r\n",
      "    inet6 fe80::b525:49b:b295:5cd9/64 scope link \r\n",
      "       valid_lft forever preferred_lft forever\r\n"
     ]
    }
   ],
   "source": [
    "!ip addr show"
   ]
  },
  {
   "cell_type": "markdown",
   "metadata": {},
   "source": [
    "select ipv4's ip:"
   ]
  },
  {
   "cell_type": "code",
   "execution_count": 46,
   "metadata": {
    "collapsed": false
   },
   "outputs": [
    {
     "name": "stdout",
     "output_type": "stream",
     "text": [
      "127.0.0.1/8\r\n",
      "10.0.2.15/24\r\n"
     ]
    }
   ],
   "source": [
    "!ip addr show | awk '/inet / {print $2}'"
   ]
  },
  {
   "cell_type": "code",
   "execution_count": 52,
   "metadata": {
    "collapsed": false
   },
   "outputs": [
    {
     "name": "stdout",
     "output_type": "stream",
     "text": [
      "id: chweng  \thome: /home/chweng\r\n"
     ]
    }
   ],
   "source": [
    "!cat /etc/passwd | awk -F : '/^chweng/ {print \"id:\",$1,\" \\thome:\",$6}'"
   ]
  },
  {
   "cell_type": "markdown",
   "metadata": {},
   "source": [
    "```bash\n",
    "chweng@VirtualBox:~$ sudo fdisk -l | awk '/^Disk \\/dev\\/[hs]d/ {print $2,$3,$4}'\n",
    "/dev/sda: 1 TiB,\n",
    "```"
   ]
  },
  {
   "cell_type": "code",
   "execution_count": 56,
   "metadata": {
    "collapsed": false
   },
   "outputs": [
    {
     "name": "stdout",
     "output_type": "stream",
     "text": [
      "sudo users are: chweng\r\n"
     ]
    }
   ],
   "source": [
    "!cat /etc/group | awk -F : '/^sudo/ {print $1 ,\"users are:\", $4}'"
   ]
  },
  {
   "cell_type": "code",
   "execution_count": 58,
   "metadata": {
    "collapsed": false
   },
   "outputs": [],
   "source": [
    "import os\n",
    "os.chdir(\"/home/chweng/code\")"
   ]
  },
  {
   "cell_type": "markdown",
   "metadata": {},
   "source": [
    "```bash\n",
    "chweng@ubuntu221:~/code$ javac -d . TestDiceThrowEx1.java \n",
    "chweng@ubuntu221:~/code$ ls\n",
    "RoadLog                exercises  module03  module05  module07  tw\n",
    "TestDiceThrowEx1.java  module02   module04  module06  module08\n",
    "chweng@ubuntu221:~/code$ java tw.loop.TestDiceThrowEx1 \n",
    "diceNumber=5\n",
    "Try Again.\n",
    "diceNumber=5\n",
    "Try Again.\n",
    "diceNumber=6\n",
    "Try Again.\n",
    "diceNumber=6\n",
    "Try Again.\n",
    "diceNumber=4\n",
    "Try Again.\n",
    "diceNumber=5\n",
    "Try Again.\n",
    "diceNumber=6\n",
    "Try Again.\n",
    "diceNumber=2\n",
    "You Win.\n",
    "```"
   ]
  },
  {
   "cell_type": "code",
   "execution_count": 69,
   "metadata": {
    "collapsed": false
   },
   "outputs": [
    {
     "name": "stdout",
     "output_type": "stream",
     "text": [
      "file: hello.sh\t links:  1\n",
      "file: testPS.sh\t links:  1\n"
     ]
    }
   ],
   "source": [
    "%%bash\n",
    "ls -l /home/chweng/code/exercises/ |awk '/^-/ && $2 = 1 {print \"file:\",$9 \"\\t links: \",$2}'"
   ]
  },
  {
   "cell_type": "markdown",
   "metadata": {},
   "source": [
    "```bash\n",
    "strace -c -f java tw.loop.TestDiceThrowEx1\n",
    "```"
   ]
  },
  {
   "cell_type": "markdown",
   "metadata": {},
   "source": [
    "#### sort:"
   ]
  },
  {
   "cell_type": "code",
   "execution_count": 70,
   "metadata": {
    "collapsed": false
   },
   "outputs": [
    {
     "name": "stdout",
     "output_type": "stream",
     "text": [
      "root         1     0  0 09:07 ?        00:00:01 /sbin/init splash\r\n",
      "root         2     0  0 09:07 ?        00:00:00 [kthreadd]\r\n",
      "root         3     2  0 09:07 ?        00:00:33 [ksoftirqd/0]\r\n",
      "root         5     2  0 09:07 ?        00:00:00 [kworker/0:0H]\r\n",
      "root         7     2  0 09:07 ?        00:00:25 [rcu_sched]\r\n",
      "root         8     2  0 09:07 ?        00:00:00 [rcu_bh]\r\n",
      "root         9     2  0 09:07 ?        00:00:18 [migration/0]\r\n",
      "root        10     2  0 09:07 ?        00:00:00 [watchdog/0]\r\n"
     ]
    }
   ],
   "source": [
    "!ps -ef | awk '$2 == 1 , $2 == 10 {print}'"
   ]
  },
  {
   "cell_type": "markdown",
   "metadata": {},
   "source": [
    "```bash\n",
    "#input data from nbafile file\n",
    "\n",
    "1. awk '$3 == 82 {print $1,\" \\t\",$5}' nbafile\n",
    "\n",
    "2. awk '$3 < 78' nbafile\n",
    "\n",
    "3. awk '$2 ~ /c.*l/' nbafile\n",
    "\n",
    "4. awk '$1 ~ /^s/ && $4 > 80 {print $1 \"\\t\\t\" $4}' nbafile\n",
    "```"
   ]
  },
  {
   "cell_type": "code",
   "execution_count": 73,
   "metadata": {
    "collapsed": false
   },
   "outputs": [
    {
     "name": "stdout",
     "output_type": "stream",
     "text": [
      "length of the string :  This is a book  is :  14\n"
     ]
    }
   ],
   "source": [
    "%%bash\n",
    "\n",
    "echo \"This is a book\" | awk '\n",
    "   { print \"length of the string : \",$0,\" is : \",length($0) }'"
   ]
  },
  {
   "cell_type": "code",
   "execution_count": null,
   "metadata": {
    "collapsed": true
   },
   "outputs": [],
   "source": []
  }
 ],
 "metadata": {
  "kernelspec": {
   "display_name": "Python 2",
   "language": "python",
   "name": "python2"
  },
  "language_info": {
   "codemirror_mode": {
    "name": "ipython",
    "version": 2
   },
   "file_extension": ".py",
   "mimetype": "text/x-python",
   "name": "python",
   "nbconvert_exporter": "python",
   "pygments_lexer": "ipython2",
   "version": "2.7.12"
  }
 },
 "nbformat": 4,
 "nbformat_minor": 1
}
