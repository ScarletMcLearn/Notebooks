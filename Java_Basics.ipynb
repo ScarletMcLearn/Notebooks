{
 "cells": [
  {
   "cell_type": "code",
   "execution_count": 8,
   "metadata": {
    "collapsed": true
   },
   "outputs": [],
   "source": [
    "import numpy as np\n",
    "import os\n",
    "import matplotlib.pyplot as plt\n",
    "%matplotlib inline  \n",
    "from IPython.display import Image"
   ]
  },
  {
   "cell_type": "markdown",
   "metadata": {},
   "source": [
    "Let's see if the Python classes are loaded properly."
   ]
  },
  {
   "cell_type": "code",
   "execution_count": 6,
   "metadata": {
    "collapsed": false
   },
   "outputs": [
    {
     "data": {
      "text/plain": [
       "'/Users/chweng/Desktop/notebooks'"
      ]
     },
     "execution_count": 6,
     "metadata": {},
     "output_type": "execute_result"
    },
    {
     "data": {
      "image/png": "[encoded data removed]",
      "text/plain": [
       "<matplotlib.figure.Figure at 0x1071c8410>"
      ]
     },
     "metadata": {},
     "output_type": "display_data"
    }
   ],
   "source": [
    "x=np.linspace(0.,2.*np.pi,100) # test numpy\n",
    "f=np.sin(x)                    # test numpy\n",
    "plt.plot(x,f)                  # test matplotlib\n",
    "plt.xlim(0.,2.*np.pi)\n",
    "os.getcwd()                    # test os"
   ]
  },
  {
   "cell_type": "markdown",
   "metadata": {},
   "source": [
    "Now, things are fine. Let's continue. My goal in this notebook is to learn some basics of Java."
   ]
  },
  {
   "cell_type": "markdown",
   "metadata": {},
   "source": [
    "------"
   ]
  },
  {
   "cell_type": "markdown",
   "metadata": {},
   "source": [
    "# Day1; 21.09.2016; Taipeh"
   ]
  },
  {
   "cell_type": "markdown",
   "metadata": {},
   "source": [
    "### 1. \"Hello Word\" & learn how to write \"for\" and \"if\""
   ]
  },
  {
   "cell_type": "code",
   "execution_count": 31,
   "metadata": {
    "collapsed": false
   },
   "outputs": [
    {
     "name": "stdout",
     "output_type": "stream",
     "text": [
      "Overwriting HalloWelt.java\n"
     ]
    }
   ],
   "source": [
    "%%file HalloWelt.java\n",
    "\n",
    "public class HalloWelt {\n",
    "    public static void main(String[] arg) {\n",
    "        int i;\n",
    "        for(i=1;i<6;i++){\n",
    "            if(i==3||i==4){continue;};\n",
    "            System.out.println(\"i=\"+i);\n",
    "            System.out.printf(\"%d Hallo, Welt!\\n\",i);\n",
    "        }\n",
    "    }\n",
    "}"
   ]
  },
  {
   "cell_type": "code",
   "execution_count": 32,
   "metadata": {
    "collapsed": false
   },
   "outputs": [
    {
     "name": "stdout",
     "output_type": "stream",
     "text": [
      "i=1\n",
      "1 Hallo, Welt!\n",
      "i=2\n",
      "2 Hallo, Welt!\n",
      "i=5\n",
      "5 Hallo, Welt!\n"
     ]
    }
   ],
   "source": [
    "!javac HalloWelt.java\n",
    "!java HalloWelt"
   ]
  },
  {
   "cell_type": "markdown",
   "metadata": {},
   "source": [
    "### 2. see how to define different types of variables:"
   ]
  },
  {
   "cell_type": "code",
   "execution_count": 95,
   "metadata": {
    "collapsed": false
   },
   "outputs": [
    {
     "name": "stdout",
     "output_type": "stream",
     "text": [
      "Overwriting TestVariableTypes.java\n"
     ]
    }
   ],
   "source": [
    "%%file TestVariableTypes.java\n",
    "\n",
    "//package tw.chweng.myproject.common;\n",
    "\n",
    "public class TestVariableTypes {\n",
    "    \n",
    "    public static void main(String arg[]) {\n",
    "\n",
    "        int i;\n",
    "        long j=10000000000L;\n",
    "        char LowercasePhi='\\u03A6';\n",
    "        float BigVal=1.E16f;                          // kind of wanting to test the limit of float.\n",
    "        double BigVal2=3.14159261234567861111E17d;    // kind of wanting to test the limit of double.\n",
    "        \n",
    "        System.out.println(\"j=\"+j);\n",
    "        System.out.println(\"phi=\"+LowercasePhi);\n",
    "        System.out.println(\"BigVal=\"+BigVal);\n",
    "        System.out.println(\"BigVal2=\"+BigVal2);\n",
    "    }\n",
    "}"
   ]
  },
  {
   "cell_type": "code",
   "execution_count": 96,
   "metadata": {
    "collapsed": false
   },
   "outputs": [
    {
     "name": "stdout",
     "output_type": "stream",
     "text": [
      "j=10000000000\r\n",
      "phi=Φ\r\n",
      "BigVal=1.00000003E16\r\n",
      "BigVal2=3.1415926123456787E17\r\n"
     ]
    }
   ],
   "source": [
    "!javac TestVariableTypes.java\n",
    "!java TestVariableTypes"
   ]
  },
  {
   "cell_type": "markdown",
   "metadata": {},
   "source": [
    "#### Question: what are the meanings of \"static\", \"void\" and \"main\"?"
   ]
  },
  {
   "cell_type": "markdown",
   "metadata": {},
   "source": [
    "\"main()\" is a method of the class.\n",
    "\n",
    "\"static\" is a special [optional] keyword that indicates that this method can be called without creating an instance of this class.\n",
    "\n",
    "\"void\" means that this method returns nothing.\n",
    "\n",
    "\"public\" means that this method can be called from anywhere else. Say, if this function has the modifier \"private\", then, this function can be used only within the class that it belongs to.\n",
    "\n",
    "\"String  arg[]\": in Java arg contains the supplied command-line arguments as an array. See the example below (from stackoverflow)."
   ]
  },
  {
   "cell_type": "markdown",
   "metadata": {},
   "source": [
    "### e.g.1"
   ]
  },
  {
   "cell_type": "code",
   "execution_count": 56,
   "metadata": {
    "collapsed": false
   },
   "outputs": [
    {
     "name": "stdout",
     "output_type": "stream",
     "text": [
      "Overwriting ArgumentExample.java\n"
     ]
    }
   ],
   "source": [
    "%%file ArgumentExample.java\n",
    "\n",
    "public class ArgumentExample {\n",
    "    public static void main(String[] args) {\n",
    "        for(int i = 0; i < args.length; i++) {\n",
    "            System.out.printf(args[i]+\"\\t\");\n",
    "        }\n",
    "    }\n",
    "}"
   ]
  },
  {
   "cell_type": "code",
   "execution_count": 57,
   "metadata": {
    "collapsed": false
   },
   "outputs": [
    {
     "name": "stdout",
     "output_type": "stream",
     "text": [
      "one\ttwo\tthree\t1\t2\t3\t"
     ]
    }
   ],
   "source": [
    "!javac ArgumentExample.java\n",
    "!java ArgumentExample one two three 1 2 3"
   ]
  },
  {
   "cell_type": "markdown",
   "metadata": {},
   "source": [
    "### 3. Construct an array"
   ]
  },
  {
   "cell_type": "code",
   "execution_count": 101,
   "metadata": {
    "collapsed": false
   },
   "outputs": [
    {
     "name": "stdout",
     "output_type": "stream",
     "text": [
      "Overwriting AnArray.java\n"
     ]
    }
   ],
   "source": [
    "%%file AnArray.java\n",
    "\n",
    "import java.util.Arrays;  /* this is necessary because \n",
    "                             we'd like to use the utility which will turn \n",
    "                             an int array into a string, which is easier to output.' */\n",
    "\n",
    "public class AnArray {\n",
    "    public static void main(String[] args) {\n",
    "        int linspace[];\n",
    "        linspace=new int[10];\n",
    "        for(int i = 0; i < linspace.length; i++) {\n",
    "            linspace[i]=i;\n",
    "        }\n",
    "        System.out.println(\"the length of the array=\"+linspace.length); \n",
    "        System.out.println(\"array=\"+Arrays.toString(linspace)); \n",
    "    }\n",
    "}"
   ]
  },
  {
   "cell_type": "code",
   "execution_count": 102,
   "metadata": {
    "collapsed": false
   },
   "outputs": [
    {
     "name": "stdout",
     "output_type": "stream",
     "text": [
      "the length of the array=10\r\n",
      "array=[0, 1, 2, 3, 4, 5, 6, 7, 8, 9]\r\n"
     ]
    }
   ],
   "source": [
    "!javac AnArray.java\n",
    "!java AnArray"
   ]
  },
  {
   "cell_type": "markdown",
   "metadata": {},
   "source": [
    "Remark: the int array \"linspace\" is an object!"
   ]
  },
  {
   "cell_type": "markdown",
   "metadata": {},
   "source": [
    "### e.g.2 An OO example from the Java 7 book written by 洪維恩."
   ]
  },
  {
   "cell_type": "code",
   "execution_count": 109,
   "metadata": {
    "collapsed": false
   },
   "outputs": [
    {
     "name": "stdout",
     "output_type": "stream",
     "text": [
      "Overwriting app8_3.java\n"
     ]
    }
   ],
   "source": [
    "%%file app8_3.java\n",
    "\n",
    "class CRectangle\n",
    "{\n",
    "   int width;\n",
    "   int height;\n",
    "   int area()\n",
    "   {\n",
    "      return width*height;\n",
    "   }\n",
    "\n",
    "   int perimeter()\n",
    "   {\n",
    "      return 2*(width+height);\n",
    "   }\n",
    "}\n",
    "\n",
    "public class app8_3\n",
    "{\n",
    "   public static void main(String args[])\n",
    "   {\n",
    "      CRectangle rect1;           //必須先宣告他，我覺得挺麻煩。\n",
    "      rect1=new CRectangle();\n",
    "\n",
    "      rect1.width=20;\n",
    "      rect1.height=15;\n",
    "\n",
    "      System.out.println(\"area=\"+rect1.area());\n",
    "      System.out.println(\"perimeter=\"+rect1.perimeter());\n",
    "   }\n",
    "}\n",
    "\n",
    "/* app8_3 OUTPUT---\n",
    "area=300\n",
    "perimeter=70\n",
    "-----------------*/"
   ]
  },
  {
   "cell_type": "code",
   "execution_count": 106,
   "metadata": {
    "collapsed": false
   },
   "outputs": [
    {
     "name": "stdout",
     "output_type": "stream",
     "text": [
      "area=300\r\n",
      "perimeter=70\r\n"
     ]
    }
   ],
   "source": [
    "!javac app8_3.java\n",
    "!java app8_3"
   ]
  },
  {
   "cell_type": "markdown",
   "metadata": {
    "collapsed": true
   },
   "source": [
    "# Day2; 22.09.2016; Taipeh"
   ]
  },
  {
   "cell_type": "markdown",
   "metadata": {},
   "source": [
    "### 4. Concepts of ++i and i++ & test the use of a function"
   ]
  },
  {
   "cell_type": "code",
   "execution_count": 1,
   "metadata": {
    "collapsed": false
   },
   "outputs": [
    {
     "name": "stdout",
     "output_type": "stream",
     "text": [
      "Writing TestOperation.java\n"
     ]
    }
   ],
   "source": [
    "%%file TestOperation.java\n",
    "\n",
    "public class TestOperation{\n",
    "\n",
    "    public static void main(String[] arg) {\n",
    "    int output[];\n",
    "    output=Operation(1,2);\n",
    "        System.out.println(\"i,j,k=\"+output[0]+\" \"+output[1]+\" \"+output[2]);\n",
    "    }\n",
    "    \n",
    "    public static int[] Operation(int i, int j){\n",
    "        int k;\n",
    "        k=(i++)+(++j);\n",
    "        System.out.println(\"i=\"+i);\n",
    "        System.out.println(\"j=\"+j);\n",
    "        System.out.println(\"j=\"+k);\n",
    "\n",
    "        int arr[]={i,j,k};\n",
    "        System.out.println(\"i,j,k=\"+arr[0]+\" \"+arr[1]+\" \"+arr[2]);\n",
    "        return arr;   \n",
    "    }\n",
    "}"
   ]
  },
  {
   "cell_type": "code",
   "execution_count": 2,
   "metadata": {
    "collapsed": false
   },
   "outputs": [
    {
     "name": "stdout",
     "output_type": "stream",
     "text": [
      "i=2\r\n",
      "j=3\r\n",
      "j=4\r\n",
      "i,j,k=2 3 4\r\n",
      "i,j,k=2 3 4\r\n"
     ]
    }
   ],
   "source": [
    "!javac TestOperation.java\n",
    "!java TestOperation"
   ]
  },
  {
   "cell_type": "markdown",
   "metadata": {},
   "source": [
    "### 5. Logical operations"
   ]
  },
  {
   "cell_type": "code",
   "execution_count": 7,
   "metadata": {
    "collapsed": false
   },
   "outputs": [
    {
     "name": "stdout",
     "output_type": "stream",
     "text": [
      "Writing LogicalOp.java\n"
     ]
    }
   ],
   "source": [
    "%%file LogicalOp.java\n",
    "\n",
    "public class LogicalOp {\n",
    "\n",
    "    public static void main(String[] args) {\n",
    "        \n",
    "        System.out.println(\"Let's test the use of ~, &,| and ^:\\n\");\n",
    "        int i=2,j=3;\n",
    "        System.out.println(~i+1);\n",
    "        System.out.println(i&j);\n",
    "        System.out.println(i|j);\n",
    "        System.out.println(i^j);\n",
    "        \n",
    "        System.out.println(\"Let's test the use of << and >>:\\n\");\n",
    "        int k=1234,l=2;\n",
    "        for(j=0;j<2;j++){\n",
    "            if(j==1){k=-k;};\n",
    "            System.out.println(k>>l);\n",
    "            System.out.println(k/4);\n",
    "            System.out.println(k<<l);\n",
    "            System.out.println(k*4);\n",
    "            System.out.println();\n",
    "            System.out.println(k>>>l);\n",
    "            //System.out.println(k<<<l);\n",
    "        }\n",
    "    }\n",
    "\n",
    "}"
   ]
  },
  {
   "cell_type": "code",
   "execution_count": 8,
   "metadata": {
    "collapsed": false
   },
   "outputs": [
    {
     "name": "stdout",
     "output_type": "stream",
     "text": [
      "Let's test the use of ~, &,| and ^:\r\n",
      "\r\n",
      "-2\r\n",
      "2\r\n",
      "3\r\n",
      "1\r\n",
      "Let's test the use of << and >>:\r\n",
      "\r\n",
      "308\r\n",
      "308\r\n",
      "4936\r\n",
      "4936\r\n",
      "\r\n",
      "308\r\n",
      "-309\r\n",
      "-308\r\n",
      "-4936\r\n",
      "-4936\r\n",
      "\r\n",
      "1073741515\r\n"
     ]
    }
   ],
   "source": [
    "!javac LogicalOp.java\n",
    "!java LogicalOp"
   ]
  },
  {
   "cell_type": "markdown",
   "metadata": {},
   "source": [
    "### Remark:"
   ]
  },
  {
   "cell_type": "markdown",
   "metadata": {},
   "source": [
    "A table of basic logic operations:"
   ]
  },
  {
   "cell_type": "code",
   "execution_count": 9,
   "metadata": {
    "collapsed": false
   },
   "outputs": [
    {
     "data": {
      "image/png": "[encoded data removed]",
      "text/plain": [
       "<IPython.core.display.Image object>"
      ]
     },
     "execution_count": 9,
     "metadata": {},
     "output_type": "execute_result"
    }
   ],
   "source": [
    "Image(filename='bitwiseop.png')"
   ]
  },
  {
   "cell_type": "markdown",
   "metadata": {},
   "source": [
    "another logic operation is NOT. Say, a=$00011000$; then, NOT(~) a would be ~$a=11100111$, i.e. what NOT does is to flip every bits. Now, here comes the point. What is ~$a=11100111$ in the decimal representation? \n",
    "\n",
    "Suppose a number is in a 8-bits binary representation. Excluding the first bit which controlls the sign, we have another 7 bits available, which can represent $2^7=128$ numbers. This (together with the plus or minus sign) means that in total we can represent $256$ numbers.  Thus, if we use one byte to store an integer, we can represent an integer if that integer is within $-128,-127,...,0,1,2,....,127$ (numbers are represented in decimal). Now, I think, a mapping was defined in order to represent a negative number. That is to say, a negative number is obtained by mapping $127,126,....,1,0$ to $-128,-127,...,-2,-1$. This is done by flipping all the bits in binary. Hence, for example, $1$ ($00000001$ in binary) will be mapped to $-2$ ($11111110$ in binary). \n",
    "\n",
    "Thus, say, we'd like to obtain the binary representation of $-1$, we can simply add $1$ to $-2$ (add $00000001$ and $11111110$ together in binary), yielding $1111111$. Or, since we know that $-1$ is NOT $0$ (according to the mapping), we have $-1=$ NOT $0=$ ~$00000000$ (binary)$=11111111$ (binary)."
   ]
  },
  {
   "cell_type": "markdown",
   "metadata": {},
   "source": [
    "Bitwise operation: $>>$ (the sign will be kept):"
   ]
  },
  {
   "cell_type": "code",
   "execution_count": 10,
   "metadata": {
    "collapsed": false
   },
   "outputs": [
    {
     "data": {
      "image/png": "[encoded data removed]",
      "text/plain": [
       "<IPython.core.display.Image object>"
      ]
     },
     "execution_count": 10,
     "metadata": {},
     "output_type": "execute_result"
    }
   ],
   "source": [
    "Image(filename='Rotate_right_arithmetically.png')"
   ]
  },
  {
   "cell_type": "markdown",
   "metadata": {},
   "source": [
    "Use $>>>$ if you want to have the sign to always be positive (say, >>>2 will force the first 2 bits to be 0. Hence, the result is always positive)."
   ]
  },
  {
   "cell_type": "markdown",
   "metadata": {},
   "source": [
    "Bitwise operations: $<<$"
   ]
  },
  {
   "cell_type": "code",
   "execution_count": 12,
   "metadata": {
    "collapsed": false
   },
   "outputs": [
    {
     "data": {
      "image/png": "[encoded data removed]",
      "text/plain": [
       "<IPython.core.display.Image object>"
      ]
     },
     "execution_count": 12,
     "metadata": {},
     "output_type": "execute_result"
    }
   ],
   "source": [
    "Image(filename='Rotate_left_logically.png')"
   ]
  },
  {
   "cell_type": "markdown",
   "metadata": {},
   "source": [
    "the sign won't be preserved in the << operation. Hence, it is not necessary to define a <<< operation. The <<< operator is not defined. Here are some more examples:"
   ]
  },
  {
   "cell_type": "code",
   "execution_count": null,
   "metadata": {
    "collapsed": true
   },
   "outputs": [],
   "source": [
    "00000000000000000011000000111001    12345\n",
    "11111111111111111100111111000111   -12345\n",
    "\n",
    "00000000000000000000110000001110    12345>>2\n",
    "11111111111111111111001111110001   -12345>>2\n",
    "\n",
    "00000000000000000000110000001110    12345>>>2\n",
    "00111111111111111111001111110001   -12345>>>2\n",
    "\n",
    "00000000000000001100000011100100    12345<<2\n",
    "11111111111111110011111100011100   -12345<<2"
   ]
  },
  {
   "cell_type": "markdown",
   "metadata": {},
   "source": [
    "The following is an example in C, as a reference:"
   ]
  },
  {
   "cell_type": "code",
   "execution_count": 15,
   "metadata": {
    "collapsed": false
   },
   "outputs": [
    {
     "name": "stdout",
     "output_type": "stream",
     "text": [
      "Writing logicop.c\n"
     ]
    }
   ],
   "source": [
    "%%file logicop.c\n",
    "#include <stdio.h>\n",
    "int main()\n",
    "{\n",
    "    int a = 16, b = 2;\n",
    "    int andRes, orRes, xorRes, rShiftRes, lShiftRes, complementRes;\n",
    "    andRes = a & b;\n",
    "    orRes = a | b; \n",
    "    xorRes = a ^ b;\n",
    "    rShiftRes = ( a >> b ); // a right shifted b times\n",
    "    lShiftRes = ( a << b ); // a left shifted b times\n",
    "    complementRes = ~a;\n",
    "    printf( \"%d %d %d %d %d %d\", andRes, orRes, xorRes, rShiftRes, lShiftRes, complementRes );\n",
    "    return 0;\n",
    "}"
   ]
  },
  {
   "cell_type": "code",
   "execution_count": 16,
   "metadata": {
    "collapsed": false
   },
   "outputs": [
    {
     "name": "stdout",
     "output_type": "stream",
     "text": [
      "0 18 18 4 64 -17"
     ]
    }
   ],
   "source": [
    "! icc logicop.c\n",
    "! ./a.out"
   ]
  },
  {
   "cell_type": "markdown",
   "metadata": {},
   "source": [
    "### 6. test the usage of while & continue & break"
   ]
  },
  {
   "cell_type": "code",
   "execution_count": 11,
   "metadata": {
    "collapsed": false
   },
   "outputs": [
    {
     "name": "stdout",
     "output_type": "stream",
     "text": [
      "Overwriting WhileLoop.java\n"
     ]
    }
   ],
   "source": [
    "%%file WhileLoop.java\n",
    "\n",
    "public class WhileLoop {\n",
    "\n",
    "    public static void main(String[] args) {\n",
    "        int i=0;\n",
    "        while(i<10){\n",
    "            i=i+1;\n",
    "            if(i==3||i==4){continue;};\n",
    "            System.out.println(\"i=\"+i);\n",
    "            if(i==8){break;};\n",
    "        }\n",
    "\n",
    "    }\n",
    "\n",
    "}"
   ]
  },
  {
   "cell_type": "code",
   "execution_count": 12,
   "metadata": {
    "collapsed": false
   },
   "outputs": [
    {
     "name": "stdout",
     "output_type": "stream",
     "text": [
      "i=1\r\n",
      "i=2\r\n",
      "i=5\r\n",
      "i=6\r\n",
      "i=7\r\n",
      "i=8\r\n"
     ]
    }
   ],
   "source": [
    "!javac WhileLoop.java\n",
    "!java WhileLoop"
   ]
  },
  {
   "cell_type": "markdown",
   "metadata": {},
   "source": [
    "### 7. Type Casting"
   ]
  },
  {
   "cell_type": "code",
   "execution_count": 49,
   "metadata": {
    "collapsed": false
   },
   "outputs": [
    {
     "name": "stdout",
     "output_type": "stream",
     "text": [
      "Overwriting TypeCasting.java\n"
     ]
    }
   ],
   "source": [
    "%%file TypeCasting.java\n",
    "\n",
    "public class TypeCasting {\n",
    "\n",
    "    public static void main(String[] args) {\n",
    "        byte a=1,b=2,c;\n",
    "        c=a+b;\n",
    "        System.out.println(\"c=\"+c);\n",
    "    }\n",
    "}"
   ]
  },
  {
   "cell_type": "code",
   "execution_count": 50,
   "metadata": {
    "collapsed": false
   },
   "outputs": [
    {
     "name": "stdout",
     "output_type": "stream",
     "text": [
      "TypeCasting.java:6: error: incompatible types: possible lossy conversion from int to byte\n",
      "        c=a+b;\n",
      "           ^\n",
      "1 error\n",
      "Fehler: Hauptklasse TypeCasting konnte nicht gefunden oder geladen werden\n"
     ]
    }
   ],
   "source": [
    "!javac TypeCasting.java\n",
    "!java TypeCasting"
   ]
  },
  {
   "cell_type": "markdown",
   "metadata": {},
   "source": [
    "----"
   ]
  },
  {
   "cell_type": "markdown",
   "metadata": {},
   "source": [
    "I don't really understand. What happens above is beyond my intuition. Say, I do the same thing in Fortran:"
   ]
  },
  {
   "cell_type": "code",
   "execution_count": 34,
   "metadata": {
    "collapsed": false
   },
   "outputs": [
    {
     "name": "stdout",
     "output_type": "stream",
     "text": [
      "Overwriting Typecasting.f90\n"
     ]
    }
   ],
   "source": [
    "%%file Typecasting.f90\n",
    "\n",
    "program TypcastingTest\n",
    "byte:: a=1,b=2,c\n",
    "\n",
    "c=a+b\n",
    "write(*,*)\"c=\",c\n",
    "\n",
    "end program"
   ]
  },
  {
   "cell_type": "code",
   "execution_count": 35,
   "metadata": {
    "collapsed": false
   },
   "outputs": [
    {
     "name": "stdout",
     "output_type": "stream",
     "text": [
      " c=    3\r\n"
     ]
    }
   ],
   "source": [
    "!ifort Typecasting.f90\n",
    "!./a.out"
   ]
  },
  {
   "cell_type": "markdown",
   "metadata": {},
   "source": [
    "I can get the correct result and the Fortran compiler won't complain."
   ]
  },
  {
   "cell_type": "markdown",
   "metadata": {},
   "source": [
    "Now, let's try to do this in C:"
   ]
  },
  {
   "cell_type": "code",
   "execution_count": 53,
   "metadata": {
    "collapsed": false
   },
   "outputs": [
    {
     "name": "stdout",
     "output_type": "stream",
     "text": [
      "Overwriting Typecasting.c\n"
     ]
    }
   ],
   "source": [
    "%%file Typecasting.c\n",
    "\n",
    "#include <stdio.h>\n",
    "int main()\n",
    "{\n",
    "    char a = 1, b = 2, c;\n",
    "    c=a+b;\n",
    "    printf(\"c= %d\",c );\n",
    "    return 0;\n",
    "}"
   ]
  },
  {
   "cell_type": "code",
   "execution_count": 54,
   "metadata": {
    "collapsed": false
   },
   "outputs": [
    {
     "name": "stdout",
     "output_type": "stream",
     "text": [
      "c= 3"
     ]
    }
   ],
   "source": [
    "!icc Typecasting.c\n",
    "!./a.out"
   ]
  },
  {
   "cell_type": "markdown",
   "metadata": {},
   "source": [
    "it doesn't complain either."
   ]
  },
  {
   "cell_type": "markdown",
   "metadata": {},
   "source": [
    "#### It's really wierd in Java. The result of a(=1)+  b(=2) will be seen as type \"int\" even we say explicitely that a and b belongs to the type \"byte\"."
   ]
  },
  {
   "cell_type": "markdown",
   "metadata": {},
   "source": [
    "#### Anyway, this error can be fixed by type casting, as the following:"
   ]
  },
  {
   "cell_type": "code",
   "execution_count": 18,
   "metadata": {
    "collapsed": false
   },
   "outputs": [
    {
     "name": "stdout",
     "output_type": "stream",
     "text": [
      "Writing TypeCastingFixed.java\n"
     ]
    }
   ],
   "source": [
    "%%file TypeCastingFixed.java\n",
    "\n",
    "public class TypeCastingFixed {\n",
    "\n",
    "    public static void main(String[] args) {\n",
    "        byte a=1,b=2,c;\n",
    "        c=(byte)(a+b);\n",
    "        System.out.println(\"c=\"+c);\n",
    "    }\n",
    "\n",
    "}"
   ]
  },
  {
   "cell_type": "code",
   "execution_count": 19,
   "metadata": {
    "collapsed": false
   },
   "outputs": [
    {
     "name": "stdout",
     "output_type": "stream",
     "text": [
      "c=3\r\n"
     ]
    }
   ],
   "source": [
    "!javac TypeCastingFixed.java\n",
    "!java TypeCastingFixed"
   ]
  },
  {
   "cell_type": "markdown",
   "metadata": {},
   "source": [
    "### 8. test: If and Else"
   ]
  },
  {
   "cell_type": "code",
   "execution_count": 97,
   "metadata": {
    "collapsed": false
   },
   "outputs": [
    {
     "name": "stdout",
     "output_type": "stream",
     "text": [
      "Overwriting IfElse.java\n"
     ]
    }
   ],
   "source": [
    "%%file IfElse.java\n",
    "\n",
    "import java.lang.*;\n",
    "\n",
    "public class IfElse{\n",
    "\n",
    "    public static void main(String args[]) {\n",
    "        int i=Integer.parseInt(args[0]);  \n",
    "        //int i=28;\n",
    "        if(i>=30){\n",
    "            System.out.println(i+\"  It's hot!\");\n",
    "        }\n",
    "        else{System.out.println(i+\"  It's cold!\");}\n",
    "    }\n",
    "}"
   ]
  },
  {
   "cell_type": "code",
   "execution_count": 98,
   "metadata": {
    "collapsed": false
   },
   "outputs": [
    {
     "name": "stdout",
     "output_type": "stream",
     "text": [
      "25  It's cold!\n",
      "26  It's cold!\n",
      "27  It's cold!\n",
      "28  It's cold!\n",
      "29  It's cold!\n",
      "30  It's hot!\n",
      "31  It's hot!\n",
      "32  It's hot!\n",
      "33  It's hot!\n",
      "34  It's hot!\n"
     ]
    }
   ],
   "source": [
    "!javac IfElse.java\n",
    "for j in range(25,35):\n",
    "    !java IfElse {j}"
   ]
  },
  {
   "cell_type": "markdown",
   "metadata": {},
   "source": [
    "#### Remark: It's interesting that, variables in Python can be transferred to the system shell!"
   ]
  },
  {
   "cell_type": "markdown",
   "metadata": {},
   "source": [
    "### 9. test: throw a dice"
   ]
  },
  {
   "cell_type": "code",
   "execution_count": 22,
   "metadata": {
    "collapsed": false
   },
   "outputs": [
    {
     "name": "stdout",
     "output_type": "stream",
     "text": [
      "Writing DiceThrow.java\n"
     ]
    }
   ],
   "source": [
    "%%file DiceThrow.java\n",
    "\n",
    "import java.lang.*;\n",
    "\n",
    "public class DiceThrow{\n",
    "\n",
    "    public static void main(String[] args){\n",
    "        int DiceNum=(int)(Math.random()*6+1);\n",
    "        System.out.println(\"Number of the dice=\"+DiceNum);\n",
    "        if(DiceNum>=3){\n",
    "            if(DiceNum<=6){System.out.println(\"You win!\");}\n",
    "        }else{System.out.println(\"You lose!\");}\n",
    "    }\n",
    "}"
   ]
  },
  {
   "cell_type": "code",
   "execution_count": 23,
   "metadata": {
    "collapsed": false
   },
   "outputs": [
    {
     "name": "stdout",
     "output_type": "stream",
     "text": [
      "Number of the dice=6\n",
      "You win!\n",
      "Number of the dice=4\n",
      "You win!\n",
      "Number of the dice=4\n",
      "You win!\n",
      "Number of the dice=2\n",
      "You lose!\n",
      "Number of the dice=2\n",
      "You lose!\n"
     ]
    }
   ],
   "source": [
    "for j in range(5):\n",
    "    !javac DiceThrow.java\n",
    "    !java DiceThrow"
   ]
  },
  {
   "cell_type": "markdown",
   "metadata": {},
   "source": [
    "### 10. Lab: practice if and else"
   ]
  },
  {
   "cell_type": "code",
   "execution_count": 27,
   "metadata": {
    "collapsed": false
   },
   "outputs": [
    {
     "name": "stdout",
     "output_type": "stream",
     "text": [
      "Overwriting LabIfElse.java\n"
     ]
    }
   ],
   "source": [
    "%%file LabIfElse.java\n",
    "\n",
    "import java.lang.*;\n",
    "\n",
    "public class LabIfElse{\n",
    "\n",
    "    public static void main(String[] args) {\n",
    "        int i=Integer.parseInt(args[0]);  \n",
    "        if(i>=0){\n",
    "            System.out.printf(\"%d is positive!\\n\",i);\n",
    "            if (i%2==0){System.out.printf(\"%d is an even number!\\n\",i);}\n",
    "            else {System.out.printf(\"%d is an odd number!\\n\",i);}\n",
    "        }\n",
    "        else {System.out.printf(\"%d is negative!\\n\",i);\n",
    "            if (i%2==0){System.out.printf(\"%d is an even number!\\n\",i);}\n",
    "            else {System.out.printf(\"%d is an odd number!\\n\",i);}     \n",
    "        }\n",
    "        \n",
    "    }\n",
    "}"
   ]
  },
  {
   "cell_type": "code",
   "execution_count": 28,
   "metadata": {
    "collapsed": false
   },
   "outputs": [
    {
     "name": "stdout",
     "output_type": "stream",
     "text": [
      "-3 is negative!\n",
      "-3 is an odd number!\n",
      "-2 is negative!\n",
      "-2 is an even number!\n",
      "-1 is negative!\n",
      "-1 is an odd number!\n",
      "0 is positive!\n",
      "0 is an even number!\n",
      "1 is positive!\n",
      "1 is an odd number!\n",
      "2 is positive!\n",
      "2 is an even number!\n"
     ]
    }
   ],
   "source": [
    "for j in range(-3,3):\n",
    "    !javac LabIfElse.java\n",
    "    !java LabIfElse {j}"
   ]
  },
  {
   "cell_type": "markdown",
   "metadata": {},
   "source": [
    "### 11. Lab: determine whether a year is a leap year."
   ]
  },
  {
   "cell_type": "code",
   "execution_count": 30,
   "metadata": {
    "collapsed": false
   },
   "outputs": [
    {
     "data": {
      "image/png": "[encoded data removed]",
      "text/plain": [
       "<IPython.core.display.Image object>"
      ]
     },
     "execution_count": 30,
     "metadata": {},
     "output_type": "execute_result"
    }
   ],
   "source": [
    "from IPython.display import Image\n",
    "Image(filename='Leap_year.png')"
   ]
  },
  {
   "cell_type": "code",
   "execution_count": 36,
   "metadata": {
    "collapsed": false
   },
   "outputs": [
    {
     "name": "stdout",
     "output_type": "stream",
     "text": [
      "Overwriting LeapYearDeterm.java\n"
     ]
    }
   ],
   "source": [
    "%%file LeapYearDeterm.java\n",
    "\n",
    "import java.lang.*;\n",
    "\n",
    "public class LeapYearDeterm{\n",
    "\n",
    "    public static void main(String[] args) {\n",
    "        int year=Integer.parseInt(args[0]);  \n",
    "    if( year%4==0 && year%100!=0  || year%400==0){\n",
    "            System.out.printf(\"The year %d is a leap year.\\n\",year);\n",
    "        }else{ System.out.printf(\"The year %d is not a leap year.\\n\",year);}\n",
    "    }\n",
    "}"
   ]
  },
  {
   "cell_type": "code",
   "execution_count": 37,
   "metadata": {
    "collapsed": false
   },
   "outputs": [
    {
     "name": "stdout",
     "output_type": "stream",
     "text": [
      "The year 2000 is a leap year.\n",
      "The year 1900 is not a leap year.\n"
     ]
    }
   ],
   "source": [
    "!javac LeapYearDeterm.java\n",
    "!java LeapYearDeterm 2000\n",
    "!java LeapYearDeterm 1900"
   ]
  },
  {
   "cell_type": "markdown",
   "metadata": {},
   "source": [
    "### 12. Lab: output the roots of $ax^2+bx+c$."
   ]
  },
  {
   "cell_type": "code",
   "execution_count": 38,
   "metadata": {
    "collapsed": false
   },
   "outputs": [
    {
     "name": "stdout",
     "output_type": "stream",
     "text": [
      "Overwriting RootFindExercise.java\n"
     ]
    }
   ],
   "source": [
    "%%file RootFindExercise.java\n",
    "\n",
    "public class RootFindExercise{\n",
    "\n",
    "    public static void main(String[] arg) {\n",
    "    double roots[];\n",
    "    roots=RootFind(1.,-2.,1.);\n",
    "        System.out.println(\"x1,x2=\\t\"+roots[0]+\" \"+roots[1]);\n",
    "    }\n",
    "    \n",
    "    public static double[] RootFind(double a,double b, double c){\n",
    "        double x1,x2;\n",
    "\n",
    "        if(b*b-4.*a*c<0){System.out.println(\"Warning! Solutions are not Real!\");}\n",
    "        x1=(-b+Math.sqrt(b*b-4.*a*c))/(2.*a);\n",
    "        x2=(-b-Math.sqrt(b*b-4.*a*c))/(2.*a);\n",
    "        \n",
    "        double arr[]={x1,x2};\n",
    "        return arr;        \n",
    "    }\n",
    "}"
   ]
  },
  {
   "cell_type": "code",
   "execution_count": 39,
   "metadata": {
    "collapsed": false
   },
   "outputs": [
    {
     "name": "stdout",
     "output_type": "stream",
     "text": [
      "x1,x2=\t1.0 1.0\r\n"
     ]
    }
   ],
   "source": [
    "!javac RootFindExercise.java\n",
    "!java RootFindExercise"
   ]
  },
  {
   "cell_type": "markdown",
   "metadata": {},
   "source": [
    "### 13. An OOP hands-on exercise: translate my following Python code to Java. "
   ]
  },
  {
   "cell_type": "markdown",
   "metadata": {},
   "source": [
    "#### Python:"
   ]
  },
  {
   "cell_type": "code",
   "execution_count": 43,
   "metadata": {
    "collapsed": false
   },
   "outputs": [
    {
     "name": "stdout",
     "output_type": "stream",
     "text": [
      "number of legs=4\n",
      "zzZ\n",
      "number of legs=6\n",
      "zzZ\n"
     ]
    }
   ],
   "source": [
    "class pet:\n",
    "    number_of_legs=0\n",
    "    def sleep(self):\n",
    "        print \"zzZ\"\n",
    "    def count_legs(self):\n",
    "        print \"number of legs=%s\" %self.number_of_legs\n",
    "        \n",
    "dog=pet()\n",
    "dog.number_of_legs=4\n",
    "dog.count_legs()\n",
    "dog.sleep()\n",
    "\n",
    "spider=pet()\n",
    "spider.number_of_legs=6\n",
    "spider.count_legs()\n",
    "spider.sleep()"
   ]
  },
  {
   "cell_type": "markdown",
   "metadata": {},
   "source": [
    "#### Now, let's try to do this in Java:"
   ]
  },
  {
   "cell_type": "code",
   "execution_count": 62,
   "metadata": {
    "collapsed": false
   },
   "outputs": [
    {
     "name": "stdout",
     "output_type": "stream",
     "text": [
      "Overwriting OopExercisePets.java\n"
     ]
    }
   ],
   "source": [
    "%%file OopExercisePets.java\n",
    "\n",
    "class Pets\n",
    "{\n",
    "    int number_of_legs;\n",
    "\n",
    "    void sleep(){\n",
    "        System.out.println(\"zZzZ\");\n",
    "    }\n",
    "    void count_legs(){\n",
    "        System.out.printf(\"number of legs=%d\\n\",number_of_legs);\n",
    "    }\n",
    "}\n",
    "\n",
    "public class OopExercisePets\n",
    "{\n",
    "   public static void main(String args[])\n",
    "   {\n",
    "      Pets dog;\n",
    "      dog=new Pets();\n",
    "      dog.number_of_legs=4;\n",
    "      dog.sleep();\n",
    "      dog.count_legs();\n",
    "        \n",
    "      Pets spider;\n",
    "      spider=new Pets();\n",
    "      spider.number_of_legs=6;\n",
    "      spider.sleep();\n",
    "      spider.count_legs();\n",
    "   }\n",
    "}"
   ]
  },
  {
   "cell_type": "code",
   "execution_count": 63,
   "metadata": {
    "collapsed": false
   },
   "outputs": [
    {
     "name": "stdout",
     "output_type": "stream",
     "text": [
      "zZzZ\r\n",
      "number of legs=4\r\n",
      "zZzZ\r\n",
      "number of legs=6\r\n"
     ]
    }
   ],
   "source": [
    "!javac OopExercisePets.java\n",
    "!java OopExercisePets"
   ]
  },
  {
   "cell_type": "markdown",
   "metadata": {},
   "source": [
    "#### Apparently, Java is lengthy!"
   ]
  },
  {
   "cell_type": "markdown",
   "metadata": {},
   "source": [
    "# Day3; 23.09.2016; Taipeh"
   ]
  },
  {
   "cell_type": "markdown",
   "metadata": {},
   "source": [
    "### 14. test: the use of Switch Case"
   ]
  },
  {
   "cell_type": "code",
   "execution_count": 37,
   "metadata": {
    "collapsed": false
   },
   "outputs": [
    {
     "name": "stdout",
     "output_type": "stream",
     "text": [
      "Overwriting SwitchCaseEx.java\n"
     ]
    }
   ],
   "source": [
    "%%file SwitchCaseEx.java\n",
    "\n",
    "import java.lang.*;\n",
    "public class SwitchCaseEx{\n",
    "\n",
    "    public static void main(String[] arg) {\n",
    "    int ChangeWeapon=Integer.parseInt(arg[0]);\n",
    "    switch(ChangeWeapon){\n",
    "        case 1:\n",
    "            System.out.println(\"you have got a knife\");\n",
    "            //break;\n",
    "        case 2:\n",
    "            System.out.println(\"you have got an atomic bomb\");\n",
    "            break;\n",
    "        case 3:\n",
    "            System.out.println(\"you have got nothing!\");\n",
    "    }\n",
    "    }\n",
    "}"
   ]
  },
  {
   "cell_type": "code",
   "execution_count": 39,
   "metadata": {
    "collapsed": false
   },
   "outputs": [
    {
     "name": "stdout",
     "output_type": "stream",
     "text": [
      "you have got a knife\n",
      "you have got an atomic bomb\n"
     ]
    }
   ],
   "source": [
    "!javac SwitchCaseEx.java\n",
    "#for i in range(1,4):\n",
    "#    !java SwitchCaseEx {i}\n",
    "\n",
    "!java SwitchCaseEx 1"
   ]
  },
  {
   "cell_type": "markdown",
   "metadata": {},
   "source": [
    "### 15. a simple test for \"while\""
   ]
  },
  {
   "cell_type": "code",
   "execution_count": 73,
   "metadata": {
    "collapsed": false
   },
   "outputs": [
    {
     "name": "stdout",
     "output_type": "stream",
     "text": [
      "Overwriting TestWhile.java\n"
     ]
    }
   ],
   "source": [
    "%%file TestWhile.java\n",
    "\n",
    "import java.lang.*;\n",
    "public class TestWhile{\n",
    "\n",
    "    public static void main(String[] arg) {\n",
    "    double i;\n",
    "    i=0.;\n",
    "        \n",
    "    while(i>=0 && i<=0.9){\n",
    "        i=Math.random();\n",
    "        System.out.println(i);\n",
    "        //if(i>=0.5){break;}\n",
    "    }\n",
    "    }\n",
    "}"
   ]
  },
  {
   "cell_type": "code",
   "execution_count": 76,
   "metadata": {
    "collapsed": false
   },
   "outputs": [
    {
     "name": "stdout",
     "output_type": "stream",
     "text": [
      "0.5464345557474871\n",
      "0.6671171984571367\n",
      "0.07443237138124892\n",
      "0.6445021663822912\n",
      "0.37857090054660225\n",
      "0.32269425322330714\n",
      "0.8139741991042277\n",
      "0.8474518053562452\n",
      "0.774934934235503\n",
      "0.1353441801042491\n",
      "0.8459426402474081\n",
      "0.6973581303684941\n",
      "0.7810264321032753\n",
      "0.7655033901855648\n",
      "0.5699104235748402\n",
      "0.11819272070124409\n",
      "0.8315688789055485\n",
      "0.2700116126341221\n",
      "0.9000095660535016\n"
     ]
    }
   ],
   "source": [
    "!javac TestWhile.java\n",
    "!java TestWhile"
   ]
  },
  {
   "cell_type": "markdown",
   "metadata": {},
   "source": [
    "### 16. another simple test for \"while\": write a function to solve $\\sum_{i=1}^{10}i$."
   ]
  },
  {
   "cell_type": "code",
   "execution_count": 115,
   "metadata": {
    "collapsed": false
   },
   "outputs": [
    {
     "name": "stdout",
     "output_type": "stream",
     "text": [
      "Overwriting TestWhileII.java\n"
     ]
    }
   ],
   "source": [
    "%%file TestWhileII.java\n",
    "\n",
    "import java.lang.*;\n",
    "public class TestWhileII{\n",
    "\n",
    "    public static double SumInt(### 16. another simple test for \"while\": write a function to solve $\\sum_{i=1}^{10}i$.double UpTo){\n",
    "        double i=1.,sum=0.;\n",
    "\n",
    "        while(i<=UpTo){\n",
    "            sum=sum+i;\n",
    "            System.out.println(i+\"\\t\"+sum);\n",
    "            i++;\n",
    "        }\n",
    "    return sum;\n",
    "    }\n",
    "    \n",
    "    public static void main(String[] arg) {\n",
    "    double Upto=10.,result;\n",
    "    result=SumInt(10);\n",
    "        \n",
    "    System.out.println();\n",
    "    System.out.println(result);\n",
    "    }\n",
    "}"
   ]
  },
  {
   "cell_type": "code",
   "execution_count": 116,
   "metadata": {
    "collapsed": false
   },
   "outputs": [
    {
     "name": "stdout",
     "output_type": "stream",
     "text": [
      "1.0\t1.0\n",
      "2.0\t3.0\n",
      "3.0\t6.0\n",
      "4.0\t10.0\n",
      "5.0\t15.0\n",
      "6.0\t21.0\n",
      "7.0\t28.0\n",
      "8.0\t36.0\n",
      "9.0\t45.0\n",
      "10.0\t55.0\n",
      "\n",
      "55.0\n"
     ]
    }
   ],
   "source": [
    "!javac TestWhileII.java\n",
    "!java TestWhileII"
   ]
  },
  {
   "cell_type": "markdown",
   "metadata": {},
   "source": [
    "### 17.test for the nested while"
   ]
  },
  {
   "cell_type": "code",
   "execution_count": 22,
   "metadata": {
    "collapsed": false
   },
   "outputs": [
    {
     "name": "stdout",
     "output_type": "stream",
     "text": [
      "Overwriting NestedWhile.java\n"
     ]
    }
   ],
   "source": [
    "%%file NestedWhile.java\n",
    "\n",
    "import java.lang.*;\n",
    "public class NestedWhile{\n",
    "\n",
    "    public static void main(String[] arg) {\n",
    "    int i=1;\n",
    "\n",
    "        while(i<=3){\n",
    "            int j=1;\n",
    "            //System.out.println(i);\n",
    "            while(j<=4){\n",
    "                //System.out.print(j);\n",
    "                System.out.print(\"@\");\n",
    "                j++;\n",
    "            }\n",
    "            System.out.println();\n",
    "        i++;\n",
    "        }\n",
    "    }\n",
    "}"
   ]
  },
  {
   "cell_type": "code",
   "execution_count": 23,
   "metadata": {
    "collapsed": false
   },
   "outputs": [
    {
     "name": "stdout",
     "output_type": "stream",
     "text": [
      "@@@@\n",
      "@@@@\n",
      "@@@@\n"
     ]
    }
   ],
   "source": [
    "!javac NestedWhile.java\n",
    "!java NestedWhile"
   ]
  },
  {
   "cell_type": "markdown",
   "metadata": {},
   "source": [
    "### 17. Lab: the 9X9 Table"
   ]
  },
  {
   "cell_type": "code",
   "execution_count": 39,
   "metadata": {
    "collapsed": false
   },
   "outputs": [
    {
     "name": "stdout",
     "output_type": "stream",
     "text": [
      "Overwriting Table9X9.java\n"
     ]
    }
   ],
   "source": [
    "%%file Table9X9.java\n",
    "\n",
    "import java.lang.*;\n",
    "public class Table9X9{\n",
    "\n",
    "    public static void main(String[] arg) {\n",
    "        int i,j;\n",
    "        for(i=1;i<10;i++){\n",
    "            for(j=1;j<10;j++){\n",
    "                System.out.printf(\"%dx%d=%2d\\t\",i,j,i*j);\n",
    "            }\n",
    "        System.out.println();\n",
    "        }        \n",
    "    }\n",
    "}"
   ]
  },
  {
   "cell_type": "code",
   "execution_count": 40,
   "metadata": {
    "collapsed": false
   },
   "outputs": [
    {
     "name": "stdout",
     "output_type": "stream",
     "text": [
      "1x1= 1\t1x2= 2\t1x3= 3\t1x4= 4\t1x5= 5\t1x6= 6\t1x7= 7\t1x8= 8\t1x9= 9\t\n",
      "2x1= 2\t2x2= 4\t2x3= 6\t2x4= 8\t2x5=10\t2x6=12\t2x7=14\t2x8=16\t2x9=18\t\n",
      "3x1= 3\t3x2= 6\t3x3= 9\t3x4=12\t3x5=15\t3x6=18\t3x7=21\t3x8=24\t3x9=27\t\n",
      "4x1= 4\t4x2= 8\t4x3=12\t4x4=16\t4x5=20\t4x6=24\t4x7=28\t4x8=32\t4x9=36\t\n",
      "5x1= 5\t5x2=10\t5x3=15\t5x4=20\t5x5=25\t5x6=30\t5x7=35\t5x8=40\t5x9=45\t\n",
      "6x1= 6\t6x2=12\t6x3=18\t6x4=24\t6x5=30\t6x6=36\t6x7=42\t6x8=48\t6x9=54\t\n",
      "7x1= 7\t7x2=14\t7x3=21\t7x4=28\t7x5=35\t7x6=42\t7x7=49\t7x8=56\t7x9=63\t\n",
      "8x1= 8\t8x2=16\t8x3=24\t8x4=32\t8x5=40\t8x6=48\t8x7=56\t8x8=64\t8x9=72\t\n",
      "9x1= 9\t9x2=18\t9x3=27\t9x4=36\t9x5=45\t9x6=54\t9x7=63\t9x8=72\t9x9=81\t\n"
     ]
    }
   ],
   "source": [
    "!javac Table9X9.java\n",
    "!java Table9X9"
   ]
  },
  {
   "cell_type": "markdown",
   "metadata": {},
   "source": [
    "Now, let's transpose the matrix & try to see how to write an infinite loop:"
   ]
  },
  {
   "cell_type": "code",
   "execution_count": 25,
   "metadata": {
    "collapsed": false
   },
   "outputs": [
    {
     "name": "stdout",
     "output_type": "stream",
     "text": [
      "Overwriting Table9X9.java\n"
     ]
    }
   ],
   "source": [
    "%%file Table9X9.java\n",
    "\n",
    "import java.lang.*;\n",
    "public class Table9X9{\n",
    "\n",
    "    public static void main(String[] arg) {\n",
    "        int i,j=1;\n",
    "        for(;;){\n",
    "            for(i=1;i<10;i++){\n",
    "                System.out.printf(\"%dx%d=%2d\\t\",i,j,i*j);\n",
    "            }\n",
    "        System.out.println();\n",
    "        if(j==4){break;};\n",
    "        j++;\n",
    "        }        \n",
    "    }\n",
    "}"
   ]
  },
  {
   "cell_type": "code",
   "execution_count": 26,
   "metadata": {
    "collapsed": false
   },
   "outputs": [
    {
     "name": "stdout",
     "output_type": "stream",
     "text": [
      "1x1= 1\t2x1= 2\t3x1= 3\t4x1= 4\t5x1= 5\t6x1= 6\t7x1= 7\t8x1= 8\t9x1= 9\t\n",
      "1x2= 2\t2x2= 4\t3x2= 6\t4x2= 8\t5x2=10\t6x2=12\t7x2=14\t8x2=16\t9x2=18\t\n",
      "1x3= 3\t2x3= 6\t3x3= 9\t4x3=12\t5x3=15\t6x3=18\t7x3=21\t8x3=24\t9x3=27\t\n",
      "1x4= 4\t2x4= 8\t3x4=12\t4x4=16\t5x4=20\t6x4=24\t7x4=28\t8x4=32\t9x4=36\t\n"
     ]
    }
   ],
   "source": [
    "!javac Table9X9.java\n",
    "!java Table9X9"
   ]
  },
  {
   "cell_type": "markdown",
   "metadata": {},
   "source": [
    "### 18. test: ouput data & draw the histogram"
   ]
  },
  {
   "cell_type": "code",
   "execution_count": 58,
   "metadata": {
    "collapsed": false
   },
   "outputs": [
    {
     "name": "stdout",
     "output_type": "stream",
     "text": [
      "Overwriting OutputTestDiceEven.java\n"
     ]
    }
   ],
   "source": [
    "%%file OutputTestDiceEven.java\n",
    "\n",
    "import java.io.*;\n",
    "//import java.lang.*;\n",
    "import java.util.Random;\n",
    "\n",
    "public class OutputTestDiceEven{\n",
    "    public static void main(String[] args) throws IOException{\n",
    "        int i;\n",
    "        int DiceNumArr[]=new int[10000];\n",
    "        \n",
    "        FileWriter f=new FileWriter(\"DiceNum.txt\");\n",
    "        for(i=0;i<DiceNumArr.length;i++){\n",
    "            DiceNumArr[i]=(int)(Math.random()*6+1);\n",
    "            f.write(\" \"+DiceNumArr[i]);  \n",
    "        }\n",
    "        f.close();\n",
    "    }\n",
    "}"
   ]
  },
  {
   "cell_type": "markdown",
   "metadata": {},
   "source": [
    "#### Question: what does \"throw IOException\" mean? Why should I add this?"
   ]
  },
  {
   "cell_type": "code",
   "execution_count": 59,
   "metadata": {
    "collapsed": false
   },
   "outputs": [],
   "source": [
    "!javac OutputTestDiceEven.java\n",
    "!java OutputTestDiceEven"
   ]
  },
  {
   "cell_type": "code",
   "execution_count": 48,
   "metadata": {
    "collapsed": false
   },
   "outputs": [
    {
     "name": "stdout",
     "output_type": "stream",
     "text": [
      "\u001b[K\u001b[?1l\u001b>"
     ]
    }
   ],
   "source": [
    "#!dir *.txt\n",
    "!more OutputTestDiceEven.txt  # suppose I'm using the windows terminal."
   ]
  },
  {
   "cell_type": "code",
   "execution_count": 60,
   "metadata": {
    "collapsed": false
   },
   "outputs": [
    {
     "data": {
      "text/plain": [
       "<Container object of 6 artists>"
      ]
     },
     "execution_count": 60,
     "metadata": {},
     "output_type": "execute_result"
    },
    {
     "data": {
      "image/png": "[encoded data removed]",
      "text/plain": [
       "<matplotlib.figure.Figure at 0x10bc4d510>"
      ]
     },
     "metadata": {},
     "output_type": "display_data"
    }
   ],
   "source": [
    "dat=np.loadtxt(\"DiceNum.txt\")\n",
    "hist, bins =np.histogram(dat,bins=6)\n",
    "plt.bar(np.arange(6)+1, hist, align='center')"
   ]
  },
  {
   "cell_type": "markdown",
   "metadata": {},
   "source": [
    "From the above, we see that the dice is not biased, which is as expected. Now, let's do a trick... i.e. adding one additional line (IF DiceNum>3 throw the dice again) to the inside of the for loop. After adding this line, the dice is expected to be biased."
   ]
  },
  {
   "cell_type": "code",
   "execution_count": 53,
   "metadata": {
    "collapsed": false
   },
   "outputs": [
    {
     "name": "stdout",
     "output_type": "stream",
     "text": [
      "Writing OutputTestDiceBiased.java\n"
     ]
    }
   ],
   "source": [
    "%%file OutputTestDiceBiased.java\n",
    "\n",
    "import java.io.*;\n",
    "//import java.lang.*;\n",
    "import java.util.Random;\n",
    "\n",
    "public class OutputTestDiceBiased{\n",
    "    public static void main(String[] args) throws IOException{\n",
    "        int i;\n",
    "        int DiceNumArr[]=new int[10000];\n",
    "        \n",
    "        FileWriter f=new FileWriter(\"DiceNum.txt\");\n",
    "        for(i=0;i<DiceNumArr.length;i++){\n",
    "            DiceNumArr[i]=(int)(Math.random()*6+1);\n",
    "            if(DiceNumArr[i]>3){ DiceNumArr[i]=(int)(Math.random()*6+1); }\n",
    "            f.write(\" \"+DiceNumArr[i]);  \n",
    "        }\n",
    "        f.close();\n",
    "    }\n",
    "}"
   ]
  },
  {
   "cell_type": "code",
   "execution_count": 54,
   "metadata": {
    "collapsed": true
   },
   "outputs": [],
   "source": [
    "!javac OutputTestDiceBiased.java\n",
    "!java OutputTestDiceBiased"
   ]
  },
  {
   "cell_type": "code",
   "execution_count": 55,
   "metadata": {
    "collapsed": false
   },
   "outputs": [
    {
     "data": {
      "text/plain": [
       "<Container object of 6 artists>"
      ]
     },
     "execution_count": 55,
     "metadata": {},
     "output_type": "execute_result"
    },
    {
     "data": {
      "image/png": "[encoded data removed]",
      "text/plain": [
       "<matplotlib.figure.Figure at 0x10b973f50>"
      ]
     },
     "metadata": {},
     "output_type": "display_data"
    }
   ],
   "source": [
    "dat=np.loadtxt(\"DiceNum.txt\")\n",
    "hist, bins =np.histogram(dat,bins=6)\n",
    "plt.bar(np.arange(6)+1, hist, align='center')"
   ]
  },
  {
   "cell_type": "markdown",
   "metadata": {},
   "source": [
    "The dice is biased, as expected."
   ]
  },
  {
   "cell_type": "markdown",
   "metadata": {},
   "source": [
    "### 19. test: labeled break& continue"
   ]
  },
  {
   "cell_type": "code",
   "execution_count": 4,
   "metadata": {
    "collapsed": false
   },
   "outputs": [
    {
     "name": "stdout",
     "output_type": "stream",
     "text": [
      "Writing LabeledBreakContinue.java\n"
     ]
    }
   ],
   "source": [
    "%%file LabeledBreakContinue.java\n",
    "\n",
    "import java.io.*;\n",
    "//import java.lang.*;\n",
    "\n",
    "public class LabeledBreakContinue{\n",
    "    public static void main(String[] args) throws IOException{\n",
    "        int i,j;\n",
    "        \n",
    "        breakpoint:\n",
    "        for(i=0;i<3;i++){\n",
    "            for(j=0;j<3;j++){\n",
    "                System.out.println(\"i,j=\"+i+\" \"+j);\n",
    "                if (i==1&& j==1){continue breakpoint;}\n",
    "            }\n",
    "        }\n",
    "\n",
    "    }\n",
    "}"
   ]
  },
  {
   "cell_type": "code",
   "execution_count": 5,
   "metadata": {
    "collapsed": false
   },
   "outputs": [
    {
     "name": "stdout",
     "output_type": "stream",
     "text": [
      "i,j=0 0\n",
      "i,j=0 1\n",
      "i,j=0 2\n",
      "i,j=1 0\n",
      "i,j=1 1\n",
      "i,j=2 0\n",
      "i,j=2 1\n",
      "i,j=2 2\n"
     ]
    }
   ],
   "source": [
    "!javac LabeledBreakContinue.java\n",
    "!java LabeledBreakContinue"
   ]
  },
  {
   "cell_type": "markdown",
   "metadata": {},
   "source": [
    "### 20. Homework: output a triangle and its mirrored one"
   ]
  },
  {
   "cell_type": "code",
   "execution_count": 77,
   "metadata": {
    "collapsed": false
   },
   "outputs": [
    {
     "name": "stdout",
     "output_type": "stream",
     "text": [
      "Overwriting TriangleAndItsMirror.java\n"
     ]
    }
   ],
   "source": [
    "%%file TriangleAndItsMirror.java\n",
    "\n",
    "import java.io.*;\n",
    "//import java.lang.*;\n",
    "\n",
    "public class TriangleAndItsMirror{\n",
    "    public static void main(String[] args) throws IOException{\n",
    "        int i,j;\n",
    "        \n",
    "        for(i=0;i<10;i++){\n",
    "            for(j=0;j<=i;j++){\n",
    "                System.out.print(\"*\");\n",
    "            }\n",
    "            System.out.println();\n",
    "        }\n",
    "        System.out.println();\n",
    "        for(i=0;i<10;i++){\n",
    "            for(j=0;j<10-i;j++){\n",
    "                System.out.print(\"*\");\n",
    "            }\n",
    "            System.out.println();\n",
    "        }\n",
    "\n",
    "    }\n",
    "}"
   ]
  },
  {
   "cell_type": "code",
   "execution_count": 78,
   "metadata": {
    "collapsed": false
   },
   "outputs": [
    {
     "name": "stdout",
     "output_type": "stream",
     "text": [
      "*\n",
      "**\n",
      "***\n",
      "****\n",
      "*****\n",
      "******\n",
      "*******\n",
      "********\n",
      "*********\n",
      "**********\n",
      "\n",
      "**********\n",
      "*********\n",
      "********\n",
      "*******\n",
      "******\n",
      "*****\n",
      "****\n",
      "***\n",
      "**\n",
      "*\n"
     ]
    }
   ],
   "source": [
    "!javac TriangleAndItsMirror.java\n",
    "!java TriangleAndItsMirror"
   ]
  },
  {
   "cell_type": "markdown",
   "metadata": {},
   "source": [
    "### 21. Homework: recursive function (the Fibonacci series)"
   ]
  },
  {
   "cell_type": "code",
   "execution_count": 4,
   "metadata": {
    "collapsed": false
   },
   "outputs": [
    {
     "name": "stdout",
     "output_type": "stream",
     "text": [
      "Overwriting RecursiveFuncTest.java\n"
     ]
    }
   ],
   "source": [
    "%%file RecursiveFuncTest.java\n",
    "\n",
    "public class RecursiveFuncTest{\n",
    "\n",
    "    public static void main(String[] arg) {\n",
    "        int j;\n",
    "        for(j=0;j<10;j++){\n",
    "            System.out.println(Fibonacci(j));\n",
    "        }\n",
    "        //System.out.println(Fibonacci(4));\n",
    "    }\n",
    "    \n",
    "    public static int Fibonacci(int i){\n",
    "        if(i==0){return 0;}\n",
    "            else if(i==1){return 1;}\n",
    "                else{return Fibonacci(i-2)+Fibonacci(i-1);}\n",
    "    }\n",
    "}"
   ]
  },
  {
   "cell_type": "code",
   "execution_count": 5,
   "metadata": {
    "collapsed": false
   },
   "outputs": [
    {
     "name": "stdout",
     "output_type": "stream",
     "text": [
      "0\n",
      "1\n",
      "1\n",
      "2\n",
      "3\n",
      "5\n",
      "8\n",
      "13\n",
      "21\n",
      "34\n"
     ]
    }
   ],
   "source": [
    "!javac RecursiveFuncTest.java\n",
    "!java RecursiveFuncTest"
   ]
  },
  {
   "cell_type": "markdown",
   "metadata": {},
   "source": [
    "# Day4; 26.09.2016; Taipeh"
   ]
  },
  {
   "cell_type": "markdown",
   "metadata": {},
   "source": [
    "### e.g.3  what's going to happen if a \"variable\" is \"static\"  (Java 7 book written by 洪維恩)"
   ]
  },
  {
   "cell_type": "code",
   "execution_count": 80,
   "metadata": {
    "collapsed": false
   },
   "outputs": [
    {
     "name": "stdout",
     "output_type": "stream",
     "text": [
      "Overwriting StaticVariable.java\n"
     ]
    }
   ],
   "source": [
    "%%file StaticVariable.java\n",
    "\n",
    "class CCircle\n",
    "{\n",
    "   private static int count=0;\n",
    "   private static double pi=3.14;\n",
    "   private double radius;\n",
    "\n",
    "   public CCircle()\n",
    "   {\n",
    "      this(1.0);             // in my point of view, this is a bit tricky.\n",
    "   }\n",
    "   public CCircle(double r)\n",
    "   {\n",
    "      radius=r;\n",
    "      count ++;\n",
    "   }\n",
    "   public void show()\n",
    "   {\n",
    "      System.out.println(\"radius=\"+radius);\n",
    "      //System.out.println(\"area=\"+pi*radius*radius);\n",
    "   }\n",
    "   public void show_count()\n",
    "   {\n",
    "      System.out.println(count+\" object(s) created\");\n",
    "   }\n",
    "}\n",
    "public class StaticVariable\n",
    "{\n",
    "   public static void main(String args[])\n",
    "   {\n",
    "      CCircle cir1=new CCircle();\n",
    "      cir1.show_count();\n",
    "      cir1.show();\n",
    "\n",
    "      CCircle cir2=new CCircle(2.0);\n",
    "      CCircle cir3=new CCircle(4.3);\n",
    "\n",
    "      cir1.show_count();\n",
    "      cir1.show();\n",
    "      cir2.show_count();\n",
    "      cir2.show();\n",
    "      cir3.show_count();\n",
    "      cir3.show();\n",
    "\n",
    "   }\n",
    "}"
   ]
  },
  {
   "cell_type": "code",
   "execution_count": 81,
   "metadata": {
    "collapsed": false
   },
   "outputs": [
    {
     "name": "stdout",
     "output_type": "stream",
     "text": [
      "1 object(s) created\r\n",
      "radius=1.0\r\n",
      "3 object(s) created\r\n",
      "radius=1.0\r\n",
      "3 object(s) created\r\n",
      "radius=2.0\r\n",
      "3 object(s) created\r\n",
      "radius=4.3\r\n"
     ]
    }
   ],
   "source": [
    "!javac StaticVariable.java\n",
    "!java StaticVariable"
   ]
  },
  {
   "cell_type": "markdown",
   "metadata": {},
   "source": [
    "#### i.e. a static attribute in a class is stored at a fixed address of the memory and shared by all objects of the class."
   ]
  },
  {
   "cell_type": "markdown",
   "metadata": {},
   "source": [
    "### e.g.4  what's going to happen if a \"function\" is \"static\"  (Java 7 book written by 洪維恩)"
   ]
  },
  {
   "cell_type": "code",
   "execution_count": 84,
   "metadata": {
    "collapsed": false
   },
   "outputs": [
    {
     "name": "stdout",
     "output_type": "stream",
     "text": [
      "Overwriting StaticFunction.java\n"
     ]
    }
   ],
   "source": [
    "%%file StaticFunction.java\n",
    "class CCircle\n",
    "{\n",
    "   private static int count=0;\n",
    "   private static double pi=3.14;\n",
    "   private double radius;\n",
    "\n",
    "   public CCircle()\n",
    "   {\n",
    "      this(1.0);\n",
    "   }\n",
    "   public CCircle(double r)\n",
    "   {\n",
    "      radius=r;\n",
    "      count++;\n",
    "   }\n",
    "   public void show()\n",
    "   {\n",
    "      System.out.println(\"area=\"+pi*radius*radius);\n",
    "   }\n",
    "   public static void show_count()\n",
    "   {\n",
    "      System.out.println(count+\" object(s) created\");\n",
    "   }\n",
    "}\n",
    "public class StaticFunction\n",
    "{\n",
    "   public static void main(String args[])\n",
    "   {\n",
    "      CCircle.show_count();\n",
    "      CCircle cir1=new CCircle();\n",
    "      CCircle.show_count();\n",
    "      CCircle cir2=new CCircle(2.0);\n",
    "      CCircle cir3=new CCircle(4.3);\n",
    "      cir3.show_count();\n",
    "   }\n",
    "}"
   ]
  },
  {
   "cell_type": "code",
   "execution_count": 85,
   "metadata": {
    "collapsed": false
   },
   "outputs": [
    {
     "name": "stdout",
     "output_type": "stream",
     "text": [
      "0 object(s) created\r\n",
      "1 object(s) created\r\n",
      "3 object(s) created\r\n"
     ]
    }
   ],
   "source": [
    "!javac StaticFunction.java\n",
    "!java StaticFunction"
   ]
  },
  {
   "cell_type": "markdown",
   "metadata": {
    "collapsed": true
   },
   "source": [
    "#### i.e. a static method can be called without passing an instance to it."
   ]
  },
  {
   "cell_type": "markdown",
   "metadata": {},
   "source": [
    "### e.g.5 what happens if Object1=Object2?  (Java 7 book written by 洪維恩)"
   ]
  },
  {
   "cell_type": "code",
   "execution_count": 88,
   "metadata": {
    "collapsed": false
   },
   "outputs": [
    {
     "name": "stdout",
     "output_type": "stream",
     "text": [
      "Overwriting ObjEqual.java\n"
     ]
    }
   ],
   "source": [
    "%%file ObjEqual.java\n",
    "class CCircle\n",
    "{\n",
    "   private static double pi=3.14;\n",
    "   private double radius;\n",
    "\n",
    "   public CCircle(double r)\n",
    "   {\n",
    "      radius=r;\n",
    "   }\n",
    "   public void setRadius(double r)\n",
    "   {\n",
    "      radius=r;\n",
    "   }\n",
    "   public void show()\n",
    "   {\n",
    "      System.out.println(\"area=\"+pi*radius*radius);\n",
    "   }\n",
    "}\n",
    "public class ObjEqual\n",
    "{\n",
    "   public static void main(String args[])\n",
    "   {\n",
    "      CCircle cir1,cir2;\n",
    "      cir1=new CCircle(1.0);\n",
    "      cir1.show();\n",
    "\n",
    "      cir2=cir1;\n",
    "      cir2.setRadius(2.0);\n",
    "      cir1.show();\n",
    "   }\n",
    "}"
   ]
  },
  {
   "cell_type": "code",
   "execution_count": 89,
   "metadata": {
    "collapsed": false
   },
   "outputs": [
    {
     "name": "stdout",
     "output_type": "stream",
     "text": [
      "area=3.14\r\n",
      "area=12.56\r\n"
     ]
    }
   ],
   "source": [
    "!javac ObjEqual.java\n",
    "!java ObjEqual"
   ]
  },
  {
   "cell_type": "markdown",
   "metadata": {},
   "source": [
    "if things of obj1 is varied, so does obj2 since they are equivalent."
   ]
  },
  {
   "cell_type": "markdown",
   "metadata": {},
   "source": [
    "### 22. Let's see if I understand \"private\" or \"public\":"
   ]
  },
  {
   "cell_type": "code",
   "execution_count": 64,
   "metadata": {
    "collapsed": false
   },
   "outputs": [
    {
     "name": "stdout",
     "output_type": "stream",
     "text": [
      "Writing testPrivate.java\n"
     ]
    }
   ],
   "source": [
    "%%file testPrivate.java\n",
    "private class Circle\n",
    "{\n",
    "    public static double pi=3.14;\n",
    "\n",
    "}\n",
    "public class testPrivate\n",
    "{\n",
    "    public static void main(String args[])\n",
    "    {\n",
    "        System.out.println(Circle.pi);\n",
    "    }\n",
    "}"
   ]
  },
  {
   "cell_type": "code",
   "execution_count": 65,
   "metadata": {
    "collapsed": false
   },
   "outputs": [
    {
     "name": "stdout",
     "output_type": "stream",
     "text": [
      "testPrivate.java:1: error: modifier private not allowed here\n",
      "private class Circle\n",
      "        ^\n",
      "1 error\n",
      "Fehler: Hauptklasse testPrivate konnte nicht gefunden oder geladen werden\n"
     ]
    }
   ],
   "source": [
    "!javac testPrivate.java\n",
    "!java testPrivate"
   ]
  },
  {
   "cell_type": "markdown",
   "metadata": {},
   "source": [
    "Q: how to import/create a package?\n",
    "\n",
    "Later, I'll learn how to import packages. This should be easy.\n",
    "\n",
    "Q: whether one can make a class \"private\"?\n",
    "\n",
    "In Java, the outest class that contains the main function must be declaired as \"public\". Indeed, if an outest class is private, it cannot communicate with other classes. In this case, OOP is useless... Also, if some outest class (which does not contain the main function) is declared as private, it would be useless because other classes (including the class that covers the main function) will not be able to use it. Hence, I think this is the reason why there's no \"private class\" in Java."
   ]
  },
  {
   "cell_type": "markdown",
   "metadata": {},
   "source": [
    "#### In Java there are private/public methods or attributes within a class. Whether methods/attributes in one class can be called from the other classes see the following rule:"
   ]
  },
  {
   "cell_type": "code",
   "execution_count": 63,
   "metadata": {
    "collapsed": false
   },
   "outputs": [
    {
     "data": {
      "image/jpeg": "[encoded data removed]",
      "text/plain": [
       "<IPython.core.display.Image object>"
      ]
     },
     "execution_count": 63,
     "metadata": {},
     "output_type": "execute_result"
    }
   ],
   "source": [
    "Image(\"Javabook.jpg\")"
   ]
  },
  {
   "cell_type": "markdown",
   "metadata": {},
   "source": [
    "Now, say, we have a private attribute in the class \"Circle\" and we'd like to call it from the class \"testPRivate\":"
   ]
  },
  {
   "cell_type": "code",
   "execution_count": 66,
   "metadata": {
    "collapsed": false
   },
   "outputs": [
    {
     "name": "stdout",
     "output_type": "stream",
     "text": [
      "Overwriting testPrivate.java\n"
     ]
    }
   ],
   "source": [
    "%%file testPrivate.java\n",
    "class Circle\n",
    "{\n",
    "    private static double pi=3.14;\n",
    "\n",
    "}\n",
    "public class testPrivate\n",
    "{\n",
    "    public static void main(String args[])\n",
    "    {   Circle.pi=123;\n",
    "        System.out.println(Circle.pi);\n",
    "    }\n",
    "}"
   ]
  },
  {
   "cell_type": "code",
   "execution_count": 67,
   "metadata": {
    "collapsed": false
   },
   "outputs": [
    {
     "name": "stdout",
     "output_type": "stream",
     "text": [
      "testPrivate.java:9: error: pi has private access in Circle\n",
      "    {   Circle.pi=123;\n",
      "              ^\n",
      "testPrivate.java:10: error: pi has private access in Circle\n",
      "        System.out.println(Circle.pi);\n",
      "                                 ^\n",
      "2 errors\n",
      "Fehler: Hauptklasse testPrivate konnte nicht gefunden oder geladen werden\n"
     ]
    }
   ],
   "source": [
    "!javac testPrivate.java\n",
    "!java testPrivate"
   ]
  },
  {
   "cell_type": "markdown",
   "metadata": {},
   "source": [
    "#### This can be fixed by changing the modifier of the attribute \"pi\" to private, as the following:"
   ]
  },
  {
   "cell_type": "code",
   "execution_count": 70,
   "metadata": {
    "collapsed": false
   },
   "outputs": [
    {
     "name": "stdout",
     "output_type": "stream",
     "text": [
      "Overwriting testPrivate.java\n"
     ]
    }
   ],
   "source": [
    "%%file testPrivate.java\n",
    "class Circle\n",
    "{\n",
    "    public static double pi=3.14;\n",
    "\n",
    "}\n",
    "public class testPrivate\n",
    "{\n",
    "    public static void main(String args[])\n",
    "    {   Circle.pi=123;\n",
    "        System.out.println(Circle.pi);\n",
    "    }\n",
    "}"
   ]
  },
  {
   "cell_type": "code",
   "execution_count": 71,
   "metadata": {
    "collapsed": false
   },
   "outputs": [
    {
     "name": "stdout",
     "output_type": "stream",
     "text": [
      "123.0\r\n"
     ]
    }
   ],
   "source": [
    "!javac testPrivate.java\n",
    "!java testPrivate"
   ]
  },
  {
   "cell_type": "markdown",
   "metadata": {},
   "source": [
    "### e.g.6 this is an interesting example using \"this.xxx\" ( it also shows that an object can be inputed to a function)  (Java 7 book written by 洪維恩)"
   ]
  },
  {
   "cell_type": "code",
   "execution_count": 54,
   "metadata": {
    "collapsed": false
   },
   "outputs": [
    {
     "name": "stdout",
     "output_type": "stream",
     "text": [
      "Overwriting ExampleUsingThis.java\n"
     ]
    }
   ],
   "source": [
    "%%file ExampleUsingThis.java\n",
    "class CCircle\n",
    "{\n",
    "   private static double pi=3.14;\n",
    "   private double radius;\n",
    "\n",
    "   public CCircle(double r)      // A constructor may need inputs. However, since it is just an initializer, \n",
    "   {                             // it does not have to return anything! \n",
    "      radius=r;                  // Therefore, we don't have to add \"void\" to a constructor!\n",
    "   }\n",
    "   public void compare(CCircle cir)\n",
    "   {\n",
    "      if(this.radius==cir.radius)\n",
    "         System.out.println(\"radius are equal\");\n",
    "      else\n",
    "         System.out.println(\"radius are not equal\");\n",
    "   }\n",
    "}\n",
    "public class ExampleUsingThis\n",
    "{\n",
    "   public static void main(String args[])\n",
    "   {\n",
    "      CCircle cir1=new CCircle(1.0);\n",
    "      CCircle cir2=new CCircle(1.0);\n",
    "      cir1.compare(cir2);\n",
    "\n",
    "      CCircle cir3=new CCircle(1.0);\n",
    "      CCircle cir4=new CCircle(1.1);\n",
    "      cir3.compare(cir4);\n",
    "   }\n",
    "}"
   ]
  },
  {
   "cell_type": "code",
   "execution_count": 55,
   "metadata": {
    "collapsed": false
   },
   "outputs": [
    {
     "name": "stdout",
     "output_type": "stream",
     "text": [
      "radius are equal\n",
      "radius are not equal\n"
     ]
    }
   ],
   "source": [
    "!javac ExampleUsingThis.java\n",
    "!java ExampleUsingThis"
   ]
  },
  {
   "cell_type": "markdown",
   "metadata": {},
   "source": [
    "#### e.g.7 an object can be returned by a function!  (Java 7 book written by 洪維恩)"
   ]
  },
  {
   "cell_type": "code",
   "execution_count": 61,
   "metadata": {
    "collapsed": false
   },
   "outputs": [
    {
     "name": "stdout",
     "output_type": "stream",
     "text": [
      "Overwriting ReturnObj.java\n"
     ]
    }
   ],
   "source": [
    "%%file ReturnObj.java\n",
    "class CCircle\n",
    "{\n",
    "   private static double pi=3.14;\n",
    "   private double radius;\n",
    "\n",
    "   public CCircle(double r)\n",
    "   {\n",
    "      radius=r;\n",
    "   }\n",
    "   public void compare(CCircle cir)\n",
    "   {\n",
    "      if(this.radius==cir.radius)\n",
    "         System.out.println(\"radius are equal\");\n",
    "      else\n",
    "         System.out.println(\"radius are not equal\");\n",
    "   }\n",
    "}\n",
    "public class ReturnObj\n",
    "{\n",
    "   public static void main(String args[])\n",
    "   {\n",
    "      CCircle cir1=new CCircle(1.0);\n",
    "      CCircle cir2=new CCircle(2.0);\n",
    "      cir1.compare(cir2);\n",
    "   }\n",
    "}"
   ]
  },
  {
   "cell_type": "code",
   "execution_count": 62,
   "metadata": {
    "collapsed": false
   },
   "outputs": [
    {
     "name": "stdout",
     "output_type": "stream",
     "text": [
      "radius are not equal\n"
     ]
    }
   ],
   "source": [
    "!javac ReturnObj.java\n",
    "!java ReturnObj"
   ]
  },
  {
   "cell_type": "markdown",
   "metadata": {},
   "source": [
    "#### e.g.8 the use of nested classes.  (Java 7 book written by 洪維恩)"
   ]
  },
  {
   "cell_type": "code",
   "execution_count": 76,
   "metadata": {
    "collapsed": false
   },
   "outputs": [
    {
     "name": "stdout",
     "output_type": "stream",
     "text": [
      "Overwriting NestedClass.java\n"
     ]
    }
   ],
   "source": [
    "%%file NestedClass.java\n",
    "public class NestedClass\n",
    "{\n",
    "   public static void main(String args[])\n",
    "   {\n",
    "      //Caaa aa= new Caaa();\n",
    "      //aa.set_num(5);\n",
    "      Caaa.set_num(5);\n",
    "   }\n",
    "\n",
    "   class Caaa\n",
    "   {\n",
    "      static int num;\n",
    "      static void set_num(int n)\n",
    "      {\n",
    "         num=n;\n",
    "         System.out.println(\"num= \"+ num);\n",
    "      }\n",
    "   }\n",
    "}"
   ]
  },
  {
   "cell_type": "code",
   "execution_count": 77,
   "metadata": {
    "collapsed": false
   },
   "outputs": [
    {
     "name": "stderr",
     "output_type": "stream",
     "text": [
      "NestedClass.java:12: error: Illegal static declaration in inner class NestedClass.Caaa\n",
      "      static int num;\n",
      "                 ^\n",
      "  modifier 'static' is only allowed in constant variable declarations\n",
      "NestedClass.java:13: error: Illegal static declaration in inner class NestedClass.Caaa\n",
      "      static void set_num(int n)\n",
      "                  ^\n",
      "  modifier 'static' is only allowed in constant variable declarations\n",
      "2 errors\n"
     ]
    },
    {
     "name": "stdout",
     "output_type": "stream",
     "text": [
      "num= 5\n"
     ]
    }
   ],
   "source": [
    "!javac NestedClass.java\n",
    "!java NestedClass"
   ]
  },
  {
   "cell_type": "markdown",
   "metadata": {},
   "source": [
    "Well, let's come back later. I'll learn the structures of the nested classes better."
   ]
  }
 ],
 "metadata": {
  "anaconda-cloud": {},
  "kernelspec": {
   "display_name": "Python 2",
   "language": "python",
   "name": "python2"
  },
  "language_info": {
   "codemirror_mode": {
    "name": "ipython",
    "version": 2
   },
   "file_extension": ".py",
   "mimetype": "text/x-python",
   "name": "python",
   "nbconvert_exporter": "python",
   "pygments_lexer": "ipython2",
   "version": "2.7.12"
  }
 },
 "nbformat": 4,
 "nbformat_minor": 0
}
