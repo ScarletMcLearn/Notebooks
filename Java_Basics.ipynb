{
 "cells": [
  {
   "cell_type": "code",
   "execution_count": 2,
   "metadata": {
    "collapsed": true
   },
   "outputs": [],
   "source": [
    "import numpy as np\n",
    "import os\n",
    "import matplotlib.pyplot as plt\n",
    "from IPython.display import Image\n",
    "%matplotlib inline"
   ]
  },
  {
   "cell_type": "markdown",
   "metadata": {},
   "source": [
    "Let's see if the Python classes are loaded properly."
   ]
  },
  {
   "cell_type": "code",
   "execution_count": 6,
   "metadata": {
    "collapsed": false
   },
   "outputs": [
    {
     "data": {
      "text/plain": [
       "'/Users/chweng/Desktop/notebooks'"
      ]
     },
     "execution_count": 6,
     "metadata": {},
     "output_type": "execute_result"
    },
    {
     "data": {
      "image/png": "[encoded data removed]",
      "text/plain": [
       "<matplotlib.figure.Figure at 0x1071c8410>"
      ]
     },
     "metadata": {},
     "output_type": "display_data"
    }
   ],
   "source": [
    "x=np.linspace(0.,2.*np.pi,100) # test numpy\n",
    "f=np.sin(x)                    # test numpy\n",
    "plt.plot(x,f)                  # test matplotlib\n",
    "plt.xlim(0.,2.*np.pi)\n",
    "os.getcwd()                    # test os"
   ]
  },
  {
   "cell_type": "markdown",
   "metadata": {},
   "source": [
    "Now, things are fine. Let's continue.\n",
    "\n",
    "## My goal in this notebook is to learn some basics of Java."
   ]
  },
  {
   "cell_type": "markdown",
   "metadata": {},
   "source": [
    "------"
   ]
  },
  {
   "cell_type": "markdown",
   "metadata": {},
   "source": [
    "# Day1; 21.09.2016; Taipeh"
   ]
  },
  {
   "cell_type": "markdown",
   "metadata": {},
   "source": [
    "### 1. \"Hello Word\" & learn how to write \"for\" and \"if\""
   ]
  },
  {
   "cell_type": "code",
   "execution_count": 31,
   "metadata": {
    "collapsed": false
   },
   "outputs": [
    {
     "name": "stdout",
     "output_type": "stream",
     "text": [
      "Overwriting HalloWelt.java\n"
     ]
    }
   ],
   "source": [
    "%%file HalloWelt.java\n",
    "\n",
    "public class HalloWelt {\n",
    "    public static void main(String[] arg) {\n",
    "        int i;\n",
    "        for(i=1;i<6;i++){\n",
    "            if(i==3||i==4){continue;};\n",
    "            System.out.println(\"i=\"+i);\n",
    "            System.out.printf(\"%d Hallo, Welt!\\n\",i);\n",
    "        }\n",
    "    }\n",
    "}"
   ]
  },
  {
   "cell_type": "code",
   "execution_count": 32,
   "metadata": {
    "collapsed": false
   },
   "outputs": [
    {
     "name": "stdout",
     "output_type": "stream",
     "text": [
      "i=1\n",
      "1 Hallo, Welt!\n",
      "i=2\n",
      "2 Hallo, Welt!\n",
      "i=5\n",
      "5 Hallo, Welt!\n"
     ]
    }
   ],
   "source": [
    "!javac HalloWelt.java\n",
    "!java HalloWelt"
   ]
  },
  {
   "cell_type": "markdown",
   "metadata": {},
   "source": [
    "### 2. see how to define different types of variables:"
   ]
  },
  {
   "cell_type": "code",
   "execution_count": 95,
   "metadata": {
    "collapsed": false
   },
   "outputs": [
    {
     "name": "stdout",
     "output_type": "stream",
     "text": [
      "Overwriting TestVariableTypes.java\n"
     ]
    }
   ],
   "source": [
    "%%file TestVariableTypes.java\n",
    "\n",
    "//package tw.chweng.myproject.common;\n",
    "\n",
    "public class TestVariableTypes {\n",
    "    \n",
    "    public static void main(String arg[]) {\n",
    "\n",
    "        int i;\n",
    "        long j=10000000000L;\n",
    "        char LowercasePhi='\\u03A6';\n",
    "        float BigVal=1.E16f;                          // kind of wanting to test the limit of float.\n",
    "        double BigVal2=3.14159261234567861111E17d;    // kind of wanting to test the limit of double.\n",
    "        \n",
    "        System.out.println(\"j=\"+j);\n",
    "        System.out.println(\"phi=\"+LowercasePhi);\n",
    "        System.out.println(\"BigVal=\"+BigVal);\n",
    "        System.out.println(\"BigVal2=\"+BigVal2);\n",
    "    }\n",
    "}"
   ]
  },
  {
   "cell_type": "code",
   "execution_count": 96,
   "metadata": {
    "collapsed": false
   },
   "outputs": [
    {
     "name": "stdout",
     "output_type": "stream",
     "text": [
      "j=10000000000\r\n",
      "phi=Φ\r\n",
      "BigVal=1.00000003E16\r\n",
      "BigVal2=3.1415926123456787E17\r\n"
     ]
    }
   ],
   "source": [
    "!javac TestVariableTypes.java\n",
    "!java TestVariableTypes"
   ]
  },
  {
   "cell_type": "markdown",
   "metadata": {},
   "source": [
    "#### Question: what are meanings of \"static\", \"void\" and \"main\"?"
   ]
  },
  {
   "cell_type": "markdown",
   "metadata": {},
   "source": [
    "\"main()\" is a method of the class.\n",
    "\n",
    "\"static\" is a special [optional] keyword that indicates that this method can be called without creating an instance of this class.\n",
    "\n",
    "\"void\" means that this method returns nothing.\n",
    "\n",
    "\"public\" means that this method can be called from anywhere else. Say, if this function has the modifier \"private\", then, this function can be used only within the class that it belongs to.\n",
    "\n",
    "\"String  arg[]\": in Java arg contains the supplied command-line arguments as an array. See the example below (from stackoverflow)."
   ]
  },
  {
   "cell_type": "markdown",
   "metadata": {},
   "source": [
    "### e.g.1"
   ]
  },
  {
   "cell_type": "code",
   "execution_count": 56,
   "metadata": {
    "collapsed": false
   },
   "outputs": [
    {
     "name": "stdout",
     "output_type": "stream",
     "text": [
      "Overwriting ArgumentExample.java\n"
     ]
    }
   ],
   "source": [
    "%%file ArgumentExample.java\n",
    "\n",
    "public class ArgumentExample {\n",
    "    public static void main(String[] args) {\n",
    "        for(int i = 0; i < args.length; i++) {\n",
    "            System.out.printf(args[i]+\"\\t\");\n",
    "        }\n",
    "    }\n",
    "}"
   ]
  },
  {
   "cell_type": "code",
   "execution_count": 57,
   "metadata": {
    "collapsed": false
   },
   "outputs": [
    {
     "name": "stdout",
     "output_type": "stream",
     "text": [
      "one\ttwo\tthree\t1\t2\t3\t"
     ]
    }
   ],
   "source": [
    "!javac ArgumentExample.java\n",
    "!java ArgumentExample one two three 1 2 3"
   ]
  },
  {
   "cell_type": "markdown",
   "metadata": {},
   "source": [
    "### 3. Construct an array"
   ]
  },
  {
   "cell_type": "code",
   "execution_count": 101,
   "metadata": {
    "collapsed": false
   },
   "outputs": [
    {
     "name": "stdout",
     "output_type": "stream",
     "text": [
      "Overwriting AnArray.java\n"
     ]
    }
   ],
   "source": [
    "%%file AnArray.java\n",
    "\n",
    "import java.util.Arrays;  /* this is necessary because \n",
    "                             we'd like to use the utility which will turn \n",
    "                             an int array into a string, which is easier to output.' */\n",
    "\n",
    "public class AnArray {\n",
    "    public static void main(String[] args) {\n",
    "        int linspace[];\n",
    "        linspace=new int[10];\n",
    "        for(int i = 0; i < linspace.length; i++) {\n",
    "            linspace[i]=i;\n",
    "        }\n",
    "        System.out.println(\"the length of the array=\"+linspace.length); \n",
    "        System.out.println(\"array=\"+Arrays.toString(linspace)); \n",
    "    }\n",
    "}"
   ]
  },
  {
   "cell_type": "code",
   "execution_count": 102,
   "metadata": {
    "collapsed": false
   },
   "outputs": [
    {
     "name": "stdout",
     "output_type": "stream",
     "text": [
      "the length of the array=10\r\n",
      "array=[0, 1, 2, 3, 4, 5, 6, 7, 8, 9]\r\n"
     ]
    }
   ],
   "source": [
    "!javac AnArray.java\n",
    "!java AnArray"
   ]
  },
  {
   "cell_type": "markdown",
   "metadata": {},
   "source": [
    "Remark: the int array \"linspace\" is an object!"
   ]
  },
  {
   "cell_type": "markdown",
   "metadata": {},
   "source": [
    "### e.g.2 An OO example from the Java 7 book written by 洪維恩."
   ]
  },
  {
   "cell_type": "code",
   "execution_count": 109,
   "metadata": {
    "collapsed": false
   },
   "outputs": [
    {
     "name": "stdout",
     "output_type": "stream",
     "text": [
      "Overwriting app8_3.java\n"
     ]
    }
   ],
   "source": [
    "%%file app8_3.java\n",
    "\n",
    "class CRectangle\n",
    "{\n",
    "   int width;\n",
    "   int height;\n",
    "   int area()\n",
    "   {\n",
    "      return width*height;\n",
    "   }\n",
    "\n",
    "   int perimeter()\n",
    "   {\n",
    "      return 2*(width+height);\n",
    "   }\n",
    "}\n",
    "\n",
    "public class app8_3\n",
    "{\n",
    "   public static void main(String args[])\n",
    "   {\n",
    "      CRectangle rect1;           //必須先宣告他，我覺得挺麻煩。\n",
    "      rect1=new CRectangle();\n",
    "\n",
    "      rect1.width=20;\n",
    "      rect1.height=15;\n",
    "\n",
    "      System.out.println(\"area=\"+rect1.area());\n",
    "      System.out.println(\"perimeter=\"+rect1.perimeter());\n",
    "   }\n",
    "}\n",
    "\n",
    "/* app8_3 OUTPUT---\n",
    "area=300\n",
    "perimeter=70\n",
    "-----------------*/"
   ]
  },
  {
   "cell_type": "code",
   "execution_count": 106,
   "metadata": {
    "collapsed": false
   },
   "outputs": [
    {
     "name": "stdout",
     "output_type": "stream",
     "text": [
      "area=300\r\n",
      "perimeter=70\r\n"
     ]
    }
   ],
   "source": [
    "!javac app8_3.java\n",
    "!java app8_3"
   ]
  },
  {
   "cell_type": "markdown",
   "metadata": {
    "collapsed": true
   },
   "source": [
    "# Day2; 22.09.2016; Taipeh"
   ]
  },
  {
   "cell_type": "markdown",
   "metadata": {},
   "source": [
    "### 4. Concepts of ++i and i++ & test the use of a function"
   ]
  },
  {
   "cell_type": "code",
   "execution_count": 1,
   "metadata": {
    "collapsed": false
   },
   "outputs": [
    {
     "name": "stdout",
     "output_type": "stream",
     "text": [
      "Writing TestOperation.java\n"
     ]
    }
   ],
   "source": [
    "%%file TestOperation.java\n",
    "\n",
    "public class TestOperation{\n",
    "\n",
    "    public static void main(String[] arg) {\n",
    "    int output[];\n",
    "    output=Operation(1,2);\n",
    "        System.out.println(\"i,j,k=\"+output[0]+\" \"+output[1]+\" \"+output[2]);\n",
    "    }\n",
    "    \n",
    "    public static int[] Operation(int i, int j){\n",
    "        int k;\n",
    "        k=(i++)+(++j);\n",
    "        System.out.println(\"i=\"+i);\n",
    "        System.out.println(\"j=\"+j);\n",
    "        System.out.println(\"j=\"+k);\n",
    "\n",
    "        int arr[]={i,j,k};\n",
    "        System.out.println(\"i,j,k=\"+arr[0]+\" \"+arr[1]+\" \"+arr[2]);\n",
    "        return arr;   \n",
    "    }\n",
    "}"
   ]
  },
  {
   "cell_type": "code",
   "execution_count": 2,
   "metadata": {
    "collapsed": false
   },
   "outputs": [
    {
     "name": "stdout",
     "output_type": "stream",
     "text": [
      "i=2\r\n",
      "j=3\r\n",
      "j=4\r\n",
      "i,j,k=2 3 4\r\n",
      "i,j,k=2 3 4\r\n"
     ]
    }
   ],
   "source": [
    "!javac TestOperation.java\n",
    "!java TestOperation"
   ]
  },
  {
   "cell_type": "markdown",
   "metadata": {},
   "source": [
    "### 5. Logical operations"
   ]
  },
  {
   "cell_type": "code",
   "execution_count": 7,
   "metadata": {
    "collapsed": false
   },
   "outputs": [
    {
     "name": "stdout",
     "output_type": "stream",
     "text": [
      "Writing LogicalOp.java\n"
     ]
    }
   ],
   "source": [
    "%%file LogicalOp.java\n",
    "\n",
    "public class LogicalOp {\n",
    "\n",
    "    public static void main(String[] args) {\n",
    "        \n",
    "        System.out.println(\"Let's test the use of ~, &,| and ^:\\n\");\n",
    "        int i=2,j=3;\n",
    "        System.out.println(~i+1);\n",
    "        System.out.println(i&j);\n",
    "        System.out.println(i|j);\n",
    "        System.out.println(i^j);\n",
    "        \n",
    "        System.out.println(\"Let's test the use of << and >>:\\n\");\n",
    "        int k=1234,l=2;\n",
    "        for(j=0;j<2;j++){\n",
    "            if(j==1){k=-k;};\n",
    "            System.out.println(k>>l);\n",
    "            System.out.println(k/4);\n",
    "            System.out.println(k<<l);\n",
    "            System.out.println(k*4);\n",
    "            System.out.println();\n",
    "            System.out.println(k>>>l);\n",
    "            //System.out.println(k<<<l);\n",
    "        }\n",
    "    }\n",
    "\n",
    "}"
   ]
  },
  {
   "cell_type": "code",
   "execution_count": 8,
   "metadata": {
    "collapsed": false
   },
   "outputs": [
    {
     "name": "stdout",
     "output_type": "stream",
     "text": [
      "Let's test the use of ~, &,| and ^:\r\n",
      "\r\n",
      "-2\r\n",
      "2\r\n",
      "3\r\n",
      "1\r\n",
      "Let's test the use of << and >>:\r\n",
      "\r\n",
      "308\r\n",
      "308\r\n",
      "4936\r\n",
      "4936\r\n",
      "\r\n",
      "308\r\n",
      "-309\r\n",
      "-308\r\n",
      "-4936\r\n",
      "-4936\r\n",
      "\r\n",
      "1073741515\r\n"
     ]
    }
   ],
   "source": [
    "!javac LogicalOp.java\n",
    "!java LogicalOp"
   ]
  },
  {
   "cell_type": "markdown",
   "metadata": {},
   "source": [
    "### Remark:"
   ]
  },
  {
   "cell_type": "markdown",
   "metadata": {},
   "source": [
    "A table of basic logic operations:"
   ]
  },
  {
   "cell_type": "code",
   "execution_count": 9,
   "metadata": {
    "collapsed": false
   },
   "outputs": [
    {
     "data": {
      "image/png": "[encoded data removed]",
      "text/plain": [
       "<IPython.core.display.Image object>"
      ]
     },
     "execution_count": 9,
     "metadata": {},
     "output_type": "execute_result"
    }
   ],
   "source": [
    "Image(filename='bitwiseop.png')"
   ]
  },
  {
   "cell_type": "markdown",
   "metadata": {},
   "source": [
    "another logic operation is NOT. Say, a=$00011000$; then, NOT(~) a would be ~$a=11100111$, i.e. what NOT does is to flip every bits. Now, here comes the point. What is ~$a=11100111$ in the decimal representation? \n",
    "\n",
    "Suppose a number is in a 8-bits binary representation. Excluding the first bit which controlls the sign, we have another 7 bits available, which can represent $2^7=128$ numbers. This (together with the plus or minus sign) means that in total we can represent $256$ numbers.  Thus, if we use one byte to store an integer, we can represent an integer if that integer is within $-128,-127,...,0,1,2,....,127$ (numbers are represented in decimal). Now, I think, a mapping was defined in order to represent a negative number. That is to say, a negative number is obtained by mapping $127,126,....,1,0$ to $-128,-127,...,-2,-1$. This is done by flipping all the bits in binary. Hence, for example, $1$ ($00000001$ in binary) will be mapped to $-2$ ($11111110$ in binary). \n",
    "\n",
    "Thus, say, we'd like to obtain the binary representation of $-1$, we can simply add $1$ to $-2$ (add $00000001$ and $11111110$ together in binary), yielding $1111111$. Or, since we know that $-1$ is NOT $0$ (according to the mapping), we have $-1=$ NOT $0=$ ~$00000000$ (binary)$=11111111$ (binary)."
   ]
  },
  {
   "cell_type": "markdown",
   "metadata": {},
   "source": [
    "Bitwise operation: $>>$ (the sign will be kept):"
   ]
  },
  {
   "cell_type": "code",
   "execution_count": 10,
   "metadata": {
    "collapsed": false
   },
   "outputs": [
    {
     "data": {
      "image/png": "[encoded data removed]",
      "text/plain": [
       "<IPython.core.display.Image object>"
      ]
     },
     "execution_count": 10,
     "metadata": {},
     "output_type": "execute_result"
    }
   ],
   "source": [
    "Image(filename='Rotate_right_arithmetically.png')"
   ]
  },
  {
   "cell_type": "markdown",
   "metadata": {},
   "source": [
    "Use $>>>$ if you want to have the sign to always be positive (say, >>>2 will force the first 2 bits to be 0. Hence, the result is always positive)."
   ]
  },
  {
   "cell_type": "markdown",
   "metadata": {},
   "source": [
    "Bitwise operations: $<<$"
   ]
  },
  {
   "cell_type": "code",
   "execution_count": 12,
   "metadata": {
    "collapsed": false
   },
   "outputs": [
    {
     "data": {
      "image/png": "[encoded data removed]",
      "text/plain": [
       "<IPython.core.display.Image object>"
      ]
     },
     "execution_count": 12,
     "metadata": {},
     "output_type": "execute_result"
    }
   ],
   "source": [
    "Image(filename='Rotate_left_logically.png')"
   ]
  },
  {
   "cell_type": "markdown",
   "metadata": {},
   "source": [
    "the sign won't be preserved in the << operation. Hence, it is not necessary to define a <<< operation. The <<< operator is not defined. Here are some more examples:"
   ]
  },
  {
   "cell_type": "code",
   "execution_count": null,
   "metadata": {
    "collapsed": true
   },
   "outputs": [],
   "source": [
    "00000000000000000011000000111001    12345\n",
    "11111111111111111100111111000111   -12345\n",
    "\n",
    "00000000000000000000110000001110    12345>>2\n",
    "11111111111111111111001111110001   -12345>>2\n",
    "\n",
    "00000000000000000000110000001110    12345>>>2\n",
    "00111111111111111111001111110001   -12345>>>2\n",
    "\n",
    "00000000000000001100000011100100    12345<<2\n",
    "11111111111111110011111100011100   -12345<<2"
   ]
  },
  {
   "cell_type": "markdown",
   "metadata": {},
   "source": [
    "The following is an example in C, as a reference:"
   ]
  },
  {
   "cell_type": "code",
   "execution_count": 15,
   "metadata": {
    "collapsed": false
   },
   "outputs": [
    {
     "name": "stdout",
     "output_type": "stream",
     "text": [
      "Writing logicop.c\n"
     ]
    }
   ],
   "source": [
    "%%file logicop.c\n",
    "#include <stdio.h>\n",
    "int main()\n",
    "{\n",
    "    int a = 16, b = 2;\n",
    "    int andRes, orRes, xorRes, rShiftRes, lShiftRes, complementRes;\n",
    "    andRes = a & b;\n",
    "    orRes = a | b; \n",
    "    xorRes = a ^ b;\n",
    "    rShiftRes = ( a >> b ); // a right shifted b times\n",
    "    lShiftRes = ( a << b ); // a left shifted b times\n",
    "    complementRes = ~a;\n",
    "    printf( \"%d %d %d %d %d %d\", andRes, orRes, xorRes, rShiftRes, lShiftRes, complementRes );\n",
    "    return 0;\n",
    "}"
   ]
  },
  {
   "cell_type": "code",
   "execution_count": 16,
   "metadata": {
    "collapsed": false
   },
   "outputs": [
    {
     "name": "stdout",
     "output_type": "stream",
     "text": [
      "0 18 18 4 64 -17"
     ]
    }
   ],
   "source": [
    "! icc logicop.c\n",
    "! ./a.out"
   ]
  },
  {
   "cell_type": "markdown",
   "metadata": {},
   "source": [
    "### 6. test the usage of while & continue & break"
   ]
  },
  {
   "cell_type": "code",
   "execution_count": 11,
   "metadata": {
    "collapsed": false
   },
   "outputs": [
    {
     "name": "stdout",
     "output_type": "stream",
     "text": [
      "Overwriting WhileLoop.java\n"
     ]
    }
   ],
   "source": [
    "%%file WhileLoop.java\n",
    "\n",
    "public class WhileLoop {\n",
    "\n",
    "    public static void main(String[] args) {\n",
    "        int i=0;\n",
    "        while(i<10){\n",
    "            i=i+1;\n",
    "            if(i==3||i==4){continue;};\n",
    "            System.out.println(\"i=\"+i);\n",
    "            if(i==8){break;};\n",
    "        }\n",
    "\n",
    "    }\n",
    "\n",
    "}"
   ]
  },
  {
   "cell_type": "code",
   "execution_count": 12,
   "metadata": {
    "collapsed": false
   },
   "outputs": [
    {
     "name": "stdout",
     "output_type": "stream",
     "text": [
      "i=1\r\n",
      "i=2\r\n",
      "i=5\r\n",
      "i=6\r\n",
      "i=7\r\n",
      "i=8\r\n"
     ]
    }
   ],
   "source": [
    "!javac WhileLoop.java\n",
    "!java WhileLoop"
   ]
  },
  {
   "cell_type": "markdown",
   "metadata": {},
   "source": [
    "### 7. Type Casting"
   ]
  },
  {
   "cell_type": "code",
   "execution_count": 10,
   "metadata": {
    "collapsed": false
   },
   "outputs": [
    {
     "name": "stdout",
     "output_type": "stream",
     "text": [
      "Overwriting TypeCasting.java\n"
     ]
    }
   ],
   "source": [
    "%%file TypeCasting.java\n",
    "\n",
    "public class TypeCasting {\n",
    "\n",
    "    public static void main(String[] args) {\n",
    "        byte a=1,b=2,c;\n",
    "        c=a+b;\n",
    "        System.out.println(\"c=\"+c);\n",
    "    }\n",
    "}"
   ]
  },
  {
   "cell_type": "code",
   "execution_count": 11,
   "metadata": {
    "collapsed": false
   },
   "outputs": [
    {
     "name": "stdout",
     "output_type": "stream",
     "text": [
      "TypeCasting.java:6: error: incompatible types: possible lossy conversion from int to byte\n",
      "        c=a+b;\n",
      "           ^\n",
      "1 error\n",
      "Fehler: Hauptklasse TypeCasting konnte nicht gefunden oder geladen werden\n"
     ]
    }
   ],
   "source": [
    "!javac TypeCasting.java\n",
    "!java TypeCasting"
   ]
  },
  {
   "cell_type": "markdown",
   "metadata": {},
   "source": [
    "----"
   ]
  },
  {
   "cell_type": "markdown",
   "metadata": {},
   "source": [
    "I don't really understand. What happens above is beyond my intuition. Say, I do the same thing in Fortran:"
   ]
  },
  {
   "cell_type": "code",
   "execution_count": 34,
   "metadata": {
    "collapsed": false
   },
   "outputs": [
    {
     "name": "stdout",
     "output_type": "stream",
     "text": [
      "Overwriting Typecasting.f90\n"
     ]
    }
   ],
   "source": [
    "%%file Typecasting.f90\n",
    "\n",
    "program TypcastingTest\n",
    "byte:: a=1,b=2,c\n",
    "\n",
    "c=a+b\n",
    "write(*,*)\"c=\",c\n",
    "\n",
    "end program"
   ]
  },
  {
   "cell_type": "code",
   "execution_count": 35,
   "metadata": {
    "collapsed": false
   },
   "outputs": [
    {
     "name": "stdout",
     "output_type": "stream",
     "text": [
      " c=    3\r\n"
     ]
    }
   ],
   "source": [
    "!ifort Typecasting.f90\n",
    "!./a.out"
   ]
  },
  {
   "cell_type": "markdown",
   "metadata": {},
   "source": [
    "I can get the correct result and the Fortran compiler won't complain."
   ]
  },
  {
   "cell_type": "markdown",
   "metadata": {},
   "source": [
    "Now, let's try to do this in C:"
   ]
  },
  {
   "cell_type": "code",
   "execution_count": 53,
   "metadata": {
    "collapsed": false
   },
   "outputs": [
    {
     "name": "stdout",
     "output_type": "stream",
     "text": [
      "Overwriting Typecasting.c\n"
     ]
    }
   ],
   "source": [
    "%%file Typecasting.c\n",
    "\n",
    "#include <stdio.h>\n",
    "int main()\n",
    "{\n",
    "    char a = 1, b = 2, c;\n",
    "    c=a+b;\n",
    "    printf(\"c= %d\",c );\n",
    "    return 0;\n",
    "}"
   ]
  },
  {
   "cell_type": "code",
   "execution_count": 54,
   "metadata": {
    "collapsed": false
   },
   "outputs": [
    {
     "name": "stdout",
     "output_type": "stream",
     "text": [
      "c= 3"
     ]
    }
   ],
   "source": [
    "!icc Typecasting.c\n",
    "!./a.out"
   ]
  },
  {
   "cell_type": "markdown",
   "metadata": {},
   "source": [
    "it doesn't complain either."
   ]
  },
  {
   "cell_type": "markdown",
   "metadata": {},
   "source": [
    "#### It's really wierd in Java. The result of a(=1)+  b(=2) will be seen as type \"int\" even we say explicitely that a and b belongs to the type \"byte\"."
   ]
  },
  {
   "cell_type": "code",
   "execution_count": 20,
   "metadata": {
    "collapsed": false
   },
   "outputs": [
    {
     "name": "stdout",
     "output_type": "stream",
     "text": [
      "Overwriting TypeCasting.java\n"
     ]
    }
   ],
   "source": [
    "%%file TypeCasting.java\n",
    "\n",
    "public class TypeCasting {\n",
    "\n",
    "    public static void main(String[] args) {\n",
    "        String a=1,b=2;\n",
    "        System.out.println(\"a+b=\"+(a+b));\n",
    "    }\n",
    "}"
   ]
  },
  {
   "cell_type": "code",
   "execution_count": 21,
   "metadata": {
    "collapsed": false
   },
   "outputs": [
    {
     "name": "stdout",
     "output_type": "stream",
     "text": [
      "TypeCasting.java:5: error: incompatible types: int cannot be converted to String\n",
      "        String a=1,b=2;\n",
      "                 ^\n",
      "TypeCasting.java:5: error: incompatible types: int cannot be converted to String\n",
      "        String a=1,b=2;\n",
      "                     ^\n",
      "2 errors\n",
      "Fehler: Hauptklasse TypeCasting konnte nicht gefunden oder geladen werden\n"
     ]
    }
   ],
   "source": [
    "!javac TypeCasting.java\n",
    "!java TypeCasting"
   ]
  },
  {
   "cell_type": "markdown",
   "metadata": {},
   "source": [
    "Cool, in Java, int cannot be converted to String. But, is that true, that a (type-byte)-integer will be converted to a (type-int)-integer if a (type-int)-integer is assigned to it? -> No! It is not true.\n",
    "\n",
    "See an answer in stackoverflow.\n",
    "http://stackoverflow.com/questions/18483470/is-addition-of-byte-converts-to-int-is-because-of-java-language-rules-or-because\n",
    "\n",
    "#### The issue is that, in, Java, operations on byte will always result in int! (it has some story but I don't want to discuss it now)\n",
    "\n",
    "The compile error we've seen in the previous Java example can be fixed by \"type casting\", as the following:"
   ]
  },
  {
   "cell_type": "code",
   "execution_count": 18,
   "metadata": {
    "collapsed": false
   },
   "outputs": [
    {
     "name": "stdout",
     "output_type": "stream",
     "text": [
      "Writing TypeCastingFixed.java\n"
     ]
    }
   ],
   "source": [
    "%%file TypeCastingFixed.java\n",
    "\n",
    "public class TypeCastingFixed {\n",
    "\n",
    "    public static void main(String[] args) {\n",
    "        byte a=1,b=2,c;\n",
    "        c=(byte)(a+b);\n",
    "        System.out.println(\"c=\"+c);\n",
    "    }\n",
    "\n",
    "}"
   ]
  },
  {
   "cell_type": "code",
   "execution_count": 19,
   "metadata": {
    "collapsed": false
   },
   "outputs": [
    {
     "name": "stdout",
     "output_type": "stream",
     "text": [
      "c=3\r\n"
     ]
    }
   ],
   "source": [
    "!javac TypeCastingFixed.java\n",
    "!java TypeCastingFixed"
   ]
  },
  {
   "cell_type": "markdown",
   "metadata": {},
   "source": [
    "### 8. test: If and Else"
   ]
  },
  {
   "cell_type": "code",
   "execution_count": 97,
   "metadata": {
    "collapsed": false
   },
   "outputs": [
    {
     "name": "stdout",
     "output_type": "stream",
     "text": [
      "Overwriting IfElse.java\n"
     ]
    }
   ],
   "source": [
    "%%file IfElse.java\n",
    "\n",
    "import java.lang.*;\n",
    "\n",
    "public class IfElse{\n",
    "\n",
    "    public static void main(String args[]) {\n",
    "        int i=Integer.parseInt(args[0]);  \n",
    "        //int i=28;\n",
    "        if(i>=30){\n",
    "            System.out.println(i+\"  It's hot!\");\n",
    "        }\n",
    "        else{System.out.println(i+\"  It's cold!\");}\n",
    "    }\n",
    "}"
   ]
  },
  {
   "cell_type": "code",
   "execution_count": 98,
   "metadata": {
    "collapsed": false
   },
   "outputs": [
    {
     "name": "stdout",
     "output_type": "stream",
     "text": [
      "25  It's cold!\n",
      "26  It's cold!\n",
      "27  It's cold!\n",
      "28  It's cold!\n",
      "29  It's cold!\n",
      "30  It's hot!\n",
      "31  It's hot!\n",
      "32  It's hot!\n",
      "33  It's hot!\n",
      "34  It's hot!\n"
     ]
    }
   ],
   "source": [
    "!javac IfElse.java\n",
    "for j in range(25,35):\n",
    "    !java IfElse {j}"
   ]
  },
  {
   "cell_type": "markdown",
   "metadata": {},
   "source": [
    "Remark: It's interesting that, variables in Python can be transferred to the system shell."
   ]
  },
  {
   "cell_type": "markdown",
   "metadata": {},
   "source": [
    "### 9. test: throw a dice"
   ]
  },
  {
   "cell_type": "code",
   "execution_count": 22,
   "metadata": {
    "collapsed": false
   },
   "outputs": [
    {
     "name": "stdout",
     "output_type": "stream",
     "text": [
      "Writing DiceThrow.java\n"
     ]
    }
   ],
   "source": [
    "%%file DiceThrow.java\n",
    "\n",
    "import java.lang.*;\n",
    "\n",
    "public class DiceThrow{\n",
    "\n",
    "    public static void main(String[] args){\n",
    "        int DiceNum=(int)(Math.random()*6+1);\n",
    "        System.out.println(\"Number of the dice=\"+DiceNum);\n",
    "        if(DiceNum>=3){\n",
    "            if(DiceNum<=6){System.out.println(\"You win!\");}\n",
    "        }else{System.out.println(\"You lose!\");}\n",
    "    }\n",
    "}"
   ]
  },
  {
   "cell_type": "code",
   "execution_count": 23,
   "metadata": {
    "collapsed": false
   },
   "outputs": [
    {
     "name": "stdout",
     "output_type": "stream",
     "text": [
      "Number of the dice=6\n",
      "You win!\n",
      "Number of the dice=4\n",
      "You win!\n",
      "Number of the dice=4\n",
      "You win!\n",
      "Number of the dice=2\n",
      "You lose!\n",
      "Number of the dice=2\n",
      "You lose!\n"
     ]
    }
   ],
   "source": [
    "for j in range(5):\n",
    "    !javac DiceThrow.java\n",
    "    !java DiceThrow"
   ]
  },
  {
   "cell_type": "markdown",
   "metadata": {},
   "source": [
    "### 10. Lab: practice if and else"
   ]
  },
  {
   "cell_type": "code",
   "execution_count": 27,
   "metadata": {
    "collapsed": false
   },
   "outputs": [
    {
     "name": "stdout",
     "output_type": "stream",
     "text": [
      "Overwriting LabIfElse.java\n"
     ]
    }
   ],
   "source": [
    "%%file LabIfElse.java\n",
    "\n",
    "import java.lang.*;\n",
    "\n",
    "public class LabIfElse{\n",
    "\n",
    "    public static void main(String[] args) {\n",
    "        int i=Integer.parseInt(args[0]);  \n",
    "        if(i>=0){\n",
    "            System.out.printf(\"%d is positive!\\n\",i);\n",
    "            if (i%2==0){System.out.printf(\"%d is an even number!\\n\",i);}\n",
    "            else {System.out.printf(\"%d is an odd number!\\n\",i);}\n",
    "        }\n",
    "        else {System.out.printf(\"%d is negative!\\n\",i);\n",
    "            if (i%2==0){System.out.printf(\"%d is an even number!\\n\",i);}\n",
    "            else {System.out.printf(\"%d is an odd number!\\n\",i);}     \n",
    "        }\n",
    "        \n",
    "    }\n",
    "}"
   ]
  },
  {
   "cell_type": "code",
   "execution_count": 28,
   "metadata": {
    "collapsed": false
   },
   "outputs": [
    {
     "name": "stdout",
     "output_type": "stream",
     "text": [
      "-3 is negative!\n",
      "-3 is an odd number!\n",
      "-2 is negative!\n",
      "-2 is an even number!\n",
      "-1 is negative!\n",
      "-1 is an odd number!\n",
      "0 is positive!\n",
      "0 is an even number!\n",
      "1 is positive!\n",
      "1 is an odd number!\n",
      "2 is positive!\n",
      "2 is an even number!\n"
     ]
    }
   ],
   "source": [
    "for j in range(-3,3):\n",
    "    !javac LabIfElse.java\n",
    "    !java LabIfElse {j}"
   ]
  },
  {
   "cell_type": "markdown",
   "metadata": {},
   "source": [
    "### 11. Lab: determine whether a year is a leap year."
   ]
  },
  {
   "cell_type": "code",
   "execution_count": 30,
   "metadata": {
    "collapsed": false
   },
   "outputs": [
    {
     "data": {
      "image/png": "[encoded data removed]",
      "text/plain": [
       "<IPython.core.display.Image object>"
      ]
     },
     "execution_count": 30,
     "metadata": {},
     "output_type": "execute_result"
    }
   ],
   "source": [
    "from IPython.display import Image\n",
    "Image(filename='Leap_year.png')"
   ]
  },
  {
   "cell_type": "code",
   "execution_count": 36,
   "metadata": {
    "collapsed": false
   },
   "outputs": [
    {
     "name": "stdout",
     "output_type": "stream",
     "text": [
      "Overwriting LeapYearDeterm.java\n"
     ]
    }
   ],
   "source": [
    "%%file LeapYearDeterm.java\n",
    "\n",
    "import java.lang.*;\n",
    "\n",
    "public class LeapYearDeterm{\n",
    "\n",
    "    public static void main(String[] args) {\n",
    "        int year=Integer.parseInt(args[0]);  \n",
    "    if( year%4==0 && year%100!=0  || year%400==0){\n",
    "            System.out.printf(\"The year %d is a leap year.\\n\",year);\n",
    "        }else{ System.out.printf(\"The year %d is not a leap year.\\n\",year);}\n",
    "    }\n",
    "}"
   ]
  },
  {
   "cell_type": "code",
   "execution_count": 37,
   "metadata": {
    "collapsed": false
   },
   "outputs": [
    {
     "name": "stdout",
     "output_type": "stream",
     "text": [
      "The year 2000 is a leap year.\n",
      "The year 1900 is not a leap year.\n"
     ]
    }
   ],
   "source": [
    "!javac LeapYearDeterm.java\n",
    "!java LeapYearDeterm 2000\n",
    "!java LeapYearDeterm 1900"
   ]
  },
  {
   "cell_type": "markdown",
   "metadata": {},
   "source": [
    "### 12. Lab: output the roots of $ax^2+bx+c$."
   ]
  },
  {
   "cell_type": "code",
   "execution_count": 38,
   "metadata": {
    "collapsed": false
   },
   "outputs": [
    {
     "name": "stdout",
     "output_type": "stream",
     "text": [
      "Overwriting RootFindExercise.java\n"
     ]
    }
   ],
   "source": [
    "%%file RootFindExercise.java\n",
    "\n",
    "public class RootFindExercise{\n",
    "\n",
    "    public static void main(String[] arg) {\n",
    "    double roots[];\n",
    "    roots=RootFind(1.,-2.,1.);\n",
    "        System.out.println(\"x1,x2=\\t\"+roots[0]+\" \"+roots[1]);\n",
    "    }\n",
    "    \n",
    "    public static double[] RootFind(double a,double b, double c){\n",
    "        double x1,x2;\n",
    "\n",
    "        if(b*b-4.*a*c<0){System.out.println(\"Warning! Solutions are not Real!\");}\n",
    "        x1=(-b+Math.sqrt(b*b-4.*a*c))/(2.*a);\n",
    "        x2=(-b-Math.sqrt(b*b-4.*a*c))/(2.*a);\n",
    "        \n",
    "        double arr[]={x1,x2};\n",
    "        return arr;        \n",
    "    }\n",
    "}"
   ]
  },
  {
   "cell_type": "code",
   "execution_count": 39,
   "metadata": {
    "collapsed": false
   },
   "outputs": [
    {
     "name": "stdout",
     "output_type": "stream",
     "text": [
      "x1,x2=\t1.0 1.0\r\n"
     ]
    }
   ],
   "source": [
    "!javac RootFindExercise.java\n",
    "!java RootFindExercise"
   ]
  },
  {
   "cell_type": "markdown",
   "metadata": {},
   "source": [
    "### 13. An OOP hands-on exercise: translate my following Python code to Java. "
   ]
  },
  {
   "cell_type": "markdown",
   "metadata": {},
   "source": [
    "#### Python:"
   ]
  },
  {
   "cell_type": "code",
   "execution_count": 43,
   "metadata": {
    "collapsed": false
   },
   "outputs": [
    {
     "name": "stdout",
     "output_type": "stream",
     "text": [
      "number of legs=4\n",
      "zzZ\n",
      "number of legs=6\n",
      "zzZ\n"
     ]
    }
   ],
   "source": [
    "class pet:\n",
    "    number_of_legs=0\n",
    "    def sleep(self):\n",
    "        print \"zzZ\"\n",
    "    def count_legs(self):\n",
    "        print \"number of legs=%s\" %self.number_of_legs\n",
    "        \n",
    "dog=pet()\n",
    "dog.number_of_legs=4\n",
    "dog.count_legs()\n",
    "dog.sleep()\n",
    "\n",
    "spider=pet()\n",
    "spider.number_of_legs=6\n",
    "spider.count_legs()\n",
    "spider.sleep()"
   ]
  },
  {
   "cell_type": "markdown",
   "metadata": {},
   "source": [
    "#### Now, let's try to do the same thing in Java:"
   ]
  },
  {
   "cell_type": "code",
   "execution_count": 62,
   "metadata": {
    "collapsed": false
   },
   "outputs": [
    {
     "name": "stdout",
     "output_type": "stream",
     "text": [
      "Overwriting OopExercisePets.java\n"
     ]
    }
   ],
   "source": [
    "%%file OopExercisePets.java\n",
    "\n",
    "class Pets\n",
    "{\n",
    "    int number_of_legs;\n",
    "\n",
    "    void sleep(){\n",
    "        System.out.println(\"zZzZ\");\n",
    "    }\n",
    "    void count_legs(){\n",
    "        System.out.printf(\"number of legs=%d\\n\",number_of_legs);\n",
    "    }\n",
    "}\n",
    "\n",
    "public class OopExercisePets\n",
    "{\n",
    "   public static void main(String args[])\n",
    "   {\n",
    "      Pets dog;\n",
    "      dog=new Pets();\n",
    "      dog.number_of_legs=4;\n",
    "      dog.sleep();\n",
    "      dog.count_legs();\n",
    "        \n",
    "      Pets spider;\n",
    "      spider=new Pets();\n",
    "      spider.number_of_legs=6;\n",
    "      spider.sleep();\n",
    "      spider.count_legs();\n",
    "   }\n",
    "}"
   ]
  },
  {
   "cell_type": "code",
   "execution_count": 63,
   "metadata": {
    "collapsed": false
   },
   "outputs": [
    {
     "name": "stdout",
     "output_type": "stream",
     "text": [
      "zZzZ\r\n",
      "number of legs=4\r\n",
      "zZzZ\r\n",
      "number of legs=6\r\n"
     ]
    }
   ],
   "source": [
    "!javac OopExercisePets.java\n",
    "!java OopExercisePets"
   ]
  },
  {
   "cell_type": "markdown",
   "metadata": {},
   "source": [
    "You see how lengthy a Java code can be!"
   ]
  },
  {
   "cell_type": "markdown",
   "metadata": {},
   "source": [
    "# Day3; 23.09.2016; Taipeh"
   ]
  },
  {
   "cell_type": "markdown",
   "metadata": {},
   "source": [
    "### 14. test: the use of Switch Case"
   ]
  },
  {
   "cell_type": "code",
   "execution_count": 22,
   "metadata": {
    "collapsed": false
   },
   "outputs": [
    {
     "name": "stdout",
     "output_type": "stream",
     "text": [
      "Writing SwitchCaseEx.java\n"
     ]
    }
   ],
   "source": [
    "%%file SwitchCaseEx.java\n",
    "\n",
    "import java.lang.*;\n",
    "public class SwitchCaseEx{\n",
    "\n",
    "    public static void main(String[] arg) {\n",
    "    int ChangeWeapon=Integer.parseInt(arg[0]);\n",
    "    switch(ChangeWeapon){\n",
    "        case 1:\n",
    "            System.out.println(\"you have got a knife\");\n",
    "            //break;\n",
    "        case 2:\n",
    "            System.out.println(\"you have got an atomic bomb\");\n",
    "            break;\n",
    "        case 3:\n",
    "            System.out.println(\"you have got a most devestitating biological weapon!\");\n",
    "    }\n",
    "    }\n",
    "}"
   ]
  },
  {
   "cell_type": "code",
   "execution_count": 23,
   "metadata": {
    "collapsed": false
   },
   "outputs": [
    {
     "name": "stdout",
     "output_type": "stream",
     "text": [
      "you have got a knife\r\n",
      "you have got an atomic bomb\r\n"
     ]
    }
   ],
   "source": [
    "!javac SwitchCaseEx.java\n",
    "#for i in range(1,4):\n",
    "#    !java SwitchCaseEx {i}\n",
    "\n",
    "!java SwitchCaseEx 1"
   ]
  },
  {
   "cell_type": "markdown",
   "metadata": {},
   "source": [
    "What I have learned from above is that, hey, always remember to add a \"break\" in the end of each cases."
   ]
  },
  {
   "cell_type": "markdown",
   "metadata": {},
   "source": [
    "### 15. a simple test to the usage of  \"while\""
   ]
  },
  {
   "cell_type": "code",
   "execution_count": 46,
   "metadata": {
    "collapsed": false
   },
   "outputs": [
    {
     "name": "stdout",
     "output_type": "stream",
     "text": [
      "Overwriting TestWhile.java\n"
     ]
    }
   ],
   "source": [
    "%%file TestWhile.java\n",
    "\n",
    "import java.lang.*;\n",
    "public class TestWhile{\n",
    "\n",
    "    public static void main(String[] arg) {\n",
    "    double i;\n",
    "    i=0.;\n",
    "        \n",
    "    while(i>=0 && i<=0.9){\n",
    "        i=Math.random();\n",
    "        System.out.println(i);\n",
    "        //if(i>=0.5){break;}\n",
    "    }\n",
    "    }\n",
    "}"
   ]
  },
  {
   "cell_type": "code",
   "execution_count": 47,
   "metadata": {
    "collapsed": false
   },
   "outputs": [
    {
     "name": "stdout",
     "output_type": "stream",
     "text": [
      "0.4187707649838708\r\n",
      "0.3537927185159676\r\n",
      "0.10316325021426354\r\n",
      "0.658903323256814\r\n",
      "0.715151691973626\r\n",
      "0.7584154416153122\r\n",
      "0.3277527971522901\r\n",
      "0.8195937987423786\r\n",
      "0.4083289904148487\r\n",
      "0.0933595463607595\r\n",
      "0.03933081053375864\r\n",
      "0.659289721439107\r\n",
      "0.35558402031506253\r\n",
      "0.23163463084637603\r\n",
      "0.3131514195526106\r\n",
      "0.08016649021513245\r\n",
      "0.7019978991592285\r\n",
      "0.6556717356545511\r\n",
      "0.7528171439748722\r\n",
      "0.12481714309130931\r\n",
      "0.4441954908669904\r\n",
      "0.27252687955351007\r\n",
      "0.9446770397352077\r\n"
     ]
    }
   ],
   "source": [
    "!javac TestWhile.java\n",
    "!java TestWhile"
   ]
  },
  {
   "cell_type": "markdown",
   "metadata": {},
   "source": [
    "### 16. another simple exercise on \"while\": write a function to solve $\\sum_{i=1}^{10}i$."
   ]
  },
  {
   "cell_type": "code",
   "execution_count": 44,
   "metadata": {
    "collapsed": false
   },
   "outputs": [
    {
     "name": "stdout",
     "output_type": "stream",
     "text": [
      "Overwriting TestWhileII.java\n"
     ]
    }
   ],
   "source": [
    "%%file TestWhileII.java\n",
    "\n",
    "import java.lang.*;\n",
    "\n",
    "public class TestWhileII{\n",
    "\n",
    "    public static double SumInt(double iMax){\n",
    "        double i=1.,sum=0.;\n",
    "\n",
    "        while(i<=iMax){\n",
    "            sum=sum+i;\n",
    "            System.out.println(i+\"\\t\"+sum);\n",
    "            i++;\n",
    "        }\n",
    "    return sum;\n",
    "    }\n",
    "\n",
    "    public static void main(String[] arg) {\n",
    "    double result;\n",
    "        \n",
    "    result=SumInt(10.);\n",
    "        \n",
    "    System.out.println();\n",
    "    System.out.println(result);\n",
    "    }\n",
    "}"
   ]
  },
  {
   "cell_type": "code",
   "execution_count": 45,
   "metadata": {
    "collapsed": false
   },
   "outputs": [
    {
     "name": "stdout",
     "output_type": "stream",
     "text": [
      "1.0\t1.0\r\n",
      "2.0\t3.0\r\n",
      "3.0\t6.0\r\n",
      "4.0\t10.0\r\n",
      "5.0\t15.0\r\n",
      "6.0\t21.0\r\n",
      "7.0\t28.0\r\n",
      "8.0\t36.0\r\n",
      "9.0\t45.0\r\n",
      "10.0\t55.0\r\n",
      "\r\n",
      "55.0\r\n"
     ]
    }
   ],
   "source": [
    "!javac TestWhileII.java\n",
    "!java TestWhileII"
   ]
  },
  {
   "cell_type": "markdown",
   "metadata": {},
   "source": [
    "### 17.test the nested while"
   ]
  },
  {
   "cell_type": "code",
   "execution_count": 22,
   "metadata": {
    "collapsed": false
   },
   "outputs": [
    {
     "name": "stdout",
     "output_type": "stream",
     "text": [
      "Overwriting NestedWhile.java\n"
     ]
    }
   ],
   "source": [
    "%%file NestedWhile.java\n",
    "\n",
    "import java.lang.*;\n",
    "public class NestedWhile{\n",
    "\n",
    "    public static void main(String[] arg) {\n",
    "    int i=1;\n",
    "\n",
    "        while(i<=3){\n",
    "            int j=1;\n",
    "            //System.out.println(i);\n",
    "            while(j<=4){\n",
    "                //System.out.print(j);\n",
    "                System.out.print(\"@\");\n",
    "                j++;\n",
    "            }\n",
    "            System.out.println();\n",
    "        i++;\n",
    "        }\n",
    "    }\n",
    "}"
   ]
  },
  {
   "cell_type": "code",
   "execution_count": 23,
   "metadata": {
    "collapsed": false
   },
   "outputs": [
    {
     "name": "stdout",
     "output_type": "stream",
     "text": [
      "@@@@\n",
      "@@@@\n",
      "@@@@\n"
     ]
    }
   ],
   "source": [
    "!javac NestedWhile.java\n",
    "!java NestedWhile"
   ]
  },
  {
   "cell_type": "markdown",
   "metadata": {},
   "source": [
    "### 17. Lab: the 9X9 Table"
   ]
  },
  {
   "cell_type": "code",
   "execution_count": 39,
   "metadata": {
    "collapsed": false
   },
   "outputs": [
    {
     "name": "stdout",
     "output_type": "stream",
     "text": [
      "Overwriting Table9X9.java\n"
     ]
    }
   ],
   "source": [
    "%%file Table9X9.java\n",
    "\n",
    "import java.lang.*;\n",
    "public class Table9X9{\n",
    "\n",
    "    public static void main(String[] arg) {\n",
    "        int i,j;\n",
    "        for(i=1;i<10;i++){\n",
    "            for(j=1;j<10;j++){\n",
    "                System.out.printf(\"%dx%d=%2d\\t\",i,j,i*j);\n",
    "            }\n",
    "        System.out.println();\n",
    "        }        \n",
    "    }\n",
    "}"
   ]
  },
  {
   "cell_type": "code",
   "execution_count": 40,
   "metadata": {
    "collapsed": false
   },
   "outputs": [
    {
     "name": "stdout",
     "output_type": "stream",
     "text": [
      "1x1= 1\t1x2= 2\t1x3= 3\t1x4= 4\t1x5= 5\t1x6= 6\t1x7= 7\t1x8= 8\t1x9= 9\t\n",
      "2x1= 2\t2x2= 4\t2x3= 6\t2x4= 8\t2x5=10\t2x6=12\t2x7=14\t2x8=16\t2x9=18\t\n",
      "3x1= 3\t3x2= 6\t3x3= 9\t3x4=12\t3x5=15\t3x6=18\t3x7=21\t3x8=24\t3x9=27\t\n",
      "4x1= 4\t4x2= 8\t4x3=12\t4x4=16\t4x5=20\t4x6=24\t4x7=28\t4x8=32\t4x9=36\t\n",
      "5x1= 5\t5x2=10\t5x3=15\t5x4=20\t5x5=25\t5x6=30\t5x7=35\t5x8=40\t5x9=45\t\n",
      "6x1= 6\t6x2=12\t6x3=18\t6x4=24\t6x5=30\t6x6=36\t6x7=42\t6x8=48\t6x9=54\t\n",
      "7x1= 7\t7x2=14\t7x3=21\t7x4=28\t7x5=35\t7x6=42\t7x7=49\t7x8=56\t7x9=63\t\n",
      "8x1= 8\t8x2=16\t8x3=24\t8x4=32\t8x5=40\t8x6=48\t8x7=56\t8x8=64\t8x9=72\t\n",
      "9x1= 9\t9x2=18\t9x3=27\t9x4=36\t9x5=45\t9x6=54\t9x7=63\t9x8=72\t9x9=81\t\n"
     ]
    }
   ],
   "source": [
    "!javac Table9X9.java\n",
    "!java Table9X9"
   ]
  },
  {
   "cell_type": "markdown",
   "metadata": {},
   "source": [
    "Now, let's transpose the matrix & try to see how to write an infinite loop:"
   ]
  },
  {
   "cell_type": "code",
   "execution_count": 25,
   "metadata": {
    "collapsed": false
   },
   "outputs": [
    {
     "name": "stdout",
     "output_type": "stream",
     "text": [
      "Overwriting Table9X9.java\n"
     ]
    }
   ],
   "source": [
    "%%file Table9X9.java\n",
    "\n",
    "import java.lang.*;\n",
    "public class Table9X9{\n",
    "\n",
    "    public static void main(String[] arg) {\n",
    "        int i,j=1;\n",
    "        for(;;){\n",
    "            for(i=1;i<10;i++){\n",
    "                System.out.printf(\"%dx%d=%2d\\t\",i,j,i*j);\n",
    "            }\n",
    "        System.out.println();\n",
    "        if(j==4){break;};\n",
    "        j++;\n",
    "        }        \n",
    "    }\n",
    "}"
   ]
  },
  {
   "cell_type": "markdown",
   "metadata": {},
   "source": [
    "Use for(;;){} if we want it to be an infinite loop (loop of no constraints)..."
   ]
  },
  {
   "cell_type": "code",
   "execution_count": 26,
   "metadata": {
    "collapsed": false
   },
   "outputs": [
    {
     "name": "stdout",
     "output_type": "stream",
     "text": [
      "1x1= 1\t2x1= 2\t3x1= 3\t4x1= 4\t5x1= 5\t6x1= 6\t7x1= 7\t8x1= 8\t9x1= 9\t\n",
      "1x2= 2\t2x2= 4\t3x2= 6\t4x2= 8\t5x2=10\t6x2=12\t7x2=14\t8x2=16\t9x2=18\t\n",
      "1x3= 3\t2x3= 6\t3x3= 9\t4x3=12\t5x3=15\t6x3=18\t7x3=21\t8x3=24\t9x3=27\t\n",
      "1x4= 4\t2x4= 8\t3x4=12\t4x4=16\t5x4=20\t6x4=24\t7x4=28\t8x4=32\t9x4=36\t\n"
     ]
    }
   ],
   "source": [
    "!javac Table9X9.java\n",
    "!java Table9X9"
   ]
  },
  {
   "cell_type": "markdown",
   "metadata": {},
   "source": [
    "### 18. test: ouput data & draw the histogram"
   ]
  },
  {
   "cell_type": "code",
   "execution_count": 58,
   "metadata": {
    "collapsed": false
   },
   "outputs": [
    {
     "name": "stdout",
     "output_type": "stream",
     "text": [
      "Overwriting OutputTestDiceEven.java\n"
     ]
    }
   ],
   "source": [
    "%%file OutputTestDiceEven.java\n",
    "\n",
    "import java.io.*;\n",
    "//import java.lang.*;\n",
    "import java.util.Random;\n",
    "\n",
    "public class OutputTestDiceEven{\n",
    "    public static void main(String[] args) throws IOException{\n",
    "        int i;\n",
    "        int DiceNumArr[]=new int[10000];\n",
    "        \n",
    "        FileWriter f=new FileWriter(\"DiceNum.txt\");\n",
    "        for(i=0;i<DiceNumArr.length;i++){\n",
    "            DiceNumArr[i]=(int)(Math.random()*6+1);\n",
    "            f.write(\" \"+DiceNumArr[i]);  \n",
    "        }\n",
    "        f.close();\n",
    "    }\n",
    "}"
   ]
  },
  {
   "cell_type": "markdown",
   "metadata": {},
   "source": [
    "#### Question: what does \"throw IOException\" mean? Why should I add this?\n",
    "\n",
    "Here's a clue:\n",
    "\n",
    "http://stackoverflow.com/questions/9441094/why-it-is-mandatory-to-use-throws-ioexception\n",
    "\n",
    "I see. if I/O is unsuccessfull, then, IOException will be raised. Instead simply ignoring it by throwing it away, we can also\n",
    "\n",
    "try to read/write to the file\n",
    "if IOException happens, catch it and print an I/O error message. Doing so is certainly better."
   ]
  },
  {
   "cell_type": "code",
   "execution_count": 59,
   "metadata": {
    "collapsed": false
   },
   "outputs": [],
   "source": [
    "!javac OutputTestDiceEven.java\n",
    "!java OutputTestDiceEven"
   ]
  },
  {
   "cell_type": "code",
   "execution_count": 48,
   "metadata": {
    "collapsed": false
   },
   "outputs": [
    {
     "name": "stdout",
     "output_type": "stream",
     "text": [
      "\u001b[K\u001b[?1l\u001b>"
     ]
    }
   ],
   "source": [
    "#!dir *.txt\n",
    "!more OutputTestDiceEven.txt"
   ]
  },
  {
   "cell_type": "code",
   "execution_count": 60,
   "metadata": {
    "collapsed": false
   },
   "outputs": [
    {
     "data": {
      "text/plain": [
       "<Container object of 6 artists>"
      ]
     },
     "execution_count": 60,
     "metadata": {},
     "output_type": "execute_result"
    },
    {
     "data": {
      "image/png": "[encoded data removed]",
      "text/plain": [
       "<matplotlib.figure.Figure at 0x10bc4d510>"
      ]
     },
     "metadata": {},
     "output_type": "display_data"
    }
   ],
   "source": [
    "dat=np.loadtxt(\"DiceNum.txt\")\n",
    "hist, bins =np.histogram(dat,bins=6)\n",
    "plt.bar(np.arange(6)+1, hist, align='center')"
   ]
  },
  {
   "cell_type": "markdown",
   "metadata": {},
   "source": [
    "From the above, we see that the dice is not biased, which is as expected. Now, let's do a trick... i.e. adding one additional line (IF DiceNum>3 throw the dice again) to the inside of the for loop. After adding this line, the dice is expected to be biased."
   ]
  },
  {
   "cell_type": "code",
   "execution_count": 53,
   "metadata": {
    "collapsed": false
   },
   "outputs": [
    {
     "name": "stdout",
     "output_type": "stream",
     "text": [
      "Writing OutputTestDiceBiased.java\n"
     ]
    }
   ],
   "source": [
    "%%file OutputTestDiceBiased.java\n",
    "\n",
    "import java.io.*;\n",
    "//import java.lang.*;\n",
    "import java.util.Random;\n",
    "\n",
    "public class OutputTestDiceBiased{\n",
    "    public static void main(String[] args) throws IOException{\n",
    "        int i;\n",
    "        int DiceNumArr[]=new int[10000];\n",
    "        \n",
    "        FileWriter f=new FileWriter(\"DiceNum.txt\");\n",
    "        for(i=0;i<DiceNumArr.length;i++){\n",
    "            DiceNumArr[i]=(int)(Math.random()*6+1);\n",
    "            if(DiceNumArr[i]>3){ DiceNumArr[i]=(int)(Math.random()*6+1); }\n",
    "            f.write(\" \"+DiceNumArr[i]);  \n",
    "        }\n",
    "        f.close();\n",
    "    }\n",
    "}"
   ]
  },
  {
   "cell_type": "code",
   "execution_count": 54,
   "metadata": {
    "collapsed": true
   },
   "outputs": [],
   "source": [
    "!javac OutputTestDiceBiased.java\n",
    "!java OutputTestDiceBiased"
   ]
  },
  {
   "cell_type": "code",
   "execution_count": 55,
   "metadata": {
    "collapsed": false
   },
   "outputs": [
    {
     "data": {
      "text/plain": [
       "<Container object of 6 artists>"
      ]
     },
     "execution_count": 55,
     "metadata": {},
     "output_type": "execute_result"
    },
    {
     "data": {
      "image/png": "[encoded data removed]",
      "text/plain": [
       "<matplotlib.figure.Figure at 0x10b973f50>"
      ]
     },
     "metadata": {},
     "output_type": "display_data"
    }
   ],
   "source": [
    "dat=np.loadtxt(\"DiceNum.txt\")\n",
    "hist, bins =np.histogram(dat,bins=6)\n",
    "plt.bar(np.arange(6)+1, hist, align='center')"
   ]
  },
  {
   "cell_type": "markdown",
   "metadata": {},
   "source": [
    "The dice is biased, as expected."
   ]
  },
  {
   "cell_type": "markdown",
   "metadata": {},
   "source": [
    "### 19. test: labeled break& continue"
   ]
  },
  {
   "cell_type": "code",
   "execution_count": 4,
   "metadata": {
    "collapsed": false
   },
   "outputs": [
    {
     "name": "stdout",
     "output_type": "stream",
     "text": [
      "Writing LabeledBreakContinue.java\n"
     ]
    }
   ],
   "source": [
    "%%file LabeledBreakContinue.java\n",
    "\n",
    "import java.io.*;\n",
    "//import java.lang.*;\n",
    "\n",
    "public class LabeledBreakContinue{\n",
    "    public static void main(String[] args) throws IOException{\n",
    "        int i,j;\n",
    "        \n",
    "        breakpoint:\n",
    "        for(i=0;i<3;i++){\n",
    "            for(j=0;j<3;j++){\n",
    "                System.out.println(\"i,j=\"+i+\" \"+j);\n",
    "                if (i==1&& j==1){continue breakpoint;}\n",
    "            }\n",
    "        }\n",
    "\n",
    "    }\n",
    "}"
   ]
  },
  {
   "cell_type": "code",
   "execution_count": 5,
   "metadata": {
    "collapsed": false
   },
   "outputs": [
    {
     "name": "stdout",
     "output_type": "stream",
     "text": [
      "i,j=0 0\n",
      "i,j=0 1\n",
      "i,j=0 2\n",
      "i,j=1 0\n",
      "i,j=1 1\n",
      "i,j=2 0\n",
      "i,j=2 1\n",
      "i,j=2 2\n"
     ]
    }
   ],
   "source": [
    "!javac LabeledBreakContinue.java\n",
    "!java LabeledBreakContinue"
   ]
  },
  {
   "cell_type": "markdown",
   "metadata": {},
   "source": [
    "### 20. Homework: output a triangle and its mirrored one"
   ]
  },
  {
   "cell_type": "code",
   "execution_count": 77,
   "metadata": {
    "collapsed": false
   },
   "outputs": [
    {
     "name": "stdout",
     "output_type": "stream",
     "text": [
      "Overwriting TriangleAndItsMirror.java\n"
     ]
    }
   ],
   "source": [
    "%%file TriangleAndItsMirror.java\n",
    "\n",
    "import java.io.*;\n",
    "//import java.lang.*;\n",
    "\n",
    "public class TriangleAndItsMirror{\n",
    "    public static void main(String[] args) throws IOException{\n",
    "        int i,j;\n",
    "        \n",
    "        for(i=0;i<10;i++){\n",
    "            for(j=0;j<=i;j++){\n",
    "                System.out.print(\"*\");\n",
    "            }\n",
    "            System.out.println();\n",
    "        }\n",
    "        System.out.println();\n",
    "        for(i=0;i<10;i++){\n",
    "            for(j=0;j<10-i;j++){\n",
    "                System.out.print(\"*\");\n",
    "            }\n",
    "            System.out.println();\n",
    "        }\n",
    "\n",
    "    }\n",
    "}"
   ]
  },
  {
   "cell_type": "code",
   "execution_count": 78,
   "metadata": {
    "collapsed": false
   },
   "outputs": [
    {
     "name": "stdout",
     "output_type": "stream",
     "text": [
      "*\n",
      "**\n",
      "***\n",
      "****\n",
      "*****\n",
      "******\n",
      "*******\n",
      "********\n",
      "*********\n",
      "**********\n",
      "\n",
      "**********\n",
      "*********\n",
      "********\n",
      "*******\n",
      "******\n",
      "*****\n",
      "****\n",
      "***\n",
      "**\n",
      "*\n"
     ]
    }
   ],
   "source": [
    "!javac TriangleAndItsMirror.java\n",
    "!java TriangleAndItsMirror"
   ]
  },
  {
   "cell_type": "markdown",
   "metadata": {},
   "source": [
    "### 21. Homework: recursive function (the Fibonacci series)"
   ]
  },
  {
   "cell_type": "code",
   "execution_count": 4,
   "metadata": {
    "collapsed": false
   },
   "outputs": [
    {
     "name": "stdout",
     "output_type": "stream",
     "text": [
      "Overwriting RecursiveFuncTest.java\n"
     ]
    }
   ],
   "source": [
    "%%file RecursiveFuncTest.java\n",
    "\n",
    "public class RecursiveFuncTest{\n",
    "\n",
    "    public static void main(String[] arg) {\n",
    "        int j;\n",
    "        for(j=0;j<10;j++){\n",
    "            System.out.println(Fibonacci(j));\n",
    "        }\n",
    "        //System.out.println(Fibonacci(4));\n",
    "    }\n",
    "    \n",
    "    public static int Fibonacci(int i){\n",
    "        if(i==0){return 0;}\n",
    "            else if(i==1){return 1;}\n",
    "                else{return Fibonacci(i-2)+Fibonacci(i-1);}\n",
    "    }\n",
    "}"
   ]
  },
  {
   "cell_type": "code",
   "execution_count": 5,
   "metadata": {
    "collapsed": false
   },
   "outputs": [
    {
     "name": "stdout",
     "output_type": "stream",
     "text": [
      "0\n",
      "1\n",
      "1\n",
      "2\n",
      "3\n",
      "5\n",
      "8\n",
      "13\n",
      "21\n",
      "34\n"
     ]
    }
   ],
   "source": [
    "!javac RecursiveFuncTest.java\n",
    "!java RecursiveFuncTest"
   ]
  },
  {
   "cell_type": "markdown",
   "metadata": {},
   "source": [
    "# Day4; 26.09.2016; Taipeh"
   ]
  },
  {
   "cell_type": "markdown",
   "metadata": {},
   "source": [
    "### e.g.3  what's going to happen if a \"variable\" is \"static\"  (Java 7 book written by 洪維恩)"
   ]
  },
  {
   "cell_type": "code",
   "execution_count": 80,
   "metadata": {
    "collapsed": false
   },
   "outputs": [
    {
     "name": "stdout",
     "output_type": "stream",
     "text": [
      "Overwriting StaticVariable.java\n"
     ]
    }
   ],
   "source": [
    "%%file StaticVariable.java\n",
    "\n",
    "class CCircle\n",
    "{\n",
    "   private static int count=0;\n",
    "   private static double pi=3.14;\n",
    "   private double radius;\n",
    "\n",
    "   public CCircle()\n",
    "   {\n",
    "      this(1.0);             // in my point of view, this is a bit tricky.\n",
    "   }\n",
    "   public CCircle(double r)\n",
    "   {\n",
    "      radius=r;\n",
    "      count ++;\n",
    "   }\n",
    "   public void show()\n",
    "   {\n",
    "      System.out.println(\"radius=\"+radius);\n",
    "      //System.out.println(\"area=\"+pi*radius*radius);\n",
    "   }\n",
    "   public void show_count()\n",
    "   {\n",
    "      System.out.println(count+\" object(s) created\");\n",
    "   }\n",
    "}\n",
    "public class StaticVariable\n",
    "{\n",
    "   public static void main(String args[])\n",
    "   {\n",
    "      CCircle cir1=new CCircle();\n",
    "      cir1.show_count();\n",
    "      cir1.show();\n",
    "\n",
    "      CCircle cir2=new CCircle(2.0);\n",
    "      CCircle cir3=new CCircle(4.3);\n",
    "\n",
    "      cir1.show_count();\n",
    "      cir1.show();\n",
    "      cir2.show_count();\n",
    "      cir2.show();\n",
    "      cir3.show_count();\n",
    "      cir3.show();\n",
    "\n",
    "   }\n",
    "}"
   ]
  },
  {
   "cell_type": "code",
   "execution_count": 81,
   "metadata": {
    "collapsed": false
   },
   "outputs": [
    {
     "name": "stdout",
     "output_type": "stream",
     "text": [
      "1 object(s) created\r\n",
      "radius=1.0\r\n",
      "3 object(s) created\r\n",
      "radius=1.0\r\n",
      "3 object(s) created\r\n",
      "radius=2.0\r\n",
      "3 object(s) created\r\n",
      "radius=4.3\r\n"
     ]
    }
   ],
   "source": [
    "!javac StaticVariable.java\n",
    "!java StaticVariable"
   ]
  },
  {
   "cell_type": "markdown",
   "metadata": {},
   "source": [
    "#### i.e. a static attribute in a class is stored at a fixed address of the memory and shared by all objects of the class."
   ]
  },
  {
   "cell_type": "markdown",
   "metadata": {},
   "source": [
    "### e.g.4  what's going to happen if a \"function\" is \"static\"  (Java 7 book written by 洪維恩)"
   ]
  },
  {
   "cell_type": "code",
   "execution_count": 84,
   "metadata": {
    "collapsed": false
   },
   "outputs": [
    {
     "name": "stdout",
     "output_type": "stream",
     "text": [
      "Overwriting StaticFunction.java\n"
     ]
    }
   ],
   "source": [
    "%%file StaticFunction.java\n",
    "class CCircle\n",
    "{\n",
    "   private static int count=0;\n",
    "   private static double pi=3.14;\n",
    "   private double radius;\n",
    "\n",
    "   public CCircle()\n",
    "   {\n",
    "      this(1.0);\n",
    "   }\n",
    "   public CCircle(double r)\n",
    "   {\n",
    "      radius=r;\n",
    "      count++;\n",
    "   }\n",
    "   public void show()\n",
    "   {\n",
    "      System.out.println(\"area=\"+pi*radius*radius);\n",
    "   }\n",
    "   public static void show_count()\n",
    "   {\n",
    "      System.out.println(count+\" object(s) created\");\n",
    "   }\n",
    "}\n",
    "public class StaticFunction\n",
    "{\n",
    "   public static void main(String args[])\n",
    "   {\n",
    "      CCircle.show_count();\n",
    "      CCircle cir1=new CCircle();\n",
    "      CCircle.show_count();\n",
    "      CCircle cir2=new CCircle(2.0);\n",
    "      CCircle cir3=new CCircle(4.3);\n",
    "      cir3.show_count();\n",
    "   }\n",
    "}"
   ]
  },
  {
   "cell_type": "code",
   "execution_count": 85,
   "metadata": {
    "collapsed": false
   },
   "outputs": [
    {
     "name": "stdout",
     "output_type": "stream",
     "text": [
      "0 object(s) created\r\n",
      "1 object(s) created\r\n",
      "3 object(s) created\r\n"
     ]
    }
   ],
   "source": [
    "!javac StaticFunction.java\n",
    "!java StaticFunction"
   ]
  },
  {
   "cell_type": "markdown",
   "metadata": {
    "collapsed": true
   },
   "source": [
    "#### i.e. a static method can be called without an instance of its enclosing class."
   ]
  },
  {
   "cell_type": "markdown",
   "metadata": {},
   "source": [
    "### e.g.5 what happens if Object1=Object2?  (Java 7 book written by 洪維恩)"
   ]
  },
  {
   "cell_type": "code",
   "execution_count": 88,
   "metadata": {
    "collapsed": false
   },
   "outputs": [
    {
     "name": "stdout",
     "output_type": "stream",
     "text": [
      "Overwriting ObjEqual.java\n"
     ]
    }
   ],
   "source": [
    "%%file ObjEqual.java\n",
    "class CCircle\n",
    "{\n",
    "   private static double pi=3.14;\n",
    "   private double radius;\n",
    "\n",
    "   public CCircle(double r)\n",
    "   {\n",
    "      radius=r;\n",
    "   }\n",
    "   public void setRadius(double r)\n",
    "   {\n",
    "      radius=r;\n",
    "   }\n",
    "   public void show()\n",
    "   {\n",
    "      System.out.println(\"area=\"+pi*radius*radius);\n",
    "   }\n",
    "}\n",
    "public class ObjEqual\n",
    "{\n",
    "   public static void main(String args[])\n",
    "   {\n",
    "      CCircle cir1,cir2;\n",
    "      cir1=new CCircle(1.0);\n",
    "      cir1.show();\n",
    "\n",
    "      cir2=cir1;\n",
    "      cir2.setRadius(2.0);\n",
    "      cir1.show();\n",
    "   }\n",
    "}"
   ]
  },
  {
   "cell_type": "code",
   "execution_count": 89,
   "metadata": {
    "collapsed": false
   },
   "outputs": [
    {
     "name": "stdout",
     "output_type": "stream",
     "text": [
      "area=3.14\r\n",
      "area=12.56\r\n"
     ]
    }
   ],
   "source": [
    "!javac ObjEqual.java\n",
    "!java ObjEqual"
   ]
  },
  {
   "cell_type": "markdown",
   "metadata": {},
   "source": [
    "if things of obj1 is varied, so does obj2 since they are equivalent."
   ]
  },
  {
   "cell_type": "markdown",
   "metadata": {},
   "source": [
    "### 22. Let's see if I understand \"private\" or \"public\":"
   ]
  },
  {
   "cell_type": "code",
   "execution_count": 64,
   "metadata": {
    "collapsed": false
   },
   "outputs": [
    {
     "name": "stdout",
     "output_type": "stream",
     "text": [
      "Writing testPrivate.java\n"
     ]
    }
   ],
   "source": [
    "%%file testPrivate.java\n",
    "private class Circle\n",
    "{\n",
    "    public static double pi=3.14;\n",
    "\n",
    "}\n",
    "public class testPrivate\n",
    "{\n",
    "    public static void main(String args[])\n",
    "    {\n",
    "        System.out.println(Circle.pi);\n",
    "    }\n",
    "}"
   ]
  },
  {
   "cell_type": "code",
   "execution_count": 65,
   "metadata": {
    "collapsed": false
   },
   "outputs": [
    {
     "name": "stdout",
     "output_type": "stream",
     "text": [
      "testPrivate.java:1: error: modifier private not allowed here\n",
      "private class Circle\n",
      "        ^\n",
      "1 error\n",
      "Fehler: Hauptklasse testPrivate konnte nicht gefunden oder geladen werden\n"
     ]
    }
   ],
   "source": [
    "!javac testPrivate.java\n",
    "!java testPrivate"
   ]
  },
  {
   "cell_type": "markdown",
   "metadata": {},
   "source": [
    "Q: how to import/create a package?\n",
    "\n",
    "Later, I'll learn how to import packages. This should be easy.\n",
    "\n",
    "Q: whether one can make a class \"private\"?\n",
    "\n",
    "In Java, the outest class that contains the main function must be declaired as \"public\". Indeed, if an outest class is private, it cannot communicate with other classes. In this case, OOP is useless... Also, if some outest class (which does not contain the main function) is declared as private, it would be useless because other classes (including the class that covers the main function) will not be able to use it. Hence, I think this is the reason why there's no \"private class\" in Java."
   ]
  },
  {
   "cell_type": "markdown",
   "metadata": {},
   "source": [
    "#### In Java there are private/public methods or attributes within a class. Whether methods/attributes in one class can be called from the other classes see the following rule:"
   ]
  },
  {
   "cell_type": "code",
   "execution_count": 63,
   "metadata": {
    "collapsed": false
   },
   "outputs": [
    {
     "data": {
      "image/jpeg": "[encoded data removed]",
      "text/plain": [
       "<IPython.core.display.Image object>"
      ]
     },
     "execution_count": 63,
     "metadata": {},
     "output_type": "execute_result"
    }
   ],
   "source": [
    "Image(\"Javabook.jpg\")"
   ]
  },
  {
   "cell_type": "markdown",
   "metadata": {},
   "source": [
    "Now, say, we have a private attribute in the class \"Circle\" and we'd like to call it from the class \"testPRivate\":"
   ]
  },
  {
   "cell_type": "code",
   "execution_count": 66,
   "metadata": {
    "collapsed": false
   },
   "outputs": [
    {
     "name": "stdout",
     "output_type": "stream",
     "text": [
      "Overwriting testPrivate.java\n"
     ]
    }
   ],
   "source": [
    "%%file testPrivate.java\n",
    "class Circle\n",
    "{\n",
    "    private static double pi=3.14;\n",
    "\n",
    "}\n",
    "public class testPrivate\n",
    "{\n",
    "    public static void main(String args[])\n",
    "    {   Circle.pi=123;\n",
    "        System.out.println(Circle.pi);\n",
    "    }\n",
    "}"
   ]
  },
  {
   "cell_type": "code",
   "execution_count": 67,
   "metadata": {
    "collapsed": false
   },
   "outputs": [
    {
     "name": "stdout",
     "output_type": "stream",
     "text": [
      "testPrivate.java:9: error: pi has private access in Circle\n",
      "    {   Circle.pi=123;\n",
      "              ^\n",
      "testPrivate.java:10: error: pi has private access in Circle\n",
      "        System.out.println(Circle.pi);\n",
      "                                 ^\n",
      "2 errors\n",
      "Fehler: Hauptklasse testPrivate konnte nicht gefunden oder geladen werden\n"
     ]
    }
   ],
   "source": [
    "!javac testPrivate.java\n",
    "!java testPrivate"
   ]
  },
  {
   "cell_type": "markdown",
   "metadata": {},
   "source": [
    "#### This can be fixed by removing the modifier \"private\" of the attribute \"pi\" , as the following:"
   ]
  },
  {
   "cell_type": "code",
   "execution_count": 13,
   "metadata": {
    "collapsed": false
   },
   "outputs": [
    {
     "name": "stdout",
     "output_type": "stream",
     "text": [
      "Overwriting testPrivate.java\n"
     ]
    }
   ],
   "source": [
    "%%file testPrivate.java\n",
    "class Circle\n",
    "{\n",
    "    public static double pi=3.14;\n",
    "}\n",
    "public class testPrivate\n",
    "{\n",
    "    public static void main(String args[])\n",
    "    {   Circle.pi=123;\n",
    "        System.out.println(Circle.pi);\n",
    "    }\n",
    "}"
   ]
  },
  {
   "cell_type": "code",
   "execution_count": 14,
   "metadata": {
    "collapsed": false
   },
   "outputs": [
    {
     "name": "stdout",
     "output_type": "stream",
     "text": [
      "123.0\r\n"
     ]
    }
   ],
   "source": [
    "!javac testPrivate.java\n",
    "!java testPrivate"
   ]
  },
  {
   "cell_type": "markdown",
   "metadata": {},
   "source": [
    "Here comes a question: is it possible to have an outer static class? (we knew that inner classes can be static)\n",
    "\n",
    "See: http://stackoverflow.com/questions/7486012/static-classes-in-java\n",
    "\n",
    "Also, see the following example offered in that post (A top-level Java class mimicking static class behavior).\n",
    "\n",
    "Basically, if you 1) use a private constructor to prevent the class from being instantiated 2)declare everything in that class to be private 3)add the modifier final to that class in order to prevent the class from being extended(also prevent methods of the class to be overridden)\n",
    "\n",
    "then, a class like this will be a static-like class."
   ]
  },
  {
   "cell_type": "code",
   "execution_count": 32,
   "metadata": {
    "collapsed": false
   },
   "outputs": [
    {
     "name": "stdout",
     "output_type": "stream",
     "text": [
      "Overwriting MyStaticClass.java\n"
     ]
    }
   ],
   "source": [
    "%%file MyStaticClass.java\n",
    "// A top-level Java class mimicking static class behavior\n",
    "public final class MyStaticClass {\n",
    "    private MyStaticClass () { // private constructor\n",
    "        myStaticMember = 1;\n",
    "    }\n",
    "    private static int myStaticMember;\n",
    "    public static void setMyStaticMember(int val) {\n",
    "        myStaticMember = val;\n",
    "    }\n",
    "    public static int getMyStaticMember() {\n",
    "        return myStaticMember;\n",
    "    }\n",
    "    public static int squareMyStaticMember() {\n",
    "        return myStaticMember * myStaticMember;\n",
    "    }\n",
    "}"
   ]
  },
  {
   "cell_type": "code",
   "execution_count": 33,
   "metadata": {
    "collapsed": false
   },
   "outputs": [
    {
     "name": "stdout",
     "output_type": "stream",
     "text": [
      "Overwriting TestMyStaticClass.java\n"
     ]
    }
   ],
   "source": [
    "%%file TestMyStaticClass.java\n",
    "public class TestMyStaticClass {\n",
    "     public static void main(String []args){\n",
    "        MyStaticClass.setMyStaticMember(5);\n",
    "        System.out.println(\"Static value: \" + MyStaticClass.getMyStaticMember());\n",
    "        System.out.println(\"Value squared: \" + MyStaticClass.squareMyStaticMember());\n",
    "        // MyStaticClass x = new MyStaticClass(); // results in compile time error\n",
    "     }\n",
    "}"
   ]
  },
  {
   "cell_type": "code",
   "execution_count": 31,
   "metadata": {
    "collapsed": false
   },
   "outputs": [
    {
     "name": "stdout",
     "output_type": "stream",
     "text": [
      "Static value: 5\r\n",
      "Value squared: 25\r\n"
     ]
    }
   ],
   "source": [
    "!javac TestMyStaticClass.java\n",
    "!java TestMyStaticClass"
   ]
  },
  {
   "cell_type": "markdown",
   "metadata": {},
   "source": [
    "Now, I have another question: a private method can call non-private method if they are within the same class, right?\n",
    "\n",
    "I think the answer should be yes. I'm not sure yet whether doing so is stupid or not, but, I think, methods in the same class should be able to call each other freely. Let's test this to be sure:"
   ]
  },
  {
   "cell_type": "code",
   "execution_count": 42,
   "metadata": {
    "collapsed": false
   },
   "outputs": [
    {
     "name": "stdout",
     "output_type": "stream",
     "text": [
      "Overwriting TestPrivateMethod.java\n"
     ]
    }
   ],
   "source": [
    "%%file TestPrivateMethod.java\n",
    "public class TestPrivateMethod{\n",
    "    \n",
    "    private static void show1(){\n",
    "        System.out.println(\"Hello from show1(private method)\");\n",
    "        show2();\n",
    "    }\n",
    "    static void show2(){\n",
    "        System.out.println(\"Hello from show2(non-private method)\");\n",
    "        //show1();                          // don't add this if you 'd like the code to stop...\n",
    "    }\n",
    "    \n",
    "    public static void main(String []args){\n",
    "        show1();\n",
    "    }\n",
    "}"
   ]
  },
  {
   "cell_type": "code",
   "execution_count": 43,
   "metadata": {
    "collapsed": false
   },
   "outputs": [
    {
     "name": "stdout",
     "output_type": "stream",
     "text": [
      "Hello from show1(private method)\r\n",
      "Hello from show2(non-private method)\r\n"
     ]
    }
   ],
   "source": [
    "!javac TestPrivateMethod.java\n",
    "!java TestPrivateMethod"
   ]
  },
  {
   "cell_type": "markdown",
   "metadata": {},
   "source": [
    "Good. Now I understand: no matter what the methods are (private/public), as long as they are within the same class, they should be able to call each other."
   ]
  },
  {
   "cell_type": "markdown",
   "metadata": {},
   "source": [
    "Question: why the main method is within a public class in java? Also, why should the main method to be public?\n",
    "\n",
    "an answer from stackoverflow(http://stackoverflow.com/questions/22328302/why-main-is-declared-public-and-static-in-java):\n",
    "\n",
    "> public - The main method is called by the JVM to run the method which is outside the scope of the project therefore the access specifier has to be public to permit a call from anywhere outside the application.\n",
    "\n",
    "I see. Hence, both the method \"main\" and the class which contains the \"main\" have to be declared public. (so that they can be called outside the application)"
   ]
  },
  {
   "cell_type": "markdown",
   "metadata": {},
   "source": [
    "However, the following works and I don't know why. Let's stop here. I don't want to discuss this."
   ]
  },
  {
   "cell_type": "code",
   "execution_count": 58,
   "metadata": {
    "collapsed": false
   },
   "outputs": [
    {
     "name": "stdout",
     "output_type": "stream",
     "text": [
      "Overwriting TestMainMethod.java\n"
     ]
    }
   ],
   "source": [
    "%%file TestMainMethod.java\n",
    "class TestMainMethod {\n",
    "  public static void main(String args[]) {\n",
    "      System.out.println(\"This is not a public class!\");\n",
    "  }\n",
    "}"
   ]
  },
  {
   "cell_type": "code",
   "execution_count": 59,
   "metadata": {
    "collapsed": false
   },
   "outputs": [
    {
     "name": "stdout",
     "output_type": "stream",
     "text": [
      "This is not a public class!\r\n"
     ]
    }
   ],
   "source": [
    "!javac TestMainMethod.java\n",
    "!java TestMainMethod"
   ]
  },
  {
   "cell_type": "markdown",
   "metadata": {},
   "source": [
    "----"
   ]
  },
  {
   "cell_type": "markdown",
   "metadata": {},
   "source": [
    "### e.g.6 this is an interesting example using \"this.xxx\" ( it also shows that an object can be inputed to a function)  (Java 7 book written by 洪維恩)"
   ]
  },
  {
   "cell_type": "code",
   "execution_count": 54,
   "metadata": {
    "collapsed": false
   },
   "outputs": [
    {
     "name": "stdout",
     "output_type": "stream",
     "text": [
      "Overwriting ExampleUsingThis.java\n"
     ]
    }
   ],
   "source": [
    "%%file ExampleUsingThis.java\n",
    "class CCircle\n",
    "{\n",
    "   private static double pi=3.14;\n",
    "   private double radius;\n",
    "\n",
    "   public CCircle(double r)      // A constructor may need inputs. However, since it is just an initializer, \n",
    "   {                             // it does not have to return anything! \n",
    "      radius=r;                  // Therefore, we don't have to add \"void\" to a constructor!\n",
    "   }\n",
    "   public void compare(CCircle cir)\n",
    "   {\n",
    "      if(this.radius==cir.radius)\n",
    "         System.out.println(\"radius are equal\");\n",
    "      else\n",
    "         System.out.println(\"radius are not equal\");\n",
    "   }\n",
    "}\n",
    "public class ExampleUsingThis\n",
    "{\n",
    "   public static void main(String args[])\n",
    "   {\n",
    "      CCircle cir1=new CCircle(1.0);\n",
    "      CCircle cir2=new CCircle(1.0);\n",
    "      cir1.compare(cir2);\n",
    "\n",
    "      CCircle cir3=new CCircle(1.0);\n",
    "      CCircle cir4=new CCircle(1.1);\n",
    "      cir3.compare(cir4);\n",
    "   }\n",
    "}"
   ]
  },
  {
   "cell_type": "code",
   "execution_count": 55,
   "metadata": {
    "collapsed": false
   },
   "outputs": [
    {
     "name": "stdout",
     "output_type": "stream",
     "text": [
      "radius are equal\n",
      "radius are not equal\n"
     ]
    }
   ],
   "source": [
    "!javac ExampleUsingThis.java\n",
    "!java ExampleUsingThis"
   ]
  },
  {
   "cell_type": "markdown",
   "metadata": {},
   "source": [
    "### e.g.7 an object can be returned by a function!  (Java 7 book written by 洪維恩)"
   ]
  },
  {
   "cell_type": "code",
   "execution_count": 61,
   "metadata": {
    "collapsed": false
   },
   "outputs": [
    {
     "name": "stdout",
     "output_type": "stream",
     "text": [
      "Overwriting ReturnObj.java\n"
     ]
    }
   ],
   "source": [
    "%%file ReturnObj.java\n",
    "class CCircle\n",
    "{\n",
    "   private static double pi=3.14;\n",
    "   private double radius;\n",
    "\n",
    "   public CCircle(double r)\n",
    "   {\n",
    "      radius=r;\n",
    "   }\n",
    "   public void compare(CCircle cir)\n",
    "   {\n",
    "      if(this.radius==cir.radius)\n",
    "         System.out.println(\"radius are equal\");\n",
    "      else\n",
    "         System.out.println(\"radius are not equal\");\n",
    "   }\n",
    "}\n",
    "public class ReturnObj\n",
    "{\n",
    "   public static void main(String args[])\n",
    "   {\n",
    "      CCircle cir1=new CCircle(1.0);\n",
    "      CCircle cir2=new CCircle(2.0);\n",
    "      cir1.compare(cir2);\n",
    "   }\n",
    "}"
   ]
  },
  {
   "cell_type": "code",
   "execution_count": 62,
   "metadata": {
    "collapsed": false
   },
   "outputs": [
    {
     "name": "stdout",
     "output_type": "stream",
     "text": [
      "radius are not equal\n"
     ]
    }
   ],
   "source": [
    "!javac ReturnObj.java\n",
    "!java ReturnObj"
   ]
  },
  {
   "cell_type": "markdown",
   "metadata": {},
   "source": [
    "### e.g.8 the use of nested classes.  (Java 7 book written by 洪維恩)"
   ]
  },
  {
   "cell_type": "code",
   "execution_count": 7,
   "metadata": {
    "collapsed": false
   },
   "outputs": [
    {
     "name": "stdout",
     "output_type": "stream",
     "text": [
      "Overwriting NestedClass.java\n"
     ]
    }
   ],
   "source": [
    "%%file NestedClass.java\n",
    "public class NestedClass\n",
    "{\n",
    "   public static void main(String args[])\n",
    "   {\n",
    "      AnInnerClass aa= new AnInnerClass();\n",
    "      aa.set_num(5);\n",
    "   }\n",
    "\n",
    "   static class AnInnerClass        // important! this class has the modifier \"static\"!\n",
    "   {\n",
    "      int num;\n",
    "      void set_num(int n)\n",
    "      {\n",
    "         num=n;\n",
    "         System.out.println(\"num= \"+ num);\n",
    "      }\n",
    "   }\n",
    "}"
   ]
  },
  {
   "cell_type": "code",
   "execution_count": 9,
   "metadata": {
    "collapsed": false
   },
   "outputs": [
    {
     "name": "stdout",
     "output_type": "stream",
     "text": [
      "num= 5\n"
     ]
    }
   ],
   "source": [
    "!javac NestedClass.java\n",
    "!java NestedClass"
   ]
  },
  {
   "cell_type": "markdown",
   "metadata": {},
   "source": [
    "Since the class \"AnInnerClass\" is within a class which is static, it has to add the \"static\" modifier. (it does not need an instance, since it's within a class which does not need an instance)"
   ]
  },
  {
   "cell_type": "markdown",
   "metadata": {},
   "source": [
    "# Day5; 29.09.2016; Taipeh  (27.09 and 29.09: Typhoon's coming)"
   ]
  },
  {
   "cell_type": "markdown",
   "metadata": {},
   "source": [
    "### e.g.9 anonymous inner class  (Java 7 book written by 洪維恩)"
   ]
  },
  {
   "cell_type": "code",
   "execution_count": 12,
   "metadata": {
    "collapsed": false
   },
   "outputs": [
    {
     "name": "stdout",
     "output_type": "stream",
     "text": [
      "Writing AnonymInnerClassTest.java\n"
     ]
    }
   ],
   "source": [
    "%%file AnonymInnerClassTest.java\n",
    "\n",
    "public class AnonymInnerClassTest\n",
    "{\n",
    "   public static void main(String args[])\n",
    "   {\n",
    "      (\n",
    "         new Caaa()\n",
    "         {\n",
    "            void set_num(int n)\n",
    "            {\n",
    "               num=n;\n",
    "               System.out.println(\"num= \"+ num);\n",
    "            }\n",
    "         }\n",
    "      ).set_num(5);\n",
    "   }\n",
    "\n",
    "   static class Caaa\n",
    "   {\n",
    "       int num;\n",
    "   }\n",
    "}"
   ]
  },
  {
   "cell_type": "code",
   "execution_count": 13,
   "metadata": {
    "collapsed": false
   },
   "outputs": [
    {
     "name": "stdout",
     "output_type": "stream",
     "text": [
      "num= 5\n"
     ]
    }
   ],
   "source": [
    "!javac AnonymInnerClassTest.java\n",
    "!java AnonymInnerClassTest"
   ]
  },
  {
   "cell_type": "markdown",
   "metadata": {},
   "source": [
    "It's said that anonymous classes are frequently used when designing GUI in Java. I don't know yet. Now, let's see what we could have in one class:"
   ]
  },
  {
   "cell_type": "markdown",
   "metadata": {},
   "source": [
    "### e.g.10 many things within one Class  (Java 7 book written by 洪維恩)"
   ]
  },
  {
   "cell_type": "markdown",
   "metadata": {},
   "source": [
    "First of all, I'd like to see if it is possible to hava a static constructor?"
   ]
  },
  {
   "cell_type": "code",
   "execution_count": 18,
   "metadata": {
    "collapsed": false
   },
   "outputs": [
    {
     "name": "stdout",
     "output_type": "stream",
     "text": [
      "Overwriting app9_19.java\n"
     ]
    }
   ],
   "source": [
    "%%file app9_19.java\n",
    "class CBox\n",
    "{\n",
    "   private int length;\n",
    "   private int width;\n",
    "   private int height;\n",
    "   private CColor cr;\n",
    "\n",
    "   public static CBox(int l,int w,int h,String col)  // I added \"static\" to the constructor. What will happen?\n",
    "   {\n",
    "      length=l;\n",
    "      width=w;\n",
    "      height=h;\n",
    "      cr=new CColor(col);\n",
    "   }\n",
    "   class CColor\n",
    "   {\n",
    "      private String color;\n",
    "\n",
    "      public CColor(String clr)\n",
    "      {\n",
    "         color=clr;\n",
    "      }\n",
    "      public void show_color()\n",
    "      {\n",
    "         System.out.println(\"color=\"+color);\n",
    "      }\n",
    "   }\n",
    "   public void show()\n",
    "   {\n",
    "      System.out.println(\"length=\"+length);\n",
    "      System.out.println(\"width=\"+width);\n",
    "      System.out.println(\"height=\"+height);\n",
    "      cr.show_color();\n",
    "   // System.out.println(\"color=\"+cr.color);\n",
    "   }\n",
    "}\n",
    "\n",
    "public class app9_19\n",
    "{\n",
    "   public static void main(String args[])\n",
    "   {\n",
    "      CBox box=new CBox(2,3,4,\"Blue\");\n",
    "      box.show();\n",
    "   }\n",
    "}"
   ]
  },
  {
   "cell_type": "code",
   "execution_count": 19,
   "metadata": {
    "collapsed": false
   },
   "outputs": [
    {
     "name": "stderr",
     "output_type": "stream",
     "text": [
      "app9_19.java:8: error: modifier static not allowed here\n",
      "   public static CBox(int l,int w,int h,String col)\n",
      "                 ^\n",
      "app9_19.java:10: error: non-static variable length cannot be referenced from a static context\n",
      "      length=l;\n",
      "      ^\n",
      "app9_19.java:11: error: non-static variable width cannot be referenced from a static context\n",
      "      width=w;\n",
      "      ^\n",
      "app9_19.java:12: error: non-static variable height cannot be referenced from a static context\n",
      "      height=h;\n",
      "      ^\n",
      "app9_19.java:13: error: non-static variable cr cannot be referenced from a static context\n",
      "      cr=new CColor(col);\n",
      "      ^\n",
      "app9_19.java:13: error: non-static variable this cannot be referenced from a static context\n",
      "      cr=new CColor(col);\n",
      "         ^\n",
      "6 errors\n"
     ]
    },
    {
     "name": "stdout",
     "output_type": "stream",
     "text": [
      "length=2\n",
      "width=3\n",
      "height=4\n",
      "color=Blue\n"
     ]
    }
   ],
   "source": [
    "!javac app9_19.java\n",
    "!java app9_19"
   ]
  },
  {
   "cell_type": "markdown",
   "metadata": {},
   "source": [
    "No, it is not possible. Indeed, One should not do this because the variables are not defined within the constructor. In the region of a constructor, what can be done only is to assign values to variables."
   ]
  },
  {
   "cell_type": "code",
   "execution_count": 20,
   "metadata": {
    "collapsed": false
   },
   "outputs": [
    {
     "name": "stdout",
     "output_type": "stream",
     "text": [
      "Overwriting app9_19.java\n"
     ]
    }
   ],
   "source": [
    "%%file app9_19.java\n",
    "class CBox\n",
    "{\n",
    "   private int length;\n",
    "   private int width;\n",
    "   private int height;\n",
    "   private CColor cr;\n",
    "\n",
    "   public CBox(int l,int w,int h,String col) // in my point of view, you don't have to say the constructor is public. \n",
    "   {                                  // what's the consequence of doing so? \n",
    "      length=l;\n",
    "      width=w;\n",
    "      height=h;\n",
    "      cr=new CColor(col);\n",
    "   }\n",
    "   class CColor\n",
    "   {\n",
    "      private String color;\n",
    "\n",
    "      public CColor(String clr)\n",
    "      {\n",
    "         color=clr;\n",
    "      }\n",
    "      public void show_color()\n",
    "      {\n",
    "         System.out.println(\"color=\"+color);\n",
    "      }\n",
    "   }\n",
    "   public void show()\n",
    "   {\n",
    "      System.out.println(\"length=\"+length);\n",
    "      System.out.println(\"width=\"+width);\n",
    "      System.out.println(\"height=\"+height);\n",
    "      cr.show_color();\n",
    "   // System.out.println(\"color=\"+cr.color);\n",
    "   }\n",
    "}\n",
    "\n",
    "public class app9_19\n",
    "{\n",
    "   public static void main(String args[])\n",
    "   {\n",
    "      CBox box=new CBox(2,3,4,\"Blue\");\n",
    "      box.show();\n",
    "   }\n",
    "}"
   ]
  },
  {
   "cell_type": "code",
   "execution_count": 21,
   "metadata": {
    "collapsed": false
   },
   "outputs": [
    {
     "name": "stdout",
     "output_type": "stream",
     "text": [
      "length=2\n",
      "width=3\n",
      "height=4\n",
      "color=Blue\n"
     ]
    }
   ],
   "source": [
    "!javac app9_19.java\n",
    "!java app9_19"
   ]
  },
  {
   "cell_type": "markdown",
   "metadata": {},
   "source": [
    "### 23. Exercise: see if I understand how to use the constructor."
   ]
  },
  {
   "cell_type": "code",
   "execution_count": 107,
   "metadata": {
    "collapsed": false
   },
   "outputs": [
    {
     "name": "stdout",
     "output_type": "stream",
     "text": [
      "Overwriting testConstructor.java\n"
     ]
    }
   ],
   "source": [
    "%%file testConstructor.java\n",
    "\n",
    "class SomeClass{\n",
    "\n",
    "    public int aninteger;\n",
    "\n",
    "    public void BankAccounts(int alpha){    //mistake! \"void\" shouldn't be added to a constructor!\n",
    "         aninteger=alpha;\n",
    "    }\n",
    "}\n",
    "public class testConstructor\n",
    "{\n",
    "    public static void main(String CmdLineArgs[]){\n",
    "        SomeClass AnObj=new SomeClass(2);\n",
    "        System.out.println(AnObj.aninteger);\n",
    "    }\n",
    "}"
   ]
  },
  {
   "cell_type": "code",
   "execution_count": 108,
   "metadata": {
    "collapsed": false
   },
   "outputs": [
    {
     "name": "stderr",
     "output_type": "stream",
     "text": [
      "testConstructor.java:13: error: constructor SomeClass in class SomeClass cannot be applied to given types;\n",
      "        SomeClass AnObj=new SomeClass(2);\n",
      "                        ^\n",
      "  required: no arguments\n",
      "  found: int\n",
      "  reason: actual and formal argument lists differ in length\n",
      "1 error\n",
      "錯誤: 找不到或無法載入主要類別 testConstructor\n"
     ]
    }
   ],
   "source": [
    "!javac testConstructor.java\n",
    "!java testConstructor"
   ]
  },
  {
   "cell_type": "markdown",
   "metadata": {},
   "source": [
    "\"void\" shouldn't be added to a constructor! Constructor only intialize variables and won't do anything else.\n",
    "\n",
    "however, one can assign \"private/public\" to a constructor. (it is possible to prevent a class from being instantiated by using a private constructor)"
   ]
  },
  {
   "cell_type": "markdown",
   "metadata": {},
   "source": [
    "### 24. Exercise: cash-in & cash-out"
   ]
  },
  {
   "cell_type": "code",
   "execution_count": 50,
   "metadata": {
    "collapsed": false
   },
   "outputs": [
    {
     "name": "stdout",
     "output_type": "stream",
     "text": [
      "Overwriting CashInOut.java\n"
     ]
    }
   ],
   "source": [
    "%%file CashInOut.java\n",
    "\n",
    "class BankAccounts{\n",
    "    public String UsrName;\n",
    "    public double UsrBalance;\n",
    "\n",
    "    public BankAccounts(String UsrName, double UsrBalance){\n",
    "        this.UsrName=UsrName;\n",
    "        this.UsrBalance=UsrBalance;\n",
    "        System.out.println(\"Name=\"+this.UsrName);\n",
    "        System.out.println(\"Initial Balance=\"+this.UsrBalance);\n",
    "    }\n",
    "    public void withdraw(double amount){\n",
    "        System.out.println(\"Money to Withdraw=\"+amount);\n",
    "        this.UsrBalance-=amount;\n",
    "        System.out.println(\"Balance=\"+this.UsrBalance);\n",
    "    }\n",
    "    public void deposit(double amount){\n",
    "        System.out.println(\"Money to deposit=\"+amount);\n",
    "        this.UsrBalance=this.UsrBalance+amount;\n",
    "        System.out.println(\"Balance=\"+this.UsrBalance);\n",
    "    }\n",
    "}\n",
    "public class CashInOut\n",
    "{\n",
    "    public static void main(String CmdLineArgs[]){\n",
    "        BankAccounts a=new BankAccounts(\"Herr Löwe\",500.);\n",
    "        a.withdraw(100.);\n",
    "        a.deposit(50.);\n",
    "        System.out.println(\"final balance=\"+a.UsrBalance);\n",
    "\n",
    "        System.out.println();\n",
    "        \n",
    "        BankAccounts b=new BankAccounts(\"Frau Schweinefuss\",0.);\n",
    "        b.withdraw(100.);\n",
    "        b.deposit(50.);\n",
    "\n",
    "        System.out.println(\"final balance=\"+b.UsrBalance);\n",
    "    }\n",
    "}"
   ]
  },
  {
   "cell_type": "code",
   "execution_count": 51,
   "metadata": {
    "collapsed": false
   },
   "outputs": [
    {
     "name": "stdout",
     "output_type": "stream",
     "text": [
      "Name=Herr Löwe\r\n",
      "Initial Balance=500.0\r\n",
      "Money to Withdraw=100.0\r\n",
      "Balance=400.0\r\n",
      "Money to deposit=50.0\r\n",
      "Balance=450.0\r\n",
      "final balance=450.0\r\n",
      "\r\n",
      "Name=Frau Schweinefuss\r\n",
      "Initial Balance=0.0\r\n",
      "Money to Withdraw=100.0\r\n",
      "Balance=-100.0\r\n",
      "Money to deposit=50.0\r\n",
      "Balance=-50.0\r\n",
      "final balance=-50.0\r\n"
     ]
    }
   ],
   "source": [
    "!javac CashInOut.java\n",
    "!java CashInOut"
   ]
  },
  {
   "cell_type": "markdown",
   "metadata": {},
   "source": [
    "### 25. test: Overloading & anonymous obj"
   ]
  },
  {
   "cell_type": "code",
   "execution_count": 52,
   "metadata": {
    "collapsed": false
   },
   "outputs": [
    {
     "name": "stdout",
     "output_type": "stream",
     "text": [
      "Writing OverLoadingTest.java\n"
     ]
    }
   ],
   "source": [
    "%%file OverLoadingTest.java\n",
    "\n",
    "class calc{\n",
    "    \n",
    "    public void add(int a, int b){\n",
    "        System.out.println(\"x1+y1=\"+(a+b));\n",
    "    }\n",
    "    public void add(double a, double b){\n",
    "        System.out.println(\"x2+y2=\"+(a+b)); \n",
    "    }\n",
    "}\n",
    "public class OverLoadingTest\n",
    "{\n",
    "    public static void main(String CmdLineArgs[]){\n",
    "        (new calc()).add(1,2);           // practice: make sure I understand how to construct an anonymous obj.\n",
    "        (new calc()).add(1.2,3.4);\n",
    "        (new calc()).add('a','\\u03c6');  // I'll come back to learn this later (if I feel that's necessary...)\n",
    "    }\n",
    "}"
   ]
  },
  {
   "cell_type": "code",
   "execution_count": 53,
   "metadata": {
    "collapsed": false
   },
   "outputs": [
    {
     "name": "stdout",
     "output_type": "stream",
     "text": [
      "x1+y1=3\r\n",
      "x2+y2=4.6\r\n",
      "x1+y1=1063\r\n"
     ]
    }
   ],
   "source": [
    "!javac OverLoadingTest.java\n",
    "!java OverLoadingTest"
   ]
  },
  {
   "cell_type": "markdown",
   "metadata": {},
   "source": [
    "### e.g.11 an example in the lecture (whether all the variables can be printed out?)"
   ]
  },
  {
   "cell_type": "code",
   "execution_count": 152,
   "metadata": {
    "collapsed": false
   },
   "outputs": [
    {
     "name": "stdout",
     "output_type": "stream",
     "text": [
      "Overwriting TestVar.java\n"
     ]
    }
   ],
   "source": [
    "%%file TestVar.java\n",
    "\n",
    "public class TestVar {\n",
    "    int a=1;                               //instance variable\n",
    "    static int b=2;                        //static variable\n",
    "    \n",
    "    public void f1(int c){                 //local variable\n",
    "        int d=4;                           //local variable\n",
    "        System.out.println(\"a=\" + a);\n",
    "        System.out.println(\"b=\" + b);\n",
    "        System.out.println(\"c=\" + c);\n",
    "        System.out.println(\"d=\" + d);\n",
    "    }\n",
    "\n",
    "    public static void f2(int e){\n",
    "        //System.out.println(\"a=\" + a);    //compile error\n",
    "        System.out.println(\"b1=\" + b);\n",
    "        //System.out.println(\"c1=\" + c);   //compile error\n",
    "        //System.out.println(\"d1=\" + d);   //compile error\n",
    "        System.out.println(\"e1=\" + e);\n",
    "    }\n",
    "\n",
    "    public static void main(String args[]) {\n",
    "        TestVar scope = new TestVar();\n",
    "        scope.f1(3);\n",
    "        \n",
    "        TestVar.f2(5);\n",
    "        f2(6);\n",
    "        //scope.f2(7);\n",
    "    }\n",
    "}"
   ]
  },
  {
   "cell_type": "code",
   "execution_count": 153,
   "metadata": {
    "collapsed": false
   },
   "outputs": [
    {
     "name": "stdout",
     "output_type": "stream",
     "text": [
      "a=1\n",
      "b=2\n",
      "c=3\n",
      "d=4\n",
      "b1=2\n",
      "e1=5\n",
      "b1=2\n",
      "e1=6\n"
     ]
    }
   ],
   "source": [
    "!javac TestVar.java\n",
    "!java TestVar"
   ]
  },
  {
   "cell_type": "markdown",
   "metadata": {},
   "source": [
    "### e.g.12 an example in the lecture ( test the use of \"this.xxx\" and this()  ) \n",
    "\n",
    "this.xxx: this expression is written within the method.\n",
    "\n",
    "this(): within the constructor (from some constructor to call another constructor)"
   ]
  },
  {
   "cell_type": "code",
   "execution_count": 54,
   "metadata": {
    "collapsed": false
   },
   "outputs": [
    {
     "name": "stdout",
     "output_type": "stream",
     "text": [
      "Writing TestThisEx1.java\n"
     ]
    }
   ],
   "source": [
    "%%file TestThisEx1.java\n",
    "\n",
    "public class TestThisEx1 {\n",
    "\n",
    "    int x = 0, y = 0;\n",
    "\n",
    "    public TestThisEx1(String message){\n",
    "        System.out.println(\"It's a secret:\" + message);\n",
    "    }\n",
    "    \n",
    "    public TestThisEx1(){\n",
    "        this(\"no secret\");\n",
    "        System.out.println(\"TestThisEx1()\");\n",
    "    }\n",
    "\n",
    "    public boolean setPosition(int x, int y) {\n",
    "        this.x = x;\n",
    "        this.y = y;\n",
    "        //System.out.println(\"this=\" + this);\n",
    "        return true;\n",
    "    }\n",
    "\n",
    "    public static void main(String[] args) {\n",
    "        TestThisEx1 actionObj = new TestThisEx1();\n",
    "        boolean flag = actionObj.setPosition(6, 12);\n",
    "        //System.out.println(\"actionObj_1=\" + actionObj);\n",
    "        \n",
    "        System.out.println(\"flag=\" + flag);\n",
    "    }\n",
    "}\n"
   ]
  },
  {
   "cell_type": "code",
   "execution_count": 55,
   "metadata": {
    "collapsed": false
   },
   "outputs": [
    {
     "name": "stdout",
     "output_type": "stream",
     "text": [
      "It's a secret:no secret\n",
      "TestThisEx1()\n",
      "flag=true\n"
     ]
    }
   ],
   "source": [
    "!javac TestThisEx1.java\n",
    "!java TestThisEx1"
   ]
  },
  {
   "cell_type": "markdown",
   "metadata": {},
   "source": [
    "# Day6; 30.09.2016; Taipeh"
   ]
  },
  {
   "cell_type": "markdown",
   "metadata": {},
   "source": [
    "### 26. Lab: Sorting"
   ]
  },
  {
   "cell_type": "markdown",
   "metadata": {},
   "source": [
    "Let's do it (a simple sort) first in Python"
   ]
  },
  {
   "cell_type": "code",
   "execution_count": 364,
   "metadata": {
    "collapsed": false
   },
   "outputs": [
    {
     "name": "stdout",
     "output_type": "stream",
     "text": [
      "[23, 12, 7, 5, 2]\n"
     ]
    }
   ],
   "source": [
    "arr=[5,12,7,23,2]\n",
    "\n",
    "for i in range(len(arr)):\n",
    "    tmp=arr[i]\n",
    "    for j in range(i+1,len(arr)):\n",
    "        if arr[j]>tmp:             # look for the biggest number\n",
    "            tmp=arr[j]\n",
    "            index=j\n",
    "            arr[index]=arr[i]      # swap\n",
    "            arr[i]=tmp\n",
    "print arr"
   ]
  },
  {
   "cell_type": "markdown",
   "metadata": {},
   "source": [
    "Now, let's do it in the stupid Java:"
   ]
  },
  {
   "cell_type": "code",
   "execution_count": 92,
   "metadata": {
    "collapsed": false
   },
   "outputs": [
    {
     "name": "stdout",
     "output_type": "stream",
     "text": [
      "Overwriting SortTest.java\n"
     ]
    }
   ],
   "source": [
    "%%file SortTest.java\n",
    "import java.util.Arrays;\n",
    "\n",
    "public class SortTest\n",
    "{\n",
    "    public static void main(String CmdLineArgs[]){\n",
    "        int i,j,tmp,index=1;\n",
    "        int arr[]={5,12,7,23,2};\n",
    "        for(i=0;i<arr.length;i++){\n",
    "            tmp=arr[i];\n",
    "            for(j=i+1;j<arr.length;j++){\n",
    "                if(arr[j]>tmp){                          //find the biggest number\n",
    "                    tmp=arr[j];\n",
    "                    index=j;\n",
    "                    arr[index]=arr[i];                   //swap\n",
    "                    arr[i]=tmp;\n",
    "                }\n",
    "            }\n",
    "        }\n",
    "        System.out.println(Arrays.toString(arr));\n",
    "    }\n",
    "}\n"
   ]
  },
  {
   "cell_type": "code",
   "execution_count": 93,
   "metadata": {
    "collapsed": false
   },
   "outputs": [
    {
     "name": "stdout",
     "output_type": "stream",
     "text": [
      "[23, 12, 7, 5, 2]\n"
     ]
    }
   ],
   "source": [
    "!javac SortTest.java\n",
    "!java SortTest"
   ]
  },
  {
   "cell_type": "markdown",
   "metadata": {},
   "source": [
    "Now, in the following, the goal is to get used to matrices and functions in Java. OOP is barely involved (there's no instance in my code)."
   ]
  },
  {
   "cell_type": "code",
   "execution_count": 6,
   "metadata": {
    "collapsed": false
   },
   "outputs": [
    {
     "name": "stdout",
     "output_type": "stream",
     "text": [
      "Overwriting SortHwk.java\n"
     ]
    }
   ],
   "source": [
    "%%file SortHwk.java\n",
    "import java.util.Arrays;\n",
    "\n",
    "public class SortHwk\n",
    "{\n",
    "    public static int[][] sort(int mat[][]){\n",
    "        /** \n",
    "        /* This function sorts the elements of an array. \n",
    "        /* After sorting, the elements will be arranged in descending order. \n",
    "        /* The input array is stored at mat[1][:]. Its attached label is stored at mat[0][:].\n",
    "        /*\n",
    "        /* Return:\n",
    "        /*     the sorted array and its corresponding label\n",
    "        /* Locally, the sorted array is stored at newmat[1][:]. Its attached label is stored at newmat[0][:].\n",
    "        */\n",
    "        int i,j,tmp,tmpLabel,index=1;\n",
    "        int newmat[][]=new int[mat.length][mat[0].length];\n",
    " \n",
    "        for(i=0;i<mat.length;i++){                    //copy the input matrix\n",
    "            for(j=0;j<mat[0].length;j++){\n",
    "            newmat[i][j]=mat[i][j];\n",
    "            }\n",
    "        }\n",
    "        for(i=0;i<newmat[0].length;i++){\n",
    "            tmp=newmat[1][i];\n",
    "            tmpLabel=newmat[0][i];\n",
    "            for(j=i+1;j<newmat[0].length;j++){\n",
    "                if(newmat[1][j]>tmp){                 //find the biggest number\n",
    "                    tmp=newmat[1][j];\n",
    "                    tmpLabel=newmat[0][j];\n",
    "                    index=j;\n",
    "                    newmat[1][index]=newmat[1][i];    //swap\n",
    "                    newmat[1][i]=tmp;\n",
    "                    newmat[0][index]=newmat[0][i];    //swap the Label of arr, too\n",
    "                    newmat[0][i]=tmpLabel;\n",
    "                }\n",
    "            }\n",
    "        }\n",
    "        return newmat;\n",
    "    }\n",
    "    \n",
    "    public static int[] RanArrayGen(int randarr[], int MaxNum){\n",
    "        /** \n",
    "        /* This function creats an array which contains uniformly distributed random numbers(integer). \n",
    "        /* The integers are within the range [1,MaxNum]. \n",
    "        /*\n",
    "        /* Return:\n",
    "        /*     the array of random numbers(integer)\n",
    "        */\n",
    "        int i;        \n",
    "        for(i=0;i<randarr.length;i++){          //create an array which contains random numbers ranging from 1 to 42\n",
    "            randarr[i]=(int)(Math.random()*MaxNum+1);\n",
    "        }\n",
    "        return randarr;\n",
    "    }\n",
    "\n",
    "    public static int[][] RanArraystats(int randarr[],int MaxNum){\n",
    "        /** \n",
    "        /* This function will see how the random numers in \"randarr\" are distributed.\n",
    "        /* \n",
    "        /*\n",
    "        /* Return:\n",
    "        /*     Matrix (size: MaxNum X MaxNum)\n",
    "        */\n",
    "        int i,j;\n",
    "        int mat[][]=new int[MaxNum][MaxNum];\n",
    "        for(i=0;i<MaxNum;i++){                  //see how the numbers in the array \"randarr\" are distributed.\n",
    "            mat[0][i]=i+1;\n",
    "            mat[1][i]=0;\n",
    "            for(j=0;j<randarr.length;j++){\n",
    "                if(randarr[j]==i+1){mat[1][i]++;}\n",
    "            }\n",
    "        }\n",
    "        //System.out.println(Arrays.toString(mat[0]));\n",
    "        //System.out.println(Arrays.toString(mat[1]));\n",
    "        return mat; \n",
    "    }\n",
    "\n",
    "    public static void PrintResults(int mat[][], int newmat[][]){\n",
    "        /** \n",
    "        /* This function prints the final result.\n",
    "        /* \n",
    "        /* Return:\n",
    "        /*     Nothing\n",
    "        */\n",
    "        int i,j;\n",
    "\n",
    "        System.out.printf(\"original|    data |  sorted |    data \\n\");    // output results\n",
    "        System.out.printf(\"------------------------------------- \\n\");    // output results\n",
    "        for(i=0;i<mat[0].length;i++){\n",
    "            System.out.printf(\"%7d | %7d | %7d | %7d \\n\",mat[0][i],mat[1][i],newmat[0][i],newmat[1][i]);\n",
    "        }\n",
    "        \n",
    "    }\n",
    "    \n",
    "    public static void main(String CmdLineArgs[]){\n",
    "        int NRandom=Integer.parseInt(CmdLineArgs[0]),NLabel=Integer.parseInt(CmdLineArgs[1]);\n",
    "        \n",
    "        int randarr[] =new int[NRandom];\n",
    "        int mat[][]   =new int[2][NLabel];\n",
    "        int newmat[][]=new int[2][NLabel];\n",
    "\n",
    "        randarr=RanArrayGen(randarr,mat[0].length);// create an array that stores random numbers\n",
    "        mat=RanArraystats(randarr,mat[0].length);  // learn how many times that a label has shown in the created array\n",
    "        newmat=sort(mat);                          // sort the (label, number of times) matrix\n",
    "        PrintResults(mat,newmat);                  // output the final result\n",
    "    }\n",
    "}"
   ]
  },
  {
   "cell_type": "code",
   "execution_count": 57,
   "metadata": {
    "collapsed": false
   },
   "outputs": [
    {
     "name": "stdout",
     "output_type": "stream",
     "text": [
      "original|    data |  sorted |    data \r\n",
      "------------------------------------- \r\n",
      "      1 |    2416 |      32 |    2470 \r\n",
      "      2 |    2433 |      37 |    2445 \r\n",
      "      3 |    2380 |      31 |    2437 \r\n",
      "      4 |    2430 |      27 |    2436 \r\n",
      "      5 |    2289 |      12 |    2436 \r\n",
      "      6 |    2270 |       2 |    2433 \r\n",
      "      7 |    2386 |       4 |    2430 \r\n",
      "      8 |    2384 |      26 |    2430 \r\n",
      "      9 |    2360 |      21 |    2424 \r\n",
      "     10 |    2344 |      19 |    2420 \r\n",
      "     11 |    2316 |      30 |    2416 \r\n",
      "     12 |    2436 |       1 |    2416 \r\n",
      "     13 |    2374 |      39 |    2414 \r\n",
      "     14 |    2341 |      17 |    2411 \r\n",
      "     15 |    2343 |      33 |    2404 \r\n",
      "     16 |    2383 |      25 |    2402 \r\n",
      "     17 |    2411 |      20 |    2401 \r\n",
      "     18 |    2370 |      22 |    2393 \r\n",
      "     19 |    2420 |       7 |    2386 \r\n",
      "     20 |    2401 |       8 |    2384 \r\n",
      "     21 |    2424 |      24 |    2383 \r\n",
      "     22 |    2393 |      16 |    2383 \r\n",
      "     23 |    2359 |       3 |    2380 \r\n",
      "     24 |    2383 |      13 |    2374 \r\n",
      "     25 |    2402 |      28 |    2372 \r\n",
      "     26 |    2430 |      35 |    2371 \r\n",
      "     27 |    2436 |      18 |    2370 \r\n",
      "     28 |    2372 |      42 |    2365 \r\n",
      "     29 |    2331 |       9 |    2360 \r\n",
      "     30 |    2416 |      23 |    2359 \r\n",
      "     31 |    2437 |      40 |    2355 \r\n",
      "     32 |    2470 |      36 |    2354 \r\n",
      "     33 |    2404 |      10 |    2344 \r\n",
      "     34 |    2309 |      15 |    2343 \r\n",
      "     35 |    2371 |      14 |    2341 \r\n",
      "     36 |    2354 |      29 |    2331 \r\n",
      "     37 |    2445 |      38 |    2322 \r\n",
      "     38 |    2322 |      41 |    2321 \r\n",
      "     39 |    2414 |      11 |    2316 \r\n",
      "     40 |    2355 |      34 |    2309 \r\n",
      "     41 |    2321 |       5 |    2289 \r\n",
      "     42 |    2365 |       6 |    2270 \r\n"
     ]
    }
   ],
   "source": [
    "!javac SortHwk.java\n",
    "!java SortHwk 100000 42    # first arg: number of random numbers wanted; second arg: number of labels wanted."
   ]
  },
  {
   "cell_type": "markdown",
   "metadata": {},
   "source": [
    "# Day7&8 ; 1&2.10.2016; Taipeh; at home"
   ]
  },
  {
   "cell_type": "markdown",
   "metadata": {},
   "source": [
    "### 27. Lab: the MergeSort algorithm"
   ]
  },
  {
   "cell_type": "markdown",
   "metadata": {},
   "source": [
    "Now, I'd like to learn the method \"Merge Sort\". The main idea here is to join two sorted arrays by the method which is called \"Merge\". After this process, one will obtain a final, merged, and sorted array."
   ]
  },
  {
   "cell_type": "markdown",
   "metadata": {},
   "source": [
    "Ideas\n",
    "* small sorted arrays are objects of a class. They can be jointed via the method \"Merge\".\n",
    "* this sorting algorithm is parallelizable."
   ]
  },
  {
   "cell_type": "markdown",
   "metadata": {},
   "source": [
    "First of all, let's explore the algorithm a bit with Python."
   ]
  },
  {
   "cell_type": "code",
   "execution_count": 58,
   "metadata": {
    "collapsed": false
   },
   "outputs": [
    {
     "name": "stdout",
     "output_type": "stream",
     "text": [
      "[2, 3]\n"
     ]
    }
   ],
   "source": [
    "print range(2,4)"
   ]
  },
  {
   "cell_type": "markdown",
   "metadata": {},
   "source": [
    "I'm going to follow a pseudocode of the procedure \"Merge\" I found (http://www.personal.kent.edu/~rmuhamma/Algorithms/MyAlgorithms/Sorting/mergeSort.htm) :"
   ]
  },
  {
   "cell_type": "markdown",
   "metadata": {},
   "source": [
    "> MERGE (A, p, q, r )\n",
    "\n",
    ">1.      n1 ← q − p + 1\n",
    ">2.      n2 ← r − q\n",
    ">3.      Create arrays L[1 . . n1 + 1] and R[1 . . n2 + 1]\n",
    ">4.      FOR i ← 1 TO n1\n",
    ">5.            DO L[i] ← A[p + i − 1]\n",
    ">6.      FOR j ← 1 TO n2\n",
    ">7.            DO R[j] ← A[q + j ]\n",
    ">8.      L[n1 + 1] ← ∞\n",
    ">9.      R[n2 + 1] ← ∞\n",
    ">10.    i ← 1\n",
    ">11.    j ← 1\n",
    ">12.    FOR k ← p TO r\n",
    ">13.         DO IF L[i ] ≤ R[ j]\n",
    ">14.                THEN A[k] ← L[i]\n",
    ">15.                        i ← i + 1\n",
    ">16.                ELSE A[k] ← R[j]\n",
    ">17.                        j ← j + 1"
   ]
  },
  {
   "cell_type": "code",
   "execution_count": 202,
   "metadata": {
    "collapsed": false
   },
   "outputs": [],
   "source": [
    "def Merge(arr,p,q,r):\n",
    "    n1=q-p+1\n",
    "    n2=r-q\n",
    "    Left=[]\n",
    "    Right=[]\n",
    "    for i in range(n1):\n",
    "        Left.append(arr[p+i])\n",
    "    for j in range(n2):\n",
    "        Right.append(arr[q+j+1])\n",
    "    Left.append(float(\"inf\"))\n",
    "    Right.append(float(\"inf\"))\n",
    "    i=0\n",
    "    j=0\n",
    "    for k in range(p,r+1):\n",
    "        if (Left[i]<=Right[j]):\n",
    "            arr[k]=Left[i]\n",
    "            i=i+1\n",
    "        else:\n",
    "            arr[k]=Right[j]\n",
    "            j=j+1\n",
    "    return arr"
   ]
  },
  {
   "cell_type": "markdown",
   "metadata": {},
   "source": [
    "Now, let's test whether the \"Merge\" procedure works fine. First of all, let's try to \"Merge\" two sorted arrays:"
   ]
  },
  {
   "cell_type": "code",
   "execution_count": 203,
   "metadata": {
    "collapsed": false
   },
   "outputs": [
    {
     "name": "stdout",
     "output_type": "stream",
     "text": [
      "[1, 2, 2, 3, 4, 5, 6, 7]\n"
     ]
    }
   ],
   "source": [
    "arr=[2,4,5,7,1,2,3,6]\n",
    "arr=Merge(arr,0,3,7)\n",
    "print arr"
   ]
  },
  {
   "cell_type": "markdown",
   "metadata": {},
   "source": [
    "Now, we'll use \"Merge\" iteratively in order to sort a non-sorted array.\n",
    "\n",
    "The figure below is from:\n",
    "http://www.personal.kent.edu/~rmuhamma/Algorithms/MyAlgorithms/Sorting/mergeSort.htm\n",
    "\n",
    "I'm going to do the same thing as what's done in the figure below in order to test my code."
   ]
  },
  {
   "cell_type": "code",
   "execution_count": 97,
   "metadata": {
    "collapsed": false
   },
   "outputs": [
    {
     "data": {
      "image/png": "[encoded data removed]",
      "text/plain": [
       "<IPython.core.display.Image object>"
      ]
     },
     "execution_count": 97,
     "metadata": {},
     "output_type": "execute_result"
    }
   ],
   "source": [
    "Image(\"mergeSort.png\")"
   ]
  },
  {
   "cell_type": "code",
   "execution_count": 141,
   "metadata": {
    "collapsed": false
   },
   "outputs": [
    {
     "name": "stdout",
     "output_type": "stream",
     "text": [
      "[2, 5, 4, 6, 1, 3, 2, 6]\n",
      "[2, 4, 5, 6, 1, 2, 3, 6]\n",
      "[1, 2, 2, 3, 4, 5, 6, 6]\n",
      "\n",
      "the final sorted array= [1, 2, 2, 3, 4, 5, 6, 6]\n"
     ]
    }
   ],
   "source": [
    "arr=[5,2,4,6,1,3,2,6]  # the unsorted array\n",
    "\n",
    "n=1                    # the bottom-up procedure shown in the figure of the above cell\n",
    "while(n<len(arr)):\n",
    "    MergeTimes=len(arr)/(2*n)\n",
    "    for i in range(MergeTimes):\n",
    "        arr=Merge(arr,i*2*n,i*2*n+n-1,i*2*n+2*n-1)\n",
    "    n=n*2 \n",
    "    print arr\n",
    "print \"\\nthe final sorted array=\",arr"
   ]
  },
  {
   "cell_type": "code",
   "execution_count": 4,
   "metadata": {
    "collapsed": false
   },
   "outputs": [
    {
     "name": "stdout",
     "output_type": "stream",
     "text": [
      "Writing MergeSortTest.java\n"
     ]
    }
   ],
   "source": [
    "%%file MergeSortTest.java\n",
    "\n",
    "import java.util.Arrays;\n",
    "import java.lang.*;\n",
    "\n",
    "class MergeSort{\n",
    "    private int[] arr;\n",
    "\n",
    "    MergeSort(int[] arr){\n",
    "        this.arr=arr;\n",
    "    }\n",
    "    \n",
    "    int[] Merge(int p, int q, int r){\n",
    "        int n1,n2,i,j,k;\n",
    "        n1=q-p+1;\n",
    "        n2=r-q;\n",
    "        int Left[]=new int[n1+1];\n",
    "        int Right[]=new int[n2+1];\n",
    "\n",
    "        for(i=0;i<n1;i++){\n",
    "            Left[i]=this.arr[p+i];\n",
    "        }\n",
    "        for(j=0;j<n2;j++){\n",
    "            Right[j]=this.arr[q+j+1];\n",
    "        }\n",
    "        Left[n1]=(int)(Float.POSITIVE_INFINITY);   // let's check whether this is valid or not later.\n",
    "        Right[n2]=(int)(Float.POSITIVE_INFINITY);  // let's check whether this is valid or not later.\n",
    "        \n",
    "        \n",
    "        i=0;\n",
    "        j=0;\n",
    "        for(k=p;k<r+1;k++){\n",
    "            if(Left[i]<=Right[j]){\n",
    "                this.arr[k]=Left[i];\n",
    "                i=i+1;\n",
    "            }\n",
    "            else{\n",
    "                this.arr[k]=Right[j];\n",
    "                j=j+1;\n",
    "            }\n",
    "        }\n",
    "        return this.arr;\n",
    "    }\n",
    "    int[] Sort(){\n",
    "        int i,MergeTimes,n=1;\n",
    "        \n",
    "        while(n<this.arr.length){\n",
    "            MergeTimes=this.arr.length/(2*n);\n",
    "            for(i=0;i<MergeTimes;i++){\n",
    "                this.arr=Merge(i*2*n,i*2*n+n-1,i*2*n+2*n-1);\n",
    "            }\n",
    "            n=n*2;\n",
    "        }\n",
    "        return arr;\n",
    "    }\n",
    "}\n",
    "\n",
    "public class MergeSortTest{\n",
    "    \n",
    "    public static void main(String args[]){\n",
    "        \n",
    "        int arr_ini[]={2,4,5,7,1,2,3,6,2,3,4,6,1,2,7,1}; //the array that I want to sort\n",
    "        int i;\n",
    "        int arr0[]=new int[arr_ini.length/2];\n",
    "        int arr1[]=new int[arr_ini.length/2];\n",
    "        \n",
    "        for(i=0;i<arr_ini.length/2;i++){                 //split that array into two arrays:arr0 and arr1\n",
    "            arr0[i]=arr_ini[i];\n",
    "        }\n",
    "        for(i=0;i<arr_ini.length/2;i++){\n",
    "            arr1[i]=arr_ini[i+arr_ini.length/2];\n",
    "        }\n",
    "\n",
    "        MergeSort arr[]=new MergeSort[3];\n",
    "        arr[0]=new MergeSort(arr0);\n",
    "        arr[1]=new MergeSort(arr1);        \n",
    "        \n",
    "        arr0=arr[0].Sort();                              //sort the unsorted arr0 using the MergeSort algorithm\n",
    "        arr1=arr[1].Sort();                              //sort the unsorted arr1 using the MergeSort algorithm\n",
    "        \n",
    "        int[] arr2 = new int[arr0.length + arr1.length];\n",
    "        System.arraycopy(arr1, 0, arr2, 0, arr0.length); //connect the two sorted arrays into one unsorted array\n",
    "        System.arraycopy(arr2, 0, arr2, arr0.length, arr1.length);\n",
    "\n",
    "        arr[2]=new MergeSort(arr2);  \n",
    "        arr2=arr[2].Merge(0,7,15);                       //merge the two sorted arrays using the MergeSort algorithm\n",
    "                                                         //the final sorted array will be stored at arr2\n",
    "        \n",
    "        System.out.println(Arrays.toString(arr0));       //output the arrays (sorted arr0,arr1, and arr2)\n",
    "        System.out.println(Arrays.toString(arr1));\n",
    "        System.out.println(Arrays.toString(arr2));\n",
    "                \n",
    "    }\n",
    "}"
   ]
  },
  {
   "cell_type": "code",
   "execution_count": 5,
   "metadata": {
    "collapsed": false
   },
   "outputs": [
    {
     "name": "stdout",
     "output_type": "stream",
     "text": [
      "[1, 2, 2, 3, 4, 5, 6, 7]\n",
      "[1, 1, 2, 2, 3, 4, 6, 7]\n",
      "[1, 1, 1, 1, 2, 2, 2, 2, 3, 3, 4, 4, 6, 6, 7, 7]\n"
     ]
    }
   ],
   "source": [
    "!javac MergeSortTest.java\n",
    "!java MergeSortTest"
   ]
  },
  {
   "cell_type": "markdown",
   "metadata": {},
   "source": [
    "Next time, I can learn how to parallelize the above code. The code above is in principle parallelizable."
   ]
  },
  {
   "cell_type": "markdown",
   "metadata": {},
   "source": [
    "---"
   ]
  },
  {
   "cell_type": "markdown",
   "metadata": {},
   "source": [
    "#### Now, I'd like to understand the nested classes better. There are two kinds of nested classes:\n",
    "\n",
    "#### I. Non-static Nested Classes and II. Static Nested Classes.\n",
    "\n",
    "# First of all, let's learn the Non-static Nested Classes:"
   ]
  },
  {
   "cell_type": "markdown",
   "metadata": {},
   "source": [
    "### e.g.13 a wierd constructor (an example of the Java book written by 洪維恩)"
   ]
  },
  {
   "cell_type": "code",
   "execution_count": 64,
   "metadata": {
    "collapsed": false
   },
   "outputs": [
    {
     "name": "stdout",
     "output_type": "stream",
     "text": [
      "Writing app9_16.java\n"
     ]
    }
   ],
   "source": [
    "%%file app9_16.java\n",
    "public class app9_16\n",
    "{\n",
    "   public app9_16()\n",
    "   {\n",
    "      Caaa aa= new Caaa();\n",
    "      aa.set_num(5);\n",
    "   }\n",
    "\n",
    "   public static void main(String args[])\n",
    "   {\n",
    "      app9_16 obj=new app9_16();\n",
    "   }\n",
    "\n",
    "   class Caaa\n",
    "   {\n",
    "      int num;\n",
    "      void set_num(int n)\n",
    "      {\n",
    "         num=n;\n",
    "         System.out.println(\"num= \"+ num);\n",
    "      }\n",
    "   }\n",
    "}"
   ]
  },
  {
   "cell_type": "code",
   "execution_count": 65,
   "metadata": {
    "collapsed": false
   },
   "outputs": [
    {
     "name": "stdout",
     "output_type": "stream",
     "text": [
      "num= 5\r\n"
     ]
    }
   ],
   "source": [
    "!javac app9_16.java\n",
    "!java app9_16"
   ]
  },
  {
   "cell_type": "markdown",
   "metadata": {},
   "source": [
    "Well, what's done in the above code looks fine. Nothing appears to be wrong. If you want to use the class \"Caaa\", you must instantiate it since the modifier \"static\" is not added to it. In the code example above, he did this in the constructor of the main class, which actually looks wierd."
   ]
  },
  {
   "cell_type": "markdown",
   "metadata": {},
   "source": [
    "Now, let's see if we can instantiate \"Caaa\" without the need of a constructor:"
   ]
  },
  {
   "cell_type": "markdown",
   "metadata": {},
   "source": [
    "#### Now, I'd like to understand the nested classes better. There are two kinds of nested classes:\n",
    "\n",
    "#### I. Non-static Nested Classes and II. Static Nested Classes.\n",
    "\n",
    "# First of all, let's learn the Non-static Nested Classes:"
   ]
  },
  {
   "cell_type": "markdown",
   "metadata": {},
   "source": [
    "### 28. exercise: a little modification of the previous example (non-static nested classes)"
   ]
  },
  {
   "cell_type": "code",
   "execution_count": 97,
   "metadata": {
    "collapsed": false
   },
   "outputs": [
    {
     "name": "stdout",
     "output_type": "stream",
     "text": [
      "Writing app9_16_modified.java\n"
     ]
    }
   ],
   "source": [
    "%%file app9_16_modified.java\n",
    "public class app9_16_modified\n",
    "{\n",
    "   void instCaaa(){\n",
    "      Caaa a=new Caaa();\n",
    "      a.set_num(5);\n",
    "   }\n",
    "\n",
    "   public static void main(String args[])\n",
    "   {\n",
    "       app9_16 aa =new app9_16();\n",
    "       aa.instCaaa();\n",
    "   }\n",
    "\n",
    "   class Caaa\n",
    "   {\n",
    "      int num;\n",
    "      void set_num(int n)\n",
    "      {\n",
    "         num=n;\n",
    "         System.out.println(\"num= \"+ num);\n",
    "      }\n",
    "   }\n",
    "}"
   ]
  },
  {
   "cell_type": "code",
   "execution_count": 98,
   "metadata": {
    "collapsed": false
   },
   "outputs": [
    {
     "name": "stdout",
     "output_type": "stream",
     "text": [
      "num= 5\r\n"
     ]
    }
   ],
   "source": [
    "!javac app9_16_modified.java\n",
    "!java app9_16_modified"
   ]
  },
  {
   "cell_type": "markdown",
   "metadata": {},
   "source": [
    "This is the way to instantiate a inner class. First instantiate the outer class, then, use the method within the outer class to instantiate the inner class. (or use the constructor of the outer class, as what the author did in e.g.13)"
   ]
  },
  {
   "cell_type": "markdown",
   "metadata": {},
   "source": [
    "# Now, let's learn the static Nested Classes:"
   ]
  },
  {
   "cell_type": "markdown",
   "metadata": {},
   "source": [
    "### 29. exercise: a little modification of the previous example (static nested classes)"
   ]
  },
  {
   "cell_type": "code",
   "execution_count": 113,
   "metadata": {
    "collapsed": false
   },
   "outputs": [
    {
     "name": "stdout",
     "output_type": "stream",
     "text": [
      "Overwriting app9_16_modified.java\n"
     ]
    }
   ],
   "source": [
    "%%file app9_16_modified.java\n",
    "public class app9_16_modified{\n",
    "\n",
    "   public static void main(String args[])\n",
    "   {\n",
    "       Caaa.set_num(5);\n",
    "   }\n",
    "\n",
    "   static class Caaa\n",
    "   {\n",
    "      static int num;\n",
    "      static void set_num(int n)\n",
    "      {\n",
    "         num=n;\n",
    "         System.out.println(\"num= \"+ num);\n",
    "      }\n",
    "   }\n",
    "}"
   ]
  },
  {
   "cell_type": "code",
   "execution_count": 114,
   "metadata": {
    "collapsed": false
   },
   "outputs": [
    {
     "name": "stdout",
     "output_type": "stream",
     "text": [
      "num= 5\r\n"
     ]
    }
   ],
   "source": [
    "!javac app9_16_modified.java\n",
    "!java app9_16_modified"
   ]
  },
  {
   "cell_type": "markdown",
   "metadata": {},
   "source": [
    "This is fine. However, if methods within the inner class is not static, we have to instantiate the inner class in order to use those methods:"
   ]
  },
  {
   "cell_type": "markdown",
   "metadata": {},
   "source": [
    "### 30. exercise: a little modification of the previous example (static nested classes)"
   ]
  },
  {
   "cell_type": "code",
   "execution_count": 2,
   "metadata": {
    "collapsed": false
   },
   "outputs": [
    {
     "name": "stdout",
     "output_type": "stream",
     "text": [
      "Writing app9_16_modified.java\n"
     ]
    }
   ],
   "source": [
    "%%file app9_16_modified.java\n",
    "public class app9_16_modified{\n",
    "\n",
    "   public static void main(String args[])\n",
    "   {\n",
    "       app9_16_modified.Caaa aa=new app9_16_modified.Caaa();\n",
    "       aa.set_num(5);\n",
    "   }\n",
    "\n",
    "   static class Caaa\n",
    "   {\n",
    "       int num;\n",
    "       void set_num(int n)\n",
    "      {\n",
    "         num=n;\n",
    "         System.out.println(\"num= \"+ num);\n",
    "      }\n",
    "   }\n",
    "}"
   ]
  },
  {
   "cell_type": "code",
   "execution_count": 3,
   "metadata": {
    "collapsed": false
   },
   "outputs": [
    {
     "name": "stdout",
     "output_type": "stream",
     "text": [
      "num= 5\n"
     ]
    }
   ],
   "source": [
    "!javac app9_16_modified.java\n",
    "!java app9_16_modified"
   ]
  },
  {
   "cell_type": "markdown",
   "metadata": {},
   "source": [
    "i.e. the class Caaa is visible by everyone since it is \"static\". However, since the method within it is not declared as \"static\", we still have to instantiate it once in order to use the methods within that class."
   ]
  },
  {
   "cell_type": "markdown",
   "metadata": {},
   "source": [
    "In short: a static nested class is just a nested class that doesn't require an instance of its enclosing class.\n",
    "\n",
    "also, a static method is a method that doesn't require an instance of its enclosing class."
   ]
  },
  {
   "cell_type": "markdown",
   "metadata": {},
   "source": [
    "# Day9 ; 3.10.2016; Taipeh"
   ]
  },
  {
   "cell_type": "code",
   "execution_count": 11,
   "metadata": {
    "collapsed": false
   },
   "outputs": [
    {
     "name": "stdout",
     "output_type": "stream",
     "text": [
      "Overwriting TestArgs.java\n"
     ]
    }
   ],
   "source": [
    "%%file TestArgs.java\n",
    "public class TestArgs{\n",
    "    public static void main(String args[]){\n",
    "        for(int i=0;i<args.length;i++){\n",
    "            System.out.println(args[i]);\n",
    "        }\n",
    "    }\n",
    "}"
   ]
  },
  {
   "cell_type": "code",
   "execution_count": 15,
   "metadata": {
    "collapsed": false
   },
   "outputs": [
    {
     "name": "stdout",
     "output_type": "stream",
     "text": [
      "hello\n",
      "hi\n",
      "this is one str\n"
     ]
    }
   ],
   "source": [
    "!javac TestArgs.java\n",
    "!java TestArgs hello hi \"this is one str\""
   ]
  },
  {
   "cell_type": "code",
   "execution_count": 22,
   "metadata": {
    "collapsed": false
   },
   "outputs": [
    {
     "name": "stdout",
     "output_type": "stream",
     "text": [
      "Overwriting EnhancedLoopTest.java\n"
     ]
    }
   ],
   "source": [
    "%%file EnhancedLoopTest.java\n",
    "public class EnhancedLoopTest{\n",
    "    public static void main(String args[]){\n",
    "        \n",
    "        int a[][]={{1,2,3},{4,5,6,7,8,9}};\n",
    "        \n",
    "        for(int[] row:a){\n",
    "            for(int value:row){\n",
    "                System.out.println(value);\n",
    "            }\n",
    "        }\n",
    "    }\n",
    "}"
   ]
  },
  {
   "cell_type": "code",
   "execution_count": 23,
   "metadata": {
    "collapsed": false
   },
   "outputs": [
    {
     "name": "stdout",
     "output_type": "stream",
     "text": [
      "1\n",
      "2\n",
      "3\n",
      "4\n",
      "5\n",
      "6\n",
      "7\n",
      "8\n",
      "9\n"
     ]
    }
   ],
   "source": [
    "!javac EnhancedLoopTest.java\n",
    "!java EnhancedLoopTest"
   ]
  },
  {
   "cell_type": "code",
   "execution_count": 40,
   "metadata": {
    "collapsed": false
   },
   "outputs": [
    {
     "name": "stdout",
     "output_type": "stream",
     "text": [
      "Overwriting VarArgs.java\n"
     ]
    }
   ],
   "source": [
    "%%file VarArgs.java\n",
    "\n",
    "public class VarArgs{\n",
    "    static void sum(int...a){\n",
    "        int Summ=0;\n",
    "        //for(int i:a){\n",
    "        for(int i=0;i<a.length;i++){\n",
    "            Summ=Summ+i;\n",
    "        }\n",
    "        System.out.println(Summ);\n",
    "    }\n",
    "    public static void main(String args[]){\n",
    "        sum(1, 2, 3, 4, 5, 6, 7, 8, 9, 10);          \n",
    "    \n",
    "    }\n",
    "}"
   ]
  },
  {
   "cell_type": "code",
   "execution_count": 41,
   "metadata": {
    "collapsed": false
   },
   "outputs": [
    {
     "name": "stdout",
     "output_type": "stream",
     "text": [
      "45\n"
     ]
    }
   ],
   "source": [
    "!javac VarArgs.java\n",
    "!java VarArgs"
   ]
  },
  {
   "cell_type": "code",
   "execution_count": 46,
   "metadata": {
    "collapsed": false
   },
   "outputs": [
    {
     "name": "stdout",
     "output_type": "stream",
     "text": [
      "Writing TestStringEx1.java\n"
     ]
    }
   ],
   "source": [
    "%%file TestStringEx1.java\n",
    "\n",
    "public class TestStringEx1 {\n",
    "\n",
    "    public static void main(String[] args) {\n",
    "        String data = \"abcdefghabcdefgh\";\n",
    "        System.out.println(\"data.charAt(3)=\" + data.charAt(3));\n",
    "        System.out.println(\"data.substring(3, 5)=\" + data.substring(3, 5));\n",
    "        System.out.println(\"data.indexOf('cd')=\" + data.indexOf(\"cd\"));\n",
    "        System.out.println(\"data.lastIndexOf('cd')=\" + data.lastIndexOf(\"cd\"));\n",
    "        System.out.println(\"data.length()=\" + data.length());\n",
    "    }\n",
    "}"
   ]
  },
  {
   "cell_type": "code",
   "execution_count": 47,
   "metadata": {
    "collapsed": false
   },
   "outputs": [
    {
     "name": "stdout",
     "output_type": "stream",
     "text": [
      "data.charAt(3)=d\n",
      "data.substring(3, 5)=de\n",
      "data.indexOf('cd')=2\n",
      "data.lastIndexOf('cd')=10\n",
      "data.length()=16\n"
     ]
    }
   ],
   "source": [
    "!javac TestStringEx1.java\n",
    "!java TestStringEx1"
   ]
  },
  {
   "cell_type": "code",
   "execution_count": 78,
   "metadata": {
    "collapsed": false
   },
   "outputs": [
    {
     "name": "stdout",
     "output_type": "stream",
     "text": [
      "Overwriting TestStringEx2.java\n"
     ]
    }
   ],
   "source": [
    "%%file TestStringEx2.java\n",
    "\n",
    "public class TestStringEx2 {\n",
    "\n",
    "    public static void main(String[] args) {\n",
    "        String data = \"Aaa\";\n",
    "        System.out.println(data.matches(\"[A-Z]{1}[a-z]{3}\"));\n",
    "        System.out.println(data.matches(\"[A-Z]{1}[a-z]{2}\"));\n",
    "        \n",
    "        System.out.println();\n",
    "        \n",
    "        data = \"AAAA123\";\n",
    "        System.out.println(data.matches(\"[A-Z]{3}\"));\n",
    "        System.out.println(data.matches(\"[A-Z]*\"));\n",
    "        System.out.println(data.matches(\"[A-Z]*[0-9]*\"));\n",
    "        //System.out.println(data.matches('\\D')    );    //??\n",
    "        \n",
    "        System.out.println();\n",
    "        \n",
    "        data = \"123789\";\n",
    "        \n",
    "\n",
    "        //Integer a=new Integer(data);\n",
    "        //System.out.println(a.parseInt(data) );\n",
    "        \n",
    "        int val=Integer.parseInt(data);\n",
    "        System.out.println(val);\n",
    "\n",
    "        Integer a=new Integer(data);\n",
    "        val=a.intValue();\n",
    "        System.out.println(val);\n",
    "        \n",
    "        Integer b=1;  //test:autoboxing\n",
    "        System.out.println(b.intValue());\n",
    "        \n",
    "        int c=b;      //test:unboxing\n",
    "        System.out.println(b+1);\n",
    "        \n",
    "        \n",
    "    }\n",
    "}"
   ]
  },
  {
   "cell_type": "code",
   "execution_count": 79,
   "metadata": {
    "collapsed": false
   },
   "outputs": [
    {
     "name": "stdout",
     "output_type": "stream",
     "text": [
      "false\n",
      "true\n",
      "\n",
      "false\n",
      "false\n",
      "true\n",
      "\n",
      "123789\n",
      "123789\n",
      "1\n",
      "2\n"
     ]
    }
   ],
   "source": [
    "!javac TestStringEx2.java\n",
    "!java TestStringEx2"
   ]
  },
  {
   "cell_type": "markdown",
   "metadata": {},
   "source": [
    "learn the use of Jar"
   ]
  },
  {
   "cell_type": "code",
   "execution_count": 87,
   "metadata": {
    "collapsed": false
   },
   "outputs": [
    {
     "name": "stdout",
     "output_type": "stream",
     "text": [
      "Es ist kalt!\n"
     ]
    }
   ],
   "source": [
    "!cd C:\\Users\\Student\\Desktop\\notebooks\n",
    "!java -jar myproj.jar"
   ]
  },
  {
   "cell_type": "code",
   "execution_count": 88,
   "metadata": {
    "collapsed": false
   },
   "outputs": [
    {
     "name": "stdout",
     "output_type": "stream",
     "text": [
      "1.0 2.0\n",
      "radius are not equal\n"
     ]
    }
   ],
   "source": [
    "!java -cp \"C:\\Users\\Student\\Desktop\\notebooks\\myproj.jar\" tw.chweng.myproject.common.testt"
   ]
  },
  {
   "cell_type": "markdown",
   "metadata": {},
   "source": [
    "Remark: the idea of \"encapsulation\" is to set class variables as \"private\" and access or set them using the method within that class, if doing so is necessary."
   ]
  },
  {
   "cell_type": "markdown",
   "metadata": {},
   "source": [
    "# Day10 ; 5.10.2016; Taipeh"
   ]
  },
  {
   "cell_type": "code",
   "execution_count": 18,
   "metadata": {
    "collapsed": false
   },
   "outputs": [
    {
     "name": "stdout",
     "output_type": "stream",
     "text": [
      "Overwriting TestExtends.java\n"
     ]
    }
   ],
   "source": [
    "%%file TestExtends.java\n",
    "\n",
    "class parent{\n",
    "    void sayHi(){\n",
    "        System.out.println(\"Hi\");\n",
    "    }\n",
    "}\n",
    "\n",
    "class child extends parent{\n",
    "        @Override\n",
    "        void sayHi(){\n",
    "        System.out.println(\"I'm not going to say hi. I'll say hello.\");\n",
    "    }\n",
    "    \n",
    "}\n",
    "    \n",
    "    \n",
    "public class TestExtends extends parent {\n",
    "\n",
    "    public static void main(String[] args) {\n",
    "\n",
    "        child a=new child();\n",
    "        a.sayHi();\n",
    "    }\n",
    "}"
   ]
  },
  {
   "cell_type": "code",
   "execution_count": 19,
   "metadata": {
    "collapsed": false
   },
   "outputs": [
    {
     "name": "stdout",
     "output_type": "stream",
     "text": [
      "I'm not going to say hi. I'll say hello.\n"
     ]
    }
   ],
   "source": [
    "!javac TestExtends.java\n",
    "!java TestExtends"
   ]
  },
  {
   "cell_type": "code",
   "execution_count": 138,
   "metadata": {
    "collapsed": false
   },
   "outputs": [
    {
     "name": "stdout",
     "output_type": "stream",
     "text": [
      "Overwriting TestBanking.java\n"
     ]
    }
   ],
   "source": [
    "%%file TestBanking.java\n",
    "\n",
    "class Banking{\n",
    "    \n",
    "    private int amount=0;\n",
    "    \n",
    "    void deposit(int moneyIn){\n",
    "        amount=amount+moneyIn;\n",
    "    }\n",
    "    void withdraw(int moneyOut){\n",
    "        amount=amount-moneyOut;\n",
    "    }\n",
    "    \n",
    "    void showAmount(){\n",
    "        System.out.println(\"Now you have \"+amount+\" in the bank\");\n",
    "    }\n",
    "    int getAmount(){\n",
    "        return amount;\n",
    "    }\n",
    "    void setAmount(int amount){\n",
    "        this.amount=amount;\n",
    "    }\n",
    "}\n",
    "\n",
    "class ATM extends Banking{\n",
    "    \n",
    "    void buyFunds(int moneyOut){\n",
    "        if(super.getAmount()<moneyOut){\n",
    "            System.out.println(\"No enough money to buy funds\");\n",
    "        }\n",
    "        else{System.out.println(\"You have bought the funds you wish\");\n",
    "             super.setAmount(super.getAmount()-moneyOut);\n",
    "        }\n",
    "    }\n",
    "}\n",
    "    \n",
    "public class TestBanking {\n",
    "\n",
    "    public static void main(String[] args) {\n",
    "\n",
    "        ATM aPerson=new ATM();\n",
    "        aPerson.deposit(3000);\n",
    "        aPerson.showAmount();\n",
    "        aPerson.withdraw(2000);\n",
    "        aPerson.showAmount();\n",
    "        aPerson.buyFunds(1000);\n",
    "        aPerson.showAmount();\n",
    "        aPerson.buyFunds(1);\n",
    "        aPerson.showAmount();\n",
    "    }\n",
    "}"
   ]
  },
  {
   "cell_type": "code",
   "execution_count": 139,
   "metadata": {
    "collapsed": false
   },
   "outputs": [
    {
     "name": "stdout",
     "output_type": "stream",
     "text": [
      "Now you have 3000 in the bank\n",
      "Now you have 1000 in the bank\n",
      "You have bought the funds you wish\n",
      "Now you have 0 in the bank\n",
      "No enough money to buy funds\n",
      "Now you have 0 in the bank\n"
     ]
    }
   ],
   "source": [
    "!javac TestBanking.java\n",
    "!java TestBanking"
   ]
  },
  {
   "cell_type": "code",
   "execution_count": 31,
   "metadata": {
    "collapsed": false
   },
   "outputs": [
    {
     "name": "stdout",
     "output_type": "stream",
     "text": [
      "Overwriting TestEquals.java\n"
     ]
    }
   ],
   "source": [
    "%%file TestEquals.java\n",
    "\n",
    "public class TestEquals extends parent {\n",
    "\n",
    "    public static void main(String[] args) {\n",
    "        String food0=\"spaghetti\";\n",
    "        String food1=new String(\"spaghetti\");\n",
    "        String food2=new String(\"spaghetti\");\n",
    "        System.out.println(food1==food2);\n",
    "        System.out.println(food1.equals(food2));\n",
    "        System.out.println(food0.equals(food0));\n",
    "        \n",
    "        System.out.println();\n",
    "        \n",
    "    }\n",
    "}"
   ]
  },
  {
   "cell_type": "code",
   "execution_count": 32,
   "metadata": {
    "collapsed": false
   },
   "outputs": [
    {
     "name": "stdout",
     "output_type": "stream",
     "text": [
      "false\n",
      "true\n",
      "true\n"
     ]
    }
   ],
   "source": [
    "!javac TestEquals.java\n",
    "!java TestEquals"
   ]
  },
  {
   "cell_type": "code",
   "execution_count": 39,
   "metadata": {
    "collapsed": false
   },
   "outputs": [
    {
     "name": "stdout",
     "output_type": "stream",
     "text": [
      "Overwriting CallTestPolymorphismEx1.java\n"
     ]
    }
   ],
   "source": [
    "%%file CallTestPolymorphismEx1.java\n",
    "\n",
    "class Mammal{\n",
    "    public static void play(Mammal m){\n",
    "\t\tm.happy();\n",
    "\t}\n",
    "\t\n",
    "\tpublic void happy(){\n",
    "\t\tSystem.out.println(\"happy\");\n",
    "\t}\n",
    "}\n",
    "\n",
    "class Cat extends Mammal{\n",
    "\tpublic void happy(){\n",
    "\t\tSystem.out.println(\"Meow happy\");\n",
    "\t}\n",
    "}\n",
    "\n",
    "public class CallTestPolymorphism {\n",
    "\n",
    "\tpublic static void main(String[] args) {\n",
    "\t\tCat kitty = new Cat();\n",
    "\t\tlittlekitty=(Mammal)kitty;\n",
    "        littlekitty.happy;\n",
    "\t}\n",
    "\n",
    "}\n"
   ]
  },
  {
   "cell_type": "code",
   "execution_count": 90,
   "metadata": {
    "collapsed": false
   },
   "outputs": [
    {
     "name": "stdout",
     "output_type": "stream",
     "text": [
      "Overwriting CallTestPolymorphism.java\n"
     ]
    }
   ],
   "source": [
    "%%file CallTestPolymorphism.java\n",
    "\n",
    "class Mammal{\n",
    "    private int g=5;\n",
    "\tpublic void happy(int i){\n",
    "\t\tSystem.out.println(\"happy\");\n",
    "\t}\n",
    "}\n",
    "\n",
    "class Cat extends Mammal{\n",
    "\tpublic void happy(){\n",
    "\t\tSystem.out.println(\"Meow happy\");\n",
    "\t}\n",
    "}\n",
    "\n",
    "public class CallTestPolymorphism {\n",
    "\n",
    "\tpublic static void main(String[] args) {\n",
    "        Mammal kitty= new Cat();\n",
    "        //kitty.happy(1);\n",
    "        kitty.happy();\n",
    "        if(kitty instanceof Cat){System.out.println(\"I'm a instance of cat\");}\n",
    "        else{System.out.println(\"I'm a instance of Mammal\");}\n",
    "\t\t//Mammal littlekitty=(Mammal)kitty;\n",
    "        //littlekitty.happy();\n",
    "    }\n",
    "\n",
    "}\n"
   ]
  },
  {
   "cell_type": "code",
   "execution_count": 91,
   "metadata": {
    "collapsed": false
   },
   "outputs": [
    {
     "name": "stderr",
     "output_type": "stream",
     "text": [
      "CallTestPolymorphism.java:20: error: method happy in class Mammal cannot be applied to given types;\n",
      "        kitty.happy();\n",
      "             ^\n",
      "  required: int\n",
      "  found: no arguments\n",
      "  reason: actual and formal argument lists differ in length\n",
      "1 error\n"
     ]
    },
    {
     "name": "stdout",
     "output_type": "stream",
     "text": [
      "I'm a instance of cat\n"
     ]
    }
   ],
   "source": [
    "!javac CallTestPolymorphism.java\n",
    "!java CallTestPolymorphism"
   ]
  },
  {
   "cell_type": "code",
   "execution_count": 94,
   "metadata": {
    "collapsed": false
   },
   "outputs": [
    {
     "name": "stdout",
     "output_type": "stream",
     "text": [
      "Overwriting CallTestSingletonEx1.java\n"
     ]
    }
   ],
   "source": [
    "%%file CallTestSingletonEx1.java\n",
    "\n",
    "class TestSingletonEx1 {\n",
    "\tprivate String name = \"john\";\n",
    "\tprivate static TestSingletonEx1 ref2 = null;\n",
    "\tprivate static final TestSingletonEx1 ref3 = new TestSingletonEx1();\n",
    "\n",
    "\tprivate TestSingletonEx1() {\n",
    "\t}\n",
    "\n",
    "\tpublic void showMessage() {\n",
    "\t\tSystem.out.println(\"You've got a mail:\" + name);\n",
    "\t}\n",
    "\n",
    "\tpublic static TestSingletonEx1 getRef1() {\n",
    "\t\tTestSingletonEx1 ref1 = new TestSingletonEx1();\n",
    "\t\treturn ref1;\n",
    "\t}\n",
    "\t\n",
    "\tpublic static TestSingletonEx1 getRef2(){\n",
    "        if(ref2==null){\n",
    "        \tref2 = new TestSingletonEx1();\n",
    "        }\n",
    "        return ref2;\n",
    "\t}\n",
    "\t\n",
    "\tpublic static TestSingletonEx1 getRef3() {\n",
    "\t\treturn ref3;\n",
    "\t}\n",
    "}\n",
    "\n",
    "public class CallTestSingletonEx1 {\n",
    "\n",
    "\tpublic static void main(String[] args) {\n",
    "\t\t// TestSingletonEx1 singleton = new TestSingletonEx1();\n",
    "\t\t\n",
    "        //TestSingletonEx1 obj1 = TestSingletonEx1.getRef1();\n",
    "\t\t//obj1.showMessage();\n",
    "\t\t\n",
    "\t\tTestSingletonEx1 obj2 = TestSingletonEx1.getRef2();\n",
    "\t\tobj2.showMessage();\n",
    "        \n",
    "\t\tTestSingletonEx1 obj3 = TestSingletonEx1.getRef2();\n",
    "\t\tobj3.showMessage();\n",
    "        \n",
    "\t\t\n",
    "\t\t//TestSingletonEx1 obj3 = TestSingletonEx1.getRef3();\n",
    "\t\t//obj3.showMessage();\n",
    "\t}\n",
    "\n",
    "}"
   ]
  },
  {
   "cell_type": "code",
   "execution_count": 95,
   "metadata": {
    "collapsed": false
   },
   "outputs": [
    {
     "name": "stdout",
     "output_type": "stream",
     "text": [
      "You've got a mail:john\n",
      "You've got a mail:john\n"
     ]
    }
   ],
   "source": [
    "!javac CallTestSingletonEx1.java\n",
    "!java CallTestSingletonEx1"
   ]
  },
  {
   "cell_type": "code",
   "execution_count": null,
   "metadata": {
    "collapsed": true
   },
   "outputs": [],
   "source": []
  },
  {
   "cell_type": "code",
   "execution_count": 142,
   "metadata": {
    "collapsed": false
   },
   "outputs": [
    {
     "name": "stdout",
     "output_type": "stream",
     "text": [
      "Overwriting TestTryCatch.java\n"
     ]
    }
   ],
   "source": [
    "%%file TestTryCatch.java\n",
    "\n",
    "public class TestTryCatch extends Exception{\n",
    "    public String getMessage(){\n",
    "         return \"hey\";\n",
    "    }\n",
    "    public static void main(String[] args) {\n",
    "        int a[]={0, 1, 2};\n",
    "        \n",
    "        try{\n",
    "            for(int i=0;i<=3;i++){\n",
    "                System.out.println(a[i]);\n",
    "            }\n",
    "        }catch(ArithmeticException err){\n",
    "                System.out.println(\"error1!\");\n",
    "\n",
    "        }catch(Exception err){\n",
    "                System.out.println(\"error2!\");\n",
    "                System.out.println(err);\n",
    "                String aa=err.getMessage();\n",
    "                System.out.println(aa);\n",
    "         }\n",
    "    }\n",
    "}\n"
   ]
  },
  {
   "cell_type": "code",
   "execution_count": 143,
   "metadata": {
    "collapsed": false
   },
   "outputs": [
    {
     "name": "stdout",
     "output_type": "stream",
     "text": [
      "0\n",
      "1\n",
      "2\n",
      "error2!\n",
      "java.lang.ArrayIndexOutOfBoundsException: 3\n",
      "3\n"
     ]
    }
   ],
   "source": [
    "!javac TestTryCatch.java\n",
    "!java TestTryCatch"
   ]
  },
  {
   "cell_type": "code",
   "execution_count": 150,
   "metadata": {
    "collapsed": false
   },
   "outputs": [
    {
     "name": "stdout",
     "output_type": "stream",
     "text": [
      "Overwriting TestTryCatch.java\n"
     ]
    }
   ],
   "source": [
    "%%file TestTryCatch.java\n",
    "\n",
    "public class TestTryCatch extends Exception{\n",
    "    public String getMessage(){\n",
    "         return \"hey\";\n",
    "    }\n",
    "    public static void main(String[] args) {\n",
    "        int a[]={0, 1, 2};\n",
    "        \n",
    "        try{\n",
    "            for(int i=0;i<=3;i++){\n",
    "                System.out.println(a[i]);\n",
    "            }\n",
    "        }catch(ArithmeticException err){\n",
    "                System.out.println(\"error1!\");\n",
    "\n",
    "        }catch(Exception err){\n",
    "                System.out.println(\"error2!\");\n",
    "                System.out.println(err);\n",
    "                String aa=err.getMessage();\n",
    "                System.out.println(aa);\n",
    "                System.exit(-1);\n",
    "         }finally{System.out.println(\"hmm...\");}\n",
    "    }\n",
    "}\n"
   ]
  },
  {
   "cell_type": "code",
   "execution_count": 151,
   "metadata": {
    "collapsed": false
   },
   "outputs": [
    {
     "name": "stdout",
     "output_type": "stream",
     "text": [
      "0\n",
      "1\n",
      "2\n",
      "error2!\n",
      "java.lang.ArrayIndexOutOfBoundsException: 3\n",
      "3\n"
     ]
    }
   ],
   "source": [
    "!javac TestTryCatch.java\n",
    "!java TestTryCatch"
   ]
  },
  {
   "cell_type": "code",
   "execution_count": 200,
   "metadata": {
    "collapsed": false
   },
   "outputs": [
    {
     "name": "stdout",
     "output_type": "stream",
     "text": [
      "Overwriting TestTryCatch.java\n"
     ]
    }
   ],
   "source": [
    "%%file TestTryCatch.java\n",
    "\n",
    "public class TestTryCatch {\n",
    "\n",
    "\tpublic void division(int x, int y) throws Exception {\n",
    "\t\tSystem.out.println(\"x/y=\" + x/y);\n",
    "\t}\n",
    "\t\n",
    "\tpublic static void main(String[] args) {\n",
    "\t\tTestTryCatch except3 = new TestTryCatch();\n",
    "\t\ttry {\n",
    "\t\t\texcept3.division(6, 0);\n",
    "\n",
    "\t\t} catch (Exception e) {\n",
    "\t\t\t//e.printStackTrace();\n",
    "            System.out.println(\"hi\");\n",
    "            System.out.println(e);\n",
    "\t\t}finally{;}\n",
    "\t}\n",
    "}\n"
   ]
  },
  {
   "cell_type": "code",
   "execution_count": 201,
   "metadata": {
    "collapsed": false
   },
   "outputs": [
    {
     "name": "stdout",
     "output_type": "stream",
     "text": [
      "hi\n",
      "java.lang.ArithmeticException: / by zero\n"
     ]
    }
   ],
   "source": [
    "!javac TestTryCatch.java\n",
    "!java TestTryCatch"
   ]
  },
  {
   "cell_type": "markdown",
   "metadata": {},
   "source": [
    "https://onedrive.live.com/?authkey=%21AFcoDENT8TgjICw&id=AF483E7E8FEC387B%211935&cid=AF483E7E8FEC387B"
   ]
  },
  {
   "cell_type": "code",
   "execution_count": 204,
   "metadata": {
    "collapsed": false
   },
   "outputs": [
    {
     "name": "stdout",
     "output_type": "stream",
     "text": [
      "Overwriting CallTestMyOwnExceptionEx1.java\n"
     ]
    }
   ],
   "source": [
    "%%file CallTestMyOwnExceptionEx1.java\n",
    "\n",
    "class MyOwnException extends Exception {\n",
    "\n",
    "\tprivate static final long serialVersionUID = 1L;\n",
    "\tprivate String serverName = \"Blade\";\n",
    "\tprivate int port = 12345;\n",
    "\tprivate String errMeg = \"System Error\";\n",
    "\n",
    "\tpublic MyOwnException(String serverName, int port, String errMeg) {\n",
    "\t\tthis.serverName = serverName;\n",
    "\t\tthis.port = port;\n",
    "\t\tthis.errMeg = errMeg;\n",
    "\t}\n",
    "\n",
    "\tpublic void showInfo() {\n",
    "\t\tSystem.out.println(\"Server Name:\" + serverName);\n",
    "\t\tSystem.out.println(\"Server Port:\" + port);\n",
    "\t\tSystem.out.println(\"Error Message:\" + errMeg);\n",
    "\t}\n",
    "\n",
    "}\n",
    "\n",
    "public class CallTestMyOwnExceptionEx1 {\n",
    "\n",
    "\tpublic static void main(String[] args) {\n",
    "\t\tint index = 2;\n",
    "\t\tif (index % 2 == 0) {\n",
    "\t\t\ttry {throw new MyOwnException(\"Deep Blue\", 80, \"System unexpect shutdown\");\n",
    "\t\t\t\t\n",
    "\t\t\t} catch (MyOwnException e) {\n",
    "\t\t\t\te.showInfo();\n",
    "\t\t\t}\n",
    "\t\t} else {\n",
    "\t\t\tSystem.out.println(\"action processing ...\");\n",
    "\t\t}\n",
    "\t}\n",
    "\n",
    "}\n"
   ]
  },
  {
   "cell_type": "code",
   "execution_count": 205,
   "metadata": {
    "collapsed": false
   },
   "outputs": [
    {
     "name": "stdout",
     "output_type": "stream",
     "text": [
      "Server Name:Deep Blue\n",
      "Server Port:80\n",
      "Error Message:System unexpect shutdown\n"
     ]
    }
   ],
   "source": [
    "!javac CallTestMyOwnExceptionEx1.java\n",
    "!java CallTestMyOwnExceptionEx1"
   ]
  },
  {
   "cell_type": "code",
   "execution_count": 219,
   "metadata": {
    "collapsed": false
   },
   "outputs": [
    {
     "name": "stdout",
     "output_type": "stream",
     "text": [
      "Overwriting TestAssertion.java\n"
     ]
    }
   ],
   "source": [
    "%%file TestAssertion.java\n",
    "\n",
    "public class TestAssertion {\n",
    "\n",
    "    public static void main(String[] args) {\n",
    "\n",
    "        int a=0,b=0;\n",
    "        \n",
    "        assert(b!=0):\"Omg\";\n",
    "        \n",
    "        System.out.println(a/b);\n",
    "        \n",
    "    }\n",
    "}\n"
   ]
  },
  {
   "cell_type": "code",
   "execution_count": 220,
   "metadata": {
    "collapsed": false
   },
   "outputs": [
    {
     "name": "stderr",
     "output_type": "stream",
     "text": [
      "Exception in thread \"main\" java.lang.AssertionError: Omg\n",
      "\tat TestAssertion.main(TestAssertion.java:8)\n"
     ]
    }
   ],
   "source": [
    "!javac TestAssertion.java\n",
    "!java -ea TestAssertion"
   ]
  },
  {
   "cell_type": "markdown",
   "metadata": {},
   "source": [
    "# Day11 ; 6.10.2016; Taipeh"
   ]
  },
  {
   "cell_type": "code",
   "execution_count": 37,
   "metadata": {
    "collapsed": false
   },
   "outputs": [
    {
     "name": "stdout",
     "output_type": "stream",
     "text": [
      "Overwriting TestAbstract.java\n"
     ]
    }
   ],
   "source": [
    "%%file TestAbstract.java\n",
    "\n",
    "abstract class Company {\n",
    "\n",
    "    abstract void calFuel();\n",
    "    abstract void calDistance();\n",
    "}\n",
    "\n",
    "\n",
    "class Truck extends Company{\n",
    "    \n",
    "    void calFuel(){\n",
    "        System.out.println(\"Truck: add fuel\");\n",
    "    }\n",
    "\n",
    "    void calDistance(){\n",
    "        System.out.println(\"Truck: calculate the distance\");\n",
    "    }\n",
    "    \n",
    "}\n",
    "\n",
    "\n",
    "class Ship extends Company{\n",
    "    \n",
    "    void calFuel(){\n",
    "        System.out.println(\"Ship: add fuel\");\n",
    "    }\n",
    "\n",
    "    void calDistance(){\n",
    "        System.out.println(\"Ship: calculate the distance\");\n",
    "    }\n",
    "    \n",
    "}\n",
    "    \n",
    "public class TestAbstract{\n",
    "        \n",
    "    public static void main(String[] args) {\n",
    "            Truck Toyota;\n",
    "\n",
    "            Toyota=new Company();\n",
    "            //Toyota.calFuel();\n",
    "            //Toyota.calDistance();\n",
    "\n",
    "\n",
    "            Toyota=(Truck)Toyota;\n",
    "            //Toyota=new Ship();\n",
    "            //Toyota.calFuel();\n",
    "            //Toyota.calDistance();\n",
    "    }\n",
    "}\n"
   ]
  },
  {
   "cell_type": "code",
   "execution_count": 38,
   "metadata": {
    "collapsed": false
   },
   "outputs": [
    {
     "name": "stderr",
     "output_type": "stream",
     "text": [
      "TestAbstract.java:39: error: Company is abstract; cannot be instantiated\n",
      "            Toyota=new Company();\n",
      "                   ^\n",
      "1 error\n"
     ]
    },
    {
     "name": "stdout",
     "output_type": "stream",
     "text": [
      "Truck: add fuel\n",
      "Truck: calculate the distance\n",
      "Ship: add fuel\n",
      "Ship: calculate the distance\n"
     ]
    }
   ],
   "source": [
    "!javac TestAbstract.java\n",
    "!java TestAbstract"
   ]
  },
  {
   "cell_type": "code",
   "execution_count": 31,
   "metadata": {
    "collapsed": false
   },
   "outputs": [
    {
     "name": "stdout",
     "output_type": "stream",
     "text": [
      "Overwriting TestAbstract.java\n"
     ]
    }
   ],
   "source": [
    "%%file TestAbstract.java\n",
    "\n",
    "abstract class Company {\n",
    "\n",
    "    abstract void calFuel();\n",
    "    abstract void calDistance();\n",
    "}\n",
    "\n",
    "\n",
    "class Truck extends Company{\n",
    "    \n",
    "    void calFuel(){\n",
    "        System.out.println(\"Truck: add fuel\");\n",
    "    }\n",
    "\n",
    "    void calDistance(){\n",
    "        System.out.println(\"Truck: calculate the distance\");\n",
    "    }\n",
    "    \n",
    "}\n",
    "\n",
    "\n",
    "class Ship extends Company{\n",
    "    \n",
    "    void calFuel(){\n",
    "        System.out.println(\"Ship: add fuel\");\n",
    "    }\n",
    "\n",
    "    void calDistance(){\n",
    "        System.out.println(\"Ship: calculate the distance\");\n",
    "    }\n",
    "    \n",
    "}\n",
    "\n",
    "class Processing{\n",
    "    static void run(Company company){\n",
    "        company.calFuel();\n",
    "        company.calDistance();        \n",
    "    }\n",
    "    \n",
    "}\n",
    "    \n",
    "public class TestAbstract{\n",
    "        \n",
    "    public static void main(String[] args) {\n",
    "\n",
    "            Processing.run(new Truck());\n",
    "             Processing.run(new Ship());\n",
    "        \n",
    "        }\n",
    "}\n"
   ]
  },
  {
   "cell_type": "code",
   "execution_count": 32,
   "metadata": {
    "collapsed": false
   },
   "outputs": [
    {
     "name": "stdout",
     "output_type": "stream",
     "text": [
      "Truck: add fuel\n",
      "Truck: calculate the distance\n",
      "Ship: add fuel\n",
      "Ship: calculate the distance\n"
     ]
    }
   ],
   "source": [
    "!javac TestAbstract.java\n",
    "!java TestAbstract"
   ]
  },
  {
   "cell_type": "code",
   "execution_count": null,
   "metadata": {
    "collapsed": true
   },
   "outputs": [],
   "source": []
  },
  {
   "cell_type": "code",
   "execution_count": 51,
   "metadata": {
    "collapsed": false
   },
   "outputs": [
    {
     "name": "stdout",
     "output_type": "stream",
     "text": [
      "Overwriting TestInterface.java\n"
     ]
    }
   ],
   "source": [
    "%%file TestInterface.java\n",
    "\n",
    "interface Flyer {\n",
    "\n",
    "    void takeOff();\n",
    "    void land();\n",
    "    void fly();\n",
    "}\n",
    "\n",
    "class Airplane implements Flyer{\n",
    "\n",
    "    public void takeOff(){\n",
    "        System.out.println(\"AirPlane: take off\");\n",
    "    }\n",
    "\n",
    "    public void land(){\n",
    "        System.out.println(\"AirPlane: land\");\n",
    "    }\n",
    "    \n",
    "    public void fly(){\n",
    "        System.out.println(\"AirPlane: fly\");\n",
    "    }\n",
    "}\n",
    "\n",
    "    \n",
    "public class TestInterface{\n",
    "        \n",
    "    public static void main(String[] args) {\n",
    "\n",
    "        Flyer Flugzeug=new Airplane();\n",
    "        Flugzeug.takeOff();\n",
    "        \n",
    "        }\n",
    "}\n"
   ]
  },
  {
   "cell_type": "code",
   "execution_count": 52,
   "metadata": {
    "collapsed": false
   },
   "outputs": [
    {
     "name": "stdout",
     "output_type": "stream",
     "text": [
      "AirPlane: take off\n"
     ]
    }
   ],
   "source": [
    "!javac TestInterface.java\n",
    "!java TestInterface"
   ]
  },
  {
   "cell_type": "markdown",
   "metadata": {},
   "source": [
    "http://stackoverflow.com/questions/9614708/why-should-we-declare-interface-methods-as-public"
   ]
  },
  {
   "cell_type": "code",
   "execution_count": null,
   "metadata": {
    "collapsed": true
   },
   "outputs": [],
   "source": []
  },
  {
   "cell_type": "code",
   "execution_count": 138,
   "metadata": {
    "collapsed": false
   },
   "outputs": [
    {
     "name": "stdout",
     "output_type": "stream",
     "text": [
      "Overwriting TestNesteDClass.java\n"
     ]
    }
   ],
   "source": [
    "%%file TestNesteDClass.java\n",
    "\n",
    "class A{\n",
    "    private String astring=\": a private string in A is printed\";\n",
    "    void runSayHelloInB(){\n",
    "        B b1=new B();\n",
    "        b1.sayHello();\n",
    "    }\n",
    "\n",
    "    class B{\n",
    "        void sayHello(){\n",
    "            System.out.println(\"Hello\"+astring);\n",
    "        } \n",
    "    }\n",
    "}\n",
    "\n",
    "class A2{\n",
    "    private String astring=\": a private string in A2 is printed\";\n",
    "\n",
    "    static class B2{\n",
    "        void sayHello(){\n",
    "            System.out.println(\"Hello\"+astring);\n",
    "        } \n",
    "    }\n",
    "}\n",
    "\n",
    "\n",
    "class A3{\n",
    "    \n",
    "    public void useB3(){\n",
    "         private String astring=\": a private string in the method useB3 is printed\";\n",
    "        class B3{\n",
    "            public void sayHello(){System.out.println(\"Hello\"+astring);}\n",
    "                }\n",
    "        B3 aaa=new B3();\n",
    "        aaa.sayHello();\n",
    " \n",
    "    } \n",
    "}\n",
    "\n",
    "public class TestNesteDClass{\n",
    "        \n",
    "    public static void main(String[] args) {\n",
    "\n",
    "        //A a1=new A();\n",
    "        //a1.runSayHelloInB();\n",
    "        \n",
    "        //A.B b1 = a1.new B();\n",
    "        //b1.sayHello();\n",
    "\n",
    "    \n",
    "        //A2.B2 b2=new A2.B2();\n",
    "        //b2.sayHello();\n",
    "        \n",
    "        //a1.B2.sayHello();   //doesn't work\n",
    "        \n",
    "        //A3 a3=new A3();\n",
    "        //a3.useB3();\n",
    "        \n",
    "        }\n",
    "    \n",
    "}\n"
   ]
  },
  {
   "cell_type": "code",
   "execution_count": 139,
   "metadata": {
    "collapsed": false
   },
   "outputs": [
    {
     "name": "stderr",
     "output_type": "stream",
     "text": [
      "TestNesteDClass.java:30: error: illegal start of expression\n",
      "         private String astring=\": a private string in the method useB3 is printed\";\n",
      "         ^\n",
      "1 error\n",
      "錯誤: 找不到或無法載入主要類別 TestNesteDClass\n"
     ]
    }
   ],
   "source": [
    "!javac TestNesteDClass.java\n",
    "!java TestNesteDClass"
   ]
  },
  {
   "cell_type": "code",
   "execution_count": 121,
   "metadata": {
    "collapsed": false
   },
   "outputs": [
    {
     "name": "stdout",
     "output_type": "stream",
     "text": [
      "Overwriting AbstractAnonymousClassTest.java\n"
     ]
    }
   ],
   "source": [
    "%%file AbstractAnonymousClassTest.java\n",
    "\n",
    "abstract class A{\n",
    "\n",
    "        abstract void sayHello();\n",
    "}\n",
    "\n",
    "public class AbstractAnonymousClassTest{\n",
    "        \n",
    "    public static void main(String[] args) {\n",
    "\n",
    "    new A(){ public void sayHello(){System.out.println(\"Hello\");}  }.sayHello();\n",
    "    new A(){ public void sayHello(){System.out.println(\"Hi\");}  }.sayHello();\n",
    "    }\n",
    "    \n",
    "}\n"
   ]
  },
  {
   "cell_type": "code",
   "execution_count": 120,
   "metadata": {
    "collapsed": false
   },
   "outputs": [
    {
     "name": "stdout",
     "output_type": "stream",
     "text": [
      "Hello\n",
      "Hi\n"
     ]
    }
   ],
   "source": [
    "!javac AbstractAnonymousClassTest.java\n",
    "!java AbstractAnonymousClassTest"
   ]
  },
  {
   "cell_type": "code",
   "execution_count": 157,
   "metadata": {
    "collapsed": false
   },
   "outputs": [
    {
     "name": "stdout",
     "output_type": "stream",
     "text": [
      "Overwriting EnumTest.java\n"
     ]
    }
   ],
   "source": [
    "%%file EnumTest.java\n",
    "\n",
    "enum Suit{heart, blade, club, diamond}\n",
    "\n",
    "public class EnumTest{\n",
    "        \n",
    "    public static void main(String[] args) {\n",
    "       //Suit a=Suit.blade;\n",
    "       //System.out.println(a);\n",
    "\n",
    "       Suit g[]= Suit.values();\n",
    "       for (Suit element:g){\n",
    "           System.out.println(element+\" \"+element.ordinal());\n",
    "            }\n",
    "    }\n",
    "    \n",
    "}"
   ]
  },
  {
   "cell_type": "code",
   "execution_count": 158,
   "metadata": {
    "collapsed": false
   },
   "outputs": [
    {
     "name": "stdout",
     "output_type": "stream",
     "text": [
      "heart 0\n",
      "blade 1\n",
      "club 2\n",
      "diamond 3\n"
     ]
    }
   ],
   "source": [
    "!javac EnumTest.java\n",
    "!java EnumTest"
   ]
  },
  {
   "cell_type": "code",
   "execution_count": 189,
   "metadata": {
    "collapsed": false
   },
   "outputs": [
    {
     "name": "stdout",
     "output_type": "stream",
     "text": [
      "Overwriting EnumTest2.java\n"
     ]
    }
   ],
   "source": [
    "%%file EnumTest2.java\n",
    "\n",
    "enum foods{\n",
    "    rice, bread(\"bread2\"),frog,spider;\n",
    "\n",
    "    \n",
    "    private foods(){System.out.println(\"no input var for the constructor\");}\n",
    "    private foods(String astring){\n",
    "        System.out.println(astring);\n",
    "    }\n",
    "    String show(){return \"hi\";}\n",
    "}\n",
    "    \n",
    "\n",
    "public class EnumTest2{\n",
    "        \n",
    "    public static void main(String[] args) {\n",
    "\n",
    "       foods g[]= foods.values();\n",
    "       for (foods element:g){\n",
    "           System.out.println(element+\" \"+element.show()+\" \"+element.ordinal() );\n",
    "            }\n",
    "    }\n",
    "    \n",
    "}"
   ]
  },
  {
   "cell_type": "code",
   "execution_count": 190,
   "metadata": {
    "collapsed": false
   },
   "outputs": [
    {
     "name": "stdout",
     "output_type": "stream",
     "text": [
      "no input var for the constructor\n",
      "bread2\n",
      "no input var for the constructor\n",
      "no input var for the constructor\n",
      "rice hi 0\n",
      "bread hi 1\n",
      "frog hi 2\n",
      "spider hi 3\n"
     ]
    }
   ],
   "source": [
    "!javac EnumTest2.java\n",
    "!java EnumTest2"
   ]
  },
  {
   "cell_type": "code",
   "execution_count": 220,
   "metadata": {
    "collapsed": false
   },
   "outputs": [
    {
     "name": "stdout",
     "output_type": "stream",
     "text": [
      "Overwriting TestHashSet.java\n"
     ]
    }
   ],
   "source": [
    "%%file TestHashSet.java\n",
    "\n",
    "import java.util.HashSet;\n",
    "\n",
    "public class TestHashSet{\n",
    "        \n",
    "    @SuppressWarnings({\"unchecked\"})\n",
    "    public static void main(String[] args) {\n",
    "\n",
    "\n",
    "        HashSet arr=new HashSet();\n",
    "        arr.add(\"John\");\n",
    "        arr.add(\"Merry\");\n",
    "        arr.add(\"John\");\n",
    "        arr.add(\"Merry\");\n",
    "        arr.add(new Integer(6));\n",
    "        arr.add(6);\n",
    "        arr.add(3.14);\n",
    "        System.out.println(arr);\n",
    "        System.out.println();\n",
    "        }\n",
    "}"
   ]
  },
  {
   "cell_type": "code",
   "execution_count": 221,
   "metadata": {
    "collapsed": false
   },
   "outputs": [
    {
     "name": "stdout",
     "output_type": "stream",
     "text": [
      "[3.14, 6, John, Merry]\n",
      "\n"
     ]
    }
   ],
   "source": [
    "!javac TestHashSet.java\n",
    "!java TestHashSet"
   ]
  },
  {
   "cell_type": "code",
   "execution_count": 232,
   "metadata": {
    "collapsed": false
   },
   "outputs": [
    {
     "name": "stdout",
     "output_type": "stream",
     "text": [
      "Overwriting TestHashSet2.java\n"
     ]
    }
   ],
   "source": [
    "%%file TestHashSet2.java\n",
    "\n",
    "import java.util.HashSet;\n",
    "\n",
    "public class TestHashSet2{\n",
    "        \n",
    "    @SuppressWarnings({\"unchecked\"})\n",
    "    public static void main(String[] args) {\n",
    "\n",
    "\n",
    "        HashSet arr=new HashSet();\n",
    "        while(arr.size()<6){\n",
    "            arr.add((int)(Math.random()*49)+1);\n",
    "        }\n",
    "        System.out.println(arr);\n",
    "        System.out.println();\n",
    "        }\n",
    "}"
   ]
  },
  {
   "cell_type": "code",
   "execution_count": 233,
   "metadata": {
    "collapsed": false
   },
   "outputs": [
    {
     "name": "stdout",
     "output_type": "stream",
     "text": [
      "[48, 34, 36, 25, 28, 46]\n",
      "\n"
     ]
    }
   ],
   "source": [
    "!javac TestHashSet2.java\n",
    "!java TestHashSet2"
   ]
  },
  {
   "cell_type": "code",
   "execution_count": 212,
   "metadata": {
    "collapsed": false
   },
   "outputs": [
    {
     "name": "stdout",
     "output_type": "stream",
     "text": [
      "Overwriting TestArrayList.java\n"
     ]
    }
   ],
   "source": [
    "%%file TestArrayList.java\n",
    "\n",
    "import java.util.ArrayList;\n",
    "\n",
    "public class TestArrayList{\n",
    "        \n",
    "    @SuppressWarnings({\"unchecked\"})\n",
    "    public static void main(String[] args) {\n",
    "\n",
    "\n",
    "        ArrayList arr=new ArrayList();\n",
    "        arr.add(\"John\");\n",
    "        arr.add(\"Merry\");\n",
    "        arr.add(\"John\");\n",
    "        arr.add(\"Merry\");\n",
    "        arr.add(new Integer(6));\n",
    "        arr.add(6);\n",
    "        arr.add(3.14);\n",
    "        System.out.println(arr);\n",
    "        System.out.println();\n",
    "        for(ArrayList elem:arr){\n",
    "            System.out.println(elem);\n",
    "        }\n",
    "    }\n",
    "    \n",
    "}"
   ]
  },
  {
   "cell_type": "code",
   "execution_count": 213,
   "metadata": {
    "collapsed": false
   },
   "outputs": [
    {
     "name": "stderr",
     "output_type": "stream",
     "text": [
      "TestArrayList.java:20: error: incompatible types: Object cannot be converted to ArrayList\n",
      "        for(ArrayList elem:arr){\n",
      "                           ^\n",
      "1 error\n"
     ]
    },
    {
     "name": "stdout",
     "output_type": "stream",
     "text": [
      "[John, Merry, John, Merry, 6, 6, 3.14]\n",
      "\n"
     ]
    }
   ],
   "source": [
    "!javac TestArrayList.java\n",
    "!java TestArrayList"
   ]
  },
  {
   "cell_type": "code",
   "execution_count": null,
   "metadata": {
    "collapsed": true
   },
   "outputs": [],
   "source": []
  }
 ],
 "metadata": {
  "anaconda-cloud": {},
  "kernelspec": {
   "display_name": "Python [Root]",
   "language": "python",
   "name": "Python [Root]"
  },
  "language_info": {
   "codemirror_mode": {
    "name": "ipython",
    "version": 2
   },
   "file_extension": ".py",
   "mimetype": "text/x-python",
   "name": "python",
   "nbconvert_exporter": "python",
   "pygments_lexer": "ipython2",
   "version": "2.7.12"
  }
 },
 "nbformat": 4,
 "nbformat_minor": 0
}
