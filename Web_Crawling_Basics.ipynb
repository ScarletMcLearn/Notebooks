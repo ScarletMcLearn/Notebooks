{
 "cells": [
  {
   "cell_type": "code",
   "execution_count": 2,
   "metadata": {
    "collapsed": false
   },
   "outputs": [],
   "source": [
    "import numpy as np\n",
    "import matplotlib.pyplot as plt\n",
    "from random import randint\n",
    "from scipy import integrate"
   ]
  },
  {
   "cell_type": "code",
   "execution_count": 3,
   "metadata": {
    "collapsed": false
   },
   "outputs": [],
   "source": [
    "from bs4 import BeautifulSoup # For HTML parsing\n",
    "import requests\n",
    "import urlparse\n",
    "import re # Regular expressions\n",
    "from time import sleep # To prevent overwhelming the server between connections\n",
    "from collections import Counter # Keep track of our term counts\n",
    "#from nltk.corpus import stopwords # Filter out stopwords, such as 'the', 'or', 'and'\n",
    "import nltk\n",
    "import pandas as pd # For converting results to a dataframe and bar chart plots\n",
    "%matplotlib inline"
   ]
  },
  {
   "cell_type": "code",
   "execution_count": 4,
   "metadata": {
    "collapsed": false
   },
   "outputs": [],
   "source": [
    "import datetime\n",
    "import seaborn as sns\n",
    "sns.set_context(\"poster\")\n",
    "sns.set(palette='Set2')"
   ]
  },
  {
   "cell_type": "markdown",
   "metadata": {},
   "source": [
    "## Now, I'm going to learn  Beautiful Soup:"
   ]
  },
  {
   "cell_type": "markdown",
   "metadata": {},
   "source": [
    "#### Tag:"
   ]
  },
  {
   "cell_type": "code",
   "execution_count": 4,
   "metadata": {
    "collapsed": false
   },
   "outputs": [
    {
     "data": {
      "text/plain": [
       "bs4.element.Tag"
      ]
     },
     "execution_count": 4,
     "metadata": {},
     "output_type": "execute_result"
    }
   ],
   "source": [
    "soup = BeautifulSoup('<b class=\"boldest\">Extremely bold</b>',\"html.parser\")\n",
    "tag = soup.b\n",
    "type(tag)"
   ]
  },
  {
   "cell_type": "markdown",
   "metadata": {},
   "source": [
    "A tag has a name (say, \"someTag\"). It contains a set of attribute:value(s). The following is an example of the structure of a tag:\n",
    "\n",
    "$\\text{<someTag attr1=\"value\" attr2=\"value1 value2\">  A String  </someTag>}$"
   ]
  },
  {
   "cell_type": "code",
   "execution_count": 39,
   "metadata": {
    "collapsed": false
   },
   "outputs": [
    {
     "name": "stdout",
     "output_type": "stream",
     "text": [
      "b\n",
      "['boldest']\n",
      "{'class': ['boldest']}\n"
     ]
    }
   ],
   "source": [
    "print tag.name\n",
    "print tag[\"class\"]\n",
    "print tag.attrs"
   ]
  },
  {
   "cell_type": "markdown",
   "metadata": {},
   "source": [
    "i.e. we can use .attrs to show the dictionary of a specified tag (attr, value)."
   ]
  },
  {
   "cell_type": "markdown",
   "metadata": {},
   "source": [
    "Also, the things within the begin and the end tag (i.e. within $<b>$ and $</b>$) are strings:"
   ]
  },
  {
   "cell_type": "code",
   "execution_count": 40,
   "metadata": {
    "collapsed": false
   },
   "outputs": [
    {
     "name": "stdout",
     "output_type": "stream",
     "text": [
      "<class 'bs4.element.NavigableString'>\n",
      "Extremely bold\n"
     ]
    }
   ],
   "source": [
    "print type(tag.string)\n",
    "print tag.string"
   ]
  },
  {
   "cell_type": "markdown",
   "metadata": {},
   "source": [
    "These strings are objects of the type NavigableString. i.e. we can do further actions such as to find its direct parent:"
   ]
  },
  {
   "cell_type": "code",
   "execution_count": 77,
   "metadata": {
    "collapsed": false
   },
   "outputs": [
    {
     "name": "stdout",
     "output_type": "stream",
     "text": [
      "<p class=\"story\">...</p>\n",
      "<p class=\"story\">...</p>\n",
      "u'<p class=\"story\">...</p>'\n",
      "<class 'bs4.element.Tag'>\n",
      "<type 'unicode'>\n",
      "<type 'str'>\n"
     ]
    }
   ],
   "source": [
    "print tag.string.parent                   # a NavigableString obj\n",
    "print unicode(tag.string.parent)          # a unicode string\n",
    "print repr(unicode(tag.string.parent))    # a unicode string (in repr(), if the string is \"unicode\" encoded, it will begin by u')\n",
    "\n",
    "#check the types of the above stuffs:\n",
    "print type(tag.string.parent)             \n",
    "print type(unicode(tag.string.parent))\n",
    "print type(repr(unicode(tag.string.parent)))"
   ]
  },
  {
   "cell_type": "markdown",
   "metadata": {},
   "source": [
    "or find its parent's parent(now we have the easiest situation, i.e. they have only one direct parent):"
   ]
  },
  {
   "cell_type": "code",
   "execution_count": 46,
   "metadata": {
    "collapsed": false
   },
   "outputs": [
    {
     "name": "stdout",
     "output_type": "stream",
     "text": [
      "<body><b class=\"boldest\">Extremely bold</b></body>\n"
     ]
    }
   ],
   "source": [
    "print tag.string.parent.parent"
   ]
  },
  {
   "cell_type": "markdown",
   "metadata": {},
   "source": [
    "The most common multi-valued attribute is class:"
   ]
  },
  {
   "cell_type": "code",
   "execution_count": 47,
   "metadata": {
    "collapsed": false
   },
   "outputs": [
    {
     "name": "stdout",
     "output_type": "stream",
     "text": [
      "['body', 'strikeout']\n",
      "['body', 'strikeout']\n"
     ]
    }
   ],
   "source": [
    "css_soup = BeautifulSoup('<p class=\"body strikeout\"></p>')\n",
    "print css_soup.p['class']\n",
    "# [\"body\", \"strikeout\"]\n",
    "\n",
    "css_soup = BeautifulSoup('<p class=\"body strikeout\"></p>', \"lxml\")\n",
    "print css_soup.p['class']"
   ]
  },
  {
   "cell_type": "markdown",
   "metadata": {},
   "source": [
    "on the other hand, id is not a multi-valued attribute:"
   ]
  },
  {
   "cell_type": "code",
   "execution_count": 9,
   "metadata": {
    "collapsed": false
   },
   "outputs": [
    {
     "data": {
      "text/plain": [
       "'my id'"
      ]
     },
     "execution_count": 9,
     "metadata": {},
     "output_type": "execute_result"
    }
   ],
   "source": [
    "id_soup = BeautifulSoup('<p id=\"my id\"></p>')\n",
    "id_soup.p['id']\n",
    "# 'my id'"
   ]
  },
  {
   "cell_type": "markdown",
   "metadata": {},
   "source": [
    "Now, let's see a slightly complex situation:"
   ]
  },
  {
   "cell_type": "code",
   "execution_count": 46,
   "metadata": {
    "collapsed": false
   },
   "outputs": [],
   "source": [
    "html_doc = \"\"\"\n",
    "<html><head><title>The Dormouse's story</title></head>\n",
    "<body>\n",
    "<p class=\"title\"><b>The Dormouse's story</b></p>\n",
    "\n",
    "<p class=\"story\">Once upon a time there were three little sisters; and their names were</p>\n",
    "<a href=\"http://example.com/elsie\" class=\"sister\" id=\"link1\">Elsie</a>,\n",
    "<a href=\"http://example.com/lacie\" class=\"sister\" id=\"link2\">Lacie</a> and\n",
    "<a href=\"http://example.com/tillie\" class=\"sister\" id=\"link3\">Tillie</a>;\n",
    "and they lived at the bottom of a well.</p>\n",
    "\n",
    "<p class=\"story\">...</p>\n",
    "\"\"\"\n",
    "soup = BeautifulSoup(html_doc, 'html.parser')"
   ]
  },
  {
   "cell_type": "markdown",
   "metadata": {},
   "source": [
    "First of all, let's see the prettified structure:"
   ]
  },
  {
   "cell_type": "code",
   "execution_count": 47,
   "metadata": {
    "collapsed": false
   },
   "outputs": [
    {
     "name": "stdout",
     "output_type": "stream",
     "text": [
      "<html>\n",
      " <head>\n",
      "  <title>\n",
      "   The Dormouse's story\n",
      "  </title>\n",
      " </head>\n",
      " <body>\n",
      "  <p class=\"title\">\n",
      "   <b>\n",
      "    The Dormouse's story\n",
      "   </b>\n",
      "  </p>\n",
      "  <p class=\"story\">\n",
      "   Once upon a time there were three little sisters; and their names were\n",
      "  </p>\n",
      "  <a class=\"sister\" href=\"http://example.com/elsie\" id=\"link1\">\n",
      "   Elsie\n",
      "  </a>\n",
      "  ,\n",
      "  <a class=\"sister\" href=\"http://example.com/lacie\" id=\"link2\">\n",
      "   Lacie\n",
      "  </a>\n",
      "  and\n",
      "  <a class=\"sister\" href=\"http://example.com/tillie\" id=\"link3\">\n",
      "   Tillie\n",
      "  </a>\n",
      "  ;\n",
      "and they lived at the bottom of a well.\n",
      " </body>\n",
      "</html>\n",
      "<p class=\"story\">\n",
      " ...\n",
      "</p>\n",
      "\n"
     ]
    }
   ],
   "source": [
    "print soup.prettify()"
   ]
  },
  {
   "cell_type": "code",
   "execution_count": 48,
   "metadata": {
    "collapsed": false
   },
   "outputs": [
    {
     "name": "stdout",
     "output_type": "stream",
     "text": [
      "<p class=\"title\"><b>The Dormouse's story</b></p>\n"
     ]
    }
   ],
   "source": [
    "print soup.p"
   ]
  },
  {
   "cell_type": "markdown",
   "metadata": {},
   "source": [
    "#### the \"find_all\" method, as well as tag.name, tag.attrs, tag.string, tag['attrName']"
   ]
  },
  {
   "cell_type": "markdown",
   "metadata": {},
   "source": [
    "apparently, the above is not what I want. I actually would like to obtain all the tags which is labeled as \"p\". This can be achieved by taking the advantage of the method \"find_all\":"
   ]
  },
  {
   "cell_type": "code",
   "execution_count": 52,
   "metadata": {
    "collapsed": false,
    "scrolled": false
   },
   "outputs": [
    {
     "name": "stdout",
     "output_type": "stream",
     "text": [
      "<p class=\"title\"><b>The Dormouse's story</b></p>\n",
      "p\n",
      "{u'class': [u'title']}\n",
      "[u'title']\n",
      "<type 'unicode'>\n",
      "The Dormouse's story\n",
      "===================================================================================================\n",
      "<p class=\"story\">Once upon a time there were three little sisters; and their names were</p>\n",
      "p\n",
      "{u'class': [u'story']}\n",
      "[u'story']\n",
      "<type 'unicode'>\n",
      "Once upon a time there were three little sisters; and their names were\n",
      "===================================================================================================\n",
      "<p class=\"story\">...</p>\n",
      "p\n",
      "{u'class': [u'story']}\n",
      "[u'story']\n",
      "<type 'unicode'>\n",
      "...\n",
      "===================================================================================================\n"
     ]
    }
   ],
   "source": [
    "for tag in soup.find_all(\"p\"):\n",
    "    print tag\n",
    "    print tag.name\n",
    "    print tag.attrs\n",
    "    print tag[\"class\"]\n",
    "    print type(tag[\"class\"][0])\n",
    "    print tag.string\n",
    "    print \"===================================================================================================\""
   ]
  },
  {
   "cell_type": "markdown",
   "metadata": {},
   "source": [
    "move from unicode to ascii:"
   ]
  },
  {
   "cell_type": "code",
   "execution_count": 81,
   "metadata": {
    "collapsed": false,
    "scrolled": true
   },
   "outputs": [
    {
     "name": "stdout",
     "output_type": "stream",
     "text": [
      "u'\\n'\n",
      "'\\n'\n",
      "\n",
      "u\"The Dormouse's story\"\n",
      "\"The Dormouse's story\"\n",
      "\n",
      "u'\\n'\n",
      "'\\n'\n",
      "\n",
      "u'\\n'\n",
      "'\\n'\n",
      "\n",
      "u\"The Dormouse's story\"\n",
      "\"The Dormouse's story\"\n",
      "\n",
      "u'\\n'\n",
      "'\\n'\n",
      "\n",
      "u'Once upon a time there were three little sisters; and their names were'\n",
      "'Once upon a time there were three little sisters; and their names were'\n",
      "\n",
      "u'\\n'\n",
      "'\\n'\n",
      "\n",
      "u'Elsie'\n",
      "'Elsie'\n",
      "\n",
      "u',\\n'\n",
      "',\\n'\n",
      "\n",
      "u'Lacie'\n",
      "'Lacie'\n",
      "\n",
      "u' and\\n'\n",
      "' and\\n'\n",
      "\n",
      "u'Tillie'\n",
      "'Tillie'\n",
      "\n",
      "u';\\nand they lived at the bottom of a well.'\n",
      "';\\nand they lived at the bottom of a well.'\n",
      "\n",
      "u'\\n'\n",
      "'\\n'\n",
      "\n",
      "u'...'\n",
      "'...'\n",
      "\n",
      "u'\\n'\n",
      "'\\n'\n",
      "\n"
     ]
    }
   ],
   "source": [
    "for string in soup.strings:\n",
    "    print(repr(string))\n",
    "    print repr(string.encode(\"ascii\"))\n",
    "    print"
   ]
  },
  {
   "cell_type": "markdown",
   "metadata": {},
   "source": [
    "So many spaces there. The spaces can be removed via stripping the strings:"
   ]
  },
  {
   "cell_type": "code",
   "execution_count": 84,
   "metadata": {
    "collapsed": false
   },
   "outputs": [
    {
     "name": "stdout",
     "output_type": "stream",
     "text": [
      "\"The Dormouse's story\"\n",
      "\"The Dormouse's story\"\n",
      "'Once upon a time there were three little sisters; and their names were'\n",
      "'Elsie'\n",
      "','\n",
      "'Lacie'\n",
      "'and'\n",
      "'Tillie'\n",
      "';\\nand they lived at the bottom of a well.'\n",
      "'...'\n"
     ]
    }
   ],
   "source": [
    "for string in soup.stripped_strings:\n",
    "    print(repr(string.encode(\"ascii\")))"
   ]
  },
  {
   "cell_type": "markdown",
   "metadata": {},
   "source": [
    "Well, we could also put all the stripped strings into a list:"
   ]
  },
  {
   "cell_type": "code",
   "execution_count": 85,
   "metadata": {
    "collapsed": false
   },
   "outputs": [
    {
     "data": {
      "text/plain": [
       "['\"The Dormouse\\'s story\"',\n",
       " '\"The Dormouse\\'s story\"',\n",
       " \"'Once upon a time there were three little sisters; and their names were'\",\n",
       " \"'Elsie'\",\n",
       " \"','\",\n",
       " \"'Lacie'\",\n",
       " \"'and'\",\n",
       " \"'Tillie'\",\n",
       " \"';\\\\nand they lived at the bottom of a well.'\",\n",
       " \"'...'\"]"
      ]
     },
     "execution_count": 85,
     "metadata": {},
     "output_type": "execute_result"
    }
   ],
   "source": [
    "[repr(string.encode(\"ascii\")) for string in soup.stripped_strings]"
   ]
  },
  {
   "cell_type": "code",
   "execution_count": 86,
   "metadata": {
    "collapsed": false
   },
   "outputs": [
    {
     "name": "stdout",
     "output_type": "stream",
     "text": [
      "<html>\n",
      " <head>\n",
      "  <title>\n",
      "   The Dormouse's story\n",
      "  </title>\n",
      " </head>\n",
      " <body>\n",
      "  <p class=\"title\">\n",
      "   <b>\n",
      "    The Dormouse's story\n",
      "   </b>\n",
      "  </p>\n",
      "  <p class=\"story\">\n",
      "   Once upon a time there were three little sisters; and their names were\n",
      "  </p>\n",
      "  <a class=\"sister\" href=\"http://example.com/elsie\" id=\"link1\">\n",
      "   Elsie\n",
      "  </a>\n",
      "  ,\n",
      "  <a class=\"sister\" href=\"http://example.com/lacie\" id=\"link2\">\n",
      "   Lacie\n",
      "  </a>\n",
      "  and\n",
      "  <a class=\"sister\" href=\"http://example.com/tillie\" id=\"link3\">\n",
      "   Tillie\n",
      "  </a>\n",
      "  ;\n",
      "and they lived at the bottom of a well.\n",
      " </body>\n",
      "</html>\n",
      "<p class=\"story\">\n",
      " ...\n",
      "</p>\n",
      "\n"
     ]
    }
   ],
   "source": [
    "print soup.prettify()"
   ]
  },
  {
   "cell_type": "markdown",
   "metadata": {},
   "source": [
    "#### parents and descendents"
   ]
  },
  {
   "cell_type": "code",
   "execution_count": 89,
   "metadata": {
    "collapsed": false
   },
   "outputs": [
    {
     "name": "stdout",
     "output_type": "stream",
     "text": [
      "<a class=\"sister\" href=\"http://example.com/elsie\" id=\"link1\">Elsie</a>\n",
      "\n",
      "body\n",
      "html\n",
      "[document]\n"
     ]
    }
   ],
   "source": [
    "link = soup.a\n",
    "print link\n",
    "print \n",
    "# <a class=\"sister\" href=\"http://example.com/elsie\" id=\"link1\">Elsie</a>\n",
    "for parent in link.parents:\n",
    "    if parent is None:\n",
    "        print(parent)\n",
    "    else:\n",
    "        print(parent.name)"
   ]
  },
  {
   "cell_type": "markdown",
   "metadata": {},
   "source": [
    "We've successfully found the parent of the specified tag. This can be verified by seeing the structure obtained from the method soup.prettify()."
   ]
  },
  {
   "cell_type": "code",
   "execution_count": 90,
   "metadata": {
    "collapsed": false
   },
   "outputs": [
    {
     "name": "stdout",
     "output_type": "stream",
     "text": [
      "[document]\n",
      "\n",
      "\n",
      "<html><head><title>The Dormouse's story</title></head>\n",
      "<body>\n",
      "<p class=\"title\"><b>The Dormouse's story</b></p>\n",
      "<p class=\"story\">Once upon a time there were three little sisters; and their names were</p>\n",
      "<a class=\"sister\" href=\"http://example.com/elsie\" id=\"link1\">Elsie</a>,\n",
      "<a class=\"sister\" href=\"http://example.com/lacie\" id=\"link2\">Lacie</a> and\n",
      "<a class=\"sister\" href=\"http://example.com/tillie\" id=\"link3\">Tillie</a>;\n",
      "and they lived at the bottom of a well.</body></html>\n",
      "\n",
      "\n",
      "<p class=\"story\">...</p>\n",
      "\n",
      "\n"
     ]
    }
   ],
   "source": [
    "print soup.name\n",
    "\n",
    "for child in soup.children:\n",
    "    print child"
   ]
  },
  {
   "cell_type": "markdown",
   "metadata": {},
   "source": [
    "The above result is understandable since from the method soup.prettify() we know already that $<html>$ and $<p>$ are the direct children of the parent $[document]$."
   ]
  },
  {
   "cell_type": "markdown",
   "metadata": {},
   "source": [
    "Now, let's see its descendants:"
   ]
  },
  {
   "cell_type": "code",
   "execution_count": 63,
   "metadata": {
    "collapsed": false
   },
   "outputs": [
    {
     "name": "stdout",
     "output_type": "stream",
     "text": [
      "body\n",
      "<type 'generator'>\n",
      "\n",
      "\n",
      "<p class=\"title\"><b>The Dormouse's story</b></p>\n",
      "<b>The Dormouse's story</b>\n",
      "The Dormouse's story\n",
      "\n",
      "\n",
      "<p class=\"story\">Once upon a time there were three little sisters; and their names were</p>\n",
      "Once upon a time there were three little sisters; and their names were\n",
      "\n",
      "\n",
      "<a class=\"sister\" href=\"http://example.com/elsie\" id=\"link1\">Elsie</a>\n",
      "Elsie\n",
      ",\n",
      "\n",
      "<a class=\"sister\" href=\"http://example.com/lacie\" id=\"link2\">Lacie</a>\n",
      "Lacie\n",
      " and\n",
      "\n",
      "<a class=\"sister\" href=\"http://example.com/tillie\" id=\"link3\">Tillie</a>\n",
      "Tillie\n",
      ";\n",
      "and they lived at the bottom of a well.\n"
     ]
    }
   ],
   "source": [
    "print soup.body.name\n",
    "print type(soup.body.descendants)\n",
    "\n",
    "for child in soup.body.descendants:\n",
    "    print child"
   ]
  },
  {
   "cell_type": "markdown",
   "metadata": {},
   "source": [
    "Say, I'd like to get all the strings of all the \"p\" tags. How to do this? Let's see:"
   ]
  },
  {
   "cell_type": "code",
   "execution_count": 62,
   "metadata": {
    "collapsed": false
   },
   "outputs": [
    {
     "name": "stdout",
     "output_type": "stream",
     "text": [
      "<b>The Dormouse's story</b>\n",
      "Once upon a time there were three little sisters; and their names were\n",
      "...\n"
     ]
    }
   ],
   "source": [
    "for single_tag in soup.find_all(\"p\"):\n",
    "    for string in single_tag:\n",
    "        print string"
   ]
  },
  {
   "cell_type": "code",
   "execution_count": 3,
   "metadata": {
    "collapsed": true
   },
   "outputs": [],
   "source": [
    "html_doc = \"\"\"\n",
    "<html><head><title>The Dormouse's story</title></head>\n",
    "<body>\n",
    "<p class=\"title\"><b>The Dormouse's story</b></p>\n",
    "\n",
    "<p class=\"story\">Once upon a time there were three little sisters; and their names were\n",
    "<a href=\"http://example.com/elsie\" class=\"sister\" id=\"link1\">Elsie</a>,\n",
    "<a href=\"http://example.com/lacie\" class=\"sister\" id=\"link2\">Lacie</a> and\n",
    "<a href=\"http://example.com/tillie\" class=\"sister\" id=\"link3\">Tillie</a>;\n",
    "and they lived at the bottom of a well.</p>\n",
    "\n",
    "<p class=\"story\">...</p>\n",
    "\"\"\""
   ]
  },
  {
   "cell_type": "code",
   "execution_count": 14,
   "metadata": {
    "collapsed": false
   },
   "outputs": [],
   "source": [
    "from bs4 import BeautifulSoup\n",
    "soup = BeautifulSoup(html_doc, 'html.parser')"
   ]
  },
  {
   "cell_type": "code",
   "execution_count": 16,
   "metadata": {
    "collapsed": false
   },
   "outputs": [
    {
     "name": "stdout",
     "output_type": "stream",
     "text": [
      "<p class=\"title\"><b>The Dormouse's story</b></p>\n",
      "[u'title']\n"
     ]
    }
   ],
   "source": [
    "print soup.find_all(\"p\")[0]\n",
    "print soup.find_all(\"p\")[0].get(\"class\")"
   ]
  },
  {
   "cell_type": "code",
   "execution_count": 5,
   "metadata": {
    "collapsed": false
   },
   "outputs": [
    {
     "name": "stdout",
     "output_type": "stream",
     "text": [
      "[<a class=\"sister\" href=\"http://example.com/elsie\" id=\"link1\">Elsie</a>, <a class=\"sister\" href=\"http://example.com/lacie\" id=\"link2\">Lacie</a>, <a class=\"sister\" href=\"http://example.com/tillie\" id=\"link3\">Tillie</a>]\n"
     ]
    }
   ],
   "source": [
    "print soup.find_all('a')"
   ]
  },
  {
   "cell_type": "code",
   "execution_count": 32,
   "metadata": {
    "collapsed": false
   },
   "outputs": [
    {
     "name": "stdout",
     "output_type": "stream",
     "text": [
      "<class 'bs4.element.Tag'>\n",
      "http://example.com/elsie\n",
      "<class 'bs4.element.Tag'>\n",
      "http://example.com/lacie\n",
      "<class 'bs4.element.Tag'>\n",
      "http://example.com/tillie\n"
     ]
    }
   ],
   "source": [
    "for link in soup.find_all('a'):\n",
    "    print type(link)\n",
    "    print(link.get('href'))"
   ]
  },
  {
   "cell_type": "markdown",
   "metadata": {},
   "source": [
    "#### generator and iterator"
   ]
  },
  {
   "cell_type": "markdown",
   "metadata": {},
   "source": [
    "I now have the problem about the type \"generator\". I'd like to understand both the types \"generator\" and \"iterator\" in Python better."
   ]
  },
  {
   "cell_type": "code",
   "execution_count": 9,
   "metadata": {
    "collapsed": false
   },
   "outputs": [
    {
     "name": "stdout",
     "output_type": "stream",
     "text": [
      "<type 'method-wrapper'>\n",
      "<type 'method-wrapper'>\n",
      "<type 'method-wrapper'>\n"
     ]
    },
    {
     "ename": "AttributeError",
     "evalue": "'int' object has no attribute '__iter__'",
     "output_type": "error",
     "traceback": [
      "\u001b[1;31m---------------------------------------------------------------------------\u001b[0m",
      "\u001b[1;31mAttributeError\u001b[0m                            Traceback (most recent call last)",
      "\u001b[1;32m<ipython-input-9-02efa174793f>\u001b[0m in \u001b[0;36m<module>\u001b[1;34m()\u001b[0m\n\u001b[0;32m      4\u001b[0m \u001b[1;32mprint\u001b[0m \u001b[0mtype\u001b[0m\u001b[1;33m(\u001b[0m\u001b[0ma\u001b[0m\u001b[1;33m.\u001b[0m\u001b[0m__init__\u001b[0m\u001b[1;33m)\u001b[0m\u001b[1;33m\u001b[0m\u001b[0m\n\u001b[0;32m      5\u001b[0m \u001b[1;32mprint\u001b[0m \u001b[0mtype\u001b[0m\u001b[1;33m(\u001b[0m\u001b[0mb\u001b[0m\u001b[1;33m.\u001b[0m\u001b[0m__init__\u001b[0m\u001b[1;33m)\u001b[0m\u001b[1;33m\u001b[0m\u001b[0m\n\u001b[1;32m----> 6\u001b[1;33m \u001b[1;32mprint\u001b[0m \u001b[0mtype\u001b[0m\u001b[1;33m(\u001b[0m\u001b[0mb\u001b[0m\u001b[1;33m.\u001b[0m\u001b[0m__iter__\u001b[0m\u001b[1;33m)\u001b[0m\u001b[1;33m\u001b[0m\u001b[0m\n\u001b[0m",
      "\u001b[1;31mAttributeError\u001b[0m: 'int' object has no attribute '__iter__'"
     ]
    }
   ],
   "source": [
    "a = [1, 2, 3, 4]\n",
    "b=123\n",
    "print type(a.__iter__)\n",
    "print type(a.__init__)\n",
    "print type(b.__init__)\n",
    "print type(b.__iter__)"
   ]
  },
  {
   "cell_type": "markdown",
   "metadata": {},
   "source": [
    ">When Python executes the for loop, it first invokes the $__iter__()$ method of the container to get the iterator of the container. It then repeatedly calls the next() method $__next__()$ method in Python 3.x) of the iterator until the iterator raises a StopIteration exception. Once the exception is raised, the for loop ends."
   ]
  },
  {
   "cell_type": "markdown",
   "metadata": {},
   "source": [
    "which means that a list is iterable. More details see: http://www.shutupandship.com/2012/01/understanding-python-iterables-and.html\n",
    "\n",
    "Let's quote the summary from that site (written by Praveen Gollakota):\n",
    ">If you define a custom container class, think about whether it should also be an iterable. \n",
    "It is quite easy to make a class support the iterator protocol. \n",
    "Doing so will make the syntax more natural.\n",
    "\n",
    "If I can't recall what the above summary says or how to make a class iterable in the future, I'll visit that website again."
   ]
  },
  {
   "cell_type": "markdown",
   "metadata": {},
   "source": [
    "Now, let's continue. What is a generator in Python?"
   ]
  },
  {
   "cell_type": "code",
   "execution_count": 32,
   "metadata": {
    "collapsed": true
   },
   "outputs": [],
   "source": [
    "# Using the generator pattern (an iterable)\n",
    "class firstn(object):\n",
    "    def __init__(self, n):\n",
    "        self.n = n\n",
    "        self.num, self.nums = 0, []\n",
    "    def __iter__(self):\n",
    "        return self\n",
    "    # Python 3 compatibility\n",
    "    def __next__(self):                  # Okay, I knew this. In Python3 one should be using __next__.\n",
    "        return self.next()\n",
    "    def next(self):\n",
    "        if self.num < self.n:\n",
    "            cur, self.num = self.num, self.num+1\n",
    "            return cur\n",
    "        else:\n",
    "            raise StopIteration()"
   ]
  },
  {
   "cell_type": "code",
   "execution_count": 33,
   "metadata": {
    "collapsed": false
   },
   "outputs": [
    {
     "name": "stdout",
     "output_type": "stream",
     "text": [
      "<class '__main__.firstn'>\n",
      "0\n",
      "1\n",
      "2\n",
      "\n",
      "0\n",
      "1\n",
      "2\n"
     ]
    }
   ],
   "source": [
    "print type(firstn(3))\n",
    "for j in firstn(3):\n",
    "    print j\n",
    "print\n",
    "a=firstn(3)\n",
    "for _ in range(3):\n",
    "    print a.next()"
   ]
  },
  {
   "cell_type": "markdown",
   "metadata": {},
   "source": [
    "Well, this I understand. The above is nothing but the concept of the iterator."
   ]
  },
  {
   "cell_type": "markdown",
   "metadata": {},
   "source": [
    "\n",
    "\n",
    "> (https://wiki.python.org/moin/Generators)\n",
    "\n",
    ">Python provides generator functions as a convenient shortcut to building iterators. Lets us rewrite the above iterator as a generator function: "
   ]
  },
  {
   "cell_type": "code",
   "execution_count": 34,
   "metadata": {
    "collapsed": true
   },
   "outputs": [],
   "source": [
    "def firstn(n):\n",
    "    num = 0\n",
    "    while num < n:\n",
    "        yield num\n",
    "        num += 1"
   ]
  },
  {
   "cell_type": "code",
   "execution_count": 38,
   "metadata": {
    "collapsed": false
   },
   "outputs": [
    {
     "name": "stdout",
     "output_type": "stream",
     "text": [
      "0\n",
      "1\n",
      "2\n"
     ]
    }
   ],
   "source": [
    "a=firstn(3)\n",
    "for a in firstn(3):\n",
    "    print a"
   ]
  },
  {
   "cell_type": "markdown",
   "metadata": {},
   "source": [
    "I got it. In this way, the iterator can be built easier. That's it. I think 1) the design pattern of the generator is simpler than the design pattern of the iterator. 2) their behave should be the same."
   ]
  },
  {
   "cell_type": "markdown",
   "metadata": {},
   "source": [
    "Now, due to the string we have got has a special type (NavigableString), we can find the direct parent of these special strings."
   ]
  },
  {
   "cell_type": "code",
   "execution_count": 48,
   "metadata": {
    "collapsed": false
   },
   "outputs": [
    {
     "name": "stdout",
     "output_type": "stream",
     "text": [
      "<body>\n",
      "<p class=\"title\"><b>The Dormouse's story</b></p>\n",
      "<p class=\"story\">Once upon a time there were three little sisters; and their names were</p>\n",
      "<a class=\"sister\" href=\"http://example.com/elsie\" id=\"link1\">Elsie</a>,\n",
      "<a class=\"sister\" href=\"http://example.com/lacie\" id=\"link2\">Lacie</a> and\n",
      "<a class=\"sister\" href=\"http://example.com/tillie\" id=\"link3\">Tillie</a>;\n",
      "and they lived at the bottom of a well.</body>\n"
     ]
    }
   ],
   "source": [
    "print [soup.find_all(\"p\")[j].string for j in range(3)][1].parent.parent"
   ]
  },
  {
   "cell_type": "markdown",
   "metadata": {},
   "source": [
    "Now, let's see if we can print out all the strings of the site:"
   ]
  },
  {
   "cell_type": "code",
   "execution_count": 67,
   "metadata": {
    "collapsed": false
   },
   "outputs": [
    {
     "name": "stdout",
     "output_type": "stream",
     "text": [
      "u'\\n'\n",
      "\n",
      "\n",
      "<class 'bs4.element.NavigableString'>\n",
      "======================================\n",
      "u\"The Dormouse's story\"\n",
      "The Dormouse's story\n",
      "<class 'bs4.element.NavigableString'>\n",
      "======================================\n",
      "u'\\n'\n",
      "\n",
      "\n",
      "<class 'bs4.element.NavigableString'>\n",
      "======================================\n",
      "u'\\n'\n",
      "\n",
      "\n",
      "<class 'bs4.element.NavigableString'>\n",
      "======================================\n",
      "u\"The Dormouse's story\"\n",
      "The Dormouse's story\n",
      "<class 'bs4.element.NavigableString'>\n",
      "======================================\n",
      "u'\\n'\n",
      "\n",
      "\n",
      "<class 'bs4.element.NavigableString'>\n",
      "======================================\n",
      "u'Once upon a time there were three little sisters; and their names were'\n",
      "Once upon a time there were three little sisters; and their names were\n",
      "<class 'bs4.element.NavigableString'>\n",
      "======================================\n",
      "u'\\n'\n",
      "\n",
      "\n",
      "<class 'bs4.element.NavigableString'>\n",
      "======================================\n",
      "u'Elsie'\n",
      "Elsie\n",
      "<class 'bs4.element.NavigableString'>\n",
      "======================================\n",
      "u',\\n'\n",
      ",\n",
      "\n",
      "<class 'bs4.element.NavigableString'>\n",
      "======================================\n",
      "u'Lacie'\n",
      "Lacie\n",
      "<class 'bs4.element.NavigableString'>\n",
      "======================================\n",
      "u' and\\n'\n",
      " and\n",
      "\n",
      "<class 'bs4.element.NavigableString'>\n",
      "======================================\n",
      "u'Tillie'\n",
      "Tillie\n",
      "<class 'bs4.element.NavigableString'>\n",
      "======================================\n",
      "u';\\nand they lived at the bottom of a well.'\n",
      ";\n",
      "and they lived at the bottom of a well.\n",
      "<class 'bs4.element.NavigableString'>\n",
      "======================================\n",
      "u'\\n'\n",
      "\n",
      "\n",
      "<class 'bs4.element.NavigableString'>\n",
      "======================================\n",
      "u'...'\n",
      "...\n",
      "<class 'bs4.element.NavigableString'>\n",
      "======================================\n",
      "u'\\n'\n",
      "\n",
      "\n",
      "<class 'bs4.element.NavigableString'>\n",
      "======================================\n"
     ]
    }
   ],
   "source": [
    "for string in soup.strings:\n",
    "    print(repr(string))\n",
    "    print((string))\n",
    "    print(type(string))\n",
    "    print\"======================================\""
   ]
  },
  {
   "cell_type": "markdown",
   "metadata": {},
   "source": [
    "or the stripped strings(unnecessary spaces are removed)"
   ]
  },
  {
   "cell_type": "code",
   "execution_count": 70,
   "metadata": {
    "collapsed": false
   },
   "outputs": [
    {
     "name": "stdout",
     "output_type": "stream",
     "text": [
      "u\"The Dormouse's story\"\n",
      "u\"The Dormouse's story\"\n",
      "u'Once upon a time there were three little sisters; and their names were'\n",
      "u'Elsie'\n",
      "u','\n",
      "u'Lacie'\n",
      "u'and'\n",
      "u'Tillie'\n",
      "u';\\nand they lived at the bottom of a well.'\n",
      "u'...'\n"
     ]
    }
   ],
   "source": [
    "for string in soup.stripped_strings:\n",
    "    print(repr(string))"
   ]
  },
  {
   "cell_type": "markdown",
   "metadata": {},
   "source": [
    "#### Siblings:"
   ]
  },
  {
   "cell_type": "code",
   "execution_count": 72,
   "metadata": {
    "collapsed": false
   },
   "outputs": [
    {
     "name": "stdout",
     "output_type": "stream",
     "text": [
      "<html>\n",
      " <body>\n",
      "  <a>\n",
      "   <b>\n",
      "    text1\n",
      "   </b>\n",
      "   <c>\n",
      "    text2\n",
      "   </c>\n",
      "  </a>\n",
      " </body>\n",
      "</html>\n"
     ]
    }
   ],
   "source": [
    "sibling_soup = BeautifulSoup(\"<a><b>text1</b><c>text2</c></b></a>\",\"lxml\")\n",
    "print(sibling_soup.prettify())"
   ]
  },
  {
   "cell_type": "code",
   "execution_count": 88,
   "metadata": {
    "collapsed": false
   },
   "outputs": [
    {
     "name": "stdout",
     "output_type": "stream",
     "text": [
      "<c>text2</c>\n",
      "None\n"
     ]
    }
   ],
   "source": [
    "print sibling_soup.b.next_sibling\n",
    "print sibling_soup.b.previous_sibling"
   ]
  },
  {
   "cell_type": "code",
   "execution_count": 89,
   "metadata": {
    "collapsed": false
   },
   "outputs": [
    {
     "name": "stdout",
     "output_type": "stream",
     "text": [
      "None\n",
      "<b>text1</b>\n"
     ]
    }
   ],
   "source": [
    "print sibling_soup.c.next_sibling\n",
    "print sibling_soup.c.previous_sibling"
   ]
  },
  {
   "cell_type": "markdown",
   "metadata": {},
   "source": [
    "back to the soup example. Let's find the siblings of the tag \"a\" in an iterating way."
   ]
  },
  {
   "cell_type": "code",
   "execution_count": 93,
   "metadata": {
    "collapsed": false
   },
   "outputs": [
    {
     "name": "stdout",
     "output_type": "stream",
     "text": [
      "<type 'generator'>\n"
     ]
    }
   ],
   "source": [
    "print type(soup.a.next_siblings)"
   ]
  },
  {
   "cell_type": "markdown",
   "metadata": {},
   "source": [
    "apparently, it is a generator. So, we can do the following:"
   ]
  },
  {
   "cell_type": "code",
   "execution_count": 91,
   "metadata": {
    "collapsed": false
   },
   "outputs": [
    {
     "name": "stdout",
     "output_type": "stream",
     "text": [
      "u',\\n'\n",
      "<a class=\"sister\" href=\"http://example.com/lacie\" id=\"link2\">Lacie</a>\n",
      "u' and\\n'\n",
      "<a class=\"sister\" href=\"http://example.com/tillie\" id=\"link3\">Tillie</a>\n",
      "u';\\nand they lived at the bottom of a well.'\n"
     ]
    }
   ],
   "source": [
    "for sibling in soup.a.next_siblings:\n",
    "    print(repr(sibling))"
   ]
  },
  {
   "cell_type": "markdown",
   "metadata": {},
   "source": [
    "#### learn: the function map and filter"
   ]
  },
  {
   "cell_type": "code",
   "execution_count": 19,
   "metadata": {
    "collapsed": false
   },
   "outputs": [
    {
     "name": "stdout",
     "output_type": "stream",
     "text": [
      "True\n",
      "[True, False, True, True, False]\n",
      "['aaa', 'aac', 'caa']\n"
     ]
    }
   ],
   "source": [
    "a=[\"aaa\",\"bbb\",\"aac\",\"caa\",\"def\"]\n",
    "print 'aa' in 'aaa'\n",
    "print map(lambda x:'aa' in x, a)\n",
    "print filter(lambda x:'aa' in x, a)"
   ]
  },
  {
   "cell_type": "markdown",
   "metadata": {},
   "source": [
    "#### learn: the function reduce"
   ]
  },
  {
   "cell_type": "code",
   "execution_count": 57,
   "metadata": {
    "collapsed": false
   },
   "outputs": [
    {
     "name": "stdout",
     "output_type": "stream",
     "text": [
      "15\n",
      "http://www.indeed.com/jobs?q=%22data+scientist%22&l=New+York\n",
      "http://www.indeed.com/jobs?q=%22data+scientist%22&l=New+York\n"
     ]
    }
   ],
   "source": [
    "print reduce(lambda x, y: x+y, [1, 2, 3, 4, 5])\n",
    "final_site_list = ['http://www.indeed.com/jobs?q=%22','data+scientist', '%22&l=', 'New+York']\n",
    "print reduce(lambda x,y: x+y,final_site_list)\n",
    "print \"\".join(final_site_list)"
   ]
  },
  {
   "cell_type": "markdown",
   "metadata": {},
   "source": [
    "#### learn: the usage of Counter:"
   ]
  },
  {
   "cell_type": "code",
   "execution_count": 119,
   "metadata": {
    "collapsed": false
   },
   "outputs": [
    {
     "name": "stdout",
     "output_type": "stream",
     "text": [
      "Counter({'b': 3, 'a': 1})\n",
      "3\n"
     ]
    }
   ],
   "source": [
    "a=Counter({\"a\":1,\"b\":3})\n",
    "print a\n",
    "print a[\"b\"]"
   ]
  },
  {
   "cell_type": "code",
   "execution_count": 36,
   "metadata": {
    "collapsed": false
   },
   "outputs": [
    {
     "name": "stdout",
     "output_type": "stream",
     "text": [
      "Counter({'blue': 3, 'red': 2, 'green': 1})\n"
     ]
    }
   ],
   "source": [
    "cnt=Counter()\n",
    "cnt.update(['red', 'blue', 'red', 'green', 'blue', 'blue'])\n",
    "print cnt"
   ]
  },
  {
   "cell_type": "code",
   "execution_count": 14,
   "metadata": {
    "collapsed": false
   },
   "outputs": [
    {
     "name": "stdout",
     "output_type": "stream",
     "text": [
      "Counter({'blue': 3, 'red': 2, 'green': 1})\n",
      "Counter({'blue': 6, 'red': 4, 'green': 2})\n"
     ]
    }
   ],
   "source": [
    "cnt = Counter()\n",
    "for word in ['red', 'blue', 'red', 'green', 'blue', 'blue']:\n",
    "    cnt[word] += 1\n",
    "print cnt\n",
    "cnt.update(['red', 'blue', 'red', 'green', 'blue', 'blue'])\n",
    "print cnt"
   ]
  },
  {
   "cell_type": "code",
   "execution_count": 63,
   "metadata": {
    "collapsed": false
   },
   "outputs": [
    {
     "name": "stdout",
     "output_type": "stream",
     "text": [
      "[('blue', 6), ('green', 2), ('red', 4)]\n",
      "<type 'list'>\n"
     ]
    }
   ],
   "source": [
    "print cnt.items()\n",
    "print type(cnt.items())"
   ]
  },
  {
   "cell_type": "markdown",
   "metadata": {},
   "source": [
    "#### some very basic exercises about the pandas dataframe:\n",
    "\n",
    "it accepts numpy array or dictionary-like inputs. Say, let's import data from a set of dictionary:|"
   ]
  },
  {
   "cell_type": "code",
   "execution_count": 15,
   "metadata": {
    "collapsed": false
   },
   "outputs": [],
   "source": [
    "frame=pd.DataFrame(cnt.items(), columns = ['color', 'numColor'])"
   ]
  },
  {
   "cell_type": "code",
   "execution_count": 16,
   "metadata": {
    "collapsed": false
   },
   "outputs": [
    {
     "data": {
      "text/plain": [
       "(0, 7)"
      ]
     },
     "execution_count": 16,
     "metadata": {},
     "output_type": "execute_result"
    },
    {
     "data": {
      "image/png": "[encoded data removed]",
      "text/plain": [
       "<matplotlib.figure.Figure at 0x1175b6590>"
      ]
     },
     "metadata": {},
     "output_type": "display_data"
    }
   ],
   "source": [
    "ax=frame.plot(x = 'color', kind = 'bar', legend = None,color='green')\n",
    "ax.set_xlabel(\"color\")\n",
    "ax.set_ylabel(\"color counts\")\n",
    "ax.set_ylim(0,7)"
   ]
  },
  {
   "cell_type": "code",
   "execution_count": 18,
   "metadata": {
    "collapsed": false
   },
   "outputs": [
    {
     "data": {
      "text/plain": [
       "array([[1, 2, 3, 4],\n",
       "       [5, 6, 7, 8]])"
      ]
     },
     "execution_count": 18,
     "metadata": {},
     "output_type": "execute_result"
    }
   ],
   "source": [
    "np.asarray([[1,2,3,4],[5,6,7,8]])"
   ]
  },
  {
   "cell_type": "code",
   "execution_count": 19,
   "metadata": {
    "collapsed": false
   },
   "outputs": [
    {
     "data": {
      "image/png": "[encoded data removed]",
      "text/plain": [
       "<matplotlib.figure.Figure at 0x1175ab190>"
      ]
     },
     "metadata": {},
     "output_type": "display_data"
    }
   ],
   "source": [
    "frame=pd.DataFrame(np.asarray([[1,2,3,4],[5,6,7,8]]), columns = ['01', '02','03','04'])\n",
    "ax=frame.plot( kind = 'bar')\n",
    "ax.set_ylim(0,10)\n",
    "fig = ax.get_figure()\n",
    "fig.savefig(\"tmp.svg\")"
   ]
  },
  {
   "cell_type": "code",
   "execution_count": 109,
   "metadata": {
    "collapsed": false
   },
   "outputs": [
    {
     "data": {
      "text/html": [
       "<div>\n",
       "<table border=\"1\" class=\"dataframe\">\n",
       "  <thead>\n",
       "    <tr style=\"text-align: right;\">\n",
       "      <th></th>\n",
       "      <th>01</th>\n",
       "      <th>02</th>\n",
       "      <th>03</th>\n",
       "      <th>04</th>\n",
       "    </tr>\n",
       "  </thead>\n",
       "  <tbody>\n",
       "    <tr>\n",
       "      <th>0</th>\n",
       "      <td>1</td>\n",
       "      <td>2</td>\n",
       "      <td>3</td>\n",
       "      <td>4</td>\n",
       "    </tr>\n",
       "    <tr>\n",
       "      <th>1</th>\n",
       "      <td>5</td>\n",
       "      <td>6</td>\n",
       "      <td>7</td>\n",
       "      <td>8</td>\n",
       "    </tr>\n",
       "  </tbody>\n",
       "</table>\n",
       "</div>"
      ],
      "text/plain": [
       "   01  02  03  04\n",
       "0   1   2   3   4\n",
       "1   5   6   7   8"
      ]
     },
     "execution_count": 109,
     "metadata": {},
     "output_type": "execute_result"
    }
   ],
   "source": [
    "frame.tail()"
   ]
  },
  {
   "cell_type": "markdown",
   "metadata": {},
   "source": [
    "#### the \"get_text\" method from Beautifulsoup:"
   ]
  },
  {
   "cell_type": "code",
   "execution_count": 15,
   "metadata": {
    "collapsed": false
   },
   "outputs": [
    {
     "data": {
      "text/plain": [
       "u\"Data Scientist job - Indeed - Seattle, WA | Indeed.com|Skip to|Job Description|,|Search|Close|Find Jobs|Find Resumes|Employers / Post Job|Upload your resume|Sign in|:|What|Where|Advanced Job Search|job title, keywords or company|city, state, or zip|Data Scientist|Indeed|133 reviews|-|Seattle, WA|This job posting is no longer available on Indeed.|Find similar jobs:|Data Scientist jobs|-|Indeed jobs|How A Data Scientist Works|As a Data Scientist at Indeed your role is to follow the data. Analyze, visualize, and model job search related data. You will build and implement machine learning models to make timely decisions. You will have access to unparalleled resources within Indeed to grow and develop both personally and professionally.|We are looking for a mixture between a statistician, scientist, machine learning expert and engineer: someone who has passion for building and improving Internet-scale products informed by data. The ideal candidate understands human behavior and knows what to look for in the data.|Responsibilities:|Drive the roadmap proactively by identifying opportunities in the data|Evaluate the big picture and solve business problems rather than focusing on metrics alone|Create great visualizations|We're looking for someone who:|Can do small data modeling work: R, Julia, Octave, Python|Can do big data modeling work: Hadoop, Hive, Impala, Pig, Scala, Scalding, Scoobi, Spark, Shark|Can fish for data: SQL, Unix skills, Perl, python pandas, or other languages|Has hands on coding skills in one of : SQL, bash , perl, python or other languages to do your own data analysis|Can communicate concisely and persuasively with engineers and product marketers|Requirements:|Ph.D. or M.S. in a natural science where you ran experiments and analysed data statistically|Academic experience in one (or more) of these fields: physics, bio-statistics, astrophysics, computational chemistry, cognitive or neuro sciences, behavioral economics, econometrics, finance, mathematics, computer science|Work experience analyzing lots of data, for example in biotechnology, astrophysics or particle physics experiments, quantitative finance or high frequency trading, \\xe2\\u20ac\\u0153war on terror\\xe2\\u20ac\\ufffd intelligence analytics, or consumer Internet|Benefits & Perks:|Competitive salaries and bonus programs|Medical, Dental and Vision coverage|Commuter benefits|Wellness initiatives (incentive programs, fitness classes)|Retirement plan with company match (401K)|Catered meals, endless snacks and drinks|Monthly happy hours|Casual dress code|Employee development opportunities|Flexible Work Arrangements|How to Apply:|We value attention to detail. Applications that fail to follow these simple steps will not be considered.|Create an Indeed Resume on Indeed.com and please highlight in it as much as possible your data science experience that matches the requirements for the position.|Please apply with your Indeed Resume.|P lease visit|How Indeed Works to learn more: http://www.indeed.jobs|20 months ago|-|save job|\\xbb|View or apply to job|Data Scientist jobs in Seattle, WA|Jobs at Indeed in Seattle, WA|Data Scientist salaries in Seattle, WA|About this company|Indeed|133 reviews|Indeed is the #1 job site worldwide, with over 200 million unique visitors per month from more than 60 countries in 28 languages.\\n\\nSince...|For jobs in Taiwan, visit|tw.indeed.com|About|-|Help Center|\\xa92016 Indeed -|Cookies, Privacy and Terms\""
      ]
     },
     "execution_count": 15,
     "metadata": {},
     "output_type": "execute_result"
    }
   ],
   "source": [
    "soup.get_text(\"|\",strip=True)"
   ]
  },
  {
   "cell_type": "markdown",
   "metadata": {},
   "source": [
    "#### get to know the Python built-in methods \"strip\", \"splitlines\" and \"split\":"
   ]
  },
  {
   "cell_type": "code",
   "execution_count": 102,
   "metadata": {
    "collapsed": false
   },
   "outputs": [
    {
     "name": "stdout",
     "output_type": "stream",
     "text": [
      "['Line1-a b c d e f', 'Line2- a b c', '', 'Line4- a b c d']\n",
      "['Line1-a b c d e f\\n', 'Line2- a b c\\n', '\\n', 'Line4- a b c d']\n",
      "'this is string example....\\nwow!!!'\n",
      "'0000000this is string example....\\nwow!!!0000000'\n",
      "['1', '', '2']\n",
      "['1,,2', '345']\n"
     ]
    }
   ],
   "source": [
    "# splitlines:\n",
    "# (code example from \"https://www.tutorialspoint.com/python/string_splitlines.htm)\n",
    "    \n",
    "str = \"Line1-a b c d e f\\nLine2- a b c\\n\\nLine4- a b c d\";\n",
    "print str.splitlines( )            # the line will break into lines according to the line break \\n\n",
    "print str.splitlines(1)            # line breaks will be included within the splitted string\n",
    "\n",
    "# strip: \n",
    "# (code example from \"https://www.tutorialspoint.com/python/string_strip.htm\")\n",
    "\n",
    "\n",
    "print repr(\"0000000this is string example....\\nwow!!!0000000\".strip('0'))       # the chars\"0\" at the both ends \n",
    "                                                                                #  of the string will be removed.\n",
    "print repr(\"    0000000this is string example....\\nwow!!!0000000    \".strip())  # the empty spaces will be removed.\n",
    "\n",
    "print '1,,2'.split(',')\n",
    "print '1,,2  345'.split()"
   ]
  },
  {
   "cell_type": "markdown",
   "metadata": {},
   "source": [
    "#### understand the regular expression in Python (re.match, re.sub, re.findall):\n",
    "\n",
    "(https://www.tutorialspoint.com/python/python_reg_expressions.htm)"
   ]
  },
  {
   "cell_type": "code",
   "execution_count": 161,
   "metadata": {
    "collapsed": false
   },
   "outputs": [
    {
     "name": "stdout",
     "output_type": "stream",
     "text": [
      "-----------------------------------\n",
      "tests of 're.match':\n",
      "-----------------------------------\n",
      "re:(bcd){2} string: bcdbcd match: 'bcdbcd'\n",
      "re:[a-zA-Z][3]{2} string: a33 match: 'a33'\n",
      "'f423'\n",
      "re:[a-zA-Z].+3 string: f42312d match: 'f423'\n",
      "re:(\\d+b)(\\d{3}) string: 24b1632 match: '24b163'\n",
      "m.groups(): ('24b', '163')\n",
      "-----------------------------------\n",
      "tests of 're.match' with try&catch:\n",
      "-----------------------------------\n",
      "the re and the string does not match!\n",
      "Oops, something wrong!\n",
      "-----------------------------------\n",
      "tests of 're.sub':\n",
      "-----------------------------------\n",
      "re:\\d{2}.* string: 11 2 3 123 abc cde replacement: 00 \n",
      "result: 00\n",
      "\n",
      "re:\\d{2} string: 11 2 3 123 abc cde replacement: 00 \n",
      "result: 00 2 3 003 abc cde\n",
      "\n",
      "re:[^a-zA-Z.3+] string: #c--d++e**1234.5 replacement: ''  \n",
      "result: cd++e3.\n",
      "-----------------------------------\n",
      "tests of 're.findall':\n",
      "-----------------------------------\n",
      "['1', '10', '382']\n"
     ]
    }
   ],
   "source": [
    "print \"-----------------------------------\"\n",
    "print \"tests of 're.match':\"\n",
    "print \"-----------------------------------\"\n",
    "\n",
    "m=re.match(r'(bcd){2}',\"bcdbcd\")\n",
    "print \"re:(bcd){2} string: bcdbcd\",\"match:\",repr(m.group())\n",
    "\n",
    "m=re.match(r'[a-zA-Z][3]{2}',\"a33\")\n",
    "print \"re:[a-zA-Z][3]{2} string: a33\",\"match:\",repr(m.group())\n",
    "\n",
    "m=re.match(r'[a-zA-Z].+3',\"f42312d\")\n",
    "print repr(m.group())\n",
    "print \"re:[a-zA-Z].+3 string: f42312d\",\"match:\",repr(m.group())\n",
    "\n",
    "m = re.match(r\"(\\d+b)(\\d{3})\", \"24b1632\")\n",
    "print \"re:(\\d+b)(\\d{3}) string: 24b1632\",\"match:\",repr(m.group())\n",
    "print \"m.groups():\",m.groups() # according to the parenthesis in re, the string will be split into different groups.\n",
    "\n",
    "print \"-----------------------------------\"\n",
    "print \"tests of 're.match' with try&catch:\"\n",
    "print \"-----------------------------------\"\n",
    "\n",
    "try:\n",
    "    m=re.match(r'(d3.js)',\">\")\n",
    "    print repr(m.group())\n",
    "except AttributeError:\n",
    "    print \"the re and the string does not match!\"\n",
    "except Exception:   # catch Exception if AttributeError is not the cause\n",
    "    print \"what's happening there?\"\n",
    "\n",
    "try:\n",
    "    m=re.match(r'(d3.js)',\">\",\"123454321\")\n",
    "    print repr(m.group())\n",
    "except AttributeError:\n",
    "    print \"the re and the string does not match!\"\n",
    "except Exception:   # catch Exception if AttributeError is not the cause\n",
    "    print \"Oops, something wrong!\"\n",
    "\n",
    "print \"-----------------------------------\"\n",
    "print \"tests of 're.sub':\"\n",
    "print \"-----------------------------------\"\n",
    "\n",
    "print \"re:\\d{2}.* string: 11 2 3 123 abc cde replacement: 00\",\"\\nresult:\",re.sub(r\"\\d{2}.*\",\"00\", \"11 2 3 123 abc cde\\n\")\n",
    "print \"re:\\d{2} string: 11 2 3 123 abc cde replacement: 00\",\"\\nresult:\",re.sub(r\"\\d{2}\",\"00\", \"11 2 3 123 abc cde\\n\")\n",
    "\n",
    "# the following line will remove any element of the string \n",
    "# which is not within this list: [any alphabets(case irrelevant), ., 3, +]\n",
    "print \"re:[^a-zA-Z.3+] string: #c--d++e**1234.5 replacement: '' \",\"\\nresult:\",re.sub(r'[^a-zA-Z.3+]',\"\", \"#c--d++e**1234.5\\n\")\n",
    "\n",
    "print \"-----------------------------------\"\n",
    "print \"tests of 're.findall':\"\n",
    "print \"-----------------------------------\"\n",
    "\n",
    "print repr(re.findall(r'\\d+',\"Jobs 1 to 10 of 382\"))"
   ]
  },
  {
   "cell_type": "markdown",
   "metadata": {},
   "source": [
    "#### recall:lambda function (http://www.secnetix.de/olli/Python/lambda_functions.hawk)"
   ]
  },
  {
   "cell_type": "code",
   "execution_count": 41,
   "metadata": {
    "collapsed": false
   },
   "outputs": [
    {
     "name": "stdout",
     "output_type": "stream",
     "text": [
      "[18, 9, 24, 12, 27]\n",
      "[14, 46, 28, 54, 44, 58, 26, 34, 64]\n",
      "139\n",
      "139\n"
     ]
    }
   ],
   "source": [
    "foo = [2, 18, 9, 22, 17, 24, 8, 12, 27]\n",
    "\n",
    "print filter(lambda x: x % 3 == 0, foo)    # from python official doc:\n",
    "                                           # filter(function, iterable)\n",
    "                                           # is equivalent to [item for item in iterable if function(item)]\n",
    "print map(lambda x: x * 2 + 10, foo)\n",
    "print reduce(lambda x, y: x + y, foo)\n",
    "print sum(foo)"
   ]
  },
  {
   "cell_type": "markdown",
   "metadata": {},
   "source": [
    "#### the use of the built-in functions \"split\" and \"join\":"
   ]
  },
  {
   "cell_type": "code",
   "execution_count": 78,
   "metadata": {
    "collapsed": false
   },
   "outputs": [
    {
     "name": "stdout",
     "output_type": "stream",
     "text": [
      "Free your mind.\n",
      "['Free', 'your', 'mind.']\n",
      "\n",
      "Welcome to the desert... of the real.\n",
      "['Welc', 'me t', ' the desert... ', 'f the real.']\n",
      "\n",
      "What is real? How do you define real?\n",
      "['What', 'is', 'real?', 'How', 'do you define real?']\n",
      "\n",
      "a+b+c\n",
      "a+b+c\n"
     ]
    }
   ],
   "source": [
    "a = \"Free your mind.\"\n",
    "b = \"Welcome to the desert... of the real.\"\n",
    "c = \"What is real? How do you define real?\"\n",
    " \n",
    "print(a)\n",
    "print(a.split())\n",
    "print\n",
    " \n",
    "print(b)\n",
    "print(b.split(\"o\"))\n",
    "print\n",
    " \n",
    "print(c)\n",
    "print(c.split(\" \", 4))\n",
    "print\n",
    "\n",
    "print '+'.join(\"abc\")\n",
    "print '+'.join([\"a\",\"b\",\"c\"])"
   ]
  },
  {
   "cell_type": "markdown",
   "metadata": {},
   "source": [
    "#### Now, let's do something slightly more serious:\n",
    "\n",
    "Remark: the following functions for web crawling were originally written by Dr. Steinweg-Woods (https://jessesw.com/Data-Science-Skills/). His code was not up to date and some issues exist. I have cured some problems."
   ]
  },
  {
   "cell_type": "code",
   "execution_count": 5,
   "metadata": {
    "collapsed": false
   },
   "outputs": [],
   "source": [
    "def skills_dict(doc_frequency):\n",
    "    prog_lang_dict = Counter({'R':doc_frequency['r'], 'Python':doc_frequency['python'],\n",
    "                        'Java':doc_frequency['java'], 'C++':doc_frequency['c++'],\n",
    "                        'Ruby':doc_frequency['ruby'],\n",
    "                        'Perl':doc_frequency['perl'], 'Matlab':doc_frequency['matlab'],\n",
    "                        'JavaScript':doc_frequency['javascript'], 'Scala': doc_frequency['scala']})\n",
    "    analysis_tool_dict = Counter({'Excel':doc_frequency['excel'],  'Tableau':doc_frequency['tableau'],\n",
    "                            'D3.js':doc_frequency['d3.js'], 'SAS':doc_frequency['sas'],\n",
    "                            'SPSS':doc_frequency['spss'], 'D3':doc_frequency['d3']})  \n",
    "    hadoop_dict = Counter({'Hadoop':doc_frequency['hadoop'], 'MapReduce':doc_frequency['mapreduce'],\n",
    "                    'Spark':doc_frequency['spark'], 'Pig':doc_frequency['pig'],\n",
    "                    'Hive':doc_frequency['hive'], 'Shark':doc_frequency['shark'],\n",
    "                    'Oozie':doc_frequency['oozie'], 'ZooKeeper':doc_frequency['zookeeper'],\n",
    "                    'Flume':doc_frequency['flume'], 'Mahout':doc_frequency['mahout']})\n",
    "    database_dict = Counter({'SQL':doc_frequency['sql'], 'NoSQL':doc_frequency['nosql'],\n",
    "                        'HBase':doc_frequency['hbase'], 'Cassandra':doc_frequency['cassandra'],\n",
    "                        'MongoDB':doc_frequency['mongodb']})\n",
    "    overall_total_skills = prog_lang_dict + analysis_tool_dict + hadoop_dict + database_dict # Combine our Counter objects\n",
    "    return overall_total_skills"
   ]
  },
  {
   "cell_type": "code",
   "execution_count": 6,
   "metadata": {
    "collapsed": false
   },
   "outputs": [],
   "source": [
    "def text_cleaner(url):\n",
    "    session = requests.Session()\n",
    "    soup = BeautifulSoup(session.get(url).content, 'lxml')  # let our beautiful soup to parse the site\n",
    "\n",
    "    for script in soup([\"script\", \"style\"]):           # Remove these two unnecessary tags: \"script\" and \"style\"\n",
    "        _=script.extract()                       \n",
    "\n",
    "    stopwords = nltk.corpus.stopwords.words('english') # a list of words which are not important\n",
    "                                                       # we will ignore these words if they show up in the context\n",
    "    text=soup.get_text(\" \",strip=True)\n",
    "    text=re.sub(r\"[^a-zA-Z.3+]\",\" \",text)              # preserve . and 3 for \"d3.js\". Also, preserve \"+\" for \"c++\"\n",
    "\n",
    "    content=[w.strip(\".\") for w in text.lower().split() if w not in stopwords] # remove any \".\" if it's contained \n",
    "                                                                               # at the begin or the end of the string\n",
    "    return content"
   ]
  },
  {
   "cell_type": "code",
   "execution_count": 7,
   "metadata": {
    "collapsed": false
   },
   "outputs": [],
   "source": [
    "def skills_info(city = None, state = None):\n",
    "    city_title = city\n",
    "    if city is None:\n",
    "        city_title = 'Nationwide'\n",
    "\n",
    "    session = requests.Session()\n",
    "\n",
    "    final_site_list = ['http://www.indeed.com/jobs?q=%22','data+scientist', '%22&l=', city_title,\n",
    "                    '%2C+', state]\n",
    "    final_site = \"\".join(final_site_list)\n",
    "    base_URL = \"http://www.indeed.com\"\n",
    "    print final_site\n",
    "\n",
    "    soup = BeautifulSoup(session.get(final_site).content,\"lxml\")\n",
    "    print soup.find(id = \"searchCount\")\n",
    "    num_jobs_area=soup.find(id = \"searchCount\").string\n",
    "\n",
    "    job_numbers = re.findall(\"\\d+\", num_jobs_area)\n",
    "    if len(job_numbers) > 3: # Have a total number of jobs greater than 1000\n",
    "        total_num_jobs = (int(job_numbers[2])*1000) + int(job_numbers[3])\n",
    "    else:\n",
    "        total_num_jobs = int(job_numbers[2])\n",
    "\n",
    "    if(total_num_jobs%10==0):\n",
    "        num_pages = total_num_jobs/10\n",
    "    else:\n",
    "        num_pages = 1+total_num_jobs/10\n",
    "\n",
    "    print \"num_pages=\",num_pages\n",
    "\n",
    "    job_descriptions = [] # store all our descriptions in this list\n",
    "    for i in range(num_pages): # loop through all of our search result pages\n",
    "    #for i in (0,):\n",
    "        start_num = str(i*10) # assign the multiplier of 10 to view the pages we want\n",
    "        current_page = \"\".join([final_site, \"&start=\", start_num])\n",
    "        print \"Getting page\", i,\"start_num=\",start_num\n",
    "        print current_page\n",
    "        job_link_area = BeautifulSoup(session.get(current_page).content,\"lxml\") # locate all of the job links within the <body> area\n",
    "        #join the URL base and the tail part of the URL using urlparse package:\n",
    "        job_URLs=[urlparse.urljoin(base_URL,link.a.get('href')) for link in job_link_area.select( 'h2[class=\"jobtitle\"]')]\n",
    "        print job_URLs,len(job_URLs)\n",
    "\n",
    "        for URL in job_URLs:\n",
    "            final_description = text_cleaner(URL)\n",
    "            job_descriptions.append(final_description)\n",
    "            sleep(1) # so that we don't be jerks. If you have a very fast internet connection you could hit the server a lot! \n",
    "\n",
    "    doc_frequency=Counter()\n",
    "    for item in job_descriptions:\n",
    "        doc_frequency.update(item)      # add all the words to the counter table and count the frequency of each words\n",
    "    #print doc_frequency.most_common(10)\n",
    "    print 'Done with collecting the job postings!'\n",
    "    print 'There were', len(job_descriptions), 'jobs successfully found.'\n",
    "\n",
    "    # Obtain our key terms and store them in a dict. These are the key data science skills we are looking for\n",
    "    overall_total_skills=skills_dict()\n",
    "\n",
    "    final_frame = pd.DataFrame(overall_total_skills.items(), columns = ['Term', 'NumPostings']) # Convert these terms to a \n",
    "                                                                                                # dataframe \n",
    "    # Change the values to reflect a percentage of the postings \n",
    "    final_frame.NumPostings = (final_frame.NumPostings)*100/len(job_descriptions) # Gives percentage of job postings \n",
    "                                                                                        #  having that term \n",
    "\n",
    "    # Sort the data for plotting purposes\n",
    "    final_frame.sort_values('NumPostings', ascending = False, inplace = True)\n",
    "    print final_frame\n",
    "    \n",
    "    today = datetime.date.today()\n",
    "    # Get it ready for a bar plot\n",
    "    final_plot = final_frame.plot(x = 'Term', kind = 'bar', legend = None, \n",
    "                                title = 'Percentage of Data Scientist Job Ads with a Key Skill, '+city_title+', '+str(today))\n",
    "    final_plot.set_ylabel('Percentage Appearing in Job Ads')\n",
    "    fig = final_plot.get_figure() # Have to convert the pandas plot object to a matplotlib object\n",
    "    fig.savefig(city_title+\".pdf\")\n",
    "    #return fig,final_frame"
   ]
  },
  {
   "cell_type": "code",
   "execution_count": 8,
   "metadata": {
    "collapsed": false
   },
   "outputs": [],
   "source": [
    "def skills_info_TW104():\n",
    "\n",
    "    session = requests.Session()\n",
    "    \n",
    "    final_site_list = ['https://www.104.com.tw/jobbank/joblist/joblist.cfm?jobsource=n104bank1&ro=0&keyword=','data+scientist',\n",
    "                                               '&excludeCompanyKeyword=醫藥+生物+生技+微脂體','&order=2&asc=0','&page=','1']\n",
    "    final_site = \"\".join(final_site_list)\n",
    "    print final_site\n",
    "    \n",
    "    base_URL = \"https://www.104.com.tw/\"\n",
    "    country=\"Taiwan\"\n",
    "\n",
    "    soup = BeautifulSoup(session.get(final_site).content,\"lxml\")\n",
    "    #print soup.find(class_=\"joblist_bar\")\n",
    "    num_jobs_area=soup.select('li[class=\"right\"]')\n",
    "    #print type(num_jobs_area)\n",
    "    #print num_jobs_area[0]\n",
    "    total_num_jobs = int( re.findall(\"\\d+\", str(num_jobs_area[0]))[0] )\n",
    "\n",
    "    print \"num_jobs=\",total_num_jobs\n",
    "\n",
    "    if(total_num_jobs%20)==0:\n",
    "        num_pages = total_num_jobs/20\n",
    "    else:\n",
    "        num_pages=1+total_num_jobs/20\n",
    "\n",
    "    print \"num_pages=\",num_pages\n",
    "\n",
    "    job_descriptions = [] # store all our descriptions in this list\n",
    "    for i in range(1,num_pages+1): # loop through all of our search result pages\n",
    "    #for i in (1,):\n",
    "        start_num = str(i)\n",
    "\n",
    "        final_site_list = final_site_list[:-1]\n",
    "        final_site = \"\".join(final_site_list)\n",
    "        current_page = \"\".join([final_site, start_num])\n",
    "        print \"Getting page\", i\n",
    "        print current_page\n",
    "        job_link_area = BeautifulSoup(session.get(current_page).content,\"lxml\") # locate all of the job links within the <body> area\n",
    "        #join the URL base and the tail part of the URL using urlparse package:\n",
    "        job_URLs=[urlparse.urljoin(base_URL,link.a.get('href')) for link in job_link_area.select('div[class=\"jobname_summary job_name\"]')]\n",
    "        print job_URLs,len(job_URLs)\n",
    "\n",
    "        for URL in job_URLs:\n",
    "            final_description = text_cleaner(URL)\n",
    "            job_descriptions.append(final_description)\n",
    "            sleep(1) # so that we don't be jerks. If you have a very fast internet connection you could hit the server a lot! \n",
    "\n",
    "    doc_frequency=Counter()\n",
    "    for item in job_descriptions:\n",
    "        doc_frequency.update(item)      # add all the words to the counter table and count the frequency of each words\n",
    "    #print doc_frequency.most_common(10)\n",
    "    print 'Done with collecting the job postings!'\n",
    "    print 'There were', len(job_descriptions), 'jobs successfully found.'\n",
    "\n",
    "    # Obtain our key terms and store them in a dict. These are the key data science skills we are looking for\n",
    "    overall_total_skills=skills_dict(doc_frequency)\n",
    "\n",
    "    final_frame = pd.DataFrame(overall_total_skills.items(), columns = ['Term', 'NumPostings']) # Convert these terms to a \n",
    "                                                                                                    # dataframe \n",
    "    # Change the values to reflect a percentage of the postings \n",
    "    final_frame.NumPostings = (final_frame.NumPostings)*100/len(job_descriptions) # Gives percentage of job postings \n",
    "                                                                                        #  having that term \n",
    "\n",
    "    # Sort the data for plotting purposes\n",
    "    final_frame.sort_values('NumPostings', ascending = False, inplace = True)\n",
    "    print final_frame\n",
    "\n",
    "    today = datetime.date.today()\n",
    "    # Get it ready for a bar plot\n",
    "    final_plot = final_frame.plot(x = 'Term', kind = 'bar', legend = None, \n",
    "                                title = 'Percentage of Data Scientist Job Ads with a Key Skill, '+country+', '+str(today))\n",
    "    final_plot.set_ylabel('Percentage Appearing in Job Ads')\n",
    "    fig = final_plot.get_figure() # Have to convert the pandas plot object to a matplotlib object\n",
    "    fig.savefig(country+\".pdf\")"
   ]
  },
  {
   "cell_type": "code",
   "execution_count": 17,
   "metadata": {
    "collapsed": false
   },
   "outputs": [
    {
     "name": "stdout",
     "output_type": "stream",
     "text": [
      "https://www.104.com.tw/jobbank/joblist/joblist.cfm?jobsource=n104bank1&ro=0&keyword=data+scientist&excludeCompanyKeyword=醫藥+生物+生技+微脂體&order=2&asc=0&page=1\n",
      "num_jobs= 45\n",
      "num_pages= 3\n",
      "Getting page 1\n",
      "https://www.104.com.tw/jobbank/joblist/joblist.cfm?jobsource=n104bank1&ro=0&keyword=data+scientist&excludeCompanyKeyword=醫藥+生物+生技+微脂體&order=2&asc=0&page=1\n",
      "['https://www.104.com.tw/job/?jobno=5286l&jobsource=n104bank1&hotjob_chr=', 'https://www.104.com.tw/job/?jobno=4o9va&jobsource=n104bank1&hotjob_chr=', 'https://www.104.com.tw/job/?jobno=50xw5&jobsource=n104bank1&hotjob_chr=', 'https://www.104.com.tw/job/?jobno=4qtfr&jobsource=n104bank1&hotjob_chr=', 'https://www.104.com.tw/job/?jobno=547as&jobsource=n104bank1&hotjob_chr=', 'https://www.104.com.tw/job/?jobno=547ba&jobsource=n104bank1&hotjob_chr=', 'https://www.104.com.tw/job/?jobno=4mfpq&jobsource=n104bank1&hotjob_chr=', 'https://www.104.com.tw/job/?jobno=4ofws&jobsource=n104bank1&hotjob_chr=', 'https://www.104.com.tw/job/?jobno=4nq9a&jobsource=n104bank1&hotjob_chr=', 'https://www.104.com.tw/job/?jobno=4v67p&jobsource=n104bank1&hotjob_chr=', 'https://www.104.com.tw/job/?jobno=4hh3o&jobsource=n104bank1&hotjob_chr=', 'https://www.104.com.tw/job/?jobno=55i09&jobsource=n104bank1&hotjob_chr=', 'https://www.104.com.tw/job/?jobno=4swdo&jobsource=n104bank1&hotjob_chr=', 'https://www.104.com.tw/job/?jobno=544fr&jobsource=n104bank1&hotjob_chr=', 'https://www.104.com.tw/job/?jobno=4xrix&jobsource=n104bank1&hotjob_chr=', 'https://www.104.com.tw/job/?jobno=55uga&jobsource=n104bank1&hotjob_chr=', 'https://www.104.com.tw/job/?jobno=4xru1&jobsource=n104bank1&hotjob_chr=', 'https://www.104.com.tw/job/?jobno=55spt&jobsource=n104bank1&hotjob_chr=', 'https://www.104.com.tw/job/?jobno=51cgs&jobsource=n104bank1&hotjob_chr=', 'https://www.104.com.tw/job/?jobno=515a9&jobsource=n104bank1&hotjob_chr='] 20\n",
      "Getting page 2\n",
      "https://www.104.com.tw/jobbank/joblist/joblist.cfm?jobsource=n104bank1&ro=0&keyword=data+scientist&excludeCompanyKeyword=醫藥+生物+生技+微脂體&order=2&asc=02\n",
      "['https://www.104.com.tw/job/?jobno=5286l&jobsource=n104bank1&hotjob_chr=', 'https://www.104.com.tw/job/?jobno=4o9va&jobsource=n104bank1&hotjob_chr=', 'https://www.104.com.tw/job/?jobno=50xw5&jobsource=n104bank1&hotjob_chr=', 'https://www.104.com.tw/job/?jobno=4qtfr&jobsource=n104bank1&hotjob_chr=', 'https://www.104.com.tw/job/?jobno=547as&jobsource=n104bank1&hotjob_chr=', 'https://www.104.com.tw/job/?jobno=547ba&jobsource=n104bank1&hotjob_chr=', 'https://www.104.com.tw/job/?jobno=4mfpq&jobsource=n104bank1&hotjob_chr=', 'https://www.104.com.tw/job/?jobno=4ofws&jobsource=n104bank1&hotjob_chr=', 'https://www.104.com.tw/job/?jobno=4nq9a&jobsource=n104bank1&hotjob_chr=', 'https://www.104.com.tw/job/?jobno=4v67p&jobsource=n104bank1&hotjob_chr=', 'https://www.104.com.tw/job/?jobno=4hh3o&jobsource=n104bank1&hotjob_chr=', 'https://www.104.com.tw/job/?jobno=55i09&jobsource=n104bank1&hotjob_chr=', 'https://www.104.com.tw/job/?jobno=4swdo&jobsource=n104bank1&hotjob_chr=', 'https://www.104.com.tw/job/?jobno=544fr&jobsource=n104bank1&hotjob_chr=', 'https://www.104.com.tw/job/?jobno=4xrix&jobsource=n104bank1&hotjob_chr=', 'https://www.104.com.tw/job/?jobno=55uga&jobsource=n104bank1&hotjob_chr=', 'https://www.104.com.tw/job/?jobno=4xru1&jobsource=n104bank1&hotjob_chr=', 'https://www.104.com.tw/job/?jobno=55spt&jobsource=n104bank1&hotjob_chr=', 'https://www.104.com.tw/job/?jobno=51cgs&jobsource=n104bank1&hotjob_chr=', 'https://www.104.com.tw/job/?jobno=515a9&jobsource=n104bank1&hotjob_chr='] 20\n",
      "Getting page 3\n",
      "https://www.104.com.tw/jobbank/joblist/joblist.cfm?jobsource=n104bank1&ro=0&keyword=data+scientist&excludeCompanyKeyword=醫藥+生物+生技+微脂體3\n",
      "['https://www.104.com.tw/job/?jobno=5286l&jobsource=n104bank1&hotjob_chr=', 'https://www.104.com.tw/job/?jobno=4o9va&jobsource=n104bank1&hotjob_chr=', 'https://www.104.com.tw/job/?jobno=50xw5&jobsource=n104bank1&hotjob_chr=', 'https://www.104.com.tw/job/?jobno=4qtfr&jobsource=n104bank1&hotjob_chr=', 'https://www.104.com.tw/job/?jobno=547as&jobsource=n104bank1&hotjob_chr=', 'https://www.104.com.tw/job/?jobno=547ba&jobsource=n104bank1&hotjob_chr=', 'https://www.104.com.tw/job/?jobno=4mfpq&jobsource=n104bank1&hotjob_chr=', 'https://www.104.com.tw/job/?jobno=4ofws&jobsource=n104bank1&hotjob_chr=', 'https://www.104.com.tw/job/?jobno=4nq9a&jobsource=n104bank1&hotjob_chr=', 'https://www.104.com.tw/job/?jobno=4v67p&jobsource=n104bank1&hotjob_chr=', 'https://www.104.com.tw/job/?jobno=4hh3o&jobsource=n104bank1&hotjob_chr=', 'https://www.104.com.tw/job/?jobno=55i09&jobsource=n104bank1&hotjob_chr=', 'https://www.104.com.tw/job/?jobno=4swdo&jobsource=n104bank1&hotjob_chr=', 'https://www.104.com.tw/job/?jobno=544fr&jobsource=n104bank1&hotjob_chr=', 'https://www.104.com.tw/job/?jobno=4xrix&jobsource=n104bank1&hotjob_chr=', 'https://www.104.com.tw/job/?jobno=55uga&jobsource=n104bank1&hotjob_chr=', 'https://www.104.com.tw/job/?jobno=4xru1&jobsource=n104bank1&hotjob_chr=', 'https://www.104.com.tw/job/?jobno=55spt&jobsource=n104bank1&hotjob_chr=', 'https://www.104.com.tw/job/?jobno=51cgs&jobsource=n104bank1&hotjob_chr=', 'https://www.104.com.tw/job/?jobno=515a9&jobsource=n104bank1&hotjob_chr='] 20\n",
      "Done with collecting the job postings!\n",
      "There were 60 jobs successfully found.\n",
      "          Term  NumPostings\n",
      "11           R         75.0\n",
      "4       Python         70.0\n",
      "1         Java         50.0\n",
      "13         SQL         35.0\n",
      "8       Hadoop         25.0\n",
      "12      Matlab         25.0\n",
      "14         SAS         25.0\n",
      "3        Scala         20.0\n",
      "16       Spark         15.0\n",
      "9          C++         15.0\n",
      "19        Hive         10.0\n",
      "2        NoSQL         10.0\n",
      "5      MongoDB         10.0\n",
      "17        Perl         10.0\n",
      "15        SPSS         10.0\n",
      "18       HBase          5.0\n",
      "0        Shark          5.0\n",
      "7        Excel          5.0\n",
      "6   JavaScript          5.0\n",
      "10       D3.js          5.0\n"
     ]
    },
    {
     "data": {
      "image/png": "[encoded data removed]",
      "text/plain": [
       "<matplotlib.figure.Figure at 0x115064790>"
      ]
     },
     "metadata": {},
     "output_type": "display_data"
    }
   ],
   "source": [
    "skills_info_TW104()"
   ]
  },
  {
   "cell_type": "markdown",
   "metadata": {},
   "source": [
    "#### 31.10.2016\n",
    "\n",
    "the \"urllib2\" package seems buggy and will request pages which are out of date. Let's use the \"requests\" (which uses the \"urllib3\") package instead."
   ]
  },
  {
   "cell_type": "code",
   "execution_count": 134,
   "metadata": {
    "collapsed": false,
    "scrolled": true
   },
   "outputs": [
    {
     "name": "stdout",
     "output_type": "stream",
     "text": [
      "http://www.indeed.com/jobs?q=%22data+scientist%22&l=Seattle%2C+WA\n",
      "<div id=\"searchCount\">Jobs 1 to 10 of 229</div>\n",
      "num_pages= 22\n",
      "Getting page 0 start_num= 0\n",
      "http://www.indeed.com/jobs?q=%22data+scientist%22&l=Seattle%2C+WA&start=0\n",
      "['http://www.indeed.com/rc/clk?jk=5014aa50f33fa298&fccid=ccf155b8e5eb4bf8', 'http://www.indeed.com/rc/clk?jk=407721ca29884b38&fccid=617d7f961cfcf54a', 'http://www.indeed.com/rc/clk?jk=6d3fbee2fc6b3f54&fccid=734cb5a01ee60f80', 'http://www.indeed.com/rc/clk?jk=d0f38fec9cb11760&fccid=fe2d21eef233e94a', 'http://www.indeed.com/cmp/Indeed-Prime/jobs/Data-Scientist-eb1b00cf69f7aebb?r=1&fccid=72e9a6d69e66d858', 'http://www.indeed.com/rc/clk?jk=0ac4b922b1fffcfd&fccid=a513e92edbf529af', 'http://www.indeed.com/rc/clk?jk=f3e5c898952f0810&fccid=fe2d21eef233e94a', 'http://www.indeed.com/rc/clk?jk=e7ebafaa562e5882&fccid=913e1b259c8d65e2', 'http://www.indeed.com/rc/clk?jk=927d3abe31d1db67&fccid=c1099851e9794854', 'http://www.indeed.com/rc/clk?jk=197e54d64cbae2f3&fccid=fe2d21eef233e94a'] 10\n",
      "Getting page 1 start_num= 10\n",
      "http://www.indeed.com/jobs?q=%22data+scientist%22&l=Seattle%2C+WA&start=10\n",
      "['http://www.indeed.com/rc/clk?jk=5014aa50f33fa298&fccid=ccf155b8e5eb4bf8', 'http://www.indeed.com/rc/clk?jk=407721ca29884b38&fccid=617d7f961cfcf54a', 'http://www.indeed.com/rc/clk?jk=6d3fbee2fc6b3f54&fccid=734cb5a01ee60f80', 'http://www.indeed.com/rc/clk?jk=d0f38fec9cb11760&fccid=fe2d21eef233e94a', 'http://www.indeed.com/cmp/Indeed-Prime/jobs/Data-Scientist-eb1b00cf69f7aebb?r=1&fccid=72e9a6d69e66d858', 'http://www.indeed.com/rc/clk?jk=0ac4b922b1fffcfd&fccid=a513e92edbf529af', 'http://www.indeed.com/rc/clk?jk=f3e5c898952f0810&fccid=fe2d21eef233e94a', 'http://www.indeed.com/rc/clk?jk=e7ebafaa562e5882&fccid=913e1b259c8d65e2', 'http://www.indeed.com/rc/clk?jk=927d3abe31d1db67&fccid=c1099851e9794854', 'http://www.indeed.com/rc/clk?jk=197e54d64cbae2f3&fccid=fe2d21eef233e94a'] 10\n",
      "Getting page 2 start_num= 20\n",
      "http://www.indeed.com/jobs?q=%22data+scientist%22&l=Seattle%2C+WA&start=20\n",
      "['http://www.indeed.com/rc/clk?jk=5014aa50f33fa298&fccid=ccf155b8e5eb4bf8', 'http://www.indeed.com/rc/clk?jk=407721ca29884b38&fccid=617d7f961cfcf54a', 'http://www.indeed.com/rc/clk?jk=6d3fbee2fc6b3f54&fccid=734cb5a01ee60f80', 'http://www.indeed.com/rc/clk?jk=d0f38fec9cb11760&fccid=fe2d21eef233e94a', 'http://www.indeed.com/cmp/Indeed-Prime/jobs/Data-Scientist-eb1b00cf69f7aebb?r=1&fccid=72e9a6d69e66d858', 'http://www.indeed.com/rc/clk?jk=0ac4b922b1fffcfd&fccid=a513e92edbf529af', 'http://www.indeed.com/rc/clk?jk=f3e5c898952f0810&fccid=fe2d21eef233e94a', 'http://www.indeed.com/rc/clk?jk=e7ebafaa562e5882&fccid=913e1b259c8d65e2', 'http://www.indeed.com/rc/clk?jk=927d3abe31d1db67&fccid=c1099851e9794854', 'http://www.indeed.com/rc/clk?jk=197e54d64cbae2f3&fccid=fe2d21eef233e94a'] 10\n",
      "Getting page 3 start_num= 30\n",
      "http://www.indeed.com/jobs?q=%22data+scientist%22&l=Seattle%2C+WA&start=30\n",
      "['http://www.indeed.com/rc/clk?jk=5014aa50f33fa298&fccid=ccf155b8e5eb4bf8', 'http://www.indeed.com/rc/clk?jk=407721ca29884b38&fccid=617d7f961cfcf54a', 'http://www.indeed.com/rc/clk?jk=6d3fbee2fc6b3f54&fccid=734cb5a01ee60f80', 'http://www.indeed.com/rc/clk?jk=d0f38fec9cb11760&fccid=fe2d21eef233e94a', 'http://www.indeed.com/cmp/Indeed-Prime/jobs/Data-Scientist-eb1b00cf69f7aebb?r=1&fccid=72e9a6d69e66d858', 'http://www.indeed.com/rc/clk?jk=0ac4b922b1fffcfd&fccid=a513e92edbf529af', 'http://www.indeed.com/rc/clk?jk=f3e5c898952f0810&fccid=fe2d21eef233e94a', 'http://www.indeed.com/rc/clk?jk=e7ebafaa562e5882&fccid=913e1b259c8d65e2', 'http://www.indeed.com/rc/clk?jk=927d3abe31d1db67&fccid=c1099851e9794854', 'http://www.indeed.com/rc/clk?jk=197e54d64cbae2f3&fccid=fe2d21eef233e94a'] 10\n",
      "Getting page 4 start_num= 40\n",
      "http://www.indeed.com/jobs?q=%22data+scientist%22&l=Seattle%2C+WA&start=40\n",
      "['http://www.indeed.com/rc/clk?jk=5014aa50f33fa298&fccid=ccf155b8e5eb4bf8', 'http://www.indeed.com/rc/clk?jk=407721ca29884b38&fccid=617d7f961cfcf54a', 'http://www.indeed.com/rc/clk?jk=6d3fbee2fc6b3f54&fccid=734cb5a01ee60f80', 'http://www.indeed.com/rc/clk?jk=d0f38fec9cb11760&fccid=fe2d21eef233e94a', 'http://www.indeed.com/cmp/Indeed-Prime/jobs/Data-Scientist-eb1b00cf69f7aebb?r=1&fccid=72e9a6d69e66d858', 'http://www.indeed.com/rc/clk?jk=0ac4b922b1fffcfd&fccid=a513e92edbf529af', 'http://www.indeed.com/rc/clk?jk=f3e5c898952f0810&fccid=fe2d21eef233e94a', 'http://www.indeed.com/rc/clk?jk=e7ebafaa562e5882&fccid=913e1b259c8d65e2', 'http://www.indeed.com/rc/clk?jk=927d3abe31d1db67&fccid=c1099851e9794854', 'http://www.indeed.com/rc/clk?jk=197e54d64cbae2f3&fccid=fe2d21eef233e94a'] 10\n",
      "Getting page 5 start_num= 50\n",
      "http://www.indeed.com/jobs?q=%22data+scientist%22&l=Seattle%2C+WA&start=50\n",
      "['http://www.indeed.com/rc/clk?jk=5014aa50f33fa298&fccid=ccf155b8e5eb4bf8', 'http://www.indeed.com/rc/clk?jk=407721ca29884b38&fccid=617d7f961cfcf54a', 'http://www.indeed.com/rc/clk?jk=6d3fbee2fc6b3f54&fccid=734cb5a01ee60f80', 'http://www.indeed.com/rc/clk?jk=d0f38fec9cb11760&fccid=fe2d21eef233e94a', 'http://www.indeed.com/cmp/Indeed-Prime/jobs/Data-Scientist-eb1b00cf69f7aebb?r=1&fccid=72e9a6d69e66d858', 'http://www.indeed.com/rc/clk?jk=0ac4b922b1fffcfd&fccid=a513e92edbf529af', 'http://www.indeed.com/rc/clk?jk=f3e5c898952f0810&fccid=fe2d21eef233e94a', 'http://www.indeed.com/rc/clk?jk=e7ebafaa562e5882&fccid=913e1b259c8d65e2', 'http://www.indeed.com/rc/clk?jk=927d3abe31d1db67&fccid=c1099851e9794854', 'http://www.indeed.com/rc/clk?jk=197e54d64cbae2f3&fccid=fe2d21eef233e94a'] 10\n",
      "Getting page 6 start_num= 60\n",
      "http://www.indeed.com/jobs?q=%22data+scientist%22&l=Seattle%2C+WA&start=60\n",
      "['http://www.indeed.com/rc/clk?jk=5014aa50f33fa298&fccid=ccf155b8e5eb4bf8', 'http://www.indeed.com/rc/clk?jk=407721ca29884b38&fccid=617d7f961cfcf54a', 'http://www.indeed.com/rc/clk?jk=6d3fbee2fc6b3f54&fccid=734cb5a01ee60f80', 'http://www.indeed.com/rc/clk?jk=d0f38fec9cb11760&fccid=fe2d21eef233e94a', 'http://www.indeed.com/cmp/Indeed-Prime/jobs/Data-Scientist-eb1b00cf69f7aebb?r=1&fccid=72e9a6d69e66d858', 'http://www.indeed.com/rc/clk?jk=0ac4b922b1fffcfd&fccid=a513e92edbf529af', 'http://www.indeed.com/rc/clk?jk=f3e5c898952f0810&fccid=fe2d21eef233e94a', 'http://www.indeed.com/rc/clk?jk=e7ebafaa562e5882&fccid=913e1b259c8d65e2', 'http://www.indeed.com/rc/clk?jk=927d3abe31d1db67&fccid=c1099851e9794854', 'http://www.indeed.com/rc/clk?jk=197e54d64cbae2f3&fccid=fe2d21eef233e94a'] 10\n",
      "Getting page 7 start_num= 70\n",
      "http://www.indeed.com/jobs?q=%22data+scientist%22&l=Seattle%2C+WA&start=70\n",
      "['http://www.indeed.com/rc/clk?jk=5014aa50f33fa298&fccid=ccf155b8e5eb4bf8', 'http://www.indeed.com/rc/clk?jk=407721ca29884b38&fccid=617d7f961cfcf54a', 'http://www.indeed.com/rc/clk?jk=6d3fbee2fc6b3f54&fccid=734cb5a01ee60f80', 'http://www.indeed.com/rc/clk?jk=d0f38fec9cb11760&fccid=fe2d21eef233e94a', 'http://www.indeed.com/cmp/Indeed-Prime/jobs/Data-Scientist-eb1b00cf69f7aebb?r=1&fccid=72e9a6d69e66d858', 'http://www.indeed.com/rc/clk?jk=0ac4b922b1fffcfd&fccid=a513e92edbf529af', 'http://www.indeed.com/rc/clk?jk=f3e5c898952f0810&fccid=fe2d21eef233e94a', 'http://www.indeed.com/rc/clk?jk=e7ebafaa562e5882&fccid=913e1b259c8d65e2', 'http://www.indeed.com/rc/clk?jk=927d3abe31d1db67&fccid=c1099851e9794854', 'http://www.indeed.com/rc/clk?jk=197e54d64cbae2f3&fccid=fe2d21eef233e94a'] 10\n",
      "Getting page 8 start_num= 80\n",
      "http://www.indeed.com/jobs?q=%22data+scientist%22&l=Seattle%2C+WA&start=80\n",
      "['http://www.indeed.com/rc/clk?jk=5014aa50f33fa298&fccid=ccf155b8e5eb4bf8', 'http://www.indeed.com/rc/clk?jk=407721ca29884b38&fccid=617d7f961cfcf54a', 'http://www.indeed.com/rc/clk?jk=6d3fbee2fc6b3f54&fccid=734cb5a01ee60f80', 'http://www.indeed.com/rc/clk?jk=d0f38fec9cb11760&fccid=fe2d21eef233e94a', 'http://www.indeed.com/cmp/Indeed-Prime/jobs/Data-Scientist-eb1b00cf69f7aebb?r=1&fccid=72e9a6d69e66d858', 'http://www.indeed.com/rc/clk?jk=0ac4b922b1fffcfd&fccid=a513e92edbf529af', 'http://www.indeed.com/rc/clk?jk=f3e5c898952f0810&fccid=fe2d21eef233e94a', 'http://www.indeed.com/rc/clk?jk=e7ebafaa562e5882&fccid=913e1b259c8d65e2', 'http://www.indeed.com/rc/clk?jk=927d3abe31d1db67&fccid=c1099851e9794854', 'http://www.indeed.com/rc/clk?jk=197e54d64cbae2f3&fccid=fe2d21eef233e94a'] 10\n",
      "Getting page 9 start_num= 90\n",
      "http://www.indeed.com/jobs?q=%22data+scientist%22&l=Seattle%2C+WA&start=90\n",
      "['http://www.indeed.com/rc/clk?jk=5014aa50f33fa298&fccid=ccf155b8e5eb4bf8', 'http://www.indeed.com/rc/clk?jk=407721ca29884b38&fccid=617d7f961cfcf54a', 'http://www.indeed.com/rc/clk?jk=6d3fbee2fc6b3f54&fccid=734cb5a01ee60f80', 'http://www.indeed.com/rc/clk?jk=d0f38fec9cb11760&fccid=fe2d21eef233e94a', 'http://www.indeed.com/cmp/Indeed-Prime/jobs/Data-Scientist-eb1b00cf69f7aebb?r=1&fccid=72e9a6d69e66d858', 'http://www.indeed.com/rc/clk?jk=0ac4b922b1fffcfd&fccid=a513e92edbf529af', 'http://www.indeed.com/rc/clk?jk=f3e5c898952f0810&fccid=fe2d21eef233e94a', 'http://www.indeed.com/rc/clk?jk=e7ebafaa562e5882&fccid=913e1b259c8d65e2', 'http://www.indeed.com/rc/clk?jk=927d3abe31d1db67&fccid=c1099851e9794854', 'http://www.indeed.com/rc/clk?jk=197e54d64cbae2f3&fccid=fe2d21eef233e94a'] 10\n",
      "Getting page 10 start_num= 100\n",
      "http://www.indeed.com/jobs?q=%22data+scientist%22&l=Seattle%2C+WA&start=100\n",
      "['http://www.indeed.com/rc/clk?jk=5014aa50f33fa298&fccid=ccf155b8e5eb4bf8', 'http://www.indeed.com/rc/clk?jk=407721ca29884b38&fccid=617d7f961cfcf54a', 'http://www.indeed.com/rc/clk?jk=6d3fbee2fc6b3f54&fccid=734cb5a01ee60f80', 'http://www.indeed.com/rc/clk?jk=d0f38fec9cb11760&fccid=fe2d21eef233e94a', 'http://www.indeed.com/cmp/Indeed-Prime/jobs/Data-Scientist-eb1b00cf69f7aebb?r=1&fccid=72e9a6d69e66d858', 'http://www.indeed.com/rc/clk?jk=0ac4b922b1fffcfd&fccid=a513e92edbf529af', 'http://www.indeed.com/rc/clk?jk=f3e5c898952f0810&fccid=fe2d21eef233e94a', 'http://www.indeed.com/rc/clk?jk=e7ebafaa562e5882&fccid=913e1b259c8d65e2', 'http://www.indeed.com/rc/clk?jk=927d3abe31d1db67&fccid=c1099851e9794854', 'http://www.indeed.com/rc/clk?jk=197e54d64cbae2f3&fccid=fe2d21eef233e94a'] 10\n",
      "Getting page 11 start_num= 110\n",
      "http://www.indeed.com/jobs?q=%22data+scientist%22&l=Seattle%2C+WA&start=110\n",
      "['http://www.indeed.com/rc/clk?jk=5014aa50f33fa298&fccid=ccf155b8e5eb4bf8', 'http://www.indeed.com/rc/clk?jk=407721ca29884b38&fccid=617d7f961cfcf54a', 'http://www.indeed.com/rc/clk?jk=6d3fbee2fc6b3f54&fccid=734cb5a01ee60f80', 'http://www.indeed.com/rc/clk?jk=d0f38fec9cb11760&fccid=fe2d21eef233e94a', 'http://www.indeed.com/cmp/Indeed-Prime/jobs/Data-Scientist-eb1b00cf69f7aebb?r=1&fccid=72e9a6d69e66d858', 'http://www.indeed.com/rc/clk?jk=0ac4b922b1fffcfd&fccid=a513e92edbf529af', 'http://www.indeed.com/rc/clk?jk=f3e5c898952f0810&fccid=fe2d21eef233e94a', 'http://www.indeed.com/rc/clk?jk=e7ebafaa562e5882&fccid=913e1b259c8d65e2', 'http://www.indeed.com/rc/clk?jk=927d3abe31d1db67&fccid=c1099851e9794854', 'http://www.indeed.com/rc/clk?jk=197e54d64cbae2f3&fccid=fe2d21eef233e94a'] 10\n",
      "Getting page 12 start_num= 120\n",
      "http://www.indeed.com/jobs?q=%22data+scientist%22&l=Seattle%2C+WA&start=120\n",
      "['http://www.indeed.com/rc/clk?jk=5014aa50f33fa298&fccid=ccf155b8e5eb4bf8', 'http://www.indeed.com/rc/clk?jk=407721ca29884b38&fccid=617d7f961cfcf54a', 'http://www.indeed.com/rc/clk?jk=6d3fbee2fc6b3f54&fccid=734cb5a01ee60f80', 'http://www.indeed.com/rc/clk?jk=d0f38fec9cb11760&fccid=fe2d21eef233e94a', 'http://www.indeed.com/cmp/Indeed-Prime/jobs/Data-Scientist-eb1b00cf69f7aebb?r=1&fccid=72e9a6d69e66d858', 'http://www.indeed.com/rc/clk?jk=0ac4b922b1fffcfd&fccid=a513e92edbf529af', 'http://www.indeed.com/rc/clk?jk=f3e5c898952f0810&fccid=fe2d21eef233e94a', 'http://www.indeed.com/rc/clk?jk=e7ebafaa562e5882&fccid=913e1b259c8d65e2', 'http://www.indeed.com/rc/clk?jk=927d3abe31d1db67&fccid=c1099851e9794854', 'http://www.indeed.com/rc/clk?jk=197e54d64cbae2f3&fccid=fe2d21eef233e94a'] 10\n",
      "Getting page 13 start_num= 130\n",
      "http://www.indeed.com/jobs?q=%22data+scientist%22&l=Seattle%2C+WA&start=130\n",
      "['http://www.indeed.com/rc/clk?jk=5014aa50f33fa298&fccid=ccf155b8e5eb4bf8', 'http://www.indeed.com/rc/clk?jk=407721ca29884b38&fccid=617d7f961cfcf54a', 'http://www.indeed.com/rc/clk?jk=6d3fbee2fc6b3f54&fccid=734cb5a01ee60f80', 'http://www.indeed.com/rc/clk?jk=d0f38fec9cb11760&fccid=fe2d21eef233e94a', 'http://www.indeed.com/cmp/Indeed-Prime/jobs/Data-Scientist-eb1b00cf69f7aebb?r=1&fccid=72e9a6d69e66d858', 'http://www.indeed.com/rc/clk?jk=0ac4b922b1fffcfd&fccid=a513e92edbf529af', 'http://www.indeed.com/rc/clk?jk=f3e5c898952f0810&fccid=fe2d21eef233e94a', 'http://www.indeed.com/rc/clk?jk=e7ebafaa562e5882&fccid=913e1b259c8d65e2', 'http://www.indeed.com/rc/clk?jk=927d3abe31d1db67&fccid=c1099851e9794854', 'http://www.indeed.com/rc/clk?jk=197e54d64cbae2f3&fccid=fe2d21eef233e94a'] 10\n",
      "Getting page 14 start_num= 140\n",
      "http://www.indeed.com/jobs?q=%22data+scientist%22&l=Seattle%2C+WA&start=140\n",
      "['http://www.indeed.com/rc/clk?jk=5014aa50f33fa298&fccid=ccf155b8e5eb4bf8', 'http://www.indeed.com/rc/clk?jk=407721ca29884b38&fccid=617d7f961cfcf54a', 'http://www.indeed.com/rc/clk?jk=6d3fbee2fc6b3f54&fccid=734cb5a01ee60f80', 'http://www.indeed.com/rc/clk?jk=d0f38fec9cb11760&fccid=fe2d21eef233e94a', 'http://www.indeed.com/cmp/Indeed-Prime/jobs/Data-Scientist-eb1b00cf69f7aebb?r=1&fccid=72e9a6d69e66d858', 'http://www.indeed.com/rc/clk?jk=0ac4b922b1fffcfd&fccid=a513e92edbf529af', 'http://www.indeed.com/rc/clk?jk=f3e5c898952f0810&fccid=fe2d21eef233e94a', 'http://www.indeed.com/rc/clk?jk=e7ebafaa562e5882&fccid=913e1b259c8d65e2', 'http://www.indeed.com/rc/clk?jk=927d3abe31d1db67&fccid=c1099851e9794854', 'http://www.indeed.com/rc/clk?jk=197e54d64cbae2f3&fccid=fe2d21eef233e94a'] 10\n",
      "Getting page 15 start_num= 150\n",
      "http://www.indeed.com/jobs?q=%22data+scientist%22&l=Seattle%2C+WA&start=150\n",
      "['http://www.indeed.com/rc/clk?jk=5014aa50f33fa298&fccid=ccf155b8e5eb4bf8', 'http://www.indeed.com/rc/clk?jk=407721ca29884b38&fccid=617d7f961cfcf54a', 'http://www.indeed.com/rc/clk?jk=6d3fbee2fc6b3f54&fccid=734cb5a01ee60f80', 'http://www.indeed.com/rc/clk?jk=d0f38fec9cb11760&fccid=fe2d21eef233e94a', 'http://www.indeed.com/cmp/Indeed-Prime/jobs/Data-Scientist-eb1b00cf69f7aebb?r=1&fccid=72e9a6d69e66d858', 'http://www.indeed.com/rc/clk?jk=0ac4b922b1fffcfd&fccid=a513e92edbf529af', 'http://www.indeed.com/rc/clk?jk=f3e5c898952f0810&fccid=fe2d21eef233e94a', 'http://www.indeed.com/rc/clk?jk=e7ebafaa562e5882&fccid=913e1b259c8d65e2', 'http://www.indeed.com/rc/clk?jk=927d3abe31d1db67&fccid=c1099851e9794854', 'http://www.indeed.com/rc/clk?jk=197e54d64cbae2f3&fccid=fe2d21eef233e94a'] 10\n",
      "Getting page 16 start_num= 160\n",
      "http://www.indeed.com/jobs?q=%22data+scientist%22&l=Seattle%2C+WA&start=160\n",
      "['http://www.indeed.com/rc/clk?jk=5014aa50f33fa298&fccid=ccf155b8e5eb4bf8', 'http://www.indeed.com/rc/clk?jk=407721ca29884b38&fccid=617d7f961cfcf54a', 'http://www.indeed.com/rc/clk?jk=6d3fbee2fc6b3f54&fccid=734cb5a01ee60f80', 'http://www.indeed.com/rc/clk?jk=d0f38fec9cb11760&fccid=fe2d21eef233e94a', 'http://www.indeed.com/cmp/Indeed-Prime/jobs/Data-Scientist-eb1b00cf69f7aebb?r=1&fccid=72e9a6d69e66d858', 'http://www.indeed.com/rc/clk?jk=0ac4b922b1fffcfd&fccid=a513e92edbf529af', 'http://www.indeed.com/rc/clk?jk=f3e5c898952f0810&fccid=fe2d21eef233e94a', 'http://www.indeed.com/rc/clk?jk=e7ebafaa562e5882&fccid=913e1b259c8d65e2', 'http://www.indeed.com/rc/clk?jk=927d3abe31d1db67&fccid=c1099851e9794854', 'http://www.indeed.com/rc/clk?jk=197e54d64cbae2f3&fccid=fe2d21eef233e94a'] 10\n",
      "Getting page 17 start_num= 170\n",
      "http://www.indeed.com/jobs?q=%22data+scientist%22&l=Seattle%2C+WA&start=170\n",
      "['http://www.indeed.com/rc/clk?jk=5014aa50f33fa298&fccid=ccf155b8e5eb4bf8', 'http://www.indeed.com/rc/clk?jk=407721ca29884b38&fccid=617d7f961cfcf54a', 'http://www.indeed.com/rc/clk?jk=6d3fbee2fc6b3f54&fccid=734cb5a01ee60f80', 'http://www.indeed.com/rc/clk?jk=d0f38fec9cb11760&fccid=fe2d21eef233e94a', 'http://www.indeed.com/cmp/Indeed-Prime/jobs/Data-Scientist-eb1b00cf69f7aebb?r=1&fccid=72e9a6d69e66d858', 'http://www.indeed.com/rc/clk?jk=0ac4b922b1fffcfd&fccid=a513e92edbf529af', 'http://www.indeed.com/rc/clk?jk=f3e5c898952f0810&fccid=fe2d21eef233e94a', 'http://www.indeed.com/rc/clk?jk=e7ebafaa562e5882&fccid=913e1b259c8d65e2', 'http://www.indeed.com/rc/clk?jk=927d3abe31d1db67&fccid=c1099851e9794854', 'http://www.indeed.com/rc/clk?jk=197e54d64cbae2f3&fccid=fe2d21eef233e94a'] 10\n",
      "Getting page 18 start_num= 180\n",
      "http://www.indeed.com/jobs?q=%22data+scientist%22&l=Seattle%2C+WA&start=180\n",
      "['http://www.indeed.com/rc/clk?jk=5014aa50f33fa298&fccid=ccf155b8e5eb4bf8', 'http://www.indeed.com/rc/clk?jk=407721ca29884b38&fccid=617d7f961cfcf54a', 'http://www.indeed.com/rc/clk?jk=6d3fbee2fc6b3f54&fccid=734cb5a01ee60f80', 'http://www.indeed.com/rc/clk?jk=d0f38fec9cb11760&fccid=fe2d21eef233e94a', 'http://www.indeed.com/cmp/Indeed-Prime/jobs/Data-Scientist-eb1b00cf69f7aebb?r=1&fccid=72e9a6d69e66d858', 'http://www.indeed.com/rc/clk?jk=0ac4b922b1fffcfd&fccid=a513e92edbf529af', 'http://www.indeed.com/rc/clk?jk=f3e5c898952f0810&fccid=fe2d21eef233e94a', 'http://www.indeed.com/rc/clk?jk=e7ebafaa562e5882&fccid=913e1b259c8d65e2', 'http://www.indeed.com/rc/clk?jk=927d3abe31d1db67&fccid=c1099851e9794854', 'http://www.indeed.com/rc/clk?jk=197e54d64cbae2f3&fccid=fe2d21eef233e94a'] 10\n",
      "Getting page 19 start_num= 190\n",
      "http://www.indeed.com/jobs?q=%22data+scientist%22&l=Seattle%2C+WA&start=190\n",
      "['http://www.indeed.com/rc/clk?jk=5014aa50f33fa298&fccid=ccf155b8e5eb4bf8', 'http://www.indeed.com/rc/clk?jk=407721ca29884b38&fccid=617d7f961cfcf54a', 'http://www.indeed.com/rc/clk?jk=6d3fbee2fc6b3f54&fccid=734cb5a01ee60f80', 'http://www.indeed.com/rc/clk?jk=d0f38fec9cb11760&fccid=fe2d21eef233e94a', 'http://www.indeed.com/cmp/Indeed-Prime/jobs/Data-Scientist-eb1b00cf69f7aebb?r=1&fccid=72e9a6d69e66d858', 'http://www.indeed.com/rc/clk?jk=0ac4b922b1fffcfd&fccid=a513e92edbf529af', 'http://www.indeed.com/rc/clk?jk=f3e5c898952f0810&fccid=fe2d21eef233e94a', 'http://www.indeed.com/rc/clk?jk=e7ebafaa562e5882&fccid=913e1b259c8d65e2', 'http://www.indeed.com/rc/clk?jk=927d3abe31d1db67&fccid=c1099851e9794854', 'http://www.indeed.com/rc/clk?jk=197e54d64cbae2f3&fccid=fe2d21eef233e94a'] 10\n",
      "Getting page 20 start_num= 200\n",
      "http://www.indeed.com/jobs?q=%22data+scientist%22&l=Seattle%2C+WA&start=200\n",
      "['http://www.indeed.com/rc/clk?jk=5014aa50f33fa298&fccid=ccf155b8e5eb4bf8', 'http://www.indeed.com/rc/clk?jk=407721ca29884b38&fccid=617d7f961cfcf54a', 'http://www.indeed.com/rc/clk?jk=6d3fbee2fc6b3f54&fccid=734cb5a01ee60f80', 'http://www.indeed.com/rc/clk?jk=d0f38fec9cb11760&fccid=fe2d21eef233e94a', 'http://www.indeed.com/cmp/Indeed-Prime/jobs/Data-Scientist-eb1b00cf69f7aebb?r=1&fccid=72e9a6d69e66d858', 'http://www.indeed.com/rc/clk?jk=0ac4b922b1fffcfd&fccid=a513e92edbf529af', 'http://www.indeed.com/rc/clk?jk=f3e5c898952f0810&fccid=fe2d21eef233e94a', 'http://www.indeed.com/rc/clk?jk=e7ebafaa562e5882&fccid=913e1b259c8d65e2', 'http://www.indeed.com/rc/clk?jk=927d3abe31d1db67&fccid=c1099851e9794854', 'http://www.indeed.com/rc/clk?jk=197e54d64cbae2f3&fccid=fe2d21eef233e94a'] 10\n",
      "Getting page 21 start_num= 210\n",
      "http://www.indeed.com/jobs?q=%22data+scientist%22&l=Seattle%2C+WA&start=210\n",
      "['http://www.indeed.com/rc/clk?jk=5014aa50f33fa298&fccid=ccf155b8e5eb4bf8', 'http://www.indeed.com/rc/clk?jk=407721ca29884b38&fccid=617d7f961cfcf54a', 'http://www.indeed.com/rc/clk?jk=6d3fbee2fc6b3f54&fccid=734cb5a01ee60f80', 'http://www.indeed.com/rc/clk?jk=d0f38fec9cb11760&fccid=fe2d21eef233e94a', 'http://www.indeed.com/cmp/Indeed-Prime/jobs/Data-Scientist-eb1b00cf69f7aebb?r=1&fccid=72e9a6d69e66d858', 'http://www.indeed.com/rc/clk?jk=0ac4b922b1fffcfd&fccid=a513e92edbf529af', 'http://www.indeed.com/rc/clk?jk=f3e5c898952f0810&fccid=fe2d21eef233e94a', 'http://www.indeed.com/rc/clk?jk=e7ebafaa562e5882&fccid=913e1b259c8d65e2', 'http://www.indeed.com/rc/clk?jk=927d3abe31d1db67&fccid=c1099851e9794854', 'http://www.indeed.com/rc/clk?jk=197e54d64cbae2f3&fccid=fe2d21eef233e94a'] 10\n",
      "Done with collecting the job postings!\n",
      "There were 220 jobs successfully found.\n",
      "          Term  NumPostings\n",
      "3       Python    49.090909\n",
      "8            R    49.090909\n",
      "7       Hadoop    19.090909\n",
      "10         SQL    19.090909\n",
      "12       Spark    19.090909\n",
      "14          D3    19.090909\n",
      "0          Pig    10.000000\n",
      "1         Java    10.000000\n",
      "2        Scala    10.000000\n",
      "4   JavaScript    10.000000\n",
      "6          C++    10.000000\n",
      "11         SAS    10.000000\n",
      "13        SPSS    10.000000\n",
      "15        Hive    10.000000\n",
      "5      Tableau     9.090909\n",
      "9       Matlab     9.090909\n"
     ]
    },
    {
     "data": {
      "image/png": "[encoded data removed]",
      "text/plain": [
       "<matplotlib.figure.Figure at 0x1420cbe0>"
      ]
     },
     "metadata": {},
     "output_type": "display_data"
    }
   ],
   "source": [
    "seattle_info = skills_info(city = 'Seattle', state = 'WA') "
   ]
  },
  {
   "cell_type": "code",
   "execution_count": 10,
   "metadata": {
    "collapsed": false
   },
   "outputs": [
    {
     "name": "stdout",
     "output_type": "stream",
     "text": [
      "There were 342 jobs found, San Francisco\n",
      "Getting page 1\n",
      "Getting page 2\n",
      "Getting page 3\n",
      "Getting page 4\n",
      "Getting page 5\n",
      "Getting page 6\n",
      "Getting page 7\n",
      "Getting page 8\n",
      "Getting page 9\n",
      "Getting page 10\n",
      "Getting page 11\n",
      "Getting page 12\n",
      "Getting page 13\n",
      "Getting page 14\n",
      "Getting page 15\n",
      "Getting page 16\n",
      "Getting page 17\n",
      "Getting page 18\n",
      "Getting page 19\n",
      "Getting page 20\n",
      "Getting page 21\n",
      "Getting page 22\n",
      "Getting page 23\n",
      "Getting page 24\n",
      "Getting page 25\n",
      "Getting page 26\n",
      "Getting page 27\n",
      "Getting page 28\n",
      "Getting page 29\n",
      "Getting page 30\n",
      "Getting page 31\n",
      "Getting page 32\n",
      "Getting page 33\n",
      "Getting page 34\n",
      "Done with collecting the job postings!\n",
      "There were 227 jobs successfully found.\n"
     ]
    },
    {
     "name": "stderr",
     "output_type": "stream",
     "text": [
      "C:\\Users\\Student\\Anaconda2\\lib\\site-packages\\ipykernel\\__main__.py:132: FutureWarning: sort(columns=....) is deprecated, use sort_values(by=.....)\n"
     ]
    },
    {
     "data": {
      "image/png": "[encoded data removed]",
      "text/plain": [
       "<matplotlib.figure.Figure at 0x1250d6d8>"
      ]
     },
     "metadata": {},
     "output_type": "display_data"
    }
   ],
   "source": [
    "sf_info = skills_info(city = 'San Francisco', state = 'CA') "
   ]
  },
  {
   "cell_type": "code",
   "execution_count": 9,
   "metadata": {
    "collapsed": false,
    "scrolled": false
   },
   "outputs": [
    {
     "name": "stdout",
     "output_type": "stream",
     "text": [
      "http://www.indeed.com/jobs?q=%22data+scientist%22&l=New York%2C+NY\n",
      "<div id=\"searchCount\">Jobs 1 to 10 of 389</div>\n",
      "num_pages= 39\n",
      "Getting page 0 start_num= 0\n",
      "http://www.indeed.com/jobs?q=%22data+scientist%22&l=New York%2C+NY&start=0\n",
      "['http://www.indeed.com/rc/clk?jk=cca60cdc64b03eb2&fccid=ef4ef175212ffb1e', 'http://www.indeed.com/rc/clk?jk=3b426d0c5ff59c9a&fccid=a02a309f2586b2dd', 'http://www.indeed.com/rc/clk?jk=f0266a80502011aa&fccid=35781c2041de2a91', 'http://www.indeed.com/cmp/Indeed-Prime/jobs/Data-Scientist-f51d618a67f9e1bd?r=1&fccid=72e9a6d69e66d858', 'http://www.indeed.com/rc/clk?jk=902c2bf4a0198c35&fccid=0c39fb2c91742dcf', 'http://www.indeed.com/rc/clk?jk=5989a8d562524941&fccid=61bb2b2cdd4507ae', 'http://www.indeed.com/rc/clk?jk=c3f5d205ee6b4d08&fccid=94f50d40391d59da', 'http://www.indeed.com/rc/clk?jk=4444b060ac85b8f0&fccid=f65aedcd2de292bf', 'http://www.indeed.com/rc/clk?jk=ce5ecae2e0077e61&fccid=3de83442785d5fca', 'http://www.indeed.com/rc/clk?jk=b911e44d901700f2&fccid=309f5dd3a87072dc'] 10\n",
      "Getting page 1 start_num= 10\n",
      "http://www.indeed.com/jobs?q=%22data+scientist%22&l=New York%2C+NY&start=10\n",
      "['http://www.indeed.com/rc/clk?jk=874f75d67840406c&fccid=2c23f29fcd5c78da', 'http://www.indeed.com/rc/clk?jk=323a0a97aeda1bba&fccid=0c39fb2c91742dcf', 'http://www.indeed.com/rc/clk?jk=100d3487f0da530f&fccid=0c39fb2c91742dcf', 'http://www.indeed.com/rc/clk?jk=54ff444de44f0d33&fccid=64cffe395a99ee45', 'http://www.indeed.com/rc/clk?jk=7e99fe67769abbe7&fccid=fe404d18bb9eef1e', 'http://www.indeed.com/rc/clk?jk=03da19f3a2a1f3d7&fccid=f7029f63fe5c906e', 'http://www.indeed.com/rc/clk?jk=b5f58fbf149f40cc&fccid=de71a49b535e21cb', 'http://www.indeed.com/rc/clk?jk=019e81f07d6c887c&fccid=ae0c894528aa6eee', 'http://www.indeed.com/rc/clk?jk=0a9845a293a305ff&fccid=b1bb2712af9578b5', 'http://www.indeed.com/rc/clk?jk=f0b32c73f8383044&fccid=0c39fb2c91742dcf'] 10\n",
      "Getting page 2 start_num= 20\n",
      "http://www.indeed.com/jobs?q=%22data+scientist%22&l=New York%2C+NY&start=20\n",
      "['http://www.indeed.com/rc/clk?jk=a3c52dc488ab8429&fccid=ded9605952442cb4', 'http://www.indeed.com/rc/clk?jk=42869c68a6aee139&fccid=ef4ef175212ffb1e', 'http://www.indeed.com/rc/clk?jk=e65274276d4bb294&fccid=101851eba25dce3c', 'http://www.indeed.com/rc/clk?jk=e6c629fd19767483&fccid=fe404d18bb9eef1e', 'http://www.indeed.com/rc/clk?jk=8931a77fff943bdb&fccid=9044e8bd254c73d6', 'http://www.indeed.com/rc/clk?jk=a820a2f943a047f8&fccid=7077d7e88049c02a', 'http://www.indeed.com/rc/clk?jk=9bea4a1ec017d00d&fccid=2c6850e24c8a2811', 'http://www.indeed.com/rc/clk?jk=3e7a055f247bd8a1&fccid=35d653c09c2712b6', 'http://www.indeed.com/rc/clk?jk=dc83aef5bd9a2b7f&fccid=2f7cb114b730b276', 'http://www.indeed.com/rc/clk?jk=fb8776d2079bed6d&fccid=6ae0e4a8a0a337cd'] 10\n",
      "Getting page 3 start_num= 30\n",
      "http://www.indeed.com/jobs?q=%22data+scientist%22&l=New York%2C+NY&start=30\n",
      "['http://www.indeed.com/rc/clk?jk=d3c94afbbee8c880&fccid=0c39fb2c91742dcf', 'http://www.indeed.com/rc/clk?jk=c7b7cdbaa69831d9&fccid=9044e8bd254c73d6', 'http://www.indeed.com/rc/clk?jk=10c690ad557e6cea&fccid=4d29471070aa339c', 'http://www.indeed.com/rc/clk?jk=c4cb134c96f20a1e&fccid=9a92a4bf81326e1e', 'http://www.indeed.com/rc/clk?jk=207734dbdc73cf54&fccid=cf5f0af7879d1065', 'http://www.indeed.com/rc/clk?jk=7acc50463aab0cd5&fccid=c46d0116f6e69eae', 'http://www.indeed.com/rc/clk?jk=50270c752efd365a&fccid=e01fd868e3a31672', 'http://www.indeed.com/rc/clk?jk=b275c8c6e3780214&fccid=aeacacf57cc39136', 'http://www.indeed.com/rc/clk?jk=bf398f7e222d401a&fccid=ea25315ee9da22e5', 'http://www.indeed.com/rc/clk?jk=be1acb5f69628cf7&fccid=9c692bd8d7645987'] 10\n",
      "Getting page 4 start_num= 40\n",
      "http://www.indeed.com/jobs?q=%22data+scientist%22&l=New York%2C+NY&start=40\n",
      "['http://www.indeed.com/rc/clk?jk=d402c93746b190c3&fccid=61bb2b2cdd4507ae', 'http://www.indeed.com/rc/clk?jk=27d9f7a620783cde&fccid=4640437a3109c91f', 'http://www.indeed.com/rc/clk?jk=a1aa651a480765cc&fccid=c007936ceb766fe5', 'http://www.indeed.com/rc/clk?jk=371bafae2e362733&fccid=f924423dab22b92a', 'http://www.indeed.com/rc/clk?jk=d1460e87f1f4a4a0&fccid=9e215d88a6b33622', 'http://www.indeed.com/rc/clk?jk=078676c7fbd0b6c2&fccid=c46d0116f6e69eae', 'http://www.indeed.com/rc/clk?jk=5d929ca998b66b46&fccid=7077d7e88049c02a', 'http://www.indeed.com/rc/clk?jk=8f474fd2bcabbff9&fccid=1639254ea84748b5', 'http://www.indeed.com/rc/clk?jk=d0bedd223942db9a&fccid=30483f79c3e7ba64', 'http://www.indeed.com/rc/clk?jk=40d1d5104c41e124&fccid=6df24d87c9f05a07'] 10\n",
      "Getting page 5 start_num= 50\n",
      "http://www.indeed.com/jobs?q=%22data+scientist%22&l=New York%2C+NY&start=50\n",
      "['http://www.indeed.com/rc/clk?jk=da51764d46d036c7&fccid=057abf3fd357e717', 'http://www.indeed.com/rc/clk?jk=35dd73ab66d04b0b&fccid=fe2d21eef233e94a', 'http://www.indeed.com/rc/clk?jk=c50d1284a8b58184&fccid=f7029f63fe5c906e', 'http://www.indeed.com/rc/clk?jk=a493e2a788ebb6b5&fccid=25b5166547bbf543', 'http://www.indeed.com/rc/clk?jk=7503e186b4c2a1fd&fccid=15f790ea1788057c', 'http://www.indeed.com/rc/clk?jk=ad6cac7cd99c095b&fccid=2dd390c3a48a7ed0', 'http://www.indeed.com/rc/clk?jk=2c79d4a49ee5a495&fccid=5bcd1ef0a7f4fb99', 'http://www.indeed.com/rc/clk?jk=8cae567ad5107fe6&fccid=c2a63affe8751868', 'http://www.indeed.com/rc/clk?jk=af67d9f210b8c38d&fccid=f770da67b3b51c62', 'http://www.indeed.com/rc/clk?jk=d9e7cd48c71fda55&fccid=f057e04c37cca134'] 10\n",
      "Getting page 6 start_num= 60\n",
      "http://www.indeed.com/jobs?q=%22data+scientist%22&l=New York%2C+NY&start=60\n",
      "['http://www.indeed.com/rc/clk?jk=a028651daa573237&fccid=1320c50b75f44505', 'http://www.indeed.com/rc/clk?jk=e559bca364d05f15&fccid=0bf20dd18ae2b20c', 'http://www.indeed.com/rc/clk?jk=51b5de58a66477ca&fccid=94f50d40391d59da', 'http://www.indeed.com/rc/clk?jk=a64c5e5d843a9977&fccid=b393ad8be88fd16e', 'http://www.indeed.com/rc/clk?jk=fec7edf95b5ad5d2&fccid=9a92a4bf81326e1e', 'http://www.indeed.com/rc/clk?jk=ee8d93e83cb521f9&fccid=e127f4594cdf24f4', 'http://www.indeed.com/rc/clk?jk=be2d3468844ab7ae&fccid=63f6f4b6fccadc75', 'http://www.indeed.com/rc/clk?jk=9c8184cdc0f5096d&fccid=5609ae8cba643791', 'http://www.indeed.com/rc/clk?jk=42e2d9962da5437a&fccid=ea0afd5c2a813ac2', 'http://www.indeed.com/rc/clk?jk=990ba64f6ecd920e&fccid=2df6a1e69a70a1e7'] 10\n"
     ]
    },
    {
     "ename": "ConnectionError",
     "evalue": "('Connection aborted.', error(61, 'Connection refused'))",
     "output_type": "error",
     "traceback": [
      "\u001b[0;31m---------------------------------------------------------------------------\u001b[0m",
      "\u001b[0;31mConnectionError\u001b[0m                           Traceback (most recent call last)",
      "\u001b[0;32m<ipython-input-9-ef4e5d0fc089>\u001b[0m in \u001b[0;36m<module>\u001b[0;34m()\u001b[0m\n\u001b[0;32m----> 1\u001b[0;31m \u001b[0mskills_info\u001b[0m\u001b[0;34m(\u001b[0m\u001b[0mcity\u001b[0m \u001b[0;34m=\u001b[0m \u001b[0;34m'New York'\u001b[0m\u001b[0;34m,\u001b[0m \u001b[0mstate\u001b[0m \u001b[0;34m=\u001b[0m \u001b[0;34m'NY'\u001b[0m\u001b[0;34m)\u001b[0m\u001b[0;34m\u001b[0m\u001b[0m\n\u001b[0m",
      "\u001b[0;32m<ipython-input-7-f321ada7f6f3>\u001b[0m in \u001b[0;36mskills_info\u001b[0;34m(city, state)\u001b[0m\n\u001b[1;32m     42\u001b[0m \u001b[0;34m\u001b[0m\u001b[0m\n\u001b[1;32m     43\u001b[0m         \u001b[0;32mfor\u001b[0m \u001b[0mURL\u001b[0m \u001b[0;32min\u001b[0m \u001b[0mjob_URLs\u001b[0m\u001b[0;34m:\u001b[0m\u001b[0;34m\u001b[0m\u001b[0m\n\u001b[0;32m---> 44\u001b[0;31m             \u001b[0mfinal_description\u001b[0m \u001b[0;34m=\u001b[0m \u001b[0mtext_cleaner\u001b[0m\u001b[0;34m(\u001b[0m\u001b[0mURL\u001b[0m\u001b[0;34m)\u001b[0m\u001b[0;34m\u001b[0m\u001b[0m\n\u001b[0m\u001b[1;32m     45\u001b[0m             \u001b[0mjob_descriptions\u001b[0m\u001b[0;34m.\u001b[0m\u001b[0mappend\u001b[0m\u001b[0;34m(\u001b[0m\u001b[0mfinal_description\u001b[0m\u001b[0;34m)\u001b[0m\u001b[0;34m\u001b[0m\u001b[0m\n\u001b[1;32m     46\u001b[0m             \u001b[0msleep\u001b[0m\u001b[0;34m(\u001b[0m\u001b[0;36m1\u001b[0m\u001b[0;34m)\u001b[0m \u001b[0;31m# so that we don't be jerks. If you have a very fast internet connection you could hit the server a lot!\u001b[0m\u001b[0;34m\u001b[0m\u001b[0m\n",
      "\u001b[0;32m<ipython-input-6-a6cfb1a75c74>\u001b[0m in \u001b[0;36mtext_cleaner\u001b[0;34m(url)\u001b[0m\n\u001b[1;32m      1\u001b[0m \u001b[0;32mdef\u001b[0m \u001b[0mtext_cleaner\u001b[0m\u001b[0;34m(\u001b[0m\u001b[0murl\u001b[0m\u001b[0;34m)\u001b[0m\u001b[0;34m:\u001b[0m\u001b[0;34m\u001b[0m\u001b[0m\n\u001b[1;32m      2\u001b[0m     \u001b[0msession\u001b[0m \u001b[0;34m=\u001b[0m \u001b[0mrequests\u001b[0m\u001b[0;34m.\u001b[0m\u001b[0mSession\u001b[0m\u001b[0;34m(\u001b[0m\u001b[0;34m)\u001b[0m\u001b[0;34m\u001b[0m\u001b[0m\n\u001b[0;32m----> 3\u001b[0;31m     \u001b[0msoup\u001b[0m \u001b[0;34m=\u001b[0m \u001b[0mBeautifulSoup\u001b[0m\u001b[0;34m(\u001b[0m\u001b[0msession\u001b[0m\u001b[0;34m.\u001b[0m\u001b[0mget\u001b[0m\u001b[0;34m(\u001b[0m\u001b[0murl\u001b[0m\u001b[0;34m)\u001b[0m\u001b[0;34m.\u001b[0m\u001b[0mcontent\u001b[0m\u001b[0;34m,\u001b[0m \u001b[0;34m'lxml'\u001b[0m\u001b[0;34m)\u001b[0m  \u001b[0;31m# let our beautiful soup to parse the site\u001b[0m\u001b[0;34m\u001b[0m\u001b[0m\n\u001b[0m\u001b[1;32m      4\u001b[0m \u001b[0;34m\u001b[0m\u001b[0m\n\u001b[1;32m      5\u001b[0m     \u001b[0;32mfor\u001b[0m \u001b[0mscript\u001b[0m \u001b[0;32min\u001b[0m \u001b[0msoup\u001b[0m\u001b[0;34m(\u001b[0m\u001b[0;34m[\u001b[0m\u001b[0;34m\"script\"\u001b[0m\u001b[0;34m,\u001b[0m \u001b[0;34m\"style\"\u001b[0m\u001b[0;34m]\u001b[0m\u001b[0;34m)\u001b[0m\u001b[0;34m:\u001b[0m           \u001b[0;31m# Remove these two unnecessary tags: \"script\" and \"style\"\u001b[0m\u001b[0;34m\u001b[0m\u001b[0m\n",
      "\u001b[0;32m/Library/Python/2.7/site-packages/requests/sessions.pyc\u001b[0m in \u001b[0;36mget\u001b[0;34m(self, url, **kwargs)\u001b[0m\n\u001b[1;32m    475\u001b[0m \u001b[0;34m\u001b[0m\u001b[0m\n\u001b[1;32m    476\u001b[0m         \u001b[0mkwargs\u001b[0m\u001b[0;34m.\u001b[0m\u001b[0msetdefault\u001b[0m\u001b[0;34m(\u001b[0m\u001b[0;34m'allow_redirects'\u001b[0m\u001b[0;34m,\u001b[0m \u001b[0mTrue\u001b[0m\u001b[0;34m)\u001b[0m\u001b[0;34m\u001b[0m\u001b[0m\n\u001b[0;32m--> 477\u001b[0;31m         \u001b[0;32mreturn\u001b[0m \u001b[0mself\u001b[0m\u001b[0;34m.\u001b[0m\u001b[0mrequest\u001b[0m\u001b[0;34m(\u001b[0m\u001b[0;34m'GET'\u001b[0m\u001b[0;34m,\u001b[0m \u001b[0murl\u001b[0m\u001b[0;34m,\u001b[0m \u001b[0;34m**\u001b[0m\u001b[0mkwargs\u001b[0m\u001b[0;34m)\u001b[0m\u001b[0;34m\u001b[0m\u001b[0m\n\u001b[0m\u001b[1;32m    478\u001b[0m \u001b[0;34m\u001b[0m\u001b[0m\n\u001b[1;32m    479\u001b[0m     \u001b[0;32mdef\u001b[0m \u001b[0moptions\u001b[0m\u001b[0;34m(\u001b[0m\u001b[0mself\u001b[0m\u001b[0;34m,\u001b[0m \u001b[0murl\u001b[0m\u001b[0;34m,\u001b[0m \u001b[0;34m**\u001b[0m\u001b[0mkwargs\u001b[0m\u001b[0;34m)\u001b[0m\u001b[0;34m:\u001b[0m\u001b[0;34m\u001b[0m\u001b[0m\n",
      "\u001b[0;32m/Library/Python/2.7/site-packages/requests/sessions.pyc\u001b[0m in \u001b[0;36mrequest\u001b[0;34m(self, method, url, params, data, headers, cookies, files, auth, timeout, allow_redirects, proxies, hooks, stream, verify, cert, json)\u001b[0m\n\u001b[1;32m    463\u001b[0m         }\n\u001b[1;32m    464\u001b[0m         \u001b[0msend_kwargs\u001b[0m\u001b[0;34m.\u001b[0m\u001b[0mupdate\u001b[0m\u001b[0;34m(\u001b[0m\u001b[0msettings\u001b[0m\u001b[0;34m)\u001b[0m\u001b[0;34m\u001b[0m\u001b[0m\n\u001b[0;32m--> 465\u001b[0;31m         \u001b[0mresp\u001b[0m \u001b[0;34m=\u001b[0m \u001b[0mself\u001b[0m\u001b[0;34m.\u001b[0m\u001b[0msend\u001b[0m\u001b[0;34m(\u001b[0m\u001b[0mprep\u001b[0m\u001b[0;34m,\u001b[0m \u001b[0;34m**\u001b[0m\u001b[0msend_kwargs\u001b[0m\u001b[0;34m)\u001b[0m\u001b[0;34m\u001b[0m\u001b[0m\n\u001b[0m\u001b[1;32m    466\u001b[0m \u001b[0;34m\u001b[0m\u001b[0m\n\u001b[1;32m    467\u001b[0m         \u001b[0;32mreturn\u001b[0m \u001b[0mresp\u001b[0m\u001b[0;34m\u001b[0m\u001b[0m\n",
      "\u001b[0;32m/Library/Python/2.7/site-packages/requests/sessions.pyc\u001b[0m in \u001b[0;36msend\u001b[0;34m(self, request, **kwargs)\u001b[0m\n\u001b[1;32m    592\u001b[0m \u001b[0;34m\u001b[0m\u001b[0m\n\u001b[1;32m    593\u001b[0m         \u001b[0;31m# Resolve redirects if allowed.\u001b[0m\u001b[0;34m\u001b[0m\u001b[0;34m\u001b[0m\u001b[0m\n\u001b[0;32m--> 594\u001b[0;31m         \u001b[0mhistory\u001b[0m \u001b[0;34m=\u001b[0m \u001b[0;34m[\u001b[0m\u001b[0mresp\u001b[0m \u001b[0;32mfor\u001b[0m \u001b[0mresp\u001b[0m \u001b[0;32min\u001b[0m \u001b[0mgen\u001b[0m\u001b[0;34m]\u001b[0m \u001b[0;32mif\u001b[0m \u001b[0mallow_redirects\u001b[0m \u001b[0;32melse\u001b[0m \u001b[0;34m[\u001b[0m\u001b[0;34m]\u001b[0m\u001b[0;34m\u001b[0m\u001b[0m\n\u001b[0m\u001b[1;32m    595\u001b[0m \u001b[0;34m\u001b[0m\u001b[0m\n\u001b[1;32m    596\u001b[0m         \u001b[0;31m# Shuffle things around if there's history.\u001b[0m\u001b[0;34m\u001b[0m\u001b[0;34m\u001b[0m\u001b[0m\n",
      "\u001b[0;32m/Library/Python/2.7/site-packages/requests/sessions.pyc\u001b[0m in \u001b[0;36mresolve_redirects\u001b[0;34m(self, resp, req, stream, timeout, verify, cert, proxies, **adapter_kwargs)\u001b[0m\n\u001b[1;32m    194\u001b[0m                 \u001b[0mproxies\u001b[0m\u001b[0;34m=\u001b[0m\u001b[0mproxies\u001b[0m\u001b[0;34m,\u001b[0m\u001b[0;34m\u001b[0m\u001b[0m\n\u001b[1;32m    195\u001b[0m                 \u001b[0mallow_redirects\u001b[0m\u001b[0;34m=\u001b[0m\u001b[0mFalse\u001b[0m\u001b[0;34m,\u001b[0m\u001b[0;34m\u001b[0m\u001b[0m\n\u001b[0;32m--> 196\u001b[0;31m                 \u001b[0;34m**\u001b[0m\u001b[0madapter_kwargs\u001b[0m\u001b[0;34m\u001b[0m\u001b[0m\n\u001b[0m\u001b[1;32m    197\u001b[0m             )\n\u001b[1;32m    198\u001b[0m \u001b[0;34m\u001b[0m\u001b[0m\n",
      "\u001b[0;32m/Library/Python/2.7/site-packages/requests/sessions.pyc\u001b[0m in \u001b[0;36msend\u001b[0;34m(self, request, **kwargs)\u001b[0m\n\u001b[1;32m    571\u001b[0m \u001b[0;34m\u001b[0m\u001b[0m\n\u001b[1;32m    572\u001b[0m         \u001b[0;31m# Send the request\u001b[0m\u001b[0;34m\u001b[0m\u001b[0;34m\u001b[0m\u001b[0m\n\u001b[0;32m--> 573\u001b[0;31m         \u001b[0mr\u001b[0m \u001b[0;34m=\u001b[0m \u001b[0madapter\u001b[0m\u001b[0;34m.\u001b[0m\u001b[0msend\u001b[0m\u001b[0;34m(\u001b[0m\u001b[0mrequest\u001b[0m\u001b[0;34m,\u001b[0m \u001b[0;34m**\u001b[0m\u001b[0mkwargs\u001b[0m\u001b[0;34m)\u001b[0m\u001b[0;34m\u001b[0m\u001b[0m\n\u001b[0m\u001b[1;32m    574\u001b[0m \u001b[0;34m\u001b[0m\u001b[0m\n\u001b[1;32m    575\u001b[0m         \u001b[0;31m# Total elapsed time of the request (approximately)\u001b[0m\u001b[0;34m\u001b[0m\u001b[0;34m\u001b[0m\u001b[0m\n",
      "\u001b[0;32m/Library/Python/2.7/site-packages/requests/adapters.pyc\u001b[0m in \u001b[0;36msend\u001b[0;34m(self, request, stream, timeout, verify, cert, proxies)\u001b[0m\n\u001b[1;32m    413\u001b[0m \u001b[0;34m\u001b[0m\u001b[0m\n\u001b[1;32m    414\u001b[0m         \u001b[0;32mexcept\u001b[0m \u001b[0;34m(\u001b[0m\u001b[0mProtocolError\u001b[0m\u001b[0;34m,\u001b[0m \u001b[0msocket\u001b[0m\u001b[0;34m.\u001b[0m\u001b[0merror\u001b[0m\u001b[0;34m)\u001b[0m \u001b[0;32mas\u001b[0m \u001b[0merr\u001b[0m\u001b[0;34m:\u001b[0m\u001b[0;34m\u001b[0m\u001b[0m\n\u001b[0;32m--> 415\u001b[0;31m             \u001b[0;32mraise\u001b[0m \u001b[0mConnectionError\u001b[0m\u001b[0;34m(\u001b[0m\u001b[0merr\u001b[0m\u001b[0;34m,\u001b[0m \u001b[0mrequest\u001b[0m\u001b[0;34m=\u001b[0m\u001b[0mrequest\u001b[0m\u001b[0;34m)\u001b[0m\u001b[0;34m\u001b[0m\u001b[0m\n\u001b[0m\u001b[1;32m    416\u001b[0m \u001b[0;34m\u001b[0m\u001b[0m\n\u001b[1;32m    417\u001b[0m         \u001b[0;32mexcept\u001b[0m \u001b[0mMaxRetryError\u001b[0m \u001b[0;32mas\u001b[0m \u001b[0me\u001b[0m\u001b[0;34m:\u001b[0m\u001b[0;34m\u001b[0m\u001b[0m\n",
      "\u001b[0;31mConnectionError\u001b[0m: ('Connection aborted.', error(61, 'Connection refused'))"
     ]
    }
   ],
   "source": [
    "skills_info(city = 'New York', state = 'NY') "
   ]
  },
  {
   "cell_type": "markdown",
   "metadata": {},
   "source": [
    "----"
   ]
  },
  {
   "cell_type": "markdown",
   "metadata": {
    "collapsed": true
   },
   "source": [
    "http://wiki.jikexueyuan.com/project/python-crawler-guide/beautiful-soup.html\n",
    "    \n",
    "http://stackoverflow.com/questions/27346976/beautifulsoup-find-all-does-not-find-all"
   ]
  }
 ],
 "metadata": {
  "anaconda-cloud": {},
  "kernelspec": {
   "display_name": "Python 2",
   "language": "python",
   "name": "python2"
  },
  "language_info": {
   "codemirror_mode": {
    "name": "ipython",
    "version": 2
   },
   "file_extension": ".py",
   "mimetype": "text/x-python",
   "name": "python",
   "nbconvert_exporter": "python",
   "pygments_lexer": "ipython2",
   "version": "2.7.12"
  }
 },
 "nbformat": 4,
 "nbformat_minor": 0
}
