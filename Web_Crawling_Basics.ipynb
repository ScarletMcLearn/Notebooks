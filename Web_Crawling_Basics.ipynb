{
 "cells": [
  {
   "cell_type": "code",
   "execution_count": 1,
   "metadata": {
    "collapsed": false
   },
   "outputs": [],
   "source": [
    "import numpy as np\n",
    "import matplotlib.pyplot as plt\n",
    "from random import randint\n",
    "from scipy import integrate"
   ]
  },
  {
   "cell_type": "code",
   "execution_count": 3,
   "metadata": {
    "collapsed": false
   },
   "outputs": [],
   "source": [
    "from bs4 import BeautifulSoup # For HTML parsing\n",
    "import requests\n",
    "import urlparse\n",
    "import re # Regular expressions\n",
    "from time import sleep # To prevent overwhelming the server between connections\n",
    "from collections import Counter # Keep track of our term counts\n",
    "#from nltk.corpus import stopwords # Filter out stopwords, such as 'the', 'or', 'and'\n",
    "import nltk\n",
    "import pandas as pd # For converting results to a dataframe and bar chart plots\n",
    "%matplotlib inline"
   ]
  },
  {
   "cell_type": "code",
   "execution_count": 123,
   "metadata": {
    "collapsed": false
   },
   "outputs": [],
   "source": [
    "import seaborn as sns\n",
    "sns.set(style='ticks', palette='Set2')"
   ]
  },
  {
   "cell_type": "markdown",
   "metadata": {},
   "source": [
    "## Now, I'm going to learn  Beautiful Soup:"
   ]
  },
  {
   "cell_type": "markdown",
   "metadata": {},
   "source": [
    "#### 1. a tag:"
   ]
  },
  {
   "cell_type": "code",
   "execution_count": 4,
   "metadata": {
    "collapsed": false
   },
   "outputs": [
    {
     "data": {
      "text/plain": [
       "bs4.element.Tag"
      ]
     },
     "execution_count": 4,
     "metadata": {},
     "output_type": "execute_result"
    }
   ],
   "source": [
    "soup = BeautifulSoup('<b class=\"boldest\">Extremely bold</b>',\"html.parser\")\n",
    "tag = soup.b\n",
    "type(tag)"
   ]
  },
  {
   "cell_type": "markdown",
   "metadata": {},
   "source": [
    "A tag has a name (say, \"someTag\"). It contains a set of attribute:value(s). The following is an example of the structure of a tag:\n",
    "\n",
    "$\\text{<someTag attr1=\"value\" attr2=\"value1 value2\">  A String  </someTag>}$"
   ]
  },
  {
   "cell_type": "code",
   "execution_count": 39,
   "metadata": {
    "collapsed": false
   },
   "outputs": [
    {
     "name": "stdout",
     "output_type": "stream",
     "text": [
      "b\n",
      "['boldest']\n",
      "{'class': ['boldest']}\n"
     ]
    }
   ],
   "source": [
    "print tag.name\n",
    "print tag[\"class\"]\n",
    "print tag.attrs"
   ]
  },
  {
   "cell_type": "markdown",
   "metadata": {},
   "source": [
    "i.e. we can use .attrs to show the dictionary of a specified tag (attr, value)."
   ]
  },
  {
   "cell_type": "markdown",
   "metadata": {},
   "source": [
    "Also, the things within the begin and the end tag (i.e. within $<b>$ and $</b>$) are strings:"
   ]
  },
  {
   "cell_type": "code",
   "execution_count": 40,
   "metadata": {
    "collapsed": false
   },
   "outputs": [
    {
     "name": "stdout",
     "output_type": "stream",
     "text": [
      "<class 'bs4.element.NavigableString'>\n",
      "Extremely bold\n"
     ]
    }
   ],
   "source": [
    "print type(tag.string)\n",
    "print tag.string"
   ]
  },
  {
   "cell_type": "markdown",
   "metadata": {},
   "source": [
    "These strings are objects of the type NavigableString. i.e. we can do further actions such as to find its direct parent:"
   ]
  },
  {
   "cell_type": "code",
   "execution_count": 77,
   "metadata": {
    "collapsed": false
   },
   "outputs": [
    {
     "name": "stdout",
     "output_type": "stream",
     "text": [
      "<p class=\"story\">...</p>\n",
      "<p class=\"story\">...</p>\n",
      "u'<p class=\"story\">...</p>'\n",
      "<class 'bs4.element.Tag'>\n",
      "<type 'unicode'>\n",
      "<type 'str'>\n"
     ]
    }
   ],
   "source": [
    "print tag.string.parent                   # a NavigableString obj\n",
    "print unicode(tag.string.parent)          # a unicode string\n",
    "print repr(unicode(tag.string.parent))    # a unicode string (in repr(), if the string is \"unicode\" encoded, it will begin by u')\n",
    "\n",
    "#check the types of the above stuffs:\n",
    "print type(tag.string.parent)             \n",
    "print type(unicode(tag.string.parent))\n",
    "print type(repr(unicode(tag.string.parent)))"
   ]
  },
  {
   "cell_type": "markdown",
   "metadata": {},
   "source": [
    "or find its parent's parent(now we have the easiest situation, i.e. they have only one direct parent):"
   ]
  },
  {
   "cell_type": "code",
   "execution_count": 46,
   "metadata": {
    "collapsed": false
   },
   "outputs": [
    {
     "name": "stdout",
     "output_type": "stream",
     "text": [
      "<body><b class=\"boldest\">Extremely bold</b></body>\n"
     ]
    }
   ],
   "source": [
    "print tag.string.parent.parent"
   ]
  },
  {
   "cell_type": "markdown",
   "metadata": {},
   "source": [
    "The most common multi-valued attribute is class:"
   ]
  },
  {
   "cell_type": "code",
   "execution_count": 47,
   "metadata": {
    "collapsed": false
   },
   "outputs": [
    {
     "name": "stdout",
     "output_type": "stream",
     "text": [
      "['body', 'strikeout']\n",
      "['body', 'strikeout']\n"
     ]
    }
   ],
   "source": [
    "css_soup = BeautifulSoup('<p class=\"body strikeout\"></p>')\n",
    "print css_soup.p['class']\n",
    "# [\"body\", \"strikeout\"]\n",
    "\n",
    "css_soup = BeautifulSoup('<p class=\"body strikeout\"></p>', \"lxml\")\n",
    "print css_soup.p['class']"
   ]
  },
  {
   "cell_type": "markdown",
   "metadata": {},
   "source": [
    "on the other hand, id is not a multi-valued attribute:"
   ]
  },
  {
   "cell_type": "code",
   "execution_count": 9,
   "metadata": {
    "collapsed": false
   },
   "outputs": [
    {
     "data": {
      "text/plain": [
       "'my id'"
      ]
     },
     "execution_count": 9,
     "metadata": {},
     "output_type": "execute_result"
    }
   ],
   "source": [
    "id_soup = BeautifulSoup('<p id=\"my id\"></p>')\n",
    "id_soup.p['id']\n",
    "# 'my id'"
   ]
  },
  {
   "cell_type": "markdown",
   "metadata": {},
   "source": [
    "Now, let's see a slightly complex situation:"
   ]
  },
  {
   "cell_type": "code",
   "execution_count": 46,
   "metadata": {
    "collapsed": false
   },
   "outputs": [],
   "source": [
    "html_doc = \"\"\"\n",
    "<html><head><title>The Dormouse's story</title></head>\n",
    "<body>\n",
    "<p class=\"title\"><b>The Dormouse's story</b></p>\n",
    "\n",
    "<p class=\"story\">Once upon a time there were three little sisters; and their names were</p>\n",
    "<a href=\"http://example.com/elsie\" class=\"sister\" id=\"link1\">Elsie</a>,\n",
    "<a href=\"http://example.com/lacie\" class=\"sister\" id=\"link2\">Lacie</a> and\n",
    "<a href=\"http://example.com/tillie\" class=\"sister\" id=\"link3\">Tillie</a>;\n",
    "and they lived at the bottom of a well.</p>\n",
    "\n",
    "<p class=\"story\">...</p>\n",
    "\"\"\"\n",
    "soup = BeautifulSoup(html_doc, 'html.parser')"
   ]
  },
  {
   "cell_type": "markdown",
   "metadata": {},
   "source": [
    "First of all, let's see the prettified structure:"
   ]
  },
  {
   "cell_type": "code",
   "execution_count": 47,
   "metadata": {
    "collapsed": false
   },
   "outputs": [
    {
     "name": "stdout",
     "output_type": "stream",
     "text": [
      "<html>\n",
      " <head>\n",
      "  <title>\n",
      "   The Dormouse's story\n",
      "  </title>\n",
      " </head>\n",
      " <body>\n",
      "  <p class=\"title\">\n",
      "   <b>\n",
      "    The Dormouse's story\n",
      "   </b>\n",
      "  </p>\n",
      "  <p class=\"story\">\n",
      "   Once upon a time there were three little sisters; and their names were\n",
      "  </p>\n",
      "  <a class=\"sister\" href=\"http://example.com/elsie\" id=\"link1\">\n",
      "   Elsie\n",
      "  </a>\n",
      "  ,\n",
      "  <a class=\"sister\" href=\"http://example.com/lacie\" id=\"link2\">\n",
      "   Lacie\n",
      "  </a>\n",
      "  and\n",
      "  <a class=\"sister\" href=\"http://example.com/tillie\" id=\"link3\">\n",
      "   Tillie\n",
      "  </a>\n",
      "  ;\n",
      "and they lived at the bottom of a well.\n",
      " </body>\n",
      "</html>\n",
      "<p class=\"story\">\n",
      " ...\n",
      "</p>\n",
      "\n"
     ]
    }
   ],
   "source": [
    "print soup.prettify()"
   ]
  },
  {
   "cell_type": "code",
   "execution_count": 48,
   "metadata": {
    "collapsed": false
   },
   "outputs": [
    {
     "name": "stdout",
     "output_type": "stream",
     "text": [
      "<p class=\"title\"><b>The Dormouse's story</b></p>\n"
     ]
    }
   ],
   "source": [
    "print soup.p"
   ]
  },
  {
   "cell_type": "markdown",
   "metadata": {},
   "source": [
    "apparently, the above is not what I want. I actually would like to obtain all the tags which is labeled as \"p\". This can be achieved by taking the advantage of the method \"find_all\":"
   ]
  },
  {
   "cell_type": "code",
   "execution_count": 52,
   "metadata": {
    "collapsed": false
   },
   "outputs": [
    {
     "name": "stdout",
     "output_type": "stream",
     "text": [
      "<p class=\"title\"><b>The Dormouse's story</b></p>\n",
      "p\n",
      "{u'class': [u'title']}\n",
      "[u'title']\n",
      "<type 'unicode'>\n",
      "The Dormouse's story\n",
      "===================================================================================================\n",
      "<p class=\"story\">Once upon a time there were three little sisters; and their names were</p>\n",
      "p\n",
      "{u'class': [u'story']}\n",
      "[u'story']\n",
      "<type 'unicode'>\n",
      "Once upon a time there were three little sisters; and their names were\n",
      "===================================================================================================\n",
      "<p class=\"story\">...</p>\n",
      "p\n",
      "{u'class': [u'story']}\n",
      "[u'story']\n",
      "<type 'unicode'>\n",
      "...\n",
      "===================================================================================================\n"
     ]
    }
   ],
   "source": [
    "for tag in soup.find_all(\"p\"):\n",
    "    print tag\n",
    "    print tag.name\n",
    "    print tag.attrs\n",
    "    print tag[\"class\"]\n",
    "    print type(tag[\"class\"][0])\n",
    "    print tag.string\n",
    "    print \"===================================================================================================\""
   ]
  },
  {
   "cell_type": "code",
   "execution_count": 81,
   "metadata": {
    "collapsed": false
   },
   "outputs": [
    {
     "name": "stdout",
     "output_type": "stream",
     "text": [
      "u'\\n'\n",
      "'\\n'\n",
      "\n",
      "u\"The Dormouse's story\"\n",
      "\"The Dormouse's story\"\n",
      "\n",
      "u'\\n'\n",
      "'\\n'\n",
      "\n",
      "u'\\n'\n",
      "'\\n'\n",
      "\n",
      "u\"The Dormouse's story\"\n",
      "\"The Dormouse's story\"\n",
      "\n",
      "u'\\n'\n",
      "'\\n'\n",
      "\n",
      "u'Once upon a time there were three little sisters; and their names were'\n",
      "'Once upon a time there were three little sisters; and their names were'\n",
      "\n",
      "u'\\n'\n",
      "'\\n'\n",
      "\n",
      "u'Elsie'\n",
      "'Elsie'\n",
      "\n",
      "u',\\n'\n",
      "',\\n'\n",
      "\n",
      "u'Lacie'\n",
      "'Lacie'\n",
      "\n",
      "u' and\\n'\n",
      "' and\\n'\n",
      "\n",
      "u'Tillie'\n",
      "'Tillie'\n",
      "\n",
      "u';\\nand they lived at the bottom of a well.'\n",
      "';\\nand they lived at the bottom of a well.'\n",
      "\n",
      "u'\\n'\n",
      "'\\n'\n",
      "\n",
      "u'...'\n",
      "'...'\n",
      "\n",
      "u'\\n'\n",
      "'\\n'\n",
      "\n"
     ]
    }
   ],
   "source": [
    "for string in soup.strings:\n",
    "    print(repr(string))\n",
    "    print repr(string.encode(\"ascii\"))\n",
    "    print"
   ]
  },
  {
   "cell_type": "markdown",
   "metadata": {},
   "source": [
    "So many spaces there. The spaces can be removed via stripping the strings:"
   ]
  },
  {
   "cell_type": "code",
   "execution_count": 84,
   "metadata": {
    "collapsed": false
   },
   "outputs": [
    {
     "name": "stdout",
     "output_type": "stream",
     "text": [
      "\"The Dormouse's story\"\n",
      "\"The Dormouse's story\"\n",
      "'Once upon a time there were three little sisters; and their names were'\n",
      "'Elsie'\n",
      "','\n",
      "'Lacie'\n",
      "'and'\n",
      "'Tillie'\n",
      "';\\nand they lived at the bottom of a well.'\n",
      "'...'\n"
     ]
    }
   ],
   "source": [
    "for string in soup.stripped_strings:\n",
    "    print(repr(string.encode(\"ascii\")))"
   ]
  },
  {
   "cell_type": "markdown",
   "metadata": {},
   "source": [
    "Well, we could also put all the stripped strings into a list:"
   ]
  },
  {
   "cell_type": "code",
   "execution_count": 85,
   "metadata": {
    "collapsed": false
   },
   "outputs": [
    {
     "data": {
      "text/plain": [
       "['\"The Dormouse\\'s story\"',\n",
       " '\"The Dormouse\\'s story\"',\n",
       " \"'Once upon a time there were three little sisters; and their names were'\",\n",
       " \"'Elsie'\",\n",
       " \"','\",\n",
       " \"'Lacie'\",\n",
       " \"'and'\",\n",
       " \"'Tillie'\",\n",
       " \"';\\\\nand they lived at the bottom of a well.'\",\n",
       " \"'...'\"]"
      ]
     },
     "execution_count": 85,
     "metadata": {},
     "output_type": "execute_result"
    }
   ],
   "source": [
    "[repr(string.encode(\"ascii\")) for string in soup.stripped_strings]"
   ]
  },
  {
   "cell_type": "code",
   "execution_count": 86,
   "metadata": {
    "collapsed": false
   },
   "outputs": [
    {
     "name": "stdout",
     "output_type": "stream",
     "text": [
      "<html>\n",
      " <head>\n",
      "  <title>\n",
      "   The Dormouse's story\n",
      "  </title>\n",
      " </head>\n",
      " <body>\n",
      "  <p class=\"title\">\n",
      "   <b>\n",
      "    The Dormouse's story\n",
      "   </b>\n",
      "  </p>\n",
      "  <p class=\"story\">\n",
      "   Once upon a time there were three little sisters; and their names were\n",
      "  </p>\n",
      "  <a class=\"sister\" href=\"http://example.com/elsie\" id=\"link1\">\n",
      "   Elsie\n",
      "  </a>\n",
      "  ,\n",
      "  <a class=\"sister\" href=\"http://example.com/lacie\" id=\"link2\">\n",
      "   Lacie\n",
      "  </a>\n",
      "  and\n",
      "  <a class=\"sister\" href=\"http://example.com/tillie\" id=\"link3\">\n",
      "   Tillie\n",
      "  </a>\n",
      "  ;\n",
      "and they lived at the bottom of a well.\n",
      " </body>\n",
      "</html>\n",
      "<p class=\"story\">\n",
      " ...\n",
      "</p>\n",
      "\n"
     ]
    }
   ],
   "source": [
    "print soup.prettify()"
   ]
  },
  {
   "cell_type": "code",
   "execution_count": 89,
   "metadata": {
    "collapsed": false
   },
   "outputs": [
    {
     "name": "stdout",
     "output_type": "stream",
     "text": [
      "<a class=\"sister\" href=\"http://example.com/elsie\" id=\"link1\">Elsie</a>\n",
      "\n",
      "body\n",
      "html\n",
      "[document]\n"
     ]
    }
   ],
   "source": [
    "link = soup.a\n",
    "print link\n",
    "print \n",
    "# <a class=\"sister\" href=\"http://example.com/elsie\" id=\"link1\">Elsie</a>\n",
    "for parent in link.parents:\n",
    "    if parent is None:\n",
    "        print(parent)\n",
    "    else:\n",
    "        print(parent.name)"
   ]
  },
  {
   "cell_type": "markdown",
   "metadata": {},
   "source": [
    "We've successfully found the parent of the specified tag. This can be verified by seeing the structure obtained from the method soup.prettify()."
   ]
  },
  {
   "cell_type": "code",
   "execution_count": 90,
   "metadata": {
    "collapsed": false
   },
   "outputs": [
    {
     "name": "stdout",
     "output_type": "stream",
     "text": [
      "[document]\n",
      "\n",
      "\n",
      "<html><head><title>The Dormouse's story</title></head>\n",
      "<body>\n",
      "<p class=\"title\"><b>The Dormouse's story</b></p>\n",
      "<p class=\"story\">Once upon a time there were three little sisters; and their names were</p>\n",
      "<a class=\"sister\" href=\"http://example.com/elsie\" id=\"link1\">Elsie</a>,\n",
      "<a class=\"sister\" href=\"http://example.com/lacie\" id=\"link2\">Lacie</a> and\n",
      "<a class=\"sister\" href=\"http://example.com/tillie\" id=\"link3\">Tillie</a>;\n",
      "and they lived at the bottom of a well.</body></html>\n",
      "\n",
      "\n",
      "<p class=\"story\">...</p>\n",
      "\n",
      "\n"
     ]
    }
   ],
   "source": [
    "print soup.name\n",
    "\n",
    "for child in soup.children:\n",
    "    print child"
   ]
  },
  {
   "cell_type": "markdown",
   "metadata": {},
   "source": [
    "The above result is understandable since from the method soup.prettify() we know already that $<html>$ and $<p>$ are the direct children of the parent $[document]$."
   ]
  },
  {
   "cell_type": "markdown",
   "metadata": {},
   "source": [
    "Now, let's see its descendants:"
   ]
  },
  {
   "cell_type": "code",
   "execution_count": 63,
   "metadata": {
    "collapsed": false
   },
   "outputs": [
    {
     "name": "stdout",
     "output_type": "stream",
     "text": [
      "body\n",
      "<type 'generator'>\n",
      "\n",
      "\n",
      "<p class=\"title\"><b>The Dormouse's story</b></p>\n",
      "<b>The Dormouse's story</b>\n",
      "The Dormouse's story\n",
      "\n",
      "\n",
      "<p class=\"story\">Once upon a time there were three little sisters; and their names were</p>\n",
      "Once upon a time there were three little sisters; and their names were\n",
      "\n",
      "\n",
      "<a class=\"sister\" href=\"http://example.com/elsie\" id=\"link1\">Elsie</a>\n",
      "Elsie\n",
      ",\n",
      "\n",
      "<a class=\"sister\" href=\"http://example.com/lacie\" id=\"link2\">Lacie</a>\n",
      "Lacie\n",
      " and\n",
      "\n",
      "<a class=\"sister\" href=\"http://example.com/tillie\" id=\"link3\">Tillie</a>\n",
      "Tillie\n",
      ";\n",
      "and they lived at the bottom of a well.\n"
     ]
    }
   ],
   "source": [
    "print soup.body.name\n",
    "print type(soup.body.descendants)\n",
    "\n",
    "for child in soup.body.descendants:\n",
    "    print child"
   ]
  },
  {
   "cell_type": "markdown",
   "metadata": {},
   "source": [
    "idea: to get all the strings of all the \"p\" tags:"
   ]
  },
  {
   "cell_type": "code",
   "execution_count": 62,
   "metadata": {
    "collapsed": false
   },
   "outputs": [
    {
     "name": "stdout",
     "output_type": "stream",
     "text": [
      "<b>The Dormouse's story</b>\n",
      "Once upon a time there were three little sisters; and their names were\n",
      "...\n"
     ]
    }
   ],
   "source": [
    "for single_tag in soup.find_all(\"p\"):\n",
    "    for string in single_tag:\n",
    "        print string"
   ]
  },
  {
   "cell_type": "markdown",
   "metadata": {},
   "source": [
    "Well, not sure if this will be useful. Anyway, let's move on first."
   ]
  },
  {
   "cell_type": "markdown",
   "metadata": {},
   "source": [
    "I now have the problem about the type \"generator\". I'd like to understand both the types \"generator\" and \"iterator\" in Python better."
   ]
  },
  {
   "cell_type": "code",
   "execution_count": 9,
   "metadata": {
    "collapsed": false
   },
   "outputs": [
    {
     "name": "stdout",
     "output_type": "stream",
     "text": [
      "<type 'method-wrapper'>\n",
      "<type 'method-wrapper'>\n",
      "<type 'method-wrapper'>\n"
     ]
    },
    {
     "ename": "AttributeError",
     "evalue": "'int' object has no attribute '__iter__'",
     "output_type": "error",
     "traceback": [
      "\u001b[1;31m---------------------------------------------------------------------------\u001b[0m",
      "\u001b[1;31mAttributeError\u001b[0m                            Traceback (most recent call last)",
      "\u001b[1;32m<ipython-input-9-02efa174793f>\u001b[0m in \u001b[0;36m<module>\u001b[1;34m()\u001b[0m\n\u001b[0;32m      4\u001b[0m \u001b[1;32mprint\u001b[0m \u001b[0mtype\u001b[0m\u001b[1;33m(\u001b[0m\u001b[0ma\u001b[0m\u001b[1;33m.\u001b[0m\u001b[0m__init__\u001b[0m\u001b[1;33m)\u001b[0m\u001b[1;33m\u001b[0m\u001b[0m\n\u001b[0;32m      5\u001b[0m \u001b[1;32mprint\u001b[0m \u001b[0mtype\u001b[0m\u001b[1;33m(\u001b[0m\u001b[0mb\u001b[0m\u001b[1;33m.\u001b[0m\u001b[0m__init__\u001b[0m\u001b[1;33m)\u001b[0m\u001b[1;33m\u001b[0m\u001b[0m\n\u001b[1;32m----> 6\u001b[1;33m \u001b[1;32mprint\u001b[0m \u001b[0mtype\u001b[0m\u001b[1;33m(\u001b[0m\u001b[0mb\u001b[0m\u001b[1;33m.\u001b[0m\u001b[0m__iter__\u001b[0m\u001b[1;33m)\u001b[0m\u001b[1;33m\u001b[0m\u001b[0m\n\u001b[0m",
      "\u001b[1;31mAttributeError\u001b[0m: 'int' object has no attribute '__iter__'"
     ]
    }
   ],
   "source": [
    "a = [1, 2, 3, 4]\n",
    "b=123\n",
    "print type(a.__iter__)\n",
    "print type(a.__init__)\n",
    "print type(b.__init__)\n",
    "print type(b.__iter__)"
   ]
  },
  {
   "cell_type": "markdown",
   "metadata": {},
   "source": [
    ">When Python executes the for loop, it first invokes the $__iter__()$ method of the container to get the iterator of the container. It then repeatedly calls the next() method $__next__()$ method in Python 3.x) of the iterator until the iterator raises a StopIteration exception. Once the exception is raised, the for loop ends."
   ]
  },
  {
   "cell_type": "markdown",
   "metadata": {},
   "source": [
    "which means that a list is iterable. More details see: http://www.shutupandship.com/2012/01/understanding-python-iterables-and.html\n",
    "\n",
    "Let's quote the summary from that site (written by Praveen Gollakota):\n",
    ">If you define a custom container class, think about whether it should also be an iterable. \n",
    "It is quite easy to make a class support the iterator protocol. \n",
    "Doing so will make the syntax more natural.\n",
    "\n",
    "If I can't recall what the above summary says or how to make a class iterable in the future, I'll visit that website again."
   ]
  },
  {
   "cell_type": "markdown",
   "metadata": {},
   "source": [
    "Now, let's continue. What is a generator in Python?"
   ]
  },
  {
   "cell_type": "code",
   "execution_count": 32,
   "metadata": {
    "collapsed": true
   },
   "outputs": [],
   "source": [
    "# Using the generator pattern (an iterable)\n",
    "class firstn(object):\n",
    "    def __init__(self, n):\n",
    "        self.n = n\n",
    "        self.num, self.nums = 0, []\n",
    "    def __iter__(self):\n",
    "        return self\n",
    "    # Python 3 compatibility\n",
    "    def __next__(self):                  # Okay, I knew this. In Python3 one should be using __next__.\n",
    "        return self.next()\n",
    "    def next(self):\n",
    "        if self.num < self.n:\n",
    "            cur, self.num = self.num, self.num+1\n",
    "            return cur\n",
    "        else:\n",
    "            raise StopIteration()"
   ]
  },
  {
   "cell_type": "code",
   "execution_count": 33,
   "metadata": {
    "collapsed": false
   },
   "outputs": [
    {
     "name": "stdout",
     "output_type": "stream",
     "text": [
      "<class '__main__.firstn'>\n",
      "0\n",
      "1\n",
      "2\n",
      "\n",
      "0\n",
      "1\n",
      "2\n"
     ]
    }
   ],
   "source": [
    "print type(firstn(3))\n",
    "for j in firstn(3):\n",
    "    print j\n",
    "print\n",
    "a=firstn(3)\n",
    "for _ in range(3):\n",
    "    print a.next()"
   ]
  },
  {
   "cell_type": "markdown",
   "metadata": {},
   "source": [
    "Well, this I understand. The above is nothing but the concept of the iterator."
   ]
  },
  {
   "cell_type": "markdown",
   "metadata": {},
   "source": [
    "\n",
    "\n",
    "> (https://wiki.python.org/moin/Generators)\n",
    "\n",
    ">Python provides generator functions as a convenient shortcut to building iterators. Lets us rewrite the above iterator as a generator function: "
   ]
  },
  {
   "cell_type": "code",
   "execution_count": 34,
   "metadata": {
    "collapsed": true
   },
   "outputs": [],
   "source": [
    "def firstn(n):\n",
    "    num = 0\n",
    "    while num < n:\n",
    "        yield num\n",
    "        num += 1"
   ]
  },
  {
   "cell_type": "code",
   "execution_count": 38,
   "metadata": {
    "collapsed": false
   },
   "outputs": [
    {
     "name": "stdout",
     "output_type": "stream",
     "text": [
      "0\n",
      "1\n",
      "2\n"
     ]
    }
   ],
   "source": [
    "a=firstn(3)\n",
    "for a in firstn(3):\n",
    "    print a"
   ]
  },
  {
   "cell_type": "markdown",
   "metadata": {},
   "source": [
    "I got it. In this way, the iterator can be built easier. That's it. I think 1) the design pattern of the generator is simpler than the design pattern of the iterator. 2) their behave should be the same."
   ]
  },
  {
   "cell_type": "markdown",
   "metadata": {},
   "source": [
    "Now, due to the string we have got has a special type (NavigableString), we can find the direct parent of these special strings."
   ]
  },
  {
   "cell_type": "code",
   "execution_count": 48,
   "metadata": {
    "collapsed": false
   },
   "outputs": [
    {
     "name": "stdout",
     "output_type": "stream",
     "text": [
      "<body>\n",
      "<p class=\"title\"><b>The Dormouse's story</b></p>\n",
      "<p class=\"story\">Once upon a time there were three little sisters; and their names were</p>\n",
      "<a class=\"sister\" href=\"http://example.com/elsie\" id=\"link1\">Elsie</a>,\n",
      "<a class=\"sister\" href=\"http://example.com/lacie\" id=\"link2\">Lacie</a> and\n",
      "<a class=\"sister\" href=\"http://example.com/tillie\" id=\"link3\">Tillie</a>;\n",
      "and they lived at the bottom of a well.</body>\n"
     ]
    }
   ],
   "source": [
    "print [soup.find_all(\"p\")[j].string for j in range(3)][1].parent.parent"
   ]
  },
  {
   "cell_type": "markdown",
   "metadata": {},
   "source": [
    "Now, let's see if we can print out all the strings of the site:"
   ]
  },
  {
   "cell_type": "code",
   "execution_count": 67,
   "metadata": {
    "collapsed": false
   },
   "outputs": [
    {
     "name": "stdout",
     "output_type": "stream",
     "text": [
      "u'\\n'\n",
      "\n",
      "\n",
      "<class 'bs4.element.NavigableString'>\n",
      "======================================\n",
      "u\"The Dormouse's story\"\n",
      "The Dormouse's story\n",
      "<class 'bs4.element.NavigableString'>\n",
      "======================================\n",
      "u'\\n'\n",
      "\n",
      "\n",
      "<class 'bs4.element.NavigableString'>\n",
      "======================================\n",
      "u'\\n'\n",
      "\n",
      "\n",
      "<class 'bs4.element.NavigableString'>\n",
      "======================================\n",
      "u\"The Dormouse's story\"\n",
      "The Dormouse's story\n",
      "<class 'bs4.element.NavigableString'>\n",
      "======================================\n",
      "u'\\n'\n",
      "\n",
      "\n",
      "<class 'bs4.element.NavigableString'>\n",
      "======================================\n",
      "u'Once upon a time there were three little sisters; and their names were'\n",
      "Once upon a time there were three little sisters; and their names were\n",
      "<class 'bs4.element.NavigableString'>\n",
      "======================================\n",
      "u'\\n'\n",
      "\n",
      "\n",
      "<class 'bs4.element.NavigableString'>\n",
      "======================================\n",
      "u'Elsie'\n",
      "Elsie\n",
      "<class 'bs4.element.NavigableString'>\n",
      "======================================\n",
      "u',\\n'\n",
      ",\n",
      "\n",
      "<class 'bs4.element.NavigableString'>\n",
      "======================================\n",
      "u'Lacie'\n",
      "Lacie\n",
      "<class 'bs4.element.NavigableString'>\n",
      "======================================\n",
      "u' and\\n'\n",
      " and\n",
      "\n",
      "<class 'bs4.element.NavigableString'>\n",
      "======================================\n",
      "u'Tillie'\n",
      "Tillie\n",
      "<class 'bs4.element.NavigableString'>\n",
      "======================================\n",
      "u';\\nand they lived at the bottom of a well.'\n",
      ";\n",
      "and they lived at the bottom of a well.\n",
      "<class 'bs4.element.NavigableString'>\n",
      "======================================\n",
      "u'\\n'\n",
      "\n",
      "\n",
      "<class 'bs4.element.NavigableString'>\n",
      "======================================\n",
      "u'...'\n",
      "...\n",
      "<class 'bs4.element.NavigableString'>\n",
      "======================================\n",
      "u'\\n'\n",
      "\n",
      "\n",
      "<class 'bs4.element.NavigableString'>\n",
      "======================================\n"
     ]
    }
   ],
   "source": [
    "for string in soup.strings:\n",
    "    print(repr(string))\n",
    "    print((string))\n",
    "    print(type(string))\n",
    "    print\"======================================\""
   ]
  },
  {
   "cell_type": "markdown",
   "metadata": {},
   "source": [
    "or the stripped strings(unnecessary spaces are removed)"
   ]
  },
  {
   "cell_type": "code",
   "execution_count": 70,
   "metadata": {
    "collapsed": false
   },
   "outputs": [
    {
     "name": "stdout",
     "output_type": "stream",
     "text": [
      "u\"The Dormouse's story\"\n",
      "u\"The Dormouse's story\"\n",
      "u'Once upon a time there were three little sisters; and their names were'\n",
      "u'Elsie'\n",
      "u','\n",
      "u'Lacie'\n",
      "u'and'\n",
      "u'Tillie'\n",
      "u';\\nand they lived at the bottom of a well.'\n",
      "u'...'\n"
     ]
    }
   ],
   "source": [
    "for string in soup.stripped_strings:\n",
    "    print(repr(string))"
   ]
  },
  {
   "cell_type": "markdown",
   "metadata": {},
   "source": [
    "#### Siblings:"
   ]
  },
  {
   "cell_type": "code",
   "execution_count": 72,
   "metadata": {
    "collapsed": false
   },
   "outputs": [
    {
     "name": "stdout",
     "output_type": "stream",
     "text": [
      "<html>\n",
      " <body>\n",
      "  <a>\n",
      "   <b>\n",
      "    text1\n",
      "   </b>\n",
      "   <c>\n",
      "    text2\n",
      "   </c>\n",
      "  </a>\n",
      " </body>\n",
      "</html>\n"
     ]
    }
   ],
   "source": [
    "sibling_soup = BeautifulSoup(\"<a><b>text1</b><c>text2</c></b></a>\",\"lxml\")\n",
    "print(sibling_soup.prettify())"
   ]
  },
  {
   "cell_type": "code",
   "execution_count": 88,
   "metadata": {
    "collapsed": false
   },
   "outputs": [
    {
     "name": "stdout",
     "output_type": "stream",
     "text": [
      "<c>text2</c>\n",
      "None\n"
     ]
    }
   ],
   "source": [
    "print sibling_soup.b.next_sibling\n",
    "print sibling_soup.b.previous_sibling"
   ]
  },
  {
   "cell_type": "code",
   "execution_count": 89,
   "metadata": {
    "collapsed": false
   },
   "outputs": [
    {
     "name": "stdout",
     "output_type": "stream",
     "text": [
      "None\n",
      "<b>text1</b>\n"
     ]
    }
   ],
   "source": [
    "print sibling_soup.c.next_sibling\n",
    "print sibling_soup.c.previous_sibling"
   ]
  },
  {
   "cell_type": "markdown",
   "metadata": {},
   "source": [
    "back to the soup example. Let's find the siblings of the tag \"a\" in an iterating way."
   ]
  },
  {
   "cell_type": "code",
   "execution_count": 93,
   "metadata": {
    "collapsed": false
   },
   "outputs": [
    {
     "name": "stdout",
     "output_type": "stream",
     "text": [
      "<type 'generator'>\n"
     ]
    }
   ],
   "source": [
    "print type(soup.a.next_siblings)"
   ]
  },
  {
   "cell_type": "markdown",
   "metadata": {},
   "source": [
    "apparently, it is a generator. So, we can do the following:"
   ]
  },
  {
   "cell_type": "code",
   "execution_count": 91,
   "metadata": {
    "collapsed": false
   },
   "outputs": [
    {
     "name": "stdout",
     "output_type": "stream",
     "text": [
      "u',\\n'\n",
      "<a class=\"sister\" href=\"http://example.com/lacie\" id=\"link2\">Lacie</a>\n",
      "u' and\\n'\n",
      "<a class=\"sister\" href=\"http://example.com/tillie\" id=\"link3\">Tillie</a>\n",
      "u';\\nand they lived at the bottom of a well.'\n"
     ]
    }
   ],
   "source": [
    "for sibling in soup.a.next_siblings:\n",
    "    print(repr(sibling))"
   ]
  },
  {
   "cell_type": "code",
   "execution_count": 33,
   "metadata": {
    "collapsed": false,
    "scrolled": true
   },
   "outputs": [
    {
     "name": "stdout",
     "output_type": "stream",
     "text": [
      "/*<![CDATA[*/\n",
      "var jlocation=[25.0516953,121.5606501,'台北市松山區南京東路五段99號'];\n",
      "var jcate = {'資料庫管理人員' : ['https://pda.104.com.tw/my104/assist/analysisdetail?JOBCAT=2007002002', 'https://www.104.com.tw/jobbank/joblist/joblist.cfm?cat=2007002002'],'演算法開發工程師' : ['https://pda.104.com.tw/my104/assist/analysisdetail?JOBCAT=2007001012', 'https://www.104.com.tw/jobbank/joblist/joblist.cfm?cat=2007001012'],'軟體設計工程師' : ['https://pda.104.com.tw/my104/assist/analysisdetail?JOBCAT=2007001004', 'https://www.104.com.tw/jobbank/joblist/joblist.cfm?cat=2007001004']}\n",
      "var g_baseUrl='/job';\n",
      "var g_staticUrl='https://static.104.com.tw/104main';\n",
      "var g_mainUrl='https://www.104.com.tw';\n",
      "/*]]>*/\n",
      "IH-數據資料工程師(上班地點:台北市南京東路)_麗寶大數據股份有限公司 - 104人力銀行\n",
      "IH-數據資料工程師(上班地點:台北市南京東路)\n",
      "麗寶大數據股份有限公司\n",
      "本公司其他工作\n",
      "我要應徵\n",
      "處理中...\n",
      "儲存工作\n",
      "處理中...\n",
      "6~10人應徵\n",
      "FB 分享\n",
      "轉寄\n",
      "檢舉\n",
      "工作內容\n",
      "1. 從大量資料中找出 model/pattern\n",
      "2. 透過資料驗證 pattern/model\n",
      "3. 演算法最佳化\n",
      "4. 效能評估\n",
      "5. 即時資料分析\n",
      "6. 自行開發資料測試與驗證程式\n",
      "7. 閱讀與研究推薦/分析演算法論文\n",
      "8. 實作推薦/與資料分析演算法\n",
      "職務類別：\n",
      "資料庫管理人員\n",
      "、\n",
      "演算法開發工程師\n",
      "、\n",
      "軟體設計工程師\n",
      "認識「\n",
      "」職務\n",
      "詳細職類分析(工作內容、薪資分布..)\n",
      "更多相關工作\n",
      "工作待遇：\n",
      "面議\n",
      "工作性質：\n",
      "全職\n",
      "上班地點：\n",
      "台北市松山區南京東路五段99號\n",
      "地圖找工作\n",
      "管理責任：\n",
      "不需負擔管理責任\n",
      "出差外派：\n",
      "無需出差外派\n",
      "上班時段：\n",
      "日班，08:30~17:30\n",
      "休假制度：\n",
      "週休二日\n",
      "可上班日：\n",
      "一個月內\n",
      "需求人數：\n",
      "1至2 人\n",
      "條件要求\n",
      "接受身份：\n",
      "上班族\n",
      "工作經歷：\n",
      "3年以上\n",
      "學歷要求：\n",
      "專科以上\n",
      "科系要求：\n",
      "應用數學相關、資訊工程相關\n",
      "語文條件：\n",
      "英文\n",
      "-- 聽 /中等、說 /中等、讀 /中等、寫 /中等\n",
      "擅長工具：\n",
      "不拘\n",
      "工作技能：\n",
      "不拘\n",
      "其他條件：\n",
      "1. 一年以上 Machine Learning/Data Mining/演算法/資料分析經驗\n",
      "2. 熟悉 Machine Learning/Data Analytics 技巧與演算法\n",
      "3. 熟悉 Python/C/C++/Java/Perl 任一\n",
      "4. 良好的溝通能力\n",
      "5. 能夠將分析方式轉換成程式實作\n",
      "公司福利\n",
      "一、健康關懷及保險醫療\n",
      "1. 勞保、健保\n",
      "2. 員工暨眷屬團體保險及各項醫療補助\n",
      "3. 年度員工身體健康檢查及流感疫苗施打\n",
      "4. 員工因工作之公傷，公司全額支付薪資\n",
      "5. 婚、喪、喜慶、生育等津貼補助\n",
      "二、員工教育訓練發展\n",
      "1. 新進人員教育訓練\n",
      "2. 專業技能訓練\n",
      "3. 管理技能訓練\n",
      "4. 品質管理訓練\n",
      "5. 研發相關課程及講座\n",
      "6. E-Learning線上學習\n",
      "三、獎金及禮品\n",
      "1. 年節、端午、中秋三節獎金\n",
      "2. 年度績效獎金\n",
      "3. 生日禮品及五一勞動節禮品\n",
      "4. 員工子女教育獎助學金\n",
      "四、年度旅遊及聯誼活動\n",
      "1. 國內員工旅遊\n",
      "2. 國外員工旅遊\n",
      "3. 藝文、登山、健行活動\n",
      "4. 社團及聯誼活動\n",
      "五、員工激勵及獎勵\n",
      "1. 暢通的升遷管道\n",
      "2. 優渥的語文獎勵金\n",
      "3. 專業證照獎勵金\n",
      "4. 專利研發獎金\n",
      "六、其他福利措施\n",
      "1. 免費供應午餐\n",
      "2. 健全的勞工退休金提撥制度\n",
      "每月按應發薪資總額提撥6％為員工之退休金\n",
      "3. 公司車位費用補助\n",
      "4. 13線員工交通車\n",
      "5. 哺乳室\n",
      "6. 視障按摩\n",
      "聯絡方式\n",
      "聯絡人：\n",
      "陳小姐\n",
      "其他：\n",
      "徵選未通過不再另行通知\n",
      "更新日期：2016-10-20\n",
      "與IH-數據資料工程師(上班地點:台北市南京東路)相關的工作\n",
      "推薦工作\n",
      "104 智能管家依據您平常儲存、應徵工作的喜好，為您推薦工作！\n",
      "請先登入\n",
      "My104 會員中心\n",
      "看過此工作的人也看以下工作\n",
      "推薦課程\n",
      "環境照片\n",
      "台北、新北、台南辦公室，人才強力招募中!\n",
      "1\n",
      "/\n",
      "4\n",
      "瀏覽工作紀錄\n",
      "清除\n",
      "104提醒：\n",
      "求職應徵請準時赴約並注意安全。如有公司要求您交付提款卡及密碼、信用卡、銀行郵局帳號、身分證，及要求繳費、購買服務或產品等情事，請勿進行並速與警方反詐騙專線165聯繫。\n",
      "看更多>>\n",
      "104 客服\n",
      "我是求職者\n",
      "求職服務專線\n",
      "02-2912-6104 轉2\n",
      "求職客服信箱\n",
      "職場安全諮詢專線\n",
      "我是求才廠商\n",
      "廠商求才專線\n",
      "台北 02-2912-6104\n",
      "台中 04-3700-6104\n",
      "上海 86-21-50277104 轉1\n",
      "求才客服信箱\n",
      "服務時間：週一至週五9:00~19:00\n",
      "職場安全諮詢專線\n",
      "104 人力銀行網站由一零四資訊股份有限公司創設。建議瀏覽器版本為 IE9.0 以上\n",
      "本網站內容享有著作權，禁止侵害，違者必究。 © 2016 104 Corporation All Rights Reserved.\n",
      "_atrk_opts = {\n",
      "atrk_acct:\"lRlHh1awVK00wf\", domain:\"104.com.tw\",dynamic: true};\n",
      "(function() {\n",
      "\tvar as = document.createElement('script'); as.type = 'text/javascript'; as.async = true; as.src = \"https://d31qbv1cthcecs.cloudfront.net/atrk.js\"; var s = document.getElementsByTagName('script')[0];s.parentNode.insertBefore(as, s);\n",
      "})();\n",
      "/*<![CDATA[*/\n",
      "setTimeout(function(){setHistoryLogs('IH-數據資料工程師(上班地點:台北市南京東路)@@@4x4f5@@@/job/?jobno=4x4f5@@@麗寶大數據股份有限公司', 'jobRecContentV1')}, 1000);\n",
      "function gaApply(){\n",
      "\tGAEvent('jobSorting','Apply', 'N_B');\t//個人化排序實驗，點應徵\n",
      "}\n",
      "function gaSave(){\n",
      "\tGAEvent('jobSorting','Save', 'N_B');\t//個人化排序實驗，點儲存\n",
      "}\n",
      "function gaLoad(){\n",
      "\tGAEvent('jobSorting','Load', 'N_B');\t//個人化排序實驗，一Load進頁面觸發\n",
      "}\n",
      "try {\n",
      "  (function(i,s,o,g,r,a,m){i['GoogleAnalyticsObject']=r;i[r]=i[r]||function(){\n",
      "  (i[r].q=i[r].q||[]).push(arguments)},i[r].l=1*new Date();a=s.createElement(o),\n",
      "  m=s.getElementsByTagName(o)[0];a.async=1;a.src=g;m.parentNode.insertBefore(a,m)\n",
      "  })(window,document,'script','//www.google-analytics.com/analytics.js','ga');\n",
      "} catch(err) {}\n",
      "ga('create', 'UA-15276226-1', {'cookieDomain': '104.com.tw'});\n",
      "ga('require', 'displayfeatures');\n",
      "ga('send', 'pageview', '/job'); //工作頁\n",
      "GAEvent=function(category, action, opt_label, opt_value){\n",
      "\tga('send', 'event', category, action, opt_label, opt_value);\n",
      "};\n",
      "if(typeof(gaLoad) != \"undefined\"){\n",
      "\tgaLoad();\n",
      "}\n",
      "$(document).ready(function() {$('#personalJob').show(); jbAjax({dataType:\"json\", type: \"GET\", url: \"/job/AjaxSimilar?jobno=4x4f5&u=ofsot5\",success: renderJobs});jbAjax({dataType:\"json\", type: \"GET\", url: \"https://www.104.com.tw/jb/104i/class/classInfo?j=5d6f41253b353f202020201b373a2524290j00&pages=5\",success:\n",
      "\tfunction(obj){\n",
      "\t\tif(obj && typeof obj === 'object' && obj.length > 0){\n",
      "\t\t\tvar lengths = 5;\n",
      "\t\t\tvar url = 'https://learn.104.com.tw/cfdocs/v2/class.cfm?from=104jobc_8263841_130000000078553';\n",
      "\t\t\tvar data = {'id':'recommendclass','adcNo':'153691', 'data':[]};\n",
      "\t\t\tif(lengths > obj.length)\n",
      "\t\t\t\tlengths = obj.length;\n",
      "\t\t\tfor (var i=0; i<lengths; i++){\n",
      "\t\t\t\tvar tmpData = {};\n",
      "\t\t\t\tvar tmpP = '&theclass='+obj[i].classCode+'&school='+obj[i].schoolCode;\n",
      "\t\t\t\ttmpData['url'] = url+tmpP;\n",
      "\t\t\t\ttmpData['name'] = obj[i].className;\n",
      "\t\t\t\tdata.data[i] = tmpData;\n",
      "\t\t\t}\n",
      "\t\t\trecommendClass(data);\n",
      "\t\t}\n",
      "\t}\t\n",
      "});initSaveJob({status:\"200\",data:{message:\"儲存工作\", newUrl: \"/job/AjaxSaveJob?jobno=4x4f5&type=insert&jobsource=n104bank1&u=ofsot5\",newType : \"insert\"}});jbAjax({dataType:\"json\", type: \"GET\", url: \"/job/index/ajaxGetAccountInfo?jobno=4x4f5&u=ofsot5\",success: function(){}});});\n",
      "/*]]>*/\n"
     ]
    }
   ],
   "source": [
    "site = urllib2.urlopen(\"https://www.104.com.tw/job/?jobno=4x4f5&jobsource=n104bank1&hotjob_chr=\").read()\n",
    "import html5lib\n",
    "soup_obj = BeautifulSoup(site, \"html5lib\")\n",
    "\n",
    "soup_obj.get_text()\n",
    "\n",
    "for string in soup_obj.stripped_strings:\n",
    "    print string"
   ]
  },
  {
   "cell_type": "markdown",
   "metadata": {},
   "source": [
    "#### Now, let's try to retreive texts from a site for test:"
   ]
  },
  {
   "cell_type": "code",
   "execution_count": 136,
   "metadata": {
    "collapsed": false
   },
   "outputs": [],
   "source": [
    "def text_cleaner(url):\n",
    "    session = requests.Session()\n",
    "    soup = BeautifulSoup(session.get(url).content, 'lxml')  # let our beautiful soup to parse the site\n",
    "\n",
    "    for script in soup([\"script\", \"style\"]):           # Remove these two unnecessary tags: \"script\" and \"style\"\n",
    "        _=script.extract()                       \n",
    "\n",
    "    stopwords = nltk.corpus.stopwords.words('english') # a list of words which are not important\n",
    "                                                       # we will ignore these words if they show up in the context\n",
    "    text=soup.get_text(\" \",strip=True)\n",
    "    text=re.sub(r\"[^a-zA-Z.3+]\",\" \",text)              # preserve . and 3 for \"d3.js\". Also, preserve \"+\" for \"c++\"\n",
    "\n",
    "    content=[w.strip(\".\") for w in text.lower().split() if w not in stopwords] # remove any \".\" if it's contained \n",
    "                                                                               # at the begin or the end of the string\n",
    "    return content"
   ]
  },
  {
   "cell_type": "code",
   "execution_count": 137,
   "metadata": {
    "collapsed": true
   },
   "outputs": [],
   "source": [
    "def skills_info(city = None, state = None):\n",
    "    city_title = city\n",
    "    if city is None:\n",
    "        city_title = 'Nationwide'\n",
    "\n",
    "    session = requests.Session()\n",
    "\n",
    "    final_site_list = ['http://www.indeed.com/jobs?q=%22','data+scientist', '%22&l=', city_title,\n",
    "                    '%2C+', state]\n",
    "    final_site = \"\".join(final_site_list)\n",
    "    base_URL = \"http://www.indeed.com\"\n",
    "    print final_site\n",
    "\n",
    "    soup = BeautifulSoup(session.get(final_site).content,\"lxml\")\n",
    "    print soup.find(id = \"searchCount\")\n",
    "    num_jobs_area=soup.find(id = \"searchCount\").string\n",
    "\n",
    "    job_numbers = re.findall(\"\\d+\", num_jobs_area)\n",
    "    if len(job_numbers) > 3: # Have a total number of jobs greater than 1000\n",
    "        total_num_jobs = (int(job_numbers[2])*1000) + int(job_numbers[3])\n",
    "    else:\n",
    "        total_num_jobs = int(job_numbers[2])\n",
    "\n",
    "    num_pages = total_num_jobs/10 # This will be how we know the number of times we need to iterate over each new\n",
    "                                          # search result page\n",
    "    print \"num_pages=\",num_pages\n",
    "\n",
    "    job_descriptions = [] # store all our descriptions in this list\n",
    "    for i in range(num_pages+1): # loop through all of our search result pages\n",
    "    #for i in (0,):\n",
    "        start_num = str(i*10) # assign the multiplier of 10 to view the pages we want\n",
    "        current_page = \"\".join([final_site, \"&start=\", start_num])\n",
    "        print \"Getting page\", i,\"start_num=\",start_num\n",
    "        print current_page\n",
    "        job_link_area = BeautifulSoup(session.get(current_page).content,\"lxml\") # locate all of the job links within the <body> area\n",
    "        #join the URL base and the tail part of the URL using urlparse package:\n",
    "        job_URLs=[urlparse.urljoin(base_URL,link.a.get('href')) for link in job_link_area.select( 'h2[class=\"jobtitle\"]')]\n",
    "        print job_URLs,len(job_URLs)\n",
    "\n",
    "        for URL in job_URLs:\n",
    "            final_description = text_cleaner(URL)\n",
    "            job_descriptions.append(final_description)\n",
    "            sleep(1) # so that we don't be jerks. If you have a very fast internet connection you could hit the server a lot! \n",
    "\n",
    "    doc_frequency=Counter()\n",
    "    for item in job_descriptions:\n",
    "        doc_frequency.update(item)      # add all the words to the counter table and count the frequency of each words\n",
    "    #print doc_frequency.most_common(10)\n",
    "    print 'Done with collecting the job postings!'\n",
    "    print 'There were', len(job_descriptions), 'jobs successfully found.'\n",
    "\n",
    "    # Obtain our key terms and store them in a dict. These are the key data science skills we are looking for\n",
    "\n",
    "    prog_lang_dict = Counter({'R':doc_frequency['r'], 'Python':doc_frequency['python'],\n",
    "                        'Java':doc_frequency['java'], 'C++':doc_frequency['c++'],\n",
    "                        'Ruby':doc_frequency['ruby'],\n",
    "                        'Perl':doc_frequency['perl'], 'Matlab':doc_frequency['matlab'],\n",
    "                        'JavaScript':doc_frequency['javascript'], 'Scala': doc_frequency['scala']})\n",
    "    analysis_tool_dict = Counter({'Excel':doc_frequency['excel'],  'Tableau':doc_frequency['tableau'],\n",
    "                            'D3.js':doc_frequency['d3.js'], 'SAS':doc_frequency['sas'],\n",
    "                            'SPSS':doc_frequency['spss'], 'D3':doc_frequency['d3']})  \n",
    "    hadoop_dict = Counter({'Hadoop':doc_frequency['hadoop'], 'MapReduce':doc_frequency['mapreduce'],\n",
    "                    'Spark':doc_frequency['spark'], 'Pig':doc_frequency['pig'],\n",
    "                    'Hive':doc_frequency['hive'], 'Shark':doc_frequency['shark'],\n",
    "                    'Oozie':doc_frequency['oozie'], 'ZooKeeper':doc_frequency['zookeeper'],\n",
    "                    'Flume':doc_frequency['flume'], 'Mahout':doc_frequency['mahout']})\n",
    "    database_dict = Counter({'SQL':doc_frequency['sql'], 'NoSQL':doc_frequency['nosql'],\n",
    "                        'HBase':doc_frequency['hbase'], 'Cassandra':doc_frequency['cassandra'],\n",
    "                        'MongoDB':doc_frequency['mongodb']})\n",
    "    overall_total_skills = prog_lang_dict + analysis_tool_dict + hadoop_dict + database_dict # Combine our Counter objects\n",
    "\n",
    "    final_frame = pd.DataFrame(overall_total_skills.items(), columns = ['Term', 'NumPostings']) # Convert these terms to a \n",
    "                                                                                                    # dataframe \n",
    "    # Change the values to reflect a percentage of the postings \n",
    "    final_frame.NumPostings = (final_frame.NumPostings)*100/len(job_descriptions) # Gives percentage of job postings \n",
    "                                                                                        #  having that term \n",
    "\n",
    "    # Sort the data for plotting purposes\n",
    "    final_frame.sort_values('NumPostings', ascending = False, inplace = True)\n",
    "    print final_frame\n",
    "    # Get it ready for a bar plot\n",
    "    final_plot = final_frame.plot(x = 'Term', kind = 'bar', legend = None, \n",
    "                                title = 'Percentage of Data Scientist Job Ads with a Key Skill, ' + city_title)\n",
    "    final_plot.set_ylabel('Percentage Appearing in Job Ads')\n",
    "    fig = final_plot.get_figure() # Have to convert the pandas plot object to a matplotlib object\n",
    "    fig.savefig(city_title+\".svg\")\n",
    "    #return fig,final_frame"
   ]
  },
  {
   "cell_type": "code",
   "execution_count": 165,
   "metadata": {
    "collapsed": false
   },
   "outputs": [
    {
     "name": "stdout",
     "output_type": "stream",
     "text": [
      "https://www.104.com.tw/jobbank/joblist/joblist.cfm?jobsource=n104bank1&ro=0&keyword=data+scientist&order=2&asc=0&page=1\n",
      "58\n",
      "num_pages= 3\n"
     ]
    }
   ],
   "source": [
    "session = requests.Session()\n",
    "\n",
    "final_site_list = ['https://www.104.com.tw/jobbank/joblist/joblist.cfm?jobsource=n104bank1&ro=0&keyword=','data+scientist','&order=2&asc=0&page=1']\n",
    "final_site = \"\".join(final_site_list)\n",
    "base_URL = \"https://www.104.com.tw/\"\n",
    "print final_site\n",
    "\n",
    "soup = BeautifulSoup(session.get(final_site).content,\"lxml\")\n",
    "#print soup.find(class_=\"joblist_bar\")\n",
    "num_jobs_area=soup.select('li[class=\"right\"]')\n",
    "#print type(num_jobs_area)\n",
    "#print num_jobs_area[0]\n",
    "total_num_jobs = int( re.findall(\"\\d+\", str(num_jobs_area[0]))[0] )\n",
    "\n",
    "print \"num_jobs=\",total_num_jobs\n",
    "\n",
    "if(total_num_jobs%20)==0:\n",
    "    num_pages = total_num_jobs/20\n",
    "else:\n",
    "    num_pages=1+total_num_jobs/20\n",
    "\n",
    "print \"num_pages=\",num_pages\n",
    "\n",
    "job_descriptions = [] # store all our descriptions in this list\n",
    "#for i in range(num_pages+1): # loop through all of our search result pages\n",
    "for i in (1,):\n",
    "    start_num = str(i) # assign the multiplier of 10 to view the pages we want\n",
    "    \n",
    "    final_site_list = ['https://www.104.com.tw/jobbank/joblist/joblist.cfm?jobsource=n104bank1&ro=0&keyword=','data+scientist','&order=2&asc=0']\n",
    "    final_site = \"\".join(final_site_list)\n",
    "    current_page = \"\".join([final_site, \"&page=\", start_num])\n",
    "    print \"Getting page\", i,\"start_num=\",start_num\n",
    "    print current_page\n",
    "    job_link_area = BeautifulSoup(session.get(current_page).content,\"lxml\") # locate all of the job links within the <body> area\n",
    "    #join the URL base and the tail part of the URL using urlparse package:\n",
    "    job_URLs=[urlparse.urljoin(base_URL,link.a.get('href')) for link in job_link_area.select( 'h2[class=\"jobtitle\"]')]\n",
    "    print job_URLs,len(job_URLs)\n",
    "\n",
    "    for URL in job_URLs:\n",
    "        final_description = text_cleaner(URL)\n",
    "        job_descriptions.append(final_description)\n",
    "        sleep(1) # so that we don't be jerks. If you have a very fast internet connection you could hit the server a lot! \n",
    "\n",
    "doc_frequency=Counter()\n",
    "for item in job_descriptions:\n",
    "    doc_frequency.update(item)      # add all the words to the counter table and count the frequency of each words\n",
    "#print doc_frequency.most_common(10)\n",
    "print 'Done with collecting the job postings!'\n",
    "print 'There were', len(job_descriptions), 'jobs successfully found.'\n",
    "\n",
    "# Obtain our key terms and store them in a dict. These are the key data science skills we are looking for\n",
    "\n",
    "prog_lang_dict = Counter({'R':doc_frequency['r'], 'Python':doc_frequency['python'],\n",
    "                    'Java':doc_frequency['java'], 'C++':doc_frequency['c++'],\n",
    "                    'Ruby':doc_frequency['ruby'],\n",
    "                    'Perl':doc_frequency['perl'], 'Matlab':doc_frequency['matlab'],\n",
    "                    'JavaScript':doc_frequency['javascript'], 'Scala': doc_frequency['scala']})\n",
    "analysis_tool_dict = Counter({'Excel':doc_frequency['excel'],  'Tableau':doc_frequency['tableau'],\n",
    "                        'D3.js':doc_frequency['d3.js'], 'SAS':doc_frequency['sas'],\n",
    "                        'SPSS':doc_frequency['spss'], 'D3':doc_frequency['d3']})  \n",
    "hadoop_dict = Counter({'Hadoop':doc_frequency['hadoop'], 'MapReduce':doc_frequency['mapreduce'],\n",
    "                'Spark':doc_frequency['spark'], 'Pig':doc_frequency['pig'],\n",
    "                'Hive':doc_frequency['hive'], 'Shark':doc_frequency['shark'],\n",
    "                'Oozie':doc_frequency['oozie'], 'ZooKeeper':doc_frequency['zookeeper'],\n",
    "                'Flume':doc_frequency['flume'], 'Mahout':doc_frequency['mahout']})\n",
    "database_dict = Counter({'SQL':doc_frequency['sql'], 'NoSQL':doc_frequency['nosql'],\n",
    "                    'HBase':doc_frequency['hbase'], 'Cassandra':doc_frequency['cassandra'],\n",
    "                    'MongoDB':doc_frequency['mongodb']})\n",
    "overall_total_skills = prog_lang_dict + analysis_tool_dict + hadoop_dict + database_dict # Combine our Counter objects\n",
    "\n",
    "final_frame = pd.DataFrame(overall_total_skills.items(), columns = ['Term', 'NumPostings']) # Convert these terms to a \n",
    "                                                                                                # dataframe \n",
    "# Change the values to reflect a percentage of the postings \n",
    "final_frame.NumPostings = (final_frame.NumPostings)*100/len(job_descriptions) # Gives percentage of job postings \n",
    "                                                                                    #  having that term \n",
    "\n",
    "# Sort the data for plotting purposes\n",
    "final_frame.sort_values('NumPostings', ascending = False, inplace = True)\n",
    "print final_frame\n",
    "# Get it ready for a bar plot\n",
    "final_plot = final_frame.plot(x = 'Term', kind = 'bar', legend = None, \n",
    "                            title = 'Percentage of Data Scientist Job Ads with a Key Skill, ' + city_title)\n",
    "final_plot.set_ylabel('Percentage Appearing in Job Ads')\n",
    "fig = final_plot.get_figure() # Have to convert the pandas plot object to a matplotlib object\n",
    "fig.savefig(city_title+\".svg\")"
   ]
  },
  {
   "cell_type": "code",
   "execution_count": 140,
   "metadata": {
    "collapsed": false
   },
   "outputs": [
    {
     "name": "stdout",
     "output_type": "stream",
     "text": [
      "https://www.104.com.tw/jobbank/joblist/joblist.cfm?jobsource=n104bank1&ro=0&keyword=data+scientist&order=2&asc=0&page=1\n",
      "<div class=\"joblist_bar\">\n",
      "<ul>\n",
      "<li class=\"right\">共 58 筆，第 1 頁 \n",
      "\t\t\t\t\t<span class=\"arrow\"><a href=\"javascript:void(0);\" onclick=\"$('#box_page_top').show();\" onmousedown=\"joblist_click('152993');\">▼</a></span></li>\n",
      "<li class=\"right\">摘要 ∣ <a href=\"javascript:void(0);\" onclick=\"switch_dis_list('list');return false;\">列表</a></li>\n",
      "<li class=\"left\"><input class=\"gray\" name=\"btn_save\" onclick=\"to_buffet();\" type=\"button\" value=\"儲存工作\"/></li>\n",
      "<li>\n",
      "\t\t\t\t\t目前排序：\n",
      "\t\t\t\t\t<div class=\"sortlist_menu w130\">\n",
      "<a href=\"javascript:void(0);\" id=\"sort_select\">日期 新→舊</a>\n",
      "<ul class=\"w130 other_option_box\" id=\"other_select\"><li><a href=\"javascript:void(0);\" onclick=\"sort('2','1');return false;\">日期 舊→新</a></li><li><a href=\"javascript:void(0);\" onclick=\"sort('5','0');return false;\">地區</a></li><li><a href=\"javascript:void(0);\" onclick=\"sort('1','0');return false;\">相關性</a></li><li><a href=\"javascript:void(0);\" onclick=\"sort('3','0');return false;\">經歷 多→少</a></li><li><a href=\"javascript:void(0);\" onclick=\"sort('3','1');return false;\">經歷 少→多</a></li><li><a href=\"javascript:void(0);\" onclick=\"sort('4','0');return false;\">學歷 高→低</a></li><li><a href=\"javascript:void(0);\" onclick=\"sort('4','1');return false;\">學歷 低→高</a></li><li><a href=\"javascript:void(0);\" onclick=\"sort('7','0');return false;\">應徵人數 高→低</a></li><li><a href=\"javascript:void(0);\" onclick=\"sort('7','1');return false;\">應徵人數 低→高</a></li><li><a href=\"javascript:void(0);\" onclick=\"sort('6','1');return false;\">待遇 高→低</a></li><li><a href=\"javascript:void(0);\" onclick=\"sort('6','0');return false;\">待遇 低→高</a></li>\n",
      "</ul>\n",
      "</div>\n",
      "</li>\n",
      "<script type=\"text/javascript\">\n",
      "\t\t\t\t\t$(\"#sort_select\").click(function () {\n",
      "\t\t\t\t\t\t$(\"#other_select\").toggle();\n",
      "\t\t\t\t\t});\n",
      "\t\t\t\t</script>\n",
      "</ul>\n",
      "</div>\n"
     ]
    },
    {
     "ename": "TypeError",
     "evalue": "expected string or buffer",
     "output_type": "error",
     "traceback": [
      "\u001b[1;31m---------------------------------------------------------------------------\u001b[0m",
      "\u001b[1;31mTypeError\u001b[0m                                 Traceback (most recent call last)",
      "\u001b[1;32m<ipython-input-140-4e445ecd7e10>\u001b[0m in \u001b[0;36m<module>\u001b[1;34m()\u001b[0m\n\u001b[0;32m     10\u001b[0m \u001b[0mnum_jobs_area\u001b[0m\u001b[1;33m=\u001b[0m\u001b[0msoup\u001b[0m\u001b[1;33m.\u001b[0m\u001b[0mfind\u001b[0m\u001b[1;33m(\u001b[0m\u001b[0mclass_\u001b[0m\u001b[1;33m=\u001b[0m\u001b[1;34m\"joblist_bar\"\u001b[0m\u001b[1;33m)\u001b[0m\u001b[1;33m.\u001b[0m\u001b[0mul\u001b[0m\u001b[1;33m.\u001b[0m\u001b[0mli\u001b[0m\u001b[1;33m.\u001b[0m\u001b[0mstring\u001b[0m\u001b[1;33m\u001b[0m\u001b[0m\n\u001b[0;32m     11\u001b[0m \u001b[1;33m\u001b[0m\u001b[0m\n\u001b[1;32m---> 12\u001b[1;33m \u001b[0mjob_numbers\u001b[0m \u001b[1;33m=\u001b[0m \u001b[0mre\u001b[0m\u001b[1;33m.\u001b[0m\u001b[0mfindall\u001b[0m\u001b[1;33m(\u001b[0m\u001b[1;34m\"\\d+\"\u001b[0m\u001b[1;33m,\u001b[0m \u001b[0mnum_jobs_area\u001b[0m\u001b[1;33m)\u001b[0m\u001b[1;33m\u001b[0m\u001b[0m\n\u001b[0m\u001b[0;32m     13\u001b[0m \u001b[1;32mprint\u001b[0m \u001b[0mjob_numbers\u001b[0m\u001b[1;33m\u001b[0m\u001b[0m\n\u001b[0;32m     14\u001b[0m \u001b[1;31m#if len(job_numbers) > 3: # Have a total number of jobs greater than 1000\u001b[0m\u001b[1;33m\u001b[0m\u001b[1;33m\u001b[0m\u001b[0m\n",
      "\u001b[1;32mC:\\Users\\Student\\Anaconda2\\lib\\re.pyc\u001b[0m in \u001b[0;36mfindall\u001b[1;34m(pattern, string, flags)\u001b[0m\n\u001b[0;32m    179\u001b[0m \u001b[1;33m\u001b[0m\u001b[0m\n\u001b[0;32m    180\u001b[0m     Empty matches are included in the result.\"\"\"\n\u001b[1;32m--> 181\u001b[1;33m     \u001b[1;32mreturn\u001b[0m \u001b[0m_compile\u001b[0m\u001b[1;33m(\u001b[0m\u001b[0mpattern\u001b[0m\u001b[1;33m,\u001b[0m \u001b[0mflags\u001b[0m\u001b[1;33m)\u001b[0m\u001b[1;33m.\u001b[0m\u001b[0mfindall\u001b[0m\u001b[1;33m(\u001b[0m\u001b[0mstring\u001b[0m\u001b[1;33m)\u001b[0m\u001b[1;33m\u001b[0m\u001b[0m\n\u001b[0m\u001b[0;32m    182\u001b[0m \u001b[1;33m\u001b[0m\u001b[0m\n\u001b[0;32m    183\u001b[0m \u001b[1;32mif\u001b[0m \u001b[0msys\u001b[0m\u001b[1;33m.\u001b[0m\u001b[0mhexversion\u001b[0m \u001b[1;33m>=\u001b[0m \u001b[1;36m0x02020000\u001b[0m\u001b[1;33m:\u001b[0m\u001b[1;33m\u001b[0m\u001b[0m\n",
      "\u001b[1;31mTypeError\u001b[0m: expected string or buffer"
     ]
    }
   ],
   "source": [
    "session = requests.Session()\n",
    "\n",
    "final_site_list = ['https://www.104.com.tw/jobbank/joblist/joblist.cfm?jobsource=n104bank1&ro=0&keyword=','data+scientist','&order=2&asc=0&page=1']\n",
    "final_site = \"\".join(final_site_list)\n",
    "base_URL = \"https://www.104.com.tw/\"\n",
    "print final_site\n",
    "\n",
    "soup = BeautifulSoup(session.get(final_site).content,\"lxml\")\n",
    "print soup.find(class_=\"joblist_bar\")\n",
    "num_jobs_area=soup.find(class_=\"joblist_bar\").ul.li.string\n",
    "\n",
    "job_numbers = re.findall(\"\\d+\", num_jobs_area)\n",
    "print job_numbers\n",
    "#if len(job_numbers) > 3: # Have a total number of jobs greater than 1000\n",
    "#    total_num_jobs = (int(job_numbers[2])*1000) + int(job_numbers[3])\n",
    "#else:\n",
    "#    total_num_jobs = int(job_numbers[2])\n",
    "\n",
    "num_pages = total_num_jobs/20 # This will be how we know the number of times we need to iterate over each new\n",
    "                                      # search result page\n",
    "print \"num_pages=\",num_pages\n",
    "\n",
    "job_descriptions = [] # store all our descriptions in this list\n",
    "#for i in range(num_pages+1): # loop through all of our search result pages\n",
    "for i in (0,):\n",
    "    start_num = str(i*10) # assign the multiplier of 10 to view the pages we want\n",
    "    current_page = \"\".join([final_site, \"&start=\", start_num])\n",
    "    print \"Getting page\", i,\"start_num=\",start_num\n",
    "    print current_page\n",
    "    job_link_area = BeautifulSoup(session.get(current_page).content,\"lxml\") # locate all of the job links within the <body> area\n",
    "    #join the URL base and the tail part of the URL using urlparse package:\n",
    "    job_URLs=[urlparse.urljoin(base_URL,link.a.get('href')) for link in job_link_area.select( 'h2[class=\"jobtitle\"]')]\n",
    "    print job_URLs,len(job_URLs)\n",
    "\n",
    "    for URL in job_URLs:\n",
    "        final_description = text_cleaner(URL)\n",
    "        job_descriptions.append(final_description)\n",
    "        sleep(1) # so that we don't be jerks. If you have a very fast internet connection you could hit the server a lot! \n",
    "\n",
    "doc_frequency=Counter()\n",
    "for item in job_descriptions:\n",
    "    doc_frequency.update(item)      # add all the words to the counter table and count the frequency of each words\n",
    "#print doc_frequency.most_common(10)\n",
    "print 'Done with collecting the job postings!'\n",
    "print 'There were', len(job_descriptions), 'jobs successfully found.'\n",
    "\n",
    "# Obtain our key terms and store them in a dict. These are the key data science skills we are looking for\n",
    "\n",
    "prog_lang_dict = Counter({'R':doc_frequency['r'], 'Python':doc_frequency['python'],\n",
    "                    'Java':doc_frequency['java'], 'C++':doc_frequency['c++'],\n",
    "                    'Ruby':doc_frequency['ruby'],\n",
    "                    'Perl':doc_frequency['perl'], 'Matlab':doc_frequency['matlab'],\n",
    "                    'JavaScript':doc_frequency['javascript'], 'Scala': doc_frequency['scala']})\n",
    "analysis_tool_dict = Counter({'Excel':doc_frequency['excel'],  'Tableau':doc_frequency['tableau'],\n",
    "                        'D3.js':doc_frequency['d3.js'], 'SAS':doc_frequency['sas'],\n",
    "                        'SPSS':doc_frequency['spss'], 'D3':doc_frequency['d3']})  \n",
    "hadoop_dict = Counter({'Hadoop':doc_frequency['hadoop'], 'MapReduce':doc_frequency['mapreduce'],\n",
    "                'Spark':doc_frequency['spark'], 'Pig':doc_frequency['pig'],\n",
    "                'Hive':doc_frequency['hive'], 'Shark':doc_frequency['shark'],\n",
    "                'Oozie':doc_frequency['oozie'], 'ZooKeeper':doc_frequency['zookeeper'],\n",
    "                'Flume':doc_frequency['flume'], 'Mahout':doc_frequency['mahout']})\n",
    "database_dict = Counter({'SQL':doc_frequency['sql'], 'NoSQL':doc_frequency['nosql'],\n",
    "                    'HBase':doc_frequency['hbase'], 'Cassandra':doc_frequency['cassandra'],\n",
    "                    'MongoDB':doc_frequency['mongodb']})\n",
    "overall_total_skills = prog_lang_dict + analysis_tool_dict + hadoop_dict + database_dict # Combine our Counter objects\n",
    "\n",
    "final_frame = pd.DataFrame(overall_total_skills.items(), columns = ['Term', 'NumPostings']) # Convert these terms to a \n",
    "                                                                                                # dataframe \n",
    "# Change the values to reflect a percentage of the postings \n",
    "final_frame.NumPostings = (final_frame.NumPostings)*100/len(job_descriptions) # Gives percentage of job postings \n",
    "                                                                                    #  having that term \n",
    "\n",
    "# Sort the data for plotting purposes\n",
    "final_frame.sort_values('NumPostings', ascending = False, inplace = True)\n",
    "print final_frame\n",
    "# Get it ready for a bar plot\n",
    "final_plot = final_frame.plot(x = 'Term', kind = 'bar', legend = None, \n",
    "                            title = 'Percentage of Data Scientist Job Ads with a Key Skill, ' + city_title)\n",
    "final_plot.set_ylabel('Percentage Appearing in Job Ads')\n",
    "fig = final_plot.get_figure() # Have to convert the pandas plot object to a matplotlib object\n",
    "fig.savefig(city_title+\".svg\")\n"
   ]
  },
  {
   "cell_type": "code",
   "execution_count": 73,
   "metadata": {
    "collapsed": false,
    "scrolled": true
   },
   "outputs": [
    {
     "name": "stdout",
     "output_type": "stream",
     "text": [
      "data\n",
      "scientist\n",
      "data\n",
      "scientist\n",
      "\n",
      "\n",
      "fb\n",
      "domain\n",
      "know\n",
      "data\n",
      "driven\n",
      "data\n",
      "pipeline\n",
      "e.g\n",
      "python\n",
      "r\n",
      "sql\n",
      "nosql\n",
      "bigquery\n",
      "yoy\n",
      "mom\n",
      "seo\n",
      "ing\n",
      "agile\n",
      "kanban\n",
      "scrum\n",
      "data\n",
      "driven\n",
      "user\n",
      "centric\n",
      "\n",
      "ps\n",
      "workshop\n",
      "coder\n",
      "pm\n",
      "ux\n",
      "ui\n",
      "designer\n",
      "happy\n",
      "hour\n",
      "+\n",
      "hack\n",
      "day\n",
      "\n",
      "3\n",
      "nlp\n",
      "deep\n",
      "learning\n",
      "script\n",
      "javascript\n",
      "node.js\n",
      "\n",
      "data\n",
      "scientist\n",
      "3\n",
      "ie\n",
      "\n",
      "corporation\n",
      "rights\n",
      "reserved\n"
     ]
    }
   ],
   "source": [
    "content = text_cleaner('https://www.104.com.tw/job/?jobno=55spt&jobsource=close&hotjob_chr=')\n",
    "for w in content:\n",
    "    print w"
   ]
  },
  {
   "cell_type": "markdown",
   "metadata": {},
   "source": [
    "#### On Indeed.com"
   ]
  },
  {
   "cell_type": "code",
   "execution_count": 162,
   "metadata": {
    "collapsed": false
   },
   "outputs": [
    {
     "name": "stdout",
     "output_type": "stream",
     "text": [
      "data\n",
      "scientist\n",
      "job\n",
      "indeed\n",
      "seattle\n",
      "wa\n",
      "indeed.com\n",
      "skip\n",
      "job\n",
      "description\n",
      "search\n",
      "close\n",
      "find\n",
      "jobs\n",
      "find\n",
      "resumes\n",
      "employers\n",
      "post\n",
      "job\n",
      "upload\n",
      "resume\n",
      "sign\n",
      "advanced\n",
      "job\n",
      "search\n",
      "job\n",
      "title\n",
      "keywords\n",
      "company\n",
      "city\n",
      "state\n",
      "zip\n",
      "data\n",
      "scientist\n",
      "indeed\n",
      "33\n",
      "reviews\n",
      "seattle\n",
      "wa\n",
      "job\n",
      "posting\n",
      "longer\n",
      "available\n",
      "indeed\n",
      "find\n",
      "similar\n",
      "jobs\n",
      "data\n",
      "scientist\n",
      "jobs\n",
      "indeed\n",
      "jobs\n",
      "data\n",
      "scientist\n",
      "works\n",
      "data\n",
      "scientist\n",
      "indeed\n",
      "role\n",
      "follow\n",
      "data\n",
      "analyze\n",
      "visualize\n",
      "model\n",
      "job\n",
      "search\n",
      "related\n",
      "data\n",
      "build\n",
      "implement\n",
      "machine\n",
      "learning\n",
      "models\n",
      "make\n",
      "timely\n",
      "decisions\n",
      "access\n",
      "unparalleled\n",
      "resources\n",
      "within\n",
      "indeed\n",
      "grow\n",
      "develop\n",
      "personally\n",
      "professionally\n",
      "looking\n",
      "mixture\n",
      "statistician\n",
      "scientist\n",
      "machine\n",
      "learning\n",
      "expert\n",
      "engineer\n",
      "someone\n",
      "passion\n",
      "building\n",
      "improving\n",
      "internet\n",
      "scale\n",
      "products\n",
      "informed\n",
      "data\n",
      "ideal\n",
      "candidate\n",
      "understands\n",
      "human\n",
      "behavior\n",
      "knows\n",
      "look\n",
      "data\n",
      "responsibilities\n",
      "drive\n",
      "roadmap\n",
      "proactively\n",
      "identifying\n",
      "opportunities\n",
      "data\n",
      "evaluate\n",
      "big\n",
      "picture\n",
      "solve\n",
      "business\n",
      "problems\n",
      "rather\n",
      "focusing\n",
      "metrics\n",
      "alone\n",
      "create\n",
      "great\n",
      "visualizations\n",
      "looking\n",
      "someone\n",
      "small\n",
      "data\n",
      "modeling\n",
      "work\n",
      "r\n",
      "julia\n",
      "octave\n",
      "python\n",
      "big\n",
      "data\n",
      "modeling\n",
      "work\n",
      "hadoop\n",
      "hive\n",
      "impala\n",
      "pig\n",
      "scala\n",
      "scalding\n",
      "scoobi\n",
      "spark\n",
      "shark\n",
      "fish\n",
      "data\n",
      "sql\n",
      "unix\n",
      "skills\n",
      "perl\n",
      "python\n",
      "pandas\n",
      "languages\n",
      "hands\n",
      "coding\n",
      "skills\n",
      "one\n",
      "sql\n",
      "bash\n",
      "perl\n",
      "python\n",
      "languages\n",
      "data\n",
      "analysis\n",
      "communicate\n",
      "concisely\n",
      "persuasively\n",
      "engineers\n",
      "product\n",
      "marketers\n",
      "requirements\n",
      "ph.d\n",
      "m.s\n",
      "natural\n",
      "science\n",
      "ran\n",
      "experiments\n",
      "analysed\n",
      "data\n",
      "statistically\n",
      "academic\n",
      "experience\n",
      "one\n",
      "fields\n",
      "physics\n",
      "bio\n",
      "statistics\n",
      "astrophysics\n",
      "computational\n",
      "chemistry\n",
      "cognitive\n",
      "neuro\n",
      "sciences\n",
      "behavioral\n",
      "economics\n",
      "econometrics\n",
      "finance\n",
      "mathematics\n",
      "computer\n",
      "science\n",
      "work\n",
      "experience\n",
      "analyzing\n",
      "lots\n",
      "data\n",
      "example\n",
      "biotechnology\n",
      "astrophysics\n",
      "particle\n",
      "physics\n",
      "experiments\n",
      "quantitative\n",
      "finance\n",
      "high\n",
      "frequency\n",
      "trading\n",
      "war\n",
      "terror\n",
      "intelligence\n",
      "analytics\n",
      "consumer\n",
      "internet\n",
      "benefits\n",
      "perks\n",
      "competitive\n",
      "salaries\n",
      "bonus\n",
      "programs\n",
      "medical\n",
      "dental\n",
      "vision\n",
      "coverage\n",
      "commuter\n",
      "benefits\n",
      "wellness\n",
      "initiatives\n",
      "incentive\n",
      "programs\n",
      "fitness\n",
      "classes\n",
      "retirement\n",
      "plan\n",
      "company\n",
      "match\n",
      "k\n",
      "catered\n",
      "meals\n",
      "endless\n",
      "snacks\n",
      "drinks\n",
      "monthly\n",
      "happy\n",
      "hours\n",
      "casual\n",
      "dress\n",
      "code\n",
      "employee\n",
      "development\n",
      "opportunities\n",
      "flexible\n",
      "work\n",
      "arrangements\n",
      "apply\n",
      "value\n",
      "attention\n",
      "detail\n",
      "applications\n",
      "fail\n",
      "follow\n",
      "simple\n",
      "steps\n",
      "considered\n",
      "create\n",
      "indeed\n",
      "resume\n",
      "indeed.com\n",
      "please\n",
      "highlight\n",
      "much\n",
      "possible\n",
      "data\n",
      "science\n",
      "experience\n",
      "matches\n",
      "requirements\n",
      "position\n",
      "please\n",
      "apply\n",
      "indeed\n",
      "resume\n",
      "p\n",
      "lease\n",
      "visit\n",
      "indeed\n",
      "works\n",
      "learn\n",
      "http\n",
      "www.indeed.jobs\n",
      "months\n",
      "ago\n",
      "save\n",
      "job\n",
      "view\n",
      "apply\n",
      "job\n",
      "data\n",
      "scientist\n",
      "jobs\n",
      "seattle\n",
      "wa\n",
      "jobs\n",
      "indeed\n",
      "seattle\n",
      "wa\n",
      "data\n",
      "scientist\n",
      "salaries\n",
      "seattle\n",
      "wa\n",
      "company\n",
      "indeed\n",
      "33\n",
      "reviews\n",
      "indeed\n",
      "job\n",
      "site\n",
      "worldwide\n",
      "million\n",
      "unique\n",
      "visitors\n",
      "per\n",
      "month\n",
      "countries\n",
      "languages\n",
      "since\n",
      "jobs\n",
      "taiwan\n",
      "visit\n",
      "tw.indeed.com\n",
      "help\n",
      "center\n",
      "indeed\n",
      "cookies\n",
      "privacy\n",
      "terms\n"
     ]
    }
   ],
   "source": [
    "content=text_cleaner(\"http://www.indeed.com/viewjob?jk=5505e59f8e5a32a4&q=%22data+scientist%22&tk=19ftfgsmj19ti0l3&from=web&advn=1855944161169178&sjdu=QwrRXKrqZ3CNX5W-O9jEvWC1RT2wMYkGnZrqGdrncbKqQ7uwTLXzT1_ME9WQ4M-7om7mrHAlvyJT8cA_14IV5w&pub=pub-indeed\")\n",
    "for w in content:\n",
    "    print w"
   ]
  },
  {
   "cell_type": "markdown",
   "metadata": {},
   "source": [
    "#### learn: the function map and filter"
   ]
  },
  {
   "cell_type": "code",
   "execution_count": 19,
   "metadata": {
    "collapsed": false
   },
   "outputs": [
    {
     "name": "stdout",
     "output_type": "stream",
     "text": [
      "True\n",
      "[True, False, True, True, False]\n",
      "['aaa', 'aac', 'caa']\n"
     ]
    }
   ],
   "source": [
    "a=[\"aaa\",\"bbb\",\"aac\",\"caa\",\"def\"]\n",
    "print 'aa' in 'aaa'\n",
    "print map(lambda x:'aa' in x, a)\n",
    "print filter(lambda x:'aa' in x, a)"
   ]
  },
  {
   "cell_type": "markdown",
   "metadata": {},
   "source": [
    "#### learn: the function reduce"
   ]
  },
  {
   "cell_type": "code",
   "execution_count": 57,
   "metadata": {
    "collapsed": false
   },
   "outputs": [
    {
     "name": "stdout",
     "output_type": "stream",
     "text": [
      "15\n",
      "http://www.indeed.com/jobs?q=%22data+scientist%22&l=New+York\n",
      "http://www.indeed.com/jobs?q=%22data+scientist%22&l=New+York\n"
     ]
    }
   ],
   "source": [
    "print reduce(lambda x, y: x+y, [1, 2, 3, 4, 5])\n",
    "final_site_list = ['http://www.indeed.com/jobs?q=%22','data+scientist', '%22&l=', 'New+York']\n",
    "print reduce(lambda x,y: x+y,final_site_list)\n",
    "print \"\".join(final_site_list)"
   ]
  },
  {
   "cell_type": "markdown",
   "metadata": {},
   "source": [
    "#### learn: the usage of Counter:"
   ]
  },
  {
   "cell_type": "code",
   "execution_count": 119,
   "metadata": {
    "collapsed": false
   },
   "outputs": [
    {
     "name": "stdout",
     "output_type": "stream",
     "text": [
      "Counter({'b': 3, 'a': 1})\n",
      "3\n"
     ]
    }
   ],
   "source": [
    "a=Counter({\"a\":1,\"b\":3})\n",
    "print a\n",
    "print a[\"b\"]"
   ]
  },
  {
   "cell_type": "code",
   "execution_count": 36,
   "metadata": {
    "collapsed": false
   },
   "outputs": [
    {
     "name": "stdout",
     "output_type": "stream",
     "text": [
      "Counter({'blue': 3, 'red': 2, 'green': 1})\n"
     ]
    }
   ],
   "source": [
    "cnt=Counter()\n",
    "cnt.update(['red', 'blue', 'red', 'green', 'blue', 'blue'])\n",
    "print cnt"
   ]
  },
  {
   "cell_type": "code",
   "execution_count": 62,
   "metadata": {
    "collapsed": false
   },
   "outputs": [
    {
     "name": "stdout",
     "output_type": "stream",
     "text": [
      "Counter({'blue': 3, 'red': 2, 'green': 1})\n",
      "Counter({'blue': 6, 'red': 4, 'green': 2})\n"
     ]
    }
   ],
   "source": [
    "cnt = Counter()\n",
    "for word in ['red', 'blue', 'red', 'green', 'blue', 'blue']:\n",
    "    cnt[word] += 1\n",
    "print cnt\n",
    "cnt.update(['red', 'blue', 'red', 'green', 'blue', 'blue'])\n",
    "print cnt"
   ]
  },
  {
   "cell_type": "code",
   "execution_count": 63,
   "metadata": {
    "collapsed": false
   },
   "outputs": [
    {
     "name": "stdout",
     "output_type": "stream",
     "text": [
      "[('blue', 6), ('green', 2), ('red', 4)]\n",
      "<type 'list'>\n"
     ]
    }
   ],
   "source": [
    "print cnt.items()\n",
    "print type(cnt.items())"
   ]
  },
  {
   "cell_type": "markdown",
   "metadata": {},
   "source": [
    "#### some very basic exercises about the pandas dataframe:\n",
    "\n",
    "it accepts numpy array or dictionary-like inputs. Say, let's import data from a set of dictionary:|"
   ]
  },
  {
   "cell_type": "code",
   "execution_count": null,
   "metadata": {
    "collapsed": true
   },
   "outputs": [],
   "source": [
    "frame=pd.DataFrame(cnt.items(), columns = ['color', 'numColor'])"
   ]
  },
  {
   "cell_type": "code",
   "execution_count": null,
   "metadata": {
    "collapsed": true
   },
   "outputs": [],
   "source": [
    "ax=frame.plot(x = 'color', kind = 'bar', legend = None,color='green')\n",
    "ax.set_xlabel(\"color\")\n",
    "ax.set_ylabel(\"color counts\")\n",
    "ax.set_ylim(0,7)"
   ]
  },
  {
   "cell_type": "code",
   "execution_count": 104,
   "metadata": {
    "collapsed": false
   },
   "outputs": [
    {
     "data": {
      "text/plain": [
       "array([[1, 2, 3, 4],\n",
       "       [5, 6, 7, 8]])"
      ]
     },
     "execution_count": 104,
     "metadata": {},
     "output_type": "execute_result"
    }
   ],
   "source": [
    "np.asarray([[1,2,3,4],[5,6,7,8]])"
   ]
  },
  {
   "cell_type": "code",
   "execution_count": 131,
   "metadata": {
    "collapsed": false
   },
   "outputs": [
    {
     "data": {
      "image/png": "[encoded data removed]",
      "text/plain": [
       "<matplotlib.figure.Figure at 0x151f4780>"
      ]
     },
     "metadata": {},
     "output_type": "display_data"
    }
   ],
   "source": [
    "frame=pd.DataFrame(np.asarray([[1,2,3,4],[5,6,7,8]]), columns = ['01', '02','03','04'])\n",
    "ax=frame.plot( kind = 'bar')\n",
    "ax.set_ylim(0,10)\n",
    "fig = ax.get_figure()\n",
    "fig.savefig(\"tmp.svg\")"
   ]
  },
  {
   "cell_type": "code",
   "execution_count": 109,
   "metadata": {
    "collapsed": false
   },
   "outputs": [
    {
     "data": {
      "text/html": [
       "<div>\n",
       "<table border=\"1\" class=\"dataframe\">\n",
       "  <thead>\n",
       "    <tr style=\"text-align: right;\">\n",
       "      <th></th>\n",
       "      <th>01</th>\n",
       "      <th>02</th>\n",
       "      <th>03</th>\n",
       "      <th>04</th>\n",
       "    </tr>\n",
       "  </thead>\n",
       "  <tbody>\n",
       "    <tr>\n",
       "      <th>0</th>\n",
       "      <td>1</td>\n",
       "      <td>2</td>\n",
       "      <td>3</td>\n",
       "      <td>4</td>\n",
       "    </tr>\n",
       "    <tr>\n",
       "      <th>1</th>\n",
       "      <td>5</td>\n",
       "      <td>6</td>\n",
       "      <td>7</td>\n",
       "      <td>8</td>\n",
       "    </tr>\n",
       "  </tbody>\n",
       "</table>\n",
       "</div>"
      ],
      "text/plain": [
       "   01  02  03  04\n",
       "0   1   2   3   4\n",
       "1   5   6   7   8"
      ]
     },
     "execution_count": 109,
     "metadata": {},
     "output_type": "execute_result"
    }
   ],
   "source": [
    "frame.tail()"
   ]
  },
  {
   "cell_type": "markdown",
   "metadata": {},
   "source": [
    "#### 31.10.2016\n",
    "\n",
    "What I've done today: the \"urllib2\" package seems buggy and will request pages which are out of date. Let's use the \"requests\" (which uses the \"urllib3\") package instead."
   ]
  },
  {
   "cell_type": "markdown",
   "metadata": {},
   "source": [
    "#### 02.11.2016\n",
    "\n",
    "I've updated the code which is originally written by "
   ]
  },
  {
   "cell_type": "code",
   "execution_count": 134,
   "metadata": {
    "collapsed": false,
    "scrolled": true
   },
   "outputs": [
    {
     "name": "stdout",
     "output_type": "stream",
     "text": [
      "http://www.indeed.com/jobs?q=%22data+scientist%22&l=Seattle%2C+WA\n",
      "<div id=\"searchCount\">Jobs 1 to 10 of 229</div>\n",
      "num_pages= 22\n",
      "Getting page 0 start_num= 0\n",
      "http://www.indeed.com/jobs?q=%22data+scientist%22&l=Seattle%2C+WA&start=0\n",
      "['http://www.indeed.com/rc/clk?jk=5014aa50f33fa298&fccid=ccf155b8e5eb4bf8', 'http://www.indeed.com/rc/clk?jk=407721ca29884b38&fccid=617d7f961cfcf54a', 'http://www.indeed.com/rc/clk?jk=6d3fbee2fc6b3f54&fccid=734cb5a01ee60f80', 'http://www.indeed.com/rc/clk?jk=d0f38fec9cb11760&fccid=fe2d21eef233e94a', 'http://www.indeed.com/cmp/Indeed-Prime/jobs/Data-Scientist-eb1b00cf69f7aebb?r=1&fccid=72e9a6d69e66d858', 'http://www.indeed.com/rc/clk?jk=0ac4b922b1fffcfd&fccid=a513e92edbf529af', 'http://www.indeed.com/rc/clk?jk=f3e5c898952f0810&fccid=fe2d21eef233e94a', 'http://www.indeed.com/rc/clk?jk=e7ebafaa562e5882&fccid=913e1b259c8d65e2', 'http://www.indeed.com/rc/clk?jk=927d3abe31d1db67&fccid=c1099851e9794854', 'http://www.indeed.com/rc/clk?jk=197e54d64cbae2f3&fccid=fe2d21eef233e94a'] 10\n",
      "Getting page 1 start_num= 10\n",
      "http://www.indeed.com/jobs?q=%22data+scientist%22&l=Seattle%2C+WA&start=10\n",
      "['http://www.indeed.com/rc/clk?jk=5014aa50f33fa298&fccid=ccf155b8e5eb4bf8', 'http://www.indeed.com/rc/clk?jk=407721ca29884b38&fccid=617d7f961cfcf54a', 'http://www.indeed.com/rc/clk?jk=6d3fbee2fc6b3f54&fccid=734cb5a01ee60f80', 'http://www.indeed.com/rc/clk?jk=d0f38fec9cb11760&fccid=fe2d21eef233e94a', 'http://www.indeed.com/cmp/Indeed-Prime/jobs/Data-Scientist-eb1b00cf69f7aebb?r=1&fccid=72e9a6d69e66d858', 'http://www.indeed.com/rc/clk?jk=0ac4b922b1fffcfd&fccid=a513e92edbf529af', 'http://www.indeed.com/rc/clk?jk=f3e5c898952f0810&fccid=fe2d21eef233e94a', 'http://www.indeed.com/rc/clk?jk=e7ebafaa562e5882&fccid=913e1b259c8d65e2', 'http://www.indeed.com/rc/clk?jk=927d3abe31d1db67&fccid=c1099851e9794854', 'http://www.indeed.com/rc/clk?jk=197e54d64cbae2f3&fccid=fe2d21eef233e94a'] 10\n",
      "Getting page 2 start_num= 20\n",
      "http://www.indeed.com/jobs?q=%22data+scientist%22&l=Seattle%2C+WA&start=20\n",
      "['http://www.indeed.com/rc/clk?jk=5014aa50f33fa298&fccid=ccf155b8e5eb4bf8', 'http://www.indeed.com/rc/clk?jk=407721ca29884b38&fccid=617d7f961cfcf54a', 'http://www.indeed.com/rc/clk?jk=6d3fbee2fc6b3f54&fccid=734cb5a01ee60f80', 'http://www.indeed.com/rc/clk?jk=d0f38fec9cb11760&fccid=fe2d21eef233e94a', 'http://www.indeed.com/cmp/Indeed-Prime/jobs/Data-Scientist-eb1b00cf69f7aebb?r=1&fccid=72e9a6d69e66d858', 'http://www.indeed.com/rc/clk?jk=0ac4b922b1fffcfd&fccid=a513e92edbf529af', 'http://www.indeed.com/rc/clk?jk=f3e5c898952f0810&fccid=fe2d21eef233e94a', 'http://www.indeed.com/rc/clk?jk=e7ebafaa562e5882&fccid=913e1b259c8d65e2', 'http://www.indeed.com/rc/clk?jk=927d3abe31d1db67&fccid=c1099851e9794854', 'http://www.indeed.com/rc/clk?jk=197e54d64cbae2f3&fccid=fe2d21eef233e94a'] 10\n",
      "Getting page 3 start_num= 30\n",
      "http://www.indeed.com/jobs?q=%22data+scientist%22&l=Seattle%2C+WA&start=30\n",
      "['http://www.indeed.com/rc/clk?jk=5014aa50f33fa298&fccid=ccf155b8e5eb4bf8', 'http://www.indeed.com/rc/clk?jk=407721ca29884b38&fccid=617d7f961cfcf54a', 'http://www.indeed.com/rc/clk?jk=6d3fbee2fc6b3f54&fccid=734cb5a01ee60f80', 'http://www.indeed.com/rc/clk?jk=d0f38fec9cb11760&fccid=fe2d21eef233e94a', 'http://www.indeed.com/cmp/Indeed-Prime/jobs/Data-Scientist-eb1b00cf69f7aebb?r=1&fccid=72e9a6d69e66d858', 'http://www.indeed.com/rc/clk?jk=0ac4b922b1fffcfd&fccid=a513e92edbf529af', 'http://www.indeed.com/rc/clk?jk=f3e5c898952f0810&fccid=fe2d21eef233e94a', 'http://www.indeed.com/rc/clk?jk=e7ebafaa562e5882&fccid=913e1b259c8d65e2', 'http://www.indeed.com/rc/clk?jk=927d3abe31d1db67&fccid=c1099851e9794854', 'http://www.indeed.com/rc/clk?jk=197e54d64cbae2f3&fccid=fe2d21eef233e94a'] 10\n",
      "Getting page 4 start_num= 40\n",
      "http://www.indeed.com/jobs?q=%22data+scientist%22&l=Seattle%2C+WA&start=40\n",
      "['http://www.indeed.com/rc/clk?jk=5014aa50f33fa298&fccid=ccf155b8e5eb4bf8', 'http://www.indeed.com/rc/clk?jk=407721ca29884b38&fccid=617d7f961cfcf54a', 'http://www.indeed.com/rc/clk?jk=6d3fbee2fc6b3f54&fccid=734cb5a01ee60f80', 'http://www.indeed.com/rc/clk?jk=d0f38fec9cb11760&fccid=fe2d21eef233e94a', 'http://www.indeed.com/cmp/Indeed-Prime/jobs/Data-Scientist-eb1b00cf69f7aebb?r=1&fccid=72e9a6d69e66d858', 'http://www.indeed.com/rc/clk?jk=0ac4b922b1fffcfd&fccid=a513e92edbf529af', 'http://www.indeed.com/rc/clk?jk=f3e5c898952f0810&fccid=fe2d21eef233e94a', 'http://www.indeed.com/rc/clk?jk=e7ebafaa562e5882&fccid=913e1b259c8d65e2', 'http://www.indeed.com/rc/clk?jk=927d3abe31d1db67&fccid=c1099851e9794854', 'http://www.indeed.com/rc/clk?jk=197e54d64cbae2f3&fccid=fe2d21eef233e94a'] 10\n",
      "Getting page 5 start_num= 50\n",
      "http://www.indeed.com/jobs?q=%22data+scientist%22&l=Seattle%2C+WA&start=50\n",
      "['http://www.indeed.com/rc/clk?jk=5014aa50f33fa298&fccid=ccf155b8e5eb4bf8', 'http://www.indeed.com/rc/clk?jk=407721ca29884b38&fccid=617d7f961cfcf54a', 'http://www.indeed.com/rc/clk?jk=6d3fbee2fc6b3f54&fccid=734cb5a01ee60f80', 'http://www.indeed.com/rc/clk?jk=d0f38fec9cb11760&fccid=fe2d21eef233e94a', 'http://www.indeed.com/cmp/Indeed-Prime/jobs/Data-Scientist-eb1b00cf69f7aebb?r=1&fccid=72e9a6d69e66d858', 'http://www.indeed.com/rc/clk?jk=0ac4b922b1fffcfd&fccid=a513e92edbf529af', 'http://www.indeed.com/rc/clk?jk=f3e5c898952f0810&fccid=fe2d21eef233e94a', 'http://www.indeed.com/rc/clk?jk=e7ebafaa562e5882&fccid=913e1b259c8d65e2', 'http://www.indeed.com/rc/clk?jk=927d3abe31d1db67&fccid=c1099851e9794854', 'http://www.indeed.com/rc/clk?jk=197e54d64cbae2f3&fccid=fe2d21eef233e94a'] 10\n",
      "Getting page 6 start_num= 60\n",
      "http://www.indeed.com/jobs?q=%22data+scientist%22&l=Seattle%2C+WA&start=60\n",
      "['http://www.indeed.com/rc/clk?jk=5014aa50f33fa298&fccid=ccf155b8e5eb4bf8', 'http://www.indeed.com/rc/clk?jk=407721ca29884b38&fccid=617d7f961cfcf54a', 'http://www.indeed.com/rc/clk?jk=6d3fbee2fc6b3f54&fccid=734cb5a01ee60f80', 'http://www.indeed.com/rc/clk?jk=d0f38fec9cb11760&fccid=fe2d21eef233e94a', 'http://www.indeed.com/cmp/Indeed-Prime/jobs/Data-Scientist-eb1b00cf69f7aebb?r=1&fccid=72e9a6d69e66d858', 'http://www.indeed.com/rc/clk?jk=0ac4b922b1fffcfd&fccid=a513e92edbf529af', 'http://www.indeed.com/rc/clk?jk=f3e5c898952f0810&fccid=fe2d21eef233e94a', 'http://www.indeed.com/rc/clk?jk=e7ebafaa562e5882&fccid=913e1b259c8d65e2', 'http://www.indeed.com/rc/clk?jk=927d3abe31d1db67&fccid=c1099851e9794854', 'http://www.indeed.com/rc/clk?jk=197e54d64cbae2f3&fccid=fe2d21eef233e94a'] 10\n",
      "Getting page 7 start_num= 70\n",
      "http://www.indeed.com/jobs?q=%22data+scientist%22&l=Seattle%2C+WA&start=70\n",
      "['http://www.indeed.com/rc/clk?jk=5014aa50f33fa298&fccid=ccf155b8e5eb4bf8', 'http://www.indeed.com/rc/clk?jk=407721ca29884b38&fccid=617d7f961cfcf54a', 'http://www.indeed.com/rc/clk?jk=6d3fbee2fc6b3f54&fccid=734cb5a01ee60f80', 'http://www.indeed.com/rc/clk?jk=d0f38fec9cb11760&fccid=fe2d21eef233e94a', 'http://www.indeed.com/cmp/Indeed-Prime/jobs/Data-Scientist-eb1b00cf69f7aebb?r=1&fccid=72e9a6d69e66d858', 'http://www.indeed.com/rc/clk?jk=0ac4b922b1fffcfd&fccid=a513e92edbf529af', 'http://www.indeed.com/rc/clk?jk=f3e5c898952f0810&fccid=fe2d21eef233e94a', 'http://www.indeed.com/rc/clk?jk=e7ebafaa562e5882&fccid=913e1b259c8d65e2', 'http://www.indeed.com/rc/clk?jk=927d3abe31d1db67&fccid=c1099851e9794854', 'http://www.indeed.com/rc/clk?jk=197e54d64cbae2f3&fccid=fe2d21eef233e94a'] 10\n",
      "Getting page 8 start_num= 80\n",
      "http://www.indeed.com/jobs?q=%22data+scientist%22&l=Seattle%2C+WA&start=80\n",
      "['http://www.indeed.com/rc/clk?jk=5014aa50f33fa298&fccid=ccf155b8e5eb4bf8', 'http://www.indeed.com/rc/clk?jk=407721ca29884b38&fccid=617d7f961cfcf54a', 'http://www.indeed.com/rc/clk?jk=6d3fbee2fc6b3f54&fccid=734cb5a01ee60f80', 'http://www.indeed.com/rc/clk?jk=d0f38fec9cb11760&fccid=fe2d21eef233e94a', 'http://www.indeed.com/cmp/Indeed-Prime/jobs/Data-Scientist-eb1b00cf69f7aebb?r=1&fccid=72e9a6d69e66d858', 'http://www.indeed.com/rc/clk?jk=0ac4b922b1fffcfd&fccid=a513e92edbf529af', 'http://www.indeed.com/rc/clk?jk=f3e5c898952f0810&fccid=fe2d21eef233e94a', 'http://www.indeed.com/rc/clk?jk=e7ebafaa562e5882&fccid=913e1b259c8d65e2', 'http://www.indeed.com/rc/clk?jk=927d3abe31d1db67&fccid=c1099851e9794854', 'http://www.indeed.com/rc/clk?jk=197e54d64cbae2f3&fccid=fe2d21eef233e94a'] 10\n",
      "Getting page 9 start_num= 90\n",
      "http://www.indeed.com/jobs?q=%22data+scientist%22&l=Seattle%2C+WA&start=90\n",
      "['http://www.indeed.com/rc/clk?jk=5014aa50f33fa298&fccid=ccf155b8e5eb4bf8', 'http://www.indeed.com/rc/clk?jk=407721ca29884b38&fccid=617d7f961cfcf54a', 'http://www.indeed.com/rc/clk?jk=6d3fbee2fc6b3f54&fccid=734cb5a01ee60f80', 'http://www.indeed.com/rc/clk?jk=d0f38fec9cb11760&fccid=fe2d21eef233e94a', 'http://www.indeed.com/cmp/Indeed-Prime/jobs/Data-Scientist-eb1b00cf69f7aebb?r=1&fccid=72e9a6d69e66d858', 'http://www.indeed.com/rc/clk?jk=0ac4b922b1fffcfd&fccid=a513e92edbf529af', 'http://www.indeed.com/rc/clk?jk=f3e5c898952f0810&fccid=fe2d21eef233e94a', 'http://www.indeed.com/rc/clk?jk=e7ebafaa562e5882&fccid=913e1b259c8d65e2', 'http://www.indeed.com/rc/clk?jk=927d3abe31d1db67&fccid=c1099851e9794854', 'http://www.indeed.com/rc/clk?jk=197e54d64cbae2f3&fccid=fe2d21eef233e94a'] 10\n",
      "Getting page 10 start_num= 100\n",
      "http://www.indeed.com/jobs?q=%22data+scientist%22&l=Seattle%2C+WA&start=100\n",
      "['http://www.indeed.com/rc/clk?jk=5014aa50f33fa298&fccid=ccf155b8e5eb4bf8', 'http://www.indeed.com/rc/clk?jk=407721ca29884b38&fccid=617d7f961cfcf54a', 'http://www.indeed.com/rc/clk?jk=6d3fbee2fc6b3f54&fccid=734cb5a01ee60f80', 'http://www.indeed.com/rc/clk?jk=d0f38fec9cb11760&fccid=fe2d21eef233e94a', 'http://www.indeed.com/cmp/Indeed-Prime/jobs/Data-Scientist-eb1b00cf69f7aebb?r=1&fccid=72e9a6d69e66d858', 'http://www.indeed.com/rc/clk?jk=0ac4b922b1fffcfd&fccid=a513e92edbf529af', 'http://www.indeed.com/rc/clk?jk=f3e5c898952f0810&fccid=fe2d21eef233e94a', 'http://www.indeed.com/rc/clk?jk=e7ebafaa562e5882&fccid=913e1b259c8d65e2', 'http://www.indeed.com/rc/clk?jk=927d3abe31d1db67&fccid=c1099851e9794854', 'http://www.indeed.com/rc/clk?jk=197e54d64cbae2f3&fccid=fe2d21eef233e94a'] 10\n",
      "Getting page 11 start_num= 110\n",
      "http://www.indeed.com/jobs?q=%22data+scientist%22&l=Seattle%2C+WA&start=110\n",
      "['http://www.indeed.com/rc/clk?jk=5014aa50f33fa298&fccid=ccf155b8e5eb4bf8', 'http://www.indeed.com/rc/clk?jk=407721ca29884b38&fccid=617d7f961cfcf54a', 'http://www.indeed.com/rc/clk?jk=6d3fbee2fc6b3f54&fccid=734cb5a01ee60f80', 'http://www.indeed.com/rc/clk?jk=d0f38fec9cb11760&fccid=fe2d21eef233e94a', 'http://www.indeed.com/cmp/Indeed-Prime/jobs/Data-Scientist-eb1b00cf69f7aebb?r=1&fccid=72e9a6d69e66d858', 'http://www.indeed.com/rc/clk?jk=0ac4b922b1fffcfd&fccid=a513e92edbf529af', 'http://www.indeed.com/rc/clk?jk=f3e5c898952f0810&fccid=fe2d21eef233e94a', 'http://www.indeed.com/rc/clk?jk=e7ebafaa562e5882&fccid=913e1b259c8d65e2', 'http://www.indeed.com/rc/clk?jk=927d3abe31d1db67&fccid=c1099851e9794854', 'http://www.indeed.com/rc/clk?jk=197e54d64cbae2f3&fccid=fe2d21eef233e94a'] 10\n",
      "Getting page 12 start_num= 120\n",
      "http://www.indeed.com/jobs?q=%22data+scientist%22&l=Seattle%2C+WA&start=120\n",
      "['http://www.indeed.com/rc/clk?jk=5014aa50f33fa298&fccid=ccf155b8e5eb4bf8', 'http://www.indeed.com/rc/clk?jk=407721ca29884b38&fccid=617d7f961cfcf54a', 'http://www.indeed.com/rc/clk?jk=6d3fbee2fc6b3f54&fccid=734cb5a01ee60f80', 'http://www.indeed.com/rc/clk?jk=d0f38fec9cb11760&fccid=fe2d21eef233e94a', 'http://www.indeed.com/cmp/Indeed-Prime/jobs/Data-Scientist-eb1b00cf69f7aebb?r=1&fccid=72e9a6d69e66d858', 'http://www.indeed.com/rc/clk?jk=0ac4b922b1fffcfd&fccid=a513e92edbf529af', 'http://www.indeed.com/rc/clk?jk=f3e5c898952f0810&fccid=fe2d21eef233e94a', 'http://www.indeed.com/rc/clk?jk=e7ebafaa562e5882&fccid=913e1b259c8d65e2', 'http://www.indeed.com/rc/clk?jk=927d3abe31d1db67&fccid=c1099851e9794854', 'http://www.indeed.com/rc/clk?jk=197e54d64cbae2f3&fccid=fe2d21eef233e94a'] 10\n",
      "Getting page 13 start_num= 130\n",
      "http://www.indeed.com/jobs?q=%22data+scientist%22&l=Seattle%2C+WA&start=130\n",
      "['http://www.indeed.com/rc/clk?jk=5014aa50f33fa298&fccid=ccf155b8e5eb4bf8', 'http://www.indeed.com/rc/clk?jk=407721ca29884b38&fccid=617d7f961cfcf54a', 'http://www.indeed.com/rc/clk?jk=6d3fbee2fc6b3f54&fccid=734cb5a01ee60f80', 'http://www.indeed.com/rc/clk?jk=d0f38fec9cb11760&fccid=fe2d21eef233e94a', 'http://www.indeed.com/cmp/Indeed-Prime/jobs/Data-Scientist-eb1b00cf69f7aebb?r=1&fccid=72e9a6d69e66d858', 'http://www.indeed.com/rc/clk?jk=0ac4b922b1fffcfd&fccid=a513e92edbf529af', 'http://www.indeed.com/rc/clk?jk=f3e5c898952f0810&fccid=fe2d21eef233e94a', 'http://www.indeed.com/rc/clk?jk=e7ebafaa562e5882&fccid=913e1b259c8d65e2', 'http://www.indeed.com/rc/clk?jk=927d3abe31d1db67&fccid=c1099851e9794854', 'http://www.indeed.com/rc/clk?jk=197e54d64cbae2f3&fccid=fe2d21eef233e94a'] 10\n",
      "Getting page 14 start_num= 140\n",
      "http://www.indeed.com/jobs?q=%22data+scientist%22&l=Seattle%2C+WA&start=140\n",
      "['http://www.indeed.com/rc/clk?jk=5014aa50f33fa298&fccid=ccf155b8e5eb4bf8', 'http://www.indeed.com/rc/clk?jk=407721ca29884b38&fccid=617d7f961cfcf54a', 'http://www.indeed.com/rc/clk?jk=6d3fbee2fc6b3f54&fccid=734cb5a01ee60f80', 'http://www.indeed.com/rc/clk?jk=d0f38fec9cb11760&fccid=fe2d21eef233e94a', 'http://www.indeed.com/cmp/Indeed-Prime/jobs/Data-Scientist-eb1b00cf69f7aebb?r=1&fccid=72e9a6d69e66d858', 'http://www.indeed.com/rc/clk?jk=0ac4b922b1fffcfd&fccid=a513e92edbf529af', 'http://www.indeed.com/rc/clk?jk=f3e5c898952f0810&fccid=fe2d21eef233e94a', 'http://www.indeed.com/rc/clk?jk=e7ebafaa562e5882&fccid=913e1b259c8d65e2', 'http://www.indeed.com/rc/clk?jk=927d3abe31d1db67&fccid=c1099851e9794854', 'http://www.indeed.com/rc/clk?jk=197e54d64cbae2f3&fccid=fe2d21eef233e94a'] 10\n",
      "Getting page 15 start_num= 150\n",
      "http://www.indeed.com/jobs?q=%22data+scientist%22&l=Seattle%2C+WA&start=150\n",
      "['http://www.indeed.com/rc/clk?jk=5014aa50f33fa298&fccid=ccf155b8e5eb4bf8', 'http://www.indeed.com/rc/clk?jk=407721ca29884b38&fccid=617d7f961cfcf54a', 'http://www.indeed.com/rc/clk?jk=6d3fbee2fc6b3f54&fccid=734cb5a01ee60f80', 'http://www.indeed.com/rc/clk?jk=d0f38fec9cb11760&fccid=fe2d21eef233e94a', 'http://www.indeed.com/cmp/Indeed-Prime/jobs/Data-Scientist-eb1b00cf69f7aebb?r=1&fccid=72e9a6d69e66d858', 'http://www.indeed.com/rc/clk?jk=0ac4b922b1fffcfd&fccid=a513e92edbf529af', 'http://www.indeed.com/rc/clk?jk=f3e5c898952f0810&fccid=fe2d21eef233e94a', 'http://www.indeed.com/rc/clk?jk=e7ebafaa562e5882&fccid=913e1b259c8d65e2', 'http://www.indeed.com/rc/clk?jk=927d3abe31d1db67&fccid=c1099851e9794854', 'http://www.indeed.com/rc/clk?jk=197e54d64cbae2f3&fccid=fe2d21eef233e94a'] 10\n",
      "Getting page 16 start_num= 160\n",
      "http://www.indeed.com/jobs?q=%22data+scientist%22&l=Seattle%2C+WA&start=160\n",
      "['http://www.indeed.com/rc/clk?jk=5014aa50f33fa298&fccid=ccf155b8e5eb4bf8', 'http://www.indeed.com/rc/clk?jk=407721ca29884b38&fccid=617d7f961cfcf54a', 'http://www.indeed.com/rc/clk?jk=6d3fbee2fc6b3f54&fccid=734cb5a01ee60f80', 'http://www.indeed.com/rc/clk?jk=d0f38fec9cb11760&fccid=fe2d21eef233e94a', 'http://www.indeed.com/cmp/Indeed-Prime/jobs/Data-Scientist-eb1b00cf69f7aebb?r=1&fccid=72e9a6d69e66d858', 'http://www.indeed.com/rc/clk?jk=0ac4b922b1fffcfd&fccid=a513e92edbf529af', 'http://www.indeed.com/rc/clk?jk=f3e5c898952f0810&fccid=fe2d21eef233e94a', 'http://www.indeed.com/rc/clk?jk=e7ebafaa562e5882&fccid=913e1b259c8d65e2', 'http://www.indeed.com/rc/clk?jk=927d3abe31d1db67&fccid=c1099851e9794854', 'http://www.indeed.com/rc/clk?jk=197e54d64cbae2f3&fccid=fe2d21eef233e94a'] 10\n",
      "Getting page 17 start_num= 170\n",
      "http://www.indeed.com/jobs?q=%22data+scientist%22&l=Seattle%2C+WA&start=170\n",
      "['http://www.indeed.com/rc/clk?jk=5014aa50f33fa298&fccid=ccf155b8e5eb4bf8', 'http://www.indeed.com/rc/clk?jk=407721ca29884b38&fccid=617d7f961cfcf54a', 'http://www.indeed.com/rc/clk?jk=6d3fbee2fc6b3f54&fccid=734cb5a01ee60f80', 'http://www.indeed.com/rc/clk?jk=d0f38fec9cb11760&fccid=fe2d21eef233e94a', 'http://www.indeed.com/cmp/Indeed-Prime/jobs/Data-Scientist-eb1b00cf69f7aebb?r=1&fccid=72e9a6d69e66d858', 'http://www.indeed.com/rc/clk?jk=0ac4b922b1fffcfd&fccid=a513e92edbf529af', 'http://www.indeed.com/rc/clk?jk=f3e5c898952f0810&fccid=fe2d21eef233e94a', 'http://www.indeed.com/rc/clk?jk=e7ebafaa562e5882&fccid=913e1b259c8d65e2', 'http://www.indeed.com/rc/clk?jk=927d3abe31d1db67&fccid=c1099851e9794854', 'http://www.indeed.com/rc/clk?jk=197e54d64cbae2f3&fccid=fe2d21eef233e94a'] 10\n",
      "Getting page 18 start_num= 180\n",
      "http://www.indeed.com/jobs?q=%22data+scientist%22&l=Seattle%2C+WA&start=180\n",
      "['http://www.indeed.com/rc/clk?jk=5014aa50f33fa298&fccid=ccf155b8e5eb4bf8', 'http://www.indeed.com/rc/clk?jk=407721ca29884b38&fccid=617d7f961cfcf54a', 'http://www.indeed.com/rc/clk?jk=6d3fbee2fc6b3f54&fccid=734cb5a01ee60f80', 'http://www.indeed.com/rc/clk?jk=d0f38fec9cb11760&fccid=fe2d21eef233e94a', 'http://www.indeed.com/cmp/Indeed-Prime/jobs/Data-Scientist-eb1b00cf69f7aebb?r=1&fccid=72e9a6d69e66d858', 'http://www.indeed.com/rc/clk?jk=0ac4b922b1fffcfd&fccid=a513e92edbf529af', 'http://www.indeed.com/rc/clk?jk=f3e5c898952f0810&fccid=fe2d21eef233e94a', 'http://www.indeed.com/rc/clk?jk=e7ebafaa562e5882&fccid=913e1b259c8d65e2', 'http://www.indeed.com/rc/clk?jk=927d3abe31d1db67&fccid=c1099851e9794854', 'http://www.indeed.com/rc/clk?jk=197e54d64cbae2f3&fccid=fe2d21eef233e94a'] 10\n",
      "Getting page 19 start_num= 190\n",
      "http://www.indeed.com/jobs?q=%22data+scientist%22&l=Seattle%2C+WA&start=190\n",
      "['http://www.indeed.com/rc/clk?jk=5014aa50f33fa298&fccid=ccf155b8e5eb4bf8', 'http://www.indeed.com/rc/clk?jk=407721ca29884b38&fccid=617d7f961cfcf54a', 'http://www.indeed.com/rc/clk?jk=6d3fbee2fc6b3f54&fccid=734cb5a01ee60f80', 'http://www.indeed.com/rc/clk?jk=d0f38fec9cb11760&fccid=fe2d21eef233e94a', 'http://www.indeed.com/cmp/Indeed-Prime/jobs/Data-Scientist-eb1b00cf69f7aebb?r=1&fccid=72e9a6d69e66d858', 'http://www.indeed.com/rc/clk?jk=0ac4b922b1fffcfd&fccid=a513e92edbf529af', 'http://www.indeed.com/rc/clk?jk=f3e5c898952f0810&fccid=fe2d21eef233e94a', 'http://www.indeed.com/rc/clk?jk=e7ebafaa562e5882&fccid=913e1b259c8d65e2', 'http://www.indeed.com/rc/clk?jk=927d3abe31d1db67&fccid=c1099851e9794854', 'http://www.indeed.com/rc/clk?jk=197e54d64cbae2f3&fccid=fe2d21eef233e94a'] 10\n",
      "Getting page 20 start_num= 200\n",
      "http://www.indeed.com/jobs?q=%22data+scientist%22&l=Seattle%2C+WA&start=200\n",
      "['http://www.indeed.com/rc/clk?jk=5014aa50f33fa298&fccid=ccf155b8e5eb4bf8', 'http://www.indeed.com/rc/clk?jk=407721ca29884b38&fccid=617d7f961cfcf54a', 'http://www.indeed.com/rc/clk?jk=6d3fbee2fc6b3f54&fccid=734cb5a01ee60f80', 'http://www.indeed.com/rc/clk?jk=d0f38fec9cb11760&fccid=fe2d21eef233e94a', 'http://www.indeed.com/cmp/Indeed-Prime/jobs/Data-Scientist-eb1b00cf69f7aebb?r=1&fccid=72e9a6d69e66d858', 'http://www.indeed.com/rc/clk?jk=0ac4b922b1fffcfd&fccid=a513e92edbf529af', 'http://www.indeed.com/rc/clk?jk=f3e5c898952f0810&fccid=fe2d21eef233e94a', 'http://www.indeed.com/rc/clk?jk=e7ebafaa562e5882&fccid=913e1b259c8d65e2', 'http://www.indeed.com/rc/clk?jk=927d3abe31d1db67&fccid=c1099851e9794854', 'http://www.indeed.com/rc/clk?jk=197e54d64cbae2f3&fccid=fe2d21eef233e94a'] 10\n",
      "Getting page 21 start_num= 210\n",
      "http://www.indeed.com/jobs?q=%22data+scientist%22&l=Seattle%2C+WA&start=210\n",
      "['http://www.indeed.com/rc/clk?jk=5014aa50f33fa298&fccid=ccf155b8e5eb4bf8', 'http://www.indeed.com/rc/clk?jk=407721ca29884b38&fccid=617d7f961cfcf54a', 'http://www.indeed.com/rc/clk?jk=6d3fbee2fc6b3f54&fccid=734cb5a01ee60f80', 'http://www.indeed.com/rc/clk?jk=d0f38fec9cb11760&fccid=fe2d21eef233e94a', 'http://www.indeed.com/cmp/Indeed-Prime/jobs/Data-Scientist-eb1b00cf69f7aebb?r=1&fccid=72e9a6d69e66d858', 'http://www.indeed.com/rc/clk?jk=0ac4b922b1fffcfd&fccid=a513e92edbf529af', 'http://www.indeed.com/rc/clk?jk=f3e5c898952f0810&fccid=fe2d21eef233e94a', 'http://www.indeed.com/rc/clk?jk=e7ebafaa562e5882&fccid=913e1b259c8d65e2', 'http://www.indeed.com/rc/clk?jk=927d3abe31d1db67&fccid=c1099851e9794854', 'http://www.indeed.com/rc/clk?jk=197e54d64cbae2f3&fccid=fe2d21eef233e94a'] 10\n",
      "Done with collecting the job postings!\n",
      "There were 220 jobs successfully found.\n",
      "          Term  NumPostings\n",
      "3       Python    49.090909\n",
      "8            R    49.090909\n",
      "7       Hadoop    19.090909\n",
      "10         SQL    19.090909\n",
      "12       Spark    19.090909\n",
      "14          D3    19.090909\n",
      "0          Pig    10.000000\n",
      "1         Java    10.000000\n",
      "2        Scala    10.000000\n",
      "4   JavaScript    10.000000\n",
      "6          C++    10.000000\n",
      "11         SAS    10.000000\n",
      "13        SPSS    10.000000\n",
      "15        Hive    10.000000\n",
      "5      Tableau     9.090909\n",
      "9       Matlab     9.090909\n"
     ]
    },
    {
     "data": {
      "image/png": "[encoded data removed]",
      "text/plain": [
       "<matplotlib.figure.Figure at 0x1420cbe0>"
      ]
     },
     "metadata": {},
     "output_type": "display_data"
    }
   ],
   "source": [
    "seattle_info = skills_info(city = 'Seattle', state = 'WA') "
   ]
  },
  {
   "cell_type": "markdown",
   "metadata": {},
   "source": [
    "#### the \"get_text\" method from Beautifulsoup:"
   ]
  },
  {
   "cell_type": "code",
   "execution_count": 15,
   "metadata": {
    "collapsed": false
   },
   "outputs": [
    {
     "data": {
      "text/plain": [
       "u\"Data Scientist job - Indeed - Seattle, WA | Indeed.com|Skip to|Job Description|,|Search|Close|Find Jobs|Find Resumes|Employers / Post Job|Upload your resume|Sign in|:|What|Where|Advanced Job Search|job title, keywords or company|city, state, or zip|Data Scientist|Indeed|133 reviews|-|Seattle, WA|This job posting is no longer available on Indeed.|Find similar jobs:|Data Scientist jobs|-|Indeed jobs|How A Data Scientist Works|As a Data Scientist at Indeed your role is to follow the data. Analyze, visualize, and model job search related data. You will build and implement machine learning models to make timely decisions. You will have access to unparalleled resources within Indeed to grow and develop both personally and professionally.|We are looking for a mixture between a statistician, scientist, machine learning expert and engineer: someone who has passion for building and improving Internet-scale products informed by data. The ideal candidate understands human behavior and knows what to look for in the data.|Responsibilities:|Drive the roadmap proactively by identifying opportunities in the data|Evaluate the big picture and solve business problems rather than focusing on metrics alone|Create great visualizations|We're looking for someone who:|Can do small data modeling work: R, Julia, Octave, Python|Can do big data modeling work: Hadoop, Hive, Impala, Pig, Scala, Scalding, Scoobi, Spark, Shark|Can fish for data: SQL, Unix skills, Perl, python pandas, or other languages|Has hands on coding skills in one of : SQL, bash , perl, python or other languages to do your own data analysis|Can communicate concisely and persuasively with engineers and product marketers|Requirements:|Ph.D. or M.S. in a natural science where you ran experiments and analysed data statistically|Academic experience in one (or more) of these fields: physics, bio-statistics, astrophysics, computational chemistry, cognitive or neuro sciences, behavioral economics, econometrics, finance, mathematics, computer science|Work experience analyzing lots of data, for example in biotechnology, astrophysics or particle physics experiments, quantitative finance or high frequency trading, \\xe2\\u20ac\\u0153war on terror\\xe2\\u20ac\\ufffd intelligence analytics, or consumer Internet|Benefits & Perks:|Competitive salaries and bonus programs|Medical, Dental and Vision coverage|Commuter benefits|Wellness initiatives (incentive programs, fitness classes)|Retirement plan with company match (401K)|Catered meals, endless snacks and drinks|Monthly happy hours|Casual dress code|Employee development opportunities|Flexible Work Arrangements|How to Apply:|We value attention to detail. Applications that fail to follow these simple steps will not be considered.|Create an Indeed Resume on Indeed.com and please highlight in it as much as possible your data science experience that matches the requirements for the position.|Please apply with your Indeed Resume.|P lease visit|How Indeed Works to learn more: http://www.indeed.jobs|20 months ago|-|save job|\\xbb|View or apply to job|Data Scientist jobs in Seattle, WA|Jobs at Indeed in Seattle, WA|Data Scientist salaries in Seattle, WA|About this company|Indeed|133 reviews|Indeed is the #1 job site worldwide, with over 200 million unique visitors per month from more than 60 countries in 28 languages.\\n\\nSince...|For jobs in Taiwan, visit|tw.indeed.com|About|-|Help Center|\\xa92016 Indeed -|Cookies, Privacy and Terms\""
      ]
     },
     "execution_count": 15,
     "metadata": {},
     "output_type": "execute_result"
    }
   ],
   "source": [
    "soup.get_text(\"|\",strip=True)"
   ]
  },
  {
   "cell_type": "markdown",
   "metadata": {},
   "source": [
    "#### get to know the Python built-in methods \"strip\", \"splitlines\" and \"split\":"
   ]
  },
  {
   "cell_type": "code",
   "execution_count": 102,
   "metadata": {
    "collapsed": false
   },
   "outputs": [
    {
     "name": "stdout",
     "output_type": "stream",
     "text": [
      "['Line1-a b c d e f', 'Line2- a b c', '', 'Line4- a b c d']\n",
      "['Line1-a b c d e f\\n', 'Line2- a b c\\n', '\\n', 'Line4- a b c d']\n",
      "'this is string example....\\nwow!!!'\n",
      "'0000000this is string example....\\nwow!!!0000000'\n",
      "['1', '', '2']\n",
      "['1,,2', '345']\n"
     ]
    }
   ],
   "source": [
    "# splitlines:\n",
    "# (code example from \"https://www.tutorialspoint.com/python/string_splitlines.htm)\n",
    "    \n",
    "str = \"Line1-a b c d e f\\nLine2- a b c\\n\\nLine4- a b c d\";\n",
    "print str.splitlines( )            # the line will break into lines according to the line break \\n\n",
    "print str.splitlines(1)            # line breaks will be included within the splitted string\n",
    "\n",
    "# strip: \n",
    "# (code example from \"https://www.tutorialspoint.com/python/string_strip.htm\")\n",
    "\n",
    "\n",
    "print repr(\"0000000this is string example....\\nwow!!!0000000\".strip('0'))       # the chars\"0\" at the both ends \n",
    "                                                                                #  of the string will be removed.\n",
    "print repr(\"    0000000this is string example....\\nwow!!!0000000    \".strip())  # the empty spaces will be removed.\n",
    "\n",
    "print '1,,2'.split(',')\n",
    "print '1,,2  345'.split()"
   ]
  },
  {
   "cell_type": "markdown",
   "metadata": {},
   "source": [
    "#### understand the regular expression in Python (re.match, re.sub, re.findall):\n",
    "\n",
    "(https://www.tutorialspoint.com/python/python_reg_expressions.htm)"
   ]
  },
  {
   "cell_type": "code",
   "execution_count": 161,
   "metadata": {
    "collapsed": false
   },
   "outputs": [
    {
     "name": "stdout",
     "output_type": "stream",
     "text": [
      "-----------------------------------\n",
      "tests of 're.match':\n",
      "-----------------------------------\n",
      "re:(bcd){2} string: bcdbcd match: 'bcdbcd'\n",
      "re:[a-zA-Z][3]{2} string: a33 match: 'a33'\n",
      "'f423'\n",
      "re:[a-zA-Z].+3 string: f42312d match: 'f423'\n",
      "re:(\\d+b)(\\d{3}) string: 24b1632 match: '24b163'\n",
      "m.groups(): ('24b', '163')\n",
      "-----------------------------------\n",
      "tests of 're.match' with try&catch:\n",
      "-----------------------------------\n",
      "the re and the string does not match!\n",
      "Oops, something wrong!\n",
      "-----------------------------------\n",
      "tests of 're.sub':\n",
      "-----------------------------------\n",
      "re:\\d{2}.* string: 11 2 3 123 abc cde replacement: 00 \n",
      "result: 00\n",
      "\n",
      "re:\\d{2} string: 11 2 3 123 abc cde replacement: 00 \n",
      "result: 00 2 3 003 abc cde\n",
      "\n",
      "re:[^a-zA-Z.3+] string: #c--d++e**1234.5 replacement: ''  \n",
      "result: cd++e3.\n",
      "-----------------------------------\n",
      "tests of 're.findall':\n",
      "-----------------------------------\n",
      "['1', '10', '382']\n"
     ]
    }
   ],
   "source": [
    "print \"-----------------------------------\"\n",
    "print \"tests of 're.match':\"\n",
    "print \"-----------------------------------\"\n",
    "\n",
    "m=re.match(r'(bcd){2}',\"bcdbcd\")\n",
    "print \"re:(bcd){2} string: bcdbcd\",\"match:\",repr(m.group())\n",
    "\n",
    "m=re.match(r'[a-zA-Z][3]{2}',\"a33\")\n",
    "print \"re:[a-zA-Z][3]{2} string: a33\",\"match:\",repr(m.group())\n",
    "\n",
    "m=re.match(r'[a-zA-Z].+3',\"f42312d\")\n",
    "print repr(m.group())\n",
    "print \"re:[a-zA-Z].+3 string: f42312d\",\"match:\",repr(m.group())\n",
    "\n",
    "m = re.match(r\"(\\d+b)(\\d{3})\", \"24b1632\")\n",
    "print \"re:(\\d+b)(\\d{3}) string: 24b1632\",\"match:\",repr(m.group())\n",
    "print \"m.groups():\",m.groups() # according to the parenthesis in re, the string will be split into different groups.\n",
    "\n",
    "print \"-----------------------------------\"\n",
    "print \"tests of 're.match' with try&catch:\"\n",
    "print \"-----------------------------------\"\n",
    "\n",
    "try:\n",
    "    m=re.match(r'(d3.js)',\">\")\n",
    "    print repr(m.group())\n",
    "except AttributeError:\n",
    "    print \"the re and the string does not match!\"\n",
    "except Exception:   # catch Exception if AttributeError is not the cause\n",
    "    print \"what's happening there?\"\n",
    "\n",
    "try:\n",
    "    m=re.match(r'(d3.js)',\">\",\"123454321\")\n",
    "    print repr(m.group())\n",
    "except AttributeError:\n",
    "    print \"the re and the string does not match!\"\n",
    "except Exception:   # catch Exception if AttributeError is not the cause\n",
    "    print \"Oops, something wrong!\"\n",
    "\n",
    "print \"-----------------------------------\"\n",
    "print \"tests of 're.sub':\"\n",
    "print \"-----------------------------------\"\n",
    "\n",
    "print \"re:\\d{2}.* string: 11 2 3 123 abc cde replacement: 00\",\"\\nresult:\",re.sub(r\"\\d{2}.*\",\"00\", \"11 2 3 123 abc cde\\n\")\n",
    "print \"re:\\d{2} string: 11 2 3 123 abc cde replacement: 00\",\"\\nresult:\",re.sub(r\"\\d{2}\",\"00\", \"11 2 3 123 abc cde\\n\")\n",
    "\n",
    "# the following line will remove any element of the string \n",
    "# which is not within this list: [any alphabets(case irrelevant), ., 3, +]\n",
    "print \"re:[^a-zA-Z.3+] string: #c--d++e**1234.5 replacement: '' \",\"\\nresult:\",re.sub(r'[^a-zA-Z.3+]',\"\", \"#c--d++e**1234.5\\n\")\n",
    "\n",
    "print \"-----------------------------------\"\n",
    "print \"tests of 're.findall':\"\n",
    "print \"-----------------------------------\"\n",
    "\n",
    "print repr(re.findall(r'\\d+',\"Jobs 1 to 10 of 382\"))"
   ]
  },
  {
   "cell_type": "markdown",
   "metadata": {},
   "source": [
    "#### recall:lambda function (http://www.secnetix.de/olli/Python/lambda_functions.hawk)"
   ]
  },
  {
   "cell_type": "code",
   "execution_count": 41,
   "metadata": {
    "collapsed": false
   },
   "outputs": [
    {
     "name": "stdout",
     "output_type": "stream",
     "text": [
      "[18, 9, 24, 12, 27]\n",
      "[14, 46, 28, 54, 44, 58, 26, 34, 64]\n",
      "139\n",
      "139\n"
     ]
    }
   ],
   "source": [
    "foo = [2, 18, 9, 22, 17, 24, 8, 12, 27]\n",
    "\n",
    "print filter(lambda x: x % 3 == 0, foo)    # from python official doc:\n",
    "                                           # filter(function, iterable)\n",
    "                                           # is equivalent to [item for item in iterable if function(item)]\n",
    "print map(lambda x: x * 2 + 10, foo)\n",
    "print reduce(lambda x, y: x + y, foo)\n",
    "print sum(foo)"
   ]
  },
  {
   "cell_type": "code",
   "execution_count": 3,
   "metadata": {
    "collapsed": true
   },
   "outputs": [],
   "source": [
    "def text_cleaner(website):\n",
    "    '''\n",
    "    This function just cleans up the raw html so that I can look at it.\n",
    "    Inputs: a URL to investigate\n",
    "    Outputs: Cleaned text only\n",
    "    '''\n",
    "    try:\n",
    "        site = urllib2.urlopen(website).read() # Connect to the job posting\n",
    "    except: \n",
    "        return            # Need this in case the website isn't there anymore or some other weird connection problem \n",
    "    \n",
    "    soup_obj = BeautifulSoup(site, \"lxml\")     # Get the html from the site\n",
    "    \n",
    "    for script in soup_obj([\"script\", \"style\"]):\n",
    "        script.extract()                       # Remove these two elements from the BS4 object\n",
    "    \n",
    "    text = soup_obj.get_text() # Get the text from this\n",
    "    lines = (line.strip() for line in text.splitlines()) # break into lines\n",
    "    chunks = (phrase.strip() for line in lines for phrase in line.split(\"  \")) # break multi-headlines into a line each\n",
    "    \n",
    "    def chunk_space(chunk):\n",
    "        chunk_out = chunk + ' ' # Need to fix spacing issue\n",
    "        return chunk_out  \n",
    "        \n",
    "    \n",
    "    text = ''.join(chunk_space(chunk) for chunk in chunks if chunk).encode('utf-8') # Get rid of all blank lines and ends of line\n",
    "        \n",
    "        \n",
    "    # Now clean out all of the unicode junk (this line works great!!!)\n",
    "        \n",
    "    try:\n",
    "        text = text.decode('unicode_escape').encode('ascii', 'ignore') # Need this as some websites aren't formatted\n",
    "    except:                                                            # in a way that this works, can occasionally throw\n",
    "        return                                                         # an exception\n",
    "               \n",
    "    #text = re.sub(\"[^a-zA-Z.+3]\",\" \", text)    # Now get rid of any terms that aren't words (include 3 for d3.js)\n",
    "                                                # Also include + for C++\n",
    "       \n",
    "    text = text.lower().split()  # Go to lower case and split them apart\n",
    "\n",
    "    #stop_words = set(stopwords.words(\"english\")) # Filter out any stop words\n",
    "    #text = [w for w in text if not w in stop_words]\n",
    "\n",
    "    text = list(set(text)) # Last, just get the set of these. Ignore counts (we are just looking at whether a term existed\n",
    "                            # or not on the website)        \n",
    "    return text"
   ]
  },
  {
   "cell_type": "markdown",
   "metadata": {},
   "source": [
    "#### the use of the built-in functions \"split\" and \"join\":"
   ]
  },
  {
   "cell_type": "code",
   "execution_count": 78,
   "metadata": {
    "collapsed": false
   },
   "outputs": [
    {
     "name": "stdout",
     "output_type": "stream",
     "text": [
      "Free your mind.\n",
      "['Free', 'your', 'mind.']\n",
      "\n",
      "Welcome to the desert... of the real.\n",
      "['Welc', 'me t', ' the desert... ', 'f the real.']\n",
      "\n",
      "What is real? How do you define real?\n",
      "['What', 'is', 'real?', 'How', 'do you define real?']\n",
      "\n",
      "a+b+c\n",
      "a+b+c\n"
     ]
    }
   ],
   "source": [
    "a = \"Free your mind.\"\n",
    "b = \"Welcome to the desert... of the real.\"\n",
    "c = \"What is real? How do you define real?\"\n",
    " \n",
    "print(a)\n",
    "print(a.split())\n",
    "print\n",
    " \n",
    "print(b)\n",
    "print(b.split(\"o\"))\n",
    "print\n",
    " \n",
    "print(c)\n",
    "print(c.split(\" \", 4))\n",
    "print\n",
    "\n",
    "print '+'.join(\"abc\")\n",
    "print '+'.join([\"a\",\"b\",\"c\"])"
   ]
  },
  {
   "cell_type": "markdown",
   "metadata": {},
   "source": [
    "Beautiful soup\n",
    "\n",
    "https://www.crummy.com/software/BeautifulSoup/bs4/doc/"
   ]
  },
  {
   "cell_type": "code",
   "execution_count": 3,
   "metadata": {
    "collapsed": true
   },
   "outputs": [],
   "source": [
    "html_doc = \"\"\"\n",
    "<html><head><title>The Dormouse's story</title></head>\n",
    "<body>\n",
    "<p class=\"title\"><b>The Dormouse's story</b></p>\n",
    "\n",
    "<p class=\"story\">Once upon a time there were three little sisters; and their names were\n",
    "<a href=\"http://example.com/elsie\" class=\"sister\" id=\"link1\">Elsie</a>,\n",
    "<a href=\"http://example.com/lacie\" class=\"sister\" id=\"link2\">Lacie</a> and\n",
    "<a href=\"http://example.com/tillie\" class=\"sister\" id=\"link3\">Tillie</a>;\n",
    "and they lived at the bottom of a well.</p>\n",
    "\n",
    "<p class=\"story\">...</p>\n",
    "\"\"\""
   ]
  },
  {
   "cell_type": "code",
   "execution_count": 14,
   "metadata": {
    "collapsed": false
   },
   "outputs": [],
   "source": [
    "from bs4 import BeautifulSoup\n",
    "soup = BeautifulSoup(html_doc, 'html.parser')"
   ]
  },
  {
   "cell_type": "code",
   "execution_count": 16,
   "metadata": {
    "collapsed": false
   },
   "outputs": [
    {
     "name": "stdout",
     "output_type": "stream",
     "text": [
      "<p class=\"title\"><b>The Dormouse's story</b></p>\n",
      "[u'title']\n"
     ]
    }
   ],
   "source": [
    "print soup.find_all(\"p\")[0]\n",
    "print soup.find_all(\"p\")[0].get(\"class\")"
   ]
  },
  {
   "cell_type": "code",
   "execution_count": 5,
   "metadata": {
    "collapsed": false
   },
   "outputs": [
    {
     "name": "stdout",
     "output_type": "stream",
     "text": [
      "[<a class=\"sister\" href=\"http://example.com/elsie\" id=\"link1\">Elsie</a>, <a class=\"sister\" href=\"http://example.com/lacie\" id=\"link2\">Lacie</a>, <a class=\"sister\" href=\"http://example.com/tillie\" id=\"link3\">Tillie</a>]\n"
     ]
    }
   ],
   "source": [
    "print soup.find_all('a')"
   ]
  },
  {
   "cell_type": "code",
   "execution_count": 32,
   "metadata": {
    "collapsed": false
   },
   "outputs": [
    {
     "name": "stdout",
     "output_type": "stream",
     "text": [
      "<class 'bs4.element.Tag'>\n",
      "http://example.com/elsie\n",
      "<class 'bs4.element.Tag'>\n",
      "http://example.com/lacie\n",
      "<class 'bs4.element.Tag'>\n",
      "http://example.com/tillie\n"
     ]
    }
   ],
   "source": [
    "for link in soup.find_all('a'):\n",
    "    print type(link)\n",
    "    print(link.get('href'))"
   ]
  },
  {
   "cell_type": "code",
   "execution_count": 6,
   "metadata": {
    "collapsed": true
   },
   "outputs": [],
   "source": [
    "def skills_info(city = None, state = None):\n",
    "    '''\n",
    "    This function will take a desired city/state and look for all new job postings\n",
    "    on Indeed.com. It will crawl all of the job postings and keep track of how many\n",
    "    use a preset list of typical data science skills. The final percentage for each skill\n",
    "    is then displayed at the end of the collation. \n",
    "        \n",
    "    Inputs: The location's city and state. These are optional. If no city/state is input, \n",
    "    the function will assume a national search (this can take a while!!!).\n",
    "    Input the city/state as strings, such as skills_info('Chicago', 'IL').\n",
    "    Use a two letter abbreviation for the state.\n",
    "    \n",
    "    Output: A bar chart showing the most commonly desired skills in the job market for \n",
    "    a data scientist. \n",
    "    '''\n",
    "        \n",
    "    final_job = 'data+scientist' # searching for data scientist exact fit(\"data scientist\" on Indeed search)\n",
    "    \n",
    "    # Make sure the city specified works properly if it has more than one word (such as San Francisco)\n",
    "    if city is not None:\n",
    "        final_city = city.split() \n",
    "        final_city = '+'.join(word for word in final_city)\n",
    "        final_site_list = ['http://www.indeed.com/jobs?q=%22', final_job, '%22&l=', final_city,\n",
    "                    '%2C+', state] # Join all of our strings together so that indeed will search correctly\n",
    "    else:\n",
    "        final_site_list = ['http://www.indeed.com/jobs?q=\"', final_job, '\"']\n",
    "\n",
    "    final_site = ''.join(final_site_list) # Merge the html address together into one string\n",
    "\n",
    "    \n",
    "    base_url = 'http://www.indeed.com'\n",
    "    \n",
    "    \n",
    "    try:\n",
    "        html = urllib2.urlopen(final_site).read() # Open up the front page of our search first\n",
    "    except:\n",
    "        'That city/state combination did not have any jobs. Exiting . . .' # In case the city is invalid\n",
    "        return\n",
    "    soup = BeautifulSoup(html) # Get the html from the first page\n",
    "    \n",
    "    # Now find out how many jobs there were\n",
    "    \n",
    "    num_jobs_area = soup.find(id = 'searchCount').string.encode('utf-8') # Now extract the total number of jobs found\n",
    "                                                                         # The 'searchCount' object has this\n",
    "    \n",
    "    job_numbers = re.findall('\\d+', num_jobs_area) # Extract the total jobs found from the search result\n",
    "    \n",
    "    \n",
    "    if len(job_numbers) > 3: # Have a total number of jobs greater than 1000\n",
    "        total_num_jobs = (int(job_numbers[2])*1000) + int(job_numbers[3])\n",
    "    else:\n",
    "        total_num_jobs = int(job_numbers[2]) \n",
    "    \n",
    "    city_title = city\n",
    "    if city is None:\n",
    "        city_title = 'Nationwide'\n",
    "        \n",
    "    print 'There were', total_num_jobs, 'jobs found,', city_title # Display how many jobs were found\n",
    "    \n",
    "    num_pages = total_num_jobs/10 # This will be how we know the number of times we need to iterate over each new\n",
    "                                      # search result page\n",
    "    job_descriptions = [] # Store all our descriptions in this list\n",
    "    \n",
    "    #for i in xrange(1,num_pages+1): # Loop through all of our search result pages\n",
    "    for i in (0,): # Loop through all of our search result pages\n",
    "        print 'Getting page', i\n",
    "        start_num = str(i*10) # Assign the multiplier of 10 to view the pages we want\n",
    "        current_page = ''.join([final_site, '&start=', start_num])\n",
    "        # Now that we can view the correct 10 job returns, start collecting the text samples from each\n",
    "            \n",
    "        html_page = urllib2.urlopen(current_page).read() # Get the page\n",
    "            \n",
    "        page_obj = BeautifulSoup(html_page) # Locate all of the job links\n",
    "        job_link_area = page_obj.find(id = 'resultsCol') # The center column on the page where the job postings exist\n",
    "            \n",
    "        job_URLS = [base_url + str(link.get('href') ) for link in job_link_area.find_all('a')] # Get the URLS for the jobs ?????\n",
    "            \n",
    "        job_URLS = filter(lambda x:'clk' in x, job_URLS) # Now get just the job related URLS\n",
    "            \n",
    "        \n",
    "        for j in xrange(0,len(job_URLS)):\n",
    "            final_description = text_cleaner(job_URLS[j])\n",
    "            if final_description: # So that we only append when the website was accessed correctly\n",
    "                job_descriptions.append(final_description)\n",
    "            sleep(1) # So that we don't be jerks. If you have a very fast internet connection you could hit the server a lot! \n",
    "        \n",
    "    print 'Done with collecting the job postings!'    \n",
    "    print 'There were', len(job_descriptions), 'jobs successfully found.'\n",
    "    \n",
    "    doc_frequency = Counter() # This will create a full counter of our terms. \n",
    "    [doc_frequency.update(item) for item in job_descriptions] # List comp\n",
    "    \n",
    "    # Now we can just look at our final dict list inside doc_frequency\n",
    "    \n",
    "    # Obtain our key terms and store them in a dict. These are the key data science skills we are looking for\n",
    "    \n",
    "    prog_lang_dict = Counter({'R':doc_frequency['r'], 'Python':doc_frequency['python'],\n",
    "                    'Java':doc_frequency['java'], 'C++':doc_frequency['c++'],\n",
    "                    'Ruby':doc_frequency['ruby'],\n",
    "                    'Perl':doc_frequency['perl'], 'Matlab':doc_frequency['matlab'],\n",
    "                    'JavaScript':doc_frequency['javascript'], 'Scala': doc_frequency['scala']})\n",
    "                      \n",
    "    analysis_tool_dict = Counter({'Excel':doc_frequency['excel'],  'Tableau':doc_frequency['tableau'],\n",
    "                        'D3.js':doc_frequency['d3.js'], 'SAS':doc_frequency['sas'],\n",
    "                        'SPSS':doc_frequency['spss'], 'D3':doc_frequency['d3']})  \n",
    "\n",
    "    hadoop_dict = Counter({'Hadoop':doc_frequency['hadoop'], 'MapReduce':doc_frequency['mapreduce'],\n",
    "                'Spark':doc_frequency['spark'], 'Pig':doc_frequency['pig'],\n",
    "                'Hive':doc_frequency['hive'], 'Shark':doc_frequency['shark'],\n",
    "                'Oozie':doc_frequency['oozie'], 'ZooKeeper':doc_frequency['zookeeper'],\n",
    "                'Flume':doc_frequency['flume'], 'Mahout':doc_frequency['mahout']})\n",
    "                \n",
    "    database_dict = Counter({'SQL':doc_frequency['sql'], 'NoSQL':doc_frequency['nosql'],\n",
    "                    'HBase':doc_frequency['hbase'], 'Cassandra':doc_frequency['cassandra'],\n",
    "                    'MongoDB':doc_frequency['mongodb']})\n",
    "                     \n",
    "               \n",
    "    overall_total_skills = prog_lang_dict + analysis_tool_dict + hadoop_dict + database_dict # Combine our Counter objects\n",
    "    \n",
    "        \n",
    "    \n",
    "    final_frame = pd.DataFrame(overall_total_skills.items(), columns = ['Term', 'NumPostings']) # Convert these terms to a \n",
    "                                                                                                # dataframe \n",
    "    print final_frame.tail()\n",
    "    # Change the values to reflect a percentage of the postings \n",
    "    \n",
    "    final_frame.NumPostings = (final_frame.NumPostings)*100/len(job_descriptions) # Gives percentage of job postings \n",
    "                                                                                    #  having that term \n",
    "    \n",
    "    # Sort the data for plotting purposes\n",
    "    \n",
    "    final_frame.sort(columns = 'NumPostings', ascending = False, inplace = True)\n",
    "\n",
    "    # Get it ready for a bar plot\n",
    "        \n",
    "    final_plot = final_frame.plot(x = 'Term', kind = 'bar', legend = None, \n",
    "                            title = 'Percentage of Data Scientist Job Ads with a Key Skill, ' + city_title)\n",
    "        \n",
    "    final_plot.set_ylabel('Percentage Appearing in Job Ads')\n",
    "    fig = final_plot.get_figure() # Have to convert the pandas plot object to a matplotlib object\n",
    "        \n",
    "        \n",
    "    return fig, final_frame # End of the function"
   ]
  },
  {
   "cell_type": "code",
   "execution_count": null,
   "metadata": {
    "collapsed": true
   },
   "outputs": [],
   "source": []
  },
  {
   "cell_type": "code",
   "execution_count": 7,
   "metadata": {
    "collapsed": false
   },
   "outputs": [
    {
     "name": "stdout",
     "output_type": "stream",
     "text": [
      "There were 215 jobs found, Seattle\n",
      "Getting page 0\n",
      "Done with collecting the job postings!\n",
      "There were 8 jobs successfully found.\n",
      "     Term  NumPostings\n",
      "5  Hadoop            1\n",
      "6       R            2\n",
      "7     SQL            2\n",
      "8     SAS            2\n",
      "9   Spark            1\n"
     ]
    },
    {
     "name": "stderr",
     "output_type": "stream",
     "text": [
      "C:\\Users\\Student\\Anaconda2\\lib\\site-packages\\ipykernel\\__main__.py:133: FutureWarning: sort(columns=....) is deprecated, use sort_values(by=.....)\n"
     ]
    },
    {
     "data": {
      "image/png": "[encoded data removed]",
      "text/plain": [
       "<matplotlib.figure.Figure at 0x10c34c18>"
      ]
     },
     "metadata": {},
     "output_type": "display_data"
    }
   ],
   "source": [
    "seattle_info = skills_info(city = 'Seattle', state = 'WA') "
   ]
  },
  {
   "cell_type": "code",
   "execution_count": 10,
   "metadata": {
    "collapsed": false
   },
   "outputs": [
    {
     "name": "stdout",
     "output_type": "stream",
     "text": [
      "There were 342 jobs found, San Francisco\n",
      "Getting page 1\n",
      "Getting page 2\n",
      "Getting page 3\n",
      "Getting page 4\n",
      "Getting page 5\n",
      "Getting page 6\n",
      "Getting page 7\n",
      "Getting page 8\n",
      "Getting page 9\n",
      "Getting page 10\n",
      "Getting page 11\n",
      "Getting page 12\n",
      "Getting page 13\n",
      "Getting page 14\n",
      "Getting page 15\n",
      "Getting page 16\n",
      "Getting page 17\n",
      "Getting page 18\n",
      "Getting page 19\n",
      "Getting page 20\n",
      "Getting page 21\n",
      "Getting page 22\n",
      "Getting page 23\n",
      "Getting page 24\n",
      "Getting page 25\n",
      "Getting page 26\n",
      "Getting page 27\n",
      "Getting page 28\n",
      "Getting page 29\n",
      "Getting page 30\n",
      "Getting page 31\n",
      "Getting page 32\n",
      "Getting page 33\n",
      "Getting page 34\n",
      "Done with collecting the job postings!\n",
      "There were 227 jobs successfully found.\n"
     ]
    },
    {
     "name": "stderr",
     "output_type": "stream",
     "text": [
      "C:\\Users\\Student\\Anaconda2\\lib\\site-packages\\ipykernel\\__main__.py:132: FutureWarning: sort(columns=....) is deprecated, use sort_values(by=.....)\n"
     ]
    },
    {
     "data": {
      "image/png": "[encoded data removed]",
      "text/plain": [
       "<matplotlib.figure.Figure at 0x1250d6d8>"
      ]
     },
     "metadata": {},
     "output_type": "display_data"
    }
   ],
   "source": [
    "sf_info = skills_info(city = 'San Francisco', state = 'CA') "
   ]
  },
  {
   "cell_type": "code",
   "execution_count": 12,
   "metadata": {
    "collapsed": false
   },
   "outputs": [
    {
     "name": "stdout",
     "output_type": "stream",
     "text": [
      "There were 369 jobs found, New York\n",
      "Getting page 1\n",
      "Getting page 2\n",
      "Getting page 3\n",
      "Getting page 4\n",
      "Getting page 5\n",
      "Getting page 6\n",
      "Getting page 7\n",
      "Getting page 8\n",
      "Getting page 9\n",
      "Getting page 10\n",
      "Getting page 11\n",
      "Getting page 12\n",
      "Getting page 13\n",
      "Getting page 14\n",
      "Getting page 15\n",
      "Getting page 16\n",
      "Getting page 17\n",
      "Getting page 18\n",
      "Getting page 19\n",
      "Getting page 20\n",
      "Getting page 21\n",
      "Getting page 22\n",
      "Getting page 23\n",
      "Getting page 24\n",
      "Getting page 25\n",
      "Getting page 26\n",
      "Getting page 27\n",
      "Getting page 28\n",
      "Getting page 29\n",
      "Getting page 30\n",
      "Getting page 31\n",
      "Getting page 32\n",
      "Getting page 33\n",
      "Getting page 34\n",
      "Getting page 35\n",
      "Getting page 36\n",
      "Done with collecting the job postings!\n",
      "There were 287 jobs successfully found.\n"
     ]
    },
    {
     "name": "stderr",
     "output_type": "stream",
     "text": [
      "C:\\Users\\Student\\Anaconda2\\lib\\site-packages\\ipykernel\\__main__.py:132: FutureWarning: sort(columns=....) is deprecated, use sort_values(by=.....)\n"
     ]
    },
    {
     "data": {
      "image/png": "[encoded data removed]",
      "text/plain": [
       "<matplotlib.figure.Figure at 0x1150ceb8>"
      ]
     },
     "metadata": {},
     "output_type": "display_data"
    }
   ],
   "source": [
    "sf_info = skills_info(city = 'New York', state = 'NY') "
   ]
  },
  {
   "cell_type": "code",
   "execution_count": null,
   "metadata": {
    "collapsed": true
   },
   "outputs": [],
   "source": [
    "hadoop_dict = Counter({'Hadoop':doc_frequency['hadoop'], 'MapReduce':doc_frequency['mapreduce'],\n",
    "        'Spark':doc_frequency['spark'], 'Pig':doc_frequency['pig'],\n",
    "        'Hive':doc_frequency['hive'], 'Shark':doc_frequency['shark'],\n",
    "        'Oozie':doc_frequency['oozie'], 'ZooKeeper':doc_frequency['zookeeper'],\n",
    "        'Flume':doc_frequency['flume'], 'Mahout':doc_frequency['mahout']})"
   ]
  },
  {
   "cell_type": "code",
   "execution_count": 23,
   "metadata": {
    "collapsed": false
   },
   "outputs": [
    {
     "name": "stdout",
     "output_type": "stream",
     "text": [
      "There were 3167 jobs found, Nationwide\n",
      "Getting page 1\n",
      "Getting page 2\n",
      "Getting page 3\n",
      "Getting page 4\n",
      "Getting page 5\n"
     ]
    },
    {
     "ename": "KeyboardInterrupt",
     "evalue": "",
     "output_type": "error",
     "traceback": [
      "\u001b[1;31m---------------------------------------------------------------------------\u001b[0m",
      "\u001b[1;31mKeyboardInterrupt\u001b[0m                         Traceback (most recent call last)",
      "\u001b[1;32m<ipython-input-23-bc68b91da437>\u001b[0m in \u001b[0;36m<module>\u001b[1;34m()\u001b[0m\n\u001b[1;32m----> 1\u001b[1;33m \u001b[0msf_info\u001b[0m \u001b[1;33m=\u001b[0m \u001b[0mskills_info\u001b[0m\u001b[1;33m(\u001b[0m\u001b[1;33m)\u001b[0m\u001b[1;33m\u001b[0m\u001b[0m\n\u001b[0m",
      "\u001b[1;32m<ipython-input-8-5c82744b84ca>\u001b[0m in \u001b[0;36mskills_info\u001b[1;34m(city, state)\u001b[0m\n\u001b[0;32m     82\u001b[0m             \u001b[1;32mif\u001b[0m \u001b[0mfinal_description\u001b[0m\u001b[1;33m:\u001b[0m \u001b[1;31m# So that we only append when the website was accessed correctly\u001b[0m\u001b[1;33m\u001b[0m\u001b[0m\n\u001b[0;32m     83\u001b[0m                 \u001b[0mjob_descriptions\u001b[0m\u001b[1;33m.\u001b[0m\u001b[0mappend\u001b[0m\u001b[1;33m(\u001b[0m\u001b[0mfinal_description\u001b[0m\u001b[1;33m)\u001b[0m\u001b[1;33m\u001b[0m\u001b[0m\n\u001b[1;32m---> 84\u001b[1;33m             \u001b[0msleep\u001b[0m\u001b[1;33m(\u001b[0m\u001b[1;36m1\u001b[0m\u001b[1;33m)\u001b[0m \u001b[1;31m# So that we don't be jerks. If you have a very fast internet connection you could hit the server a lot!\u001b[0m\u001b[1;33m\u001b[0m\u001b[0m\n\u001b[0m\u001b[0;32m     85\u001b[0m \u001b[1;33m\u001b[0m\u001b[0m\n\u001b[0;32m     86\u001b[0m     \u001b[1;32mprint\u001b[0m \u001b[1;34m'Done with collecting the job postings!'\u001b[0m\u001b[1;33m\u001b[0m\u001b[0m\n",
      "\u001b[1;31mKeyboardInterrupt\u001b[0m: "
     ]
    }
   ],
   "source": [
    "sf_info = skills_info() "
   ]
  },
  {
   "cell_type": "markdown",
   "metadata": {},
   "source": [
    "----"
   ]
  },
  {
   "cell_type": "markdown",
   "metadata": {
    "collapsed": true
   },
   "source": [
    "http://wiki.jikexueyuan.com/project/python-crawler-guide/beautiful-soup.html\n",
    "    \n",
    "http://stackoverflow.com/questions/27346976/beautifulsoup-find-all-does-not-find-all"
   ]
  }
 ],
 "metadata": {
  "anaconda-cloud": {},
  "kernelspec": {
   "display_name": "Python [Root]",
   "language": "python",
   "name": "Python [Root]"
  },
  "language_info": {
   "codemirror_mode": {
    "name": "ipython",
    "version": 2
   },
   "file_extension": ".py",
   "mimetype": "text/x-python",
   "name": "python",
   "nbconvert_exporter": "python",
   "pygments_lexer": "ipython2",
   "version": "2.7.12"
  }
 },
 "nbformat": 4,
 "nbformat_minor": 0
}
