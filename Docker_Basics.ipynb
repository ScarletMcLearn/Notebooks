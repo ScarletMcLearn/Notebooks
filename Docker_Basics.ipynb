{
 "cells": [
  {
   "cell_type": "code",
   "execution_count": null,
   "metadata": {
    "collapsed": true
   },
   "outputs": [],
   "source": []
  },
  {
   "cell_type": "code",
   "execution_count": null,
   "metadata": {
    "collapsed": true
   },
   "outputs": [],
   "source": [
    "run (-d) ps (-a) logs attach exec start stop rm"
   ]
  },
  {
   "cell_type": "markdown",
   "metadata": {},
   "source": [
    "#### 28.11.2016"
   ]
  },
  {
   "cell_type": "markdown",
   "metadata": {},
   "source": [
    "## docker run"
   ]
  },
  {
   "cell_type": "markdown",
   "metadata": {},
   "source": [
    "```bash\n",
    "!docker run -it ubuntu /bin/bash\n",
    "```"
   ]
  },
  {
   "cell_type": "markdown",
   "metadata": {},
   "source": [
    "remark: -i:interactive; \n",
    "\n",
    "-t:tty(teletypewriter, i.e. text-only console)"
   ]
  },
  {
   "cell_type": "code",
   "execution_count": null,
   "metadata": {
    "collapsed": true
   },
   "outputs": [],
   "source": [
    "instead running an interactive shell, one can initiaa"
   ]
  },
  {
   "cell_type": "markdown",
   "metadata": {},
   "source": [
    "#### exercise: keep printing hello world before the termination of the daemon:"
   ]
  },
  {
   "cell_type": "code",
   "execution_count": 7,
   "metadata": {
    "collapsed": false
   },
   "outputs": [
    {
     "name": "stdout",
     "output_type": "stream",
     "text": [
      "152403910c2dd62bb641237af736266131625802cc1cac78711183cf8bcf376d\n"
     ]
    }
   ],
   "source": [
    "!docker run --name daemon-dyson -d ubuntu /bin/bash -c \"while true; do echo hello world;sleep 1;done\""
   ]
  },
  {
   "cell_type": "markdown",
   "metadata": {},
   "source": [
    "#### remark: -d:daemon; -c:commands"
   ]
  },
  {
   "cell_type": "markdown",
   "metadata": {},
   "source": [
    "## docker ps"
   ]
  },
  {
   "cell_type": "code",
   "execution_count": 8,
   "metadata": {
    "collapsed": false
   },
   "outputs": [
    {
     "name": "stdout",
     "output_type": "stream",
     "text": [
      "CONTAINER ID        IMAGE               COMMAND                   CREATED              STATUS                      PORTS               NAMES\n",
      "152403910c2d        ubuntu              \"/bin/bash -c 'while \"    8 seconds ago        Up 8 seconds                                    daemon-dyson\n",
      "f5d0f894cc1b        ubuntu              \"/bin/bash -c 'while \"    About a minute ago   Up About a minute                               daemon-dave\n",
      "c9d2c30b0fb3        ubuntu              \"/bash -c '\\nwhile tru\"   2 minutes ago        Created                                         daemon-david\n",
      "e1f42ce9564d        ubuntu              \"/bin/bash\"               15 minutes ago       Exited (0) 12 minutes ago                       thirsty_kirch\n",
      "b865e0258c70        ubuntu              \"/bin/bash\"               16 minutes ago       Exited (0) 15 minutes ago                       lonely_brahmagupta\n",
      "79b730a57076        ubuntu              \"/bin/bash\"               16 minutes ago       Exited (0) 16 minutes ago                       hungry_ritchie\n",
      "9f4e78018f4f        ubuntu              \"/bin/bash\"               About an hour ago    Exited (0) 19 minutes ago                       wengsubuntu\n",
      "4d9c9c79fe36        ubuntu              \"/bin/bash\"               2 hours ago          Exited (0) 16 minutes ago                       modest_bartik\n",
      "5d64fa1d694b        hello-world         \"/hello\"                  3 hours ago          Exited (0) 3 hours ago                          lonely_stallman\n"
     ]
    }
   ],
   "source": [
    "!docker ps -a"
   ]
  },
  {
   "cell_type": "markdown",
   "metadata": {},
   "source": [
    "## docker logs"
   ]
  },
  {
   "cell_type": "code",
   "execution_count": 9,
   "metadata": {
    "collapsed": false,
    "scrolled": true
   },
   "outputs": [
    {
     "name": "stdout",
     "output_type": "stream",
     "text": [
      "hello world\n",
      "hello world\n",
      "hello world\n",
      "hello world\n",
      "hello world\n",
      "hello world\n",
      "hello world\n",
      "hello world\n",
      "hello world\n",
      "hello world\n",
      "hello world\n",
      "hello world\n",
      "hello world\n",
      "hello world\n",
      "hello world\n",
      "hello world\n",
      "hello world\n",
      "hello world\n",
      "hello world\n",
      "hello world\n",
      "hello world\n",
      "hello world\n",
      "hello world\n",
      "hello world\n",
      "hello world\n",
      "hello world\n",
      "hello world\n",
      "hello world\n",
      "hello world\n",
      "hello world\n",
      "hello world\n",
      "hello world\n",
      "hello world\n",
      "hello world\n",
      "hello world\n",
      "hello world\n",
      "hello world\n",
      "hello world\n",
      "hello world\n",
      "hello world\n",
      "hello world\n",
      "hello world\n",
      "hello world\n",
      "hello world\n",
      "hello world\n",
      "hello world\n",
      "hello world\n",
      "hello world\n",
      "hello world\n",
      "hello world\n",
      "hello world\n",
      "hello world\n",
      "hello world\n",
      "hello world\n",
      "hello world\n",
      "hello world\n",
      "hello world\n",
      "hello world\n",
      "hello world\n",
      "hello world\n",
      "hello world\n",
      "hello world\n",
      "hello world\n",
      "hello world\n",
      "hello world\n",
      "hello world\n",
      "hello world\n",
      "hello world\n",
      "hello world\n",
      "hello world\n",
      "hello world\n",
      "hello world\n",
      "hello world\n",
      "hello world\n",
      "hello world\n",
      "hello world\n",
      "hello world\n",
      "hello world\n",
      "hello world\n",
      "hello world\n",
      "hello world\n",
      "hello world\n",
      "hello world\n",
      "hello world\n",
      "hello world\n",
      "hello world\n",
      "hello world\n",
      "hello world\n",
      "hello world\n",
      "hello world\n",
      "hello world\n",
      "hello world\n",
      "hello world\n",
      "hello world\n",
      "hello world\n",
      "hello world\n",
      "hello world\n",
      "hello world\n",
      "hello world\n",
      "hello world\n",
      "hello world\n",
      "hello world\n",
      "hello world\n",
      "hello world\n",
      "hello world\n",
      "hello world\n",
      "hello world\n",
      "hello world\n",
      "hello world\n",
      "hello world\n",
      "hello world\n",
      "hello world\n",
      "hello world\n",
      "hello world\n",
      "hello world\n",
      "hello world\n",
      "hello world\n",
      "hello world\n",
      "hello world\n",
      "hello world\n",
      "hello world\n",
      "hello world\n"
     ]
    }
   ],
   "source": [
    "!docker logs daemon-dyson"
   ]
  },
  {
   "cell_type": "code",
   "execution_count": 12,
   "metadata": {
    "collapsed": false
   },
   "outputs": [
    {
     "name": "stdout",
     "output_type": "stream",
     "text": [
      "2016-11-28T05:52:44.097906219Z hello world\n",
      "2016-11-28T05:52:45.144575564Z hello world\n",
      "2016-11-28T05:52:46.148157811Z hello world\n",
      "2016-11-28T05:52:47.150192084Z hello world\n",
      "2016-11-28T05:52:48.154457162Z hello world\n",
      "2016-11-28T05:52:49.158635012Z hello world\n",
      "2016-11-28T05:52:50.163771180Z hello world\n",
      "2016-11-28T05:52:51.174407752Z hello world\n",
      "2016-11-28T05:52:52.182774174Z hello world\n",
      "2016-11-28T05:52:53.186520435Z hello world\n"
     ]
    }
   ],
   "source": [
    "!docker logs -t --tail 10 daemon-dyson"
   ]
  },
  {
   "cell_type": "code",
   "execution_count": null,
   "metadata": {
    "collapsed": true
   },
   "outputs": [],
   "source": [
    "!docker logs -t -f daemon-dyson"
   ]
  },
  {
   "cell_type": "markdown",
   "metadata": {},
   "source": [
    "the flag -f will keep refreshing the log file. "
   ]
  },
  {
   "cell_type": "code",
   "execution_count": 13,
   "metadata": {
    "collapsed": false
   },
   "outputs": [
    {
     "name": "stdout",
     "output_type": "stream",
     "text": [
      "PID                 USER                COMMAND\n",
      "17362               root                /bin/bash -c while true; do echo hello world;sleep 1;done\n",
      "18380               root                sleep 1\n"
     ]
    }
   ],
   "source": [
    "!docker top daemon-dyson"
   ]
  },
  {
   "cell_type": "code",
   "execution_count": null,
   "metadata": {
    "collapsed": true
   },
   "outputs": [],
   "source": [
    "showing the last three processes:"
   ]
  },
  {
   "cell_type": "code",
   "execution_count": 2,
   "metadata": {
    "collapsed": false
   },
   "outputs": [
    {
     "name": "stdout",
     "output_type": "stream",
     "text": [
      "CONTAINER ID        IMAGE               COMMAND                   CREATED             STATUS              PORTS               NAMES\n",
      "152403910c2d        ubuntu              \"/bin/bash -c 'while \"    34 minutes ago      Up 34 minutes                           daemon-dyson\n",
      "f5d0f894cc1b        ubuntu              \"/bin/bash -c 'while \"    35 minutes ago      Up 35 minutes                           daemon-dave\n",
      "c9d2c30b0fb3        ubuntu              \"/bash -c '\\nwhile tru\"   36 minutes ago      Created                                 daemon-david\n"
     ]
    }
   ],
   "source": [
    "!docker ps -n 3"
   ]
  },
  {
   "cell_type": "markdown",
   "metadata": {},
   "source": [
    "## docker attach\n",
    "\n",
    "(attach to a running container)"
   ]
  },
  {
   "cell_type": "markdown",
   "metadata": {},
   "source": [
    "```bash\n",
    "!docker attach daemon-dyson\n",
    "```"
   ]
  },
  {
   "cell_type": "markdown",
   "metadata": {},
   "source": [
    "## docker inspect\n",
    "inspect the selected container:"
   ]
  },
  {
   "cell_type": "code",
   "execution_count": 8,
   "metadata": {
    "collapsed": false,
    "scrolled": true
   },
   "outputs": [
    {
     "name": "stdout",
     "output_type": "stream",
     "text": [
      "[\n",
      "    {\n",
      "        \"Id\": \"152403910c2dd62bb641237af736266131625802cc1cac78711183cf8bcf376d\",\n",
      "        \"Created\": \"2016-11-28T05:48:01.033944249Z\",\n",
      "        \"Path\": \"/bin/bash\",\n",
      "        \"Args\": [\n",
      "            \"-c\",\n",
      "            \"while true; do echo hello world;sleep 1;done\"\n",
      "        ],\n",
      "        \"State\": {\n",
      "            \"Status\": \"running\",\n",
      "            \"Running\": true,\n",
      "            \"Paused\": false,\n",
      "            \"Restarting\": false,\n",
      "            \"OOMKilled\": false,\n",
      "            \"Dead\": false,\n",
      "            \"Pid\": 17362,\n",
      "            \"ExitCode\": 0,\n",
      "            \"Error\": \"\",\n",
      "            \"StartedAt\": \"2016-11-28T05:48:01.126423857Z\",\n",
      "            \"FinishedAt\": \"0001-01-01T00:00:00Z\"\n",
      "        },\n",
      "        \"Image\": \"sha256:e4415b714b624040f19f45994b51daed5cbdb00e0eb9a07221ff0bd6bcf55ed7\",\n",
      "        \"ResolvConfPath\": \"/mnt/sda1/var/lib/docker/containers/152403910c2dd62bb641237af736266131625802cc1cac78711183cf8bcf376d/resolv.conf\",\n",
      "        \"HostnamePath\": \"/mnt/sda1/var/lib/docker/containers/152403910c2dd62bb641237af736266131625802cc1cac78711183cf8bcf376d/hostname\",\n",
      "        \"HostsPath\": \"/mnt/sda1/var/lib/docker/containers/152403910c2dd62bb641237af736266131625802cc1cac78711183cf8bcf376d/hosts\",\n",
      "        \"LogPath\": \"/mnt/sda1/var/lib/docker/containers/152403910c2dd62bb641237af736266131625802cc1cac78711183cf8bcf376d/152403910c2dd62bb641237af736266131625802cc1cac78711183cf8bcf376d-json.log\",\n",
      "        \"Name\": \"/daemon-dyson\",\n",
      "        \"RestartCount\": 0,\n",
      "        \"Driver\": \"aufs\",\n",
      "        \"MountLabel\": \"\",\n",
      "        \"ProcessLabel\": \"\",\n",
      "        \"AppArmorProfile\": \"\",\n",
      "        \"ExecIDs\": null,\n",
      "        \"HostConfig\": {\n",
      "            \"Binds\": null,\n",
      "            \"ContainerIDFile\": \"\",\n",
      "            \"LogConfig\": {\n",
      "                \"Type\": \"json-file\",\n",
      "                \"Config\": {}\n",
      "            },\n",
      "            \"NetworkMode\": \"default\",\n",
      "            \"PortBindings\": {},\n",
      "            \"RestartPolicy\": {\n",
      "                \"Name\": \"no\",\n",
      "                \"MaximumRetryCount\": 0\n",
      "            },\n",
      "            \"AutoRemove\": false,\n",
      "            \"VolumeDriver\": \"\",\n",
      "            \"VolumesFrom\": null,\n",
      "            \"CapAdd\": null,\n",
      "            \"CapDrop\": null,\n",
      "            \"Dns\": [],\n",
      "            \"DnsOptions\": [],\n",
      "            \"DnsSearch\": [],\n",
      "            \"ExtraHosts\": null,\n",
      "            \"GroupAdd\": null,\n",
      "            \"IpcMode\": \"\",\n",
      "            \"Cgroup\": \"\",\n",
      "            \"Links\": null,\n",
      "            \"OomScoreAdj\": 0,\n",
      "            \"PidMode\": \"\",\n",
      "            \"Privileged\": false,\n",
      "            \"PublishAllPorts\": false,\n",
      "            \"ReadonlyRootfs\": false,\n",
      "            \"SecurityOpt\": null,\n",
      "            \"UTSMode\": \"\",\n",
      "            \"UsernsMode\": \"\",\n",
      "            \"ShmSize\": 67108864,\n",
      "            \"Runtime\": \"runc\",\n",
      "            \"ConsoleSize\": [\n",
      "                0,\n",
      "                0\n",
      "            ],\n",
      "            \"Isolation\": \"\",\n",
      "            \"CpuShares\": 0,\n",
      "            \"Memory\": 0,\n",
      "            \"CgroupParent\": \"\",\n",
      "            \"BlkioWeight\": 0,\n",
      "            \"BlkioWeightDevice\": null,\n",
      "            \"BlkioDeviceReadBps\": null,\n",
      "            \"BlkioDeviceWriteBps\": null,\n",
      "            \"BlkioDeviceReadIOps\": null,\n",
      "            \"BlkioDeviceWriteIOps\": null,\n",
      "            \"CpuPeriod\": 0,\n",
      "            \"CpuQuota\": 0,\n",
      "            \"CpusetCpus\": \"\",\n",
      "            \"CpusetMems\": \"\",\n",
      "            \"Devices\": [],\n",
      "            \"DiskQuota\": 0,\n",
      "            \"KernelMemory\": 0,\n",
      "            \"MemoryReservation\": 0,\n",
      "            \"MemorySwap\": 0,\n",
      "            \"MemorySwappiness\": -1,\n",
      "            \"OomKillDisable\": false,\n",
      "            \"PidsLimit\": 0,\n",
      "            \"Ulimits\": null,\n",
      "            \"CpuCount\": 0,\n",
      "            \"CpuPercent\": 0,\n",
      "            \"IOMaximumIOps\": 0,\n",
      "            \"IOMaximumBandwidth\": 0\n",
      "        },\n",
      "        \"GraphDriver\": {\n",
      "            \"Name\": \"aufs\",\n",
      "            \"Data\": null\n",
      "        },\n",
      "        \"Mounts\": [],\n",
      "        \"Config\": {\n",
      "            \"Hostname\": \"152403910c2d\",\n",
      "            \"Domainname\": \"\",\n",
      "            \"User\": \"\",\n",
      "            \"AttachStdin\": false,\n",
      "            \"AttachStdout\": false,\n",
      "            \"AttachStderr\": false,\n",
      "            \"Tty\": false,\n",
      "            \"OpenStdin\": false,\n",
      "            \"StdinOnce\": false,\n",
      "            \"Env\": [\n",
      "                \"PATH=/usr/local/sbin:/usr/local/bin:/usr/sbin:/usr/bin:/sbin:/bin\"\n",
      "            ],\n",
      "            \"Cmd\": [\n",
      "                \"/bin/bash\",\n",
      "                \"-c\",\n",
      "                \"while true; do echo hello world;sleep 1;done\"\n",
      "            ],\n",
      "            \"Image\": \"ubuntu\",\n",
      "            \"Volumes\": null,\n",
      "            \"WorkingDir\": \"\",\n",
      "            \"Entrypoint\": null,\n",
      "            \"OnBuild\": null,\n",
      "            \"Labels\": {}\n",
      "        },\n",
      "        \"NetworkSettings\": {\n",
      "            \"Bridge\": \"\",\n",
      "            \"SandboxID\": \"16134da9abdda0e82958e8ce863bfbbcdf33589177bd90c52509648d345353a9\",\n",
      "            \"HairpinMode\": false,\n",
      "            \"LinkLocalIPv6Address\": \"\",\n",
      "            \"LinkLocalIPv6PrefixLen\": 0,\n",
      "            \"Ports\": {},\n",
      "            \"SandboxKey\": \"/var/run/docker/netns/16134da9abdd\",\n",
      "            \"SecondaryIPAddresses\": null,\n",
      "            \"SecondaryIPv6Addresses\": null,\n",
      "            \"EndpointID\": \"50f4214b2c70ea7ea6bf372444eb595ea7da7f752d8a11cf59156eb2a5bae7db\",\n",
      "            \"Gateway\": \"172.17.0.1\",\n",
      "            \"GlobalIPv6Address\": \"\",\n",
      "            \"GlobalIPv6PrefixLen\": 0,\n",
      "            \"IPAddress\": \"172.17.0.3\",\n",
      "            \"IPPrefixLen\": 16,\n",
      "            \"IPv6Gateway\": \"\",\n",
      "            \"MacAddress\": \"02:42:ac:11:00:03\",\n",
      "            \"Networks\": {\n",
      "                \"bridge\": {\n",
      "                    \"IPAMConfig\": null,\n",
      "                    \"Links\": null,\n",
      "                    \"Aliases\": null,\n",
      "                    \"NetworkID\": \"03569ac3ef89ba2e486a07293c37e71fd931a2a5c865b2f437be82c18f1bbe61\",\n",
      "                    \"EndpointID\": \"50f4214b2c70ea7ea6bf372444eb595ea7da7f752d8a11cf59156eb2a5bae7db\",\n",
      "                    \"Gateway\": \"172.17.0.1\",\n",
      "                    \"IPAddress\": \"172.17.0.3\",\n",
      "                    \"IPPrefixLen\": 16,\n",
      "                    \"IPv6Gateway\": \"\",\n",
      "                    \"GlobalIPv6Address\": \"\",\n",
      "                    \"GlobalIPv6PrefixLen\": 0,\n",
      "                    \"MacAddress\": \"02:42:ac:11:00:03\"\n",
      "                }\n",
      "            }\n",
      "        }\n",
      "    }\n",
      "]\n"
     ]
    }
   ],
   "source": [
    "!docker inspect daemon-dyson"
   ]
  },
  {
   "cell_type": "markdown",
   "metadata": {},
   "source": [
    "#### extract some info from the command docker inspect:"
   ]
  },
  {
   "cell_type": "code",
   "execution_count": 19,
   "metadata": {
    "collapsed": false
   },
   "outputs": [
    {
     "name": "stdout",
     "output_type": "stream",
     "text": [
      "true\n"
     ]
    }
   ],
   "source": [
    "%%bash\n",
    "\n",
    "docker inspect --format=\"{{.State.Running}}\" daemon-dyson"
   ]
  },
  {
   "cell_type": "code",
   "execution_count": 18,
   "metadata": {
    "collapsed": false
   },
   "outputs": [
    {
     "name": "stdout",
     "output_type": "stream",
     "text": [
      "172.17.0.3\n"
     ]
    }
   ],
   "source": [
    "%%bash\n",
    "\n",
    "docker inspect --format=\"{{.NetworkSettings.IPAddress}}\" daemon-dyson"
   ]
  },
  {
   "cell_type": "markdown",
   "metadata": {},
   "source": [
    "the -A flag of grep:\n",
    "    \n",
    "(-A: afterwards)"
   ]
  },
  {
   "cell_type": "code",
   "execution_count": 27,
   "metadata": {
    "collapsed": false
   },
   "outputs": [
    {
     "name": "stdout",
     "output_type": "stream",
     "text": [
      "        \"NetworkSettings\": {\n",
      "            \"Bridge\": \"\",\n",
      "            \"SandboxID\": \"16134da9abdda0e82958e8ce863bfbbcdf33589177bd90c52509648d345353a9\",\n",
      "            \"HairpinMode\": false,\n",
      "            \"LinkLocalIPv6Address\": \"\",\n",
      "            \"LinkLocalIPv6PrefixLen\": 0,\n",
      "            \"Ports\": {},\n",
      "            \"SandboxKey\": \"/var/run/docker/netns/16134da9abdd\",\n",
      "            \"SecondaryIPAddresses\": null,\n",
      "            \"SecondaryIPv6Addresses\": null,\n",
      "            \"EndpointID\": \"50f4214b2c70ea7ea6bf372444eb595ea7da7f752d8a11cf59156eb2a5bae7db\",\n",
      "            \"Gateway\": \"172.17.0.1\",\n",
      "            \"GlobalIPv6Address\": \"\",\n",
      "            \"GlobalIPv6PrefixLen\": 0,\n",
      "            \"IPAddress\": \"172.17.0.3\",\n",
      "            \"IPPrefixLen\": 16,\n",
      "            \"IPv6Gateway\": \"\",\n",
      "            \"MacAddress\": \"02:42:ac:11:00:03\",\n",
      "            \"Networks\": {\n",
      "                \"bridge\": {\n",
      "                    \"IPAMConfig\": null,\n",
      "                    \"Links\": null,\n",
      "                    \"Aliases\": null,\n",
      "                    \"NetworkID\": \"03569ac3ef89ba2e486a07293c37e71fd931a2a5c865b2f437be82c18f1bbe61\",\n",
      "                    \"EndpointID\": \"50f4214b2c70ea7ea6bf372444eb595ea7da7f752d8a11cf59156eb2a5bae7db\",\n",
      "                    \"Gateway\": \"172.17.0.1\",\n",
      "                    \"IPAddress\": \"172.17.0.3\",\n",
      "                    \"IPPrefixLen\": 16,\n",
      "                    \"IPv6Gateway\": \"\",\n",
      "                    \"GlobalIPv6Address\": \"\",\n",
      "                    \"GlobalIPv6PrefixLen\": 0,\n",
      "                    \"MacAddress\": \"02:42:ac:11:00:03\"\n",
      "                }\n",
      "            }\n",
      "        }\n",
      "    }\n",
      "]\n"
     ]
    }
   ],
   "source": [
    "%%bash\n",
    "\n",
    "docker inspect daemon-dyson |grep -A 100 \"NetworkSettings\""
   ]
  },
  {
   "cell_type": "markdown",
   "metadata": {},
   "source": [
    "#### stop and remove a daemon:"
   ]
  },
  {
   "cell_type": "code",
   "execution_count": 28,
   "metadata": {
    "collapsed": false
   },
   "outputs": [
    {
     "name": "stdout",
     "output_type": "stream",
     "text": [
      "daemon-dave\n"
     ]
    }
   ],
   "source": [
    "%%bash\n",
    "docker stop daemon-dave\n",
    "docker rm daemon-dave"
   ]
  },
  {
   "cell_type": "code",
   "execution_count": 32,
   "metadata": {
    "collapsed": false
   },
   "outputs": [
    {
     "name": "stdout",
     "output_type": "stream",
     "text": [
      "CONTAINER ID        IMAGE               COMMAND                  CREATED             STATUS                         PORTS               NAMES\n",
      "152403910c2d        ubuntu              \"/bin/bash -c 'while \"   53 minutes ago      Up 53 minutes                                      daemon-dyson\n",
      "e1f42ce9564d        ubuntu              \"/bin/bash\"              About an hour ago   Exited (0) About an hour ago                       thirsty_kirch\n",
      "b865e0258c70        ubuntu              \"/bin/bash\"              About an hour ago   Exited (0) About an hour ago                       lonely_brahmagupta\n",
      "79b730a57076        ubuntu              \"/bin/bash\"              About an hour ago   Exited (0) About an hour ago                       hungry_ritchie\n",
      "9f4e78018f4f        ubuntu              \"/bin/bash\"              2 hours ago         Exited (0) About an hour ago                       wengsubuntu\n",
      "4d9c9c79fe36        ubuntu              \"/bin/bash\"              3 hours ago         Exited (0) About an hour ago                       modest_bartik\n",
      "5d64fa1d694b        hello-world         \"/hello\"                 4 hours ago         Exited (0) 4 hours ago                             lonely_stallman\n"
     ]
    }
   ],
   "source": [
    "%%bash\n",
    "docker ps -a"
   ]
  },
  {
   "cell_type": "code",
   "execution_count": 33,
   "metadata": {
    "collapsed": false
   },
   "outputs": [
    {
     "name": "stdout",
     "output_type": "stream",
     "text": [
      "REPOSITORY          TAG                 IMAGE ID            CREATED             SIZE\n",
      "ubuntu              latest              e4415b714b62        11 days ago         128.1 MB\n",
      "hello-world         latest              c54a2cc56cbb        4 months ago        1.848 kB\n"
     ]
    }
   ],
   "source": [
    "!docker images"
   ]
  },
  {
   "cell_type": "markdown",
   "metadata": {},
   "source": [
    "## docker search"
   ]
  },
  {
   "cell_type": "code",
   "execution_count": 35,
   "metadata": {
    "collapsed": false
   },
   "outputs": [
    {
     "name": "stdout",
     "output_type": "stream",
     "text": [
      "NAME                              DESCRIPTION                                     STARS     OFFICIAL   AUTOMATED\n",
      "ubuntu                            Ubuntu is a Debian-based Linux operating s...   5110      [OK]       \n",
      "ubuntu-upstart                    Upstart is an event-based replacement for ...   69        [OK]       \n",
      "rastasheep/ubuntu-sshd            Dockerized SSH service, built on top of of...   53                   [OK]\n",
      "consol/ubuntu-xfce-vnc            Ubuntu container with \"headless\" VNC sessi...   32                   [OK]\n",
      "ubuntu-debootstrap                debootstrap --variant=minbase --components...   27        [OK]       \n",
      "torusware/speedus-ubuntu          Always updated official Ubuntu docker imag...   27                   [OK]\n",
      "ioft/armhf-ubuntu                 [ABR] Ubuntu Docker images for the ARMv7(a...   19                   [OK]\n",
      "nuagebec/ubuntu                   Simple always updated Ubuntu docker images...   11                   [OK]\n",
      "nickistre/ubuntu-lamp             LAMP server on Ubuntu                           11                   [OK]\n",
      "nickistre/ubuntu-lamp-wordpress   LAMP on Ubuntu with wp-cli installed            7                    [OK]\n",
      "nimmis/ubuntu                     This is a docker images different LTS vers...   5                    [OK]\n",
      "maxexcloo/ubuntu                  Base image built on Ubuntu with init, Supe...   2                    [OK]\n",
      "admiringworm/ubuntu               Base ubuntu images based on the official u...   1                    [OK]\n",
      "darksheer/ubuntu                  Base Ubuntu Image -- Updated hourly             1                    [OK]\n",
      "jordi/ubuntu                      Ubuntu Base Image                               1                    [OK]\n",
      "lynxtp/ubuntu                     https://github.com/lynxtp/docker-ubuntu         0                    [OK]\n",
      "teamrock/ubuntu                   TeamRock's Ubuntu image configured with AW...   0                    [OK]\n",
      "vcatechnology/ubuntu              A Ubuntu image that is updated daily            0                    [OK]\n",
      "labengine/ubuntu                  Images base ubuntu                              0                    [OK]\n",
      "widerplan/ubuntu                  Our basic Ubuntu images.                        0                    [OK]\n",
      "esycat/ubuntu                     Ubuntu LTS                                      0                    [OK]\n",
      "ustclug/ubuntu                    ubuntu image for docker with USTC mirror        0                    [OK]\n",
      "webhippie/ubuntu                  Docker images for ubuntu                        0                    [OK]\n",
      "konstruktoid/ubuntu               Ubuntu base image                               0                    [OK]\n",
      "datenbetrieb/ubuntu               custom flavor of the official ubuntu base ...   0                    [OK]\n"
     ]
    }
   ],
   "source": [
    "!docker search ubuntu"
   ]
  },
  {
   "cell_type": "code",
   "execution_count": 37,
   "metadata": {
    "collapsed": false
   },
   "outputs": [
    {
     "name": "stdout",
     "output_type": "stream",
     "text": [
      "NAME                  DESCRIPTION                                     STARS     OFFICIAL   AUTOMATED\n",
      "dafu/worker                                                           1                    \n",
      "dafu/bigdata          Big Data ecosystem : Base System (Ubuntu 1...   1                    \n",
      "dafu/dkutil           Docker utilities for Hadoop Ecosystem           0                    \n",
      "dafu/hadoop           Hadoop ���蝟餌絞憟�辣                                   0                    \n",
      "dafu/myweb            zzzzzz                                          0                    \n",
      "dafu/appstore         Application Container                           0                    \n",
      "dafu/mybase           撌脣���OpenSSh, �航�閮�IP 雿��                          0                    \n",
      "dafu/busybox          �芷���� Busybox image                              0                    \n",
      "dafu/mysql                                                            0                    \n",
      "dafu/bigboss                                                          0                    \n",
      "dafu/chtbase          銝剛��颱縑撠�� - 撌脰身摰�Proxy                              0                    \n",
      "dafu/myjava                                                           0                    \n",
      "dafu/zzzz                                                             0                    \n",
      "dafu/mynginx                                                          0                    \n",
      "dafuni/docker-whale                                                   0                    \n"
     ]
    }
   ],
   "source": [
    "!docker search dafu"
   ]
  },
  {
   "cell_type": "code",
   "execution_count": 40,
   "metadata": {
    "collapsed": false
   },
   "outputs": [
    {
     "name": "stdout",
     "output_type": "stream",
     "text": [
      "NAME                            DESCRIPTION                                     STARS     OFFICIAL   AUTOMATED\n",
      "busybox                         Busybox base image.                             861       [OK]       \n",
      "progrium/busybox                                                                65                   [OK]\n",
      "radial/busyboxplus              Full-chain, Internet enabled, busybox made...   11                   [OK]\n",
      "odise/busybox-python                                                            4                    [OK]\n",
      "sequenceiq/busybox                                                              2                    [OK]\n",
      "container4armhf/armhf-busybox   Automated build of Busybox for armhf devic...   2                    [OK]\n",
      "multiarch/busybox               multiarch ports of ubuntu-debootstrap           2                    [OK]\n",
      "azukiapp/busybox                This image is meant to be used as the base...   2                    [OK]\n",
      "odise/busybox-curl                                                              1                    [OK]\n",
      "elektritter/busybox-teamspeak   Leightweight teamspeak3 container based on...   1                    [OK]\n",
      "ofayau/busybox-libc32           Busybox with 32 bits (and 64 bits) libs         1                    [OK]\n",
      "getblank/busybox                Docker container busybox for Blank              1                    [OK]\n",
      "socketplane/busybox                                                             1                    [OK]\n",
      "skomma/busybox-data             Docker image suitable for data volume cont...   1                    [OK]\n",
      "ofayau/busybox-jvm              Prepare busybox to install a 32 bits JVM.       1                    [OK]\n",
      "freenas/busybox                 Busybox image enhanced with FreeNAS 10 met...   0                    [OK]\n",
      "jahroots/busybox                Busybox containers                              0                    [OK]\n",
      "ddn0/busybox                    fork of official busybox                        0                    [OK]\n",
      "futurenda/busybox               Mini busybox                                    0                    [OK]\n",
      "ggtools/busybox-ubuntu          Busybox ubuntu version with extra goodies       0                    [OK]\n",
      "sdurrheimer/prom-busybox        Moved to https://hub.docker.com/r/prom/bus...   0                    [OK]\n",
      "cucy/busybox                    aouto  build busybox                            0                    [OK]\n",
      "oveits/docker-nginx-busybox     This is a tiny NginX docker image based on...   0                    [OK]\n",
      "prom/busybox                    Prometheus Busybox Docker base images           0                    [OK]\n",
      "nikfoundas/busybox-confd        Minimal busybox based distribution of confd     0                    [OK]\n"
     ]
    }
   ],
   "source": [
    "%%bash\n",
    "docker search busybox"
   ]
  },
  {
   "cell_type": "code",
   "execution_count": 42,
   "metadata": {
    "collapsed": false
   },
   "outputs": [
    {
     "name": "stdout",
     "output_type": "stream",
     "text": [
      "Using default tag: latest\n",
      "latest: Pulling from library/busybox\n",
      "56bec22e3559: Pulling fs layer\n",
      "56bec22e3559: Verifying Checksum\n",
      "56bec22e3559: Download complete\n",
      "56bec22e3559: Pull complete\n",
      "Digest: sha256:29f5d56d12684887bdfa50dcd29fc31eea4aaf4ad3bec43daf19026a7ce69912\n",
      "Status: Downloaded newer image for busybox:latest\n"
     ]
    }
   ],
   "source": [
    "%%bash\n",
    "docker pull busybox"
   ]
  },
  {
   "cell_type": "code",
   "execution_count": 51,
   "metadata": {
    "collapsed": false
   },
   "outputs": [
    {
     "name": "stdout",
     "output_type": "stream",
     "text": [
      "IMAGE               CREATED             CREATED BY                                      SIZE                COMMENT\n",
      "e4415b714b62        11 days ago         /bin/sh -c #(nop)  CMD [\"/bin/bash\"]            0 B                 \n",
      "<missing>           11 days ago         /bin/sh -c mkdir -p /run/systemd && echo 'doc   7 B                 \n",
      "<missing>           11 days ago         /bin/sh -c sed -i 's/^#\\s*\\(deb.*universe\\)$/   1.895 kB            \n",
      "<missing>           11 days ago         /bin/sh -c rm -rf /var/lib/apt/lists/*          0 B                 \n",
      "<missing>           11 days ago         /bin/sh -c set -xe   && echo '#!/bin/sh' > /u   745 B               \n",
      "<missing>           11 days ago         /bin/sh -c #(nop) ADD file:abc033900893f6c737   128.1 MB            \n"
     ]
    }
   ],
   "source": [
    "!docker history ubuntu"
   ]
  },
  {
   "cell_type": "code",
   "execution_count": null,
   "metadata": {
    "collapsed": true
   },
   "outputs": [],
   "source": [
    "$docker rm $(docker ps -a -q)"
   ]
  },
  {
   "cell_type": "code",
   "execution_count": 69,
   "metadata": {
    "collapsed": false
   },
   "outputs": [
    {
     "name": "stdout",
     "output_type": "stream",
     "text": [
      "daemon-dyson\n",
      "thirsty_kirch\n",
      "lonely_brahmagupta\n",
      "hungry_ritchie\n",
      "modest_bartik\n",
      "lonely_stallman\n",
      "CONTAINER ID        IMAGE               COMMAND             CREATED             STATUS                   PORTS               NAMES\n",
      "9f4e78018f4f        ubuntu              \"/bin/bash\"         4 hours ago         Exited (0) 3 hours ago                       wengsubuntu\n"
     ]
    }
   ],
   "source": [
    "\n",
    "for name in [\"daemon-dyson\",\"thirsty_kirch\",\"lonely_brahmagupta\",\"hungry_ritchie\",\"modest_bartik\",\"lonely_stallman\"]:\n",
    "    !docker rm {name}\n",
    "    \n",
    "!docker ps -a"
   ]
  },
  {
   "cell_type": "markdown",
   "metadata": {},
   "source": [
    "## Concerning a Docker image:"
   ]
  },
  {
   "cell_type": "markdown",
   "metadata": {},
   "source": [
    "#### check the website http://imagelayers.io/ for number of layers of an image (max:127 layers):\n",
    "\n",
    "say, how many layers are there in the image \"hadoop-docker\"?"
   ]
  },
  {
   "cell_type": "markdown",
   "metadata": {},
   "source": [
    "http://imagelayers.io/?images=sequenceiq%2Fhadoop-docker:latest\n",
    "        \n",
    "https://hub.docker.com/r/sequenceiq/hadoop-docker/"
   ]
  },
  {
   "cell_type": "markdown",
   "metadata": {},
   "source": [
    "#### to build a docker image:"
   ]
  },
  {
   "cell_type": "markdown",
   "metadata": {},
   "source": [
    "we add some layers to the base image ubuntu:"
   ]
  },
  {
   "cell_type": "markdown",
   "metadata": {},
   "source": [
    "```bash\n",
    "# Version: 0.0.1\n",
    "FROM ubuntu\n",
    "MAINTAINER iii education \"iiiedu@example.com\"\n",
    "\n",
    "# Avoid ERROR: invoke-rc.d: policy-rc.d denied execution of start.\n",
    "#RUN echo \"#!/bin/sh\\nexit 0\" > /usr/sbin/policy-rc.d\n",
    "RUN apt-get update\n",
    "RUN apt-get install -y nginx\n",
    "RUN echo 'Hi, I am in your container' \\\n",
    "    >/var/www/html/index.html\n",
    "    #>/usr/share/nginx/html/index.html\n",
    "\n",
    "CMD [ \"nginx\", \"-g\", \"daemon off;\" ]EXPOSE 80\n",
    "```"
   ]
  },
  {
   "cell_type": "code",
   "execution_count": 73,
   "metadata": {
    "collapsed": false,
    "scrolled": true
   },
   "outputs": [
    {
     "name": "stdout",
     "output_type": "stream",
     "text": [
      "Dockerfile\n",
      "Sending build context to Docker daemon 2.048 kB\r",
      "\r\n",
      "Step 1 : FROM ubuntu\n",
      " ---> e4415b714b62\n",
      "Step 2 : MAINTAINER iii education \"iiiedu@example.com\"\n",
      " ---> Running in dab2fd506966\n",
      " ---> e934c26893ec\n",
      "Removing intermediate container dab2fd506966\n",
      "Step 3 : RUN echo \"#!/bin/sh\\nexit 0\" > /usr/sbin/policy-rc.d\n",
      " ---> Running in 5f68c50b32d3\n",
      " ---> b1e806d92b03\n",
      "Removing intermediate container 5f68c50b32d3\n",
      "Step 4 : RUN apt-get update\n",
      " ---> Running in 3a85f8b55ba4\n",
      "Get:1 http://archive.ubuntu.com/ubuntu xenial InRelease [247 kB]\n",
      "Get:2 http://archive.ubuntu.com/ubuntu xenial-updates InRelease [102 kB]\n",
      "Get:3 http://archive.ubuntu.com/ubuntu xenial-security InRelease [102 kB]\n",
      "Get:4 http://archive.ubuntu.com/ubuntu xenial/main Sources [1103 kB]\n",
      "Get:5 http://archive.ubuntu.com/ubuntu xenial/restricted Sources [5179 B]\n",
      "Get:6 http://archive.ubuntu.com/ubuntu xenial/universe Sources [9802 kB]\n",
      "Get:7 http://archive.ubuntu.com/ubuntu xenial/main amd64 Packages [1558 kB]\n",
      "Get:8 http://archive.ubuntu.com/ubuntu xenial/restricted amd64 Packages [14.1 kB]\n",
      "Get:9 http://archive.ubuntu.com/ubuntu xenial/universe amd64 Packages [9827 kB]\n",
      "Get:10 http://archive.ubuntu.com/ubuntu xenial-updates/main Sources [259 kB]\n",
      "Get:11 http://archive.ubuntu.com/ubuntu xenial-updates/restricted Sources [1872 B]\n",
      "Get:12 http://archive.ubuntu.com/ubuntu xenial-updates/universe Sources [137 kB]\n",
      "Get:13 http://archive.ubuntu.com/ubuntu xenial-updates/main amd64 Packages [543 kB]\n",
      "Get:14 http://archive.ubuntu.com/ubuntu xenial-updates/restricted amd64 Packages [11.7 kB]\n",
      "Get:15 http://archive.ubuntu.com/ubuntu xenial-updates/universe amd64 Packages [458 kB]\n",
      "Get:16 http://archive.ubuntu.com/ubuntu xenial-security/main Sources [58.9 kB]\n",
      "Get:17 http://archive.ubuntu.com/ubuntu xenial-security/restricted Sources [1872 B]\n",
      "Get:18 http://archive.ubuntu.com/ubuntu xenial-security/universe Sources [15.8 kB]\n",
      "Get:19 http://archive.ubuntu.com/ubuntu xenial-security/main amd64 Packages [220 kB]\n",
      "Get:20 http://archive.ubuntu.com/ubuntu xenial-security/restricted amd64 Packages [11.7 kB]\n",
      "Get:21 http://archive.ubuntu.com/ubuntu xenial-security/universe amd64 Packages [75.1 kB]\n",
      "Fetched 24.6 MB in 4min 33s (89.9 kB/s)\n",
      "Reading package lists...\n",
      " ---> 0a196d9da1d3\n",
      "Removing intermediate container 3a85f8b55ba4\n",
      "Step 5 : RUN apt-get install -y nginx\n",
      " ---> Running in 8eb793283270\n",
      "Reading package lists...\n",
      "Building dependency tree...\n",
      "Reading state information...\n",
      "The following additional packages will be installed:\n",
      "  fontconfig-config fonts-dejavu-core geoip-database libexpat1 libfontconfig1\n",
      "  libfreetype6 libgd3 libgeoip1 libicu55 libjbig0 libjpeg-turbo8 libjpeg8\n",
      "  libpng12-0 libssl1.0.0 libtiff5 libvpx3 libx11-6 libx11-data libxau6 libxcb1\n",
      "  libxdmcp6 libxml2 libxpm4 libxslt1.1 nginx-common nginx-core sgml-base ucf\n",
      "  xml-core\n",
      "Suggested packages:\n",
      "  libgd-tools geoip-bin fcgiwrap nginx-doc ssl-cert sgml-base-doc debhelper\n",
      "The following NEW packages will be installed:\n",
      "  fontconfig-config fonts-dejavu-core geoip-database libexpat1 libfontconfig1\n",
      "  libfreetype6 libgd3 libgeoip1 libicu55 libjbig0 libjpeg-turbo8 libjpeg8\n",
      "  libpng12-0 libssl1.0.0 libtiff5 libvpx3 libx11-6 libx11-data libxau6 libxcb1\n",
      "  libxdmcp6 libxml2 libxpm4 libxslt1.1 nginx nginx-common nginx-core sgml-base\n",
      "  ucf xml-core\n",
      "0 upgraded, 30 newly installed, 0 to remove and 3 not upgraded.\n",
      "Need to get 15.5 MB of archives.\n",
      "After this operation, 57.4 MB of additional disk space will be used.\n",
      "Get:1 http://archive.ubuntu.com/ubuntu xenial/main amd64 libxau6 amd64 1:1.0.8-1 [8376 B]\n",
      "Get:2 http://archive.ubuntu.com/ubuntu xenial/main amd64 sgml-base all 1.26+nmu4ubuntu1 [12.5 kB]\n",
      "Get:3 http://archive.ubuntu.com/ubuntu xenial/main amd64 libjpeg-turbo8 amd64 1.4.2-0ubuntu3 [111 kB]\n",
      "Get:4 http://archive.ubuntu.com/ubuntu xenial/main amd64 libxdmcp6 amd64 1:1.1.2-1.1 [11.0 kB]\n",
      "Get:5 http://archive.ubuntu.com/ubuntu xenial/main amd64 libxcb1 amd64 1.11.1-1ubuntu1 [40.0 kB]\n",
      "Get:6 http://archive.ubuntu.com/ubuntu xenial/main amd64 libx11-data all 2:1.6.3-1ubuntu2 [113 kB]\n",
      "Get:7 http://archive.ubuntu.com/ubuntu xenial/main amd64 libx11-6 amd64 2:1.6.3-1ubuntu2 [571 kB]\n",
      "Get:8 http://archive.ubuntu.com/ubuntu xenial/main amd64 libxpm4 amd64 1:3.5.11-1 [33.1 kB]\n",
      "Get:9 http://archive.ubuntu.com/ubuntu xenial/main amd64 libjbig0 amd64 2.1-3.1 [26.6 kB]\n",
      "Get:10 http://archive.ubuntu.com/ubuntu xenial-updates/main amd64 libexpat1 amd64 2.1.0-7ubuntu0.16.04.2 [71.3 kB]\n",
      "Get:11 http://archive.ubuntu.com/ubuntu xenial/main amd64 libpng12-0 amd64 1.2.54-1ubuntu1 [116 kB]\n",
      "Get:12 http://archive.ubuntu.com/ubuntu xenial-updates/main amd64 libssl1.0.0 amd64 1.0.2g-1ubuntu4.5 [1082 kB]\n",
      "Get:13 http://archive.ubuntu.com/ubuntu xenial/main amd64 ucf all 3.0036 [52.9 kB]\n",
      "Get:14 http://archive.ubuntu.com/ubuntu xenial/main amd64 geoip-database all 20160408-1 [1678 kB]\n",
      "Get:15 http://archive.ubuntu.com/ubuntu xenial/main amd64 libgeoip1 amd64 1.6.9-1 [70.1 kB]\n",
      "Get:16 http://archive.ubuntu.com/ubuntu xenial/main amd64 libicu55 amd64 55.1-7 [7643 kB]\n",
      "Get:17 http://archive.ubuntu.com/ubuntu xenial-updates/main amd64 libxml2 amd64 2.9.3+dfsg1-1ubuntu0.1 [696 kB]\n",
      "Get:18 http://archive.ubuntu.com/ubuntu xenial/main amd64 xml-core all 0.13+nmu2 [23.3 kB]\n",
      "Get:19 http://archive.ubuntu.com/ubuntu xenial/main amd64 fonts-dejavu-core all 2.35-1 [1039 kB]\n",
      "Get:20 http://archive.ubuntu.com/ubuntu xenial-updates/main amd64 fontconfig-config all 2.11.94-0ubuntu1.1 [49.9 kB]\n",
      "Get:21 http://archive.ubuntu.com/ubuntu xenial/main amd64 libfreetype6 amd64 2.6.1-0.1ubuntu2 [316 kB]\n",
      "Get:22 http://archive.ubuntu.com/ubuntu xenial-updates/main amd64 libfontconfig1 amd64 2.11.94-0ubuntu1.1 [131 kB]\n",
      "Get:23 http://archive.ubuntu.com/ubuntu xenial/main amd64 libjpeg8 amd64 8c-2ubuntu8 [2194 B]\n",
      "Get:24 http://archive.ubuntu.com/ubuntu xenial/main amd64 libtiff5 amd64 4.0.6-1 [144 kB]\n",
      "Get:25 http://archive.ubuntu.com/ubuntu xenial/main amd64 libvpx3 amd64 1.5.0-2ubuntu1 [732 kB]\n",
      "Get:26 http://archive.ubuntu.com/ubuntu xenial-updates/main amd64 libgd3 amd64 2.1.1-4ubuntu0.16.04.5 [125 kB]\n",
      "Get:27 http://archive.ubuntu.com/ubuntu xenial/main amd64 libxslt1.1 amd64 1.1.28-2.1 [145 kB]\n",
      "Get:28 http://archive.ubuntu.com/ubuntu xenial-updates/main amd64 nginx-common all 1.10.0-0ubuntu0.16.04.4 [26.6 kB]\n",
      "Get:29 http://archive.ubuntu.com/ubuntu xenial-updates/main amd64 nginx-core amd64 1.10.0-0ubuntu0.16.04.4 [428 kB]\n",
      "Get:30 http://archive.ubuntu.com/ubuntu xenial-updates/main amd64 nginx all 1.10.0-0ubuntu0.16.04.4 [3498 B]\n",
      "\u001b[91mdebconf: delaying package configuration, since apt-utils is not installed\n",
      "\u001b[0mFetched 15.5 MB in 2min 17s (113 kB/s)\n",
      "Selecting previously unselected package libxau6:amd64.\r\n",
      "(Reading database ... \r",
      "(Reading database ... 5%\r",
      "(Reading database ... 10%\r",
      "(Reading database ... 15%\r",
      "(Reading database ... 20%\r",
      "(Reading database ... 25%\r",
      "(Reading database ... 30%\r",
      "(Reading database ... 35%\r",
      "(Reading database ... 40%\r",
      "(Reading database ... 45%\r",
      "(Reading database ... 50%\r",
      "(Reading database ... 55%\r",
      "(Reading database ... 60%\r",
      "(Reading database ... 65%\r",
      "(Reading database ... 70%\r",
      "(Reading database ... 75%\r",
      "(Reading database ... 80%\r",
      "(Reading database ... 85%\r",
      "(Reading database ... 90%\r",
      "(Reading database ... 95%\r",
      "(Reading database ... 100%\r",
      "(Reading database ... 7259 files and directories currently installed.)\r\n",
      "Preparing to unpack .../libxau6_1%3a1.0.8-1_amd64.deb ...\r\n",
      "Unpacking libxau6:amd64 (1:1.0.8-1) ...\r\n",
      "Selecting previously unselected package sgml-base.\r\n",
      "Preparing to unpack .../sgml-base_1.26+nmu4ubuntu1_all.deb ...\r\n",
      "Unpacking sgml-base (1.26+nmu4ubuntu1) ...\r\n",
      "Selecting previously unselected package libjpeg-turbo8:amd64.\r\n",
      "Preparing to unpack .../libjpeg-turbo8_1.4.2-0ubuntu3_amd64.deb ...\r\n",
      "Unpacking libjpeg-turbo8:amd64 (1.4.2-0ubuntu3) ...\r\n",
      "Selecting previously unselected package libxdmcp6:amd64.\r\n",
      "Preparing to unpack .../libxdmcp6_1%3a1.1.2-1.1_amd64.deb ...\r\n",
      "Unpacking libxdmcp6:amd64 (1:1.1.2-1.1) ...\r\n",
      "Selecting previously unselected package libxcb1:amd64.\r\n",
      "Preparing to unpack .../libxcb1_1.11.1-1ubuntu1_amd64.deb ...\r\n",
      "Unpacking libxcb1:amd64 (1.11.1-1ubuntu1) ...\r\n",
      "Selecting previously unselected package libx11-data.\r\n",
      "Preparing to unpack .../libx11-data_2%3a1.6.3-1ubuntu2_all.deb ...\r\n",
      "Unpacking libx11-data (2:1.6.3-1ubuntu2) ...\r\n",
      "Selecting previously unselected package libx11-6:amd64.\r\n",
      "Preparing to unpack .../libx11-6_2%3a1.6.3-1ubuntu2_amd64.deb ...\r\n",
      "Unpacking libx11-6:amd64 (2:1.6.3-1ubuntu2) ...\r\n",
      "Selecting previously unselected package libxpm4:amd64.\r\n",
      "Preparing to unpack .../libxpm4_1%3a3.5.11-1_amd64.deb ...\r\n",
      "Unpacking libxpm4:amd64 (1:3.5.11-1) ...\r\n",
      "Selecting previously unselected package libjbig0:amd64.\r\n",
      "Preparing to unpack .../libjbig0_2.1-3.1_amd64.deb ...\r\n",
      "Unpacking libjbig0:amd64 (2.1-3.1) ...\r\n",
      "Selecting previously unselected package libexpat1:amd64.\r\n",
      "Preparing to unpack .../libexpat1_2.1.0-7ubuntu0.16.04.2_amd64.deb ...\r\n",
      "Unpacking libexpat1:amd64 (2.1.0-7ubuntu0.16.04.2) ...\r\n",
      "Selecting previously unselected package libpng12-0:amd64.\r\n",
      "Preparing to unpack .../libpng12-0_1.2.54-1ubuntu1_amd64.deb ...\r\n",
      "Unpacking libpng12-0:amd64 (1.2.54-1ubuntu1) ...\r\n",
      "Selecting previously unselected package libssl1.0.0:amd64.\r\n",
      "Preparing to unpack .../libssl1.0.0_1.0.2g-1ubuntu4.5_amd64.deb ...\r\n",
      "Unpacking libssl1.0.0:amd64 (1.0.2g-1ubuntu4.5) ...\r\n",
      "Selecting previously unselected package ucf.\r\n",
      "Preparing to unpack .../archives/ucf_3.0036_all.deb ...\r\n",
      "Moving old data out of the way\r\n",
      "Unpacking ucf (3.0036) ...\r\n",
      "Selecting previously unselected package geoip-database.\r\n",
      "Preparing to unpack .../geoip-database_20160408-1_all.deb ...\r\n",
      "Unpacking geoip-database (20160408-1) ...\r\n",
      "Selecting previously unselected package libgeoip1:amd64.\r\n",
      "Preparing to unpack .../libgeoip1_1.6.9-1_amd64.deb ...\r\n",
      "Unpacking libgeoip1:amd64 (1.6.9-1) ...\r\n",
      "Selecting previously unselected package libicu55:amd64.\r\n",
      "Preparing to unpack .../libicu55_55.1-7_amd64.deb ...\r\n",
      "Unpacking libicu55:amd64 (55.1-7) ...\r\n",
      "Selecting previously unselected package libxml2:amd64.\r\n",
      "Preparing to unpack .../libxml2_2.9.3+dfsg1-1ubuntu0.1_amd64.deb ...\r\n",
      "Unpacking libxml2:amd64 (2.9.3+dfsg1-1ubuntu0.1) ...\r\n",
      "Selecting previously unselected package xml-core.\r\n",
      "Preparing to unpack .../xml-core_0.13+nmu2_all.deb ...\r\n",
      "Unpacking xml-core (0.13+nmu2) ...\r\n",
      "Selecting previously unselected package fonts-dejavu-core.\r\n",
      "Preparing to unpack .../fonts-dejavu-core_2.35-1_all.deb ...\r\n",
      "Unpacking fonts-dejavu-core (2.35-1) ...\r\n",
      "Selecting previously unselected package fontconfig-config.\r\n",
      "Preparing to unpack .../fontconfig-config_2.11.94-0ubuntu1.1_all.deb ...\r\n",
      "Unpacking fontconfig-config (2.11.94-0ubuntu1.1) ...\r\n",
      "Selecting previously unselected package libfreetype6:amd64.\r\n",
      "Preparing to unpack .../libfreetype6_2.6.1-0.1ubuntu2_amd64.deb ...\r\n",
      "Unpacking libfreetype6:amd64 (2.6.1-0.1ubuntu2) ...\r\n",
      "Selecting previously unselected package libfontconfig1:amd64.\r\n",
      "Preparing to unpack .../libfontconfig1_2.11.94-0ubuntu1.1_amd64.deb ...\r\n",
      "Unpacking libfontconfig1:amd64 (2.11.94-0ubuntu1.1) ...\r\n",
      "Selecting previously unselected package libjpeg8:amd64.\r\n",
      "Preparing to unpack .../libjpeg8_8c-2ubuntu8_amd64.deb ...\r\n",
      "Unpacking libjpeg8:amd64 (8c-2ubuntu8) ...\r\n",
      "Selecting previously unselected package libtiff5:amd64.\r\n",
      "Preparing to unpack .../libtiff5_4.0.6-1_amd64.deb ...\r\n",
      "Unpacking libtiff5:amd64 (4.0.6-1) ...\r\n",
      "Selecting previously unselected package libvpx3:amd64.\r\n",
      "Preparing to unpack .../libvpx3_1.5.0-2ubuntu1_amd64.deb ...\r\n",
      "Unpacking libvpx3:amd64 (1.5.0-2ubuntu1) ...\r\n",
      "Selecting previously unselected package libgd3:amd64.\r\n",
      "Preparing to unpack .../libgd3_2.1.1-4ubuntu0.16.04.5_amd64.deb ...\r\n",
      "Unpacking libgd3:amd64 (2.1.1-4ubuntu0.16.04.5) ...\r\n",
      "Selecting previously unselected package libxslt1.1:amd64.\r\n",
      "Preparing to unpack .../libxslt1.1_1.1.28-2.1_amd64.deb ...\r\n",
      "Unpacking libxslt1.1:amd64 (1.1.28-2.1) ...\r\n",
      "Selecting previously unselected package nginx-common.\r\n",
      "Preparing to unpack .../nginx-common_1.10.0-0ubuntu0.16.04.4_all.deb ...\r\n",
      "Unpacking nginx-common (1.10.0-0ubuntu0.16.04.4) ...\r\n",
      "Selecting previously unselected package nginx-core.\r\n",
      "Preparing to unpack .../nginx-core_1.10.0-0ubuntu0.16.04.4_amd64.deb ...\r\n",
      "Unpacking nginx-core (1.10.0-0ubuntu0.16.04.4) ...\r\n",
      "Selecting previously unselected package nginx.\r\n",
      "Preparing to unpack .../nginx_1.10.0-0ubuntu0.16.04.4_all.deb ...\r\n",
      "Unpacking nginx (1.10.0-0ubuntu0.16.04.4) ...\r\n",
      "Processing triggers for libc-bin (2.23-0ubuntu4) ...\r\n",
      "Processing triggers for systemd (229-4ubuntu12) ...\r\n",
      "Setting up libxau6:amd64 (1:1.0.8-1) ...\r\n",
      "Setting up sgml-base (1.26+nmu4ubuntu1) ...\r\n",
      "Setting up libjpeg-turbo8:amd64 (1.4.2-0ubuntu3) ...\r\n",
      "Setting up libxdmcp6:amd64 (1:1.1.2-1.1) ...\r\n",
      "Setting up libxcb1:amd64 (1.11.1-1ubuntu1) ...\r\n",
      "Setting up libx11-data (2:1.6.3-1ubuntu2) ...\r\n",
      "Setting up libx11-6:amd64 (2:1.6.3-1ubuntu2) ...\r\n",
      "Setting up libxpm4:amd64 (1:3.5.11-1) ...\r\n",
      "Setting up libjbig0:amd64 (2.1-3.1) ...\r\n",
      "Setting up libexpat1:amd64 (2.1.0-7ubuntu0.16.04.2) ...\r\n",
      "Setting up libpng12-0:amd64 (1.2.54-1ubuntu1) ...\r\n",
      "Setting up libssl1.0.0:amd64 (1.0.2g-1ubuntu4.5) ...\r\n",
      "debconf: unable to initialize frontend: Dialog\r\n",
      "debconf: (TERM is not set, so the dialog frontend is not usable.)\r\n",
      "debconf: falling back to frontend: Readline\r\n",
      "debconf: unable to initialize frontend: Readline\r\n",
      "debconf: (Can't locate Term/ReadLine.pm in @INC (you may need to install the Term::ReadLine module) (@INC contains: /etc/perl /usr/local/lib/x86_64-linux-gnu/perl/5.22.1 /usr/local/share/perl/5.22.1 /usr/lib/x86_64-linux-gnu/perl5/5.22 /usr/share/perl5 /usr/lib/x86_64-linux-gnu/perl/5.22 /usr/share/perl/5.22 /usr/local/lib/site_perl /usr/lib/x86_64-linux-gnu/perl-base .) at /usr/share/perl5/Debconf/FrontEnd/Readline.pm line 7.)\r\n",
      "debconf: falling back to frontend: Teletype\r\n",
      "Setting up ucf (3.0036) ...\r\n",
      "debconf: unable to initialize frontend: Dialog\r\n",
      "debconf: (TERM is not set, so the dialog frontend is not usable.)\r\n",
      "debconf: falling back to frontend: Readline\r\n",
      "debconf: unable to initialize frontend: Readline\r\n",
      "debconf: (Can't locate Term/ReadLine.pm in @INC (you may need to install the Term::ReadLine module) (@INC contains: /etc/perl /usr/local/lib/x86_64-linux-gnu/perl/5.22.1 /usr/local/share/perl/5.22.1 /usr/lib/x86_64-linux-gnu/perl5/5.22 /usr/share/perl5 /usr/lib/x86_64-linux-gnu/perl/5.22 /usr/share/perl/5.22 /usr/local/lib/site_perl /usr/lib/x86_64-linux-gnu/perl-base .) at /usr/share/perl5/Debconf/FrontEnd/Readline.pm line 7.)\r\n",
      "debconf: falling back to frontend: Teletype\r\n",
      "Setting up geoip-database (20160408-1) ...\r\n",
      "Setting up libgeoip1:amd64 (1.6.9-1) ...\r\n",
      "Setting up libicu55:amd64 (55.1-7) ...\r\n",
      "Setting up libxml2:amd64 (2.9.3+dfsg1-1ubuntu0.1) ...\r\n",
      "Setting up xml-core (0.13+nmu2) ...\r\n",
      "Setting up fonts-dejavu-core (2.35-1) ...\r\n",
      "Setting up fontconfig-config (2.11.94-0ubuntu1.1) ...\r\n",
      "Setting up libfreetype6:amd64 (2.6.1-0.1ubuntu2) ...\r\n",
      "Setting up libfontconfig1:amd64 (2.11.94-0ubuntu1.1) ...\r\n",
      "Setting up libjpeg8:amd64 (8c-2ubuntu8) ...\r\n",
      "Setting up libtiff5:amd64 (4.0.6-1) ...\r\n",
      "Setting up libvpx3:amd64 (1.5.0-2ubuntu1) ...\r\n",
      "Setting up libgd3:amd64 (2.1.1-4ubuntu0.16.04.5) ...\r\n",
      "Setting up libxslt1.1:amd64 (1.1.28-2.1) ...\r\n",
      "Setting up nginx-common (1.10.0-0ubuntu0.16.04.4) ...\r\n",
      "debconf: unable to initialize frontend: Dialog\r\n",
      "debconf: (TERM is not set, so the dialog frontend is not usable.)\r\n",
      "debconf: falling back to frontend: Readline\r\n",
      "debconf: unable to initialize frontend: Readline\r\n",
      "debconf: (Can't locate Term/ReadLine.pm in @INC (you may need to install the Term::ReadLine module) (@INC contains: /etc/perl /usr/local/lib/x86_64-linux-gnu/perl/5.22.1 /usr/local/share/perl/5.22.1 /usr/lib/x86_64-linux-gnu/perl5/5.22 /usr/share/perl5 /usr/lib/x86_64-linux-gnu/perl/5.22 /usr/share/perl/5.22 /usr/local/lib/site_perl /usr/lib/x86_64-linux-gnu/perl-base .) at /usr/share/perl5/Debconf/FrontEnd/Readline.pm line 7.)\r\n",
      "debconf: falling back to frontend: Teletype\r\n",
      "Setting up nginx-core (1.10.0-0ubuntu0.16.04.4) ...\r\n",
      "invoke-rc.d: could not determine current runlevel\r\n",
      " * Starting nginx nginx\r\n",
      "   ...done.\r\n",
      "Setting up nginx (1.10.0-0ubuntu0.16.04.4) ...\r\n",
      "Processing triggers for libc-bin (2.23-0ubuntu4) ...\r\n",
      "Processing triggers for sgml-base (1.26+nmu4ubuntu1) ...\r\n",
      "Processing triggers for systemd (229-4ubuntu12) ...\r\n",
      " ---> 0328f15773dd\n",
      "Removing intermediate container 8eb793283270\n",
      "Step 6 : RUN echo 'Hi, I am in your container'     >/usr/share/nginx/html/index.html\n",
      " ---> Running in c16634018e43\n",
      " ---> c140d579f8e9\n",
      "Removing intermediate container c16634018e43\n",
      "Step 7 : CMD nginx -g daemon off;\n",
      " ---> Running in 272f90adaf95\n",
      " ---> 9626cc135a4f\n",
      "Removing intermediate container 272f90adaf95\n",
      "Successfully built 9626cc135a4f\n"
     ]
    },
    {
     "name": "stderr",
     "output_type": "stream",
     "text": [
      "SECURITY WARNING: You are building a Docker image from Windows against a non-Windows Docker host. All files and directories added to build context will have '-rwxr-xr-x' permissions. It is recommended to double check and reset permissions for sensitive files and directories.\n"
     ]
    }
   ],
   "source": [
    "%%bash\n",
    "cd static_web/\n",
    "ls\n",
    "docker build -t \"iiiedu/static_web\" ."
   ]
  },
  {
   "cell_type": "code",
   "execution_count": 75,
   "metadata": {
    "collapsed": false
   },
   "outputs": [
    {
     "name": "stdout",
     "output_type": "stream",
     "text": [
      "REPOSITORY          TAG                 IMAGE ID            CREATED             SIZE\n",
      "iiiedu/static_web   latest              9626cc135a4f        40 seconds ago      224.3 MB\n",
      "ubuntu              latest              e4415b714b62        11 days ago         128.1 MB\n",
      "busybox             latest              e02e811dd08f        7 weeks ago         1.093 MB\n",
      "hello-world         latest              c54a2cc56cbb        4 months ago        1.848 kB\n"
     ]
    }
   ],
   "source": [
    "%%bash\n",
    "docker images"
   ]
  },
  {
   "cell_type": "code",
   "execution_count": 76,
   "metadata": {
    "collapsed": false
   },
   "outputs": [
    {
     "name": "stdout",
     "output_type": "stream",
     "text": [
      "IMAGE               CREATED             CREATED BY                                      SIZE                COMMENT\n",
      "9626cc135a4f        4 minutes ago       /bin/sh -c #(nop)  CMD [\"nginx\" \"-g\" \"daemon    0 B                 \n",
      "c140d579f8e9        4 minutes ago       /bin/sh -c echo 'Hi, I am in your container'    27 B                \n",
      "0328f15773dd        4 minutes ago       /bin/sh -c apt-get install -y nginx             56.82 MB            \n",
      "0a196d9da1d3        6 minutes ago       /bin/sh -c apt-get update                       39.36 MB            \n",
      "b1e806d92b03        11 minutes ago      /bin/sh -c echo \"#!/bin/sh\\nexit 0\" > /usr/sb   17 B                \n",
      "e934c26893ec        11 minutes ago      /bin/sh -c #(nop)  MAINTAINER iii education \"   0 B                 \n",
      "e4415b714b62        11 days ago         /bin/sh -c #(nop)  CMD [\"/bin/bash\"]            0 B                 \n",
      "<missing>           11 days ago         /bin/sh -c mkdir -p /run/systemd && echo 'doc   7 B                 \n",
      "<missing>           11 days ago         /bin/sh -c sed -i 's/^#\\s*\\(deb.*universe\\)$/   1.895 kB            \n",
      "<missing>           11 days ago         /bin/sh -c rm -rf /var/lib/apt/lists/*          0 B                 \n",
      "<missing>           11 days ago         /bin/sh -c set -xe   && echo '#!/bin/sh' > /u   745 B               \n",
      "<missing>           11 days ago         /bin/sh -c #(nop) ADD file:abc033900893f6c737   128.1 MB            \n"
     ]
    }
   ],
   "source": [
    "%%bash\n",
    "docker history iiiedu/static_web"
   ]
  },
  {
   "cell_type": "code",
   "execution_count": 77,
   "metadata": {
    "collapsed": false
   },
   "outputs": [
    {
     "name": "stdout",
     "output_type": "stream",
     "text": [
      "7df500d5695bcb608d3b4f854605201296729a4181ee422abb17cfd7c4d0a738\n"
     ]
    }
   ],
   "source": [
    "%%bash\n",
    "docker run -d -p 80 --name static_web iiiedu/static_web"
   ]
  },
  {
   "cell_type": "code",
   "execution_count": 80,
   "metadata": {
    "collapsed": false
   },
   "outputs": [
    {
     "name": "stdout",
     "output_type": "stream",
     "text": [
      "CONTAINER ID        IMAGE               COMMAND                  CREATED             STATUS              PORTS                   NAMES\n",
      "7df500d5695b        iiiedu/static_web   \"nginx -g 'daemon off\"   18 seconds ago      Up 16 seconds       0.0.0.0:32768->80/tcp   static_web\n"
     ]
    }
   ],
   "source": [
    "%%bash\n",
    "docker ps"
   ]
  },
  {
   "cell_type": "markdown",
   "metadata": {},
   "source": [
    "http://192.168.99.100:32768/"
   ]
  },
  {
   "cell_type": "markdown",
   "metadata": {},
   "source": [
    "## docker exec"
   ]
  },
  {
   "cell_type": "markdown",
   "metadata": {},
   "source": [
    "use docker exec in order to access to an interactive terminal of the daemonized container (since if we use docker attach, we'll obtain a running terminal, which is not convenient if we'd like to do some extra things interactively.)"
   ]
  },
  {
   "cell_type": "markdown",
   "metadata": {},
   "source": [
    "```bash\n",
    "docker exec -it static_web /bin/bash\n",
    "```"
   ]
  },
  {
   "cell_type": "markdown",
   "metadata": {},
   "source": [
    "to look for the location of the html file generated by nginx:"
   ]
  },
  {
   "cell_type": "markdown",
   "metadata": {},
   "source": [
    "```bash\n",
    "root@7df500d5695b:/# find . -name \"*.html\"\n",
    "./var/www/html/index.nginx-debian.html\n",
    "./usr/share/nginx/html/index.html\n",
    "./usr/share/doc/libfreetype6/ft2faq.html\n",
    "./usr/share/doc/base-passwd/users-and-groups.html\n",
    "./usr/share/doc/adduser/examples/adduser.local.conf.examples/skel.other/index.html\n",
    "```"
   ]
  },
  {
   "cell_type": "markdown",
   "metadata": {},
   "source": [
    "#### 29112016"
   ]
  },
  {
   "cell_type": "markdown",
   "metadata": {
    "collapsed": true
   },
   "source": [
    "```bash\n",
    "docker exec -t stat /bin/ps\n",
    "  PID TTY          TIME CMD\n",
    "   35 ?        00:00:00 ps\n",
    "```"
   ]
  },
  {
   "cell_type": "markdown",
   "metadata": {},
   "source": [
    "use the flag -v(volume) to share files with the container:"
   ]
  },
  {
   "cell_type": "markdown",
   "metadata": {},
   "source": [
    "```bash\n",
    "docker run -it -P --name web-apache -v ~/apache2/html:/var/www/html iiiedu/apache\n",
    "```"
   ]
  },
  {
   "cell_type": "markdown",
   "metadata": {},
   "source": [
    "(a volume that is going to share data with the container will be created)"
   ]
  },
  {
   "cell_type": "markdown",
   "metadata": {},
   "source": [
    "#### troubleshooting: env in windows\n",
    "\n",
    "In windows 7, I met some problem while trying to access docker from BASH (MINGW64). This is fixed after following\n",
    "\n",
    "https://github.com/docker/docker/issues/22338"
   ]
  },
  {
   "cell_type": "code",
   "execution_count": 3,
   "metadata": {
    "collapsed": false
   },
   "outputs": [
    {
     "name": "stdout",
     "output_type": "stream",
     "text": [
      "export DOCKER_TLS_VERIFY=\"1\"\n",
      "export DOCKER_HOST=\"tcp://192.168.99.100:2376\"\n",
      "export DOCKER_CERT_PATH=\"C:\\Users\\admin\\.docker\\machine\\machines\\default\"\n",
      "export DOCKER_MACHINE_NAME=\"default\"\n",
      "# Run this command to configure your shell: \n",
      "# eval $(\"C:\\Program Files\\Docker Toolbox\\docker-machine.exe\" env default)\n"
     ]
    }
   ],
   "source": [
    "%%bash\n",
    "docker-machine env default"
   ]
  },
  {
   "cell_type": "markdown",
   "metadata": {},
   "source": [
    "#### exercise: listen to the socket 9000"
   ]
  },
  {
   "cell_type": "code",
   "execution_count": 1,
   "metadata": {
    "collapsed": false
   },
   "outputs": [
    {
     "name": "stderr",
     "output_type": "stream",
     "text": [
      "C:\\Program Files\\Docker Toolbox\\docker.exe: An error occurred trying to connect: Post http://%2F%2F.%2Fpipe%2Fdocker_engine/v1.24/containers/create?name=java_sock: open //./pipe/docker_engine: The system cannot find the file specified..\n",
      "See 'C:\\Program Files\\Docker Toolbox\\docker.exe run --help'.\n"
     ]
    }
   ],
   "source": [
    "%%bash\n",
    "\n",
    "docker run -d --name java_sock -p 9000:9000 -v $PWD/code:/javatest iiiedu/socket 9000"
   ]
  },
  {
   "cell_type": "code",
   "execution_count": null,
   "metadata": {
    "collapsed": true
   },
   "outputs": [],
   "source": [
    "###"
   ]
  },
  {
   "cell_type": "markdown",
   "metadata": {
    "collapsed": true
   },
   "source": [
    "https://hub.docker.com/_/tomcat/"
   ]
  },
  {
   "cell_type": "code",
   "execution_count": 1,
   "metadata": {
    "collapsed": false
   },
   "outputs": [
    {
     "ename": "SyntaxError",
     "evalue": "invalid syntax (<ipython-input-1-d50516e20d2b>, line 1)",
     "output_type": "error",
     "traceback": [
      "\u001b[0;36m  File \u001b[0;32m\"<ipython-input-1-d50516e20d2b>\"\u001b[0;36m, line \u001b[0;32m1\u001b[0m\n\u001b[0;31m    docker-machine env default\u001b[0m\n\u001b[0m                     ^\u001b[0m\n\u001b[0;31mSyntaxError\u001b[0m\u001b[0;31m:\u001b[0m invalid syntax\n"
     ]
    }
   ],
   "source": [
    "docker-machine env default"
   ]
  },
  {
   "cell_type": "code",
   "execution_count": 5,
   "metadata": {
    "collapsed": false,
    "scrolled": true
   },
   "outputs": [
    {
     "name": "stdout",
     "output_type": "stream",
     "text": [
      "NAME                              DESCRIPTION                                     STARS     OFFICIAL   AUTOMATED\n",
      "tomcat                            Apache Tomcat is an open source implementa...   1047      [OK]       \n",
      "dordoka/tomcat                    Ubuntu 14.04, Oracle JDK 8 and Tomcat 8 ba...   27                   [OK]\n",
      "consol/tomcat-7.0                 Tomcat 7.0.57, 8080, \"admin/admin\"              16                   [OK]\n",
      "consol/tomcat-8.0                 Tomcat 8.0.15, 8080, \"admin/admin\"              15                   [OK]\n",
      "cloudesire/tomcat                 Tomcat server, 6/7/8                            11                   [OK]\n",
      "davidcaste/alpine-tomcat          Apache Tomcat 7/8 using Oracle Java 7/8 wi...   10                   [OK]\n",
      "andreptb/tomcat                   Debian Jessie based image with Apache Tomc...   6                    [OK]\n",
      "openweb/oracle-tomcat             A fork off of Official tomcat image with O...   4                    [OK]\n",
      "fbrx/tomcat                       Minimal Tomcat image based on Alpine Linux      3                    [OK]\n",
      "kieker/tomcat                                                                     2                    [OK]\n",
      "bitnami/tomcat                    Bitnami Tomcat Docker Image                     1                    [OK]\n",
      "camptocamp/tomcat-logback         Docker image for tomcat with logback integ...   1                    [OK]\n",
      "picoded/tomcat                    tomcat 8 with java 8, and MANAGER_USER / M...   1                    [OK]\n",
      "abzcoding/tomcat-redis            a tomcat container with redis as session m...   1                    [OK]\n",
      "stakater/tomcat                   Tomcat based on Ubuntu 14.04 and Oracle Java    0                    [OK]\n",
      "cheewai/tomcat                    Tomcat and Oracle JRE in docker                 0                    [OK]\n",
      "charlycoste/tomcat                Debian based Tomcat (don't use it, this is...   0                    [OK]\n",
      "ping2ravi/tomcat                  Tomcat Versions 7 and 8                         0                    [OK]\n",
      "blueur/tomcat                     Tomcat with the possibility to set the use...   0                    [OK]\n",
      "davidcaste/debian-tomcat          Yet another Debian Docker image for Tomcat...   0                    [OK]\n",
      "elcom/tomcat                      Tomcat with Java                                0                    [OK]\n",
      "phpmentors/tomcat-app             Tomcat application image using Maven            0                    [OK]\n",
      "oriaks/tomcat                     Tomcat                                          0                    [OK]\n",
      "inspectit/tomcat                  Tomcat with inspectIT                           0                    [OK]\n",
      "rennergabor/virgo-tomcat-server   Docker image for Eclipse Virgo Tomcat Server    0                    [OK]\n"
     ]
    }
   ],
   "source": [
    "%%bash\n",
    "docker search tomcat"
   ]
  },
  {
   "cell_type": "code",
   "execution_count": 4,
   "metadata": {
    "collapsed": false,
    "scrolled": true
   },
   "outputs": [
    {
     "name": "stdout",
     "output_type": "stream",
     "text": [
      "8.0: Pulling from library/tomcat\n",
      "386a066cd84a: Pulling fs layer\n",
      "75ea84187083: Pulling fs layer\n",
      "3e2e387eb26a: Pulling fs layer\n",
      "7c6c48f4275c: Pulling fs layer\n",
      "887691f35f8f: Pulling fs layer\n",
      "bdd1cefebf67: Pulling fs layer\n",
      "598674c5963f: Pulling fs layer\n",
      "cfa880bbc1a2: Pulling fs layer\n",
      "d49a2408af9c: Pulling fs layer\n",
      "5d631463743b: Pulling fs layer\n",
      "be0768fbba94: Pulling fs layer\n",
      "7c6c48f4275c: Waiting\n",
      "887691f35f8f: Waiting\n",
      "bdd1cefebf67: Waiting\n",
      "598674c5963f: Waiting\n",
      "cfa880bbc1a2: Waiting\n",
      "d49a2408af9c: Waiting\n",
      "5d631463743b: Waiting\n",
      "be0768fbba94: Waiting\n",
      "3e2e387eb26a: Verifying Checksum\n",
      "3e2e387eb26a: Download complete\n",
      "7c6c48f4275c: Verifying Checksum\n",
      "7c6c48f4275c: Download complete\n",
      "75ea84187083: Verifying Checksum\n",
      "75ea84187083: Download complete\n",
      "bdd1cefebf67: Verifying Checksum\n",
      "bdd1cefebf67: Download complete\n",
      "598674c5963f: Verifying Checksum\n",
      "598674c5963f: Download complete\n",
      "cfa880bbc1a2: Verifying Checksum\n",
      "cfa880bbc1a2: Download complete\n",
      "d49a2408af9c: Verifying Checksum\n",
      "d49a2408af9c: Download complete\n",
      "5d631463743b: Verifying Checksum\n",
      "5d631463743b: Download complete\n",
      "be0768fbba94: Verifying Checksum\n",
      "be0768fbba94: Download complete\n",
      "386a066cd84a: Verifying Checksum\n",
      "386a066cd84a: Download complete\n",
      "386a066cd84a: Pull complete\n",
      "75ea84187083: Pull complete\n",
      "3e2e387eb26a: Pull complete\n",
      "7c6c48f4275c: Pull complete\n",
      "887691f35f8f: Verifying Checksum\n",
      "887691f35f8f: Download complete\n",
      "887691f35f8f: Pull complete\n",
      "bdd1cefebf67: Pull complete\n",
      "598674c5963f: Pull complete\n",
      "cfa880bbc1a2: Pull complete\n",
      "d49a2408af9c: Pull complete\n",
      "5d631463743b: Pull complete\n",
      "be0768fbba94: Pull complete\n",
      "Digest: sha256:a2d3a9e93a3bce728ac8b5e14052911a36ea1a40ef1f9b1d8203ba88945a2e33\n",
      "Status: Downloaded newer image for tomcat:8.0\n"
     ]
    }
   ],
   "source": [
    "%%bash\n",
    "docker pull tomcat:8.0"
   ]
  },
  {
   "cell_type": "markdown",
   "metadata": {},
   "source": [
    "```bash\n",
    "docker run --rm tomcat:8.0 -P --name mytomcat \n",
    "```"
   ]
  },
  {
   "cell_type": "markdown",
   "metadata": {},
   "source": [
    "the flag --rm: remove the container after finishing the execusion"
   ]
  },
  {
   "cell_type": "markdown",
   "metadata": {},
   "source": [
    "```bash\n",
    "FROM tomcat:8.0\n",
    "MAINTAINER iii education\n",
    "\n",
    "USER root\n",
    "\n",
    "RUN mkdir /usr/local/tomcat/webapps/jsptes\n",
    "WORKDIR /usr/local/tomcat/webapps/jsptest\n",
    "```"
   ]
  },
  {
   "cell_type": "code",
   "execution_count": null,
   "metadata": {
    "collapsed": true
   },
   "outputs": [],
   "source": [
    "docker run -d --name tomcat_jsp -p 8080:8080 -v $PWD/code:/usr/local/tomcat/webaps/jsptest iiiedu/tomcat"
   ]
  },
  {
   "cell_type": "markdown",
   "metadata": {},
   "source": [
    "#### 30.11.2016"
   ]
  },
  {
   "cell_type": "code",
   "execution_count": 1,
   "metadata": {
    "collapsed": false
   },
   "outputs": [
    {
     "name": "stdout",
     "output_type": "stream",
     "text": [
      "Usage: vagrant [options] <command> [<args>]\n",
      "\n",
      "    -v, --version                    Print the version and exit.\n",
      "    -h, --help                       Print this help.\n",
      "\n",
      "Common commands:\n",
      "     box             manages boxes: installation, removal, etc.\n",
      "     connect         connect to a remotely shared Vagrant environment\n",
      "     destroy         stops and deletes all traces of the vagrant machine\n",
      "     global-status   outputs status Vagrant environments for this user\n",
      "     halt            stops the vagrant machine\n",
      "     help            shows the help for a subcommand\n",
      "     init            initializes a new Vagrant environment by creating a Vagrantfile\n",
      "     login           log in to HashiCorp's Atlas\n",
      "     package         packages a running vagrant environment into a box\n",
      "     plugin          manages plugins: install, uninstall, update, etc.\n",
      "     port            displays information about guest port mappings\n",
      "     powershell      connects to machine via powershell remoting\n",
      "     provision       provisions the vagrant machine\n",
      "     push            deploys code in this environment to a configured destination\n",
      "     rdp             connects to machine via RDP\n",
      "     reload          restarts vagrant machine, loads new Vagrantfile configuration\n",
      "     resume          resume a suspended vagrant machine\n",
      "     share           share your Vagrant environment with anyone in the world\n",
      "     snapshot        manages snapshots: saving, restoring, etc.\n",
      "     ssh             connects to machine via SSH\n",
      "     ssh-config      outputs OpenSSH valid configuration to connect to the machine\n",
      "     status          outputs status of the vagrant machine\n",
      "     suspend         suspends the machine\n",
      "     up              starts and provisions the vagrant environment\n",
      "     vbguest         \n",
      "     version         prints current and latest Vagrant version\n",
      "\n",
      "For help on any individual command run `vagrant COMMAND -h`\n",
      "\n",
      "Additional subcommands are available, but are either more advanced\n",
      "or not commonly used. To see all subcommands, run the command\n",
      "`vagrant list-commands`.\n"
     ]
    }
   ],
   "source": [
    "!vagrant --help"
   ]
  },
  {
   "cell_type": "markdown",
   "metadata": {},
   "source": [
    "```bash\n",
    "$ vagrant box add ubuntu/xenial64 ubuntu-xenial64.box\n",
    "==> box: Box file was not detected as metadata. Adding it directly...\n",
    "==> box: Adding box 'ubuntu/xenial64' (v0) for provider:\n",
    "    box: Unpacking necessary files from: file://C:/Users/Student/ubuntu-xenial64.box\n",
    "    box:\n",
    "==> box: Successfully added box 'ubuntu/xenial64' (v0) for 'virtualbox'!\n",
    "    ```"
   ]
  },
  {
   "cell_type": "code",
   "execution_count": 11,
   "metadata": {
    "collapsed": false
   },
   "outputs": [
    {
     "name": "stdout",
     "output_type": "stream",
     "text": [
      "==> box: Box file was not detected as metadata. Adding it directly...\r\n",
      "==> box: Adding box 'iiiedu/xenial64' (v0) for provider: \r\n",
      "    box: Unpacking necessary files from: file://C:/Users/Student/ubuntu-xenial64.box\r\n",
      "\r",
      "\u001b[K    box: Progress: 0% (Rate: 0/s, Estimated time remaining: --:--:--)\r",
      "\u001b[K    box: Progress: 100% (Rate: 947M/s, Estimated time remaining: --:--:--)\r",
      "\u001b[K    box: \r\n",
      "==> box: Successfully added box 'iiiedu/xenial64' (v0) for 'virtualbox'!\r\n"
     ]
    }
   ],
   "source": [
    "%%bash\n",
    "cd ~/\n",
    "vagrant box add iiiedu/xenial64 ubuntu-xenial64.box"
   ]
  },
  {
   "cell_type": "code",
   "execution_count": 12,
   "metadata": {
    "collapsed": false
   },
   "outputs": [
    {
     "name": "stdout",
     "output_type": "stream",
     "text": [
      "iiiedu/xenial64 (virtualbox, 0)\n"
     ]
    }
   ],
   "source": [
    "!vagrant box list"
   ]
  },
  {
   "cell_type": "code",
   "execution_count": 15,
   "metadata": {
    "collapsed": false
   },
   "outputs": [
    {
     "name": "stdout",
     "output_type": "stream",
     "text": [
      "A `Vagrantfile` has been placed in this directory. You are now\r\n",
      "ready to `vagrant up` your first virtual environment! Please read\r\n",
      "the comments in the Vagrantfile as well as documentation on\r\n",
      "`vagrantup.com` for more information on using Vagrant.\r\n"
     ]
    }
   ],
   "source": [
    "%%bash\n",
    "cd ~/\n",
    "mkdir demo\n",
    "cd demo\n",
    "vagrant init iiiedu/xenial64 "
   ]
  },
  {
   "cell_type": "code",
   "execution_count": 16,
   "metadata": {
    "collapsed": false,
    "scrolled": true
   },
   "outputs": [
    {
     "name": "stdout",
     "output_type": "stream",
     "text": [
      "# -*- mode: ruby -*-\r\n",
      "# vi: set ft=ruby :\r\n",
      "\r\n",
      "# All Vagrant configuration is done below. The \"2\" in Vagrant.configure\r\n",
      "# configures the configuration version (we support older styles for\r\n",
      "# backwards compatibility). Please don't change it unless you know what\r\n",
      "# you're doing.\r\n",
      "Vagrant.configure(\"2\") do |config|\r\n",
      "  # The most common configuration options are documented and commented below.\r\n",
      "  # For a complete reference, please see the online documentation at\r\n",
      "  # https://docs.vagrantup.com.\r\n",
      "\r\n",
      "  # Every Vagrant development environment requires a box. You can search for\r\n",
      "  # boxes at https://atlas.hashicorp.com/search.\r\n",
      "  config.vm.box = \"iiiedu/xenial64\"\r\n",
      "\r\n",
      "  # Disable automatic box update checking. If you disable this, then\r\n",
      "  # boxes will only be checked for updates when the user runs\r\n",
      "  # `vagrant box outdated`. This is not recommended.\r\n",
      "  # config.vm.box_check_update = false\r\n",
      "\r\n",
      "  # Create a forwarded port mapping which allows access to a specific port\r\n",
      "  # within the machine from a port on the host machine. In the example below,\r\n",
      "  # accessing \"localhost:8080\" will access port 80 on the guest machine.\r\n",
      "  # config.vm.network \"forwarded_port\", guest: 80, host: 8080\r\n",
      "\r\n",
      "  # Create a private network, which allows host-only access to the machine\r\n",
      "  # using a specific IP.\r\n",
      "  # config.vm.network \"private_network\", ip: \"192.168.33.10\"\r\n",
      "\r\n",
      "  # Create a public network, which generally matched to bridged network.\r\n",
      "  # Bridged networks make the machine appear as another physical device on\r\n",
      "  # your network.\r\n",
      "  # config.vm.network \"public_network\"\r\n",
      "\r\n",
      "  # Share an additional folder to the guest VM. The first argument is\r\n",
      "  # the path on the host to the actual folder. The second argument is\r\n",
      "  # the path on the guest to mount the folder. And the optional third\r\n",
      "  # argument is a set of non-required options.\r\n",
      "  # config.vm.synced_folder \"../data\", \"/vagrant_data\"\r\n",
      "\r\n",
      "  # Provider-specific configuration so you can fine-tune various\r\n",
      "  # backing providers for Vagrant. These expose provider-specific options.\r\n",
      "  # Example for VirtualBox:\r\n",
      "  #\r\n",
      "  # config.vm.provider \"virtualbox\" do |vb|\r\n",
      "  #   # Display the VirtualBox GUI when booting the machine\r\n",
      "  #   vb.gui = true\r\n",
      "  #\r\n",
      "  #   # Customize the amount of memory on the VM:\r\n",
      "  #   vb.memory = \"1024\"\r\n",
      "  # end\r\n",
      "  #\r\n",
      "  # View the documentation for the provider you are using for more\r\n",
      "  # information on available options.\r\n",
      "\r\n",
      "  # Define a Vagrant Push strategy for pushing to Atlas. Other push strategies\r\n",
      "  # such as FTP and Heroku are also available. See the documentation at\r\n",
      "  # https://docs.vagrantup.com/v2/push/atlas.html for more information.\r\n",
      "  # config.push.define \"atlas\" do |push|\r\n",
      "  #   push.app = \"YOUR_ATLAS_USERNAME/YOUR_APPLICATION_NAME\"\r\n",
      "  # end\r\n",
      "\r\n",
      "  # Enable provisioning with a shell script. Additional provisioners such as\r\n",
      "  # Puppet, Chef, Ansible, Salt, and Docker are also available. Please see the\r\n",
      "  # documentation for more information about their specific syntax and use.\r\n",
      "  # config.vm.provision \"shell\", inline: <<-SHELL\r\n",
      "  #   apt-get update\r\n",
      "  #   apt-get install -y apache2\r\n",
      "  # SHELL\r\n",
      "end\r\n"
     ]
    }
   ],
   "source": [
    "%%bash\n",
    "cat ~/demo/Vagrantfile"
   ]
  },
  {
   "cell_type": "code",
   "execution_count": 17,
   "metadata": {
    "collapsed": false
   },
   "outputs": [
    {
     "name": "stdout",
     "output_type": "stream",
     "text": [
      "Bringing machine 'default' up with 'virtualbox' provider...\r\n",
      "==> default: Importing base box 'iiiedu/xenial64'...\r\n",
      "\r",
      "\u001b[KProgress: 90%\r",
      "\u001b[K==> default: Matching MAC address for NAT networking...\r\n",
      "==> default: Setting the name of the VM: demo_default_1480475976997_90807\r\n",
      "==> default: Clearing any previously set network interfaces...\r\n",
      "==> default: Preparing network interfaces based on configuration...\r\n",
      "    default: Adapter 1: nat\r\n",
      "==> default: Forwarding ports...\r\n",
      "    default: 22 (guest) => 2222 (host) (adapter 1)\r\n",
      "==> default: Booting VM...\r\n"
     ]
    },
    {
     "name": "stderr",
     "output_type": "stream",
     "text": [
      "There was an error while executing `VBoxManage`, a CLI used by Vagrant\r\n",
      "for controlling VirtualBox. The command and stderr is shown below.\r\n",
      "\r\n",
      "Command: [\"startvm\", \"050c8004-25fd-4055-8c26-63d6919bf5e0\", \"--type\", \"headless\"]\r\n",
      "\r\n",
      "Stderr: VBoxManage.exe: error: RawFile#0 failed to create the raw output file C:/Users/admin/demo/ubuntu-xenial-16.04-cloudimg-console.log (VERR_PATH_NOT_FOUND)\r",
      "\r\n",
      "VBoxManage.exe: error: Details: code E_FAIL (0x80004005), component ConsoleWrap, interface IConsole\r",
      "\r\n"
     ]
    }
   ],
   "source": [
    "%%bash\n",
    "cd ~/demo\n",
    "vagrant up"
   ]
  },
  {
   "cell_type": "code",
   "execution_count": null,
   "metadata": {
    "collapsed": true
   },
   "outputs": [],
   "source": []
  }
 ],
 "metadata": {
  "anaconda-cloud": {},
  "kernelspec": {
   "display_name": "Python [Root]",
   "language": "python",
   "name": "Python [Root]"
  },
  "language_info": {
   "codemirror_mode": {
    "name": "ipython",
    "version": 2
   },
   "file_extension": ".py",
   "mimetype": "text/x-python",
   "name": "python",
   "nbconvert_exporter": "python",
   "pygments_lexer": "ipython2",
   "version": "2.7.12"
  }
 },
 "nbformat": 4,
 "nbformat_minor": 1
}
